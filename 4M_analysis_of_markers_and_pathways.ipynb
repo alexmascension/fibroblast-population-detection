{
 "cells": [
  {
   "cell_type": "markdown",
   "metadata": {},
   "source": [
    "# Obtaining robust cell population markers, and redefining/reassuring the biased cell populations\n",
    "\n",
    "**TO RUN THIS NOTEBOOK YOU HAVE TO RUN 3H NOTEBOOK FULLY!!!**"
   ]
  },
  {
   "cell_type": "markdown",
   "metadata": {},
   "source": [
    "## imports"
   ]
  },
  {
   "cell_type": "code",
   "execution_count": null,
   "metadata": {
    "tags": []
   },
   "outputs": [],
   "source": [
    "%load_ext autoreload\n",
    "%autoreload 2"
   ]
  },
  {
   "cell_type": "code",
   "execution_count": null,
   "metadata": {
    "tags": []
   },
   "outputs": [],
   "source": [
    "import scanpy as sc\n",
    "import scanpy.external as sce\n",
    "import pandas as pd\n",
    "import numpy as np\n",
    "import os\n",
    "import triku as tk\n",
    "import seaborn as sns\n",
    "import matplotlib.pyplot as plt\n",
    "import matplotlib as mpl\n",
    "from tqdm.notebook import tqdm\n",
    "import scipy.sparse as spr\n",
    "import matplotlib.cm as cm\n",
    "import networkx as nx"
   ]
  },
  {
   "cell_type": "code",
   "execution_count": null,
   "metadata": {
    "tags": []
   },
   "outputs": [],
   "source": [
    "!pip install cellassign"
   ]
  },
  {
   "cell_type": "code",
   "execution_count": null,
   "metadata": {
    "tags": []
   },
   "outputs": [],
   "source": [
    "# local imports and imports from other notebooks\n",
    "from cellassign import assign_cats\n",
    "from fb_functions import make_gene_scoring_with_expr, plot_score_graph, plot_UMAPS_gene, plot_adata_cluster_properties\n",
    "%store -r dict_colors_mouse\n",
    "%store -r seed\n",
    "%store -r magma\n",
    "%store -r data_dir"
   ]
  },
  {
   "cell_type": "code",
   "execution_count": null,
   "metadata": {
    "tags": []
   },
   "outputs": [],
   "source": [
    "mpl.rcParams['figure.dpi'] = 120\n",
    "pd.options.display.float_format = \"{:,.2f}\".format"
   ]
  },
  {
   "cell_type": "markdown",
   "metadata": {},
   "source": [
    "**IMPORTANT: I am running this analysis in a computer with ~500 GB of RAM. I will load many datasets at once, which might be too much for some computers. I took this decision conciously, to have as much info available at any time as possible. If you cannot run all the analysis at once, you can run it by parts.**"
   ]
  },
  {
   "cell_type": "markdown",
   "metadata": {},
   "source": [
    "## Anndata loading"
   ]
  },
  {
   "cell_type": "code",
   "execution_count": null,
   "metadata": {
    "tags": []
   },
   "outputs": [],
   "source": [
    "abbasi_2020_dir = data_dir + '/abassi_2020'\n",
    "abassi_2020_ctrl_mouse = sc.read(f\"{abbasi_2020_dir}/abassi_2020_ctrl_mouse_processed.h5\")\n",
    "abassi_2020_ctrl_mouse_fb = sc.read(f\"{abbasi_2020_dir}/abassi_2020_ctrl_mouse_fb_robust.h5\")"
   ]
  },
  {
   "cell_type": "code",
   "execution_count": null,
   "metadata": {
    "tags": []
   },
   "outputs": [],
   "source": [
    "boothby_2021_dir = data_dir + '/boothby_2021'\n",
    "boothby_2021_ctrl_mouse = sc.read(boothby_2021_dir + '/boothby_2021_ctrl_mouse_processed.h5')\n",
    "boothby_2021_ctrl_mouse_fb = sc.read(boothby_2021_dir + '/boothby_2021_ctrl_mouse_fb_robust.h5')"
   ]
  },
  {
   "cell_type": "code",
   "execution_count": null,
   "metadata": {
    "tags": []
   },
   "outputs": [],
   "source": [
    "buechler_2021_dir = data_dir + '/buechler_2021'\n",
    "buechler_2021_ctrl_mouse = sc.read(buechler_2021_dir + '/buechler_2021_ctrl_mouse_processed.h5')\n",
    "buechler_2021_ctrl_mouse_fb = sc.read(buechler_2021_dir + '/buechler_2021_ctrl_mouse_fb_robust.h5')"
   ]
  },
  {
   "cell_type": "code",
   "execution_count": null,
   "metadata": {
    "tags": []
   },
   "outputs": [],
   "source": [
    "haensel_2021_dir = data_dir + '/haensel_2021'\n",
    "haensel_2021_ctrl_mouse_wounding = sc.read(haensel_2021_dir + '/haensel_2021_ctrl_mouse_wounding_processed.h5')\n",
    "haensel_2021_ctrl_mouse_wounding_fb = sc.read(haensel_2021_dir + '/haensel_2021_ctrl_mouse_wounding_fb_robust.h5')"
   ]
  },
  {
   "cell_type": "code",
   "execution_count": null,
   "metadata": {
    "tags": []
   },
   "outputs": [],
   "source": [
    "joost_2020_dir = data_dir + '/joost_2020'\n",
    "joost_2020_ctrl_mouse = sc.read(joost_2020_dir + '/joost_2020_ctrl_mouse_processed.h5')\n",
    "joost_2020_ctrl_mouse_fb = sc.read(joost_2020_dir + '/joost_2020_ctrl_mouse_fb_robust.h5')"
   ]
  },
  {
   "cell_type": "code",
   "execution_count": null,
   "metadata": {
    "tags": []
   },
   "outputs": [],
   "source": [
    "phan_2020_dir = data_dir + '/phan_2020'\n",
    "phan_2020_ctrl_mouse_21d = sc.read(f\"{phan_2020_dir}/phan_2020_ctrl_mouse_21d_processed.h5\")\n",
    "phan_2020_ctrl_mouse_21d_fb = sc.read(f\"{phan_2020_dir}/phan_2020_ctrl_mouse_21d_fb_robust.h5\")"
   ]
  },
  {
   "cell_type": "code",
   "execution_count": null,
   "metadata": {
    "tags": []
   },
   "outputs": [],
   "source": [
    "shook_2020_dir = data_dir + '/shook_2020'\n",
    "shook_2020_ctrl_mouse = sc.read(f\"{shook_2020_dir}/shook_2020_ctrl_mouse_processed.h5\")\n",
    "shook_2020_ctrl_mouse_fb = sc.read(f\"{shook_2020_dir}/shook_2020_ctrl_mouse_fb_robust.h5\")"
   ]
  },
  {
   "cell_type": "code",
   "execution_count": null,
   "metadata": {
    "tags": []
   },
   "outputs": [],
   "source": [
    "vorstandlechner_2021_dir = data_dir + '/Vorstandlechner_2021'\n",
    "vorstandlechner_2021_ctrl_mouse = sc.read(f\"{vorstandlechner_2021_dir}/vorstandlechner_2021_ctrl_mouse_processed.h5\")\n",
    "vorstandlechner_2021_ctrl_mouse_fb = sc.read(f\"{vorstandlechner_2021_dir}/vorstandlechner_2021_ctrl_mouse_fb_robust.h5\")"
   ]
  },
  {
   "cell_type": "markdown",
   "metadata": {},
   "source": [
    "# Geting the definitive list of genes\n",
    "This is not *really* definitive. We use the produced markers to later on, in the analysis table (not in notebooks) do a selection based on gene function, or pattern of expression. The *final* list is in the variable **genes** below."
   ]
  },
  {
   "cell_type": "code",
   "execution_count": null,
   "metadata": {
    "tags": []
   },
   "outputs": [],
   "source": [
    "%store -r list_all_datasets_mouse\n",
    "%store -r list_datasets_mouse\n",
    "\n",
    "%store -r list_accepted_clusters_mouse\n",
    "%store -r list_accepted_axis_mouse\n",
    "%store -r list_names_mouse"
   ]
  },
  {
   "cell_type": "code",
   "execution_count": null,
   "metadata": {
    "tags": []
   },
   "outputs": [],
   "source": [
    "list_names_mouse"
   ]
  },
  {
   "cell_type": "code",
   "execution_count": null,
   "metadata": {
    "scrolled": true,
    "tags": []
   },
   "outputs": [],
   "source": [
    "dict_make_gene_scoring_cluster_robust_mouse = make_gene_scoring_with_expr(list_datasets=list_datasets_mouse, calculate_DEGs = True, group_name = 'cluster_robust', \n",
    "                                                     value_ref = 'scores', select_method = 'pval', \n",
    "                                                     list_clusters = list_accepted_clusters_mouse,\n",
    "                                                     select_thres = 0.05)"
   ]
  },
  {
   "cell_type": "code",
   "execution_count": null,
   "metadata": {
    "tags": []
   },
   "outputs": [],
   "source": [
    "dict_make_gene_scoring_axis_robust_mouse = make_gene_scoring_with_expr(list_datasets=list_datasets_mouse, calculate_DEGs = True, group_name = 'axis_robust',\n",
    "                                                     value_ref = 'scores', select_method = 'pval', select_thres = 0.05, \n",
    "                                                         list_clusters =list_accepted_axis_mouse,)"
   ]
  },
  {
   "cell_type": "code",
   "execution_count": null,
   "metadata": {
    "tags": []
   },
   "outputs": [],
   "source": [
    "%store dict_make_gene_scoring_cluster_robust_mouse\n",
    "%store dict_make_gene_scoring_axis_robust_mouse"
   ]
  },
  {
   "cell_type": "code",
   "execution_count": null,
   "metadata": {
    "tags": []
   },
   "outputs": [],
   "source": [
    "dict_make_gene_scoring_cluster_robust_mouse['a1'].iloc[:40].sort_index()"
   ]
  },
  {
   "cell_type": "code",
   "execution_count": null,
   "metadata": {
    "tags": []
   },
   "outputs": [],
   "source": [
    "dict_make_gene_scoring_cluster_robust_mouse['a2'].iloc[:40].sort_index()"
   ]
  },
  {
   "cell_type": "code",
   "execution_count": null,
   "metadata": {
    "tags": []
   },
   "outputs": [],
   "source": [
    "dict_make_gene_scoring_cluster_robust_mouse['a/d'].iloc[:40].sort_index()"
   ]
  },
  {
   "cell_type": "code",
   "execution_count": null,
   "metadata": {
    "tags": []
   },
   "outputs": [],
   "source": [
    "dict_make_gene_scoring_cluster_robust_mouse['b1'].iloc[:40].sort_index()"
   ]
  },
  {
   "cell_type": "code",
   "execution_count": null,
   "metadata": {
    "tags": []
   },
   "outputs": [],
   "source": [
    "dict_make_gene_scoring_cluster_robust_mouse['b2'].iloc[:40].sort_index()"
   ]
  },
  {
   "cell_type": "code",
   "execution_count": null,
   "metadata": {
    "tags": []
   },
   "outputs": [],
   "source": [
    "dict_make_gene_scoring_cluster_robust_mouse['b3'].iloc[:40].sort_index()"
   ]
  },
  {
   "cell_type": "code",
   "execution_count": null,
   "metadata": {
    "tags": []
   },
   "outputs": [],
   "source": [
    "dict_make_gene_scoring_cluster_robust_mouse['b4'].iloc[:40].sort_index()"
   ]
  },
  {
   "cell_type": "code",
   "execution_count": null,
   "metadata": {
    "tags": []
   },
   "outputs": [],
   "source": [
    "dict_make_gene_scoring_cluster_robust_mouse['b5'].iloc[:40].sort_index()"
   ]
  },
  {
   "cell_type": "code",
   "execution_count": null,
   "metadata": {
    "tags": []
   },
   "outputs": [],
   "source": [
    "dict_make_gene_scoring_cluster_robust_mouse['b6'].iloc[:40].sort_index()"
   ]
  },
  {
   "cell_type": "code",
   "execution_count": null,
   "metadata": {
    "tags": []
   },
   "outputs": [],
   "source": [
    "dict_make_gene_scoring_cluster_robust_mouse['b/c'].iloc[:40].sort_index()"
   ]
  },
  {
   "cell_type": "code",
   "execution_count": null,
   "metadata": {
    "tags": []
   },
   "outputs": [],
   "source": [
    "dict_make_gene_scoring_cluster_robust_mouse['c1'].iloc[:40].sort_index()"
   ]
  },
  {
   "cell_type": "code",
   "execution_count": null,
   "metadata": {
    "tags": []
   },
   "outputs": [],
   "source": [
    "dict_make_gene_scoring_cluster_robust_mouse['c2'].iloc[:40].sort_index()"
   ]
  },
  {
   "cell_type": "code",
   "execution_count": null,
   "metadata": {
    "tags": []
   },
   "outputs": [],
   "source": [
    "dict_make_gene_scoring_cluster_robust_mouse['c/d'].iloc[:40].sort_index()"
   ]
  },
  {
   "cell_type": "code",
   "execution_count": null,
   "metadata": {
    "tags": []
   },
   "outputs": [],
   "source": [
    "dict_make_gene_scoring_cluster_robust_mouse['d1'].iloc[:40].sort_index()"
   ]
  },
  {
   "cell_type": "code",
   "execution_count": null,
   "metadata": {
    "tags": []
   },
   "outputs": [],
   "source": [
    "dict_make_gene_scoring_cluster_robust_mouse['d2'].iloc[:40].sort_index()"
   ]
  },
  {
   "cell_type": "code",
   "execution_count": null,
   "metadata": {
    "tags": []
   },
   "outputs": [],
   "source": [
    "dict_make_gene_scoring_cluster_robust_mouse['d3'].iloc[:40].sort_index()"
   ]
  },
  {
   "cell_type": "code",
   "execution_count": null,
   "metadata": {
    "tags": []
   },
   "outputs": [],
   "source": [
    "dict_make_gene_scoring_cluster_robust_mouse['e1'].iloc[:40].sort_index()"
   ]
  },
  {
   "cell_type": "markdown",
   "metadata": {},
   "source": [
    "## Analyse the presence and expression pattern of marker genes (within fibroblast populations)\n",
    "\n",
    "In this section we will plot UMAPs and dot plots of expression patterns of gene markers. This is useful because many gene markers tend to be markers of few clusters based on DE analysis but, in reality, they are also expressed in other clusters which might need to be considered."
   ]
  },
  {
   "cell_type": "code",
   "execution_count": null,
   "metadata": {
    "tags": []
   },
   "outputs": [],
   "source": [
    "def make_dicts_fraction_mean(genes, list_all_datasets_mouse, list_accepted_clusters_mouse, clusterby='cluster_robust'):\n",
    "    dict_fraction_cells = {gene: pd.DataFrame(np.nan, index=list_names_mouse, columns=list_accepted_clusters_mouse) for gene in genes}\n",
    "    dict_mean_exp = {gene: pd.DataFrame(np.nan, index=list_names_mouse, columns=list_accepted_clusters_mouse) for gene in genes}\n",
    "\n",
    "    for adata, name in zip(list_all_datasets_mouse, list_names_mouse):\n",
    "        genes_sub = [i for i in genes if i in adata.var_names]\n",
    "        for cluster in set(adata.obs[clusterby]):\n",
    "            counts = adata[adata.obs[clusterby] == cluster][:, genes_sub].X.toarray().copy()\n",
    "            counts_frac = (counts > 0).sum(0) / counts.shape[0]\n",
    "            counts[counts == 0] = np.nan\n",
    "            counts_mean_exp = np.nanmean(counts, 0)\n",
    "\n",
    "            for idx, gene in enumerate(genes_sub):\n",
    "                dict_fraction_cells[gene].loc[name, cluster] = counts_frac[idx]\n",
    "                dict_mean_exp[gene].loc[name, cluster] = counts_mean_exp[idx]\n",
    "\n",
    "    for gene in genes:\n",
    "        dict_fraction_cells_mean, dict_fraction_cells_std =  dict_fraction_cells[gene].mean(),  dict_fraction_cells[gene].std()\n",
    "        dict_mean_exp_mean, dict_mean_exp_std =  dict_mean_exp[gene].mean(),  dict_mean_exp[gene].std()\n",
    "\n",
    "        dict_fraction_cells[gene].loc['Mean'] = dict_fraction_cells_mean\n",
    "        dict_fraction_cells[gene].loc['Std'] = dict_fraction_cells_std\n",
    "        dict_mean_exp[gene].loc['Mean'] = dict_mean_exp_mean\n",
    "        dict_mean_exp[gene].loc['Std'] = dict_mean_exp_std\n",
    "\n",
    "        dict_fraction_cells[gene] = dict_fraction_cells[gene][list_accepted_clusters_mouse]\n",
    "        dict_mean_exp[gene] = dict_mean_exp[gene][list_accepted_clusters_mouse]\n",
    "    \n",
    "    return dict_fraction_cells, dict_mean_exp"
   ]
  },
  {
   "cell_type": "code",
   "execution_count": null,
   "metadata": {
    "tags": []
   },
   "outputs": [],
   "source": [
    "def plot_dotplot_gene(gene, dict_fraction_cells, dict_mean_exp, rotate=False):\n",
    "    dfplot_frac = dict_fraction_cells[gene] ** 0.66\n",
    "    dfplot_exp = dict_mean_exp[gene] \n",
    "    exp_norm_vals = (dfplot_exp.loc['Mean'] - min(dfplot_exp.loc['Mean'])) / (max(dfplot_exp.loc['Mean']) - min(dfplot_exp.loc['Mean']))\n",
    "    fig, ax = plt.subplots(1, 1, figsize=(10, 1))\n",
    "    ax.set_xticks(range(len(dfplot_frac.columns)))\n",
    "    \n",
    "    if rotate:\n",
    "        ax.set_xticklabels(dfplot_frac.columns, rotation=40, ha='right')\n",
    "    else:\n",
    "        ax.set_xticklabels(dfplot_frac.columns)\n",
    "    \n",
    "    ax.set_yticks([0])\n",
    "    ax.set_yticklabels([gene])\n",
    "    ax.set_ylim([-0.1, 0.1])\n",
    "    plt.scatter(range(len(dfplot_frac.columns)), [0] * len(dfplot_frac.columns), s=dfplot_frac.loc['Mean'] * 550, c=[cm.OrRd(i) for i in exp_norm_vals], \n",
    "                linewidths=0.5, edgecolor='#878787', alpha = [max(0, i) for i in 1 - dict_fraction_cells[gene].loc['Std'] ** 0.75])\n",
    "    \n",
    "    plt.plot([-0.3, len(dfplot_frac.columns) - 0.3], [0, 0], c=\"#676767\", linewidth=0.7, alpha=0.3)\n",
    "    plt.plot([-0.3, len(dfplot_frac.columns) - 0.3], [0.025, 0.025], c=\"#676767\", linewidth=0.7, alpha=0.3)\n",
    "    plt.plot([-0.3, len(dfplot_frac.columns) - 0.3], [-0.025, -0.025], c=\"#676767\", linewidth=0.7, alpha=0.3)"
   ]
  },
  {
   "cell_type": "code",
   "execution_count": null,
   "metadata": {
    "tags": []
   },
   "outputs": [],
   "source": [
    "genes = sorted(list(set([TO BE ADDED])))"
   ]
  },
  {
   "cell_type": "markdown",
   "metadata": {},
   "source": [
    "To create the dot plot we will use two variables: the percentage of cells expressing the marker in each cluster, and the mean expression value of the expressing-cells in each cluster. To do that, we will create a df for each case and gene, compile the info for each adata and get the mean/std across the adatas. If one gene is not expressed in an adata, or the adata does not have a certain cluster, the value registered is a NaN, not zero. "
   ]
  },
  {
   "cell_type": "code",
   "execution_count": null,
   "metadata": {
    "tags": []
   },
   "outputs": [],
   "source": [
    "plot_UMAPS_gene('cluster_robust', list_datasets_mouse=list_all_datasets_mouse, list_names_mouse=list_names_mouse)"
   ]
  },
  {
   "cell_type": "code",
   "execution_count": null,
   "metadata": {
    "tags": []
   },
   "outputs": [],
   "source": [
    "plot_UMAPS_gene('cluster_robust', list_datasets_mouse=list_all_datasets_mouse, list_names_mouse=list_names_mouse)"
   ]
  },
  {
   "cell_type": "code",
   "execution_count": null,
   "metadata": {
    "tags": []
   },
   "outputs": [],
   "source": [
    "dict_fraction_cells, dict_mean_exp = make_dicts_fraction_mean(genes, list_all_datasets_mouse, list_accepted_clusters_mouse, clusterby='cluster_robust')"
   ]
  },
  {
   "cell_type": "markdown",
   "metadata": {},
   "source": [
    "To do the dotplot we do some adjustments. We adjust the fraction of cells beign expressed to $x^{2/3}$ to make it slightly more visual. We also apply a alpha of 1 - std(fraction of cells) to account for markers that are expressed in disparily, so that they are visually not that relevant.\n"
   ]
  },
  {
   "cell_type": "code",
   "execution_count": null,
   "metadata": {
    "tags": []
   },
   "outputs": [],
   "source": [
    "for gene in genes:\n",
    "    print(gene)\n",
    "    plot_dotplot_gene(gene, dict_fraction_cells, dict_mean_exp)\n",
    "    plot_UMAPS_gene(gene, list_datasets_mouse=list_all_datasets_mouse, list_names_mouse=list_names_mouse, n_cols=5, n_rows=5)\n",
    "    plt.show()"
   ]
  },
  {
   "cell_type": "markdown",
   "metadata": {},
   "source": [
    "## Analyse the presence and expression pattern of marker genes (within all populations)\n",
    "\n",
    "In this section we will plot UMAPs and dot plots of expression patterns of gene markers. This is useful because many gene markers tend to be markers of few clusters based on DE analysis but, in reality, they are also expressed in other clusters which might need to be considered."
   ]
  },
  {
   "cell_type": "code",
   "execution_count": null,
   "metadata": {
    "tags": []
   },
   "outputs": [],
   "source": [
    "list_accepted_clusters_mouse_full = [TO BE ADDED]"
   ]
  },
  {
   "cell_type": "code",
   "execution_count": null,
   "metadata": {
    "tags": []
   },
   "outputs": [],
   "source": [
    "list_all_datasets_mouse_full = [ahlers_2022_young, boothby_2021_ctrl_mouse, \n",
    "                         deng_2021_scar, gao_2021_ctrl_mouse, gaydosik_2020_ctrl_mouse, gur_2022_ctrl_mouse, \n",
    "                         he_2020_ctrl_mouse, hughes_2020_ctrl_mouse, kim_2020_ctrl_mouse, \n",
    "                         liu_2021_ctrl_mouse, mariottoni_2021_ctrl_mouse,\n",
    "                         mirizio_2020_scl, rindler_2021_ctrl_mouse,\n",
    "                         sole_2020_young, tabib_2021_ctrl_mouse,\n",
    "                         theo_2020_ctrl_mouse_dm, theo_2021_ctrl_mouse,\n",
    "                         vors_2020_ctrl_mouse, vors_2021_ctrl_mouse, xu_2021_ctrl_mouse]\n",
    "\n",
    "list_names_mouse_full = [adata.obs['Author'].values[0] + ' ' + str(int(adata.obs['Year'].values[0])) for adata in list_all_datasets_mouse_full]"
   ]
  },
  {
   "cell_type": "code",
   "execution_count": null,
   "metadata": {},
   "outputs": [],
   "source": [
    "%store list_all_datasets_mouse_full"
   ]
  },
  {
   "cell_type": "code",
   "execution_count": null,
   "metadata": {
    "tags": []
   },
   "outputs": [],
   "source": [
    "plot_UMAPS_gene('assigned_cats', list_datasets_mouse=list_all_datasets_mouse_full, list_names_mouse=list_names_mouse_full)"
   ]
  },
  {
   "cell_type": "code",
   "execution_count": null,
   "metadata": {
    "tags": []
   },
   "outputs": [],
   "source": [
    "genes = [TO BE ADDED]"
   ]
  },
  {
   "cell_type": "code",
   "execution_count": null,
   "metadata": {
    "tags": []
   },
   "outputs": [],
   "source": [
    "dict_fraction_cells_full, dict_mean_exp_full = make_dicts_fraction_mean(genes, list_all_datasets_mouse_full, list_accepted_clusters_mouse_full, clusterby='assigned_cats')"
   ]
  },
  {
   "cell_type": "code",
   "execution_count": null,
   "metadata": {
    "tags": []
   },
   "outputs": [],
   "source": [
    "for gene in genes:\n",
    "    print(gene)\n",
    "    plot_dotplot_gene(gene, dict_fraction_cells_full, dict_mean_exp_full, rotate=True)\n",
    "    plot_UMAPS_gene(gene, list_datasets_mouse=list_all_datasets_mouse_full, list_names_mouse=list_names_mouse, n_cols=5, n_rows=5)\n",
    "    plt.show()"
   ]
  },
  {
   "cell_type": "code",
   "execution_count": null,
   "metadata": {},
   "outputs": [],
   "source": []
  }
 ],
 "metadata": {
  "kernelspec": {
   "display_name": "Python [conda env:triku-notebooks]",
   "language": "python",
   "name": "conda-env-triku-notebooks-py"
  },
  "language_info": {
   "codemirror_mode": {
    "name": "ipython",
    "version": 3
   },
   "file_extension": ".py",
   "mimetype": "text/x-python",
   "name": "python",
   "nbconvert_exporter": "python",
   "pygments_lexer": "ipython3",
   "version": "3.8.0"
  },
  "toc": {
   "base_numbering": 1,
   "nav_menu": {},
   "number_sections": true,
   "sideBar": true,
   "skip_h1_title": false,
   "title_cell": "Table of Contents",
   "title_sidebar": "Contents",
   "toc_cell": false,
   "toc_position": {
    "height": "calc(100% - 180px)",
    "left": "10px",
    "top": "150px",
    "width": "384px"
   },
   "toc_section_display": true,
   "toc_window_display": true
  },
  "varInspector": {
   "cols": {
    "lenName": 16,
    "lenType": 16,
    "lenVar": 40
   },
   "kernels_config": {
    "python": {
     "delete_cmd_postfix": "",
     "delete_cmd_prefix": "del ",
     "library": "var_list.py",
     "varRefreshCmd": "print(var_dic_list())"
    },
    "r": {
     "delete_cmd_postfix": ") ",
     "delete_cmd_prefix": "rm(",
     "library": "var_list.r",
     "varRefreshCmd": "cat(var_dic_list()) "
    }
   },
   "types_to_exclude": [
    "module",
    "function",
    "builtin_function_or_method",
    "instance",
    "_Feature"
   ],
   "window_display": false
  }
 },
 "nbformat": 4,
 "nbformat_minor": 4
}

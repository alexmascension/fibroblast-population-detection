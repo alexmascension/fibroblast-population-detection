{
 "cells": [
  {
   "cell_type": "markdown",
   "id": "religious-seafood",
   "metadata": {},
   "source": [
    "# Data extraction\n",
    "\n",
    "In this notebook we are going to extract the raw or processed data from all datasets, to later analyze it in different notebooks."
   ]
  },
  {
   "cell_type": "code",
   "execution_count": null,
   "id": "micro-currency",
   "metadata": {},
   "outputs": [],
   "source": [
    "import matplotlib as mpl\n",
    "import matplotlib.pyplot as plt\n",
    "import mygene\n",
    "import numpy as np\n",
    "import os\n",
    "import pandas as pd\n",
    "import scanpy as sc\n",
    "import scanpy.external as sce\n",
    "from tqdm.notebook import tqdm\n",
    "import triku as tk\n",
    "pd.set_option('display.max_columns', None)"
   ]
  },
  {
   "cell_type": "code",
   "execution_count": null,
   "id": "dcf67bbb-74b8-45cb-ab50-c7cd84e371c8",
   "metadata": {},
   "outputs": [],
   "source": [
    "from cellassign import assign_cats"
   ]
  },
  {
   "cell_type": "code",
   "execution_count": null,
   "id": "9d89ffd1-4827-447b-8825-12f53628cd78",
   "metadata": {},
   "outputs": [],
   "source": [
    "# Palettes for UMAP gene expression\n",
    "\n",
    "magma = [plt.get_cmap('magma')(i) for i in np.linspace(0,1, 80)]\n",
    "magma[0] = (0.88, 0.88, 0.88, 1)\n",
    "magma = mpl.colors.LinearSegmentedColormap.from_list(\"\", magma[:65])"
   ]
  },
  {
   "cell_type": "code",
   "execution_count": null,
   "id": "latin-spoke",
   "metadata": {},
   "outputs": [],
   "source": [
    "data_dir = os.getcwd() + '/data/'"
   ]
  },
  {
   "cell_type": "code",
   "execution_count": null,
   "id": "outdoor-jewelry",
   "metadata": {},
   "outputs": [],
   "source": [
    "mouse_gencode_dir = \"/media/seth/SETH_DATA/SETH_Alex/Programs/mouse_GRCm38_gencode.v31\"\n",
    "program_dir = \"/media/seth/SETH_DATA/SETH_Alex/Programs/\""
   ]
  },
  {
   "cell_type": "markdown",
   "id": "0c0cc635-5279-4091-9a20-989cadc5fae3",
   "metadata": {},
   "source": [
    "## Abbasi et al. 2020"
   ]
  },
  {
   "cell_type": "code",
   "execution_count": null,
   "id": "9e16c68f-429f-48b7-9f15-bc721da97752",
   "metadata": {},
   "outputs": [],
   "source": [
    "abbasi_dir = data_dir + '/abassi_2020'\n",
    "os.makedirs(abbasi_dir, exist_ok=True)"
   ]
  },
  {
   "cell_type": "code",
   "execution_count": null,
   "id": "e4c0113b-ca48-444c-a5f1-27458be8924c",
   "metadata": {},
   "outputs": [],
   "source": [
    "os.makedirs(f\"{abbasi_dir}/GSM2910020\", exist_ok=True)\n",
    "!cd {abbasi_dir} && wget https://ftp.ncbi.nlm.nih.gov/geo/samples/GSM2910nnn/GSM2910020/suppl/GSM2910020_sample_4_matrix.mtx.gz -O GSM2910020/matrix.mtx.gz\n",
    "!cd {abbasi_dir} && wget https://ftp.ncbi.nlm.nih.gov/geo/samples/GSM2910nnn/GSM2910020/suppl/GSM2910020_sample_4_barcodes.tsv.gz -O GSM2910020/barcodes.tsv.gz\n",
    "!cd {abbasi_dir} && wget https://ftp.ncbi.nlm.nih.gov/geo/samples/GSM2910nnn/GSM2910020/suppl/GSM2910020_sample_4_genes.tsv.gz -O GSM2910020/features.tsv.gz"
   ]
  },
  {
   "cell_type": "code",
   "execution_count": null,
   "id": "9ad4aa91-3af7-4606-99ef-8e35ba20d444",
   "metadata": {},
   "outputs": [],
   "source": [
    "adata_abassi_2020 = sc.read_mtx(f\"{abbasi_dir}/GSM2910020/matrix.mtx.gz\").transpose()\n",
    "adata_abassi_2020.var_names = pd.read_csv(f\"{abbasi_dir}/GSM2910020/features.tsv.gz\", sep='\\t', header=None)[1].values\n",
    "adata_abassi_2020.obs_names = pd.read_csv(f\"{abbasi_dir}/GSM2910020/barcodes.tsv.gz\", sep='\\t', header=None)[0].values\n",
    "\n",
    "adata_abassi_2020.var_names_make_unique()"
   ]
  },
  {
   "cell_type": "code",
   "execution_count": null,
   "id": "a83bd284-8730-4ba4-a20b-85a38eb42d0d",
   "metadata": {},
   "outputs": [],
   "source": [
    "adata_abassi_2020.write_h5ad(f\"{abbasi_dir}/adata_abassi_2020.h5\")"
   ]
  },
  {
   "cell_type": "markdown",
   "id": "11e0c4dc-8500-40f1-83e8-d090555f2a0d",
   "metadata": {},
   "source": [
    "## Buechler et al. 2021"
   ]
  },
  {
   "cell_type": "code",
   "execution_count": null,
   "id": "1c6c7cb2-89cb-4cea-b928-5b8b78b1375b",
   "metadata": {},
   "outputs": [],
   "source": [
    "buechler_dir = data_dir + '/buechler_2021'\n",
    "os.makedirs(buechler_dir, exist_ok=True)"
   ]
  },
  {
   "cell_type": "code",
   "execution_count": null,
   "id": "08dc558c-02c2-4b35-8f95-a599b5cfbc51",
   "metadata": {},
   "outputs": [],
   "source": [
    "!cd {buechler_dir} && wget ftp://ftp.ebi.ac.uk/pub/databases/microarray/data/experiment/MTAB/E-MTAB-10315/LIB5436740_SAM24390211_S4_L001_R2_001.fastq.gz\n",
    "!cd {buechler_dir} && wget ftp://ftp.ebi.ac.uk/pub/databases/microarray/data/experiment/MTAB/E-MTAB-10315/LIB5436740_SAM24390211_S4_L001_R1_001.fastq.gz\n",
    "    \n",
    "!cd {buechler_dir} && wget ftp://ftp.ebi.ac.uk/pub/databases/microarray/data/experiment/MTAB/E-MTAB-10315/LIB5436740_SAM24390211_S4_L002_R1_001.fastq.gz\n",
    "!cd {buechler_dir} && wget ftp://ftp.ebi.ac.uk/pub/databases/microarray/data/experiment/MTAB/E-MTAB-10315/LIB5436740_SAM24390211_S4_L002_R2_001.fastq.gz"
   ]
  },
  {
   "cell_type": "code",
   "execution_count": null,
   "id": "97fe2552-eb25-4e34-a961-6597576c0041",
   "metadata": {},
   "outputs": [],
   "source": [
    "df = pd.DataFrame({'name': ['buechler_2021'], 'technology': ['10xv3'], 'targetnumcells': [5000]})\n",
    "df.to_csv(buechler_dir + '/metadata.tab', sep='\\t', index=None)"
   ]
  },
  {
   "cell_type": "code",
   "execution_count": null,
   "id": "9f7a0c4d-0842-479b-9837-340468b8da4e",
   "metadata": {},
   "outputs": [],
   "source": [
    "!cd {buechler_dir} && loompy fromfq buechler_2021.loom buechler_2021 {mouse_gencode_dir} metadata.tab \\\n",
    "LIB5436740_SAM24390211_S4_L001_R1_001.fastq.gz LIB5436740_SAM24390211_S4_L001_R2_001.fastq.gz \\\n",
    "LIB5436740_SAM24390211_S4_L002_R1_001.fastq.gz LIB5436740_SAM24390211_S4_L002_R2_001.fastq.gz "
   ]
  },
  {
   "cell_type": "markdown",
   "id": "c5af74c1-90b4-4150-a005-c450cbf3833d",
   "metadata": {},
   "source": [
    "## Efremova, Mirjana Panglao DB) 2018"
   ]
  },
  {
   "cell_type": "code",
   "execution_count": null,
   "id": "5cd5c0bb-bc6d-4085-88db-b4cf26fb14bc",
   "metadata": {},
   "outputs": [],
   "source": [
    "efremova_dir = data_dir + '/efremova_2018'\n",
    "os.makedirs(efremova_dir, exist_ok=True)"
   ]
  },
  {
   "cell_type": "code",
   "execution_count": null,
   "id": "cc8baa75-f4dc-4421-bb55-b465ecc83132",
   "metadata": {},
   "outputs": [],
   "source": [
    "!cd {efremova_dir} && wget ftp://ftp.ebi.ac.uk/pub/databases/microarray/data/experiment/MTAB/E-MTAB-7417/3421STDY7639028_S1_L001_R1_001.fastq.gz\n",
    "!cd {efremova_dir} && wget ftp://ftp.ebi.ac.uk/pub/databases/microarray/data/experiment/MTAB/E-MTAB-7417/3421STDY7639028_S1_L001_R2_001.fastq.gz\n",
    "    \n",
    "!cd {efremova_dir} && wget ftp://ftp.ebi.ac.uk/pub/databases/microarray/data/experiment/MTAB/E-MTAB-7417/3421STDY7639029_S1_L001_R1_001.fastq.gz\n",
    "!cd {efremova_dir} && wget ftp://ftp.ebi.ac.uk/pub/databases/microarray/data/experiment/MTAB/E-MTAB-7417/3421STDY7639029_S1_L001_R2_001.fastq.gz"
   ]
  },
  {
   "cell_type": "code",
   "execution_count": null,
   "id": "8369b8d1-3648-44b9-9113-693425a6d042",
   "metadata": {},
   "outputs": [],
   "source": [
    "df = pd.DataFrame({'name': ['efremova_2018_S1', 'efremova_2018_S2'], 'technology': ['10xv2']*2, 'targetnumcells': [5000]*2})\n",
    "df.to_csv(efremova_dir + '/metadata.tab', sep='\\t', index=None)"
   ]
  },
  {
   "cell_type": "code",
   "execution_count": null,
   "id": "3aef556a-2dcf-48af-b1d7-ef5cd5484680",
   "metadata": {},
   "outputs": [],
   "source": [
    "!cd {efremova_dir} && loompy fromfq efremova_2018_S1.loom efremova_2018_S1 {mouse_gencode_dir} metadata.tab \\\n",
    "3421STDY7639028_S1_L001_R1_001.fastq.gz 3421STDY7639028_S1_L001_R2_001.fastq.gz"
   ]
  },
  {
   "cell_type": "code",
   "execution_count": null,
   "id": "944ce1de-978b-4848-89d3-ae06bc3ad0f9",
   "metadata": {},
   "outputs": [],
   "source": [
    "!cd {efremova_dir} && loompy fromfq efremova_2018_S2.loom efremova_2018_S2 {mouse_gencode_dir} metadata.tab \\\n",
    "3421STDY7639029_S1_L001_R1_001.fastq.gz 3421STDY7639029_S1_L001_R2_001.fastq.gz"
   ]
  },
  {
   "cell_type": "code",
   "execution_count": null,
   "id": "8090c864-b38c-4905-81bf-8ec3b50139ad",
   "metadata": {},
   "outputs": [],
   "source": [
    "adata_efremova_2018_S1 = sc.read(f\"{efremova_dir}/efremova_2018_S1.loom\")\n",
    "adata_efremova_2018_S1.var_names_make_unique()\n",
    "adata_efremova_2018_S2 = sc.read(f\"{efremova_dir}/efremova_2018_S2.loom\")\n",
    "adata_efremova_2018_S2.var_names_make_unique()\n",
    "\n",
    "adata_efremova_2018 = sc.AnnData.concatenate(adata_efremova_2018_S1, adata_efremova_2018_S2)\n",
    "adata_efremova_2018.write_h5ad(f\"{efremova_dir}/efremova_2018.h5\")"
   ]
  },
  {
   "cell_type": "markdown",
   "id": "cba7f7c5-5492-4725-b827-90916b87838a",
   "metadata": {},
   "source": [
    "## Haensel et al. 2020"
   ]
  },
  {
   "cell_type": "code",
   "execution_count": null,
   "id": "e7564cb8-3e0b-4a07-b18e-941daf927ad5",
   "metadata": {},
   "outputs": [],
   "source": [
    "haensel_dir = data_dir + '/haensel_2021'\n",
    "os.makedirs(haensel_dir, exist_ok=True)"
   ]
  },
  {
   "cell_type": "code",
   "execution_count": null,
   "id": "71b31a79-9e00-446d-a078-0e224cdac485",
   "metadata": {},
   "outputs": [],
   "source": [
    "os.makedirs(f\"{haensel_dir}/GSM4230076\", exist_ok=True)\n",
    "!cd {haensel_dir} && wget https://ftp.ncbi.nlm.nih.gov/geo/samples/GSM4230nnn/GSM4230076/suppl/GSM4230076_Un-Wounded_1_scRNA-Seq.mtx.gz -O GSM4230076/matrix.mtx.gz\n",
    "!cd {haensel_dir} && wget https://ftp.ncbi.nlm.nih.gov/geo/samples/GSM4230nnn/GSM4230076/suppl/GSM4230076_barcodes_Un-Wounded_1_scRNA-Seq.tsv.gz  -O GSM4230076/barcodes.tsv.gz\n",
    "!cd {haensel_dir} && wget https://ftp.ncbi.nlm.nih.gov/geo/samples/GSM4230nnn/GSM4230076/suppl/GSM4230076_genes_Un-Wounded_1_scRNA-Seq.tsv.gz -O GSM4230076/features.tsv.gz"
   ]
  },
  {
   "cell_type": "code",
   "execution_count": null,
   "id": "b8e124e8-6688-4de2-888e-20527d66205b",
   "metadata": {},
   "outputs": [],
   "source": [
    "os.makedirs(f\"{haensel_dir}/GSM4230077\", exist_ok=True)\n",
    "!cd {haensel_dir} && wget https://ftp.ncbi.nlm.nih.gov/geo/samples/GSM4230nnn/GSM4230077/suppl/GSM4230077_Un-Wounded_2_scRNA-Seq.mtx.gz -O GSM4230077/matrix.mtx.gz\n",
    "!cd {haensel_dir} && wget https://ftp.ncbi.nlm.nih.gov/geo/samples/GSM4230nnn/GSM4230077/suppl/GSM4230077_barcodes_Un-Wounded_2_scRNA-Seq.tsv.gz -O GSM4230077/barcodes.tsv.gz\n",
    "!cd {haensel_dir} && wget https://ftp.ncbi.nlm.nih.gov/geo/samples/GSM4230nnn/GSM4230077/suppl/GSM4230077_genes_Un-Wounded_2_scRNA-Seq.tsv.gz -O GSM4230077/features.tsv.gz"
   ]
  },
  {
   "cell_type": "code",
   "execution_count": null,
   "id": "7fe8b0f1-9cd9-45c2-bbe9-e240d4801c27",
   "metadata": {},
   "outputs": [],
   "source": [
    "os.makedirs(f\"{haensel_dir}/GSM4230078\", exist_ok=True)\n",
    "!cd {haensel_dir} && wget https://ftp.ncbi.nlm.nih.gov/geo/samples/GSM4230nnn/GSM4230078/suppl/GSM4230078_Wounded_1_scRNA-Seq.mtx.gz -O GSM4230078/matrix.mtx.gz\n",
    "!cd {haensel_dir} && wget https://ftp.ncbi.nlm.nih.gov/geo/samples/GSM4230nnn/GSM4230078/suppl/GSM4230078_barcodes_Wounded_1_scRNA-Seq.tsv.gz -O GSM4230078/barcodes.tsv.gz\n",
    "!cd {haensel_dir} && wget https://ftp.ncbi.nlm.nih.gov/geo/samples/GSM4230nnn/GSM4230078/suppl/GSM4230078_genes_Wounded_1_scRNA-Seq.tsv.gz -O GSM4230078/features.tsv.gz"
   ]
  },
  {
   "cell_type": "code",
   "execution_count": null,
   "id": "ced8e10f-d25e-4505-b47c-4fb99d85f771",
   "metadata": {},
   "outputs": [],
   "source": [
    "os.makedirs(f\"{haensel_dir}/GSM4230079\", exist_ok=True)\n",
    "!cd {haensel_dir} && wget https://ftp.ncbi.nlm.nih.gov/geo/samples/GSM4230nnn/GSM4230079/suppl/GSM4230079_Wounded_2_scRNA-Seq.mtx.gz -O GSM4230079/matrix.mtx.gz\n",
    "!cd {haensel_dir} && wget https://ftp.ncbi.nlm.nih.gov/geo/samples/GSM4230nnn/GSM4230079/suppl/GSM4230079_barcodes_Wounded_2_scRNA-Seq.tsv.gz -O GSM4230079/barcodes.tsv.gz\n",
    "!cd {haensel_dir} && wget https://ftp.ncbi.nlm.nih.gov/geo/samples/GSM4230nnn/GSM4230079/suppl/GSM4230079_genes_Wounded_2_scRNA-Seq.tsv.gz -O GSM4230079/features.tsv.gz"
   ]
  },
  {
   "cell_type": "code",
   "execution_count": null,
   "id": "17047d0b-4583-425d-9699-50d0daf2aa6a",
   "metadata": {},
   "outputs": [],
   "source": [
    "os.makedirs(f\"{haensel_dir}/GSM4230080\", exist_ok=True)\n",
    "!cd {haensel_dir} && wget https://ftp.ncbi.nlm.nih.gov/geo/samples/GSM4230nnn/GSM4230080/suppl/GSM4230080_Wounded_3_scRNA-Seq.mtx.gz -O GSM4230080/matrix.mtx.gz\n",
    "!cd {haensel_dir} && wget https://ftp.ncbi.nlm.nih.gov/geo/samples/GSM4230nnn/GSM4230080/suppl/GSM4230080_barcodes_Wounded_3_scRNA-Seq.tsv.gz -O GSM4230080/barcodes.tsv.gz\n",
    "!cd {haensel_dir} && wget https://ftp.ncbi.nlm.nih.gov/geo/samples/GSM4230nnn/GSM4230080/suppl/GSM4230080_genes_Wounded_3_scRNA-Seq.tsv.gz -O GSM4230080/features.tsv.gz"
   ]
  },
  {
   "cell_type": "code",
   "execution_count": null,
   "id": "f0bad92f-1ffd-4715-a72f-230449cb5466",
   "metadata": {},
   "outputs": [],
   "source": [
    "adata_GSM4230076 = sc.read_mtx(f\"{haensel_dir}/GSM4230076/matrix.mtx.gz\").transpose()\n",
    "adata_GSM4230076.var_names = pd.read_csv(f\"{haensel_dir}/GSM4230076/features.tsv.gz\", sep='\\t', header=None)[1].values\n",
    "adata_GSM4230076.obs_names = pd.read_csv(f\"{haensel_dir}/GSM4230076/barcodes.tsv.gz\", sep='\\t', header=None)[0].values\n",
    "\n",
    "adata_GSM4230076.var_names_make_unique()"
   ]
  },
  {
   "cell_type": "code",
   "execution_count": null,
   "id": "89fe0f7d-e109-48b4-ba36-05ab5e1c0222",
   "metadata": {},
   "outputs": [],
   "source": [
    "adata_GSM4230077 = sc.read_mtx(f\"{haensel_dir}/GSM4230077/matrix.mtx.gz\").transpose()\n",
    "adata_GSM4230077.var_names = pd.read_csv(f\"{haensel_dir}/GSM4230077/features.tsv.gz\", sep='\\t', header=None)[1].values\n",
    "adata_GSM4230077.obs_names = pd.read_csv(f\"{haensel_dir}/GSM4230077/barcodes.tsv.gz\", sep='\\t', header=None)[0].values\n",
    "\n",
    "adata_GSM4230077.var_names_make_unique()"
   ]
  },
  {
   "cell_type": "code",
   "execution_count": null,
   "id": "9a88bd44-b0d4-414c-96d1-1435b9c54604",
   "metadata": {},
   "outputs": [],
   "source": [
    "adata_haensel = sc.AnnData.concatenate(adata_GSM4230076, adata_GSM4230077)\n",
    "adata_haensel.write_h5ad(f\"{haensel_dir}/adata_haensel.h5\")"
   ]
  },
  {
   "cell_type": "code",
   "execution_count": null,
   "id": "97933c5c-1cc9-4651-953f-5014aa6a7ff2",
   "metadata": {},
   "outputs": [],
   "source": [
    "adata_GSM4230078 = sc.read_mtx(f\"{haensel_dir}/GSM4230078/matrix.mtx.gz\").transpose()\n",
    "adata_GSM4230078.var_names = pd.read_csv(f\"{haensel_dir}/GSM4230078/features.tsv.gz\", sep='\\t', header=None)[1].values\n",
    "adata_GSM4230078.obs_names = pd.read_csv(f\"{haensel_dir}/GSM4230078/barcodes.tsv.gz\", sep='\\t', header=None)[0].values\n",
    "\n",
    "adata_GSM4230078.var_names_make_unique()"
   ]
  },
  {
   "cell_type": "code",
   "execution_count": null,
   "id": "78c507e9-d212-42c8-bf97-9c93e4df5123",
   "metadata": {},
   "outputs": [],
   "source": [
    "adata_GSM4230079 = sc.read_mtx(f\"{haensel_dir}/GSM4230079/matrix.mtx.gz\").transpose()\n",
    "adata_GSM4230079.var_names = pd.read_csv(f\"{haensel_dir}/GSM4230079/features.tsv.gz\", sep='\\t', header=None)[1].values\n",
    "adata_GSM4230079.obs_names = pd.read_csv(f\"{haensel_dir}/GSM4230079/barcodes.tsv.gz\", sep='\\t', header=None)[0].values\n",
    "\n",
    "adata_GSM4230079.var_names_make_unique()"
   ]
  },
  {
   "cell_type": "code",
   "execution_count": null,
   "id": "0e449c5d-4e2b-4992-ba69-e156b12f84cc",
   "metadata": {},
   "outputs": [],
   "source": [
    "adata_GSM4230080 = sc.read_mtx(f\"{haensel_dir}/GSM4230080/matrix.mtx.gz\").transpose()\n",
    "adata_GSM4230080.var_names = pd.read_csv(f\"{haensel_dir}/GSM4230080/features.tsv.gz\", sep='\\t', header=None)[1].values\n",
    "adata_GSM4230080.obs_names = pd.read_csv(f\"{haensel_dir}/GSM4230080/barcodes.tsv.gz\", sep='\\t', header=None)[0].values\n",
    "\n",
    "adata_GSM4230080.var_names_make_unique()"
   ]
  },
  {
   "cell_type": "code",
   "execution_count": null,
   "id": "5372a930-26b9-4bf1-aac7-a098c4467137",
   "metadata": {},
   "outputs": [],
   "source": [
    "adata_haensel_wounded = sc.AnnData.concatenate(adata_GSM4230078, adata_GSM4230079, adata_GSM4230080)\n",
    "adata_haensel_wounded.write_h5ad(f\"{haensel_dir}/adata_haensel_wounded.h5\")"
   ]
  },
  {
   "cell_type": "code",
   "execution_count": null,
   "id": "a1f2a6be-0eba-4793-9dde-eb96467af65c",
   "metadata": {},
   "outputs": [],
   "source": []
  },
  {
   "cell_type": "code",
   "execution_count": null,
   "id": "9bea2f23-b892-41fe-bc6d-ae7b02cda0a3",
   "metadata": {},
   "outputs": [],
   "source": []
  },
  {
   "cell_type": "markdown",
   "id": "6500b3e6-bac1-484b-b96e-83f1afb089bf",
   "metadata": {},
   "source": [
    "## Ma et al. 2020"
   ]
  },
  {
   "cell_type": "code",
   "execution_count": null,
   "id": "bb2ed840-1fea-4e6e-9277-4f23750462d9",
   "metadata": {},
   "outputs": [],
   "source": [
    "ma_dir = data_dir + '/ma_2020'\n",
    "os.makedirs(ma_dir, exist_ok=True)"
   ]
  },
  {
   "cell_type": "code",
   "execution_count": null,
   "id": "e63e523b-b7ba-49cd-8cae-98af6bf7235b",
   "metadata": {},
   "outputs": [],
   "source": [
    "adata_GSM4331840"
   ]
  },
  {
   "cell_type": "code",
   "execution_count": null,
   "id": "e9b9e5cb-8770-4b11-93d6-19bb62fb2827",
   "metadata": {},
   "outputs": [],
   "source": [
    "os.makedirs(f\"{ma_dir}/GSM4331840\", exist_ok=True)\n",
    "!cd {ma_dir} && wget https://ftp.ncbi.nlm.nih.gov/geo/samples/GSM4331nnn/GSM4331840/suppl/GSM4331840%5FSkin%2DM%2DY%5Fbarcodes%2Etsv%2Egz -O GSM4331840/barcodes.tsv.gz\n",
    "!cd {ma_dir} && wget https://ftp.ncbi.nlm.nih.gov/geo/samples/GSM4331nnn/GSM4331840/suppl/GSM4331840%5FSkin%2DM%2DY%5Fgenes%2Etsv%2Egz -O GSM4331840/features.tsv.gz\n",
    "!cd {ma_dir} && wget https://ftp.ncbi.nlm.nih.gov/geo/samples/GSM4331nnn/GSM4331840/suppl/GSM4331840%5FSkin%2DM%2DY%5Fmatrix%2Emtx%2Egz -O GSM4331840/matrix.mtx.gz"
   ]
  },
  {
   "cell_type": "code",
   "execution_count": null,
   "id": "b23c4027-7689-4716-ab1a-715c933637f4",
   "metadata": {},
   "outputs": [],
   "source": [
    "adata_GSM4331840_M_Y = sc.read_mtx(f\"{ma_dir}/GSM4331840/matrix.mtx.gz\").transpose()\n",
    "adata_GSM4331840_M_Y.var_names = pd.read_csv(f\"{ma_dir}/GSM4331840/features.tsv.gz\", sep='\\t', header=None)[1].values\n",
    "adata_GSM4331840_M_Y.obs_names = pd.read_csv(f\"{ma_dir}/GSM4331840/barcodes.tsv.gz\", sep='\\t', header=None)[0].values\n",
    "\n",
    "adata_GSM4331840_M_Y.var_names_make_unique()"
   ]
  },
  {
   "cell_type": "code",
   "execution_count": null,
   "id": "c1617b3c-ad08-4746-97ee-5132d7981720",
   "metadata": {},
   "outputs": [],
   "source": [
    "os.makedirs(f\"{ma_dir}/GSM4331841\", exist_ok=True)\n",
    "!cd {ma_dir} && wget https://ftp.ncbi.nlm.nih.gov/geo/samples/GSM4331nnn/GSM4331841/suppl/GSM4331841%5FSkin%2DM%2DO%5Fbarcodes%2Etsv%2Egz -O GSM4331841/barcodes.tsv.gz\n",
    "!cd {ma_dir} && wget https://ftp.ncbi.nlm.nih.gov/geo/samples/GSM4331nnn/GSM4331841/suppl/GSM4331841%5FSkin%2DM%2DO%5Fgenes%2Etsv%2Egz -O GSM4331841/features.tsv.gz\n",
    "!cd {ma_dir} && wget https://ftp.ncbi.nlm.nih.gov/geo/samples/GSM4331nnn/GSM4331841/suppl/GSM4331841%5FSkin%2DM%2DO%5Fmatrix%2Emtx%2Egz -O GSM4331841/matrix.mtx.gz"
   ]
  },
  {
   "cell_type": "code",
   "execution_count": null,
   "id": "a67fb92b-46af-4b7a-b442-dca9e9a5fa87",
   "metadata": {},
   "outputs": [],
   "source": [
    "adata_GSM4331841_M_O = sc.read_mtx(f\"{ma_dir}/GSM4331841/matrix.mtx.gz\").transpose()\n",
    "adata_GSM4331841_M_O.var_names = pd.read_csv(f\"{ma_dir}/GSM4331841/features.tsv.gz\", sep='\\t', header=None)[1].values\n",
    "adata_GSM4331841_M_O.obs_names = pd.read_csv(f\"{ma_dir}/GSM4331841/barcodes.tsv.gz\", sep='\\t', header=None)[0].values\n",
    "\n",
    "adata_GSM4331841_M_O.var_names_make_unique()"
   ]
  },
  {
   "cell_type": "code",
   "execution_count": null,
   "id": "a657ccf2-2f7c-4b67-89ba-9ad37180a127",
   "metadata": {},
   "outputs": [],
   "source": [
    "os.makedirs(f\"{ma_dir}/GSM4331842\", exist_ok=True)\n",
    "!cd {ma_dir} && wget https://ftp.ncbi.nlm.nih.gov/geo/samples/GSM4331nnn/GSM4331842/suppl/GSM4331842%5FSkin%2DM%2DCR%5Fbarcodes%2Etsv%2Egz -O GSM4331842/barcodes.tsv.gz\n",
    "!cd {ma_dir} && wget https://ftp.ncbi.nlm.nih.gov/geo/samples/GSM4331nnn/GSM4331842/suppl/GSM4331842%5FSkin%2DM%2DCR%5Fgenes%2Etsv%2Egz -O GSM4331842/features.tsv.gz\n",
    "!cd {ma_dir} && wget https://ftp.ncbi.nlm.nih.gov/geo/samples/GSM4331nnn/GSM4331842/suppl/GSM4331842%5FSkin%2DM%2DCR%5Fmatrix%2Emtx%2Egz -O GSM4331842/matrix.mtx.gz"
   ]
  },
  {
   "cell_type": "code",
   "execution_count": null,
   "id": "60bf1cd8-385e-44a2-8091-a40a2a50ee77",
   "metadata": {},
   "outputs": [],
   "source": [
    "adata_GSM4331842_M_CR = sc.read_mtx(f\"{ma_dir}/GSM4331842/matrix.mtx.gz\").transpose()\n",
    "adata_GSM4331842_M_CR.var_names = pd.read_csv(f\"{ma_dir}/GSM4331842/features.tsv.gz\", sep='\\t', header=None)[1].values\n",
    "adata_GSM4331842_M_CR.obs_names = pd.read_csv(f\"{ma_dir}/GSM4331842/barcodes.tsv.gz\", sep='\\t', header=None)[0].values\n",
    "\n",
    "adata_GSM4331842_M_CR.var_names_make_unique()"
   ]
  },
  {
   "cell_type": "code",
   "execution_count": null,
   "id": "c8e0b224-8802-4220-9444-247f28f9bae6",
   "metadata": {},
   "outputs": [],
   "source": [
    "os.makedirs(f\"{ma_dir}/GSM4331843\", exist_ok=True)\n",
    "!cd {ma_dir} && wget https://ftp.ncbi.nlm.nih.gov/geo/samples/GSM4331nnn/GSM4331843/suppl/GSM4331843%5FSkin%2DF%2DY%5Fbarcodes%2Etsv%2Egz -O GSM4331843/barcodes.tsv.gz\n",
    "!cd {ma_dir} && wget https://ftp.ncbi.nlm.nih.gov/geo/samples/GSM4331nnn/GSM4331843/suppl/GSM4331843%5FSkin%2DF%2DY%5Fgenes%2Etsv%2Egz -O GSM4331843/features.tsv.gz\n",
    "!cd {ma_dir} && wget https://ftp.ncbi.nlm.nih.gov/geo/samples/GSM4331nnn/GSM4331843/suppl/GSM4331843%5FSkin%2DF%2DY%5Fmatrix%2Emtx%2Egz -O GSM4331843/matrix.mtx.gz"
   ]
  },
  {
   "cell_type": "code",
   "execution_count": null,
   "id": "3de3990e-5083-40de-bf7f-6b763ffa73a8",
   "metadata": {},
   "outputs": [],
   "source": [
    "adata_GSM4331843_F_Y = sc.read_mtx(f\"{ma_dir}/GSM4331843/matrix.mtx.gz\").transpose()\n",
    "adata_GSM4331843_F_Y.var_names = pd.read_csv(f\"{ma_dir}/GSM4331843/features.tsv.gz\", sep='\\t', header=None)[1].values\n",
    "adata_GSM4331843_F_Y.obs_names = pd.read_csv(f\"{ma_dir}/GSM4331843/barcodes.tsv.gz\", sep='\\t', header=None)[0].values\n",
    "\n",
    "adata_GSM4331843_F_Y.var_names_make_unique()"
   ]
  },
  {
   "cell_type": "code",
   "execution_count": null,
   "id": "b6f8c774-b3a3-4b24-bfee-e9cbe92aea52",
   "metadata": {},
   "outputs": [],
   "source": [
    "os.makedirs(f\"{ma_dir}/GSM4331844\", exist_ok=True)\n",
    "!cd {ma_dir} && wget https://ftp.ncbi.nlm.nih.gov/geo/samples/GSM4331nnn/GSM4331844/suppl/GSM4331844%5FSkin%2DF%2DO%5Fbarcodes%2Etsv%2Egz -O GSM4331844/barcodes.tsv.gz\n",
    "!cd {ma_dir} && wget https://ftp.ncbi.nlm.nih.gov/geo/samples/GSM4331nnn/GSM4331844/suppl/GSM4331844%5FSkin%2DF%2DO%5Fgenes%2Etsv%2Egz -O GSM4331844/features.tsv.gz\n",
    "!cd {ma_dir} && wget https://ftp.ncbi.nlm.nih.gov/geo/samples/GSM4331nnn/GSM4331844/suppl/GSM4331844%5FSkin%2DF%2DO%5Fmatrix%2Emtx%2Egz -O GSM4331844/matrix.mtx.gz"
   ]
  },
  {
   "cell_type": "code",
   "execution_count": null,
   "id": "0384318f-cbec-4392-88bf-4c776fc516b1",
   "metadata": {},
   "outputs": [],
   "source": [
    "adata_GSM4331844_F_O = sc.read_mtx(f\"{ma_dir}/GSM4331844/matrix.mtx.gz\").transpose()\n",
    "adata_GSM4331844_F_O.var_names = pd.read_csv(f\"{ma_dir}/GSM4331844/features.tsv.gz\", sep='\\t', header=None)[1].values\n",
    "adata_GSM4331844_F_O.obs_names = pd.read_csv(f\"{ma_dir}/GSM4331844/barcodes.tsv.gz\", sep='\\t', header=None)[0].values\n",
    "\n",
    "adata_GSM4331844_F_O.var_names_make_unique()"
   ]
  },
  {
   "cell_type": "code",
   "execution_count": null,
   "id": "021e99b9-63e9-49b4-8234-90d0989c3055",
   "metadata": {},
   "outputs": [],
   "source": [
    "os.makedirs(f\"{ma_dir}/GSM4331845\", exist_ok=True)\n",
    "!cd {ma_dir} && wget https://ftp.ncbi.nlm.nih.gov/geo/samples/GSM4331nnn/GSM4331845/suppl/GSM4331845%5FSkin%2DF%2DCR%5Fbarcodes%2Etsv%2Egz -O GSM4331845/barcodes.tsv.gz\n",
    "!cd {ma_dir} && wget https://ftp.ncbi.nlm.nih.gov/geo/samples/GSM4331nnn/GSM4331845/suppl/GSM4331845%5FSkin%2DF%2DCR%5Fgenes%2Etsv%2Egz -O GSM4331845/features.tsv.gz\n",
    "!cd {ma_dir} && wget https://ftp.ncbi.nlm.nih.gov/geo/samples/GSM4331nnn/GSM4331845/suppl/GSM4331845%5FSkin%2DF%2DCR%5Fmatrix%2Emtx%2Egz -O GSM4331845/matrix.mtx.gz"
   ]
  },
  {
   "cell_type": "code",
   "execution_count": null,
   "id": "af4018a8-1b99-43a3-9ecf-edea309f64b3",
   "metadata": {},
   "outputs": [],
   "source": [
    "adata_GSM4331845_F_CR = sc.read_mtx(f\"{ma_dir}/GSM4331845/matrix.mtx.gz\").transpose()\n",
    "adata_GSM4331845_F_CR.var_names = pd.read_csv(f\"{ma_dir}/GSM4331845/features.tsv.gz\", sep='\\t', header=None)[1].values\n",
    "adata_GSM4331845_F_CR.obs_names = pd.read_csv(f\"{ma_dir}/GSM4331845/barcodes.tsv.gz\", sep='\\t', header=None)[0].values\n",
    "\n",
    "adata_GSM4331845_F_CR.var_names_make_unique()"
   ]
  },
  {
   "cell_type": "code",
   "execution_count": null,
   "id": "826bdb5e-de89-4f6b-9914-7531f71e1550",
   "metadata": {},
   "outputs": [],
   "source": [
    "adata_ma_Y = sc.AnnData.concatenate(adata_GSM4331840_M_Y, adata_GSM4331843_F_Y)\n",
    "adata_ma_O = sc.AnnData.concatenate(adata_GSM4331841_M_O, adata_GSM4331844_F_O)\n",
    "adata_ma_CR = sc.AnnData.concatenate(adata_GSM4331842_M_CR, adata_GSM4331845_F_CR)"
   ]
  },
  {
   "cell_type": "code",
   "execution_count": null,
   "id": "95fa7d4b-6568-425a-913d-a445c71e7d99",
   "metadata": {},
   "outputs": [],
   "source": [
    "adata_ma_Y.write_h5ad(f\"{ma_dir}/adata_ma_Y.h5\")\n",
    "adata_ma_O.write_h5ad(f\"{ma_dir}/adata_ma_O.h5\")\n",
    "adata_ma_CR.write_h5ad(f\"{ma_dir}/adata_ma_CR.h5\")"
   ]
  },
  {
   "cell_type": "markdown",
   "id": "e9c6e3ae-ed2a-4f50-a15a-9e12e06c7bcc",
   "metadata": {},
   "source": [
    "## Phan et al. 2020"
   ]
  },
  {
   "cell_type": "code",
   "execution_count": null,
   "id": "711ea73b-14ab-4036-a611-1778bfd78580",
   "metadata": {},
   "outputs": [],
   "source": [
    "phan_dir = data_dir + '/phan_2020'\n",
    "os.makedirs(phan_dir, exist_ok=True)"
   ]
  },
  {
   "cell_type": "code",
   "execution_count": null,
   "id": "52f2b18d-c5fd-4c85-b09d-73ff86a7a973",
   "metadata": {},
   "outputs": [],
   "source": [
    "!cd {phan_dir} && wget https://ftp.ncbi.nlm.nih.gov/geo/samples/GSM4647nnn/GSM4647788/suppl/GSM4647788_P21_1.loom.gz\n",
    "!cd {phan_dir} && wget https://ftp.ncbi.nlm.nih.gov/geo/samples/GSM4647nnn/GSM4647789/suppl/GSM4647789_P21_2.loom.gz\n",
    "!cd {phan_dir} && wget https://ftp.ncbi.nlm.nih.gov/geo/samples/GSM4647nnn/GSM4647790/suppl/GSM4647790_P21_3.loom.gz"
   ]
  },
  {
   "cell_type": "code",
   "execution_count": null,
   "id": "4d90b95b-654b-4815-928f-fe806c3805bb",
   "metadata": {},
   "outputs": [],
   "source": [
    "!cd {phan_dir} && gunzip *"
   ]
  },
  {
   "cell_type": "code",
   "execution_count": null,
   "id": "d1a6e148-c384-4fc7-9bc1-fc076b743fee",
   "metadata": {},
   "outputs": [],
   "source": [
    "adata_phan_2020_1 = sc.read(f\"{phan_dir}/GSM4647788_P21_1.loom\")\n",
    "adata_phan_2020_1.var_names_make_unique()\n",
    "adata_phan_2020_2 = sc.read(f\"{phan_dir}/GSM4647789_P21_2.loom\")\n",
    "adata_phan_2020_2.var_names_make_unique()\n",
    "adata_phan_2020_3 = sc.read(f\"{phan_dir}/GSM4647790_P21_3.loom\")\n",
    "adata_phan_2020_3.var_names_make_unique()"
   ]
  },
  {
   "cell_type": "code",
   "execution_count": null,
   "id": "b9fd8eb8-c21a-434e-a9a4-c39c7660519c",
   "metadata": {},
   "outputs": [],
   "source": [
    "adata_phan_2020 = sc.AnnData.concatenate(adata_phan_2020_1, adata_phan_2020_2, adata_phan_2020_3)"
   ]
  },
  {
   "cell_type": "code",
   "execution_count": null,
   "id": "ecd27f5d-c2db-4248-8815-ee814193006d",
   "metadata": {},
   "outputs": [],
   "source": [
    "adata_phan_2020.write_h5ad(f\"{phan_dir}/adata_phan_2020.h5\")"
   ]
  },
  {
   "cell_type": "markdown",
   "id": "06671f20-63cf-430a-a09f-1169e705b229",
   "metadata": {},
   "source": [
    "## Shook 2020"
   ]
  },
  {
   "cell_type": "code",
   "execution_count": null,
   "id": "e2123f5a-6dac-410d-95e7-9b3e5d47fb26",
   "metadata": {},
   "outputs": [],
   "source": [
    "shook_dir = data_dir + '/shook_2020'\n",
    "os.makedirs(shook_dir, exist_ok=True)"
   ]
  },
  {
   "cell_type": "code",
   "execution_count": null,
   "id": "0fce0098-28a8-4b8d-a234-6d7aa82cba61",
   "metadata": {},
   "outputs": [],
   "source": [
    "dict_names = {\n",
    "              'SRR10480641': 'Non_Wounded_S1', \n",
    "              'SRR10480643': 'Non_Wounded_S2',\n",
    "              'SRR10480644': 'Non_Wounded_S3', \n",
    "              'SRR10480645': 'Non_Wounded_S4', \n",
    "              'SRR10480646': 'Non_Wounded_S5', \n",
    "              'SRR10480636': 'Wounded_S1', \n",
    "              'SRR10480637': 'Wounded_S2', \n",
    "              'SRR10480638': 'Wounded_S3', \n",
    "              'SRR10480639': 'Wounded_S4',\n",
    "              'SRR10480640': 'Wounded_S5',\n",
    "}"
   ]
  },
  {
   "cell_type": "code",
   "execution_count": null,
   "id": "2973aa36-3bfc-413f-ad36-1af0497e67ee",
   "metadata": {},
   "outputs": [],
   "source": [
    "df = pd.DataFrame({'name': list(dict_names.values()), 'technology': ['10xv3']*len(dict_names), 'targetnumcells': [5000]*len(dict_names)})\n",
    "df.to_csv(shook_dir + '/metadata.tab', sep='\\t', index=None)"
   ]
  },
  {
   "cell_type": "code",
   "execution_count": null,
   "id": "7e0620d0-a004-4382-9c2b-9371cf67d208",
   "metadata": {},
   "outputs": [],
   "source": [
    "for SRR, name in dict_names.items():\n",
    "    !cd {shook_dir} && parallel-fastq-dump -s {SRR} --gzip --split-files -t 8 "
   ]
  },
  {
   "cell_type": "code",
   "execution_count": null,
   "id": "d7de1fc8-6f80-467e-94e6-9b37b2f09d54",
   "metadata": {},
   "outputs": [],
   "source": [
    "for SRR, name in dict_names.items():\n",
    "    !cd {shook_dir} && loompy fromfq {name}.loom {name} {mouse_gencode_dir} metadata.tab {shook_dir}/{SRR}_1.fastq.gz {shook_dir}/{SRR}_2.fastq.gz"
   ]
  },
  {
   "cell_type": "code",
   "execution_count": null,
   "id": "a8bdd499-9453-49d8-8d5e-2166788f2b88",
   "metadata": {},
   "outputs": [],
   "source": [
    "adata_Non_Wounded_S1 = sc.read(f\"{shook_dir}/Non_Wounded_S1.loom\")\n",
    "adata_Non_Wounded_S1.var_names_make_unique()\n",
    "\n",
    "adata_Non_Wounded_S2 = sc.read(f\"{shook_dir}/Non_Wounded_S3.loom\")\n",
    "adata_Non_Wounded_S2.var_names_make_unique()\n",
    "\n",
    "adata_Non_Wounded_S3 = sc.read(f\"{shook_dir}/Non_Wounded_S3.loom\")\n",
    "adata_Non_Wounded_S3.var_names_make_unique()\n",
    "\n",
    "adata_Non_Wounded_S4 = sc.read(f\"{shook_dir}/Non_Wounded_S4.loom\")\n",
    "adata_Non_Wounded_S4.var_names_make_unique()\n",
    "\n",
    "adata_Non_Wounded_S5 = sc.read(f\"{shook_dir}/Non_Wounded_S5.loom\")\n",
    "adata_Non_Wounded_S5.var_names_make_unique()"
   ]
  },
  {
   "cell_type": "code",
   "execution_count": null,
   "id": "ab9abeb3-ec49-43b2-a688-328c6c2b3f7f",
   "metadata": {},
   "outputs": [],
   "source": [
    "adata_shook_NW = sc.AnnData.concatenate(adata_Non_Wounded_S1, adata_Non_Wounded_S2, adata_Non_Wounded_S3, \n",
    "                                       adata_Non_Wounded_S4, adata_Non_Wounded_S5)\n",
    "adata_shook_NW.write_h5ad(f\"{shook_dir}/adata_shook_NW.h5\")"
   ]
  }
 ],
 "metadata": {
  "kernelspec": {
   "display_name": "Python [conda env:alex-base] *",
   "language": "python",
   "name": "conda-env-alex-base-py"
  },
  "language_info": {
   "codemirror_mode": {
    "name": "ipython",
    "version": 3
   },
   "file_extension": ".py",
   "mimetype": "text/x-python",
   "name": "python",
   "nbconvert_exporter": "python",
   "pygments_lexer": "ipython3",
   "version": "3.8.0"
  }
 },
 "nbformat": 4,
 "nbformat_minor": 5
}

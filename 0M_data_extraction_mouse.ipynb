{
 "cells": [
  {
   "cell_type": "markdown",
   "id": "religious-seafood",
   "metadata": {},
   "source": [
    "# Data extraction\n",
    "\n",
    "In this notebook we are going to extract the raw or processed data from all datasets, to later analyze it in different notebooks."
   ]
  },
  {
   "cell_type": "code",
   "execution_count": null,
   "id": "783a7209-0199-4858-802d-7340e696003c",
   "metadata": {
    "tags": []
   },
   "outputs": [],
   "source": [
    "%load_ext autoreload\n",
    "%autoreload 2"
   ]
  },
  {
   "cell_type": "code",
   "execution_count": null,
   "id": "micro-currency",
   "metadata": {
    "tags": []
   },
   "outputs": [],
   "source": [
    "import matplotlib as mpl\n",
    "import matplotlib.pyplot as plt\n",
    "import mygene\n",
    "import numpy as np\n",
    "import os\n",
    "import pandas as pd\n",
    "import scanpy as sc\n",
    "import scanpy.external as sce\n",
    "from tqdm import tqdm\n",
    "import triku as tk\n",
    "pd.set_option('display.max_columns', None)"
   ]
  },
  {
   "cell_type": "code",
   "execution_count": null,
   "id": "dcf67bbb-74b8-45cb-ab50-c7cd84e371c8",
   "metadata": {
    "tags": []
   },
   "outputs": [],
   "source": [
    "from cellassign import assign_cats\n",
    "from fb_functions import metadata_assignment"
   ]
  },
  {
   "cell_type": "code",
   "execution_count": null,
   "id": "9d89ffd1-4827-447b-8825-12f53628cd78",
   "metadata": {
    "tags": []
   },
   "outputs": [],
   "source": [
    "# Palettes for UMAP gene expression\n",
    "\n",
    "magma = [plt.get_cmap('magma')(i) for i in np.linspace(0,1, 80)]\n",
    "magma[0] = (0.88, 0.88, 0.88, 1)\n",
    "magma = mpl.colors.LinearSegmentedColormap.from_list(\"\", magma[:65])"
   ]
  },
  {
   "cell_type": "code",
   "execution_count": null,
   "id": "latin-spoke",
   "metadata": {
    "tags": []
   },
   "outputs": [],
   "source": [
    "data_dir = os.getcwd() + '/data/'"
   ]
  },
  {
   "cell_type": "code",
   "execution_count": null,
   "id": "outdoor-jewelry",
   "metadata": {
    "tags": []
   },
   "outputs": [],
   "source": [
    "mouse_gencode_dir = \"/media/seth/SETH_DATA/SETH_Alex/Programs/mouse_GRCm38_gencode.v31\"\n",
    "program_dir = \"/media/seth/SETH_DATA/SETH_Alex/Programs/\""
   ]
  },
  {
   "cell_type": "markdown",
   "id": "0c0cc635-5279-4091-9a20-989cadc5fae3",
   "metadata": {},
   "source": [
    "## Abbasi et al. 2020"
   ]
  },
  {
   "cell_type": "code",
   "execution_count": null,
   "id": "9e16c68f-429f-48b7-9f15-bc721da97752",
   "metadata": {
    "tags": []
   },
   "outputs": [],
   "source": [
    "abbasi_2020_dir = data_dir + '/abassi_2020'\n",
    "os.makedirs(abbasi_2020_dir, exist_ok=True)"
   ]
  },
  {
   "cell_type": "code",
   "execution_count": null,
   "id": "e4c0113b-ca48-444c-a5f1-27458be8924c",
   "metadata": {},
   "outputs": [],
   "source": [
    "os.makedirs(f\"{abbasi_2020_dir}/GSM2910020\", exist_ok=True)\n",
    "!cd {abbasi_2020_dir} && wget https://ftp.ncbi.nlm.nih.gov/geo/samples/GSM2910nnn/GSM2910020/suppl/GSM2910020_sample_4_matrix.mtx.gz -O GSM2910020/matrix.mtx.gz\n",
    "!cd {abbasi_2020_dir} && wget https://ftp.ncbi.nlm.nih.gov/geo/samples/GSM2910nnn/GSM2910020/suppl/GSM2910020_sample_4_barcodes.tsv.gz -O GSM2910020/barcodes.tsv.gz\n",
    "!cd {abbasi_2020_dir} && wget https://ftp.ncbi.nlm.nih.gov/geo/samples/GSM2910nnn/GSM2910020/suppl/GSM2910020_sample_4_genes.tsv.gz -O GSM2910020/features.tsv.gz"
   ]
  },
  {
   "cell_type": "code",
   "execution_count": null,
   "id": "9ad4aa91-3af7-4606-99ef-8e35ba20d444",
   "metadata": {
    "tags": []
   },
   "outputs": [],
   "source": [
    "adata_abassi_2020 = sc.read_mtx(f\"{abbasi_2020_dir}/GSM2910020/matrix.mtx.gz\").transpose()\n",
    "adata_abassi_2020.var_names = pd.read_csv(f\"{abbasi_2020_dir}/GSM2910020/features.tsv.gz\", sep='\\t', header=None)[1].values\n",
    "adata_abassi_2020.obs_names = pd.read_csv(f\"{abbasi_2020_dir}/GSM2910020/barcodes.tsv.gz\", sep='\\t', header=None)[0].values\n",
    "\n",
    "adata_abassi_2020.var_names_make_unique()\n",
    "metadata_assignment(adata_abassi_2020, 'Abbasi', 2020, 'Ctrl')"
   ]
  },
  {
   "cell_type": "code",
   "execution_count": null,
   "id": "a83bd284-8730-4ba4-a20b-85a38eb42d0d",
   "metadata": {
    "tags": []
   },
   "outputs": [],
   "source": [
    "adata_abassi_2020.write_h5ad(f\"{abbasi_2020_dir}/abassi_2020_ctrl.h5\")"
   ]
  },
  {
   "cell_type": "markdown",
   "id": "11e0c4dc-8500-40f1-83e8-d090555f2a0d",
   "metadata": {},
   "source": [
    "## Buechler et al. 2021"
   ]
  },
  {
   "cell_type": "code",
   "execution_count": null,
   "id": "1c6c7cb2-89cb-4cea-b928-5b8b78b1375b",
   "metadata": {
    "tags": []
   },
   "outputs": [],
   "source": [
    "buechler_2021_dir = data_dir + '/buechler_2021'\n",
    "os.makedirs(buechler_2021_dir, exist_ok=True)"
   ]
  },
  {
   "cell_type": "code",
   "execution_count": null,
   "id": "08dc558c-02c2-4b35-8f95-a599b5cfbc51",
   "metadata": {},
   "outputs": [],
   "source": [
    "!cd {buechler_2021_dir} && wget ftp://ftp.ebi.ac.uk/pub/databases/microarray/data/experiment/MTAB/E-MTAB-10315/LIB5436740_SAM24390211_S4_L001_R2_001.fastq.gz\n",
    "!cd {buechler_2021_dir} && wget ftp://ftp.ebi.ac.uk/pub/databases/microarray/data/experiment/MTAB/E-MTAB-10315/LIB5436740_SAM24390211_S4_L001_R1_001.fastq.gz\n",
    "    \n",
    "!cd {buechler_2021_dir} && wget ftp://ftp.ebi.ac.uk/pub/databases/microarray/data/experiment/MTAB/E-MTAB-10315/LIB5436740_SAM24390211_S4_L002_R1_001.fastq.gz\n",
    "!cd {buechler_2021_dir} && wget ftp://ftp.ebi.ac.uk/pub/databases/microarray/data/experiment/MTAB/E-MTAB-10315/LIB5436740_SAM24390211_S4_L002_R2_001.fastq.gz"
   ]
  },
  {
   "cell_type": "code",
   "execution_count": null,
   "id": "97fe2552-eb25-4e34-a961-6597576c0041",
   "metadata": {},
   "outputs": [],
   "source": [
    "df = pd.DataFrame({'name': ['buechler_2021'], 'technology': ['10xv3'], 'targetnumcells': [5000]})\n",
    "df.to_csv(buechler_dir + '/metadata.tab', sep='\\t', index=None)"
   ]
  },
  {
   "cell_type": "code",
   "execution_count": null,
   "id": "9f7a0c4d-0842-479b-9837-340468b8da4e",
   "metadata": {},
   "outputs": [],
   "source": [
    "!cd {buechler_2021_dir} && loompy fromfq buechler_2021.loom buechler_2021 {mouse_gencode_dir} metadata.tab \\\n",
    "LIB5436740_SAM24390211_S4_L001_R1_001.fastq.gz LIB5436740_SAM24390211_S4_L001_R2_001.fastq.gz \\\n",
    "LIB5436740_SAM24390211_S4_L002_R1_001.fastq.gz LIB5436740_SAM24390211_S4_L002_R2_001.fastq.gz "
   ]
  },
  {
   "cell_type": "code",
   "execution_count": null,
   "id": "5e3258e5-8955-4179-a06d-c0ab23e0bc7d",
   "metadata": {
    "tags": []
   },
   "outputs": [],
   "source": [
    "buechler_2021 = sc.read(f\"{buechler_2021_dir}/buechler_2021.loom\")\n",
    "metadata_assignment(buechler_2021_dir, 'Buechler', 2021, '0')\n",
    "buechler_2021.write_h5ad(f\"{buechler_2021_dir}/buechler_2021_ctrl.h5\")"
   ]
  },
  {
   "cell_type": "markdown",
   "id": "71e678ca-3586-46b5-bc70-79cab6fe4f90",
   "metadata": {
    "toc-hr-collapsed": true
   },
   "source": [
    "## Boothby et al. 2021 "
   ]
  },
  {
   "cell_type": "code",
   "execution_count": null,
   "id": "4343068b-ea21-4fae-a357-5aae77e32366",
   "metadata": {
    "tags": []
   },
   "outputs": [],
   "source": [
    "boothby_2021_dir = data_dir + '/boothby_2021'\n",
    "os.makedirs(boothby_2021_dir, exist_ok=True)"
   ]
  },
  {
   "cell_type": "code",
   "execution_count": null,
   "id": "866fe786-3de8-429b-a8a3-1297d40b5dd5",
   "metadata": {
    "tags": []
   },
   "outputs": [],
   "source": [
    "!cd {boothby_2021_dir} && wget https://ftp.ncbi.nlm.nih.gov/geo/samples/GSM5549nnn/GSM5549901/suppl/GSM5549901%5FMs%5FPBS%5Ffiltered%5Fgene%5Fbc%5Fmatrices%5Fh5%2Eh5\n",
    "!cd {boothby_2021_dir} && wget https://ftp.ncbi.nlm.nih.gov/geo/samples/GSM5549nnn/GSM5549902/suppl/GSM5549902%5FMs%5FDT%5Ffiltered%5Fgene%5Fbc%5Fmatrices%5Fh5%2Eh5"
   ]
  },
  {
   "cell_type": "code",
   "execution_count": null,
   "id": "54ba2001-680a-4010-adc7-e13934938391",
   "metadata": {
    "tags": []
   },
   "outputs": [],
   "source": [
    "boothby_2021_PBS = sc.read_10x_h5(boothby_2021_dir + '/GSM5549901_Ms_PBS_filtered_gene_bc_matrices_h5.h5')\n",
    "boothby_2021_PBS.var_names_make_unique()\n",
    "metadata_assignment(boothby_2021_PBS, 'Boothby', 2021, 'PBS')\n",
    "\n",
    "boothby_2021_DT = sc.read_10x_h5(boothby_2021_dir + '/GSM5549902_Ms_DT_filtered_gene_bc_matrices_h5.h5')\n",
    "boothby_2021_DT.var_names_make_unique()\n",
    "metadata_assignment(boothby_2021_DT, 'Boothby', 2021, 'DT')"
   ]
  },
  {
   "cell_type": "code",
   "execution_count": null,
   "id": "eb91150e-b6cb-43a1-bcd1-7280605fa796",
   "metadata": {
    "tags": []
   },
   "outputs": [],
   "source": [
    "boothby_2021_PBS.write_h5ad(boothby_2021_dir + '/boothby_2021_ctrl.h5')\n",
    "\n",
    "boothby_2021_DT.write_h5ad(boothby_2021_dir + '/boothby_2021_DT.h5')"
   ]
  },
  {
   "cell_type": "markdown",
   "id": "c5af74c1-90b4-4150-a005-c450cbf3833d",
   "metadata": {},
   "source": [
    "## Efremova, Mirjana Panglao DB) 2018"
   ]
  },
  {
   "cell_type": "code",
   "execution_count": null,
   "id": "5cd5c0bb-bc6d-4085-88db-b4cf26fb14bc",
   "metadata": {
    "tags": []
   },
   "outputs": [],
   "source": [
    "efremova_2018_dir = data_dir + '/efremova_2018'\n",
    "os.makedirs(efremova_2018_dir, exist_ok=True)"
   ]
  },
  {
   "cell_type": "code",
   "execution_count": null,
   "id": "cc8baa75-f4dc-4421-bb55-b465ecc83132",
   "metadata": {},
   "outputs": [],
   "source": [
    "!cd {efremova_2018_dir} && wget ftp://ftp.ebi.ac.uk/pub/databases/microarray/data/experiment/MTAB/E-MTAB-7417/3421STDY7639028_S1_L001_R1_001.fastq.gz\n",
    "!cd {efremova_2018_dir} && wget ftp://ftp.ebi.ac.uk/pub/databases/microarray/data/experiment/MTAB/E-MTAB-7417/3421STDY7639028_S1_L001_R2_001.fastq.gz\n",
    "    \n",
    "!cd {efremova_2018_dir} && wget ftp://ftp.ebi.ac.uk/pub/databases/microarray/data/experiment/MTAB/E-MTAB-7417/3421STDY7639029_S1_L001_R1_001.fastq.gz\n",
    "!cd {efremova_2018_dir} && wget ftp://ftp.ebi.ac.uk/pub/databases/microarray/data/experiment/MTAB/E-MTAB-7417/3421STDY7639029_S1_L001_R2_001.fastq.gz"
   ]
  },
  {
   "cell_type": "code",
   "execution_count": null,
   "id": "8369b8d1-3648-44b9-9113-693425a6d042",
   "metadata": {},
   "outputs": [],
   "source": [
    "df = pd.DataFrame({'name': ['efremova_2018_S1', 'efremova_2018_S2'], 'technology': ['10xv2']*2, 'targetnumcells': [5000]*2})\n",
    "df.to_csv(efremova_2018_dir + '/metadata.tab', sep='\\t', index=None)"
   ]
  },
  {
   "cell_type": "code",
   "execution_count": null,
   "id": "3aef556a-2dcf-48af-b1d7-ef5cd5484680",
   "metadata": {},
   "outputs": [],
   "source": [
    "!cd {efremova_2018_dir} && loompy fromfq efremova_2018_S1.loom efremova_2018_S1 {mouse_gencode_dir} metadata.tab \\\n",
    "3421STDY7639028_S1_L001_R1_001.fastq.gz 3421STDY7639028_S1_L001_R2_001.fastq.gz"
   ]
  },
  {
   "cell_type": "code",
   "execution_count": null,
   "id": "944ce1de-978b-4848-89d3-ae06bc3ad0f9",
   "metadata": {},
   "outputs": [],
   "source": [
    "!cd {efremova_2018_dir} && loompy fromfq efremova_2018_S2.loom efremova_2018_S2 {mouse_gencode_dir} metadata.tab \\\n",
    "3421STDY7639029_S1_L001_R1_001.fastq.gz 3421STDY7639029_S1_L001_R2_001.fastq.gz"
   ]
  },
  {
   "cell_type": "code",
   "execution_count": null,
   "id": "8090c864-b38c-4905-81bf-8ec3b50139ad",
   "metadata": {
    "tags": []
   },
   "outputs": [],
   "source": [
    "adata_efremova_2018_S1 = sc.read(f\"{efremova_2018_dir}/efremova_2018_S1.loom\")\n",
    "adata_efremova_2018_S1.var_names_make_unique()\n",
    "metadata_assignment(adata_efremova_2018_S1, 'Efremova', 2018, '0')\n",
    "\n",
    "adata_efremova_2018_S2 = sc.read(f\"{efremova_2018_dir}/efremova_2018_S2.loom\")\n",
    "adata_efremova_2018_S2.var_names_make_unique()\n",
    "metadata_assignment(adata_efremova_2018_S1, 'Efremova', 2018, '1')\n",
    "\n",
    "adata_efremova_2018 = sc.AnnData.concatenate(adata_efremova_2018_S1, adata_efremova_2018_S2, batch_key='Internal sample identifier')\n",
    "adata_efremova_2018.write_h5ad(f\"{efremova_2018_dir}/efremova_2018_ctrl.h5\")"
   ]
  },
  {
   "cell_type": "markdown",
   "id": "cba7f7c5-5492-4725-b827-90916b87838a",
   "metadata": {},
   "source": [
    "## Haensel et al. 2021"
   ]
  },
  {
   "cell_type": "code",
   "execution_count": null,
   "id": "e7564cb8-3e0b-4a07-b18e-941daf927ad5",
   "metadata": {},
   "outputs": [],
   "source": [
    "haensel_2021_dir = data_dir + '/haensel_2021'\n",
    "os.makedirs(haensel_2021_dir, exist_ok=True)"
   ]
  },
  {
   "cell_type": "code",
   "execution_count": null,
   "id": "71b31a79-9e00-446d-a078-0e224cdac485",
   "metadata": {},
   "outputs": [],
   "source": [
    "os.makedirs(f\"{haensel_dir}/GSM4230076\", exist_ok=True)\n",
    "!cd {haensel_2021_dir} && wget https://ftp.ncbi.nlm.nih.gov/geo/samples/GSM4230nnn/GSM4230076/suppl/GSM4230076_Un-Wounded_1_scRNA-Seq.mtx.gz -O GSM4230076/matrix.mtx.gz\n",
    "!cd {haensel_2021_dir} && wget https://ftp.ncbi.nlm.nih.gov/geo/samples/GSM4230nnn/GSM4230076/suppl/GSM4230076_barcodes_Un-Wounded_1_scRNA-Seq.tsv.gz  -O GSM4230076/barcodes.tsv.gz\n",
    "!cd {haensel_2021_dir} && wget https://ftp.ncbi.nlm.nih.gov/geo/samples/GSM4230nnn/GSM4230076/suppl/GSM4230076_genes_Un-Wounded_1_scRNA-Seq.tsv.gz -O GSM4230076/features.tsv.gz"
   ]
  },
  {
   "cell_type": "code",
   "execution_count": null,
   "id": "b8e124e8-6688-4de2-888e-20527d66205b",
   "metadata": {},
   "outputs": [],
   "source": [
    "os.makedirs(f\"{haensel_2021_dir}/GSM4230077\", exist_ok=True)\n",
    "!cd {haensel_2021_dir} && wget https://ftp.ncbi.nlm.nih.gov/geo/samples/GSM4230nnn/GSM4230077/suppl/GSM4230077_Un-Wounded_2_scRNA-Seq.mtx.gz -O GSM4230077/matrix.mtx.gz\n",
    "!cd {haensel_2021_dir} && wget https://ftp.ncbi.nlm.nih.gov/geo/samples/GSM4230nnn/GSM4230077/suppl/GSM4230077_barcodes_Un-Wounded_2_scRNA-Seq.tsv.gz -O GSM4230077/barcodes.tsv.gz\n",
    "!cd {haensel_2021_dir} && wget https://ftp.ncbi.nlm.nih.gov/geo/samples/GSM4230nnn/GSM4230077/suppl/GSM4230077_genes_Un-Wounded_2_scRNA-Seq.tsv.gz -O GSM4230077/features.tsv.gz"
   ]
  },
  {
   "cell_type": "code",
   "execution_count": null,
   "id": "7fe8b0f1-9cd9-45c2-bbe9-e240d4801c27",
   "metadata": {},
   "outputs": [],
   "source": [
    "os.makedirs(f\"{haensel_2021_dir}/GSM4230078\", exist_ok=True)\n",
    "!cd {haensel_2021_dir} && wget https://ftp.ncbi.nlm.nih.gov/geo/samples/GSM4230nnn/GSM4230078/suppl/GSM4230078_Wounded_1_scRNA-Seq.mtx.gz -O GSM4230078/matrix.mtx.gz\n",
    "!cd {haensel_2021_dir} && wget https://ftp.ncbi.nlm.nih.gov/geo/samples/GSM4230nnn/GSM4230078/suppl/GSM4230078_barcodes_Wounded_1_scRNA-Seq.tsv.gz -O GSM4230078/barcodes.tsv.gz\n",
    "!cd {haensel_2021_dir} && wget https://ftp.ncbi.nlm.nih.gov/geo/samples/GSM4230nnn/GSM4230078/suppl/GSM4230078_genes_Wounded_1_scRNA-Seq.tsv.gz -O GSM4230078/features.tsv.gz"
   ]
  },
  {
   "cell_type": "code",
   "execution_count": null,
   "id": "ced8e10f-d25e-4505-b47c-4fb99d85f771",
   "metadata": {},
   "outputs": [],
   "source": [
    "os.makedirs(f\"{haensel_2021_dir}/GSM4230079\", exist_ok=True)\n",
    "!cd {haensel_2021_dir} && wget https://ftp.ncbi.nlm.nih.gov/geo/samples/GSM4230nnn/GSM4230079/suppl/GSM4230079_Wounded_2_scRNA-Seq.mtx.gz -O GSM4230079/matrix.mtx.gz\n",
    "!cd {haensel_2021_dir} && wget https://ftp.ncbi.nlm.nih.gov/geo/samples/GSM4230nnn/GSM4230079/suppl/GSM4230079_barcodes_Wounded_2_scRNA-Seq.tsv.gz -O GSM4230079/barcodes.tsv.gz\n",
    "!cd {haensel_2021_dir} && wget https://ftp.ncbi.nlm.nih.gov/geo/samples/GSM4230nnn/GSM4230079/suppl/GSM4230079_genes_Wounded_2_scRNA-Seq.tsv.gz -O GSM4230079/features.tsv.gz"
   ]
  },
  {
   "cell_type": "code",
   "execution_count": null,
   "id": "17047d0b-4583-425d-9699-50d0daf2aa6a",
   "metadata": {},
   "outputs": [],
   "source": [
    "os.makedirs(f\"{haensel_2021_dir}/GSM4230080\", exist_ok=True)\n",
    "!cd {haensel_2021_dir} && wget https://ftp.ncbi.nlm.nih.gov/geo/samples/GSM4230nnn/GSM4230080/suppl/GSM4230080_Wounded_3_scRNA-Seq.mtx.gz -O GSM4230080/matrix.mtx.gz\n",
    "!cd {haensel_2021_dir} && wget https://ftp.ncbi.nlm.nih.gov/geo/samples/GSM4230nnn/GSM4230080/suppl/GSM4230080_barcodes_Wounded_3_scRNA-Seq.tsv.gz -O GSM4230080/barcodes.tsv.gz\n",
    "!cd {haensel_2021_dir} && wget https://ftp.ncbi.nlm.nih.gov/geo/samples/GSM4230nnn/GSM4230080/suppl/GSM4230080_genes_Wounded_3_scRNA-Seq.tsv.gz -O GSM4230080/features.tsv.gz"
   ]
  },
  {
   "cell_type": "code",
   "execution_count": null,
   "id": "f0bad92f-1ffd-4715-a72f-230449cb5466",
   "metadata": {},
   "outputs": [],
   "source": [
    "adata_GSM4230076 = sc.read_mtx(f\"{haensel_2021_dir}/GSM4230076/matrix.mtx.gz\").transpose()\n",
    "adata_GSM4230076.var_names = pd.read_csv(f\"{haensel_2021_dir}/GSM4230076/features.tsv.gz\", sep='\\t', header=None)[1].values\n",
    "adata_GSM4230076.obs_names = pd.read_csv(f\"{haensel_2021_dir}/GSM4230076/barcodes.tsv.gz\", sep='\\t', header=None)[0].values\n",
    "\n",
    "adata_GSM4230076.var_names_make_unique()\n",
    "metadata_assignment(adata_GSM4230076, 'Haensel', 2021, 'Un1')"
   ]
  },
  {
   "cell_type": "code",
   "execution_count": null,
   "id": "89fe0f7d-e109-48b4-ba36-05ab5e1c0222",
   "metadata": {},
   "outputs": [],
   "source": [
    "adata_GSM4230077 = sc.read_mtx(f\"{haensel_2021_dir}/GSM4230077/matrix.mtx.gz\").transpose()\n",
    "adata_GSM4230077.var_names = pd.read_csv(f\"{haensel_2021_dir}/GSM4230077/features.tsv.gz\", sep='\\t', header=None)[1].values\n",
    "adata_GSM4230077.obs_names = pd.read_csv(f\"{haensel_2021_dir}/GSM4230077/barcodes.tsv.gz\", sep='\\t', header=None)[0].values\n",
    "\n",
    "adata_GSM4230077.var_names_make_unique()\n",
    "metadata_assignment(adata_GSM4230077, 'Haensel', 2021, 'Un2')"
   ]
  },
  {
   "cell_type": "code",
   "execution_count": null,
   "id": "9a88bd44-b0d4-414c-96d1-1435b9c54604",
   "metadata": {},
   "outputs": [],
   "source": [
    "adata_haensel = sc.AnnData.concatenate(adata_GSM4230076, adata_GSM4230077, batch_key='Internal sample identifier', batch_categories=['Un1', 'Un2'])\n",
    "adata_haensel.write_h5ad(f\"{haensel_2021_dir}/haensel_2021_ctrl.h5\")"
   ]
  },
  {
   "cell_type": "code",
   "execution_count": null,
   "id": "97933c5c-1cc9-4651-953f-5014aa6a7ff2",
   "metadata": {},
   "outputs": [],
   "source": [
    "adata_GSM4230078 = sc.read_mtx(f\"{haensel_2021_dir}/GSM4230078/matrix.mtx.gz\").transpose()\n",
    "adata_GSM4230078.var_names = pd.read_csv(f\"{haensel_2021_dir}/GSM4230078/features.tsv.gz\", sep='\\t', header=None)[1].values\n",
    "adata_GSM4230078.obs_names = pd.read_csv(f\"{haensel_2021_dir}/GSM4230078/barcodes.tsv.gz\", sep='\\t', header=None)[0].values\n",
    "\n",
    "adata_GSM4230078.var_names_make_unique()\n",
    "metadata_assignment(adata_GSM4230078, 'Haensel', 2021, 'Wo1')"
   ]
  },
  {
   "cell_type": "code",
   "execution_count": null,
   "id": "78c507e9-d212-42c8-bf97-9c93e4df5123",
   "metadata": {},
   "outputs": [],
   "source": [
    "adata_GSM4230079 = sc.read_mtx(f\"{haensel_2021_dir}/GSM4230079/matrix.mtx.gz\").transpose()\n",
    "adata_GSM4230079.var_names = pd.read_csv(f\"{haensel_2021_dir}/GSM4230079/features.tsv.gz\", sep='\\t', header=None)[1].values\n",
    "adata_GSM4230079.obs_names = pd.read_csv(f\"{haensel_2021_dir}/GSM4230079/barcodes.tsv.gz\", sep='\\t', header=None)[0].values\n",
    "\n",
    "adata_GSM4230079.var_names_make_unique()\n",
    "metadata_assignment(adata_GSM4230079, 'Haensel', 2021, 'Wo2')"
   ]
  },
  {
   "cell_type": "code",
   "execution_count": null,
   "id": "0e449c5d-4e2b-4992-ba69-e156b12f84cc",
   "metadata": {},
   "outputs": [],
   "source": [
    "adata_GSM4230080 = sc.read_mtx(f\"{haensel_2021_dir}/GSM4230080/matrix.mtx.gz\").transpose()\n",
    "adata_GSM4230080.var_names = pd.read_csv(f\"{haensel_2021_dir}/GSM4230080/features.tsv.gz\", sep='\\t', header=None)[1].values\n",
    "adata_GSM4230080.obs_names = pd.read_csv(f\"{haensel_2021_dir}/GSM4230080/barcodes.tsv.gz\", sep='\\t', header=None)[0].values\n",
    "\n",
    "adata_GSM4230080.var_names_make_unique()\n",
    "metadata_assignment(adata_GSM4230080, 'Haensel', 2021, 'Wo3')"
   ]
  },
  {
   "cell_type": "code",
   "execution_count": null,
   "id": "5372a930-26b9-4bf1-aac7-a098c4467137",
   "metadata": {},
   "outputs": [],
   "source": [
    "adata_haensel_wounded = sc.AnnData.concatenate(adata_GSM4230078, adata_GSM4230079, adata_GSM4230080, batch_key='Internal sample identifier', batch_categories=['Wo1', 'Wo2', 'Wo3'])\n",
    "adata_haensel_wounded.write_h5ad(f\"{haensel_2021_dir}/haensel_2021_wounding.h5\")"
   ]
  },
  {
   "cell_type": "markdown",
   "id": "884e802c-8bda-4f1f-8c10-81a9da534339",
   "metadata": {},
   "source": [
    "## Joost et al. 2020"
   ]
  },
  {
   "cell_type": "code",
   "execution_count": null,
   "id": "ff2f00a1-67a3-4064-a1b9-66f6804c068a",
   "metadata": {
    "tags": []
   },
   "outputs": [],
   "source": [
    "joost_2020_dir = data_dir + '/joost_2020'\n",
    "os.makedirs(joost_2020_dir, exist_ok=True)"
   ]
  },
  {
   "cell_type": "code",
   "execution_count": null,
   "id": "2a4fee03-5577-4ca1-b504-6f0249af49af",
   "metadata": {
    "tags": []
   },
   "outputs": [],
   "source": [
    "! cd {joost_2020_dir} && wget https://ftp.ncbi.nlm.nih.gov/geo/series/GSE129nnn/GSE129218/suppl/GSE129218%5Fbarcodes%5F5w%2Etsv%2Egz\n",
    "! cd {joost_2020_dir} && wget https://ftp.ncbi.nlm.nih.gov/geo/series/GSE129nnn/GSE129218/suppl/GSE129218%5Fgenes%5F5w%2Etsv%2Egz\n",
    "! cd {joost_2020_dir} && wget https://ftp.ncbi.nlm.nih.gov/geo/series/GSE129nnn/GSE129218/suppl/GSE129218%5Fmatrix%5F5w%2Emtx%2Egz\n",
    "\n",
    "! cd {joost_2020_dir} && wget https://ftp.ncbi.nlm.nih.gov/geo/series/GSE129nnn/GSE129218/suppl/GSE129218%5Fbarcodes%5F9w%2Etsv%2Egz\n",
    "! cd {joost_2020_dir} && wget https://ftp.ncbi.nlm.nih.gov/geo/series/GSE129nnn/GSE129218/suppl/GSE129218%5Fgenes%5F9w%2Etsv%2Egz\n",
    "! cd {joost_2020_dir} && wget https://ftp.ncbi.nlm.nih.gov/geo/series/GSE129nnn/GSE129218/suppl/GSE129218%5Fmatrix%5F9w%2Emtx%2Egz\n",
    "    \n",
    "! cd {joost_2020_dir} && wget https://ftp.ncbi.nlm.nih.gov/geo/series/GSE129nnn/GSE129218/suppl/GSE129218%5Fassigned%5Fbarcodes%2Etxt%2Egz"
   ]
  },
  {
   "cell_type": "code",
   "execution_count": null,
   "id": "faee4571-bba8-4689-aedf-6eec8246df8f",
   "metadata": {
    "tags": []
   },
   "outputs": [],
   "source": [
    "! cd {joost_2020_dir} && wget https://ftp.ncbi.nlm.nih.gov/geo/samples/GSM4186nnn/GSM4186888/suppl/GSM4186888%5F10X%5F19%5F067%5Ffiltered%5Ffeature%5Fbc%5Fmatrix%2Eh5\n",
    "! cd {joost_2020_dir} && wget https://ftp.ncbi.nlm.nih.gov/geo/samples/GSM4186nnn/GSM4186889/suppl/GSM4186889%5F10X%5F19%5F069%5Ffiltered%5Ffeature%5Fbc%5Fmatrix%2Eh5\n",
    "! cd {joost_2020_dir} && wget https://ftp.ncbi.nlm.nih.gov/geo/samples/GSM4186nnn/GSM4186890/suppl/GSM4186890%5F10X%5F19%5F071%5Ffiltered%5Ffeature%5Fbc%5Fmatrix%2Eh5\n",
    "\n",
    "! cd {joost_2020_dir} && wget https://ftp.ncbi.nlm.nih.gov/geo/samples/GSM4186nnn/GSM4186891/suppl/GSM4186891%5F10X%5F19%5F068%5Ffiltered%5Ffeature%5Fbc%5Fmatrix%2Eh5\n",
    "! cd {joost_2020_dir} && wget https://ftp.ncbi.nlm.nih.gov/geo/samples/GSM4186nnn/GSM4186892/suppl/GSM4186892%5F10X%5F19%5F070%5Ffiltered%5Ffeature%5Fbc%5Fmatrix%2Eh5\n",
    "! cd {joost_2020_dir} && wget https://ftp.ncbi.nlm.nih.gov/geo/samples/GSM4186nnn/GSM4186893/suppl/GSM4186893%5F10X%5F19%5F072%5Ffiltered%5Ffeature%5Fbc%5Fmatrix%2Eh5"
   ]
  },
  {
   "cell_type": "code",
   "execution_count": null,
   "id": "47cdf81b-8060-4456-884c-e9b219521219",
   "metadata": {
    "tags": []
   },
   "outputs": [],
   "source": [
    "df = pd.read_csv(f\"{joost_2020_dir}/GSE129218_assigned_barcodes.txt.gz\", sep='\\t', header=None).set_index([0])\n",
    "dict_map = {'5wk1': '5w - replicate 1', '5wk2': '5w - replicate 2', '5wk3': '5w - replicate 3', '9wk1': '9w - replicate 1', '9wk2': '9w - replicate 2', '9wk3': '9w - replicate 3'} \n",
    "df[1] = df[1].map(dict_map) \n",
    "df"
   ]
  },
  {
   "cell_type": "code",
   "execution_count": null,
   "id": "a4dc40de-2c0e-4c9f-b414-590ebebda7ea",
   "metadata": {
    "tags": []
   },
   "outputs": [],
   "source": [
    "df.loc[adata_joost_2020_5w.obs_names][1]"
   ]
  },
  {
   "cell_type": "code",
   "execution_count": null,
   "id": "b87eab22-81cb-4d30-baf7-3db52ee694f4",
   "metadata": {
    "tags": []
   },
   "outputs": [],
   "source": [
    "adata_joost_2020_5w.obs_names"
   ]
  },
  {
   "cell_type": "code",
   "execution_count": null,
   "id": "a5a9ee70-deb5-432b-8af4-0baba2250a35",
   "metadata": {
    "tags": []
   },
   "outputs": [],
   "source": [
    "adata_joost_2020_5w"
   ]
  },
  {
   "cell_type": "code",
   "execution_count": null,
   "id": "04a30887-0ccd-4b25-ace8-d9146ae33f7b",
   "metadata": {
    "tags": []
   },
   "outputs": [],
   "source": [
    "adata_joost_2020_5w = sc.read_mtx(f\"{joost_2020_dir}/GSE129218_matrix_5w.mtx.gz\").transpose()\n",
    "adata_joost_2020_5w.var_names = pd.read_csv(f\"{joost_2020_dir}/GSE129218_genes_5w.tsv.gz\", sep='\\t', header=None)[1].values\n",
    "adata_joost_2020_5w.obs_names = pd.read_csv(f\"{joost_2020_dir}/GSE129218_barcodes_5w.tsv.gz\", sep='\\t', header=None)[0].values\n",
    "adata_joost_2020_5w.obs[''] = pd.read_csv(f\"{joost_2020_dir}/GSE129218_barcodes_5w.tsv.gz\", sep='\\t', header=None)[0].values\n",
    "\n",
    "adata_joost_2020_5w.var_names_make_unique()\n",
    "adata_joost_2020_5w.obs['Internal sample identifier'] = df.loc[adata_joost_2020_5w.obs_names][1].values.astype('category')"
   ]
  },
  {
   "cell_type": "code",
   "execution_count": null,
   "id": "d79592e0-c951-4b14-af8f-db545ded2a2c",
   "metadata": {
    "tags": []
   },
   "outputs": [],
   "source": [
    "adata_joost_2020_9w = sc.read_mtx(f\"{joost_2020_dir}/GSE129218_matrix_5w.mtx.gz\").transpose()\n",
    "adata_joost_2020_9w.var_names = pd.read_csv(f\"{joost_2020_dir}/GSE129218_genes_5w.tsv.gz\", sep='\\t', header=None)[1].values\n",
    "adata_joost_2020_9w.obs_names = pd.read_csv(f\"{joost_2020_dir}/GSE129218_barcodes_5w.tsv.gz\", sep='\\t', header=None)[0].values\n",
    "adata_joost_2020_5w.obs[''] = pd.read_csv(f\"{joost_2020_dir}/GSE129218_barcodes_5w.tsv.gz\", sep='\\t', header=None)[0].values\n",
    "\n",
    "adata_joost_2020_5w.var_names_make_unique()\n",
    "adata_joost_2020_5w.obs['Internal sample identifier'] = df.loc[adata_joost_2020_5w.obs_names][1]"
   ]
  },
  {
   "cell_type": "code",
   "execution_count": null,
   "id": "3f765d3b-e7a2-4baf-bde3-4f79db8e0184",
   "metadata": {
    "tags": []
   },
   "outputs": [],
   "source": [
    "adata_joost_2020_5w"
   ]
  },
  {
   "cell_type": "code",
   "execution_count": null,
   "id": "6909cab9-c5bd-406f-93da-b2ecec3b2a8d",
   "metadata": {},
   "outputs": [],
   "source": [
    "adata_GSM4230077 = sc.read_mtx(f\"{haensel_2021_dir}/GSM4230077/matrix.mtx.gz\").transpose()\n",
    "adata_GSM4230077.var_names = pd.read_csv(f\"{haensel_2021_dir}/GSM4230077/features.tsv.gz\", sep='\\t', header=None)[1].values\n",
    "adata_GSM4230077.obs_names = pd.read_csv(f\"{haensel_2021_dir}/GSM4230077/barcodes.tsv.gz\", sep='\\t', header=None)[0].values\n",
    "\n",
    "adata_GSM4230077.var_names_make_unique()\n",
    "metadata_assignment(adata_GSM4230077, 'Haensel', 2021, 'Un2')"
   ]
  },
  {
   "cell_type": "code",
   "execution_count": null,
   "id": "5921e0e6-96e6-41ba-8402-d8123c5873a6",
   "metadata": {},
   "outputs": [],
   "source": [
    "adata_haensel = sc.AnnData.concatenate(adata_GSM4230076, adata_GSM4230077, batch_key='Internal sample identifier', batch_categories=['Un1', 'Un2'])\n",
    "adata_haensel.write_h5ad(f\"{haensel_2021_dir}/haensel_2021_ctrl.h5\")"
   ]
  },
  {
   "cell_type": "code",
   "execution_count": null,
   "id": "97e88dfc-936f-4480-9229-e8f97bd0ac7b",
   "metadata": {},
   "outputs": [],
   "source": [
    "adata_GSM4230078 = sc.read_mtx(f\"{haensel_2021_dir}/GSM4230078/matrix.mtx.gz\").transpose()\n",
    "adata_GSM4230078.var_names = pd.read_csv(f\"{haensel_2021_dir}/GSM4230078/features.tsv.gz\", sep='\\t', header=None)[1].values\n",
    "adata_GSM4230078.obs_names = pd.read_csv(f\"{haensel_2021_dir}/GSM4230078/barcodes.tsv.gz\", sep='\\t', header=None)[0].values\n",
    "\n",
    "adata_GSM4230078.var_names_make_unique()\n",
    "metadata_assignment(adata_GSM4230078, 'Haensel', 2021, 'Wo1')"
   ]
  },
  {
   "cell_type": "code",
   "execution_count": null,
   "id": "8d397e91-5e98-403f-8d07-4cb9e6517872",
   "metadata": {},
   "outputs": [],
   "source": [
    "adata_GSM4230079 = sc.read_mtx(f\"{haensel_2021_dir}/GSM4230079/matrix.mtx.gz\").transpose()\n",
    "adata_GSM4230079.var_names = pd.read_csv(f\"{haensel_2021_dir}/GSM4230079/features.tsv.gz\", sep='\\t', header=None)[1].values\n",
    "adata_GSM4230079.obs_names = pd.read_csv(f\"{haensel_2021_dir}/GSM4230079/barcodes.tsv.gz\", sep='\\t', header=None)[0].values\n",
    "\n",
    "adata_GSM4230079.var_names_make_unique()\n",
    "metadata_assignment(adata_GSM4230079, 'Haensel', 2021, 'Wo2')"
   ]
  },
  {
   "cell_type": "code",
   "execution_count": null,
   "id": "a4199905-1725-441e-8030-e9db40db3892",
   "metadata": {},
   "outputs": [],
   "source": [
    "adata_GSM4230080 = sc.read_mtx(f\"{haensel_2021_dir}/GSM4230080/matrix.mtx.gz\").transpose()\n",
    "adata_GSM4230080.var_names = pd.read_csv(f\"{haensel_2021_dir}/GSM4230080/features.tsv.gz\", sep='\\t', header=None)[1].values\n",
    "adata_GSM4230080.obs_names = pd.read_csv(f\"{haensel_2021_dir}/GSM4230080/barcodes.tsv.gz\", sep='\\t', header=None)[0].values\n",
    "\n",
    "adata_GSM4230080.var_names_make_unique()\n",
    "metadata_assignment(adata_GSM4230080, 'Haensel', 2021, 'Wo3')"
   ]
  },
  {
   "cell_type": "code",
   "execution_count": null,
   "id": "bb58bb0c-3cad-4e6b-9ed3-5aa0debe843f",
   "metadata": {},
   "outputs": [],
   "source": [
    "adata_haensel_wounded = sc.AnnData.concatenate(adata_GSM4230078, adata_GSM4230079, adata_GSM4230080, batch_key='Internal sample identifier', batch_categories=['Wo1', 'Wo2', 'Wo3'])\n",
    "adata_haensel_wounded.write_h5ad(f\"{haensel_2021_dir}/haensel_2021_wounding.h5\")"
   ]
  },
  {
   "cell_type": "markdown",
   "id": "6500b3e6-bac1-484b-b96e-83f1afb089bf",
   "metadata": {},
   "source": [
    "## Ma et al. 2020"
   ]
  },
  {
   "cell_type": "code",
   "execution_count": null,
   "id": "bb2ed840-1fea-4e6e-9277-4f23750462d9",
   "metadata": {},
   "outputs": [],
   "source": [
    "ma_dir = data_dir + '/ma_2020'\n",
    "os.makedirs(ma_dir, exist_ok=True)"
   ]
  },
  {
   "cell_type": "code",
   "execution_count": null,
   "id": "e63e523b-b7ba-49cd-8cae-98af6bf7235b",
   "metadata": {},
   "outputs": [],
   "source": [
    "adata_GSM4331840"
   ]
  },
  {
   "cell_type": "code",
   "execution_count": null,
   "id": "e9b9e5cb-8770-4b11-93d6-19bb62fb2827",
   "metadata": {},
   "outputs": [],
   "source": [
    "os.makedirs(f\"{ma_dir}/GSM4331840\", exist_ok=True)\n",
    "!cd {ma_dir} && wget https://ftp.ncbi.nlm.nih.gov/geo/samples/GSM4331nnn/GSM4331840/suppl/GSM4331840%5FSkin%2DM%2DY%5Fbarcodes%2Etsv%2Egz -O GSM4331840/barcodes.tsv.gz\n",
    "!cd {ma_dir} && wget https://ftp.ncbi.nlm.nih.gov/geo/samples/GSM4331nnn/GSM4331840/suppl/GSM4331840%5FSkin%2DM%2DY%5Fgenes%2Etsv%2Egz -O GSM4331840/features.tsv.gz\n",
    "!cd {ma_dir} && wget https://ftp.ncbi.nlm.nih.gov/geo/samples/GSM4331nnn/GSM4331840/suppl/GSM4331840%5FSkin%2DM%2DY%5Fmatrix%2Emtx%2Egz -O GSM4331840/matrix.mtx.gz"
   ]
  },
  {
   "cell_type": "code",
   "execution_count": null,
   "id": "b23c4027-7689-4716-ab1a-715c933637f4",
   "metadata": {},
   "outputs": [],
   "source": [
    "adata_GSM4331840_M_Y = sc.read_mtx(f\"{ma_dir}/GSM4331840/matrix.mtx.gz\").transpose()\n",
    "adata_GSM4331840_M_Y.var_names = pd.read_csv(f\"{ma_dir}/GSM4331840/features.tsv.gz\", sep='\\t', header=None)[1].values\n",
    "adata_GSM4331840_M_Y.obs_names = pd.read_csv(f\"{ma_dir}/GSM4331840/barcodes.tsv.gz\", sep='\\t', header=None)[0].values\n",
    "\n",
    "adata_GSM4331840_M_Y.var_names_make_unique()"
   ]
  },
  {
   "cell_type": "code",
   "execution_count": null,
   "id": "c1617b3c-ad08-4746-97ee-5132d7981720",
   "metadata": {},
   "outputs": [],
   "source": [
    "os.makedirs(f\"{ma_dir}/GSM4331841\", exist_ok=True)\n",
    "!cd {ma_dir} && wget https://ftp.ncbi.nlm.nih.gov/geo/samples/GSM4331nnn/GSM4331841/suppl/GSM4331841%5FSkin%2DM%2DO%5Fbarcodes%2Etsv%2Egz -O GSM4331841/barcodes.tsv.gz\n",
    "!cd {ma_dir} && wget https://ftp.ncbi.nlm.nih.gov/geo/samples/GSM4331nnn/GSM4331841/suppl/GSM4331841%5FSkin%2DM%2DO%5Fgenes%2Etsv%2Egz -O GSM4331841/features.tsv.gz\n",
    "!cd {ma_dir} && wget https://ftp.ncbi.nlm.nih.gov/geo/samples/GSM4331nnn/GSM4331841/suppl/GSM4331841%5FSkin%2DM%2DO%5Fmatrix%2Emtx%2Egz -O GSM4331841/matrix.mtx.gz"
   ]
  },
  {
   "cell_type": "code",
   "execution_count": null,
   "id": "a67fb92b-46af-4b7a-b442-dca9e9a5fa87",
   "metadata": {},
   "outputs": [],
   "source": [
    "adata_GSM4331841_M_O = sc.read_mtx(f\"{ma_dir}/GSM4331841/matrix.mtx.gz\").transpose()\n",
    "adata_GSM4331841_M_O.var_names = pd.read_csv(f\"{ma_dir}/GSM4331841/features.tsv.gz\", sep='\\t', header=None)[1].values\n",
    "adata_GSM4331841_M_O.obs_names = pd.read_csv(f\"{ma_dir}/GSM4331841/barcodes.tsv.gz\", sep='\\t', header=None)[0].values\n",
    "\n",
    "adata_GSM4331841_M_O.var_names_make_unique()"
   ]
  },
  {
   "cell_type": "code",
   "execution_count": null,
   "id": "a657ccf2-2f7c-4b67-89ba-9ad37180a127",
   "metadata": {},
   "outputs": [],
   "source": [
    "os.makedirs(f\"{ma_dir}/GSM4331842\", exist_ok=True)\n",
    "!cd {ma_dir} && wget https://ftp.ncbi.nlm.nih.gov/geo/samples/GSM4331nnn/GSM4331842/suppl/GSM4331842%5FSkin%2DM%2DCR%5Fbarcodes%2Etsv%2Egz -O GSM4331842/barcodes.tsv.gz\n",
    "!cd {ma_dir} && wget https://ftp.ncbi.nlm.nih.gov/geo/samples/GSM4331nnn/GSM4331842/suppl/GSM4331842%5FSkin%2DM%2DCR%5Fgenes%2Etsv%2Egz -O GSM4331842/features.tsv.gz\n",
    "!cd {ma_dir} && wget https://ftp.ncbi.nlm.nih.gov/geo/samples/GSM4331nnn/GSM4331842/suppl/GSM4331842%5FSkin%2DM%2DCR%5Fmatrix%2Emtx%2Egz -O GSM4331842/matrix.mtx.gz"
   ]
  },
  {
   "cell_type": "code",
   "execution_count": null,
   "id": "60bf1cd8-385e-44a2-8091-a40a2a50ee77",
   "metadata": {},
   "outputs": [],
   "source": [
    "adata_GSM4331842_M_CR = sc.read_mtx(f\"{ma_dir}/GSM4331842/matrix.mtx.gz\").transpose()\n",
    "adata_GSM4331842_M_CR.var_names = pd.read_csv(f\"{ma_dir}/GSM4331842/features.tsv.gz\", sep='\\t', header=None)[1].values\n",
    "adata_GSM4331842_M_CR.obs_names = pd.read_csv(f\"{ma_dir}/GSM4331842/barcodes.tsv.gz\", sep='\\t', header=None)[0].values\n",
    "\n",
    "adata_GSM4331842_M_CR.var_names_make_unique()"
   ]
  },
  {
   "cell_type": "code",
   "execution_count": null,
   "id": "c8e0b224-8802-4220-9444-247f28f9bae6",
   "metadata": {},
   "outputs": [],
   "source": [
    "os.makedirs(f\"{ma_dir}/GSM4331843\", exist_ok=True)\n",
    "!cd {ma_dir} && wget https://ftp.ncbi.nlm.nih.gov/geo/samples/GSM4331nnn/GSM4331843/suppl/GSM4331843%5FSkin%2DF%2DY%5Fbarcodes%2Etsv%2Egz -O GSM4331843/barcodes.tsv.gz\n",
    "!cd {ma_dir} && wget https://ftp.ncbi.nlm.nih.gov/geo/samples/GSM4331nnn/GSM4331843/suppl/GSM4331843%5FSkin%2DF%2DY%5Fgenes%2Etsv%2Egz -O GSM4331843/features.tsv.gz\n",
    "!cd {ma_dir} && wget https://ftp.ncbi.nlm.nih.gov/geo/samples/GSM4331nnn/GSM4331843/suppl/GSM4331843%5FSkin%2DF%2DY%5Fmatrix%2Emtx%2Egz -O GSM4331843/matrix.mtx.gz"
   ]
  },
  {
   "cell_type": "code",
   "execution_count": null,
   "id": "3de3990e-5083-40de-bf7f-6b763ffa73a8",
   "metadata": {},
   "outputs": [],
   "source": [
    "adata_GSM4331843_F_Y = sc.read_mtx(f\"{ma_dir}/GSM4331843/matrix.mtx.gz\").transpose()\n",
    "adata_GSM4331843_F_Y.var_names = pd.read_csv(f\"{ma_dir}/GSM4331843/features.tsv.gz\", sep='\\t', header=None)[1].values\n",
    "adata_GSM4331843_F_Y.obs_names = pd.read_csv(f\"{ma_dir}/GSM4331843/barcodes.tsv.gz\", sep='\\t', header=None)[0].values\n",
    "\n",
    "adata_GSM4331843_F_Y.var_names_make_unique()"
   ]
  },
  {
   "cell_type": "code",
   "execution_count": null,
   "id": "b6f8c774-b3a3-4b24-bfee-e9cbe92aea52",
   "metadata": {},
   "outputs": [],
   "source": [
    "os.makedirs(f\"{ma_dir}/GSM4331844\", exist_ok=True)\n",
    "!cd {ma_dir} && wget https://ftp.ncbi.nlm.nih.gov/geo/samples/GSM4331nnn/GSM4331844/suppl/GSM4331844%5FSkin%2DF%2DO%5Fbarcodes%2Etsv%2Egz -O GSM4331844/barcodes.tsv.gz\n",
    "!cd {ma_dir} && wget https://ftp.ncbi.nlm.nih.gov/geo/samples/GSM4331nnn/GSM4331844/suppl/GSM4331844%5FSkin%2DF%2DO%5Fgenes%2Etsv%2Egz -O GSM4331844/features.tsv.gz\n",
    "!cd {ma_dir} && wget https://ftp.ncbi.nlm.nih.gov/geo/samples/GSM4331nnn/GSM4331844/suppl/GSM4331844%5FSkin%2DF%2DO%5Fmatrix%2Emtx%2Egz -O GSM4331844/matrix.mtx.gz"
   ]
  },
  {
   "cell_type": "code",
   "execution_count": null,
   "id": "0384318f-cbec-4392-88bf-4c776fc516b1",
   "metadata": {},
   "outputs": [],
   "source": [
    "adata_GSM4331844_F_O = sc.read_mtx(f\"{ma_dir}/GSM4331844/matrix.mtx.gz\").transpose()\n",
    "adata_GSM4331844_F_O.var_names = pd.read_csv(f\"{ma_dir}/GSM4331844/features.tsv.gz\", sep='\\t', header=None)[1].values\n",
    "adata_GSM4331844_F_O.obs_names = pd.read_csv(f\"{ma_dir}/GSM4331844/barcodes.tsv.gz\", sep='\\t', header=None)[0].values\n",
    "\n",
    "adata_GSM4331844_F_O.var_names_make_unique()"
   ]
  },
  {
   "cell_type": "code",
   "execution_count": null,
   "id": "021e99b9-63e9-49b4-8234-90d0989c3055",
   "metadata": {},
   "outputs": [],
   "source": [
    "os.makedirs(f\"{ma_dir}/GSM4331845\", exist_ok=True)\n",
    "!cd {ma_dir} && wget https://ftp.ncbi.nlm.nih.gov/geo/samples/GSM4331nnn/GSM4331845/suppl/GSM4331845%5FSkin%2DF%2DCR%5Fbarcodes%2Etsv%2Egz -O GSM4331845/barcodes.tsv.gz\n",
    "!cd {ma_dir} && wget https://ftp.ncbi.nlm.nih.gov/geo/samples/GSM4331nnn/GSM4331845/suppl/GSM4331845%5FSkin%2DF%2DCR%5Fgenes%2Etsv%2Egz -O GSM4331845/features.tsv.gz\n",
    "!cd {ma_dir} && wget https://ftp.ncbi.nlm.nih.gov/geo/samples/GSM4331nnn/GSM4331845/suppl/GSM4331845%5FSkin%2DF%2DCR%5Fmatrix%2Emtx%2Egz -O GSM4331845/matrix.mtx.gz"
   ]
  },
  {
   "cell_type": "code",
   "execution_count": null,
   "id": "af4018a8-1b99-43a3-9ecf-edea309f64b3",
   "metadata": {},
   "outputs": [],
   "source": [
    "adata_GSM4331845_F_CR = sc.read_mtx(f\"{ma_dir}/GSM4331845/matrix.mtx.gz\").transpose()\n",
    "adata_GSM4331845_F_CR.var_names = pd.read_csv(f\"{ma_dir}/GSM4331845/features.tsv.gz\", sep='\\t', header=None)[1].values\n",
    "adata_GSM4331845_F_CR.obs_names = pd.read_csv(f\"{ma_dir}/GSM4331845/barcodes.tsv.gz\", sep='\\t', header=None)[0].values\n",
    "\n",
    "adata_GSM4331845_F_CR.var_names_make_unique()"
   ]
  },
  {
   "cell_type": "code",
   "execution_count": null,
   "id": "826bdb5e-de89-4f6b-9914-7531f71e1550",
   "metadata": {},
   "outputs": [],
   "source": [
    "adata_ma_Y = sc.AnnData.concatenate(adata_GSM4331840_M_Y, adata_GSM4331843_F_Y)\n",
    "adata_ma_O = sc.AnnData.concatenate(adata_GSM4331841_M_O, adata_GSM4331844_F_O)\n",
    "adata_ma_CR = sc.AnnData.concatenate(adata_GSM4331842_M_CR, adata_GSM4331845_F_CR)"
   ]
  },
  {
   "cell_type": "code",
   "execution_count": null,
   "id": "95fa7d4b-6568-425a-913d-a445c71e7d99",
   "metadata": {},
   "outputs": [],
   "source": [
    "adata_ma_Y.write_h5ad(f\"{ma_dir}/adata_ma_Y.h5\")\n",
    "adata_ma_O.write_h5ad(f\"{ma_dir}/adata_ma_O.h5\")\n",
    "adata_ma_CR.write_h5ad(f\"{ma_dir}/adata_ma_CR.h5\")"
   ]
  },
  {
   "cell_type": "markdown",
   "id": "e9c6e3ae-ed2a-4f50-a15a-9e12e06c7bcc",
   "metadata": {},
   "source": [
    "## Phan et al. 2020"
   ]
  },
  {
   "cell_type": "code",
   "execution_count": null,
   "id": "467d87c2-e9ca-4ae7-acf4-7b40f2dc1b08",
   "metadata": {},
   "outputs": [],
   "source": [
    "phan_2020_dir = data_dir + '/phan_2020'\n",
    "os.makedirs(phan_2020_dir, exist_ok=True)"
   ]
  },
  {
   "cell_type": "code",
   "execution_count": null,
   "id": "52f2b18d-c5fd-4c85-b09d-73ff86a7a973",
   "metadata": {},
   "outputs": [],
   "source": [
    "!cd {phan_2020_dir} && wget https://ftp.ncbi.nlm.nih.gov/geo/samples/GSM4647nnn/GSM4647788/suppl/GSM4647788_P21_1.loom.gz\n",
    "!cd {phan_2020_dir} && wget https://ftp.ncbi.nlm.nih.gov/geo/samples/GSM4647nnn/GSM4647789/suppl/GSM4647789_P21_2.loom.gz\n",
    "!cd {phan_2020_dir} && wget https://ftp.ncbi.nlm.nih.gov/geo/samples/GSM4647nnn/GSM4647790/suppl/GSM4647790_P21_3.loom.gz"
   ]
  },
  {
   "cell_type": "code",
   "execution_count": null,
   "id": "4d90b95b-654b-4815-928f-fe806c3805bb",
   "metadata": {},
   "outputs": [],
   "source": [
    "!cd {phan_2020_dir} && gunzip *"
   ]
  },
  {
   "cell_type": "code",
   "execution_count": null,
   "id": "d1a6e148-c384-4fc7-9bc1-fc076b743fee",
   "metadata": {
    "tags": []
   },
   "outputs": [],
   "source": [
    "adata_phan_2020_1 = sc.read(f\"{phan_2020_dir}/GSM4647788_P21_1.loom\")\n",
    "adata_phan_2020_1.var_names_make_unique()\n",
    "metadata_assignment(adata_phan_2020_1, 'Phan', 2020, 'P21_Un_1')\n",
    "\n",
    "adata_phan_2020_2 = sc.read(f\"{phan_2020_dir}/GSM4647789_P21_2.loom\")\n",
    "adata_phan_2020_2.var_names_make_unique()\n",
    "metadata_assignment(adata_phan_2020_2, 'Phan', 2020, 'P21_Un_2')\n",
    "\n",
    "\n",
    "adata_phan_2020_3 = sc.read(f\"{phan_2020_dir}/GSM4647790_P21_3.loom\")\n",
    "adata_phan_2020_3.var_names_make_unique()\n",
    "metadata_assignment(adata_phan_2020_2, 'Phan', 2020, 'P21_Un_3')"
   ]
  },
  {
   "cell_type": "code",
   "execution_count": null,
   "id": "b9fd8eb8-c21a-434e-a9a4-c39c7660519c",
   "metadata": {},
   "outputs": [],
   "source": [
    "adata_phan_2020 = sc.AnnData.concatenate(adata_phan_2020_1, adata_phan_2020_2, adata_phan_2020_3, \n",
    "                                         batch_key='Internal sample identifier', batch_categories=['P21_Un_1', 'P21_Un_2', 'P21_Un_3'])"
   ]
  },
  {
   "cell_type": "code",
   "execution_count": null,
   "id": "ecd27f5d-c2db-4248-8815-ee814193006d",
   "metadata": {},
   "outputs": [],
   "source": [
    "adata_phan_2020.write_h5ad(f\"{phan_2020_dir}/phan_2020_ctrl_21d.h5\")"
   ]
  },
  {
   "cell_type": "markdown",
   "id": "cc8a64e2-0023-4a5c-aa03-263830ee0a99",
   "metadata": {},
   "source": [
    "## Salzer 2018"
   ]
  },
  {
   "cell_type": "code",
   "execution_count": null,
   "id": "5068d53f-b517-4c5a-9088-61e4c9ab1aaf",
   "metadata": {
    "tags": []
   },
   "outputs": [],
   "source": [
    "salzer_2018_dir = data_dir + '/salzer_2018'\n",
    "os.makedirs(salzer_2018_dir, exist_ok=True)"
   ]
  },
  {
   "cell_type": "code",
   "execution_count": null,
   "id": "d97154d6-4dad-4c9a-bb4a-6d083a6e44ff",
   "metadata": {
    "tags": []
   },
   "outputs": [],
   "source": [
    "adata_salzer = sc.read(salzer_2018_dir + '/Salzer.h5ad')  # This h5ad files was provided externally"
   ]
  },
  {
   "cell_type": "code",
   "execution_count": null,
   "id": "73a666bd-7290-418f-a49c-6f2b38d7dce6",
   "metadata": {
    "tags": []
   },
   "outputs": [],
   "source": [
    "list_samples = ['P2143_N704', 'P2143_N708', 'P1963_N701', 'P1963_N705', 'P1962_N701', 'P1962_N705', 'P2134_N704', 'P2134_N708', \n",
    "                'P2004_N701', 'P2004_N705', 'P2139_N704', 'P2139_N708', 'P1964_N701', 'P1964_N705', 'P2135_N704', 'P2135_N708', \n",
    "                'P1961_N701', 'P1961_N705', 'P2005_N701', 'P2005_N705', 'P1960_N701', 'P1960_N705', ]\n",
    "\n",
    "list_batches = ['Y1_R2', 'O1_R2', 'Y2_R1', 'O2_R1', 'Y3_R1', 'O3_R1', 'Y4_R2', 'O4_R2', 'Y5_R1', 'O5_R1', 'Y6_R2', 'O6_R2', 'Y7_R1', 'O7_R1', 'Y8_R2', 'O8_R2', 'Y9_R1', \n",
    "                'O9_R1', 'Y10_R1', 'O10_R1', 'Y11_R1', 'O11_R1', ]\n",
    "\n",
    "list_adatas = []\n",
    "\n",
    "for sample, batch in zip(list_samples, list_batches):\n",
    "    adata_salzer_batch = adata_salzer[np.array([True if sample in i else False for i in adata_salzer.obs_names]), :]\n",
    "    adata_salzer_batch = metadata_assignment(adata_salzer_batch, 'Salzer', 2018, batch, do_return=True)\n",
    "    list_adatas.append(adata_salzer_batch)\n",
    "\n",
    "adata_salzer = sc.AnnData.concatenate(*list_adatas, batch_key='Internal sample identifier', batch_categories=list_batches)"
   ]
  },
  {
   "cell_type": "code",
   "execution_count": null,
   "id": "cfd9c3f1-7e9e-4861-816a-07076929d466",
   "metadata": {
    "tags": []
   },
   "outputs": [],
   "source": [
    "adata_salzer.write_h5ad(salzer_2018_dir + '/salzer_2018_young_old.h5')"
   ]
  },
  {
   "cell_type": "markdown",
   "id": "06671f20-63cf-430a-a09f-1169e705b229",
   "metadata": {},
   "source": [
    "## Shook 2020"
   ]
  },
  {
   "cell_type": "code",
   "execution_count": null,
   "id": "e2123f5a-6dac-410d-95e7-9b3e5d47fb26",
   "metadata": {
    "tags": []
   },
   "outputs": [],
   "source": [
    "shook_2020_dir = data_dir + '/shook_2020'\n",
    "os.makedirs(shook_2020_dir, exist_ok=True)"
   ]
  },
  {
   "cell_type": "code",
   "execution_count": null,
   "id": "0fce0098-28a8-4b8d-a234-6d7aa82cba61",
   "metadata": {},
   "outputs": [],
   "source": [
    "dict_names = {\n",
    "              'SRR10480641': 'Non_Wounded_S1', \n",
    "              'SRR10480643': 'Non_Wounded_S2',\n",
    "              'SRR10480644': 'Non_Wounded_S3', \n",
    "              'SRR10480645': 'Non_Wounded_S4', \n",
    "              'SRR10480646': 'Non_Wounded_S5', \n",
    "              'SRR10480636': 'Wounded_S1', \n",
    "              'SRR10480637': 'Wounded_S2', \n",
    "              'SRR10480638': 'Wounded_S3', \n",
    "              'SRR10480639': 'Wounded_S4',\n",
    "              'SRR10480640': 'Wounded_S5',\n",
    "}"
   ]
  },
  {
   "cell_type": "code",
   "execution_count": null,
   "id": "2973aa36-3bfc-413f-ad36-1af0497e67ee",
   "metadata": {},
   "outputs": [],
   "source": [
    "df = pd.DataFrame({'name': list(dict_names.values()), 'technology': ['10xv3']*len(dict_names), 'targetnumcells': [5000]*len(dict_names)})\n",
    "df.to_csv(shook_2020_dir + '/metadata.tab', sep='\\t', index=None)"
   ]
  },
  {
   "cell_type": "code",
   "execution_count": null,
   "id": "7e0620d0-a004-4382-9c2b-9371cf67d208",
   "metadata": {},
   "outputs": [],
   "source": [
    "for SRR, name in dict_names.items():\n",
    "    !cd {shook_2020_dir} && parallel-fastq-dump -s {SRR} --gzip --split-files -t 8 "
   ]
  },
  {
   "cell_type": "code",
   "execution_count": null,
   "id": "d7de1fc8-6f80-467e-94e6-9b37b2f09d54",
   "metadata": {},
   "outputs": [],
   "source": [
    "for SRR, name in dict_names.items():\n",
    "    !cd {shook_2020_dir} && loompy fromfq {name}.loom {name} {mouse_gencode_dir} metadata.tab {shook_dir}/{SRR}_1.fastq.gz {shook_dir}/{SRR}_2.fastq.gz"
   ]
  },
  {
   "cell_type": "code",
   "execution_count": null,
   "id": "a8bdd499-9453-49d8-8d5e-2166788f2b88",
   "metadata": {
    "tags": []
   },
   "outputs": [],
   "source": [
    "adata_Non_Wounded_S1 = sc.read(f\"{shook_2020_dir}/Non_Wounded_S1.loom\")\n",
    "adata_Non_Wounded_S1.var_names_make_unique()\n",
    "metadata_assignment(adata_Non_Wounded_S1, 'Shook', 2020, 'Ctrl_S1')\n",
    "\n",
    "adata_Non_Wounded_S2 = sc.read(f\"{shook_2020_dir}/Non_Wounded_S3.loom\")\n",
    "adata_Non_Wounded_S2.var_names_make_unique()\n",
    "metadata_assignment(adata_Non_Wounded_S2, 'Shook', 2020, 'Ctrl_S2')\n",
    "\n",
    "adata_Non_Wounded_S3 = sc.read(f\"{shook_2020_dir}/Non_Wounded_S3.loom\")\n",
    "adata_Non_Wounded_S3.var_names_make_unique()\n",
    "metadata_assignment(adata_Non_Wounded_S3, 'Shook', 2020, 'Ctrl_S3')\n",
    "\n",
    "adata_Non_Wounded_S4 = sc.read(f\"{shook_2020_dir}/Non_Wounded_S4.loom\")\n",
    "adata_Non_Wounded_S4.var_names_make_unique()\n",
    "metadata_assignment(adata_Non_Wounded_S4, 'Shook', 2020, 'Ctrl_S4')\n",
    "\n",
    "adata_Non_Wounded_S5 = sc.read(f\"{shook_2020_dir}/Non_Wounded_S5.loom\")\n",
    "adata_Non_Wounded_S5.var_names_make_unique()\n",
    "metadata_assignment(adata_Non_Wounded_S5, 'Shook', 2020, 'Ctrl_S5')"
   ]
  },
  {
   "cell_type": "code",
   "execution_count": null,
   "id": "ab9abeb3-ec49-43b2-a688-328c6c2b3f7f",
   "metadata": {
    "tags": []
   },
   "outputs": [],
   "source": [
    "adata_shook_NW = sc.AnnData.concatenate(adata_Non_Wounded_S1, adata_Non_Wounded_S2, adata_Non_Wounded_S3, \n",
    "                                       adata_Non_Wounded_S4, adata_Non_Wounded_S5, batch_key='Internal sample identifier', \n",
    "                                        batch_categories=['Ctrl_S1', 'Ctrl_S2', 'Ctrl_S3', 'Ctrl_S4', 'Ctrl_S5'])\n",
    "adata_shook_NW.write_h5ad(f\"{shook_2020_dir}/shook_2020_ctrl.h5\")"
   ]
  }
 ],
 "metadata": {
  "kernelspec": {
   "display_name": "Python [conda env:alex-base] *",
   "language": "python",
   "name": "conda-env-alex-base-py"
  },
  "language_info": {
   "codemirror_mode": {
    "name": "ipython",
    "version": 3
   },
   "file_extension": ".py",
   "mimetype": "text/x-python",
   "name": "python",
   "nbconvert_exporter": "python",
   "pygments_lexer": "ipython3",
   "version": "3.8.0"
  }
 },
 "nbformat": 4,
 "nbformat_minor": 5
}

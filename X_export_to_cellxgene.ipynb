{
 "cells": [
  {
   "cell_type": "markdown",
   "id": "35a11a9e-bbb3-4fe9-b7af-83651476d6e1",
   "metadata": {
    "execution": {
     "iopub.execute_input": "2023-02-17T11:19:14.375073Z",
     "iopub.status.busy": "2023-02-17T11:19:14.374456Z",
     "iopub.status.idle": "2023-02-17T11:19:14.380704Z",
     "shell.execute_reply": "2023-02-17T11:19:14.379481Z",
     "shell.execute_reply.started": "2023-02-17T11:19:14.374949Z"
    }
   },
   "source": [
    "# X Export datasets to cellxgene"
   ]
  },
  {
   "cell_type": "code",
   "execution_count": null,
   "id": "f73ce95b-adba-475c-9d0b-a501ddf82b6c",
   "metadata": {
    "tags": []
   },
   "outputs": [],
   "source": [
    "%load_ext autoreload\n",
    "%autoreload 2"
   ]
  },
  {
   "cell_type": "code",
   "execution_count": null,
   "id": "261ae650-320e-4276-a310-88f0e92acbd9",
   "metadata": {
    "tags": []
   },
   "outputs": [],
   "source": [
    "import scanpy as sc\n",
    "import scanpy.external as sce\n",
    "import pandas as pd\n",
    "import numpy as np\n",
    "import os\n",
    "import triku as tk\n",
    "import seaborn as sns\n",
    "import matplotlib.pyplot as plt\n",
    "import matplotlib as mpl\n",
    "from tqdm.notebook import tqdm\n",
    "import scipy.sparse as spr\n",
    "import networkx as nx\n",
    "from matplotlib import pylab"
   ]
  },
  {
   "cell_type": "code",
   "execution_count": null,
   "id": "02f059fb-0c1a-4e16-8123-b997eaea3498",
   "metadata": {
    "tags": []
   },
   "outputs": [],
   "source": [
    "# local imports and imports from other notebooks\n",
    "from cellassign import assign_cats\n",
    "from fb_functions import make_gene_scoring_with_expr, plot_score_graph, plot_UMAPS_gene, plot_adata_cluster_properties, make_dicts_fraction_mean, plot_dotplot_gene, plot_dotplot_list_genes\n",
    "%store -r dict_colors_mouse\n",
    "%store -r dict_colors_human\n",
    "%store -r seed\n",
    "%store -r magma\n",
    "%store -r data_dir\n",
    "%store -r dict_cats_fb_mouse"
   ]
  },
  {
   "cell_type": "code",
   "execution_count": null,
   "id": "ed50ab4d-4d1c-40cc-99e7-78385e066f89",
   "metadata": {
    "tags": []
   },
   "outputs": [],
   "source": [
    "%store -r plot_params\n",
    "\n",
    "pylab.rcParams.update(plot_params)\n",
    "pd.set_option('display.max_columns', None)\n",
    "pd.options.display.float_format = \"{:,.2f}\".format"
   ]
  },
  {
   "cell_type": "code",
   "execution_count": null,
   "id": "ca8211fc-f27b-400b-89f6-86c9772c760c",
   "metadata": {
    "tags": []
   },
   "outputs": [],
   "source": [
    "%store -r list_names_mouse\n",
    "%store -r list_all_datasets_mouse\n",
    "%store -r list_names_human\n",
    "%store -r list_all_datasets_human"
   ]
  },
  {
   "cell_type": "code",
   "execution_count": null,
   "id": "7c201234-4b2b-43b0-8ffd-64d839255b14",
   "metadata": {},
   "outputs": [],
   "source": []
  },
  {
   "cell_type": "markdown",
   "id": "c0f8347e-cdda-4d02-a2e7-1d316830db11",
   "metadata": {},
   "source": [
    "# Set normalised layer"
   ]
  },
  {
   "cell_type": "code",
   "execution_count": null,
   "id": "379cd142-8ad4-424c-9309-0a814aa2680b",
   "metadata": {
    "tags": []
   },
   "outputs": [],
   "source": [
    "for dataset in list_all_datasets_human + list_all_datasets_mouse:\n",
    "    dataset.layers['scaled'] = dataset.X.copy()\n",
    "    dataset.layers['processed'] = dataset.X.copy()\n",
    "    sc.pp.scale(dataset, layer='scaled', zero_center=True, max_value=1)"
   ]
  },
  {
   "cell_type": "code",
   "execution_count": null,
   "id": "8a1b3a44-fe42-4464-a534-012e422afd5d",
   "metadata": {},
   "outputs": [],
   "source": []
  },
  {
   "cell_type": "code",
   "execution_count": null,
   "id": "b5cb044c-6c75-42fc-934f-17e9b725318b",
   "metadata": {},
   "outputs": [],
   "source": []
  },
  {
   "cell_type": "code",
   "execution_count": null,
   "id": "70ebd6f3-b07b-4aec-8e66-92434b1d4df3",
   "metadata": {},
   "outputs": [],
   "source": []
  },
  {
   "cell_type": "code",
   "execution_count": null,
   "id": "b4bae439-428d-44b2-9c6a-62977e6a01e1",
   "metadata": {},
   "outputs": [],
   "source": []
  },
  {
   "cell_type": "markdown",
   "id": "2f1c827d-84c9-47a5-b930-86b5f5146e33",
   "metadata": {},
   "source": [
    "# Setting values for human adatas"
   ]
  },
  {
   "cell_type": "code",
   "execution_count": null,
   "id": "c9f4997b-03ad-447a-aecb-6729c28567b9",
   "metadata": {
    "tags": []
   },
   "outputs": [],
   "source": [
    "dict_HANCESTRO = {'White': 'HANCESTRO:0005', 'Caucasian': 'HANCESTRO:0005', 'African American': 'HANCESTRO:0568', 'Han chinese': 'HANCESTRO:0027', 'Hispanic': 'HANCESTRO:0014', 'Asian': 'HANCESTRO:0008', }\n",
    "dict_UBERON = {'Abdomen': 'UBERON:0001416', 'Axilla': 'UBERON:0015474', 'Back': 'UBERON:0001068', 'Breast': 'UBERON:0001868', 'Calf': 'UBERON:0004264', 'Cheek': 'UBERON:0008803', 'Chest': 'UBERON:0001868', \n",
    "              'Dorsal': 'UBERON:0001068', 'Dorsum': 'UBERON:0001068', 'Extremity': 'UBERON:0003532', 'Face': 'UBERON:1000021', 'Flank': 'UBERON:0001554', 'Foot': 'UBERON:0001513', 'Forearm': 'UBERON:0003403', \n",
    "              'Foreskin': 'UBERON:0001332', 'Head': 'UBERON:0001084', 'Hip': 'UBERON:0001554', 'Inguinoiliac': 'UBERON:8410021', 'Knee': 'UBERON:0001510', 'Left arm': 'UBERON:0002427', \n",
    "              'Left forearm': 'UBERON:0003403', 'Leg': 'UBERON:0001511', 'Lower back': 'UBERON:0009014', 'Lower extremity': 'UBERON:0001511', 'Lower leg': 'UBERON:0004264', 'Nail': 'UBERON:0001705', \n",
    "              'Neck': 'UBERON:0001417', 'Outer forearm': 'UBERON:0003403', 'Shoulder': 'UBERON:0001483', 'Skin of body': 'UBERON:0002097', 'Thigh': 'UBERON:0004262', 'Trunk': 'UBERON:0001085', \n",
    "              'Upper extremity': 'UBERON:0002427', 'Vulva': 'UBERON:0000997', 'Waist': 'UBERON:0037468', }\n",
    "dict_MONDO = {'Acne': 'MONDO:0011438', 'AD': 'MONDO:0011292', 'Aging': 'HP:0040006', 'Alopecia': 'MONDO:0004907', 'Atopic dermatitis': 'MONDO:0011292', 'Atopic eczema': 'MONDO:0004980', 'Ctcl': 'MONDO:0000607', \n",
    "             'CTCL': 'MONDO:0000607', 'DM - non ulcer': 'MONDO:0005015', 'DM - ulcer': 'MONDO:0005015', 'DM - ulcer - healing': 'MONDO:0005015', 'DM - ulcer - nonhealing': 'MONDO:0005015', 'Dress': 'MONDO:0044876', \n",
    "             'DSSC': 'MONDO:0016356', 'Eosinophilic fasciitis': 'MONDO:0009175', 'Healthy': 'PATO:0000461', 'Hidradenitis Suppurativa': 'MONDO:0006559', 'Keloid': 'MONDO:0005348', 'Leprosy': 'MONDO:0005124', \n",
    "             'Localised scleroderma': 'MONDO:0019562', 'LSSC': 'MONDO:0016359', 'Lupus': 'MONDO:0004670', 'Psoriasis': 'MONDO:0005083', 'Scar': 'HP:0100699', 'Systemic sclerosis': 'MONDO:0016359', \n",
    "             'VIH': 'MONDO:0005109', 'Vitiligo': 'MONDO:0008661', 'Wounding': 'HP:0100699', 'OTHER': 'PATO:0000461', }\n",
    "dict_HsapDv = {'3y': 'HsapDv:0000097', '6y': 'HsapDv:0000100', '9y': 'HsapDv:0000103', '15y': 'HsapDv:0000109', '16y': 'HsapDv:0000110', '17y': 'HsapDv:0000111', '18y': 'HsapDv:0000112', '20y': 'HsapDv:0000114', \n",
    "               '21y': 'HsapDv:0000115', '22y': 'HsapDv:0000116', '23y': 'HsapDv:0000117', '24y': 'HsapDv:0000118', '25y': 'HsapDv:0000119', '26y': 'HsapDv:0000120', '27y': 'HsapDv:0000121', '28y': 'HsapDv:0000122', \n",
    "               '29y': 'HsapDv:0000123', '30y': 'HsapDv:0000124', '31y': 'HsapDv:0000125', '32y': 'HsapDv:0000126', '33y': 'HsapDv:0000127', '34y': 'HsapDv:0000128', '35y': 'HsapDv:0000129', '36y': 'HsapDv:0000130', \n",
    "               '37y': 'HsapDv:0000131', '38y': 'HsapDv:0000132', '39y': 'HsapDv:0000133', '40y': 'HsapDv:0000134', '41y': 'HsapDv:0000135', '42y': 'HsapDv:0000136', '43y': 'HsapDv:0000137', '44y': 'HsapDv:0000138', \n",
    "               '45y': 'HsapDv:0000139', '46y': 'HsapDv:0000140', '47y': 'HsapDv:0000141', '48y': 'HsapDv:0000142', '49y': 'HsapDv:0000143', '50y': 'HsapDv:0000144', '51y': 'HsapDv:0000145', '52y': 'HsapDv:0000146', \n",
    "               '53y': 'HsapDv:0000147', '54y': 'HsapDv:0000148', '55y': 'HsapDv:0000149', '56y': 'HsapDv:0000150', '57y': 'HsapDv:0000151', '58y': 'HsapDv:0000152', '59y': 'HsapDv:0000153', '60y': 'HsapDv:0000154', \n",
    "               '61y': 'HsapDv:0000155', '62y': 'HsapDv:0000156', '63y': 'HsapDv:0000157', '64y': 'HsapDv:0000158', '65y': 'HsapDv:0000159', '66y': 'HsapDv:0000160', '67y': 'HsapDv:0000161', '68y': 'HsapDv:0000162', \n",
    "               '69y': 'HsapDv:0000163', '70y': 'HsapDv:0000164', '71y': 'HsapDv:0000165', '72y': 'HsapDv:0000166', '73y': 'HsapDv:0000167', '74y': 'HsapDv:0000168', '75y': 'HsapDv:0000169', '76y': 'HsapDv:0000170', \n",
    "               '77y': 'HsapDv:0000171', '78y': 'HsapDv:0000172', '79y': 'HsapDv:0000173', '80y': 'HsapDv:0000206', '81y': 'HsapDv:0000207', '82y': 'HsapDv:0000208', '83y': 'HsapDv:0000209', }\n",
    "dict_MmusDv = {'2d': 'MmusDv:0000113', '9d': 'MmusDv:0000113', '21d': 'MmusDv:0000047', '22d': 'MmusDv:0000047', '28d': 'MmusDv:0000048', '4.5w': 'MmusDv:0000048', '5w': 'MmusDv:0000049', '7w': 'MmusDv:0000051', \n",
    "               '8w': 'MmusDv:0000052', '9w': 'MmusDv:0000053', '3m': 'MmusDv:0000063', '18m': 'MmusDv:0000089', }\n",
    "dict_sex = {'F': 'PATO:0000383', 'M': 'PATO:0000384'}"
   ]
  },
  {
   "cell_type": "markdown",
   "id": "53fc1eaf-15ee-4a4e-bcd3-3c9e805b647c",
   "metadata": {},
   "source": [
    "## obs (general)"
   ]
  },
  {
   "cell_type": "code",
   "execution_count": null,
   "id": "29a4d0ca-89e9-411c-929b-80775296d177",
   "metadata": {
    "tags": []
   },
   "outputs": [],
   "source": [
    "for adata in list_all_datasets_human:\n",
    "    dict_vals = {'organism_ontology_term_id': 'NCBITaxon:9606', \n",
    "                 'assay_ontology_term_id': 'EFO:0008913', \n",
    "                 'cell_type_ontology_term_id': 'CL:0002620', \n",
    "                 'suspension_type': 'cell', \n",
    "                 'is_primary_data': False}\n",
    "    \n",
    "    for key, val in dict_vals.items():\n",
    "        adata.obs[key] = val\n",
    "        adata.obs[key] = adata.obs[key].astype('category')\n",
    "        \n",
    "    \n",
    "    adata.obs['donor_id'] = [n[:3] + '-' + str(y)[-2:] + '-' + b for n,y,b in zip(adata.obs['Author'], adata.obs['Year'], adata.obs['Internal sample identifier'])]\n",
    "    \n",
    "    adata.obs['cell_type'] = adata.obs['cluster_robust']"
   ]
  },
  {
   "cell_type": "markdown",
   "id": "dcfe1338-8370-4ee4-8a78-35af007bfd6b",
   "metadata": {},
   "source": [
    "## obs (specific)"
   ]
  },
  {
   "cell_type": "code",
   "execution_count": null,
   "id": "9aa78474-92aa-4898-9c7f-2b96b786fb53",
   "metadata": {
    "tags": []
   },
   "outputs": [],
   "source": [
    "for adata in list_all_datasets_human:\n",
    "    adata.obs['tissue_ontology_term_id'] = [dict_UBERON[i] if i in dict_UBERON else 'UBERON:0002097' for i in adata.obs['Sample location'] ]\n",
    "    adata.obs['tissue_ontology_term_id'] = adata.obs['tissue_ontology_term_id'].astype('category')\n",
    "    \n",
    "    adata.obs['self_reported_ethnicity_ontology_term_id'] = [dict_HANCESTRO[i] if i in dict_HANCESTRO else dict_HANCESTRO[j] if j in dict_HANCESTRO else 'unknown' for i,j  in  zip(adata.obs['Ethnicity'], adata.obs['Race']) ]\n",
    "    adata.obs['self_reported_ethnicity_ontology_term_id'] = adata.obs['self_reported_ethnicity_ontology_term_id'].astype('category')\n",
    "    \n",
    "    adata.obs['development_stage_ontology_term_id'] = [dict_HsapDv[i] if i in dict_HsapDv else 'unknown'  for i in adata.obs['Age (mean)'].astype(float).fillna(0).astype(int).astype(str) + adata.obs['Age format (y/m)'].astype(str) ]\n",
    "    adata.obs['development_stage_ontology_term_id'] = adata.obs['development_stage_ontology_term_id'].astype('category')\n",
    "    \n",
    "    adata.obs['sex_ontology_term_id'] = [dict_sex[i] if i in dict_sex else 'unknown' for i in adata.obs['Gender']]\n",
    "    adata.obs['sex_ontology_term_id'] = adata.obs['sex_ontology_term_id'].astype('category')\n",
    "    \n",
    "    adata.obs['disease_ontology_term_id'] = [dict_MONDO[i] if i in dict_MONDO else 'PATO:0000461' for i in adata.obs['Condition']]\n",
    "    adata.obs['disease_ontology_term_id'] = adata.obs['disease_ontology_term_id'].astype('category')"
   ]
  },
  {
   "cell_type": "markdown",
   "id": "ed0900b2-781f-4a64-a4df-18304853be1e",
   "metadata": {},
   "source": [
    "## var"
   ]
  },
  {
   "cell_type": "code",
   "execution_count": null,
   "id": "e0393c30-64b9-4e0a-8a50-5fb39efeece9",
   "metadata": {
    "tags": []
   },
   "outputs": [],
   "source": [
    "for adata in list_all_datasets_human:\n",
    "    dict_vals = {'feature_biotype': 'gene', \n",
    "                 'feature_reference': 'NCBITaxon:9606', \n",
    "                }\n",
    "    \n",
    "    for key, val in dict_vals.items():\n",
    "        adata.var[key] = val\n",
    "        adata.var[key] = adata.var[key].astype('category')\n",
    "        adata.raw.var[key] = val\n",
    "        adata.raw.var[key] = adata.raw.var[key].astype('category')\n",
    "    \n",
    "    # feature_is_filtered\n",
    "    adata.var['feature_is_filtered'] = False\n",
    "    raw_feature_is_filtered = [False if i in adata.var.index else True for i in adata.raw.var.index]\n",
    "    adata.raw.var['feature_is_filtered'] = raw_feature_is_filtered\n",
    "    \n",
    "    # Feature name\n",
    "    adata.var['feature_name'] = adata.var.index\n",
    "    adata.var['feature_name'] = adata.var['feature_name'].astype(str)\n",
    "    adata.raw.var['feature_name'] = adata.raw.var.index\n",
    "    adata.raw.var['feature_name'] = adata.raw.var['feature_name'].astype(str)"
   ]
  },
  {
   "cell_type": "markdown",
   "id": "f0209772-50fb-47f1-ae08-06b20ad8ee5e",
   "metadata": {},
   "source": [
    "# Setting values for mouse adatas"
   ]
  },
  {
   "cell_type": "markdown",
   "id": "0941ecdc-f07b-4e17-b5ab-a536e9b176f7",
   "metadata": {},
   "source": [
    "## obs (general)"
   ]
  },
  {
   "cell_type": "code",
   "execution_count": null,
   "id": "c0a4e51e-7f74-42be-b442-bc579c4989ec",
   "metadata": {
    "tags": []
   },
   "outputs": [],
   "source": [
    "for adata in list_all_datasets_mouse:\n",
    "    dict_vals = {'organism_ontology_term_id': 'NCBITaxon:10090', \n",
    "                 'assay_ontology_term_id': 'EFO:0008913', \n",
    "                 'cell_type_ontology_term_id': 'CL:0002620', \n",
    "                 'suspension_type': 'cell', \n",
    "                 'self_reported_ethnicity_ontology_term_id': 'na', \n",
    "                 'is_primary_data': False}\n",
    "        \n",
    "    for key, val in dict_vals.items():\n",
    "        adata.obs[key] = val\n",
    "        adata.obs[key] = adata.obs[key].astype('category')\n",
    "        \n",
    "    \n",
    "    adata.obs['donor_id'] = [n[:3] + '-' + str(y)[-2:] + '-' + b for n,y,b in zip(adata.obs['Author'], adata.obs['Year'], adata.obs['Internal sample identifier'])]\n",
    "    \n",
    "    adata.obs['cell_type'] = adata.obs['cluster_robust']"
   ]
  },
  {
   "cell_type": "markdown",
   "id": "da31a4b1-8af5-4258-863d-3de1f246b048",
   "metadata": {},
   "source": [
    "## obs (specific)"
   ]
  },
  {
   "cell_type": "code",
   "execution_count": null,
   "id": "9787c910-aa5b-4bbb-b740-95cd0a0d3eb7",
   "metadata": {
    "tags": []
   },
   "outputs": [],
   "source": [
    "for adata in list_all_datasets_mouse:\n",
    "    adata.obs['tissue_ontology_term_id'] = [dict_UBERON[i] if i in dict_UBERON else 'UBERON:0002097' for i in adata.obs['Sample location'] ]\n",
    "    adata.obs['tissue_ontology_term_id'] = adata.obs['tissue_ontology_term_id'].astype('category')\n",
    "    \n",
    "    adata.obs['development_stage_ontology_term_id'] = [dict_HsapDv[i] if i in dict_HsapDv else 'unknown'  for i in adata.obs['Age (mean)'].astype(float).fillna(0).astype(int).astype(str) + adata.obs['Age format (y/m)'].astype(str) ]\n",
    "    adata.obs['development_stage_ontology_term_id'] = adata.obs['development_stage_ontology_term_id'].astype('category')\n",
    "    \n",
    "    adata.obs['sex_ontology_term_id'] = [dict_sex[i] if i in dict_sex else 'unknown' for i in adata.obs['Gender']]\n",
    "    adata.obs['sex_ontology_term_id'] = adata.obs['sex_ontology_term_id'].astype('category')\n",
    "    \n",
    "    adata.obs['disease_ontology_term_id'] = [dict_MONDO[i] if i in dict_MONDO else 'PATO:0000461' for i in adata.obs['Condition']]\n",
    "    adata.obs['disease_ontology_term_id'] = adata.obs['disease_ontology_term_id'].astype('category')"
   ]
  },
  {
   "cell_type": "markdown",
   "id": "4c2fce92-ca26-4620-bf08-64c64a11977b",
   "metadata": {},
   "source": [
    "## var"
   ]
  },
  {
   "cell_type": "code",
   "execution_count": null,
   "id": "d09d631c-c0ec-40e9-9d2e-e05a3bfea8e9",
   "metadata": {
    "tags": []
   },
   "outputs": [],
   "source": [
    "for adata in list_all_datasets_mouse:\n",
    "    dict_vals = {'feature_biotype': 'gene', \n",
    "                 'feature_reference': 'NCBITaxon:10090', \n",
    "                }\n",
    "    \n",
    "    for key, val in dict_vals.items():\n",
    "        adata.var[key] = val\n",
    "        adata.var[key] = adata.var[key].astype('category')\n",
    "        adata.raw.var[key] = val\n",
    "        adata.raw.var[key] = adata.raw.var[key].astype('category')\n",
    "    \n",
    "    # feature_is_filtered\n",
    "    adata.var['feature_is_filtered'] = False\n",
    "    raw_feature_is_filtered = [False if i in adata.var.index else True for i in adata.raw.var.index]\n",
    "    adata.raw.var['feature_is_filtered'] = raw_feature_is_filtered\n",
    "    \n",
    "    # Feature name\n",
    "    adata.var['feature_name'] = adata.var.index\n",
    "    adata.var['feature_name'] = adata.var['feature_name'].astype(str)\n",
    "    adata.raw.var['feature_name'] = adata.raw.var.index\n",
    "    adata.raw.var['feature_name'] = adata.raw.var['feature_name'].astype(str)"
   ]
  },
  {
   "cell_type": "markdown",
   "id": "b925fd40-6c63-49e6-aafc-5383239acc86",
   "metadata": {},
   "source": [
    "## Setting uns for mouse and human adatas"
   ]
  },
  {
   "cell_type": "code",
   "execution_count": null,
   "id": "baa60309-226c-4095-9b45-e34300a70d3b",
   "metadata": {
    "tags": []
   },
   "outputs": [],
   "source": [
    "for adata in list_all_datasets_human + list_all_datasets_mouse:\n",
    "    dict_vals = {'schema_version': '3.0.0', 'default_embedding': 'X_umap', 'X_approximate_distribution': 'count',\n",
    "                 'title': 'Atlas of human and mouse dermal fibroblast heterogeneity', \n",
    "                 'batch_condition': 'donor_id', \n",
    "                 }\n",
    "    \n",
    "    for key, val in dict_vals.items():\n",
    "        adata.uns[key] = val"
   ]
  },
  {
   "cell_type": "markdown",
   "id": "588fae0b-1c0f-435e-8625-28a41a6ffc82",
   "metadata": {},
   "source": [
    "# Other dataset corrections \n",
    "These should be addresed in previous notebooks, but so far they will be addressed here and traslated to other iterations.\n"
   ]
  },
  {
   "cell_type": "code",
   "execution_count": null,
   "id": "11ab609e-6746-43ee-bc05-166ba50c2382",
   "metadata": {
    "tags": []
   },
   "outputs": [],
   "source": [
    "# In phan there are some parts where it is set to \n",
    "list_all_datasets_mouse[5].obs['Author'] = 'Phan'\n",
    "list_all_datasets_mouse[5].obs['Age'] = '21'\n",
    "list_all_datasets_mouse[5].obs['Accession (Sample)'] = list_all_datasets_mouse[5].obs['Accession (Sample)'].astype(str)\n",
    "list_all_datasets_mouse[5].obs['Accession (Sample)'][list_all_datasets_mouse[5].obs['Accession (Sample)'] == 'nan'] = 'GSM4647789'\n",
    "list_all_datasets_mouse[5].obs['Aligner'] = 'Cell Ranger (3.0.2)'\n",
    "list_all_datasets_mouse[5].obs['Condition'] = 'Healthy'\n",
    "list_all_datasets_mouse[5].obs['Donor identifier'] = list_all_datasets_mouse[5].obs['Donor identifier'].astype(str)\n",
    "list_all_datasets_mouse[5].obs['Donor identifier'][list_all_datasets_mouse[5].obs['Donor identifier'] == 'nan'] = 'P21_Un_2'\n",
    "list_all_datasets_mouse[5].obs['Genome'] = 'GRCm38'\n",
    "list_all_datasets_mouse[5].obs['Internal sample identifier'] = 'GSM4647789'\n",
    "list_all_datasets_mouse[5].obs['Library preparation'] = '10X (v2)'\n",
    "list_all_datasets_mouse[5].obs['Organism'] = 'Mus musculus'\n",
    "list_all_datasets_mouse[5].obs['Race'] = 'C57BL/6J'\n",
    "list_all_datasets_mouse[5].obs['Sample identifier'] = list_all_datasets_mouse[5].obs['Sample identifier'].astype(str)\n",
    "list_all_datasets_mouse[5].obs['Sample identifier'][list_all_datasets_mouse[5].obs['Sample identifier'] == 'nan'] = 'skin'\n",
    "list_all_datasets_mouse[5].obs['Sample location'] = 'Dorsal'\n",
    "list_all_datasets_mouse[5].obs['Sequencer'] = 'Illumina HiSeq 4000'"
   ]
  },
  {
   "cell_type": "code",
   "execution_count": null,
   "id": "912880bb-af32-49e3-bef5-9c9bcc636df9",
   "metadata": {
    "tags": []
   },
   "outputs": [],
   "source": [
    "list_all_datasets_mouse[1].obs['Library preparation'] = '10X (v2)'"
   ]
  },
  {
   "cell_type": "markdown",
   "id": "b71ea73c-d2a1-46b8-8c72-245f3cb959f2",
   "metadata": {},
   "source": [
    "# Merge adatas"
   ]
  },
  {
   "cell_type": "code",
   "execution_count": null,
   "id": "27f4d0e5-be2f-43fb-bbdc-9bd5d4b778c5",
   "metadata": {
    "tags": []
   },
   "outputs": [],
   "source": [
    "def normalise_UMAP(adata, col_idx='ADATA NUMBER', w=0.25):\n",
    "    n_adatas = len(adata.obs[col_idx].cat.categories)\n",
    "    n_cols = int(n_adatas ** 0.5)\n",
    "    n_rows = n_adatas // n_cols + int(n_adatas % n_cols != 0)\n",
    "    \n",
    "    X_umap_coords = adata.obsm['X_umap'].copy()\n",
    "    \n",
    "    for idx in range(n_adatas):\n",
    "        adata_sub = adata[adata.obs[col_idx] == str(idx)]\n",
    "        row, col = idx // n_cols, idx % n_cols\n",
    "        \n",
    "        X_coords = (adata_sub.obsm['X_umap'][:, 0] - adata_sub.obsm['X_umap'][:, 0].min()) / (adata_sub.obsm['X_umap'][:, 0].max() - adata_sub.obsm['X_umap'][:, 0].min())\n",
    "        Y_coords = (adata_sub.obsm['X_umap'][:, 1] - adata_sub.obsm['X_umap'][:, 1].min()) / (adata_sub.obsm['X_umap'][:, 1].max() - adata_sub.obsm['X_umap'][:, 1].min())\n",
    "        \n",
    "        X_coords = X_coords + col * (1 + w)\n",
    "        Y_coords = Y_coords - row * (1 + w)\n",
    "        \n",
    "        X_umap_coords[adata.obs[col_idx] == str(idx), :] = np.array([X_coords, Y_coords]).transpose().astype(np.float32)    \n",
    "        \n",
    "        adata.obsm['X_umap'] = X_umap_coords"
   ]
  },
  {
   "cell_type": "code",
   "execution_count": null,
   "id": "81a436ce-73cd-4891-8d98-e80ba6ce10be",
   "metadata": {
    "tags": []
   },
   "outputs": [],
   "source": [
    "adata_human = sc.AnnData.concatenate(*list_all_datasets_human, batch_key='ADATA NUMBER', join='outer')\n",
    "adata_human.obs['cluster_robust'] = adata_human.obs['cluster_robust'].astype('category') \n",
    "adata_human.uns['cluster_robust_colors'] = [dict_colors_human[i] for i in adata_human.obs['cluster_robust'].cat.categories]"
   ]
  },
  {
   "cell_type": "code",
   "execution_count": null,
   "id": "872c922d-ba3a-4fbf-abc1-18ae05b31284",
   "metadata": {
    "tags": []
   },
   "outputs": [],
   "source": [
    "normalise_UMAP(adata_human)"
   ]
  },
  {
   "cell_type": "code",
   "execution_count": null,
   "id": "4c8c0874-b893-43bc-9cbb-743c58be526f",
   "metadata": {
    "tags": []
   },
   "outputs": [],
   "source": [
    "sc.pl.umap(adata_human, color='cluster_robust')"
   ]
  },
  {
   "cell_type": "code",
   "execution_count": null,
   "id": "b6ca5d60-1686-45c1-94e2-8a136fc05caf",
   "metadata": {
    "tags": []
   },
   "outputs": [],
   "source": [
    "adata_mouse = sc.AnnData.concatenate(*list_all_datasets_mouse, batch_key='ADATA NUMBER', join='outer')\n",
    "adata_mouse.obs['cluster_robust'] = adata_mouse.obs['cluster_robust'].astype('category') \n",
    "adata_mouse.uns['cluster_robust_colors'] = [dict_colors_mouse[i] if i in dict_colors_mouse else '#bcbcbc' for i in adata_mouse.obs['cluster_robust'].cat.categories]"
   ]
  },
  {
   "cell_type": "code",
   "execution_count": null,
   "id": "9d2e5674-b259-492e-b348-0f08ec1509e2",
   "metadata": {
    "tags": []
   },
   "outputs": [],
   "source": [
    "normalise_UMAP(adata_mouse)"
   ]
  },
  {
   "cell_type": "code",
   "execution_count": null,
   "id": "6deb8a78-5878-4343-ad1b-c910f78110c7",
   "metadata": {
    "tags": []
   },
   "outputs": [],
   "source": [
    "sc.pl.umap(adata_mouse, color='cluster_robust')"
   ]
  },
  {
   "cell_type": "markdown",
   "id": "a22abce3-4eeb-474c-8293-69269e0d257e",
   "metadata": {},
   "source": [
    "# Clean adatas"
   ]
  },
  {
   "cell_type": "code",
   "execution_count": null,
   "id": "01277443-a796-4220-a166-5bc2e0ef165e",
   "metadata": {
    "tags": []
   },
   "outputs": [],
   "source": [
    "accepted_obs = ['cluster_robust', \n",
    "                'organism_ontology_term_id', 'donor_id', 'development_stage_ontology_term_id', 'sex_ontology_term_id', 'self_reported_ethnicity_ontology_term_id', \n",
    "                'disease_ontology_term_id', 'tissue_ontology_term_id', 'cell_type_ontology_term_id', 'assay_ontology_term_id', 'suspension_type', \n",
    "                'Author', 'Year', 'Accession (Sample)', 'Aligner', 'Genome', 'Donor identifier', 'Sample identifier', \n",
    "                'Internal sample identifier', 'Library preparation', 'Sequencer', 'Organism', 'Age',\n",
    "                'Gender', 'Race', 'Ethnicity', 'Sample location', 'Condition', 'Condition (other)', \n",
    "                ]"
   ]
  },
  {
   "cell_type": "code",
   "execution_count": null,
   "id": "88569ed6-ea0d-4b71-b24b-7d89ed4a743e",
   "metadata": {
    "tags": []
   },
   "outputs": [],
   "source": [
    "adata_human.obs = adata_human.obs[accepted_obs]\n",
    "adata_mouse.obs = adata_mouse.obs[accepted_obs]"
   ]
  },
  {
   "cell_type": "code",
   "execution_count": null,
   "id": "3d3ca158-f805-402f-8bdb-559e1a81d0ee",
   "metadata": {
    "tags": []
   },
   "outputs": [],
   "source": [
    "df_ensemble = adata_human.var[[i for i in adata_human.var.columns if 'Ensemble ID' in i]]\n",
    "np_ensemble = df_ensemble.astype(str).fillna('').values\n",
    "list_ensemble = []\n",
    "for i in range(len(df_ensemble.index)):\n",
    "    list_ensemble.append([i for i in set(np_ensemble[i, :]) if i != 'nan'][0])\n",
    "\n",
    "\n",
    "\n",
    "df_gene = adata_human.var[[i for i in adata_human.var.columns if 'gene_symbol' in i]]\n",
    "np_gene = df_gene.astype(str).fillna('').values\n",
    "list_gene = []\n",
    "for i in range(len(df_gene.index)):\n",
    "    list_gene.append([i for i in set(np_gene[i, :]) if i != 'nan'][0])\n",
    "\n",
    "adata_human.var['Ensemble ID'] = list_ensemble\n",
    "adata_human.var['gene_symbol'] = list_gene"
   ]
  },
  {
   "cell_type": "code",
   "execution_count": null,
   "id": "21909dc1-84f9-455b-99a3-7b8788b43a42",
   "metadata": {
    "tags": []
   },
   "outputs": [],
   "source": [
    "df_ensemble = adata_mouse.var[[i for i in adata_mouse.var.columns if 'Ensemble ID' in i]]\n",
    "np_ensemble = df_ensemble.astype(str).fillna('').values\n",
    "list_ensemble = []\n",
    "for i in range(len(df_ensemble.index)):\n",
    "    list_ensemble.append([i for i in set(np_ensemble[i, :]) if i != 'nan'][0])\n",
    "\n",
    "\n",
    "\n",
    "df_gene = adata_mouse.var[[i for i in adata_mouse.var.columns if 'gene_symbol' in i]]\n",
    "np_gene = df_gene.astype(str).fillna('').values\n",
    "list_gene = []\n",
    "for i in range(len(df_gene.index)):\n",
    "    list_gene.append([i for i in set(np_gene[i, :]) if i != 'nan'][0])\n",
    "\n",
    "adata_mouse.var['Ensemble ID'] = list_ensemble\n",
    "adata_mouse.var['gene_symbol'] = list_gene"
   ]
  },
  {
   "cell_type": "code",
   "execution_count": null,
   "id": "1e79fcaf-dc0d-414b-a601-37eafc081212",
   "metadata": {
    "tags": []
   },
   "outputs": [],
   "source": [
    "accepted_vars = ['gene_symbol', 'Ensemble ID']\n",
    "\n",
    "adata_human.var = adata_human.var[accepted_vars]\n",
    "adata_mouse.var = adata_mouse.var[accepted_vars]"
   ]
  },
  {
   "cell_type": "code",
   "execution_count": null,
   "id": "95147d3a-5e4b-4788-9244-d48427938477",
   "metadata": {
    "tags": []
   },
   "outputs": [],
   "source": [
    "adata_human = adata_human[:, adata_human.var['Ensemble ID'] != 'NA']\n",
    "adata_mouse = adata_mouse[:, adata_mouse.var['Ensemble ID'] != 'NA']"
   ]
  },
  {
   "cell_type": "code",
   "execution_count": null,
   "id": "70e9015d-ff87-4919-ab49-39b31ec662f3",
   "metadata": {
    "tags": []
   },
   "outputs": [],
   "source": [
    "for obsm in ['X_pca', 'X_pca_harmony', 'X_triku', 'pca_cell_embeddings', 'tsne_cell_embeddings']:\n",
    "    if obsm in adata_human.obsm:\n",
    "        del adata_human.obsm[obsm]\n",
    "    if obsm in adata_mouse.obsm:\n",
    "        del adata_mouse.obsm[obsm]"
   ]
  },
  {
   "cell_type": "code",
   "execution_count": null,
   "id": "ce5b10b6-70b5-4992-9e07-7f9720ee9151",
   "metadata": {
    "tags": []
   },
   "outputs": [],
   "source": [
    "adata_human"
   ]
  },
  {
   "cell_type": "code",
   "execution_count": null,
   "id": "ea556b87-66be-4648-9d0b-ad0b5e7fb21b",
   "metadata": {
    "tags": []
   },
   "outputs": [],
   "source": [
    "layers_del = ['spliced', 'unspliced', 'norm_data', 'scale_data', 'ambiguous', 'matrix', 'processed']\n",
    "for layer in layers_del:\n",
    "    if layer in adata_human.layers:\n",
    "        del adata_human.layers[layer]\n",
    "    if layer in adata_mouse.layers:\n",
    "        del adata_mouse.layers[layer]"
   ]
  },
  {
   "cell_type": "code",
   "execution_count": null,
   "id": "f9e6a3d1-12d4-442c-9d0d-1716dd18d49e",
   "metadata": {
    "tags": []
   },
   "outputs": [],
   "source": [
    "adata_human.write_h5ad('data/adata_human_cellxgene.h5', compression='gzip')"
   ]
  },
  {
   "cell_type": "code",
   "execution_count": null,
   "id": "58544697-ba7b-41ec-8e96-a9cbf7a7aa72",
   "metadata": {
    "tags": []
   },
   "outputs": [],
   "source": [
    "adata_mouse.write_h5ad('data/adata_mouse_cellxgene.h5', compression='gzip')"
   ]
  },
  {
   "cell_type": "code",
   "execution_count": null,
   "id": "55e9b057-cd85-46b3-b92f-a0908d358fb8",
   "metadata": {
    "tags": []
   },
   "outputs": [],
   "source": [
    "adata_mouse"
   ]
  },
  {
   "cell_type": "code",
   "execution_count": null,
   "id": "079b181d-da01-4da4-860e-77af17baf427",
   "metadata": {
    "tags": []
   },
   "outputs": [],
   "source": [
    "os.system(\"jupyter nbconvert --to html X_export_to_cellxgene.ipynb\")"
   ]
  }
 ],
 "metadata": {
  "kernelspec": {
   "display_name": "Python [conda env:alex-base] *",
   "language": "python",
   "name": "conda-env-alex-base-py"
  },
  "language_info": {
   "codemirror_mode": {
    "name": "ipython",
    "version": 3
   },
   "file_extension": ".py",
   "mimetype": "text/x-python",
   "name": "python",
   "nbconvert_exporter": "python",
   "pygments_lexer": "ipython3",
   "version": "3.8.0"
  }
 },
 "nbformat": 4,
 "nbformat_minor": 5
}

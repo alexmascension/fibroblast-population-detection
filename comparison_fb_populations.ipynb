{
 "cells": [
  {
   "cell_type": "markdown",
   "metadata": {},
   "source": [
    "# Comparison of fibroblast populations (review)\n",
    "\n",
    "In this notebook we are going to extract and replicate the main populations from diffrent papers where fibroblast populations are described, and find similarities and differences. The premise of this analysis is that many of the populations described in different papers seem not to match, or to be transcriptomically different, but in reality they are quite similar; that is, the main types of populations are indeed shared by the different papers, which should come as no surprise.\n",
    "\n",
    "We will use the following references to extract fibroblast information from:\n",
    "* Tabib et al. 2018\n",
    "* Philippeos et al. 2018\n",
    "* Popescu et al. 2019\n",
    "* Solé-Boldo et al. 2020\n",
    "* Vorstandlechner et al. 2020\n",
    "* He et al. 2020\n",
    "\n",
    "The data from He et al was reanalyzed from fastq files with healthy donor due to the strong batch effects (the samples were already normalized / log transformed, which limits the scope of the downstream processing), and some important genes such as WIF1 were not appearing. "
   ]
  },
  {
   "cell_type": "markdown",
   "metadata": {},
   "source": [
    "## imports"
   ]
  },
  {
   "cell_type": "code",
   "execution_count": null,
   "metadata": {},
   "outputs": [],
   "source": [
    "import scanpy as sc\n",
    "import scanpy.external as sce\n",
    "import pandas as pd\n",
    "import numpy as np\n",
    "import os\n",
    "import triku as tk\n",
    "import matplotlib.pyplot as plt\n",
    "import matplotlib as mpl\n",
    "import ray"
   ]
  },
  {
   "cell_type": "code",
   "execution_count": null,
   "metadata": {},
   "outputs": [],
   "source": [
    "# To print versions of imports \n",
    "\n",
    "import types\n",
    "\n",
    "def imports():\n",
    "    for name, val in globals().items():\n",
    "        if isinstance(val, types.ModuleType):\n",
    "            yield val.__name__\n",
    "\n",
    "excludes = ['builtins', 'types', 'sys']\n",
    "\n",
    "imported_modules = [module for module in imports() if module not in excludes]\n",
    "\n",
    "clean_modules = []\n",
    "\n",
    "for module in imported_modules:\n",
    "\n",
    "    sep = '.'  # to handle 'matplotlib.pyplot' cases\n",
    "    rest = module.split(sep, 1)[0]\n",
    "    clean_modules.append(rest)\n",
    "\n",
    "changed_imported_modules = list(set(clean_modules))  # drop duplicates\n",
    "\n",
    "pip_modules = !pip freeze  # you could also use `!conda list` with anaconda\n",
    "\n",
    "for module in pip_modules:\n",
    "    name, version = module.split('==')\n",
    "    if name in changed_imported_modules:\n",
    "        print(name + '\\t' + version)"
   ]
  },
  {
   "cell_type": "code",
   "execution_count": null,
   "metadata": {},
   "outputs": [],
   "source": [
    "seed = 0"
   ]
  },
  {
   "cell_type": "code",
   "execution_count": null,
   "metadata": {},
   "outputs": [],
   "source": [
    "# Palettes for UMAP gene expression\n",
    "\n",
    "magma = [plt.get_cmap('magma')(i) for i in np.linspace(0,1, 80)]\n",
    "magma[0] = (0.88, 0.88, 0.88, 1)\n",
    "magma = mpl.colors.LinearSegmentedColormap.from_list(\"\", magma[:65])"
   ]
  },
  {
   "cell_type": "markdown",
   "metadata": {},
   "source": [
    "**IMPORTANT: I am running this analysis in a computer with ~500 GB of RAM. I will load many datasets at once, which might be too much for some computers. I took this decision conciously, to have as much info available at any time as possible. If you cannot run all the analysis at once, you can run it by parts.**"
   ]
  },
  {
   "cell_type": "markdown",
   "metadata": {},
   "source": [
    "## data extraction and processing"
   ]
  },
  {
   "cell_type": "code",
   "execution_count": null,
   "metadata": {},
   "outputs": [],
   "source": [
    "data_dir = os.getcwd()"
   ]
  },
  {
   "cell_type": "markdown",
   "metadata": {},
   "source": [
    "### Tabib et al. 2018"
   ]
  },
  {
   "cell_type": "markdown",
   "metadata": {},
   "source": [
    "#### Raw data and metadata extraction"
   ]
  },
  {
   "cell_type": "code",
   "execution_count": null,
   "metadata": {},
   "outputs": [],
   "source": [
    "tabib_dir = data_dir + '/Tabib_2018'\n",
    "os.makedirs(tabib_dir, exist_ok=True)"
   ]
  },
  {
   "cell_type": "code",
   "execution_count": null,
   "metadata": {},
   "outputs": [],
   "source": [
    "!wget -P {tabib_dir} https://dom.pitt.edu/wp-content/uploads/2018/10/Skin_6Control_rawUMI.zip"
   ]
  },
  {
   "cell_type": "code",
   "execution_count": null,
   "metadata": {},
   "outputs": [],
   "source": [
    "!wget -P {tabib_dir} https://dom.pitt.edu/wp-content/uploads/2018/10/Skin_6Control_Metadata.zip"
   ]
  },
  {
   "cell_type": "code",
   "execution_count": null,
   "metadata": {},
   "outputs": [],
   "source": [
    "!unzip -o {tabib_dir}/Skin_6Control_rawUMI.zip -d {tabib_dir}"
   ]
  },
  {
   "cell_type": "code",
   "execution_count": null,
   "metadata": {},
   "outputs": [],
   "source": [
    "!unzip -o {tabib_dir}/Skin_6Control_Metadata.zip -d {tabib_dir}"
   ]
  },
  {
   "cell_type": "markdown",
   "metadata": {},
   "source": [
    "#### Adata creation and metadata gathering"
   ]
  },
  {
   "cell_type": "code",
   "execution_count": null,
   "metadata": {},
   "outputs": [],
   "source": [
    "adata_tabib = sc.read_csv(tabib_dir + '/Skin_6Control_rawUMI.csv')\n",
    "adata_tabib = adata_tabib.transpose()"
   ]
  },
  {
   "cell_type": "code",
   "execution_count": null,
   "metadata": {},
   "outputs": [],
   "source": [
    "df_metadata_tabib = pd.read_csv(tabib_dir + '/Skin_6Control_Metadata.csv', index_col=0)"
   ]
  },
  {
   "cell_type": "markdown",
   "metadata": {},
   "source": [
    "df metadata has 8366 cells, although the paper states that 8522 cells were analyzed. The rest of cells are erithrocytes, which were filtered out from the analysis."
   ]
  },
  {
   "cell_type": "code",
   "execution_count": null,
   "metadata": {},
   "outputs": [],
   "source": [
    "adata_tabib.raw = adata_tabib"
   ]
  },
  {
   "cell_type": "code",
   "execution_count": null,
   "metadata": {},
   "outputs": [],
   "source": [
    "dict_reverse_mappings = {'Fibroblast': ['0', '3', '4'], \n",
    "                 'Keratinocyte': ['1', '5', '7', '11', '14',], \n",
    "                 'Endothelial cell': ['2'], \n",
    "                 'Pericyte': ['6', '10'], \n",
    "                 'Macrophage/DC': ['8'], \n",
    "                 'Lymphocyte': ['9'], \n",
    "                 'Secretory Epith': ['12'], \n",
    "                 'Smooth Muscle': ['13'], \n",
    "                 'Melanocyte': ['15'], \n",
    "                 'Neural Cell': ['16'],\n",
    "                 'Cornified Env': ['17'],\n",
    "                 'B cell': ['18'], \n",
    "                 'Erithrocyte': [np.NaN]}  # This is ours!\n",
    "\n",
    "dict_mappings = {}\n",
    "\n",
    "for key, val in dict_reverse_mappings.items():\n",
    "    for val_i in val:\n",
    "        dict_mappings[val_i] = key"
   ]
  },
  {
   "cell_type": "code",
   "execution_count": null,
   "metadata": {},
   "outputs": [],
   "source": [
    "adata_tabib.obs['res.0.6'] = df_metadata_tabib['res.0.6'].astype(str)\n",
    "adata_tabib.obs['cluster'] = [dict_mappings[i] for i in adata_tabib.obs['res.0.6']]"
   ]
  },
  {
   "cell_type": "markdown",
   "metadata": {},
   "source": [
    "Since we are interested in fibros, we are going to filter their specific populations (0, 3, 4)"
   ]
  },
  {
   "cell_type": "code",
   "execution_count": null,
   "metadata": {},
   "outputs": [],
   "source": [
    "adata_tabib_fb = adata_tabib[adata_tabib.obs['cluster'].isin(['Fibroblast']), :].copy()"
   ]
  },
  {
   "cell_type": "code",
   "execution_count": null,
   "metadata": {},
   "outputs": [],
   "source": [
    "sc.pp.filter_genes(adata_tabib, min_counts=1)\n",
    "sc.pp.log1p(adata_tabib)\n",
    "sc.pp.normalize_total(adata_tabib)\n",
    "tk.tl.triku(adata_tabib, n_procs=1, random_state=seed)\n",
    "sc.pp.pca(adata_tabib, random_state=seed)\n",
    "sc.pp.neighbors(adata_tabib, random_state=seed)\n",
    "sc.tl.umap(adata_tabib, random_state=seed)"
   ]
  },
  {
   "cell_type": "code",
   "execution_count": null,
   "metadata": {},
   "outputs": [],
   "source": [
    "sc.pl.umap(adata_tabib, color=['cluster', 'LUM', 'PDGFRA', 'COL1A1', 'DCN', 'FBLN1'], legend_loc='on data', cmap=magma, use_raw=False)"
   ]
  },
  {
   "cell_type": "code",
   "execution_count": null,
   "metadata": {},
   "outputs": [],
   "source": [
    "# Pericyte markers, for later\n",
    "sc.pl.umap(adata_tabib, color=['cluster', 'MYL9', 'RGS5'], legend_loc='on data', cmap=magma, use_raw=False)"
   ]
  },
  {
   "cell_type": "code",
   "execution_count": null,
   "metadata": {},
   "outputs": [],
   "source": [
    "sc.pp.filter_genes(adata_tabib_fb, min_counts=1)\n",
    "sc.pp.log1p(adata_tabib_fb)\n",
    "sc.pp.normalize_total(adata_tabib_fb)\n",
    "tk.tl.triku(adata_tabib_fb, n_procs=1, random_state=seed)\n",
    "sc.pp.pca(adata_tabib_fb, random_state=seed, n_comps=30)\n",
    "sc.pp.neighbors(adata_tabib_fb, random_state=seed, metric='cosine', knn=len(adata_tabib_fb) ** 0.5 // 2)"
   ]
  },
  {
   "cell_type": "markdown",
   "metadata": {},
   "source": [
    "#### Labelling Tabib clusters\n",
    "\n",
    "In the data from tabib there is no information about the fibroblast subclusters. To label them, we are going to do a broad clustering with many clusters, and gather them into bigger clusters that share the same patterns as Tabib clusters. Those clusters will not be exactly the clusters from Tabib, but will be similar enough to extract the correct biological conclusions. \n",
    "\n",
    "For this dataset there is a list of DEGs of the main clusters, but not the subclusters! Therefore, we will rely on the Supplementary Figure 3, which is a heatmap of the subclusters. We will use their recommended genes to do the selection. Also, clusters 4A and 4B are not divided in that heatmap, so we will do the separation based on the genes that appear on the paper."
   ]
  },
  {
   "cell_type": "code",
   "execution_count": null,
   "metadata": {},
   "outputs": [],
   "source": [
    "sc.tl.umap(adata_tabib_fb, min_dist=0.2, random_state=seed)\n",
    "sc.tl.leiden(adata_tabib_fb, resolution=2, random_state=seed)\n",
    "sc.pl.umap(adata_tabib_fb, color=['cluster', 'leiden'], legend_loc='on data')"
   ]
  },
  {
   "cell_type": "code",
   "execution_count": null,
   "metadata": {},
   "outputs": [],
   "source": [
    "sc.pl.umap(adata_tabib_fb, color=['leiden', 'APCDD1', 'WIF1', 'WISP2', 'COMP'], legend_loc='on data', cmap=magma, use_raw=False)"
   ]
  },
  {
   "cell_type": "markdown",
   "metadata": {},
   "source": [
    "We want to map clusters from leiden to cluster from Tabib. To do that, we will create a dictionary between correspondences in clusters based on markers, \n",
    "and when all correspondences are done, we will use the renamed clusters from Tabib. To simplify the processing, we will run leiden with a high resolution, and merge several clusters in one."
   ]
  },
  {
   "cell_type": "code",
   "execution_count": null,
   "metadata": {},
   "outputs": [],
   "source": [
    "print('T0')\n",
    "sc.pl.umap(adata_tabib_fb, color=['leiden', 'WIF1', 'COMP'], cmap=magma, legend_loc='on data', use_raw=False)  # Markers of T0\n",
    "print('T1')\n",
    "sc.pl.umap(adata_tabib_fb, color=['leiden', 'MYOC', 'FMO1'], cmap=magma, legend_loc='on data', use_raw=False)  # Markers of T1\n",
    "print('T5')\n",
    "sc.pl.umap(adata_tabib_fb, color=['leiden', 'CXCL12', 'C7'], cmap=magma, legend_loc='on data', use_raw=False)  # Markers of T5                               \n",
    "print('T2')\n",
    "sc.pl.umap(adata_tabib_fb, color=['leiden', 'FBLN1', 'C1R', 'PI16'], cmap=magma, legend_loc='on data', use_raw=False)  # Markers of T2\n",
    "print('T3')\n",
    "sc.pl.umap(adata_tabib_fb, color=['leiden', 'IGFBP5', 'PLEKHH2'], cmap=magma, legend_loc='on data', use_raw=False)  # Markers of T3\n",
    "print('T4a')\n",
    "sc.pl.umap(adata_tabib_fb, color=['leiden', 'CRABP1', 'TNN'], cmap=magma, legend_loc='on data', use_raw=False)  # Markers of T4A\n",
    "print('T4b')\n",
    "sc.pl.umap(adata_tabib_fb, color=['leiden', 'COL11A1', 'UGT3A2'], cmap=magma, legend_loc='on data', use_raw=False)  # Markers of T4B\n",
    "print('T6')\n",
    "sc.pl.umap(adata_tabib_fb, color=['leiden', 'PCOLCE2', 'FBN1', 'SFRP4'], cmap=magma, legend_loc='on data', use_raw=False)  # Markers of T6\n",
    "print('T7')\n",
    "sc.pl.umap(adata_tabib_fb, color=['leiden', 'ANGPTL7', 'C2orf40'], cmap=magma, legend_loc='on data', use_raw=False)  # Markers of T7"
   ]
  },
  {
   "cell_type": "code",
   "execution_count": null,
   "metadata": {},
   "outputs": [],
   "source": [
    "dict_reverse_mappings = {'T0': ['3', '5', '7', '14', '15', '16'], \n",
    "                 'T1': ['2', '6', '18', '20'], \n",
    "                 'T2': ['0', '11'], \n",
    "                 'T3': ['4', '9'], \n",
    "                 'T4A': ['12', '19'], \n",
    "                 'T4B': ['1'], \n",
    "                 'T5': ['8', '10'], \n",
    "                 'T6': ['13'], \n",
    "                 'T7': ['17']}\n",
    "\n",
    "dict_mappings = {}\n",
    "\n",
    "for key, val in dict_reverse_mappings.items():\n",
    "    for val_i in val:\n",
    "        dict_mappings[val_i] = key"
   ]
  },
  {
   "cell_type": "code",
   "execution_count": null,
   "metadata": {},
   "outputs": [],
   "source": [
    "adata_tabib_fb.obs['tabib_clusters'] = [dict_mappings[i] for i in adata_tabib_fb.obs['leiden']]\n",
    "sc.pl.umap(adata_tabib_fb, color=['tabib_clusters'], cmap=magma, legend_loc='on data')"
   ]
  },
  {
   "cell_type": "markdown",
   "metadata": {},
   "source": [
    "**IMPORTANT: These clusters are not exactly the clusters from Tabib, but they are really close based on the expression of markers!**"
   ]
  },
  {
   "cell_type": "markdown",
   "metadata": {},
   "source": [
    "### Philippeos et al. 2018"
   ]
  },
  {
   "cell_type": "markdown",
   "metadata": {},
   "source": [
    "#### Raw data and metadata extraction"
   ]
  },
  {
   "cell_type": "code",
   "execution_count": null,
   "metadata": {},
   "outputs": [],
   "source": [
    "phil_dir = data_dir + '/Philippeos_2018'\n",
    "os.makedirs(phil_dir, exist_ok=True)"
   ]
  },
  {
   "cell_type": "code",
   "execution_count": null,
   "metadata": {},
   "outputs": [],
   "source": [
    "!wget -P {phil_dir} https://ftp.ncbi.nlm.nih.gov/geo/series/GSE109nnn/GSE109822/suppl/GSE109822%5FCD3145%2Ecsv%2Egz"
   ]
  },
  {
   "cell_type": "code",
   "execution_count": null,
   "metadata": {},
   "outputs": [],
   "source": [
    "!wget -P {phil_dir} https://ftp.ncbi.nlm.nih.gov/geo/series/GSE109nnn/GSE109822/suppl/GSE109822%5FCD90%2Ecsv%2Egz"
   ]
  },
  {
   "cell_type": "code",
   "execution_count": null,
   "metadata": {},
   "outputs": [],
   "source": [
    "!gunzip {phil_dir}/*.gz -f"
   ]
  },
  {
   "cell_type": "markdown",
   "metadata": {},
   "source": [
    "#### Adata creation and metadata gathering"
   ]
  },
  {
   "cell_type": "code",
   "execution_count": null,
   "metadata": {},
   "outputs": [],
   "source": [
    "adata_phil_1 = sc.read_csv(phil_dir + '/GSE109822_CD90.csv')\n",
    "adata_phil_1 = adata_phil_1.transpose()"
   ]
  },
  {
   "cell_type": "code",
   "execution_count": null,
   "metadata": {},
   "outputs": [],
   "source": [
    "adata_phil_2 = sc.read_csv(phil_dir + '/GSE109822_CD3145.csv')\n",
    "adata_phil_2 = adata_phil_2.transpose()"
   ]
  },
  {
   "cell_type": "code",
   "execution_count": null,
   "metadata": {},
   "outputs": [],
   "source": [
    "adata_phil = sc.AnnData.concatenate(adata_phil_1, adata_phil_2)"
   ]
  },
  {
   "cell_type": "code",
   "execution_count": null,
   "metadata": {},
   "outputs": [],
   "source": [
    "sc.pp.filter_genes(adata_phil, min_counts=1)\n",
    "sc.pp.log1p(adata_phil)\n",
    "sc.pp.pca(adata_phil, random_state=seed)\n",
    "sc.pp.neighbors(adata_phil, random_state=seed, metric='cosine')\n",
    "tk.tl.triku(adata_phil, n_procs=1, random_state=seed, use_adata_knn=True)"
   ]
  },
  {
   "cell_type": "code",
   "execution_count": null,
   "metadata": {},
   "outputs": [],
   "source": [
    "sc.tl.umap(adata_phil, min_dist=0.5, random_state=seed)\n",
    "sc.tl.leiden(adata_phil, resolution=1, random_state=seed)\n",
    "sc.pl.umap(adata_phil, color=['leiden'], legend_loc='on data')"
   ]
  },
  {
   "cell_type": "markdown",
   "metadata": {},
   "source": [
    "#### Labelling Philippeos clusters\n",
    "\n",
    "In Philippeos et al. paper they detect 5 subpopulations, but 4 of them are really relevant (one of them has 5 cells). We are going to use their markers to map their populations to ours, since we do not have that information. Also, population 2 seems to be able to be subdivided into two populations. We will name them as 2A and 2B.\n",
    "\n",
    "![](images/Phil_F6.png)"
   ]
  },
  {
   "cell_type": "code",
   "execution_count": null,
   "metadata": {},
   "outputs": [],
   "source": [
    "dict_reverse_mappings = {'P2A': ['3'], \n",
    "                 'P2B': ['1'], \n",
    "                 'P3': ['4', '5'], \n",
    "                 'P4': ['0'], \n",
    "                 'P5': ['2'], }\n",
    "\n",
    "dict_mappings = {}\n",
    "\n",
    "for key, val in dict_reverse_mappings.items():\n",
    "    for val_i in val:\n",
    "        dict_mappings[val_i] = key"
   ]
  },
  {
   "cell_type": "code",
   "execution_count": null,
   "metadata": {},
   "outputs": [],
   "source": [
    "fb_genes = ['DCN', 'LUM', 'RGS5', 'COL6A5', 'COL23A1', 'MFAP5', 'PRG4', 'DPP4', 'CD34', 'CD74', 'CLDN5']\n",
    "sc.pl.umap(adata_phil, color=['leiden'] + fb_genes, legend_loc='on data', cmap=magma, )"
   ]
  },
  {
   "cell_type": "code",
   "execution_count": null,
   "metadata": {},
   "outputs": [],
   "source": [
    "adata_phil.obs['philippeos_clusters'] = [dict_mappings[i] for i in adata_phil.obs['leiden']]\n",
    "sc.pl.umap(adata_phil, color=['philippeos_clusters'], cmap=magma, legend_loc='on data')"
   ]
  },
  {
   "cell_type": "markdown",
   "metadata": {},
   "source": [
    "#### Analyzing Philippeos subpopulations in more detail\n",
    "\n",
    "We are going to analyse some of the Philippeos populations in detail, because we suspect they are not canonical fibroblasts and, instead, can be other types of cell types that have not been filtered."
   ]
  },
  {
   "cell_type": "code",
   "execution_count": null,
   "metadata": {},
   "outputs": [],
   "source": [
    "sc.tl.rank_genes_groups(adata_phil, groupby='philippeos_clusters', method='wilcoxon')\n",
    "sc.pl.rank_genes_groups_tracksplot(adata_phil, dendrogram=False, use_raw=False, n_genes=50)"
   ]
  },
  {
   "cell_type": "markdown",
   "metadata": {},
   "source": [
    "##### P2A fibroblast cluster cells are perivascular cells, not fibroblats\n",
    "\n",
    "If we plot some of the P2A DEGs (RGS5, PDGFA, GJA4, NOTCH3, APOLD1, MT1A, PARM1) in Tabib dataset, we clearly see that they colocalize within the same cluster of perivascular cells (labelled as 'Pericyte') by Tabib. They do not colocalize with the canonical fibroblast cluster, neither appear as an interphase."
   ]
  },
  {
   "cell_type": "code",
   "execution_count": null,
   "metadata": {},
   "outputs": [],
   "source": [
    "peri_markers = ['RGS5', 'PDGFA', 'GJA4', 'NOTCH3', 'APOLD1', 'MT1A', 'PARM1']\n",
    "sc.pl.umap(adata_phil, color=['philippeos_clusters'] + peri_markers, \n",
    "           cmap=magma, legend_loc='on data', use_raw=False) "
   ]
  },
  {
   "cell_type": "markdown",
   "metadata": {},
   "source": [
    "##### Cluster P2B does not express any relevant marker. Neither does it in the Philippeos publication. It can be a type of contamination or, in any case, irrelevant cells."
   ]
  },
  {
   "cell_type": "markdown",
   "metadata": {},
   "source": [
    "##### Cluster P5 are endothelial cells based on DEGs"
   ]
  },
  {
   "cell_type": "code",
   "execution_count": null,
   "metadata": {},
   "outputs": [],
   "source": [
    "peri_markers = ['STC1', 'CD74', 'MCTP1', 'CTSH', 'CLDN5', 'FLT1']\n",
    "sc.pl.umap(adata_phil, color=['philippeos_clusters'] + peri_markers, \n",
    "           cmap=magma, legend_loc='on data', use_raw=False) "
   ]
  },
  {
   "cell_type": "markdown",
   "metadata": {},
   "source": [
    "With that in mind, we are going to select onlt P3 and P4 populations of Philippeos to narrow down the search of fibroblast subpopulations. However, the number of cells is so low that limited resolutive power can be achieved."
   ]
  },
  {
   "cell_type": "code",
   "execution_count": null,
   "metadata": {},
   "outputs": [],
   "source": [
    "adata_phil_fb = adata_phil[adata_phil.obs['philippeos_clusters'].isin(['P3', 'P4']), :].copy()"
   ]
  },
  {
   "cell_type": "code",
   "execution_count": null,
   "metadata": {},
   "outputs": [],
   "source": [
    "sc.pp.filter_genes(adata_phil_fb, min_counts=1)\n",
    "tk.tl.triku(adata_phil_fb, n_procs=1, random_state=seed)\n",
    "sc.pp.pca(adata_phil_fb, random_state=seed)\n",
    "sc.pp.neighbors(adata_phil_fb, random_state=seed, knn=4, metric='cosine')  # 15 would be too much\n",
    "sc.tl.umap(adata_phil_fb, random_state=seed)"
   ]
  },
  {
   "cell_type": "code",
   "execution_count": null,
   "metadata": {},
   "outputs": [],
   "source": [
    "sc.tl.leiden(adata_phil_fb, resolution=0.8)\n",
    "sc.pl.umap(adata_phil_fb, color='leiden')"
   ]
  },
  {
   "cell_type": "code",
   "execution_count": null,
   "metadata": {},
   "outputs": [],
   "source": [
    "sc.pl.umap(adata_phil_fb, color=['philippeos_clusters'] + ['APCDD1', 'COL18A1', 'NKD2', 'WISP2', 'PI16', 'IGFBP6', 'SLPI'], \n",
    "cmap=magma, legend_loc='on data', use_raw=False) "
   ]
  },
  {
   "cell_type": "markdown",
   "metadata": {},
   "source": [
    "### Solé-Boldo et al. 2020"
   ]
  },
  {
   "cell_type": "markdown",
   "metadata": {},
   "source": [
    "#### Raw data and metadata extraction"
   ]
  },
  {
   "cell_type": "code",
   "execution_count": null,
   "metadata": {},
   "outputs": [],
   "source": [
    "sole_dir = data_dir + '/Sole-Boldo_2020'\n",
    "os.makedirs(sole_dir, exist_ok=True)"
   ]
  },
  {
   "cell_type": "code",
   "execution_count": null,
   "metadata": {},
   "outputs": [],
   "source": [
    "!wget -P {sole_dir} https://ftp.ncbi.nlm.nih.gov/geo/series/GSE130nnn/GSE130973/suppl/GSE130973%5Fbarcodes%5Ffiltered%2Etsv%2Egz"
   ]
  },
  {
   "cell_type": "code",
   "execution_count": null,
   "metadata": {},
   "outputs": [],
   "source": [
    "!wget -P {sole_dir} https://ftp.ncbi.nlm.nih.gov/geo/series/GSE130nnn/GSE130973/suppl/GSE130973%5Fgenes%5Ffiltered%2Etsv%2Egz"
   ]
  },
  {
   "cell_type": "code",
   "execution_count": null,
   "metadata": {},
   "outputs": [],
   "source": [
    "!wget -P {sole_dir} https://ftp.ncbi.nlm.nih.gov/geo/series/GSE130nnn/GSE130973/suppl/GSE130973%5Fmatrix%5Ffiltered%2Emtx%2Egz"
   ]
  },
  {
   "cell_type": "code",
   "execution_count": null,
   "metadata": {},
   "outputs": [],
   "source": [
    "!gunzip -f {sole_dir}/GSE130973_matrix_filtered.mtx.gz {sole_dir}/GSE130973_genes_filtered.tsv.gz {sole_dir}/GSE130973_barcodes_filtered.tsv.gz"
   ]
  },
  {
   "cell_type": "markdown",
   "metadata": {},
   "source": [
    "#### Adata creation and metadata gathering"
   ]
  },
  {
   "cell_type": "code",
   "execution_count": null,
   "metadata": {},
   "outputs": [],
   "source": [
    "adata_sole = sc.read_mtx(sole_dir + '/GSE130973_matrix_filtered.mtx')\n",
    "adata_sole = adata_sole.transpose()"
   ]
  },
  {
   "cell_type": "code",
   "execution_count": null,
   "metadata": {},
   "outputs": [],
   "source": [
    "adata_sole"
   ]
  },
  {
   "cell_type": "code",
   "execution_count": null,
   "metadata": {},
   "outputs": [],
   "source": [
    "genes_sole = pd.read_csv(sole_dir + '/GSE130973_genes_filtered.tsv', header=None, index_col=0, sep='\\t')[1].values\n",
    "barcodes_sole = pd.read_csv(sole_dir + '/GSE130973_barcodes_filtered.tsv', header=None,)[0].values"
   ]
  },
  {
   "cell_type": "code",
   "execution_count": null,
   "metadata": {},
   "outputs": [],
   "source": [
    "adata_sole.var_names = genes_sole\n",
    "adata_sole.obs_names = barcodes_sole"
   ]
  },
  {
   "cell_type": "code",
   "execution_count": null,
   "metadata": {},
   "outputs": [],
   "source": [
    "adata_sole.var_names_make_unique()"
   ]
  },
  {
   "cell_type": "code",
   "execution_count": null,
   "metadata": {},
   "outputs": [],
   "source": [
    "adata_sole.raw = adata_sole"
   ]
  },
  {
   "cell_type": "code",
   "execution_count": null,
   "metadata": {},
   "outputs": [],
   "source": [
    "sc.pp.filter_genes(adata_sole, min_counts=1)\n",
    "sc.pp.log1p(adata_sole)\n",
    "sc.pp.normalize_total(adata_sole)\n",
    "tk.tl.triku(adata_sole, n_procs=1, random_state=seed)\n",
    "sc.pp.pca(adata_sole, random_state=seed)\n",
    "sc.pp.neighbors(adata_sole, random_state=seed, metric='cosine')"
   ]
  },
  {
   "cell_type": "code",
   "execution_count": null,
   "metadata": {},
   "outputs": [],
   "source": [
    "sc.tl.umap(adata_sole, min_dist=0.5, random_state=seed)\n",
    "sc.tl.leiden(adata_sole, resolution=0.5, random_state=seed)\n",
    "sc.pl.umap(adata_sole, color=['leiden'], legend_loc='on data')"
   ]
  },
  {
   "cell_type": "code",
   "execution_count": null,
   "metadata": {},
   "outputs": [],
   "source": [
    "# GOOD MARKERS FOR FIBROBLASTS LUM AND PDGFRA\n",
    "sc.pl.umap(adata_sole, color=['PDGFRA', 'LUM'], legend_loc='on data', cmap=magma)"
   ]
  },
  {
   "cell_type": "code",
   "execution_count": null,
   "metadata": {},
   "outputs": [],
   "source": [
    "# We are going to filter the old samples and get the yound ones.\n",
    "adata_sole.obs['id'] = [i[-1] for i in adata_sole.obs_names]\n",
    "adata_sole.obs['age'] = ['young' if i[-1] in ['1', '2'] else 'old' for i in adata_sole.obs_names]\n",
    "\n",
    "# We are going to remove some cells expressing S100A1, NDRG2 and \n",
    "# VAMP8, because they are technically not fibroblasts and do neither appear on the rest of datasets.\n",
    "adata_sole.obs['SNV_score'] = np.sum(np.asarray(adata_sole.X[:, np.isin(adata_sole.var_names, ['S100A1', 'NDRG2', 'VAMP8'])].todense()), 1).flatten()\n",
    "adata_sole = adata_sole[adata_sole.obs['SNV_score'] < 4]\n",
    "\n",
    "adata_sole_young = adata_sole[adata_sole.obs['id'].isin(['1','2'])]\n",
    "adata_sole_old = adata_sole[adata_sole.obs['id'].isin(['3', '4', '5'])]"
   ]
  },
  {
   "cell_type": "code",
   "execution_count": null,
   "metadata": {},
   "outputs": [],
   "source": [
    "adata_sole_young_fb = adata_sole_young[adata_sole_young.obs['leiden'].isin(['0', '2', '10'])].copy()"
   ]
  },
  {
   "cell_type": "code",
   "execution_count": null,
   "metadata": {},
   "outputs": [],
   "source": [
    "sc.pp.filter_genes(adata_sole_young_fb, min_counts=1)\n",
    "tk.tl.triku(adata_sole_young_fb, n_procs=1, random_state=seed)\n",
    "sc.pp.pca(adata_sole_young_fb, random_state=seed, n_comps=30)\n",
    "sce.pp.bbknn(adata_sole_young_fb, batch_key='id', metric='angular')"
   ]
  },
  {
   "cell_type": "markdown",
   "metadata": {},
   "source": [
    "#### Labelling Solé-Boldo clusters\n",
    "\n",
    "In the dataset from Solé-Boldo there is no direct information about the fibroblast subclusters (there is an R object but it fails). To label them, we are going to do a broad clustering with many clusters, and gather them into bigger clusters that share the same patterns as Tabib clusters. Those clusters will not be exactly the clusters from Solé-Boldo, but will be similar enough to extract the correct biological conclusions. \n",
    "\n",
    "To do the assignment, we will select the list of DEGs from the Supplementary Data 3, and apply it either on old and young samples. We will select the first 10 DEGs to do the plotting."
   ]
  },
  {
   "cell_type": "code",
   "execution_count": null,
   "metadata": {},
   "outputs": [],
   "source": [
    "sc.tl.umap(adata_sole_young_fb, min_dist=0.3, random_state=seed)\n",
    "sc.tl.leiden(adata_sole_young_fb, resolution=1.8, random_state=seed)\n",
    "sc.pl.umap(adata_sole_young_fb, color=['leiden', 'id'], legend_loc='on data')"
   ]
  },
  {
   "cell_type": "code",
   "execution_count": null,
   "metadata": {},
   "outputs": [],
   "source": [
    "sc.pl.umap(adata_sole_young_fb, color=['CCL19', 'CXCL12', 'WIF1', 'COMP', 'SLPI', 'SFRP2', 'DPP4',\n",
    "                                       'WISP2', 'ANGPTL7', 'COCH', 'POSTN', \n",
    "                                       'APOE', 'TNN', 'ASPN', 'MYOC'], legend_loc='on data', cmap=magma, use_raw=False)"
   ]
  },
  {
   "cell_type": "code",
   "execution_count": null,
   "metadata": {},
   "outputs": [],
   "source": [
    "SPap = ['APCDD1', 'COMP', 'RGS16', 'ID1', 'HBB', 'RGS2', 'COL18A1', 'DUSP1', 'WIF1', 'NKD2']\n",
    "InfA = ['CXCL3', 'CXCL2', 'CXCL1', 'C11orf96', 'SOD2', 'CCL2', 'TNFAIP6', 'GEM', 'MEDAG', 'IL6']\n",
    "InfB =['CCL19', 'APOE', 'PTGDS', 'APOD', 'SOCS3', 'CXCL12', 'EGR1', 'JUN', 'ABCA8', 'RARRES2']\n",
    "SRet = ['WISP2', 'SLPI', 'CTHRC1', 'FBLN1', 'IGFBP6', 'PCSK1N', 'TSPAN8', 'MFAP5', 'DCN', 'CFD']\n",
    "Mes = ['COCH', 'ASPN', 'POSTN', 'TNN', 'DPEP1', 'COL11A1', 'SFRP1', 'HTRA1', 'MRPS6', 'GPC3']"
   ]
  },
  {
   "cell_type": "code",
   "execution_count": null,
   "metadata": {},
   "outputs": [],
   "source": [
    "print('SPap')\n",
    "sc.pl.umap(adata_sole_young_fb, color=['leiden'] + SPap, cmap=magma, legend_loc='on data', use_raw=False)\n",
    "print('Sret')\n",
    "sc.pl.umap(adata_sole_young_fb, color=['leiden'] + SRet, cmap=magma, legend_loc='on data', use_raw=False)  \n",
    "print('InfA')\n",
    "sc.pl.umap(adata_sole_young_fb, color=['leiden'] + InfA, cmap=magma, legend_loc='on data', use_raw=False) \n",
    "print('InfB')\n",
    "sc.pl.umap(adata_sole_young_fb, color=['leiden'] + InfB, cmap=magma, legend_loc='on data', use_raw=False)                      \n",
    "print('Mes')\n",
    "sc.pl.umap(adata_sole_young_fb, color=['leiden'] + Mes, cmap=magma, legend_loc='on data', use_raw=False)  \n"
   ]
  },
  {
   "cell_type": "code",
   "execution_count": null,
   "metadata": {},
   "outputs": [],
   "source": [
    "sc.tl.rank_genes_groups(adata_sole_young_fb, groupby='leiden', )\n",
    "sc.pl.rank_genes_groups_tracksplot(adata_sole_young_fb, dendrogram=False, use_raw=False)"
   ]
  },
  {
   "cell_type": "code",
   "execution_count": null,
   "metadata": {},
   "outputs": [],
   "source": [
    "dict_reverse_mappings = {'SPap': ['1', '14', '16'], \n",
    "                 'SRet': ['0', '2', '3'], \n",
    "                 'InfA': ['5', '7', '8', '15'], \n",
    "                 'InfB': ['6', '9'], \n",
    "                 'Mes': ['4', '11', '10', '12', '13',], }\n",
    "\n",
    "dict_mappings = {}\n",
    "\n",
    "for key, val in dict_reverse_mappings.items():\n",
    "    for val_i in val:\n",
    "        dict_mappings[val_i] = key"
   ]
  },
  {
   "cell_type": "code",
   "execution_count": null,
   "metadata": {},
   "outputs": [],
   "source": [
    "adata_sole_young_fb.obs['SB_clusters'] = [dict_mappings[i] for i in adata_sole_young_fb.obs['leiden']]\n",
    "sc.pl.umap(adata_sole_young_fb, color=['leiden', 'SB_clusters'], cmap=magma, legend_loc='on data')"
   ]
  },
  {
   "cell_type": "markdown",
   "metadata": {},
   "source": [
    "### Vorstandlechner et al. 2020"
   ]
  },
  {
   "cell_type": "markdown",
   "metadata": {},
   "source": [
    "#### Raw data and metadata extraction"
   ]
  },
  {
   "cell_type": "code",
   "execution_count": null,
   "metadata": {},
   "outputs": [],
   "source": [
    "vors_dir = data_dir + '/Vorstandlechner_2020'\n",
    "os.makedirs(sole_dir, exist_ok=True)"
   ]
  },
  {
   "cell_type": "code",
   "execution_count": null,
   "metadata": {},
   "outputs": [],
   "source": [
    "# The file was obtained by personal request from Vorstandlechner"
   ]
  },
  {
   "cell_type": "markdown",
   "metadata": {},
   "source": [
    "#### Adata creation and metadata gathering"
   ]
  },
  {
   "cell_type": "code",
   "execution_count": null,
   "metadata": {},
   "outputs": [],
   "source": [
    "adata_vors = sc.read(vors_dir + '/skin_vorstandlechner.loom', cache=True)"
   ]
  },
  {
   "cell_type": "code",
   "execution_count": null,
   "metadata": {},
   "outputs": [],
   "source": [
    "adata_vors.obsm['tsne']  = adata_vors.obsm['tsne_cell_embeddings'] "
   ]
  },
  {
   "cell_type": "code",
   "execution_count": null,
   "metadata": {},
   "outputs": [],
   "source": [
    "sc.tl.rank_genes_groups(adata_vors, groupby='res_1_2', method='wilcoxon')\n",
    "sc.pl.rank_genes_groups_tracksplot(adata_vors, dendrogram=False, use_raw=False)"
   ]
  },
  {
   "cell_type": "code",
   "execution_count": null,
   "metadata": {},
   "outputs": [],
   "source": [
    "sc.pl.tsne(adata_vors, color=['res_1_2', 'FBLN1', 'PDGFRA', 'LUM', 'DCN', 'COL1A1'], cmap=magma, legend_loc='on data')"
   ]
  },
  {
   "cell_type": "code",
   "execution_count": null,
   "metadata": {},
   "outputs": [],
   "source": [
    "adata_vors_fb = adata_vors[adata_vors.obs['res_1_2'].isin(['0', '5', '6', '11', '12', '14'])]"
   ]
  },
  {
   "cell_type": "code",
   "execution_count": null,
   "metadata": {},
   "outputs": [],
   "source": [
    "sc.pp.filter_genes(adata_vors_fb, min_counts=1)\n",
    "sc.pp.log1p(adata_vors_fb)\n",
    "tk.tl.triku(adata_vors_fb, n_procs=1, random_state=seed)\n",
    "sc.pp.pca(adata_vors_fb, random_state=seed, n_comps=30)\n",
    "sc.pp.neighbors(adata_vors_fb, random_state=seed, knn=len(adata_vors) ** 0.5 // 2, metric='cosine')"
   ]
  },
  {
   "cell_type": "code",
   "execution_count": null,
   "metadata": {},
   "outputs": [],
   "source": [
    "sc.tl.umap(adata_vors_fb, min_dist=0.3, random_state=seed)\n",
    "sc.tl.leiden(adata_vors_fb, resolution=2, random_state=seed)\n",
    "sc.pl.umap(adata_vors_fb, color=['leiden'], legend_loc='on data')"
   ]
  },
  {
   "cell_type": "markdown",
   "metadata": {},
   "source": [
    "#### Labelling Vorstandlechner clusters\n",
    "\n",
    "Since we do not have the original labellings, and most of the clsuters do not have exclusively-expressed genes, we will use some of the most useful markers to map the clusters as originally as possible."
   ]
  },
  {
   "cell_type": "markdown",
   "metadata": {},
   "source": [
    "![](images/FS1.png)"
   ]
  },
  {
   "cell_type": "code",
   "execution_count": null,
   "metadata": {},
   "outputs": [],
   "source": [
    "FB1 = ['SLPI', 'C1QTNF3', 'MFAP5', ]  # 'PI16', 'DCN', 'CTHRC1',  'TSPAN8', 'CD55', 'PCOLCE2', 'SPARC', 'IGFBP6', 'COL1A1', 'COL3A1']\n",
    "FB2 = ['JUN','FOS', 'ADH1B',]  # 'APOE','CXCL12','IGFBP7',,'C7','CCL19','RARRES2','IER2','SOCS3','CD74','IGFBP3']\n",
    "FB3 = ['HSPB3','COL6A5', 'POSTN', 'RGS2',]  # 'GPC3','APOD','APCDD1','F13A1','NKD2','COL18A1', 'TSC22D3','SPRY1','BST2', 'SPARCL1','DDIT4','STMN1','CTGF']\n",
    "FB4 = ['B4GALT1','JUND','HNRNPH1']  # ,'PPP1CB','C1orf56','CTNNB1','SAR1A','PTPRS','TWIST1', 'INSR','C11orf96', 'SET', 'WTAP', 'CRISPLD2']\n",
    "FB5 = ['CCL2',  'DNAJA1', 'IL6', 'H2AFZ', 'GEM', 'CXCL3','CXCL2','SOD2','CXCL1','PLAUR','BIRC3',]\n",
    "FB6 = ['DUSP4', 'PTGS2']  # ,'COMP', 'TNFAIP6', 'NR4A2','CEBPB','TNFAIP3','ARID5A','TGIF1','PTGS2',]"
   ]
  },
  {
   "cell_type": "code",
   "execution_count": null,
   "metadata": {},
   "outputs": [],
   "source": [
    "sc.pl.umap(adata_vors_fb, color=['leiden'] + ['SFRP4', 'APCDD1', 'WIF1', 'WISP2', 'APOE', 'CCL19', 'COCH', 'ANGPTL7', 'TNN', 'APLN'], cmap=magma, legend_loc='on data', use_raw=False)  "
   ]
  },
  {
   "cell_type": "code",
   "execution_count": null,
   "metadata": {},
   "outputs": [],
   "source": [
    "print('FB1')\n",
    "sc.pl.umap(adata_vors_fb, color=['leiden'] + FB1, cmap=magma, legend_loc='on data', use_raw=False)\n",
    "print('FB2')\n",
    "sc.pl.umap(adata_vors_fb, color=['leiden'] + FB2, cmap=magma, legend_loc='on data', use_raw=False)  \n",
    "print('FB3')\n",
    "sc.pl.umap(adata_vors_fb, color=['leiden'] + FB3, cmap=magma, legend_loc='on data', use_raw=False) \n",
    "print('FB4')\n",
    "sc.pl.umap(adata_vors_fb, color=['leiden'] + FB4, cmap=magma, legend_loc='on data', use_raw=False)                      \n",
    "print('FB5')\n",
    "sc.pl.umap(adata_vors_fb, color=['leiden'] + FB5, cmap=magma, legend_loc='on data', use_raw=False)  \n",
    "print('FB6')\n",
    "sc.pl.umap(adata_vors_fb, color=['leiden'] + FB6, cmap=magma, legend_loc='on data', use_raw=False)  "
   ]
  },
  {
   "cell_type": "code",
   "execution_count": null,
   "metadata": {},
   "outputs": [],
   "source": [
    "dict_reverse_mappings = {\n",
    "                 'FB1': ['0', '2', '3', '10', '14'], \n",
    "                 'FB2': ['1', '4', '11', '17', '18'], \n",
    "                 'FB3': ['8', '15'], \n",
    "                 'FB4': ['9', '12', '16'], \n",
    "                 'FB5': ['5', '7', '13'], \n",
    "                 'FB6': ['6']}\n",
    "\n",
    "dict_mappings = {}\n",
    "\n",
    "for key, val in dict_reverse_mappings.items():\n",
    "    for val_i in val:\n",
    "        dict_mappings[val_i] = key"
   ]
  },
  {
   "cell_type": "code",
   "execution_count": null,
   "metadata": {},
   "outputs": [],
   "source": [
    "adata_vors_fb.obs['vors_clusters'] = [dict_mappings[i] for i in adata_vors_fb.obs['leiden']]\n",
    "sc.pl.umap(adata_vors_fb, color=['vors_clusters'], cmap=magma, legend_loc='on data')"
   ]
  },
  {
   "cell_type": "markdown",
   "metadata": {},
   "source": [
    "### He et al. 2020\n",
    "\n",
    "**IMPORTANT: FOR SOME REASON SOME GENE SYMBOLS CHANGE HERE!!!!!!**\n",
    "\n",
    "**WISP2 = CCN5**"
   ]
  },
  {
   "cell_type": "markdown",
   "metadata": {},
   "source": [
    "#### Raw data and metadata extraction"
   ]
  },
  {
   "cell_type": "code",
   "execution_count": null,
   "metadata": {},
   "outputs": [],
   "source": [
    "he_dir = data_dir + '/He_2020'\n",
    "os.makedirs(he_dir, exist_ok=True)"
   ]
  },
  {
   "cell_type": "code",
   "execution_count": null,
   "metadata": {},
   "outputs": [],
   "source": [
    "!rm -rf {he_dir}"
   ]
  },
  {
   "cell_type": "code",
   "execution_count": null,
   "metadata": {},
   "outputs": [],
   "source": [
    "SRA_list = \"\"\"\n",
    "SRR11396171\n",
    "SRR11396175\n",
    "SRR11396162\n",
    "SRR11396164\n",
    "SRR11396166\n",
    "SRR11396167\n",
    "SRR11396168\n",
    "SRR11396170\n",
    "\"\"\"\n",
    "\n",
    "with open(he_dir + '/accession.txt', 'w') as f:\n",
    "    f.write(SRA_list)\n",
    "    \n",
    "df = pd.DataFrame({'name': SRA_list.split('\\n')[1:-1], 'technology': ['10xv2'] * 8, 'targetnumcells': [5000] * 8})\n",
    "\n",
    "df.to_csv(he_dir + '/metadata.tab', sep='\\t', index=None)"
   ]
  },
  {
   "cell_type": "code",
   "execution_count": null,
   "metadata": {},
   "outputs": [],
   "source": [
    "!cd {he_dir} && cat accession.txt | parallel -j 8 \"prefetch {}\""
   ]
  },
  {
   "cell_type": "code",
   "execution_count": null,
   "metadata": {},
   "outputs": [],
   "source": [
    "def adapt_fastq(filename_dir, filename_root, idx):\n",
    "    # Using readline() \n",
    "    filein = open(f'{filename_dir}/{filename_root}.fastq', 'r') \n",
    "    \n",
    "    fileR1 = open(f'{filename_dir}/He2020_L00{idx}_R1_001.fastq', 'w') \n",
    "    fileR2 = open(f'{filename_dir}/He2020_L00{idx}_R2_001.fastq', 'w') \n",
    "    \n",
    "    print(f'{filename_dir}/{filename_root}.fastq', f'{filename_dir}/He2020_L00{idx}_R1_001.fastq')\n",
    "    \n",
    "    count = 0\n",
    "    \n",
    "    while True: \n",
    "        count += 1\n",
    "\n",
    "        # Get next line from file \n",
    "        line = filein.readline() \n",
    "        \n",
    "        if count % 4 in [1, 3]:\n",
    "            fileR1.write(line.replace('\\n', '') + '\\n')\n",
    "            fileR2.write(line.replace('\\n', '') + '\\n')\n",
    "        elif count == 2:\n",
    "            fileR1.write(line.replace('\\n', '')[:26] + '\\n')\n",
    "            fileR2.write(line.replace('\\n', '')[26:] + '\\n')\n",
    "        else:\n",
    "            fileR1.write(line.replace('\\n', '')[:26] + '\\n')\n",
    "            fileR2.write(line.replace('\\n', '')[26:] + '\\n')\n",
    "            \n",
    "\n",
    "        # if line is empty \n",
    "        # end of file is reached \n",
    "        if not line: \n",
    "            break\n",
    "\n",
    "    filein.close() \n",
    "    fileR1.close()\n",
    "    fileR2.close()\n",
    "    \n",
    "    os.system(f'gzip {filename_dir}/{filename_root}.fastq')\n",
    "    os.system(f'gzip {filename_dir}/He2020_L00{idx}_R1_001.fastq')\n",
    "    os.system(f'gzip {filename_dir}/He2020_L00{idx}_R2_001.fastq')"
   ]
  },
  {
   "cell_type": "code",
   "execution_count": null,
   "metadata": {},
   "outputs": [],
   "source": [
    "adapt_fastq_remote = ray.remote(adapt_fastq)\n",
    "\n",
    "ray.init(ignore_reinit_error=True, num_cpus=2)\n",
    "\n",
    "ret = [adapt_fastq_remote.remote(f'{he_dir}', f'{name}', name_idx+1) for name_idx, name in enumerate(SRA_list.split('\\n')[1:-1])]\n",
    "ray.get(ret)\n",
    "\n",
    "ray.shutdown()"
   ]
  },
  {
   "cell_type": "code",
   "execution_count": null,
   "metadata": {},
   "outputs": [],
   "source": [
    "!loompy fromfq He2020.loom He2020 /media/seth/SETH_DATA/SETH_Alex/Programs/human_GRCh38_gencode.v31.600 metadata.tab \\\n",
    "He2020_L001_R1_001.fastq.gz He2020_L001_R2_001.fastq.gz He2020_L002_R1_001.fastq.gz He2020_L002_R2_001.fastq.gz \\\n",
    "He2020_L003_R1_001.fastq.gz He2020_L003_R2_001.fastq.gz He2020_L004_R1_001.fastq.gz He2020_L004_R2_001.fastq.gz \\\n",
    "He2020_L005_R1_001.fastq.gz He2020_L005_R2_001.fastq.gz He2020_L006_R1_001.fastq.gz He2020_L006_R2_001.fastq.gz \\\n",
    "He2020_L007_R1_001.fastq.gz He2020_L007_R2_001.fastq.gz He2020_L008_R1_001.fastq.gz He2020_L008_R2_001.fastq.gz \\"
   ]
  },
  {
   "cell_type": "markdown",
   "metadata": {},
   "source": [
    "#### Adata creation and metadata gathering"
   ]
  },
  {
   "cell_type": "code",
   "execution_count": null,
   "metadata": {},
   "outputs": [],
   "source": [
    "adata_he = sc.read_loom(he_dir + '/He2020.loom')\n",
    "adata_he.var_names_make_unique()"
   ]
  },
  {
   "cell_type": "code",
   "execution_count": null,
   "metadata": {},
   "outputs": [],
   "source": [
    "# Basic QC filtering\n",
    "adata_he.var['mt'] = adata_he.var_names.str.startswith('MT-')  # annotate the group of mitochondrial genes as 'mt'\n",
    "sc.pp.calculate_qc_metrics(adata_he, qc_vars=['mt'], percent_top=None, inplace=True)"
   ]
  },
  {
   "cell_type": "code",
   "execution_count": null,
   "metadata": {},
   "outputs": [],
   "source": [
    "sc.pl.violin(adata_he, ['n_genes_by_counts', 'total_counts', 'pct_counts_mt'],\n",
    "             jitter=0.4, multi_panel=True)\n",
    "\n",
    "sc.pl.scatter(adata_he, x='total_counts', y='pct_counts_mt')\n",
    "sc.pl.scatter(adata_he, x='total_counts', y='n_genes_by_counts')"
   ]
  },
  {
   "cell_type": "code",
   "execution_count": null,
   "metadata": {},
   "outputs": [],
   "source": [
    "adata_he = adata_he[adata_he.obs.n_genes_by_counts < 5000, :]\n",
    "adata_he = adata_he[adata_he.obs.pct_counts_mt < 25, :]"
   ]
  },
  {
   "cell_type": "code",
   "execution_count": null,
   "metadata": {},
   "outputs": [],
   "source": [
    "sc.pp.filter_cells(adata_he, min_genes=250)"
   ]
  },
  {
   "cell_type": "code",
   "execution_count": null,
   "metadata": {},
   "outputs": [],
   "source": [
    "sc.pp.filter_genes(adata_he, min_counts=1)\n",
    "sc.pp.log1p(adata_he)\n",
    "sc.pp.normalize_per_cell(adata_he)\n",
    "tk.tl.triku(adata_he, n_procs=1, random_state=seed)\n",
    "sc.pp.pca(adata_he, random_state=seed, n_comps=30)\n",
    "sc.pp.neighbors(adata_he, random_state=seed, knn=len(adata_vors) ** 0.5 // 2, metric='cosine')"
   ]
  },
  {
   "cell_type": "code",
   "execution_count": null,
   "metadata": {},
   "outputs": [],
   "source": [
    "sc.tl.umap(adata_he, min_dist=0.1, random_state=seed)\n",
    "sc.tl.leiden(adata_he, resolution=1, random_state=seed)\n",
    "sc.pl.umap(adata_he, color=['leiden'], legend_loc='on data')"
   ]
  },
  {
   "cell_type": "code",
   "execution_count": null,
   "metadata": {},
   "outputs": [],
   "source": [
    "# Replace CCN5 by WISP2 because it is a key gene\n",
    "dict_rep = {'CCN5': 'WISP2'}\n",
    "adata_he.var_names = [dict_rep[i] if i in dict_rep else i for i in adata_he.var_names]"
   ]
  },
  {
   "cell_type": "code",
   "execution_count": null,
   "metadata": {},
   "outputs": [],
   "source": [
    "sc.pl.umap(adata_he, color=['leiden', 'KRT5', 'COL1A1', 'RGS5', 'MLANA', 'VWF', 'S100B', 'NRXN1'], legend_loc='on data', cmap=magma, )"
   ]
  },
  {
   "cell_type": "code",
   "execution_count": null,
   "metadata": {},
   "outputs": [],
   "source": [
    "sc.pl.umap(adata_he, color=['leiden', 'PDGFRA', 'LUM', 'DCN', 'FBLN1', 'COL1A1'], legend_loc='on data', cmap=magma, )"
   ]
  },
  {
   "cell_type": "code",
   "execution_count": null,
   "metadata": {},
   "outputs": [],
   "source": [
    "sc.tl.rank_genes_groups(adata_he, groupby='leiden')\n",
    "sc.pl.rank_genes_groups(adata_he)"
   ]
  },
  {
   "cell_type": "markdown",
   "metadata": {},
   "source": [
    "Fibroblast clusters are 0, 11, 13, 18, and 23. Cluster 22 is near fibroblasts, it does not express any relevant DEG, so we will, as a caution measure, not include it.\n",
    "\n",
    "**We have to be wary because cluster 18 is divided in two, and one half near the pericytes expresses S100B and NRXN1**."
   ]
  },
  {
   "cell_type": "code",
   "execution_count": null,
   "metadata": {},
   "outputs": [],
   "source": [
    "adata_he_fb = adata_he[adata_he.obs['leiden'].isin(['0', '11', '13', '18', '23'])]"
   ]
  },
  {
   "cell_type": "code",
   "execution_count": null,
   "metadata": {},
   "outputs": [],
   "source": [
    "sc.pp.filter_genes(adata_he_fb, min_counts=1)\n",
    "tk.tl.triku(adata_he_fb, n_procs=1, random_state=seed)\n",
    "sc.pp.pca(adata_he_fb, random_state=seed, n_comps=30)\n",
    "sc.pp.neighbors(adata_he_fb, random_state=seed, knn=len(adata_vors) ** 0.5 // 2, metric='cosine')"
   ]
  },
  {
   "cell_type": "code",
   "execution_count": null,
   "metadata": {},
   "outputs": [],
   "source": [
    "sc.tl.umap(adata_he_fb, min_dist=0.05, random_state=seed)\n",
    "sc.tl.leiden(adata_he_fb, resolution=1.3, random_state=seed)\n",
    "sc.pl.umap(adata_he_fb, color=['leiden'], legend_loc='on data')"
   ]
  },
  {
   "cell_type": "markdown",
   "metadata": {},
   "source": [
    "From the DEG analysis below we extract that cluster 15 is the neural cluster that we will remove, and cluster 8 does not express any relevant gene.  It coexpresses some markers with cluster 3 (GPX3, AMFR, MFAP5...), but its only unique DEG among 70 is CRIP1. We will remove that cluster as well because it is uninteresting for the analysis, and is not even a bridge cluster or something like that."
   ]
  },
  {
   "cell_type": "code",
   "execution_count": null,
   "metadata": {
    "scrolled": true
   },
   "outputs": [],
   "source": [
    "sc.tl.rank_genes_groups(adata_he_fb, groupby='leiden', )\n",
    "sc.pl.rank_genes_groups_tracksplot(adata_he_fb, dendrogram=False, use_raw=False, n_genes=40)"
   ]
  },
  {
   "cell_type": "code",
   "execution_count": null,
   "metadata": {},
   "outputs": [],
   "source": [
    "sc.tl.rank_genes_groups(adata_he_fb, groupby='leiden', groups=['8'], reference='rest')\n",
    "sc.pl.rank_genes_groups_tracksplot(adata_he_fb, dendrogram=False, use_raw=False, n_genes=70, )"
   ]
  },
  {
   "cell_type": "code",
   "execution_count": null,
   "metadata": {},
   "outputs": [],
   "source": [
    "adata_he_fb = adata_he_fb[~ adata_he_fb.obs['leiden'].isin(['8', '15'])]"
   ]
  },
  {
   "cell_type": "code",
   "execution_count": null,
   "metadata": {},
   "outputs": [],
   "source": [
    "sc.pp.filter_genes(adata_he_fb, min_counts=1)\n",
    "tk.tl.triku(adata_he_fb, n_procs=1, random_state=seed)\n",
    "sc.pp.pca(adata_he_fb, random_state=seed, n_comps=30)\n",
    "sc.pp.neighbors(adata_he_fb, random_state=seed, knn=len(adata_vors) ** 0.5 // 2, metric='cosine')"
   ]
  },
  {
   "cell_type": "code",
   "execution_count": null,
   "metadata": {},
   "outputs": [],
   "source": [
    "sc.tl.umap(adata_he_fb, min_dist=0.1, random_state=seed)\n",
    "sc.tl.leiden(adata_he_fb, resolution=1.5, random_state=seed)\n",
    "sc.pl.umap(adata_he_fb, color=['leiden'], legend_loc='on data')"
   ]
  },
  {
   "cell_type": "markdown",
   "metadata": {},
   "source": [
    "#### Labelling He clusters\n",
    " 2\n",
    "He et al. detect 4 fibroblast subpopulations. We will use their naming based on the DEGs they show in Figure 2B.\n",
    "\n",
    "![](images/He_F2B.png)"
   ]
  },
  {
   "cell_type": "code",
   "execution_count": null,
   "metadata": {},
   "outputs": [],
   "source": [
    "APOE_ABCA6 = ['APOE', 'ABCA6']\n",
    "FBN1_MFAP5 = ['FBN1', 'MFAP5']\n",
    "COL11A1_LAMC3 =['COL11A1', 'LAMC3']\n",
    "COL6A5_COL18A1 = ['COL6A5', 'COL18A1', 'CCL19']"
   ]
  },
  {
   "cell_type": "code",
   "execution_count": null,
   "metadata": {},
   "outputs": [],
   "source": [
    "sc.pl.umap(adata_he_fb, color=['leiden'] + ['LUM', 'PDGFRA', 'FBLN1', 'NRXN1', 'GPM6B', 'WISP2'], cmap=magma, legend_loc='on data', use_raw=False)\n"
   ]
  },
  {
   "cell_type": "code",
   "execution_count": null,
   "metadata": {},
   "outputs": [],
   "source": [
    "print('APOE_ABCA6')\n",
    "sc.pl.umap(adata_he_fb, color=['leiden'] + APOE_ABCA6, cmap=magma, legend_loc='on data', use_raw=False)\n",
    "print('FBN1_MFAP5')\n",
    "sc.pl.umap(adata_he_fb, color=['leiden'] + FBN1_MFAP5, cmap=magma, legend_loc='on data', use_raw=False)  \n",
    "print('COL11A1_LAMC3')\n",
    "sc.pl.umap(adata_he_fb, color=['leiden'] + COL11A1_LAMC3, cmap=magma, legend_loc='on data', use_raw=False) \n",
    "print('COL6A5_COL18A1')\n",
    "sc.pl.umap(adata_he_fb, color=['leiden'] + COL6A5_COL18A1, cmap=magma, legend_loc='on data', use_raw=False)                      "
   ]
  },
  {
   "cell_type": "markdown",
   "metadata": {},
   "source": [
    "**INTERESTINGLY, WE CANNOT FIND EXPRESSION OF COL6A5 IN HEALTHY PREPROCESSED SAMPLES!!!!** \n",
    "\n",
    "However, the COL6A5 / COL18A1 cluster is somewhat well established in the rest of datasets (see in robust clusters)."
   ]
  },
  {
   "cell_type": "code",
   "execution_count": null,
   "metadata": {
    "scrolled": true
   },
   "outputs": [],
   "source": [
    "!wget -P {he_dir} https://ftp.ncbi.nlm.nih.gov/geo/samples/GSM4430nnn/GSM4430462/suppl/GSM4430462%5FMS%2Esample4%2Eclean%2Edata%2Etxt%2Egz\n",
    "!wget -P {he_dir} https://ftp.ncbi.nlm.nih.gov/geo/samples/GSM4430nnn/GSM4430464/suppl/GSM4430464%5FMS%2Esample6%2Eclean%2Edata%2Etxt%2Egz\n",
    "!wget -P {he_dir} https://ftp.ncbi.nlm.nih.gov/geo/samples/GSM4430nnn/GSM4430466/suppl/GSM4430466%5FMS%2Esample8%2Eclean%2Edata%2Etxt%2Egz\n",
    "!wget -P {he_dir} https://ftp.ncbi.nlm.nih.gov/geo/samples/GSM4430nnn/GSM4430467/suppl/GSM4430467%5FMS%2Esample9%2Eclean%2Edata%2Etxt%2Egz\n",
    "!wget -P {he_dir} https://ftp.ncbi.nlm.nih.gov/geo/samples/GSM4430nnn/GSM4430468/suppl/GSM4430468%5FMS%2Esample10%2Eclean%2Edata%2Etxt%2Egz\n",
    "!wget -P {he_dir} https://ftp.ncbi.nlm.nih.gov/geo/samples/GSM4430nnn/GSM4430470/suppl/GSM4430470%5FMS%2Esample12%2Eclean%2Edata%2Etxt%2Egz\n",
    "!wget -P {he_dir} https://ftp.ncbi.nlm.nih.gov/geo/samples/GSM4430nnn/GSM4430471/suppl/GSM4430471%5FMS%2Esample13%2Eclean%2Edata%2Etxt%2Egz\n",
    "!wget -P {he_dir} https://ftp.ncbi.nlm.nih.gov/geo/samples/GSM4430nnn/GSM4430475/suppl/GSM4430475%5FMS%2Esample17%2Eclean%2Edata%2Etxt%2Egz"
   ]
  },
  {
   "cell_type": "code",
   "execution_count": null,
   "metadata": {},
   "outputs": [],
   "source": [
    "!gunzip -f {he_dir}/*.txt.gz "
   ]
  },
  {
   "cell_type": "code",
   "execution_count": null,
   "metadata": {},
   "outputs": [],
   "source": [
    "adata_he_GSM4430462 = sc.read_csv(he_dir + '/GSM4430462_MS.sample4.clean.data.txt').transpose()\n",
    "adata_he_GSM4430464 = sc.read_csv(he_dir + '/GSM4430464_MS.sample6.clean.data.txt').transpose()\n",
    "adata_he_GSM4430466 = sc.read_csv(he_dir + '/GSM4430466_MS.sample8.clean.data.txt').transpose() \n",
    "adata_he_GSM4430467 = sc.read_csv(he_dir + '/GSM4430467_MS.sample9.clean.data.txt').transpose()\n",
    "adata_he_GSM4430468 = sc.read_csv(he_dir + '/GSM4430468_MS.sample10.clean.data.txt').transpose()\n",
    "adata_he_GSM4430470 = sc.read_csv(he_dir + '/GSM4430470_MS.sample12.clean.data.txt').transpose() \n",
    "adata_he_GSM4430471 = sc.read_csv(he_dir + '/GSM4430471_MS.sample13.clean.data.txt').transpose() \n",
    "adata_he_GSM4430475 = sc.read_csv(he_dir + '/GSM4430475_MS.sample17.clean.data.txt').transpose()"
   ]
  },
  {
   "cell_type": "code",
   "execution_count": null,
   "metadata": {},
   "outputs": [],
   "source": [
    "adata_he_batches = sc.AnnData.concatenate(adata_he_GSM4430462, adata_he_GSM4430464, adata_he_GSM4430466, adata_he_GSM4430467, adata_he_GSM4430468, \n",
    "                                         adata_he_GSM4430470, adata_he_GSM4430471, adata_he_GSM4430475)"
   ]
  },
  {
   "cell_type": "code",
   "execution_count": null,
   "metadata": {},
   "outputs": [],
   "source": [
    "sc.pp.filter_genes(adata_he_batches, min_counts=1)\n",
    "sc.pp.log1p(adata_he_batches)\n",
    "tk.tl.triku(adata_he_batches, n_procs=1, random_state=seed)\n",
    "sc.pp.pca(adata_he_batches, random_state=seed, n_comps=30)\n",
    "sce.pp.bbknn(adata_he_batches,  metric='angular')"
   ]
  },
  {
   "cell_type": "code",
   "execution_count": null,
   "metadata": {},
   "outputs": [],
   "source": [
    "sc.tl.umap(adata_he_batches, min_dist=0.3)\n",
    "sc.tl.leiden(adata_he_batches)"
   ]
  },
  {
   "cell_type": "code",
   "execution_count": null,
   "metadata": {},
   "outputs": [],
   "source": [
    "sc.pl.umap(adata_he_batches, color=['leiden', 'COL1A1', 'PDGFRA', 'COL18A1', 'COL6A5'], cmap=magma)"
   ]
  },
  {
   "cell_type": "markdown",
   "metadata": {},
   "source": [
    "Coming back to the analysis"
   ]
  },
  {
   "cell_type": "code",
   "execution_count": null,
   "metadata": {},
   "outputs": [],
   "source": [
    "sc.tl.rank_genes_groups(adata_he_fb, groupby='leiden', )\n",
    "sc.pl.rank_genes_groups(adata_he_fb, dendrogram=False, use_raw=False,)"
   ]
  },
  {
   "cell_type": "code",
   "execution_count": null,
   "metadata": {},
   "outputs": [],
   "source": [
    "dict_reverse_mappings = {'APOE_ABCA6': ['3', '4', '5', '8', '9', '12', '17', '13'], \n",
    "                 'FBN1_MFAP5': ['0', '1', '2', '10', '15'], \n",
    "                 'COL11A1_LAMC3': ['6', '7', '16'], \n",
    "                 'COL6A5_COL18A1': ['11', '14'], \n",
    "                  }\n",
    "\n",
    "dict_mappings = {}\n",
    "\n",
    "for key, val in dict_reverse_mappings.items():\n",
    "    for val_i in val:\n",
    "        dict_mappings[val_i] = key"
   ]
  },
  {
   "cell_type": "code",
   "execution_count": null,
   "metadata": {},
   "outputs": [],
   "source": [
    "adata_he_fb.obs['he_clusters'] = [dict_mappings[i] for i in adata_he_fb.obs['leiden']]\n",
    "sc.pl.umap(adata_he_fb, color=['leiden', 'he_clusters'], cmap=magma, legend_loc='on data')"
   ]
  },
  {
   "cell_type": "markdown",
   "metadata": {},
   "source": [
    "### Popescu et al. 2019 (This is not included in the datasets!)\n",
    "\n",
    "This is a LARGE dataset of analysis of skin, liver and kidney, as main organs. They sequence each organ and divide between immune and non-immune populations. In our case, the non-inmune part of skin is not even considered in the paper, so we have a tabula rasa to do any analysis, we do not even need to find any population from the paper, because there are none. "
   ]
  },
  {
   "cell_type": "markdown",
   "metadata": {},
   "source": [
    "#### Raw data and metadata extraction"
   ]
  },
  {
   "cell_type": "code",
   "execution_count": null,
   "metadata": {},
   "outputs": [],
   "source": [
    "popescu_dir = data_dir + '/Popescu_2019'\n",
    "os.makedirs(popescu_dir, exist_ok=True)"
   ]
  },
  {
   "cell_type": "code",
   "execution_count": null,
   "metadata": {},
   "outputs": [],
   "source": [
    "!rm -rf {popescu_dir}"
   ]
  },
  {
   "cell_type": "code",
   "execution_count": null,
   "metadata": {},
   "outputs": [],
   "source": [
    "!wget -P {popescu_dir} https://www.ebi.ac.uk/arrayexpress/files/E-MTAB-7407/E-MTAB-7407.processed.1.zip\n",
    "!wget -P {popescu_dir} https://www.ebi.ac.uk/arrayexpress/files/E-MTAB-7407/E-MTAB-7407.processed.2.zip\n",
    "!wget -P {popescu_dir} https://www.ebi.ac.uk/arrayexpress/files/E-MTAB-7407/E-MTAB-7407.processed.3.zip\n",
    "!wget -P {popescu_dir} https://www.ebi.ac.uk/arrayexpress/files/E-MTAB-7407/E-MTAB-7407.processed.4.zip"
   ]
  },
  {
   "cell_type": "code",
   "execution_count": null,
   "metadata": {},
   "outputs": [],
   "source": [
    "!unzip -o {popescu_dir}/E-MTAB-7407.processed.1.zip -d {popescu_dir} \n",
    "!unzip -o {popescu_dir}/E-MTAB-7407.processed.2.zip -d {popescu_dir}\n",
    "!unzip -o {popescu_dir}/E-MTAB-7407.processed.3.zip -d {popescu_dir} \n",
    "!unzip -o {popescu_dir}/E-MTAB-7407.processed.4.zip -d {popescu_dir} "
   ]
  },
  {
   "cell_type": "markdown",
   "metadata": {},
   "source": [
    "We are going to select samples that belong to skin and that are CD45- (to exclude immune, since fibro populations are CD45-)"
   ]
  },
  {
   "cell_type": "code",
   "execution_count": null,
   "metadata": {},
   "outputs": [],
   "source": [
    "selected_files = ['4834STDY7002880', '4834STDY7038753', 'FCAImmP7241241', 'FCAImmP7316888', 'FCAImmP7316897', 'FCAImmP7352190', 'FCAImmP7352191', \n",
    "                  'FCAImmP7462241']\n",
    "\n",
    "for file in os.listdir(popescu_dir):\n",
    "    exists = False\n",
    "    for f in selected_files:\n",
    "        if f in file:\n",
    "            exists = True\n",
    "    \n",
    "    if not exists:\n",
    "        os.remove(popescu_dir + '/' + file)"
   ]
  },
  {
   "cell_type": "code",
   "execution_count": null,
   "metadata": {},
   "outputs": [],
   "source": [
    "!ls {popescu_dir}"
   ]
  },
  {
   "cell_type": "code",
   "execution_count": null,
   "metadata": {},
   "outputs": [],
   "source": [
    "for file in selected_files:\n",
    "    os.system(f\"tar -zxvf {popescu_dir}/{file}.tar.gz -C {popescu_dir}\")"
   ]
  },
  {
   "cell_type": "markdown",
   "metadata": {},
   "source": [
    "#### Adata creation and metadata gathering"
   ]
  },
  {
   "cell_type": "code",
   "execution_count": null,
   "metadata": {},
   "outputs": [],
   "source": [
    "adata_popescu_4834STDY7002880 = sc.read_10x_mtx(popescu_dir + '/4834STDY7002880/GRCh38')\n",
    "adata_popescu_4834STDY7038753 = sc.read_10x_mtx(popescu_dir + '/4834STDY7038753/GRCh38')\n",
    "adata_popescu_FCAImmP7241241 = sc.read_10x_mtx(popescu_dir + '/FCAImmP7241241/GRCh38')\n",
    "adata_popescu_FCAImmP7316888 = sc.read_10x_mtx(popescu_dir + '/FCAImmP7316888/GRCh38')\n",
    "adata_popescu_FCAImmP7316897 = sc.read_10x_mtx(popescu_dir + '/FCAImmP7316897/GRCh38')\n",
    "adata_popescu_FCAImmP7352190 = sc.read_10x_mtx(popescu_dir + '/FCAImmP7352190/GRCh38')\n",
    "adata_popescu_FCAImmP7352191 = sc.read_10x_mtx(popescu_dir + '/FCAImmP7352191/GRCh38')\n",
    "adata_popescu_FCAImmP7462241 = sc.read_10x_mtx(popescu_dir + '/FCAImmP7462241/GRCh38')"
   ]
  },
  {
   "cell_type": "code",
   "execution_count": null,
   "metadata": {},
   "outputs": [],
   "source": [
    "adata_popescu = sc.AnnData.concatenate(adata_popescu_4834STDY7002880, adata_popescu_4834STDY7038753, adata_popescu_FCAImmP7241241, \n",
    "                                       adata_popescu_FCAImmP7316888, adata_popescu_FCAImmP7316897, adata_popescu_FCAImmP7352190, \n",
    "                                       adata_popescu_FCAImmP7352191, adata_popescu_FCAImmP7462241)"
   ]
  },
  {
   "cell_type": "code",
   "execution_count": null,
   "metadata": {},
   "outputs": [],
   "source": [
    "adata_popescu.raw = adata_popescu"
   ]
  },
  {
   "cell_type": "code",
   "execution_count": null,
   "metadata": {},
   "outputs": [],
   "source": [
    "sc.pp.filter_genes(adata_popescu, min_counts=1)\n",
    "sc.pp.log1p(adata_popescu)\n",
    "tk.tl.triku(adata_popescu, n_procs=1, random_state=seed)\n",
    "sc.pp.pca(adata_popescu, random_state=seed, n_comps=30)\n",
    "sce.pp.bbknn(adata_popescu, metric='angular')"
   ]
  },
  {
   "cell_type": "code",
   "execution_count": null,
   "metadata": {},
   "outputs": [],
   "source": [
    "sc.tl.umap(adata_popescu, min_dist=0.3, random_state=seed)\n",
    "sc.tl.leiden(adata_popescu, resolution=1.5, random_state=seed)\n",
    "sc.pl.umap(adata_popescu, color=['leiden', 'batch'], legend_loc='on data')"
   ]
  },
  {
   "cell_type": "code",
   "execution_count": null,
   "metadata": {},
   "outputs": [],
   "source": [
    "sc.pl.umap(adata_popescu, color=['leiden', 'RGS5', 'MYL9', 'NDUFA4L2', 'NPY', 'CHRNA1', 'S100B', 'MPZ'], legend_loc='on data', cmap=magma, use_raw=False)"
   ]
  },
  {
   "cell_type": "code",
   "execution_count": null,
   "metadata": {},
   "outputs": [],
   "source": [
    "sc.pl.umap(adata_popescu, color=['leiden', 'KRT18', 'KRT5', 'MLANA', 'CLDN5', 'PECAM1'], legend_loc='on data', cmap=magma, use_raw=False)"
   ]
  },
  {
   "cell_type": "code",
   "execution_count": null,
   "metadata": {},
   "outputs": [],
   "source": [
    "sc.pl.umap(adata_popescu, color=['leiden', 'GINS2', 'PCNA', 'MCM3', 'NASP', 'DEK', 'HELLS', 'DUT'], legend_loc='on data', cmap=magma, use_raw=False)"
   ]
  },
  {
   "cell_type": "markdown",
   "metadata": {},
   "source": [
    "We see that clusters in the surroundings (16, 17, 19, 20, 21, 22) barely express LUM or PDGFRA, so they ar not good candidates for being fibroblasts. \n",
    "* 16, 21: Pericytes - MYL9, RGS5, NDUFA4L2\n",
    "* 19 - Neurons (NPY, CHRNA1, CHODL) \n",
    "* 17, 22: Schwann cells (S100B, MPZ) \n",
    "* 20, 21: Keratinocytes (KRT18, KRT5) \n",
    "* 22: Melanocytes (MLANA, TYRP)\n",
    "* 21: Endothelial cells - CLDN5, PECAM1, CDH5 + Keratinocytes\n",
    "\n",
    "Additionally, clusters 3, 11, 12, 18 express genes that are involved in cell cycle:\n",
    "* GINS2 - DNA Replication Complex GINS Protein PSF2\n",
    "* MCM3/5/7 - Minichromosome Maintenance Complex Component: involved in the initiation of eukaryotic genome replication\n",
    "* PCNA - Proliferating Cell Nuclear Antigen: increase the processivity of leading strand synthesis during DNA replication\n",
    "* NASP: encodes a H1 histone binding protein that is involved in transporting histones into the nucleus of dividing cells\n",
    "* DEK: This protein binds to cruciform and superhelical DNA and induces positive supercoils into closed circular DNA\n",
    "* HELLS - Helicase, Lymphoid Specific: DNA strand separation, including replication, repair, recombination, and transcription\n",
    "* DUT: providing a precursor (dUMP) for the synthesis of thymine nucleotides needed for DNA replication.\n",
    "\n",
    "We will remove those clusters from the analysis, because we are focused on populations as similar as the adult populations. Also, cluster 13 is mixed with other fibroblast clusters, so we will include it just in case.\n"
   ]
  },
  {
   "cell_type": "code",
   "execution_count": null,
   "metadata": {
    "scrolled": true
   },
   "outputs": [],
   "source": [
    "sc.tl.rank_genes_groups(adata_popescu, groupby='leiden', method='wilcoxon')\n",
    "sc.pl.rank_genes_groups_tracksplot(adata_popescu, dendrogram=False, n_genes=20, use_raw=False)"
   ]
  },
  {
   "cell_type": "code",
   "execution_count": null,
   "metadata": {},
   "outputs": [],
   "source": [
    "adata_popescu_fb = adata_popescu[adata_popescu.obs['leiden'].isin(['0', '1', '2', '4', '5', '6', '7', '8', '9', '10', '13', '14', '15'])]"
   ]
  },
  {
   "cell_type": "code",
   "execution_count": null,
   "metadata": {},
   "outputs": [],
   "source": [
    "sc.pp.filter_genes(adata_popescu_fb, min_counts=1)\n",
    "sc.pp.pca(adata_popescu_fb, random_state=seed, n_comps=30)\n",
    "sce.pp.bbknn(adata_popescu_fb, metric='angular')\n",
    "tk.tl.triku(adata_popescu_fb, n_procs=1, random_state=seed, use_adata_knn=True)"
   ]
  },
  {
   "cell_type": "code",
   "execution_count": null,
   "metadata": {},
   "outputs": [],
   "source": [
    "sc.tl.umap(adata_popescu_fb, min_dist=0.3, random_state=seed)\n",
    "sc.tl.leiden(adata_popescu_fb, resolution=1.5, random_state=seed)\n",
    "sc.pl.umap(adata_popescu_fb, color=['leiden'], legend_loc='on data')"
   ]
  },
  {
   "cell_type": "markdown",
   "metadata": {},
   "source": [
    "## Getting robust clusters\n",
    "\n",
    "We see that all datasets have similar cell types, but the number of clusters is inconsistent. In this section we are going to do a reclustering of the datasets based on the leiden clustering. To do the reclustering, we will get the DEGs between all small clusters, and we will join two or more clusters if they do not have any distinct DEG. We will repeat the procedure until we find no more clusters without DEGs. We will aim to get between 10 to 15 clusters, although in later steps they might be further down reduced."
   ]
  },
  {
   "cell_type": "markdown",
   "metadata": {},
   "source": [
    "### Tabib et al. 2018"
   ]
  },
  {
   "cell_type": "code",
   "execution_count": null,
   "metadata": {
    "scrolled": true
   },
   "outputs": [],
   "source": [
    "sc.tl.rank_genes_groups(adata_tabib_fb, 'leiden', method='wilcoxon')\n",
    "sc.pl.rank_genes_groups_tracksplot(adata_tabib_fb, dendrogram=False, n_genes=80, use_raw=False)"
   ]
  },
  {
   "cell_type": "markdown",
   "metadata": {},
   "source": [
    "* Clusters 0, 11, 13 can be tentativaly be joined, however, each expresses exclusive DEGs that can be considered. 13 can be joined to 11\n",
    "    * 0 - Most genes are also expressed in 11, 7, 13, etc. but the main expression of some of them is at 0.\n",
    "    * 11 - NOVA1, FBN1, ABI3BP, CRIP1, TNXB , CLEC3B, CD248\n",
    "    * 13 - SFRP4, PCOLCE2 -> Genes have minor expression\n",
    "* Clusters 2 and 6 can be tentatively be joined, but they have different markers, so at a first pace we will not.\n",
    "* Cluster 3 is always coexpressed with 5 and 15.\n",
    "* Cluster 4 is almost always coexpressed with 19. It expresses, either alone or with cluster 12, BCHE, DIRAS3, DIO2, all enzymes known in thyroid or liver, not ion skin. Also, their expression is low, so we can *safely* join the two clusters. 12 should not be join because it has its own set of expressed genes.\n",
    "* Clusters 8 and 9 can be joined. Cluster 8 exclusively expressed CCL19, but cluster 9 has no relevant DEG, and should be joined.\n",
    "* Clusters 6 and 10 can be joined. Generally, 10 coexpresses with 6, 8, and 9, but there are genes like FMO1, C7 or LSP1 that are more *exclusive* of 10 and 6.\n",
    "* Cluster 7 and 14 are always coexpressed. Sometimes 7/14 are not coexpressed with 3/5/15, so we will keep them separate so far.\n",
    "* 16 is a tricky cluster, because it expresses genes from cluster 5, 11, and 0, that is, genes that are expressed in the whole DPP4/SFRP2 cluster. It can be joined to either 14, 11, 3, or any other SFRP2 cluster. To make the visualization balanced, we are going to join it to 7 / 14.\n",
    "* Cluster 18 is a bridge between cluster 17(+1+6) (TAGLN, ITM2A, AKAP12), 11 (TSPAN8, CHRDL1). \n",
    "* Cluster 20 is a mixture between clusters 1, 2, 17."
   ]
  },
  {
   "cell_type": "code",
   "execution_count": null,
   "metadata": {},
   "outputs": [],
   "source": [
    "dict_reverse_mappings = {'T0': ['0'], 'T1': ['1'], 'T2': ['2'], 'T3': ['3', '5', '15'], \n",
    "                         'T4': ['4', '19'], 'T5': ['6', '10'], 'T6': ['7', '14', '16'], 'T7': ['8', '9'], \n",
    "                         'T8': ['11'], 'T9':['12'], 'T10':['13'], 'T11':['17'], 'T12':['18'], 'T13':['20']}\n",
    "\n",
    "dict_mappings = {}\n",
    "\n",
    "for key, val in dict_reverse_mappings.items():\n",
    "    for val_i in val:\n",
    "        dict_mappings[val_i] = key\n",
    "        \n",
    "adata_tabib_fb.obs['robust_clustering_1'] = [dict_mappings[i] for i in adata_tabib_fb.obs['leiden']]\n",
    "sc.pl.umap(adata_tabib_fb, color=['robust_clustering_1'], cmap=magma, legend_loc='on data')"
   ]
  },
  {
   "cell_type": "code",
   "execution_count": null,
   "metadata": {},
   "outputs": [],
   "source": [
    "sc.pl.umap(adata_tabib_fb, color=['robust_clustering_1',  'CCL2', 'GGT5'], cmap=magma, legend_loc='on data', use_raw=False)"
   ]
  },
  {
   "cell_type": "code",
   "execution_count": null,
   "metadata": {},
   "outputs": [],
   "source": [
    "genes = ['GDF10', 'PLA2G2A']\n",
    "sc.pl.umap(adata_tabib_fb, color=['robust_clustering_1'] + genes, cmap=magma, legend_loc='on data', use_raw=False) "
   ]
  },
  {
   "cell_type": "code",
   "execution_count": null,
   "metadata": {},
   "outputs": [],
   "source": [
    "sc.tl.rank_genes_groups(adata_tabib_fb, 'robust_clustering_1', method='wilcoxon')\n",
    "sc.pl.rank_genes_groups(adata_tabib_fb)"
   ]
  },
  {
   "cell_type": "code",
   "execution_count": null,
   "metadata": {
    "scrolled": true
   },
   "outputs": [],
   "source": [
    "sc.tl.rank_genes_groups(adata_tabib_fb, 'robust_clustering_1', method='wilcoxon')\n",
    "sc.pl.rank_genes_groups_tracksplot(adata_tabib_fb, dendrogram=False,  n_genes=60, use_raw=False)"
   ]
  },
  {
   "cell_type": "code",
   "execution_count": null,
   "metadata": {},
   "outputs": [],
   "source": [
    "dict_reverse_mappings = {'A': ['T0', 'T3', 'T6', 'T8', 'T10'], 'B': ['T2', 'T5', 'T7', 'T12'], 'C': ['T1', 'T4', 'T9', 'T11'], 'D': ['T13', 'T12']}\n",
    "\n",
    "dict_mappings = {}\n",
    "\n",
    "for key, val in dict_reverse_mappings.items():\n",
    "    for val_i in val:\n",
    "        dict_mappings[val_i] = key\n",
    "        \n",
    "adata_tabib_fb.obs['axes'] = [dict_mappings[i] for i in adata_tabib_fb.obs['robust_clustering_1']]\n",
    "\n",
    "adata_tabib_fb.uns['axes_colors'] = ['#9a1549', '#00764b', '#002562', '#606060']\n",
    "\n",
    "sc.pl.umap(adata_tabib_fb, color=['axes'], cmap=magma, legend_loc='on data', legend_fontsize=16)"
   ]
  },
  {
   "cell_type": "code",
   "execution_count": null,
   "metadata": {},
   "outputs": [],
   "source": [
    "sc.tl.rank_genes_groups(adata_tabib_fb, 'axes', method='wilcoxon')\n",
    "sc.pl.rank_genes_groups_tracksplot(adata_tabib_fb, dendrogram=False,  n_genes=60, use_raw=False)"
   ]
  },
  {
   "cell_type": "code",
   "execution_count": null,
   "metadata": {},
   "outputs": [],
   "source": [
    "dict_reverse_mappings = {'A1': ['T8', 'T0'], 'A2': ['T3'], 'A3': ['T6'], 'A4': ['T10'], \n",
    "                         'B1': ['T2', 'T5'], 'B2': ['T7'], \n",
    "                         'C1': ['T1'], 'C2': ['T9'], 'C3': ['T4'], 'C4': ['T11'], \n",
    "                         'D1': ['T12'], 'D2': ['T13']}\n",
    "\n",
    "dict_mappings = {}\n",
    "\n",
    "for key, val in dict_reverse_mappings.items():\n",
    "    for val_i in val:\n",
    "        dict_mappings[val_i] = key\n",
    "        \n",
    "adata_tabib_fb.obs['clusters'] = [dict_mappings[i] for i in adata_tabib_fb.obs['robust_clustering_1']]\n",
    "\n",
    "adata_tabib_fb.uns['clusters_colors'] = ['#e14b67', '#d98c58', '#e55e32', '#cd2333', '#009f61', '#54ab4c', \n",
    "                                                    '#008aac', '#006aad', '#2a358c', '#3fb4c1', '#9a9a9a', '#d8d8d8']\n",
    "\n",
    "sc.pl.umap(adata_tabib_fb, color=['clusters'], cmap=magma, legend_loc='on data', legend_fontsize=16)"
   ]
  },
  {
   "cell_type": "markdown",
   "metadata": {},
   "source": [
    "### Philippeos et al. 2018"
   ]
  },
  {
   "cell_type": "code",
   "execution_count": null,
   "metadata": {},
   "outputs": [],
   "source": [
    "sc.pl.umap(adata_phil_fb, color=['leiden', 'MFAP5','ID3', 'POSTN', 'FGF7', 'COL18A1'], cmap=magma, legend_loc='on data', use_raw=False) "
   ]
  },
  {
   "cell_type": "code",
   "execution_count": null,
   "metadata": {
    "scrolled": true
   },
   "outputs": [],
   "source": [
    "sc.tl.rank_genes_groups(adata_phil_fb, 'leiden', method='wilcoxon')\n",
    "sc.pl.rank_genes_groups_tracksplot(adata_phil_fb, dendrogram=False, n_genes=60, use_raw=False)"
   ]
  },
  {
   "cell_type": "markdown",
   "metadata": {},
   "source": [
    "* Clusters 1 and 2 are interesting because they are the common COL18A1 and MFAP5 clusters, which appear in all datasets. \n",
    "* Cluster 0 does not have a clear transcriptomic profile. Based on its DEGs (ID3, MFAP5(lo), PLK2, MEOX2...) it can be the POSTN/ASPN cluster, but I am not sure."
   ]
  },
  {
   "cell_type": "code",
   "execution_count": null,
   "metadata": {},
   "outputs": [],
   "source": [
    "dict_reverse_mappings = {'P0': ['0'], 'P1': ['1'], 'P2': ['2']}\n",
    " \n",
    "dict_mappings = {}\n",
    "\n",
    "for key, val in dict_reverse_mappings.items():\n",
    "    for val_i in val:\n",
    "        dict_mappings[val_i] = key\n",
    "        \n",
    "adata_phil_fb.obs['robust_clustering_1'] = [dict_mappings[i] for i in adata_phil_fb.obs['leiden']]\n",
    "sc.pl.umap(adata_phil_fb, color=['robust_clustering_1'], cmap=magma, legend_loc='on data')"
   ]
  },
  {
   "cell_type": "code",
   "execution_count": null,
   "metadata": {},
   "outputs": [],
   "source": [
    "sc.tl.rank_genes_groups(adata_phil_fb, 'robust_clustering_1', method='wilcoxon')\n",
    "sc.pl.rank_genes_groups_tracksplot(adata_phil_fb, dendrogram=False, n_genes=60, use_raw=False)"
   ]
  },
  {
   "cell_type": "code",
   "execution_count": null,
   "metadata": {},
   "outputs": [],
   "source": [
    "sc.pl.umap(adata_phil_fb, color=['robust_clustering_1', 'ID3', 'CYR61', 'SPARCL1', 'CRABP1', 'FIBIN', 'COCH'], cmap=magma, legend_loc='on data', ncols=5)\n",
    "sc.pl.umap(adata_tabib_fb, color=['robust_clustering_1', 'ID3', 'CYR61', 'SPARCL1'], cmap=magma, legend_loc='on data', ncols=5, use_raw=False)"
   ]
  },
  {
   "cell_type": "markdown",
   "metadata": {},
   "source": [
    "### Solé-Boldo et al. 2020"
   ]
  },
  {
   "cell_type": "code",
   "execution_count": null,
   "metadata": {
    "scrolled": true
   },
   "outputs": [],
   "source": [
    "sc.tl.rank_genes_groups(adata_sole_young_fb, 'leiden', method='wilcoxon')\n",
    "sc.pl.rank_genes_groups_tracksplot(adata_sole_young_fb, dendrogram=False, n_genes=20, use_raw=False)"
   ]
  },
  {
   "cell_type": "markdown",
   "metadata": {},
   "source": [
    "* Clusters 0 and 2 are shared.\n",
    "* Clusters 14 and 16 expresses many markers from several clusters (3, 2, 0), but also coexpress some genes *only* with 1 (ARRDC3, NKD2, RGS3, HSPB3). We will merge 1 with 14 and 16.\n",
    "* Cluster 3 is a mixture of 0/2 adn 1/14/16. We will keep it as separate.\n",
    "* Cluster 4 shares some signatures with 0/2 and / or 8 (CD55, GPC3), but also with 12/13 (POSTN). It expresses F2R exclusively and has a higher expression of CALD1. It also expresses a bunch of RPS, which makes it less trustworthy. It may be a bridge cluster. \n",
    "* Cluster 5 expresses mainly BIRC3 and CCL19 (CCL19 also in 9 and 6), SELK, and coexpresses many genes with 6, 7 and 9. But, if it has to be joined, it would be exclusively with 7. 5 and 7 roughly coexpress MEDAG, CXCL2, CXCL3, MT1A etc. which 6/9 express less or do not.\n",
    "    * The best decision is to join 5, 6, and 9; and keep 7 apart. \n",
    "* 7 and 8 might be joined. They fairly express GPC3, PI16, MFAP5. 8 is more focused on that expression, but 7 acoompanies it (and not 5, 6 and 9). Also, they express APOE. Bridge markers like APOC1, MYOC and C7 are more expressed in 5, but they have some expression in 7, and correlate quite well with T5 (and T2 does with 8).\n",
    "* 10 is independent (COCH, MKX)\n",
    "* 11 is independent (FGFBP2, ANGPTL7)\n",
    "* 12 is independent (POSTN, TNN)\n",
    "* 13 is independent (DPEP1)\n",
    "* Cluster 15 expressed FXYD3, TPD52 and S100B, which might be vestigially expressed in Tabib. There is not a clear expression of any good marker in the clsuter. S100B strikes me as a possible residual of a Schwann cell. "
   ]
  },
  {
   "cell_type": "code",
   "execution_count": null,
   "metadata": {},
   "outputs": [],
   "source": [
    "dict_reverse_mappings = {'S0': ['0', '2'], 'S1': ['1', '14', '16'], 'S2': ['5', '6', '9'], 'S3': ['7', '8'], 'S4': ['3'], 'S5': ['4'],\n",
    "                         'S6': ['10'], 'S7': ['11'], 'S8': ['12'], 'S9': ['13'], 'S10': ['15']}\n",
    " \n",
    "dict_mappings = {}\n",
    "\n",
    "for key, val in dict_reverse_mappings.items():\n",
    "    for val_i in val:\n",
    "        dict_mappings[val_i] = key\n",
    "        \n",
    "adata_sole_young_fb.obs['robust_clustering_1'] = [dict_mappings[i] for i in adata_sole_young_fb.obs['leiden']]\n",
    "sc.pl.umap(adata_sole_young_fb, color=['robust_clustering_1'], cmap=magma, legend_loc='on data')"
   ]
  },
  {
   "cell_type": "code",
   "execution_count": null,
   "metadata": {},
   "outputs": [],
   "source": [
    "sc.pl.umap(adata_sole_young_fb, color=['robust_clustering_1', 'APOE', 'C7', 'MEDAG', 'CYGB', 'APOC1', 'CXCL2', 'GPC3'\n",
    "], cmap=magma, legend_loc='on data', use_raw=False) "
   ]
  },
  {
   "cell_type": "code",
   "execution_count": null,
   "metadata": {
    "scrolled": true
   },
   "outputs": [],
   "source": [
    "sc.tl.rank_genes_groups(adata_sole_young_fb, 'robust_clustering_1', method='wilcoxon')\n",
    "sc.pl.rank_genes_groups_tracksplot(adata_sole_young_fb, dendrogram=False, n_genes=70, use_raw=False)"
   ]
  },
  {
   "cell_type": "code",
   "execution_count": null,
   "metadata": {},
   "outputs": [],
   "source": [
    "dict_reverse_mappings = {'A': ['S0', 'S1', 'S4'], 'B': ['S2', 'S3'], 'C': ['S5', 'S6', 'S7', 'S8', 'S9'], 'E': ['S10']}\n",
    "\n",
    "dict_mappings = {}\n",
    "\n",
    "for key, val in dict_reverse_mappings.items():\n",
    "    for val_i in val:\n",
    "        dict_mappings[val_i] = key\n",
    "        \n",
    "adata_sole_young_fb.obs['axes'] = [dict_mappings[i] for i in adata_sole_young_fb.obs['robust_clustering_1']]\n",
    "adata_sole_young_fb.uns['axes_colors'] = ['#9a1549', '#00764b', '#002562', '#b21b95']\n",
    "\n",
    "\n",
    "sc.pl.umap(adata_sole_young_fb, color=['axes'], cmap=magma, legend_loc='on data', legend_fontsize=16)"
   ]
  },
  {
   "cell_type": "code",
   "execution_count": null,
   "metadata": {},
   "outputs": [],
   "source": [
    "sc.tl.rank_genes_groups(adata_sole_young_fb, 'axes', method='wilcoxon')\n",
    "sc.pl.rank_genes_groups_tracksplot(adata_sole_young_fb, dendrogram=False,  n_genes=60, use_raw=False)"
   ]
  },
  {
   "cell_type": "code",
   "execution_count": null,
   "metadata": {},
   "outputs": [],
   "source": [
    "dict_reverse_mappings = {'A1': ['S0'], 'A2': ['S1'], 'A3': ['S4'],  \n",
    "                         'B1': ['S3'], 'B2': ['S2'], \n",
    "                         'C1': ['S9', 'S5'], 'C2': ['S6'], 'C3': ['S8'], 'C4': ['S7'], \n",
    "                         'E': ['S10']}\n",
    "\n",
    "dict_mappings = {}\n",
    "\n",
    "for key, val in dict_reverse_mappings.items():\n",
    "    for val_i in val:\n",
    "        dict_mappings[val_i] = key\n",
    "        \n",
    "adata_sole_young_fb.obs['clusters'] = [dict_mappings[i] for i in adata_sole_young_fb.obs['robust_clustering_1']]\n",
    "\n",
    "adata_sole_young_fb.uns['clusters_colors'] = ['#e14b67', '#d98c58', '#e55e32', '#009f61', '#54ab4c', \n",
    "                                                    '#008aac', '#006aad', '#2a358c', '#3fb4c1', '#b21b95']\n",
    "\n",
    "sc.pl.umap(adata_sole_young_fb, color=['clusters'], cmap=magma, legend_loc='on data', legend_fontsize=16)"
   ]
  },
  {
   "cell_type": "markdown",
   "metadata": {},
   "source": [
    "### Vorstandlechner et al. 2020"
   ]
  },
  {
   "cell_type": "code",
   "execution_count": null,
   "metadata": {
    "scrolled": true
   },
   "outputs": [],
   "source": [
    "sc.tl.rank_genes_groups(adata_vors_fb, 'leiden', method='wilcoxon')\n",
    "sc.pl.rank_genes_groups_tracksplot(adata_vors_fb, dendrogram=False, n_genes=50, use_raw=False)"
   ]
  },
  {
   "cell_type": "markdown",
   "metadata": {},
   "source": [
    "* Clusters 0 and 3 are always coexpressed. Cluster 2 also, but seems more diffuse.\n",
    "* Cluster 1 is a bridge cluster between cluster 2 and 8. \n",
    "* Clusters 6 and 14 can be joined (WIF1)\n",
    "* Clusters 8 and 15 can be joined (APCDD1)\n",
    "* Clusters 11 and 13 can be joined (CCL19)\n",
    "* Clusters 9 and 16 can be joined.\n",
    "* Cluster 17, although it is joined to cluster 4, its main DEGs are expressed by clusters 0 / 3, and cluster 18. Maybe it is a bridge cluster."
   ]
  },
  {
   "cell_type": "code",
   "execution_count": null,
   "metadata": {},
   "outputs": [],
   "source": [
    "dict_reverse_mappings = {'V0': ['0', '2', '3'], 'V1': ['1'], 'V2': ['4'], 'V3': ['5'], \n",
    "                         'V4': ['6', '14'], 'V5': ['7'], 'V6': ['8', '15'], 'V7': ['9', '16', '12'], \n",
    "                         'V8': ['10'], 'V9':['11', '13'], 'V10': ['17'], 'V11': ['18']}\n",
    " \n",
    "dict_mappings = {}\n",
    "\n",
    "for key, val in dict_reverse_mappings.items():\n",
    "    for val_i in val:\n",
    "        dict_mappings[val_i] = key\n",
    "        \n",
    "adata_vors_fb.obs['robust_clustering_1'] = [dict_mappings[i] for i in adata_vors_fb.obs['leiden']]\n",
    "sc.pl.umap(adata_vors_fb, color=['robust_clustering_1'], cmap=magma, legend_loc='on data')"
   ]
  },
  {
   "cell_type": "code",
   "execution_count": null,
   "metadata": {},
   "outputs": [],
   "source": [
    "sc.pl.umap(adata_vors_fb, color=['robust_clustering_1', 'WIF1', 'PLA2G2A', 'APCDD1'], cmap=magma, legend_loc='on data', use_raw=False) "
   ]
  },
  {
   "cell_type": "code",
   "execution_count": null,
   "metadata": {
    "scrolled": true
   },
   "outputs": [],
   "source": [
    "sc.tl.rank_genes_groups(adata_vors_fb, 'robust_clustering_1', method='wilcoxon')\n",
    "sc.pl.rank_genes_groups_tracksplot(adata_vors_fb, dendrogram=False, n_genes=50, use_raw=False)"
   ]
  },
  {
   "cell_type": "code",
   "execution_count": null,
   "metadata": {},
   "outputs": [],
   "source": [
    "dict_reverse_mappings = {'A': ['V0', 'V1', 'V4', 'V6', 'V8'], 'B': ['V2', 'V3', 'V5', 'V9', 'V10'], 'C': ['V11'], 'F': ['V7']}\n",
    "\n",
    "dict_mappings = {}\n",
    "\n",
    "for key, val in dict_reverse_mappings.items():\n",
    "    for val_i in val:\n",
    "        dict_mappings[val_i] = key\n",
    "        \n",
    "adata_vors_fb.obs['axes'] = [dict_mappings[i] for i in adata_vors_fb.obs['robust_clustering_1']]\n",
    "adata_vors_fb.uns['axes_colors'] = ['#9a1549', '#00764b', '#002562', '#6d6d6d']\n",
    "sc.pl.umap(adata_vors_fb, color=['axes'], cmap=magma, legend_loc='on data', legend_fontsize=16)"
   ]
  },
  {
   "cell_type": "code",
   "execution_count": null,
   "metadata": {},
   "outputs": [],
   "source": [
    "sc.tl.rank_genes_groups(adata_vors_fb, 'axes', method='wilcoxon')\n",
    "sc.pl.rank_genes_groups_tracksplot(adata_vors_fb, dendrogram=False,  n_genes=60, use_raw=False)"
   ]
  },
  {
   "cell_type": "code",
   "execution_count": null,
   "metadata": {},
   "outputs": [],
   "source": [
    "dict_reverse_mappings = {'A1': ['V0'], 'A3': ['V4'], 'A2': ['V1', 'V6'],  'A4': ['V8'],\n",
    "                         'B1': ['V3', 'V5', 'V10'], 'B2': ['V2', 'V9'], \n",
    "                         'C': ['V11'],\n",
    "                         'F': ['V7']}\n",
    "\n",
    "dict_mappings = {}\n",
    "\n",
    "for key, val in dict_reverse_mappings.items():\n",
    "    for val_i in val:\n",
    "        dict_mappings[val_i] = key\n",
    "        \n",
    "adata_vors_fb.obs['clusters'] = [dict_mappings[i] for i in adata_vors_fb.obs['robust_clustering_1']]\n",
    "\n",
    "adata_vors_fb.uns['clusters_colors'] = ['#e14b67', '#d98c58', '#e55e32', '#cd2333', '#009f61', '#54ab4c', \n",
    "                                                    '#002562', '#6d6d6d']\n",
    "\n",
    "sc.pl.umap(adata_vors_fb, color=['clusters'], cmap=magma, legend_loc='on data', legend_fontsize=16)"
   ]
  },
  {
   "cell_type": "markdown",
   "metadata": {},
   "source": [
    "### He et al. 2020"
   ]
  },
  {
   "cell_type": "markdown",
   "metadata": {},
   "source": [
    "#### Colocallization of COL18A1, COL6A5, CCL19"
   ]
  },
  {
   "cell_type": "code",
   "execution_count": null,
   "metadata": {},
   "outputs": [],
   "source": [
    "genes = ['COL18A1', 'COL6A5', 'CCL19']\n",
    "sc.pl.umap(adata_tabib_fb, color=['leiden'] + genes, cmap=magma, legend_loc='on data', use_raw=False) \n",
    "sc.pl.umap(adata_vors_fb, color=['leiden'] + genes, cmap=magma, legend_loc='on data', use_raw=False) \n",
    "sc.pl.umap(adata_sole_young_fb, color=['leiden'] + genes, cmap=magma, legend_loc='on data', use_raw=False) \n",
    "sc.pl.umap(adata_he_fb, color=['leiden'] + genes, cmap=magma, legend_loc='on data', use_raw=False) "
   ]
  },
  {
   "cell_type": "markdown",
   "metadata": {},
   "source": [
    "Interestingly, CCL19 barely colocalizes with COL6A5 in the rest of datasets, but it does in He et al."
   ]
  },
  {
   "cell_type": "code",
   "execution_count": null,
   "metadata": {
    "scrolled": true
   },
   "outputs": [],
   "source": [
    "sc.tl.rank_genes_groups(adata_he_fb, 'leiden', method='wilcoxon')\n",
    "sc.pl.rank_genes_groups_tracksplot(adata_he_fb, dendrogram=False, n_genes=70, use_raw=False)"
   ]
  },
  {
   "cell_type": "markdown",
   "metadata": {},
   "source": [
    "* I don't like cluster 0. It has many RPS/MT, and all of its DEGs are also expressed by other clsuters.It expreses PI16/CCN5/C3, so it can be the SFRP2+/WISP2+ cluster; but it does not express SLPI or WIF, so it somewhat inconsistent. There are other genes that express WISP2-related genes, but they don't express GPX3.\n",
    "* Clusters 1, 2 express CRYAB/ADM, which are expressed in the WISP2 cluster of the rest of datasets.\n",
    "    * Clusters 5, 10 and 15 might also be annexed because they express DPT, CP and CTHRC1. CTHRC1 is mapped exclusively to WISP2 clsuter, whereas DPT is mapped to WISP2+ cluster and APOE+ cluster (4, 8, 3, 11).\n",
    "* The two immune parts (CCL19/C3/APOE VS APOE/APOC1/APOD) can be divided into\n",
    "    * APOE/C3/CCL19 - 4 + 8 + 12\n",
    "    * APOE/APOC1/APOD - 3 + 11 + 17\n",
    "* Also, cluster 13 is APOD / ANGPTL7 / FGFBP2 / SCN7A. It also expressed NDUFA4L2, and other markers from other cell types which might imply a slight contamination. (These markers don't collocalize with the rest of markers).\n",
    "* Cluster 9 is strange. It expresses PABPC1, SLC25A5, RPSA, SNHG5 and NACA. Those genes are thoroughly expressed in most datasets, but interestingly **it is a cluster of Solé-Boldo dataset**\n",
    "* Clusters 6 and 7 can be joined (cluster 7 expressed jointly to 6 all DEGs) and coexpress DPEP1, POSTN, COL11A1.\n",
    "* Cluster 14 maps to the typical COMP cluster, but very roughly.\n",
    "* Cluster 16 expresses COCH ASPN"
   ]
  },
  {
   "cell_type": "code",
   "execution_count": null,
   "metadata": {},
   "outputs": [],
   "source": [
    "dict_reverse_mappings = {'H0': ['0'], 'H1': ['1', '2', '5', '10', '15'], 'H2': ['3', '11', '17'], 'H3': ['4', '8', '12'], \n",
    "                         'H4': ['6', '7'], 'H5': ['9'], 'H6': ['13'], 'H7': ['14'], 'H8': ['16'],}\n",
    " \n",
    "dict_mappings = {}\n",
    "\n",
    "for key, val in dict_reverse_mappings.items():\n",
    "    for val_i in val:\n",
    "        dict_mappings[val_i] = key\n",
    "        \n",
    "adata_he_fb.obs['robust_clustering_1'] = [dict_mappings[i] for i in adata_he_fb.obs['leiden']]\n",
    "sc.pl.umap(adata_he_fb, color=['robust_clustering_1'], cmap=magma, legend_loc='on data')"
   ]
  },
  {
   "cell_type": "code",
   "execution_count": null,
   "metadata": {},
   "outputs": [],
   "source": [
    "sc.pl.umap(adata_he_fb, color=['robust_clustering_1', 'AXIN2', 'PTK7'], cmap=magma, legend_loc='on data')"
   ]
  },
  {
   "cell_type": "code",
   "execution_count": null,
   "metadata": {
    "scrolled": true
   },
   "outputs": [],
   "source": [
    "sc.tl.rank_genes_groups(adata_he_fb, 'robust_clustering_1', method='wilcoxon')\n",
    "sc.pl.rank_genes_groups_tracksplot(adata_he_fb, dendrogram=False, n_genes=70, use_raw=False)"
   ]
  },
  {
   "cell_type": "code",
   "execution_count": null,
   "metadata": {},
   "outputs": [],
   "source": [
    "dict_reverse_mappings = {'A': ['H0', 'H1', 'H7'], 'B': ['H2', 'H3'], 'C': ['H4', 'H6', 'H8'], 'E': ['H5']}\n",
    "\n",
    "dict_mappings = {}\n",
    "\n",
    "for key, val in dict_reverse_mappings.items():\n",
    "    for val_i in val:\n",
    "        dict_mappings[val_i] = key\n",
    "        \n",
    "adata_he_fb.obs['axes'] = [dict_mappings[i] for i in adata_he_fb.obs['robust_clustering_1']]\n",
    "adata_he_fb.uns['axes_colors'] = ['#9a1549', '#00764b', '#002562', '#b21b95']\n",
    "\n",
    "sc.pl.umap(adata_he_fb, color=['axes'], cmap=magma, legend_loc='on data', legend_fontsize=16)"
   ]
  },
  {
   "cell_type": "code",
   "execution_count": null,
   "metadata": {},
   "outputs": [],
   "source": [
    "sc.tl.rank_genes_groups(adata_he_fb, 'axes', method='wilcoxon')\n",
    "sc.pl.rank_genes_groups_tracksplot(adata_he_fb, dendrogram=False, n_genes=70, use_raw=False)"
   ]
  },
  {
   "cell_type": "code",
   "execution_count": null,
   "metadata": {},
   "outputs": [],
   "source": [
    "dict_reverse_mappings = {'A': ['H0', 'H7', 'H1'],\n",
    "                         'B1': ['H3'], 'B2': ['H2'], \n",
    "                         'C1': ['H4'], 'C2': ['H8'], 'C4': ['H6'],\n",
    "                         'E': ['H5']}\n",
    "\n",
    "dict_mappings = {}\n",
    "\n",
    "for key, val in dict_reverse_mappings.items():\n",
    "    for val_i in val:\n",
    "        dict_mappings[val_i] = key\n",
    "        \n",
    "adata_he_fb.obs['clusters'] = [dict_mappings[i] for i in adata_he_fb.obs['robust_clustering_1']]\n",
    "\n",
    "adata_he_fb.uns['clusters_colors'] = ['#9a1549', '#009f61', '#54ab4c', '#008aac', '#006aad', '#3fb4c1', '#b21b95']\n",
    "\n",
    "sc.pl.umap(adata_he_fb, color=['clusters'], cmap=magma, legend_loc='on data', legend_fontsize=16)"
   ]
  },
  {
   "cell_type": "markdown",
   "metadata": {},
   "source": [
    "# Figure production"
   ]
  },
  {
   "cell_type": "code",
   "execution_count": null,
   "metadata": {},
   "outputs": [],
   "source": [
    "def create_plot_axis(genes):\n",
    "    names = ['Tabib', 'Solé-Boldo', 'Vorstandlechner', 'He']\n",
    "    fig, axs = plt.subplots(1 + len(genes), 4, figsize=(4*4, (1 + len(genes))*3))\n",
    "    for adata_ix, adata in enumerate([adata_tabib_fb, adata_sole_young_fb, adata_vors_fb, adata_he_fb]):\n",
    "        sc.pl.umap(adata, color=['axes',] , cmap=magma, legend_loc='on data', ax=axs[0][adata_ix], show=False, title=names[adata_ix], \n",
    "                   legend_fontsize=16, legend_fontoutline=3)\n",
    "        \n",
    "        for gene_ix, gene in enumerate(genes):\n",
    "            try:\n",
    "                sc.pl.umap(adata, color=gene , cmap=magma, legend_loc='on data', ax=axs[gene_ix + 1][adata_ix], show=False, use_raw=False)\n",
    "            except:\n",
    "                pass\n",
    "            \n",
    "    plt.tight_layout()\n",
    "    fig.savefig('images/'+'_'.join(genes)+'png', dpi=300)\n",
    "    \n",
    "def create_plot_cluster(genes, clusters=[]):\n",
    "    names = ['Tabib', 'Solé-Boldo', 'Vorstandlechner', 'He']\n",
    "    \n",
    "    fig, axs = plt.subplots(1 + len(genes), 4, figsize=(4*4, (1 + len(genes))*3))\n",
    "    for adata_ix, adata in enumerate([adata_tabib_fb, adata_sole_young_fb, adata_vors_fb, adata_he_fb]):       \n",
    "        sc.pl.umap(adata, color=['clusters',] , cmap=magma, legend_loc='on data', ax=axs[0][adata_ix], show=False, title=names[adata_ix], \n",
    "                  legend_fontsize=12, legend_fontoutline=2)\n",
    "        \n",
    "        for gene_ix, gene in enumerate(genes):\n",
    "            try:\n",
    "                if len(clusters):\n",
    "                    sc.pl.umap(adata, color=gene , cmap=magma, legend_loc='on data', ax=axs[gene_ix + 1][adata_ix], show=False, use_raw=False, \n",
    "                           title = f'{gene} ({clusters[gene_ix]})')\n",
    "                else:\n",
    "                    sc.pl.umap(adata, color=gene , cmap=magma, legend_loc='on data', ax=axs[gene_ix + 1][adata_ix], show=False, use_raw=False, \n",
    "                           title = f'{gene}')\n",
    "            except:\n",
    "                pass\n",
    "            \n",
    "    plt.tight_layout()\n",
    "    fig.savefig('images/'+'_'.join(genes)+'png', dpi=300)\n"
   ]
  },
  {
   "cell_type": "markdown",
   "metadata": {},
   "source": [
    "### Figure 1: Representation of major axes with principal representative genes"
   ]
  },
  {
   "cell_type": "code",
   "execution_count": null,
   "metadata": {},
   "outputs": [],
   "source": [
    "create_plot_axis(['SFRP2', 'APOE', 'SFRP1'])"
   ]
  },
  {
   "cell_type": "markdown",
   "metadata": {},
   "source": [
    "### Figure 2: Representation of markers of axis A populations"
   ]
  },
  {
   "cell_type": "code",
   "execution_count": null,
   "metadata": {},
   "outputs": [],
   "source": [
    "create_plot_cluster(['SLPI', 'COMP', 'WIF1', 'SFRP4'], ['A1', 'A2', 'A3', 'A4'])"
   ]
  },
  {
   "cell_type": "markdown",
   "metadata": {},
   "source": [
    "### Figure 3: Representation of markers of axis B populations"
   ]
  },
  {
   "cell_type": "code",
   "execution_count": null,
   "metadata": {},
   "outputs": [],
   "source": [
    "create_plot_cluster(['ITM2A', 'CCL2', 'CCL19', 'CTSH'], ['B1', 'B1', 'B2', 'B2'])"
   ]
  },
  {
   "cell_type": "markdown",
   "metadata": {},
   "source": [
    "### Figure 4: Representation of markers of axis C populations"
   ]
  },
  {
   "cell_type": "code",
   "execution_count": null,
   "metadata": {},
   "outputs": [],
   "source": [
    "create_plot_cluster(['COL11A1', 'COCH', 'POSTN', 'TM4SF1'], ['C1', 'C2', 'C3', 'C4'])"
   ]
  },
  {
   "cell_type": "markdown",
   "metadata": {},
   "source": [
    "## Supplementary figures"
   ]
  },
  {
   "cell_type": "code",
   "execution_count": null,
   "metadata": {},
   "outputs": [],
   "source": [
    "create_plot_axis(['ELN', 'MMP2', 'QPCT', 'SFRP2'])\n",
    "create_plot_axis(['APOE', 'C7', 'CYGB', 'IGFBP7'])\n",
    "create_plot_axis(['DKK3', 'SFRP1', 'TNMD', 'TNN'])"
   ]
  },
  {
   "cell_type": "code",
   "execution_count": null,
   "metadata": {},
   "outputs": [],
   "source": [
    "create_plot_cluster(['IGFBP6', 'PI16', 'SLPI', 'WISP2'])\n",
    "create_plot_cluster(['ELN', 'RGCC', 'SGCA', 'WIF1'])\n",
    "create_plot_cluster(['APCDD1', 'COL18A1', 'COMP', 'NKD2'])\n",
    "create_plot_cluster(['FBN1', 'PCOLCE2', 'PRG4', 'SFRP4'])"
   ]
  },
  {
   "cell_type": "code",
   "execution_count": null,
   "metadata": {},
   "outputs": [],
   "source": [
    "create_plot_cluster(['CCL2', 'ITM2A', 'PLA2G2A', 'SOD2'])\n",
    "create_plot_cluster(['CCL19', 'CD74', 'CTSH', 'RBP5'])"
   ]
  },
  {
   "cell_type": "code",
   "execution_count": null,
   "metadata": {},
   "outputs": [],
   "source": [
    "create_plot_cluster(['COL11A1', 'DPEP1', 'TNMD', 'WFDC1'])\n",
    "create_plot_cluster(['COCH', 'CRABP1', 'FIBIN', 'RSPO4'])\n",
    "create_plot_cluster(['ASPN', 'F2R', 'GPM6B', 'POSTN'])\n",
    "create_plot_cluster(['ANGPTL7', 'APOD', 'C2orf40', 'TM4SF1'])"
   ]
  },
  {
   "cell_type": "code",
   "execution_count": null,
   "metadata": {},
   "outputs": [],
   "source": [
    "create_plot_cluster(['CHRDL1', 'GDF10', 'ITM2A', 'OGN'])\n",
    "create_plot_cluster(['ADAMTS5', 'HSPH1', 'MIR22HG', 'MME'])\n",
    "create_plot_cluster(['EEF1B2', 'FXYD3', 'KRT14'])\n",
    "create_plot_cluster(['B4GALT1', 'CTNNB1', 'HNRNPH1', 'WTAP'])"
   ]
  },
  {
   "cell_type": "code",
   "execution_count": null,
   "metadata": {},
   "outputs": [],
   "source": [
    "create_plot_cluster(['FMO1', 'LSP1'])"
   ]
  },
  {
   "cell_type": "markdown",
   "metadata": {},
   "source": [
    "## Table S1\n",
    "This is the table of the *robust* DEGs of axes in all datasets.\n",
    "We will select DEGs common between datasets, and manually curate them. The last thre cells are the curated list of genes."
   ]
  },
  {
   "cell_type": "code",
   "execution_count": null,
   "metadata": {},
   "outputs": [],
   "source": [
    "sc.tl.rank_genes_groups(adata_tabib_fb, groupby='axes', method='wilcoxon', n_genes=200)\n",
    "sc.tl.rank_genes_groups(adata_sole_young_fb, groupby='axes', method='wilcoxon', n_genes=200)\n",
    "sc.tl.rank_genes_groups(adata_vors_fb, groupby='axes', method='wilcoxon', n_genes=200)\n",
    "sc.tl.rank_genes_groups(adata_he_fb, groupby='axes', method='wilcoxon', n_genes=200)"
   ]
  },
  {
   "cell_type": "code",
   "execution_count": null,
   "metadata": {},
   "outputs": [],
   "source": [
    "list_genes_axis_A = set([i[0] for i in adata_tabib_fb.uns['rank_genes_groups']['names']])\n",
    "list_genes_axis_B = set([i[1] for i in adata_tabib_fb.uns['rank_genes_groups']['names']])\n",
    "list_genes_axis_C = set([i[2] for i in adata_tabib_fb.uns['rank_genes_groups']['names']])\n",
    "\n",
    "for adata in [adata_sole_young_fb, adata_vors_fb]:    \n",
    "    list_genes_axis_A = list_genes_axis_A & set([i[0] for i in adata.uns['rank_genes_groups']['names']])\n",
    "    list_genes_axis_B = list_genes_axis_B & set([i[1] for i in adata.uns['rank_genes_groups']['names']])\n",
    "    \n",
    "for adata in [adata_sole_young_fb, adata_he_fb]:    \n",
    "    list_genes_axis_C = list_genes_axis_C & set([i[2] for i in adata.uns['rank_genes_groups']['names']])"
   ]
  },
  {
   "cell_type": "code",
   "execution_count": null,
   "metadata": {},
   "outputs": [],
   "source": [
    "# AXIS A\n",
    "create_plot_axis(['AEBP1','AQP1','CAPZB','CD9','COL1A1','COL1A2','COL6A1','COL6A2',\n",
    "'CTHCR1','ELN','FBN1','LAMP1','MMP2','NBL1','PAM','QPCT','RGCC','SFRP2','SPARC','THBS2','TSPAN4',])"
   ]
  },
  {
   "cell_type": "code",
   "execution_count": null,
   "metadata": {},
   "outputs": [],
   "source": [
    "# AXIS B\n",
    "create_plot_axis(['APOE','BTG1','C3','C7','CCDC146','CXCL12','CYGB','FGF7',\n",
    "'GEM','GGT5','IGFBP7','IRF1','RARRES2','SOCS3','TMEM176A','TMEM176B','TNFSF13B',])"
   ]
  },
  {
   "cell_type": "code",
   "execution_count": null,
   "metadata": {},
   "outputs": [],
   "source": [
    "# AXIS C\n",
    "create_plot_axis(['CDH11','COL1A1','COL1A2','DKK3','EMID1','GPM6B','INHBA','SFRP1','SPARCL1','TNMD','TNN',])"
   ]
  },
  {
   "cell_type": "markdown",
   "metadata": {},
   "source": [
    "## Table S2\n",
    "This is the table of the *robust* DEGs of clusters in axis A in all datasets.\n",
    "We will select DEGs common between datasets, and manually curate them. The last thre cells are the curated list of genes."
   ]
  },
  {
   "cell_type": "code",
   "execution_count": null,
   "metadata": {},
   "outputs": [],
   "source": [
    "sc.tl.rank_genes_groups(adata_tabib_fb, groupby='clusters', method='wilcoxon', n_genes=200)\n",
    "sc.tl.rank_genes_groups(adata_sole_young_fb, groupby='clusters', method='wilcoxon', n_genes=200)\n",
    "sc.tl.rank_genes_groups(adata_vors_fb, groupby='clusters', method='wilcoxon', n_genes=200)\n",
    "sc.tl.rank_genes_groups(adata_he_fb, groupby='clusters', method='wilcoxon', n_genes=200)"
   ]
  },
  {
   "cell_type": "code",
   "execution_count": null,
   "metadata": {},
   "outputs": [],
   "source": [
    "df_tabib = pd.DataFrame(adata_tabib_fb.uns['rank_genes_groups']['names'])\n",
    "df_sole = pd.DataFrame(adata_sole_young_fb.uns['rank_genes_groups']['names'])\n",
    "df_vors = pd.DataFrame(adata_vors_fb.uns['rank_genes_groups']['names'])\n",
    "df_he = pd.DataFrame(adata_he_fb.uns['rank_genes_groups']['names'])"
   ]
  },
  {
   "cell_type": "code",
   "execution_count": null,
   "metadata": {},
   "outputs": [],
   "source": [
    "list_genes_A1 = set(df_tabib['A1'].values)\n",
    "list_genes_A2 = set(df_tabib['A2'].values)\n",
    "list_genes_A3 = set(df_tabib['A3'].values)\n",
    "list_genes_A4 = set(df_tabib['A4'].values)\n",
    "\n",
    "for df in [df_sole, df_vors]:    \n",
    "    list_genes_A1 = list_genes_A1 & set(df['A1'].values)\n",
    "    list_genes_A2 = list_genes_A2 & set(df['A2'].values)\n",
    "    list_genes_A3 = list_genes_A3 & set(df['A3'].values)\n",
    "\n",
    "for df in [df_vors]:\n",
    "    list_genes_A4 = list_genes_A4 & set(df['A4'].values)"
   ]
  },
  {
   "cell_type": "code",
   "execution_count": null,
   "metadata": {},
   "outputs": [],
   "source": [
    "# CLUSTER A1\n",
    "create_plot_cluster(['ANGPTL5', 'C1QTNF3', 'CD151', 'CD55', 'CD99', 'CPE', 'CTSB', 'CYBRD1', 'DCN', 'FBLN1', 'FLG2', \n",
    "'GPX3', 'GSN', 'IGFBP6', 'LOX', 'MFAP5', 'MGST1', 'MMP2', 'OLFML3', 'PDGFRL', 'PI16', 'PIGT', 'PODN', 'REXO2', 'SCARA5', \n",
    "'SERPINF1', 'SLPI', 'TSPAN8', 'WISP2', \n",
    "])"
   ]
  },
  {
   "cell_type": "code",
   "execution_count": null,
   "metadata": {},
   "outputs": [],
   "source": [
    "# CLUSTER A2\n",
    "create_plot_cluster(['ANTRX1', 'APCDD1', 'AXIN2', 'C1orf198', 'CLEC2A', 'COL13A1', 'COL18A1', 'COL23A1', 'COMP', \n",
    "'CTSC', 'CYB26B1', 'EMX2', 'F13A1', 'GNG11', 'GREM2', 'HSPB3', 'LAMC3', 'NKD2', 'PTK7', 'RGS3', 'RSPO1', 'STC2', 'TGFBI', ])"
   ]
  },
  {
   "cell_type": "code",
   "execution_count": null,
   "metadata": {},
   "outputs": [],
   "source": [
    "# CLUSTER A3\n",
    "create_plot_cluster(['CD9', 'COL6A1', 'ELN', 'LEPR', 'RGCC', 'SGCA', 'WIF1', ])"
   ]
  },
  {
   "cell_type": "code",
   "execution_count": null,
   "metadata": {},
   "outputs": [],
   "source": [
    "# CLUSTER A4\n",
    "create_plot_cluster(['C1QTNF3','FBN1', 'FSFRP4', 'FSTL1', 'HSD3B7', 'IGFBP6', 'ISLR', 'MFAP5', 'PCOLCE2', 'PRG4', 'PRSS23', 'TNXB', ])"
   ]
  },
  {
   "cell_type": "markdown",
   "metadata": {},
   "source": [
    "## Table S3\n",
    "This is the table of the *robust* DEGs of clusters in axis B in all datasets.\n",
    "We will select DEGs common between datasets, and manually curate them. The last thre cells are the curated list of genes."
   ]
  },
  {
   "cell_type": "code",
   "execution_count": null,
   "metadata": {},
   "outputs": [],
   "source": [
    "list_genes_B1 = set(df_tabib['B1'].values)\n",
    "list_genes_B2 = set(df_tabib['B2'].values)\n",
    "\n",
    "for df in [df_vors]:    \n",
    "    list_genes_B1 = list_genes_B1 & set(df['B1'].values)\n",
    "    list_genes_B2 = list_genes_B2 & set(df['B2'].values)\n"
   ]
  },
  {
   "cell_type": "code",
   "execution_count": null,
   "metadata": {},
   "outputs": [],
   "source": [
    "# CLUSTER B1\n",
    "create_plot_cluster(['ARL6IP1', 'CCL2', 'DNAJA1', 'ERRFI1', 'GPC3', 'ITM2A', 'MCL1', 'MYC', 'PLA2G2A', 'PLIN2', 'SOD2', 'UAP1', ])"
   ]
  },
  {
   "cell_type": "code",
   "execution_count": null,
   "metadata": {},
   "outputs": [],
   "source": [
    "# CLUSTER B2\n",
    "create_plot_cluster(['BIRC3', 'BTG1', 'C3', 'CCL19', 'CCL2', 'CCL2', 'CD74', 'CTSH', 'IGFBP3', 'OLFM2', 'PSME2', ])"
   ]
  },
  {
   "cell_type": "markdown",
   "metadata": {},
   "source": [
    "## Table S4\n",
    "This is the table of the *robust* DEGs of clusters in axis C in all datasets.\n",
    "We will select DEGs common between datasets, and manually curate them. The last thre cells are the curated list of genes."
   ]
  },
  {
   "cell_type": "code",
   "execution_count": null,
   "metadata": {},
   "outputs": [],
   "source": [
    "list_genes_C1 = set(df_tabib['C1'].values)\n",
    "list_genes_C2 = set(df_tabib['C2'].values)\n",
    "list_genes_C3 = set(df_tabib['C3'].values)\n",
    "list_genes_C4 = set(df_tabib['C4'].values)\n",
    "\n",
    "for df in [df_sole]:    \n",
    "    list_genes_C1 = list_genes_C1 & set(df['C1'].values)\n",
    "    list_genes_C2 = list_genes_C2 & set(df['C2'].values)\n",
    "    list_genes_C4 = list_genes_C4 & set(df['C4'].values)   \n",
    "    list_genes_C3 = list_genes_C3 & set(df['C3'].values)\n"
   ]
  },
  {
   "cell_type": "code",
   "execution_count": null,
   "metadata": {},
   "outputs": [],
   "source": [
    "# CLUSTER C1\n",
    "create_plot_cluster(['CCND1', 'CDH11', 'COL11A1', 'COL5A2', 'DPEP1', 'EDRA', 'GPC3', 'LAMC3', 'MEF2C', 'MME', 'POSTN', 'SPARC', 'STMN1', ])"
   ]
  },
  {
   "cell_type": "code",
   "execution_count": null,
   "metadata": {},
   "outputs": [],
   "source": [
    "# CLUSTER C2\n",
    "create_plot_cluster(['ADAMTS6', 'ARHGAP15', 'ASPN', 'C9orf3', 'CADM2', 'CCK', 'CHADL', 'CLEC14A', 'COCH', 'CRABP1', 'DDK2', 'EMID1', \n",
    "'F13A1', 'FIBIN', 'FZD1', 'GAP43', 'HSPA2', 'LEPREL1', 'LIMCH1', 'LIPA', 'MEIS2', 'MEOX2', 'MKX', 'NDNF', 'NECAB1', 'OGN', \n",
    "'PCSK1N', 'PLXDC1', 'PPAPDC1B', 'PRRG4', 'RHPN1', 'RSPO4', 'SFRP1', 'SLC22A16', 'SLITRK6', 'SSPN', 'SYTL2', 'TNN', ])"
   ]
  },
  {
   "cell_type": "code",
   "execution_count": null,
   "metadata": {},
   "outputs": [],
   "source": [
    "# CLUSTER C3\n",
    "create_plot_cluster(['ASPN', 'BGN', 'C9orf3', 'DIO2', 'DKK2', 'F2R', 'FIBIN', 'GPM6B', 'LRRC15', 'LTBP2', 'MARCKS', 'PLEKHH2', 'PMEMA1', 'POSTN', ])"
   ]
  },
  {
   "cell_type": "code",
   "execution_count": null,
   "metadata": {},
   "outputs": [],
   "source": [
    "# CLUSTER C4\n",
    "create_plot_cluster(['ANGPTL7', 'APOD', 'C2orf40', 'CLDN1', 'CYP1B1', 'EBF2', 'EIF4A3', 'FGFBP2', 'IFI27', \n",
    "'KLK1', 'PODNL1', 'SCN7A', 'SFRP4', 'TAGLN', 'TENM2', 'TM4SF1' ])"
   ]
  }
 ],
 "metadata": {
  "kernelspec": {
   "display_name": "Python [conda env:alex-base] *",
   "language": "python",
   "name": "conda-env-alex-base-py"
  },
  "language_info": {
   "codemirror_mode": {
    "name": "ipython",
    "version": 3
   },
   "file_extension": ".py",
   "mimetype": "text/x-python",
   "name": "python",
   "nbconvert_exporter": "python",
   "pygments_lexer": "ipython3",
   "version": "3.7.6"
  }
 },
 "nbformat": 4,
 "nbformat_minor": 4
}

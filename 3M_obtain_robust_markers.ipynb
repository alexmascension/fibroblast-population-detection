{
 "cells": [
  {
   "cell_type": "markdown",
   "metadata": {},
   "source": [
    "## imports"
   ]
  },
  {
   "cell_type": "code",
   "execution_count": null,
   "metadata": {
    "tags": []
   },
   "outputs": [],
   "source": [
    "%load_ext autoreload\n",
    "%autoreload"
   ]
  },
  {
   "cell_type": "code",
   "execution_count": null,
   "metadata": {
    "tags": []
   },
   "outputs": [],
   "source": [
    "import scanpy as sc\n",
    "import scanpy.external as sce\n",
    "import pandas as pd\n",
    "import numpy as np\n",
    "import os\n",
    "import triku as tk\n",
    "import seaborn as sns\n",
    "import matplotlib.pyplot as plt\n",
    "import matplotlib as mpl\n",
    "from tqdm.notebook import tqdm\n",
    "import scipy.sparse as spr\n",
    "import networkx as nx\n",
    "from matplotlib import pylab"
   ]
  },
  {
   "cell_type": "code",
   "execution_count": null,
   "metadata": {
    "tags": []
   },
   "outputs": [],
   "source": [
    "!pip install cellassign --upgrade"
   ]
  },
  {
   "cell_type": "code",
   "execution_count": null,
   "metadata": {
    "tags": []
   },
   "outputs": [],
   "source": [
    "# local imports and imports from other notebooks\n",
    "from cellassign import assign_cats\n",
    "from fb_functions import make_gene_scoring_with_expr\n",
    "from fb_functions import plot_score_graph\n",
    "%store -r dict_colors_mouse\n",
    "%store -r seed\n",
    "%store -r magma\n",
    "%store -r data_dir"
   ]
  },
  {
   "cell_type": "code",
   "execution_count": null,
   "metadata": {
    "tags": []
   },
   "outputs": [],
   "source": [
    "%store -r plot_params\n",
    "\n",
    "pylab.rcParams.update(plot_params)\n",
    "pd.set_option('display.max_columns', None)\n",
    "pd.options.display.float_format = \"{:,.2f}\".format"
   ]
  },
  {
   "cell_type": "markdown",
   "metadata": {},
   "source": [
    "**IMPORTANT: I am running this analysis in a computer with ~500 GB of RAM. I will load many datasets at once, which might be too much for some computers. I took this decision conciously, to have as much info available at any time as possible. If you cannot run all the analysis at once, you can run it by parts.**"
   ]
  },
  {
   "cell_type": "markdown",
   "metadata": {},
   "source": [
    "## Anndata loading"
   ]
  },
  {
   "cell_type": "code",
   "execution_count": null,
   "metadata": {
    "tags": []
   },
   "outputs": [],
   "source": [
    "abbasi_2020_dir = data_dir + '/abassi_2020'\n",
    "abassi_2020_ctrl_mouse_fb = sc.read(f\"{abbasi_2020_dir}/abassi_2020_ctrl_mouse_fb_processed.h5\")"
   ]
  },
  {
   "cell_type": "code",
   "execution_count": null,
   "metadata": {
    "tags": []
   },
   "outputs": [],
   "source": [
    "boothby_2021_dir = data_dir + '/boothby_2021'\n",
    "boothby_2021_ctrl_mouse_fb = sc.read(boothby_2021_dir + '/boothby_2021_ctrl_mouse_fb_processed.h5')"
   ]
  },
  {
   "cell_type": "code",
   "execution_count": null,
   "metadata": {
    "tags": []
   },
   "outputs": [],
   "source": [
    "buechler_2021_dir = data_dir + '/buechler_2021'\n",
    "buechler_2021_ctrl_mouse_fb = sc.read(buechler_2021_dir + '/buechler_2021_ctrl_mouse_fb_processed.h5')"
   ]
  },
  {
   "cell_type": "code",
   "execution_count": null,
   "metadata": {
    "tags": []
   },
   "outputs": [],
   "source": [
    "haensel_2021_dir = data_dir + '/haensel_2021'\n",
    "haensel_2021_ctrl_mouse_wounding_fb = sc.read(haensel_2021_dir + '/haensel_2021_ctrl_mouse_wounding_fb_processed.h5')"
   ]
  },
  {
   "cell_type": "code",
   "execution_count": null,
   "metadata": {
    "tags": []
   },
   "outputs": [],
   "source": [
    "joost_2020_dir = data_dir + '/joost_2020'\n",
    "joost_2020_ctrl_mouse_fb = sc.read(joost_2020_dir + '/joost_2020_ctrl_mouse_fb_processed.h5')"
   ]
  },
  {
   "cell_type": "code",
   "execution_count": null,
   "metadata": {
    "tags": []
   },
   "outputs": [],
   "source": [
    "phan_2020_dir = data_dir + '/phan_2020'\n",
    "phan_2020_ctrl_mouse_21d_fb = sc.read(f\"{phan_2020_dir}/phan_2020_ctrl_mouse_21d_fb_processed.h5\")"
   ]
  },
  {
   "cell_type": "code",
   "execution_count": null,
   "metadata": {
    "tags": []
   },
   "outputs": [],
   "source": [
    "shin_2020_dir = data_dir + '/shin_2020'\n",
    "shin_2020_ctrl_mouse_fb = sc.read(f\"{shin_2020_dir}/shin_2020_ctrl_mouse_fb_processed.h5\")"
   ]
  },
  {
   "cell_type": "code",
   "execution_count": null,
   "metadata": {
    "tags": []
   },
   "outputs": [],
   "source": [
    "shook_2020_dir = data_dir + '/shook_2020'\n",
    "shook_2020_ctrl_mouse_fb = sc.read(f\"{shook_2020_dir}/shook_2020_ctrl_mouse_fb_processed.h5\")"
   ]
  },
  {
   "cell_type": "code",
   "execution_count": null,
   "metadata": {
    "tags": []
   },
   "outputs": [],
   "source": [
    "vorstandlechner_2021_dir = data_dir + '/Vorstandlechner_2021'\n",
    "vorstandlechner_2021_ctrl_mouse_fb = sc.read(f\"{vorstandlechner_2021_dir}/vorstandlechner_2021_ctrl_mouse_fb_processed.h5\")"
   ]
  },
  {
   "cell_type": "code",
   "execution_count": null,
   "metadata": {
    "tags": []
   },
   "outputs": [],
   "source": [
    "sc.pl.umap(haensel_2021_ctrl_mouse_wounding_fb, color='Condition', s=3)"
   ]
  },
  {
   "cell_type": "markdown",
   "metadata": {},
   "source": [
    "## Evaluate marker score for adatas\n",
    "All the **commented anndatas are discarded** for marker selection because they do not show enough marker consistency and might bias the result, or because they belong to dataset from non control/healthy conditions; or they show a UMAP with cluster distribution we do not trust."
   ]
  },
  {
   "cell_type": "code",
   "execution_count": null,
   "metadata": {
    "tags": []
   },
   "outputs": [],
   "source": [
    "list_datasets_mouse = [\n",
    "                 abassi_2020_ctrl_mouse_fb,\n",
    "                 boothby_2021_ctrl_mouse_fb,\n",
    "#                  buechler_2021_ctrl_mouse_fb,\n",
    "                 haensel_2021_ctrl_mouse_wounding_fb,\n",
    "                 joost_2020_ctrl_mouse_fb,\n",
    "                 phan_2020_ctrl_mouse_21d_fb,\n",
    "                 shin_2020_ctrl_mouse_fb,\n",
    "                 shook_2020_ctrl_mouse_fb,\n",
    "                 vorstandlechner_2021_ctrl_mouse_fb\n",
    "]\n",
    "\n",
    "list_accepted_clusters_mouse = ['x1', 'x2', 'x/y', 'y1', 'y2', 'y3', 'y4', 'y5', 'z1', 'z2', 'w/x', 'w1', 'w2', 'w3', 'w4', 'w5', 'v1']           \n",
    "list_accepted_axis_mouse = ['x', 'y', 'z', 'w', 'v']                \n",
    "\n",
    "\n",
    "# manual_axis is to create a robust set of markers\n",
    "for adata in list_datasets_mouse:\n",
    "    adata.obs['manual_axis'] = [i[0] if len(i) == 2 else i for i in adata.obs['cluster']]\n",
    "    adata.obs['manual_axis'] = adata.obs['manual_axis'].astype('category')"
   ]
  },
  {
   "cell_type": "markdown",
   "metadata": {},
   "source": [
    "#### "
   ]
  },
  {
   "cell_type": "code",
   "execution_count": null,
   "metadata": {
    "tags": []
   },
   "outputs": [],
   "source": [
    "dict_make_gene_scoring = make_gene_scoring_with_expr(list_datasets=list_datasets_mouse, calculate_DEGs = True, group_name = 'cluster', value_ref = 'scores', \n",
    "                                                     select_method = 'pval', select_thres = 0.01, list_clusters=list_accepted_clusters_mouse)"
   ]
  },
  {
   "cell_type": "code",
   "execution_count": null,
   "metadata": {
    "tags": []
   },
   "outputs": [],
   "source": [
    "dict_make_gene_scoring['w5'].iloc[:25]"
   ]
  },
  {
   "cell_type": "code",
   "execution_count": null,
   "metadata": {
    "tags": []
   },
   "outputs": [],
   "source": [
    "dict_make_gene_scoring['v1'].iloc[:25]"
   ]
  },
  {
   "cell_type": "code",
   "execution_count": null,
   "metadata": {
    "tags": []
   },
   "outputs": [],
   "source": [
    "dict_make_gene_scoring_axis = make_gene_scoring_with_expr(list_datasets=list_datasets_mouse, calculate_DEGs = True, group_name = 'manual_axis', \n",
    "                                                          list_clusters=list_accepted_axis_mouse,\n",
    "                                                     value_ref = 'scores', select_method = 'pval', select_thres = 0.05)"
   ]
  },
  {
   "cell_type": "markdown",
   "metadata": {},
   "source": [
    "## Recalculating clusters in the datasets"
   ]
  },
  {
   "cell_type": "code",
   "execution_count": null,
   "metadata": {
    "tags": []
   },
   "outputs": [],
   "source": [
    "dict_cats_clusters_robust = {i: np.array(dict_make_gene_scoring[i].index[:30]) for i in dict_make_gene_scoring.keys()}\n",
    "dict_cats_axes_robust = {i: np.array(dict_make_gene_scoring_axis[i].index[:30]) for i in dict_make_gene_scoring_axis.keys()}"
   ]
  },
  {
   "cell_type": "code",
   "execution_count": null,
   "metadata": {
    "tags": []
   },
   "outputs": [],
   "source": [
    "dict_cats_clusters_robust_3M = dict_cats_clusters_robust\n",
    "%store dict_cats_clusters_robust_3M "
   ]
  },
  {
   "cell_type": "code",
   "execution_count": null,
   "metadata": {
    "tags": []
   },
   "outputs": [],
   "source": [
    "print([len(i) for i in dict_cats_clusters_robust.values()])"
   ]
  },
  {
   "cell_type": "code",
   "execution_count": null,
   "metadata": {
    "tags": []
   },
   "outputs": [],
   "source": [
    "pd.DataFrame(dict_cats_clusters_robust)"
   ]
  },
  {
   "cell_type": "code",
   "execution_count": null,
   "metadata": {
    "tags": []
   },
   "outputs": [],
   "source": [
    "dict_cats_axes_robust"
   ]
  },
  {
   "cell_type": "markdown",
   "metadata": {},
   "source": [
    "### Abassi 2020"
   ]
  },
  {
   "cell_type": "code",
   "execution_count": null,
   "metadata": {
    "tags": []
   },
   "outputs": [],
   "source": [
    "assign_cats(abassi_2020_ctrl_mouse_fb, dict_cats=dict_cats_clusters_robust, min_score=0.5, quantile_gene_sel=0.95, key_added='cluster_robust', others_name='U', verbose=False)\n",
    "assign_cats(abassi_2020_ctrl_mouse_fb, column_groupby='cluster_robust', dict_cats=dict_cats_axes_robust, min_score=0.4, quantile_gene_sel=0.8, key_added='axis_robust', \n",
    "            intermediate_states=True, diff=0.05, others_name='U', verbose=False)\n",
    "abassi_2020_ctrl_mouse_fb.obs['cluster_robust'] = abassi_2020_ctrl_mouse_fb.obs['cluster_robust'].astype('category')\n",
    "abassi_2020_ctrl_mouse_fb.uns['cluster_robust_colors'] = [dict_colors_mouse[i] if i in dict_colors_mouse else '#bcbcbc' for i in abassi_2020_ctrl_mouse_fb.obs['cluster_robust'].cat.categories]\n",
    "sc.pl.umap(abassi_2020_ctrl_mouse_fb, color=['Internal sample identifier', 'leiden', 'axis_robust', 'cluster_robust'], legend_loc='on data', cmap=magma, use_raw=False, ncols=2)"
   ]
  },
  {
   "cell_type": "code",
   "execution_count": null,
   "metadata": {
    "tags": []
   },
   "outputs": [],
   "source": [
    "for key in list(dict_cats_axes_robust.keys()):\n",
    "    del abassi_2020_ctrl_mouse_fb.obs[key]\n",
    "plot_score_graph(abassi_2020_ctrl_mouse_fb, cluster_column='cluster_robust')"
   ]
  },
  {
   "cell_type": "code",
   "execution_count": null,
   "metadata": {
    "scrolled": true,
    "tags": []
   },
   "outputs": [],
   "source": [
    "for key, val in dict_cats_clusters_robust.items():\n",
    "    print(key)\n",
    "    sc.pl.umap(abassi_2020_ctrl_mouse_fb, color=['cluster_robust'] + [i for i in val if i in abassi_2020_ctrl_mouse_fb.var_names], legend_loc='on data', cmap=magma, use_raw=False, ncols=4) "
   ]
  },
  {
   "cell_type": "code",
   "execution_count": null,
   "metadata": {
    "tags": []
   },
   "outputs": [],
   "source": [
    "abassi_2020_ctrl_mouse_fb.write_h5ad(abbasi_2020_dir + '/abassi_2020_ctrl_mouse_fb_robust.h5')"
   ]
  },
  {
   "cell_type": "markdown",
   "metadata": {},
   "source": [
    "### Boothby 2021"
   ]
  },
  {
   "cell_type": "code",
   "execution_count": null,
   "metadata": {
    "tags": []
   },
   "outputs": [],
   "source": [
    "assign_cats(boothby_2021_ctrl_mouse_fb, dict_cats=dict_cats_clusters_robust, min_score=0.5, quantile_gene_sel=0.8, key_added='cluster_robust', others_name='U', verbose=False)\n",
    "assign_cats(boothby_2021_ctrl_mouse_fb, column_groupby='cluster_robust', dict_cats=dict_cats_axes_robust, min_score=0.4, quantile_gene_sel=0.8, key_added='axis_robust', \n",
    "            intermediate_states=True, diff=0.05, others_name='U', verbose=False)\n",
    "boothby_2021_ctrl_mouse_fb.obs['cluster_robust'] = boothby_2021_ctrl_mouse_fb.obs['cluster_robust'].astype('category')\n",
    "boothby_2021_ctrl_mouse_fb.uns['cluster_robust_colors'] = [dict_colors_mouse[i] if i in dict_colors_mouse else '#bcbcbc' for i in boothby_2021_ctrl_mouse_fb.obs['cluster_robust'].cat.categories]\n",
    "sc.pl.umap(boothby_2021_ctrl_mouse_fb, color=['Internal sample identifier', 'leiden', 'axis_robust', 'cluster_robust'], legend_loc='on data', cmap=magma, use_raw=False, ncols=2)"
   ]
  },
  {
   "cell_type": "code",
   "execution_count": null,
   "metadata": {
    "tags": []
   },
   "outputs": [],
   "source": [
    "for key in list(dict_cats_axes_robust.keys()):\n",
    "    del boothby_2021_ctrl_mouse_fb.obs[key]\n",
    "plot_score_graph(boothby_2021_ctrl_mouse_fb, cluster_column='cluster_robust')"
   ]
  },
  {
   "cell_type": "code",
   "execution_count": null,
   "metadata": {
    "scrolled": true,
    "tags": []
   },
   "outputs": [],
   "source": [
    "for key, val in dict_cats_clusters_robust.items():\n",
    "    print(key)\n",
    "    sc.pl.umap(boothby_2021_ctrl_mouse_fb, color=['cluster_robust'] + [i for i in val if i in boothby_2021_ctrl_mouse_fb.var_names], legend_loc='on data', cmap=magma, use_raw=False, ncols=4) "
   ]
  },
  {
   "cell_type": "code",
   "execution_count": null,
   "metadata": {
    "tags": []
   },
   "outputs": [],
   "source": [
    "boothby_2021_ctrl_mouse_fb.write_h5ad(boothby_2021_dir + '/boothby_2021_ctrl_mouse_fb_robust.h5')"
   ]
  },
  {
   "cell_type": "markdown",
   "metadata": {},
   "source": [
    "### Buechler 2021"
   ]
  },
  {
   "cell_type": "code",
   "execution_count": null,
   "metadata": {
    "tags": []
   },
   "outputs": [],
   "source": [
    "assign_cats(buechler_2021_ctrl_mouse_fb, dict_cats=dict_cats_clusters_robust, min_score=0.5, quantile_gene_sel=0.9, key_added='cluster_robust', others_name='U', verbose=False)\n",
    "assign_cats(buechler_2021_ctrl_mouse_fb, column_groupby='cluster_robust', dict_cats=dict_cats_axes_robust, min_score=0.4, quantile_gene_sel=0.8, key_added='axis_robust', \n",
    "            intermediate_states=True, diff=0.05, others_name='U', verbose=False)\n",
    "buechler_2021_ctrl_mouse_fb.obs['cluster_robust'] = buechler_2021_ctrl_mouse_fb.obs['cluster_robust'].astype('category')\n",
    "buechler_2021_ctrl_mouse_fb.uns['cluster_robust_colors'] = [dict_colors_mouse[i] if i in dict_colors_mouse else '#bcbcbc' for i in buechler_2021_ctrl_mouse_fb.obs['cluster_robust'].cat.categories]\n",
    "sc.pl.umap(buechler_2021_ctrl_mouse_fb, color=['Internal sample identifier', 'leiden', 'axis_robust', 'cluster_robust'], legend_loc='on data', cmap=magma, use_raw=False, ncols=2)"
   ]
  },
  {
   "cell_type": "code",
   "execution_count": null,
   "metadata": {
    "tags": []
   },
   "outputs": [],
   "source": [
    "for key in list(dict_cats_axes_robust.keys()):\n",
    "    del buechler_2021_ctrl_mouse_fb.obs[key]\n",
    "plot_score_graph(buechler_2021_ctrl_mouse_fb, cluster_column='cluster_robust')"
   ]
  },
  {
   "cell_type": "code",
   "execution_count": null,
   "metadata": {
    "scrolled": true,
    "tags": []
   },
   "outputs": [],
   "source": [
    "for key, val in dict_cats_clusters_robust.items():\n",
    "    print(key)\n",
    "    sc.pl.umap(buechler_2021_ctrl_mouse_fb, color=['cluster_robust'] + [i for i in val if i in buechler_2021_ctrl_mouse_fb.var_names], legend_loc='on data', cmap=magma, use_raw=False, ncols=4) "
   ]
  },
  {
   "cell_type": "code",
   "execution_count": null,
   "metadata": {
    "tags": []
   },
   "outputs": [],
   "source": [
    "buechler_2021_ctrl_mouse_fb.write_h5ad(buechler_2021_dir + '/buechler_2021_ctrl_mouse_fb_robust.h5')"
   ]
  },
  {
   "cell_type": "markdown",
   "metadata": {},
   "source": [
    "### Haensel 2021"
   ]
  },
  {
   "cell_type": "code",
   "execution_count": null,
   "metadata": {
    "tags": []
   },
   "outputs": [],
   "source": [
    "assign_cats(haensel_2021_ctrl_mouse_wounding_fb, dict_cats=dict_cats_clusters_robust, min_score=0.4, quantile_gene_sel=0.55, key_added='cluster_robust', others_name='U', verbose=False)\n",
    "assign_cats(haensel_2021_ctrl_mouse_wounding_fb, column_groupby='cluster_robust', dict_cats=dict_cats_axes_robust, min_score=0.4, quantile_gene_sel=0.8, key_added='axis_robust', \n",
    "            intermediate_states=True, diff=0.05, others_name='U', verbose=False)\n",
    "haensel_2021_ctrl_mouse_wounding_fb.obs['cluster_robust'] = haensel_2021_ctrl_mouse_wounding_fb.obs['cluster_robust'].astype('category')\n",
    "haensel_2021_ctrl_mouse_wounding_fb.uns['cluster_robust_colors'] = [dict_colors_mouse[i] if i in dict_colors_mouse else '#bcbcbc' for i in haensel_2021_ctrl_mouse_wounding_fb.obs['cluster_robust'].cat.categories]\n",
    "sc.pl.umap(haensel_2021_ctrl_mouse_wounding_fb, color=['Internal sample identifier', 'leiden', 'axis_robust', 'cluster_robust'], legend_loc='on data', cmap=magma, use_raw=False, ncols=2)"
   ]
  },
  {
   "cell_type": "code",
   "execution_count": null,
   "metadata": {
    "tags": []
   },
   "outputs": [],
   "source": [
    "for key in list(dict_cats_axes_robust.keys()):\n",
    "    del haensel_2021_ctrl_mouse_wounding_fb.obs[key]\n",
    "plot_score_graph(haensel_2021_ctrl_mouse_wounding_fb, cluster_column='cluster_robust')"
   ]
  },
  {
   "cell_type": "code",
   "execution_count": null,
   "metadata": {
    "scrolled": true,
    "tags": []
   },
   "outputs": [],
   "source": [
    "for key, val in dict_cats_clusters_robust.items():\n",
    "    print(key)\n",
    "    sc.pl.umap(haensel_2021_ctrl_mouse_wounding_fb, color=['cluster_robust'] + [i for i in val if i in haensel_2021_ctrl_mouse_wounding_fb.var_names], legend_loc='on data', cmap=magma, use_raw=False, ncols=4) "
   ]
  },
  {
   "cell_type": "code",
   "execution_count": null,
   "metadata": {
    "tags": []
   },
   "outputs": [],
   "source": [
    "haensel_2021_ctrl_mouse_wounding_fb.write_h5ad(haensel_2021_dir + '/haensel_2021_ctrl_mouse_wounding_fb_robust.h5')"
   ]
  },
  {
   "cell_type": "markdown",
   "metadata": {},
   "source": [
    "### Joost 2020"
   ]
  },
  {
   "cell_type": "code",
   "execution_count": null,
   "metadata": {
    "tags": []
   },
   "outputs": [],
   "source": [
    "assign_cats(joost_2020_ctrl_mouse_fb, dict_cats=dict_cats_clusters_robust, min_score=0.45, quantile_gene_sel=0.9, key_added='cluster_robust', others_name='U', verbose=False)\n",
    "assign_cats(joost_2020_ctrl_mouse_fb, column_groupby='cluster_robust', dict_cats=dict_cats_axes_robust, min_score=0.4, quantile_gene_sel=0.8, key_added='axis_robust', \n",
    "            intermediate_states=True, diff=0.05, others_name='U', verbose=False)\n",
    "joost_2020_ctrl_mouse_fb.obs['cluster_robust'] = joost_2020_ctrl_mouse_fb.obs['cluster_robust'].astype('category')\n",
    "joost_2020_ctrl_mouse_fb.uns['cluster_robust_colors'] = [dict_colors_mouse[i] if i in dict_colors_mouse else '#bcbcbc' for i in joost_2020_ctrl_mouse_fb.obs['cluster_robust'].cat.categories]\n",
    "sc.pl.umap(joost_2020_ctrl_mouse_fb, color=['Internal sample identifier', 'leiden', 'axis_robust', 'cluster_robust'], legend_loc='on data', cmap=magma, use_raw=False, ncols=2)"
   ]
  },
  {
   "cell_type": "code",
   "execution_count": null,
   "metadata": {
    "tags": []
   },
   "outputs": [],
   "source": [
    "for key in list(dict_cats_axes_robust.keys()):\n",
    "    del joost_2020_ctrl_mouse_fb.obs[key]\n",
    "plot_score_graph(joost_2020_ctrl_mouse_fb, cluster_column='cluster_robust')"
   ]
  },
  {
   "cell_type": "code",
   "execution_count": null,
   "metadata": {
    "scrolled": true,
    "tags": []
   },
   "outputs": [],
   "source": [
    "for key, val in dict_cats_clusters_robust.items():\n",
    "    print(key)\n",
    "    sc.pl.umap(joost_2020_ctrl_mouse_fb, color=['cluster_robust'] + [i for i in val if i in joost_2020_ctrl_mouse_fb.var_names], legend_loc='on data', cmap=magma, use_raw=False, ncols=4) "
   ]
  },
  {
   "cell_type": "code",
   "execution_count": null,
   "metadata": {
    "tags": []
   },
   "outputs": [],
   "source": [
    "joost_2020_ctrl_mouse_fb.write_h5ad(joost_2020_dir + '/joost_2020_ctrl_mouse_fb_robust.h5')"
   ]
  },
  {
   "cell_type": "markdown",
   "metadata": {},
   "source": [
    "### Phan 2020"
   ]
  },
  {
   "cell_type": "code",
   "execution_count": null,
   "metadata": {
    "tags": []
   },
   "outputs": [],
   "source": [
    "assign_cats(phan_2020_ctrl_mouse_21d_fb, dict_cats=dict_cats_clusters_robust, min_score=0.4, quantile_gene_sel=0.99, key_added='cluster_robust', others_name='U', verbose=False)\n",
    "assign_cats(phan_2020_ctrl_mouse_21d_fb, column_groupby='cluster_robust', dict_cats=dict_cats_axes_robust, min_score=0.4, quantile_gene_sel=0.8, key_added='axis_robust', \n",
    "            intermediate_states=True, diff=0.05, others_name='U', verbose=False)\n",
    "phan_2020_ctrl_mouse_21d_fb.obs['cluster_robust'] = phan_2020_ctrl_mouse_21d_fb.obs['cluster_robust'].astype('category')\n",
    "phan_2020_ctrl_mouse_21d_fb.uns['cluster_robust_colors'] = [dict_colors_mouse[i] if i in dict_colors_mouse else '#bcbcbc' for i in phan_2020_ctrl_mouse_21d_fb.obs['cluster_robust'].cat.categories]\n",
    "sc.pl.umap(phan_2020_ctrl_mouse_21d_fb, color=['Internal sample identifier', 'leiden', 'axis_robust', 'cluster_robust'], legend_loc='on data', cmap=magma, use_raw=False, ncols=2)"
   ]
  },
  {
   "cell_type": "code",
   "execution_count": null,
   "metadata": {
    "tags": []
   },
   "outputs": [],
   "source": [
    "for key in list(dict_cats_axes_robust.keys()):\n",
    "    del phan_2020_ctrl_mouse_21d_fb.obs[key]\n",
    "plot_score_graph(phan_2020_ctrl_mouse_21d_fb, cluster_column='cluster_robust')"
   ]
  },
  {
   "cell_type": "code",
   "execution_count": null,
   "metadata": {
    "scrolled": true,
    "tags": []
   },
   "outputs": [],
   "source": [
    "for key, val in dict_cats_clusters_robust.items():\n",
    "    print(key)\n",
    "    sc.pl.umap(phan_2020_ctrl_mouse_21d_fb, color=['cluster_robust'] + [i for i in val if i in phan_2020_ctrl_mouse_21d_fb.var_names], legend_loc='on data', cmap=magma, use_raw=False, ncols=4) "
   ]
  },
  {
   "cell_type": "code",
   "execution_count": null,
   "metadata": {
    "tags": []
   },
   "outputs": [],
   "source": [
    "phan_2020_ctrl_mouse_21d_fb.write_h5ad(phan_2020_dir + '/phan_2020_ctrl_mouse_21d_fb_robust.h5')"
   ]
  },
  {
   "cell_type": "markdown",
   "metadata": {},
   "source": [
    "### Shin 2020"
   ]
  },
  {
   "cell_type": "code",
   "execution_count": null,
   "metadata": {
    "tags": []
   },
   "outputs": [],
   "source": [
    "assign_cats(shin_2020_ctrl_mouse_fb, dict_cats=dict_cats_clusters_robust, min_score=0.5, quantile_gene_sel=0.9, key_added='cluster_robust', others_name='U', verbose=False)\n",
    "assign_cats(shin_2020_ctrl_mouse_fb, column_groupby='cluster_robust', dict_cats=dict_cats_axes_robust, min_score=0.4, quantile_gene_sel=0.8, key_added='axis_robust', \n",
    "            intermediate_states=True, diff=0.05, others_name='U', verbose=False)\n",
    "shin_2020_ctrl_mouse_fb.obs['cluster_robust'] = shin_2020_ctrl_mouse_fb.obs['cluster_robust'].astype('category')\n",
    "shin_2020_ctrl_mouse_fb.uns['cluster_robust_colors'] = [dict_colors_mouse[i] if i in dict_colors_mouse else '#bcbcbc' for i in shin_2020_ctrl_mouse_fb.obs['cluster_robust'].cat.categories]\n",
    "sc.pl.umap(shin_2020_ctrl_mouse_fb, color=['Internal sample identifier', 'leiden', 'axis_robust', 'cluster_robust'], legend_loc='on data', cmap=magma, use_raw=False, ncols=2)"
   ]
  },
  {
   "cell_type": "code",
   "execution_count": null,
   "metadata": {
    "tags": []
   },
   "outputs": [],
   "source": [
    "for key in list(dict_cats_axes_robust.keys()):\n",
    "    del shin_2020_ctrl_mouse_fb.obs[key]\n",
    "plot_score_graph(shin_2020_ctrl_mouse_fb, cluster_column='cluster_robust')"
   ]
  },
  {
   "cell_type": "code",
   "execution_count": null,
   "metadata": {
    "scrolled": true,
    "tags": []
   },
   "outputs": [],
   "source": [
    "for key, val in dict_cats_clusters_robust.items():\n",
    "    print(key)\n",
    "    sc.pl.umap(shin_2020_ctrl_mouse_fb, color=['cluster_robust'] + [i for i in val if i in shin_2020_ctrl_mouse_fb.var_names], legend_loc='on data', cmap=magma, use_raw=False, ncols=4) "
   ]
  },
  {
   "cell_type": "code",
   "execution_count": null,
   "metadata": {
    "tags": []
   },
   "outputs": [],
   "source": [
    "shin_2020_ctrl_mouse_fb.write_h5ad(shin_2020_dir + '/shin_2020_ctrl_mouse_fb_robust.h5')"
   ]
  },
  {
   "cell_type": "code",
   "execution_count": null,
   "metadata": {
    "tags": []
   },
   "outputs": [],
   "source": [
    "genes_w1 = ['Crabp1', 'Notum', 'Pappa2', 'Sostdc1', 'Corin', 'Nrg2', 'Cntn1']\n",
    "sc.pl.umap(joost_2020_ctrl_mouse_fb, color=['cluster_robust'] + genes_w1, legend_loc='on data', cmap=magma, use_raw=False, ncols=2)\n",
    "sc.pl.umap(shin_2020_ctrl_mouse_fb, color=['cluster_robust'] + genes_w1, legend_loc='on data', cmap=magma, use_raw=False, ncols=2)\n"
   ]
  },
  {
   "cell_type": "code",
   "execution_count": null,
   "metadata": {
    "tags": []
   },
   "outputs": [],
   "source": [
    "sc.pl.umap(joost_2020_ctrl_mouse_fb, color=['Internal sample identifier', 'leiden', 'axis_robust', 'cluster_robust', 'Notum', 'Frzb'], legend_loc='on data', cmap=magma, use_raw=False, ncols=2)"
   ]
  },
  {
   "cell_type": "code",
   "execution_count": null,
   "metadata": {
    "tags": []
   },
   "outputs": [],
   "source": [
    "sc.pl.umap(joost_2020_ctrl_mouse_fb, color=['Internal sample identifier', 'leiden', 'axis_robust', 'cluster_robust', 'Corin', 'Nrg2', 'Cntn1', 'Crabp1', 'Notum', 'Pappa2', 'Acta2', 'Tagln', 'Grem2', 'Abi3bp', 'Ramp1', 'Mylk'], legend_loc='on data', cmap=magma, use_raw=False, ncols=2)"
   ]
  },
  {
   "cell_type": "code",
   "execution_count": null,
   "metadata": {
    "tags": []
   },
   "outputs": [],
   "source": [
    "sc.pl.umap(shin_2020_ctrl_mouse_fb, color=['Internal sample identifier', 'leiden', 'axis_robust', 'cluster_robust', 'Notum', 'Frzb', 'Sostdc1', 'Cyr61', 'Mgp', 'Ednrb', 'Cdk1'], legend_loc='on data', cmap=magma, use_raw=False, ncols=2)"
   ]
  },
  {
   "cell_type": "markdown",
   "metadata": {},
   "source": [
    "### Shook 2020"
   ]
  },
  {
   "cell_type": "code",
   "execution_count": null,
   "metadata": {
    "tags": []
   },
   "outputs": [],
   "source": [
    "assign_cats(shook_2020_ctrl_mouse_fb, dict_cats=dict_cats_clusters_robust, min_score=0.5, quantile_gene_sel=0.9, key_added='cluster_robust', others_name='U', verbose=False)\n",
    "assign_cats(shook_2020_ctrl_mouse_fb, column_groupby='cluster_robust', dict_cats=dict_cats_axes_robust, min_score=0.4, quantile_gene_sel=0.8, key_added='axis_robust', \n",
    "            intermediate_states=True, diff=0.05, others_name='U', verbose=False)\n",
    "shook_2020_ctrl_mouse_fb.obs['cluster_robust'] = shook_2020_ctrl_mouse_fb.obs['cluster_robust'].astype('category')\n",
    "shook_2020_ctrl_mouse_fb.uns['cluster_robust_colors'] = [dict_colors_mouse[i] if i in dict_colors_mouse else '#bcbcbc' for i in shook_2020_ctrl_mouse_fb.obs['cluster_robust'].cat.categories]\n",
    "sc.pl.umap(shook_2020_ctrl_mouse_fb, color=['Internal sample identifier', 'leiden', 'axis_robust', 'cluster_robust'], legend_loc='on data', cmap=magma, use_raw=False, ncols=2)"
   ]
  },
  {
   "cell_type": "code",
   "execution_count": null,
   "metadata": {
    "tags": []
   },
   "outputs": [],
   "source": [
    "for key in list(dict_cats_axes_robust.keys()):\n",
    "    del shook_2020_ctrl_mouse_fb.obs[key]\n",
    "plot_score_graph(shook_2020_ctrl_mouse_fb, cluster_column='cluster_robust')"
   ]
  },
  {
   "cell_type": "code",
   "execution_count": null,
   "metadata": {
    "scrolled": true,
    "tags": []
   },
   "outputs": [],
   "source": [
    "for key, val in dict_cats_clusters_robust.items():\n",
    "    print(key)\n",
    "    sc.pl.umap(shook_2020_ctrl_mouse_fb, color=['cluster_robust'] + [i for i in val if i in shook_2020_ctrl_mouse_fb.var_names], legend_loc='on data', cmap=magma, use_raw=False, ncols=4) "
   ]
  },
  {
   "cell_type": "code",
   "execution_count": null,
   "metadata": {
    "tags": []
   },
   "outputs": [],
   "source": [
    "shook_2020_ctrl_mouse_fb.write_h5ad(shook_2020_dir + '/shook_2020_ctrl_mouse_fb_robust.h5')"
   ]
  },
  {
   "cell_type": "markdown",
   "metadata": {},
   "source": [
    "### Vorstandlechner 2021"
   ]
  },
  {
   "cell_type": "code",
   "execution_count": null,
   "metadata": {
    "tags": []
   },
   "outputs": [],
   "source": [
    "assign_cats(vorstandlechner_2021_ctrl_mouse_fb, dict_cats=dict_cats_clusters_robust, min_score=0.45, quantile_gene_sel=0.99, key_added='cluster_robust', others_name='U', verbose=False)\n",
    "assign_cats(vorstandlechner_2021_ctrl_mouse_fb, column_groupby='cluster_robust', dict_cats=dict_cats_axes_robust, min_score=0.4, quantile_gene_sel=0.8, key_added='axis_robust', \n",
    "            intermediate_states=True, diff=0.05, others_name='U', verbose=False)\n",
    "vorstandlechner_2021_ctrl_mouse_fb.obs['cluster_robust'] = vorstandlechner_2021_ctrl_mouse_fb.obs['cluster_robust'].astype('category')\n",
    "vorstandlechner_2021_ctrl_mouse_fb.uns['cluster_robust_colors'] = [dict_colors_mouse[i] if i in dict_colors_mouse else '#bcbcbc' for i in vorstandlechner_2021_ctrl_mouse_fb.obs['cluster_robust'].cat.categories]\n",
    "sc.pl.umap(vorstandlechner_2021_ctrl_mouse_fb, color=['Internal sample identifier', 'leiden', 'axis_robust', 'cluster_robust'], legend_loc='on data', cmap=magma, use_raw=False, ncols=2)"
   ]
  },
  {
   "cell_type": "code",
   "execution_count": null,
   "metadata": {
    "tags": []
   },
   "outputs": [],
   "source": [
    "for key in list(dict_cats_axes_robust.keys()):\n",
    "    del vorstandlechner_2021_ctrl_mouse_fb.obs[key]\n",
    "plot_score_graph(vorstandlechner_2021_ctrl_mouse_fb, cluster_column='cluster_robust')"
   ]
  },
  {
   "cell_type": "code",
   "execution_count": null,
   "metadata": {
    "scrolled": true,
    "tags": []
   },
   "outputs": [],
   "source": [
    "for key, val in dict_cats_clusters_robust.items():\n",
    "    print(key)\n",
    "    sc.pl.umap(vorstandlechner_2021_ctrl_mouse_fb, color=['cluster_robust'] + [i for i in val if i in vorstandlechner_2021_ctrl_mouse_fb.var_names], legend_loc='on data', cmap=magma, use_raw=False, ncols=4) "
   ]
  },
  {
   "cell_type": "code",
   "execution_count": null,
   "metadata": {
    "tags": []
   },
   "outputs": [],
   "source": [
    "vorstandlechner_2021_ctrl_mouse_fb.write_h5ad(vorstandlechner_2021_dir + '/vorstandlechner_2021_ctrl_mouse_fb_robust.h5')"
   ]
  },
  {
   "cell_type": "markdown",
   "metadata": {},
   "source": [
    "## Reevaluate the presence of clusters for each dataset"
   ]
  },
  {
   "cell_type": "code",
   "execution_count": null,
   "metadata": {
    "tags": []
   },
   "outputs": [],
   "source": [
    "from fb_functions import plot_adata_cluster_properties"
   ]
  },
  {
   "cell_type": "code",
   "execution_count": null,
   "metadata": {
    "tags": []
   },
   "outputs": [],
   "source": [
    "# The structure of the dataset dict is dict: [Name, Status (healthy, young, psoriasis, etc), year, ]\n",
    "list_all_datasets_mouse = [abassi_2020_ctrl_mouse_fb, boothby_2021_ctrl_mouse_fb, buechler_2021_ctrl_mouse_fb, haensel_2021_ctrl_mouse_wounding_fb, joost_2020_ctrl_mouse_fb,\n",
    "                 phan_2020_ctrl_mouse_21d_fb, shin_2020_ctrl_mouse_fb, shook_2020_ctrl_mouse_fb, vorstandlechner_2021_ctrl_mouse_fb]\n",
    "\n",
    "list_datasets_mouse = [abassi_2020_ctrl_mouse_fb, boothby_2021_ctrl_mouse_fb, buechler_2021_ctrl_mouse_fb, haensel_2021_ctrl_mouse_wounding_fb, joost_2020_ctrl_mouse_fb,\n",
    "                 phan_2020_ctrl_mouse_21d_fb, shin_2020_ctrl_mouse_fb, shook_2020_ctrl_mouse_fb, vorstandlechner_2021_ctrl_mouse_fb]\n",
    "\n",
    "list_names_mouse = [adata.obs['Author'].values[0] + ' ' + str(int(adata.obs['Year'].values[0])) for adata in list_datasets_mouse]"
   ]
  },
  {
   "cell_type": "code",
   "execution_count": null,
   "metadata": {
    "tags": []
   },
   "outputs": [],
   "source": [
    "%store list_all_datasets_mouse\n",
    "%store list_datasets_mouse\n",
    "\n",
    "%store list_accepted_clusters_mouse\n",
    "%store list_accepted_axis_mouse\n",
    "%store list_names_mouse"
   ]
  },
  {
   "cell_type": "code",
   "execution_count": null,
   "metadata": {
    "tags": []
   },
   "outputs": [],
   "source": [
    "plot_adata_cluster_properties(dict_cats_clusters=dict_cats_clusters_robust, list_datasets=list_datasets_mouse, what='presence', cluster_name='cluster_robust', axis_name='axis_robust', list_clusters = list_accepted_clusters_mouse)"
   ]
  },
  {
   "cell_type": "code",
   "execution_count": null,
   "metadata": {
    "tags": []
   },
   "outputs": [],
   "source": [
    "plot_adata_cluster_properties(dict_cats_clusters=dict_cats_clusters_robust, list_datasets=list_datasets_mouse, what='percentage', cluster_name='cluster_robust', axis_name='axis_robust', list_clusters = list_accepted_clusters_mouse)"
   ]
  },
  {
   "cell_type": "code",
   "execution_count": null,
   "metadata": {
    "tags": []
   },
   "outputs": [],
   "source": [
    "plot_adata_cluster_properties(dict_cats_clusters=dict_cats_clusters_robust, list_datasets=list_datasets_mouse, what='axis', cluster_name='cluster_robust', axis_name='axis_robust', list_clusters = list_accepted_clusters_mouse)"
   ]
  },
  {
   "cell_type": "markdown",
   "metadata": {},
   "source": [
    "## Plotting all Adatas"
   ]
  },
  {
   "cell_type": "code",
   "execution_count": null,
   "metadata": {
    "tags": []
   },
   "outputs": [],
   "source": [
    "fig, axs = plt.subplots(3, 3, figsize=(3 * 4, 3 * 4))\n",
    "\n",
    "for ax in axs.ravel()[len(list_datasets_mouse) - len(axs) :]:\n",
    "    ax.set_axis_off()\n",
    "\n",
    "for adata, name, idx in zip(list_datasets_mouse, list_names_mouse, range(len(list_datasets_mouse))):\n",
    "    sc.pl.umap(adata, color=['cluster_robust'], legend_loc='on data', show=False, ax = axs.ravel()[idx], \n",
    "               title=str(adata.obs['Author'].iloc[0]) + ' ' + str(int(adata.obs['Year'].iloc[0])) + ' mouse', size=15, cmap=magma, frameon=False)\n"
   ]
  },
  {
   "cell_type": "code",
   "execution_count": null,
   "metadata": {
    "tags": []
   },
   "outputs": [],
   "source": [
    "list_genes = ['Col1a1', 'Sparc']\n",
    "\n",
    "for gene_idx, gene in enumerate(list_genes):\n",
    "    fig, axs = plt.subplots(3, 3, figsize=(3 * 4, 3 * 4))\n",
    "\n",
    "    for ax in axs.ravel()[len(list_datasets_mouse) - len(axs) :]:\n",
    "        ax.set_axis_off()\n",
    "\n",
    "    for adata, name, idx in zip(list_datasets_mouse, list_names_mouse, range(len(list_datasets_mouse))):\n",
    "        sc.pl.umap(adata, color=[gene], legend_loc='on data', show=False, ax = axs.ravel()[idx], \n",
    "                   title=str(adata.obs['Author'].iloc[0]) + ' ' + str(int(adata.obs['Year'].iloc[0])) + ' mouse' + ' ' + gene, size=15, cmap=magma, frameon=False)\n"
   ]
  },
  {
   "cell_type": "code",
   "execution_count": null,
   "metadata": {
    "scrolled": true,
    "tags": []
   },
   "outputs": [],
   "source": [
    "list_genes = ['Il13ra1', 'Gap43', 'Anxa3'] + ['Sfrp2', 'Pi16', 'Sema3c', 'Ccl11', 'Fgf18'] # genes de población incipiente + genes comunes\n",
    "\n",
    "for gene_idx, gene in enumerate(list_genes):\n",
    "    fig, axs = plt.subplots(3, 3, figsize=(3 * 4, 3 * 4))\n",
    "\n",
    "    for ax in axs.ravel()[len(list_datasets_mouse) - len(axs) :]:\n",
    "        ax.set_axis_off()\n",
    "\n",
    "    for adata, name, idx in zip(list_datasets_mouse, list_names_mouse, range(len(list_datasets_mouse))):\n",
    "        sc.pl.umap(adata, color=[gene], legend_loc='on data', show=False, ax = axs.ravel()[idx], \n",
    "                   title=str(adata.obs['Author'].iloc[0]) + ' ' + str(int(adata.obs['Year'].iloc[0])) + ' mouse' + ' ' + gene, size=15, cmap=magma, frameon=False)\n"
   ]
  },
  {
   "cell_type": "markdown",
   "metadata": {},
   "source": [
    "## PAGA "
   ]
  },
  {
   "cell_type": "code",
   "execution_count": null,
   "metadata": {
    "tags": []
   },
   "outputs": [],
   "source": [
    "fig, axs = plt.subplots(3, 3, figsize=(3 * 4, 3 * 4))\n",
    "\n",
    "for ax in axs.ravel()[len(list_datasets_mouse) - len(axs) :]:\n",
    "    ax.set_axis_off()\n",
    "    \n",
    "for adata, name, idx in zip(list_datasets_mouse, list_names_mouse, range(len(list_datasets_mouse))):\n",
    "    sc.tl.paga(adata, groups='cluster_robust')\n",
    "    sc.pl.paga(adata, ax=axs.ravel()[idx], frameon=False, show=False,\n",
    "               title=str(adata.obs['Author'].iloc[0]) + ' ' + str(int(adata.obs['Year'].iloc[0])) + ' mouse')"
   ]
  },
  {
   "cell_type": "code",
   "execution_count": null,
   "metadata": {
    "tags": []
   },
   "outputs": [],
   "source": [
    "fig, axs = plt.subplots(3, 3, figsize=(3 * 4, 3 * 4))\n",
    "\n",
    "for ax in axs.ravel()[len(list_datasets_mouse) - len(axs) :]:\n",
    "    ax.set_axis_off()\n",
    "    \n",
    "for adata, name, idx in zip(list_datasets_mouse, list_names_mouse, range(len(list_datasets_mouse))):\n",
    "    sc.tl.paga(adata, groups='cluster_robust')\n",
    "    sc.pl.paga(adata, ax=axs.ravel()[idx], frameon=False, show=False, solid_edges='connectivities_tree',\n",
    "               title=str(adata.obs['Author'].iloc[0]) + ' ' + str(int(adata.obs['Year'].iloc[0])) + ' mouse')"
   ]
  },
  {
   "cell_type": "markdown",
   "metadata": {},
   "source": [
    "## Combined PAGA "
   ]
  },
  {
   "cell_type": "markdown",
   "metadata": {},
   "source": [
    "### Using connectivities_tree"
   ]
  },
  {
   "cell_type": "code",
   "execution_count": null,
   "metadata": {
    "tags": []
   },
   "outputs": [],
   "source": [
    "df_all = pd.DataFrame(0, index=list_accepted_clusters_mouse + ['U'], columns=list_accepted_clusters_mouse + ['U'])\n",
    "\n",
    "for adata in list_datasets_mouse:\n",
    "    dfsub = pd.DataFrame(adata.uns['paga']['connectivities_tree'].todense(), \n",
    "                  columns=adata.obs['cluster_robust'].cat.categories, \n",
    "                  index=adata.obs['cluster_robust'].cat.categories)\n",
    "    \n",
    "    df_all.loc[dfsub.index, dfsub.index] = df_all.loc[dfsub.index, dfsub.index] + dfsub\n",
    "    \n",
    "df_all = df_all.iloc[:-1, :-1] # To remove U\n",
    "df_all.loc[(df_all.sum(axis=1) != 0), (df_all.sum(axis=0) != 0)]  # Remove e1 or other clusters that are not interesting or outliers in the graph\n",
    "\n",
    "df_all[df_all < 0.6] = 0\n",
    "df_all = df_all ** 2"
   ]
  },
  {
   "cell_type": "code",
   "execution_count": null,
   "metadata": {
    "tags": []
   },
   "outputs": [],
   "source": [
    "# CHOSEN SEED 5\n",
    "for seed in range(10):\n",
    "    display(seed)\n",
    "    fig, ax = plt.subplots(1, 1, figsize=(5, 4))\n",
    "    G = nx.convert_matrix.from_pandas_adjacency(df_all)\n",
    "    pos=nx.spring_layout(G, seed=seed)\n",
    "\n",
    "    edges = G.edges()\n",
    "    weights = [G[u][v]['weight'] for u,v in edges]\n",
    "\n",
    "    nx.draw_networkx(G, pos, width=weights, node_color=[dict_colors_mouse[i] for i in df_all.index], ax=ax)\n",
    "    plt.axis('off')\n",
    "    plt.show()"
   ]
  },
  {
   "cell_type": "markdown",
   "metadata": {},
   "source": [
    "### Using connectivities"
   ]
  },
  {
   "cell_type": "code",
   "execution_count": null,
   "metadata": {
    "tags": []
   },
   "outputs": [],
   "source": [
    "df_all = pd.DataFrame(0, index=list_accepted_clusters_mouse + ['U'], columns=list_accepted_clusters_mouse + ['U'])\n",
    "\n",
    "for adata in list_datasets_mouse:\n",
    "    dfsub = pd.DataFrame(adata.uns['paga']['connectivities'].todense(), \n",
    "                  columns=adata.obs['cluster_robust'].cat.categories, \n",
    "                  index=adata.obs['cluster_robust'].cat.categories)\n",
    "    \n",
    "    df_all.loc[dfsub.index, dfsub.index] = df_all.loc[dfsub.index, dfsub.index] + dfsub\n",
    "    \n",
    "df_all = df_all.iloc[:-1, :-1] # To remove U\n",
    "\n",
    "df_all[df_all < 0.6] = 0\n",
    "df_all = df_all ** 1.1\n",
    "\n",
    "df_all = (df_all + df_all.transpose()) / 2\n"
   ]
  },
  {
   "cell_type": "code",
   "execution_count": null,
   "metadata": {
    "tags": []
   },
   "outputs": [],
   "source": [
    "# CHOSEN SEED 9\n",
    "for seed in range(10):\n",
    "    fig, ax = plt.subplots(1, 1, figsize=(5, 4))\n",
    "    G = nx.convert_matrix.from_pandas_adjacency(df_all)\n",
    "    pos=nx.spring_layout(G, seed=seed)\n",
    "\n",
    "    edges = G.edges()\n",
    "    weights = [G[u][v]['weight'] for u,v in edges]\n",
    "\n",
    "    nx.draw_networkx(G, pos, width=weights, node_color=[dict_colors_mouse[i] for i in df_all.index], ax=ax)\n",
    "    plt.axis('off')\n",
    "    print(seed)\n",
    "    plt.show()"
   ]
  },
  {
   "cell_type": "markdown",
   "metadata": {},
   "source": [
    "## Mapping known pops to clusters"
   ]
  },
  {
   "cell_type": "code",
   "execution_count": null,
   "metadata": {
    "tags": []
   },
   "outputs": [],
   "source": [
    "dict_mapping = {'Reticular fb': ['Dpt', 'Dlk1'],                                # b2\n",
    "                'Papillary fb': ['Dpt', 'Dpp4',],                               # a2\n",
    "                'Dermal Papilla': ['Wif1', 'Corin'],                            # d2/d3\n",
    "                'Dermal Sheath': ['Col11a1', 'Acta2', 'Acan'],                  # d4\n",
    "                'Arrector pili': ['Cpe', 'Pcdh9', 'Ppp1r1a'],                   # Not defined\n",
    "                'Fascia': ['Gpx3', 'Thbs2', 'Dcn', 'Osmr', 'Gfra1', 'Pde10a'],  # a2, b/c, b3, b4???\n",
    "               }"
   ]
  },
  {
   "cell_type": "code",
   "execution_count": null,
   "metadata": {
    "tags": []
   },
   "outputs": [],
   "source": [
    "for cat, genes in dict_mapping.items():\n",
    "    print(cat)\n",
    "    sc.pl.umap(boothby_2021_ctrl_mouse_fb, color=['cluster_robust'] + genes, legend_loc='on data', frameon=False, cmap=magma)"
   ]
  },
  {
   "cell_type": "markdown",
   "metadata": {},
   "source": [
    "## Joost2020 markers"
   ]
  },
  {
   "cell_type": "code",
   "execution_count": null,
   "metadata": {
    "tags": []
   },
   "outputs": [],
   "source": [
    "dict_mapping_joost = {'FIB1': ['Col1a1', 'Sparc', 'Creb3', 'Creb3l3', 'Mxd4', 'Cldn10',],          # c1, c2 > c3\n",
    "                      'FIB2': ['Dcn', 'Lum', 'Mfap4', 'Igfbp7', 'Cd63', 'Ccl19', 'Fth1',],         # c3, b/c > c1, c2\n",
    "                      'FIB3': ['Cxcl12', 'Gpx3', 'Cygb', 'F3', 'Myoc'],                            # b4 > b1 > b3 > b2 > a\n",
    "                      'FIB4': ['Gpx3', 'Mfap5', 'Plac8', 'Anxa3', 'Akr1c18', 'Pla1a', 'Ifi205'],   # a > b4\n",
    "                      'tDP': ['Crabp1', 'Notum', 'Pappa2', 'Rasd1', 'Ramp3', 'a', 'Slc26a7'],      # d1\n",
    "                      'aDP': ['Corin', 'Nrg2', 'Cntn1', 'Nrg2', 'Cntn1', 'Ptprz1'],                # d2\n",
    "                      'DS1': ['Abi3bp', 'Ramp1', 'Mylk', 'Prelid2', 'Dusp14', 'Enpp2'],            # d3\n",
    "                      'DS2': ['Acta2', 'Tagln', 'Grem2', 'Lrrc15', 'Wif1'],                        # d3\n",
    "                       }"
   ]
  },
  {
   "cell_type": "code",
   "execution_count": null,
   "metadata": {
    "tags": []
   },
   "outputs": [],
   "source": [
    "for cat, genes in dict_mapping_joost.items():\n",
    "    print(cat)\n",
    "    sc.pl.umap(boothby_2021_ctrl_mouse_fb, color=['cluster_robust'] + genes, legend_loc='on data', frameon=False, cmap=magma)"
   ]
  },
  {
   "cell_type": "code",
   "execution_count": null,
   "metadata": {
    "tags": []
   },
   "outputs": [],
   "source": [
    "fig, axs = plt.subplots(3, 3, figsize=(3 * 4, 3 * 4))\n",
    "\n",
    "for ax in axs.ravel()[len(list_datasets_mouse) - len(axs) :]:\n",
    "    ax.set_axis_off()\n",
    "\n",
    "for adata, name, idx in zip(list_datasets_mouse, list_names_mouse, range(len(list_datasets_mouse))):\n",
    "    sc.pl.umap(adata, color=['cluster_robust'], legend_loc='on data', show=False, ax = axs.ravel()[idx], \n",
    "               title=str(adata.obs['Author'].iloc[0]) + ' ' + str(int(adata.obs['Year'].iloc[0])) + ' mouse', size=15, cmap=magma, frameon=False)\n"
   ]
  },
  {
   "cell_type": "code",
   "execution_count": null,
   "metadata": {
    "tags": []
   },
   "outputs": [],
   "source": [
    "list_genes = dict_mapping_joost['DS1']\n",
    "for gene_idx, gene in enumerate(list_genes):\n",
    "    fig, axs = plt.subplots(3, 3, figsize=(3 * 4, 3 * 4))\n",
    "\n",
    "    for ax in axs.ravel()[len(list_datasets_mouse) - len(axs) :]:\n",
    "        ax.set_axis_off()\n",
    "\n",
    "    for adata, name, idx in zip(list_datasets_mouse, list_names_mouse, range(len(list_datasets_mouse))):\n",
    "        sc.pl.umap(adata, color=[gene], legend_loc='on data', show=False, ax = axs.ravel()[idx], \n",
    "                   title=str(adata.obs['Author'].iloc[0]) + ' ' + str(int(adata.obs['Year'].iloc[0])) + ' mouse' + ' ' + gene, size=15, cmap=magma, frameon=False)"
   ]
  }
 ],
 "metadata": {
  "kernelspec": {
   "display_name": "Python [conda env:triku-notebooks]",
   "language": "python",
   "name": "conda-env-triku-notebooks-py"
  },
  "language_info": {
   "codemirror_mode": {
    "name": "ipython",
    "version": 3
   },
   "file_extension": ".py",
   "mimetype": "text/x-python",
   "name": "python",
   "nbconvert_exporter": "python",
   "pygments_lexer": "ipython3",
   "version": "3.8.0"
  },
  "toc": {
   "base_numbering": 1,
   "nav_menu": {},
   "number_sections": true,
   "sideBar": true,
   "skip_h1_title": false,
   "title_cell": "Table of Contents",
   "title_sidebar": "Contents",
   "toc_cell": false,
   "toc_position": {
    "height": "calc(100% - 180px)",
    "left": "10px",
    "top": "150px",
    "width": "384px"
   },
   "toc_section_display": true,
   "toc_window_display": true
  },
  "varInspector": {
   "cols": {
    "lenName": 16,
    "lenType": 16,
    "lenVar": 40
   },
   "kernels_config": {
    "python": {
     "delete_cmd_postfix": "",
     "delete_cmd_prefix": "del ",
     "library": "var_list.py",
     "varRefreshCmd": "print(var_dic_list())"
    },
    "r": {
     "delete_cmd_postfix": ") ",
     "delete_cmd_prefix": "rm(",
     "library": "var_list.r",
     "varRefreshCmd": "cat(var_dic_list()) "
    }
   },
   "types_to_exclude": [
    "module",
    "function",
    "builtin_function_or_method",
    "instance",
    "_Feature"
   ],
   "window_display": false
  }
 },
 "nbformat": 4,
 "nbformat_minor": 4
}

{
 "cells": [
  {
   "cell_type": "markdown",
   "metadata": {},
   "source": [
    "# Comparison of fibroblast populations (review)\n",
    "\n",
    "In this notebook we are going to extract and replicate the main populations from diffrent papers where fibroblast populations are described, and find similarities and differences. The premise of this analysis is that many of the populations described in different papers seem not to match, or to be transcriptomically different, but in reality they are quite similar; that is, the main types of populations are indeed shared by the different papers, which should come as no surprise.\n",
    "\n",
    "We will use the following references to extract fibroblast information from:\n",
    "* Tabib et al. 2018\n",
    "* Philippeos et al. 2018\n",
    "* Popescu et al. 2019\n",
    "* Solé-Boldo et al. 2020\n",
    "* Vorstandlechner et al. 2020\n",
    "* He et al. 2020\n",
    "\n",
    "The data from He et al was reanalyzed from fastq files with healthy donor due to the strong batch effects (the samples were already normalized / log transformed, which limits the scope of the downstream processing), and some important genes such as WIF1 were not appearing. "
   ]
  },
  {
   "cell_type": "markdown",
   "metadata": {},
   "source": [
    "## imports"
   ]
  },
  {
   "cell_type": "code",
   "execution_count": null,
   "metadata": {},
   "outputs": [],
   "source": [
    "import scanpy as sc\n",
    "import scanpy.external as sce\n",
    "import pandas as pd\n",
    "import numpy as np\n",
    "import os\n",
    "import triku as tk\n",
    "import matplotlib.pyplot as plt\n",
    "import matplotlib as mpl\n",
    "from tqdm.notebook import tqdm\n",
    "import ray\n",
    "import subprocess\n",
    "import time\n",
    "import scvelo as scv\n",
    "import gc"
   ]
  },
  {
   "cell_type": "code",
   "execution_count": null,
   "metadata": {},
   "outputs": [],
   "source": [
    "# To print versions of imports \n",
    "\n",
    "import types\n",
    "\n",
    "def imports():\n",
    "    for name, val in globals().items():\n",
    "        if isinstance(val, types.ModuleType):\n",
    "            yield val.__name__\n",
    "\n",
    "excludes = ['builtins', 'types', 'sys']\n",
    "\n",
    "imported_modules = [module for module in imports() if module not in excludes]\n",
    "\n",
    "clean_modules = []\n",
    "\n",
    "for module in imported_modules:\n",
    "\n",
    "    sep = '.'  # to handle 'matplotlib.pyplot' cases\n",
    "    rest = module.split(sep, 1)[0]\n",
    "    clean_modules.append(rest)\n",
    "\n",
    "changed_imported_modules = list(set(clean_modules))  # drop duplicates\n",
    "\n",
    "pip_modules = !pip freeze  # you could also use `!conda list` with anaconda\n",
    "\n",
    "for module in pip_modules:\n",
    "    try:\n",
    "        name, version = module.split('==')\n",
    "        if name in changed_imported_modules:\n",
    "            print(name + '\\t' + version)\n",
    "    except:\n",
    "        pass"
   ]
  },
  {
   "cell_type": "code",
   "execution_count": null,
   "metadata": {},
   "outputs": [],
   "source": [
    "seed = 0"
   ]
  },
  {
   "cell_type": "code",
   "execution_count": null,
   "metadata": {},
   "outputs": [],
   "source": [
    "# Palettes for UMAP gene expression\n",
    "\n",
    "magma = [plt.get_cmap('magma')(i) for i in np.linspace(0,1, 80)]\n",
    "magma[0] = (0.88, 0.88, 0.88, 1)\n",
    "magma = mpl.colors.LinearSegmentedColormap.from_list(\"\", magma[:65])"
   ]
  },
  {
   "cell_type": "code",
   "execution_count": null,
   "metadata": {},
   "outputs": [],
   "source": [
    "dict_rep = {'CCN5': 'WISP2', 'ECRG4': 'C2orf40'}"
   ]
  },
  {
   "cell_type": "markdown",
   "metadata": {},
   "source": [
    "**IMPORTANT: I am running this analysis in a computer with ~500 GB of RAM. I will load many datasets at once, which might be too much for some computers. I took this decision conciously, to have as much info available at any time as possible. If you cannot run all the analysis at once, you can run it by parts.**"
   ]
  },
  {
   "cell_type": "markdown",
   "metadata": {},
   "source": [
    "## data extraction and processing"
   ]
  },
  {
   "cell_type": "code",
   "execution_count": null,
   "metadata": {},
   "outputs": [],
   "source": [
    "data_dir = os.getcwd()"
   ]
  },
  {
   "cell_type": "markdown",
   "metadata": {},
   "source": [
    "### Tabib et al. 2018"
   ]
  },
  {
   "cell_type": "code",
   "execution_count": null,
   "metadata": {},
   "outputs": [],
   "source": [
    "tabib_dir = data_dir + '/Tabib_2018'"
   ]
  },
  {
   "cell_type": "code",
   "execution_count": null,
   "metadata": {},
   "outputs": [],
   "source": [
    "adata_tabib = sc.read_csv(tabib_dir + '/Skin_6Control_rawUMI.csv')\n",
    "adata_tabib = adata_tabib.transpose()"
   ]
  },
  {
   "cell_type": "code",
   "execution_count": null,
   "metadata": {},
   "outputs": [],
   "source": [
    "df_metadata_tabib = pd.read_csv(tabib_dir + '/Skin_6Control_Metadata.csv', index_col=0)"
   ]
  },
  {
   "cell_type": "markdown",
   "metadata": {},
   "source": [
    "df metadata has 8366 cells, although the paper states that 8522 cells were analyzed. The rest of cells are erithrocytes, which were filtered out from the analysis."
   ]
  },
  {
   "cell_type": "code",
   "execution_count": null,
   "metadata": {},
   "outputs": [],
   "source": [
    "adata_tabib.raw = adata_tabib"
   ]
  },
  {
   "cell_type": "code",
   "execution_count": null,
   "metadata": {},
   "outputs": [],
   "source": [
    "dict_reverse_mappings = {'Fibroblast': ['0', '3', '4'], \n",
    "                 'Keratinocyte': ['1', '5', '7', '11', '14',], \n",
    "                 'Endothelial cell': ['2'], \n",
    "                 'Pericyte': ['6', '10'], \n",
    "                 'Macrophage/DC': ['8'], \n",
    "                 'Lymphocyte': ['9'], \n",
    "                 'Secretory Epith': ['12'], \n",
    "                 'Smooth Muscle': ['13'], \n",
    "                 'Melanocyte': ['15'], \n",
    "                 'Neural Cell': ['16'],\n",
    "                 'Cornified Env': ['17'],\n",
    "                 'B cell': ['18'], \n",
    "                 'Erithrocyte': [np.NaN]}  # This is ours!\n",
    "\n",
    "dict_mappings = {}\n",
    "\n",
    "for key, val in dict_reverse_mappings.items():\n",
    "    for val_i in val:\n",
    "        dict_mappings[val_i] = key"
   ]
  },
  {
   "cell_type": "code",
   "execution_count": null,
   "metadata": {},
   "outputs": [],
   "source": [
    "adata_tabib.obs['res.0.6'] = df_metadata_tabib['res.0.6'].astype(str)\n",
    "adata_tabib.obs['cluster'] = [dict_mappings[i] for i in adata_tabib.obs['res.0.6']]"
   ]
  },
  {
   "cell_type": "markdown",
   "metadata": {},
   "source": [
    "Since we are interested in fibros, we are going to filter their specific populations (0, 3, 4)"
   ]
  },
  {
   "cell_type": "code",
   "execution_count": null,
   "metadata": {},
   "outputs": [],
   "source": [
    "adata_tabib_fb = adata_tabib[adata_tabib.obs['cluster'].isin(['Fibroblast']), :].copy()\n",
    "adata_tabib_fb_raw = adata_tabib_fb.copy()"
   ]
  },
  {
   "cell_type": "code",
   "execution_count": null,
   "metadata": {},
   "outputs": [],
   "source": [
    "sc.pp.filter_genes(adata_tabib, min_counts=1)\n",
    "sc.pp.log1p(adata_tabib)\n",
    "sc.pp.normalize_total(adata_tabib)\n",
    "tk.tl.triku(adata_tabib, n_procs=1, random_state=seed)\n",
    "sc.pp.pca(adata_tabib, random_state=seed)\n",
    "sc.pp.neighbors(adata_tabib, random_state=seed)\n",
    "sc.tl.umap(adata_tabib, random_state=seed)"
   ]
  },
  {
   "cell_type": "code",
   "execution_count": null,
   "metadata": {},
   "outputs": [],
   "source": [
    "sc.pl.umap(adata_tabib, color=['cluster', 'LUM', 'PDGFRA', 'COL1A1', 'DCN', 'FBLN1'], legend_loc='on data', cmap=magma, use_raw=False)"
   ]
  },
  {
   "cell_type": "code",
   "execution_count": null,
   "metadata": {},
   "outputs": [],
   "source": [
    "# Pericyte markers, for later\n",
    "sc.pl.umap(adata_tabib, color=['cluster', 'MYL9', 'RGS5'], legend_loc='on data', cmap=magma, use_raw=False)"
   ]
  },
  {
   "cell_type": "code",
   "execution_count": null,
   "metadata": {},
   "outputs": [],
   "source": [
    "sc.pp.filter_genes(adata_tabib_fb, min_counts=1)\n",
    "sc.pp.log1p(adata_tabib_fb)\n",
    "sc.pp.normalize_total(adata_tabib_fb)\n",
    "tk.tl.triku(adata_tabib_fb, n_procs=1, random_state=seed)\n",
    "sc.pp.pca(adata_tabib_fb, random_state=seed, n_comps=30)\n",
    "sc.pp.neighbors(adata_tabib_fb, random_state=seed, metric='cosine', knn=len(adata_tabib_fb) ** 0.5 // 2)"
   ]
  },
  {
   "cell_type": "markdown",
   "metadata": {},
   "source": [
    "#### Labelling Tabib clusters\n",
    "\n",
    "In the data from tabib there is no information about the fibroblast subclusters. To label them, we are going to do a broad clustering with many clusters, and gather them into bigger clusters that share the same patterns as Tabib clusters. Those clusters will not be exactly the clusters from Tabib, but will be similar enough to extract the correct biological conclusions. \n",
    "\n",
    "For this dataset there is a list of DEGs of the main clusters, but not the subclusters! Therefore, we will rely on the Supplementary Figure 3, which is a heatmap of the subclusters. We will use their recommended genes to do the selection. Also, clusters 4A and 4B are not divided in that heatmap, so we will do the separation based on the genes that appear on the paper."
   ]
  },
  {
   "cell_type": "code",
   "execution_count": null,
   "metadata": {},
   "outputs": [],
   "source": [
    "sc.tl.umap(adata_tabib_fb, min_dist=0.2, random_state=seed)\n",
    "sc.tl.leiden(adata_tabib_fb, resolution=2, random_state=seed)\n",
    "sc.pl.umap(adata_tabib_fb, color=['cluster', 'leiden'], legend_loc='on data')"
   ]
  },
  {
   "cell_type": "code",
   "execution_count": null,
   "metadata": {},
   "outputs": [],
   "source": [
    "sc.pl.umap(adata_tabib_fb, color=['leiden', 'APCDD1', 'WIF1', 'WISP2', 'COMP'], legend_loc='on data', cmap=magma, use_raw=False)"
   ]
  },
  {
   "cell_type": "markdown",
   "metadata": {},
   "source": [
    "We want to map clusters from leiden to cluster from Tabib. To do that, we will create a dictionary between correspondences in clusters based on markers, \n",
    "and when all correspondences are done, we will use the renamed clusters from Tabib. To simplify the processing, we will run leiden with a high resolution, and merge several clusters in one."
   ]
  },
  {
   "cell_type": "code",
   "execution_count": null,
   "metadata": {},
   "outputs": [],
   "source": [
    "print('T0')\n",
    "sc.pl.umap(adata_tabib_fb, color=['leiden', 'WIF1', 'COMP'], cmap=magma, legend_loc='on data', use_raw=False)  # Markers of T0\n",
    "print('T1')\n",
    "sc.pl.umap(adata_tabib_fb, color=['leiden', 'MYOC', 'FMO1'], cmap=magma, legend_loc='on data', use_raw=False)  # Markers of T1\n",
    "print('T5')\n",
    "sc.pl.umap(adata_tabib_fb, color=['leiden', 'CXCL12', 'C7'], cmap=magma, legend_loc='on data', use_raw=False)  # Markers of T5                               \n",
    "print('T2')\n",
    "sc.pl.umap(adata_tabib_fb, color=['leiden', 'FBLN1', 'C1R', 'PI16'], cmap=magma, legend_loc='on data', use_raw=False)  # Markers of T2\n",
    "print('T3')\n",
    "sc.pl.umap(adata_tabib_fb, color=['leiden', 'IGFBP5', 'PLEKHH2'], cmap=magma, legend_loc='on data', use_raw=False)  # Markers of T3\n",
    "print('T4a')\n",
    "sc.pl.umap(adata_tabib_fb, color=['leiden', 'CRABP1', 'TNN'], cmap=magma, legend_loc='on data', use_raw=False)  # Markers of T4A\n",
    "print('T4b')\n",
    "sc.pl.umap(adata_tabib_fb, color=['leiden', 'COL11A1', 'UGT3A2'], cmap=magma, legend_loc='on data', use_raw=False)  # Markers of T4B\n",
    "print('T6')\n",
    "sc.pl.umap(adata_tabib_fb, color=['leiden', 'PCOLCE2', 'FBN1', 'SFRP4'], cmap=magma, legend_loc='on data', use_raw=False)  # Markers of T6\n",
    "print('T7')\n",
    "sc.pl.umap(adata_tabib_fb, color=['leiden', 'ANGPTL7', 'C2orf40'], cmap=magma, legend_loc='on data', use_raw=False)  # Markers of T7"
   ]
  },
  {
   "cell_type": "code",
   "execution_count": null,
   "metadata": {},
   "outputs": [],
   "source": [
    "dict_reverse_mappings = {'T0': ['8', '0', '16', '7', '17', ], \n",
    "                 'T1': ['2', '5', '10', '20', '22'], \n",
    "                 'T2': ['1', '4', '12', '14'], \n",
    "                 'T3': ['11', '13'], \n",
    "                 'T4A': ['15', '21'], \n",
    "                 'T4B': ['3'], \n",
    "                 'T5': ['6', '9'], \n",
    "                 'T6': ['18'], \n",
    "                 'T7': ['19']}\n",
    "\n",
    "dict_mappings = {}\n",
    "\n",
    "for key, val in dict_reverse_mappings.items():\n",
    "    for val_i in val:\n",
    "        dict_mappings[val_i] = key"
   ]
  },
  {
   "cell_type": "code",
   "execution_count": null,
   "metadata": {},
   "outputs": [],
   "source": [
    "adata_tabib_fb.obs['tabib_clusters'] = [dict_mappings[i] for i in adata_tabib_fb.obs['leiden']]\n",
    "sc.pl.umap(adata_tabib_fb, color=['tabib_clusters'], cmap=magma, legend_loc='on data')"
   ]
  },
  {
   "cell_type": "markdown",
   "metadata": {},
   "source": [
    "**IMPORTANT: These clusters are not exactly the clusters from Tabib, but they are really close based on the expression of markers!**"
   ]
  },
  {
   "cell_type": "markdown",
   "metadata": {},
   "source": [
    "### Philippeos et al. 2018"
   ]
  },
  {
   "cell_type": "code",
   "execution_count": null,
   "metadata": {},
   "outputs": [],
   "source": [
    "phil_dir = data_dir + '/Philippeos_2018'"
   ]
  },
  {
   "cell_type": "code",
   "execution_count": null,
   "metadata": {},
   "outputs": [],
   "source": [
    "adata_phil_1 = sc.read_csv(phil_dir + '/GSE109822_CD90.csv')\n",
    "adata_phil_1 = adata_phil_1.transpose()"
   ]
  },
  {
   "cell_type": "code",
   "execution_count": null,
   "metadata": {},
   "outputs": [],
   "source": [
    "adata_phil_2 = sc.read_csv(phil_dir + '/GSE109822_CD3145.csv')\n",
    "adata_phil_2 = adata_phil_2.transpose()"
   ]
  },
  {
   "cell_type": "code",
   "execution_count": null,
   "metadata": {},
   "outputs": [],
   "source": [
    "adata_phil = sc.AnnData.concatenate(adata_phil_1, adata_phil_2)"
   ]
  },
  {
   "cell_type": "code",
   "execution_count": null,
   "metadata": {},
   "outputs": [],
   "source": [
    "sc.pp.filter_genes(adata_phil, min_counts=1)\n",
    "sc.pp.log1p(adata_phil)\n",
    "sc.pp.pca(adata_phil, random_state=seed)\n",
    "sc.pp.neighbors(adata_phil, random_state=seed, metric='cosine')\n",
    "tk.tl.triku(adata_phil, n_procs=1, random_state=seed, use_adata_knn=True)"
   ]
  },
  {
   "cell_type": "code",
   "execution_count": null,
   "metadata": {},
   "outputs": [],
   "source": [
    "sc.tl.umap(adata_phil, min_dist=0.5, random_state=seed)\n",
    "sc.tl.leiden(adata_phil, resolution=1, random_state=seed)\n",
    "sc.pl.umap(adata_phil, color=['leiden'], legend_loc='on data')"
   ]
  },
  {
   "cell_type": "markdown",
   "metadata": {},
   "source": [
    "#### Labelling Philippeos clusters\n",
    "\n",
    "In Philippeos et al. paper they detect 5 subpopulations, but 4 of them are really relevant (one of them has 5 cells). We are going to use their markers to map their populations to ours, since we do not have that information. Also, population 2 seems to be able to be subdivided into two populations. We will name them as 2A and 2B.\n",
    "\n",
    "![](images/Phil_F6.png)"
   ]
  },
  {
   "cell_type": "code",
   "execution_count": null,
   "metadata": {},
   "outputs": [],
   "source": [
    "fb_genes = ['DCN', 'LUM', 'RGS5', 'COL6A5', 'COL23A1', 'MFAP5', 'PRG4', 'DPP4', 'CD34', 'CD74', 'CLDN5']\n",
    "sc.pl.umap(adata_phil, color=['leiden'] + fb_genes, legend_loc='on data', cmap=magma, )"
   ]
  },
  {
   "cell_type": "code",
   "execution_count": null,
   "metadata": {},
   "outputs": [],
   "source": [
    "dict_reverse_mappings = {'P2A': ['3'], \n",
    "                 'P2B': ['1'], \n",
    "                 'P3': ['4', '5'], \n",
    "                 'P4': ['0'], \n",
    "                 'P5': ['2'], }\n",
    "\n",
    "dict_mappings = {}\n",
    "\n",
    "for key, val in dict_reverse_mappings.items():\n",
    "    for val_i in val:\n",
    "        dict_mappings[val_i] = key"
   ]
  },
  {
   "cell_type": "code",
   "execution_count": null,
   "metadata": {},
   "outputs": [],
   "source": [
    "adata_phil.obs['philippeos_clusters'] = [dict_mappings[i] for i in adata_phil.obs['leiden']]\n",
    "sc.pl.umap(adata_phil, color=['philippeos_clusters'], cmap=magma, legend_loc='on data')"
   ]
  },
  {
   "cell_type": "markdown",
   "metadata": {},
   "source": [
    "#### Analyzing Philippeos subpopulations in more detail\n",
    "\n",
    "We are going to analyse some of the Philippeos populations in detail, because we suspect they are not canonical fibroblasts and, instead, can be other types of cell types that have not been filtered."
   ]
  },
  {
   "cell_type": "code",
   "execution_count": null,
   "metadata": {},
   "outputs": [],
   "source": [
    "sc.tl.rank_genes_groups(adata_phil, groupby='philippeos_clusters', method='wilcoxon')\n",
    "sc.pl.rank_genes_groups_tracksplot(adata_phil, dendrogram=False, use_raw=False, n_genes=50)"
   ]
  },
  {
   "cell_type": "markdown",
   "metadata": {},
   "source": [
    "##### P2A fibroblast cluster cells are perivascular cells, not fibroblats\n",
    "\n",
    "If we plot some of the P2A DEGs (RGS5, PDGFA, GJA4, NOTCH3, APOLD1, MT1A, PARM1) in Tabib dataset, we clearly see that they colocalize within the same cluster of perivascular cells (labelled as 'Pericyte') by Tabib. They do not colocalize with the canonical fibroblast cluster, neither appear as an interphase."
   ]
  },
  {
   "cell_type": "code",
   "execution_count": null,
   "metadata": {},
   "outputs": [],
   "source": [
    "peri_markers = ['RGS5', 'PDGFA', 'GJA4', 'NOTCH3', 'APOLD1', 'MT1A', 'PARM1']\n",
    "sc.pl.umap(adata_phil, color=['philippeos_clusters'] + peri_markers, \n",
    "           cmap=magma, legend_loc='on data', use_raw=False) "
   ]
  },
  {
   "cell_type": "markdown",
   "metadata": {},
   "source": [
    "##### Cluster P2B does not express any relevant marker. Neither does it in the Philippeos publication. It can be a type of contamination or, in any case, irrelevant cells."
   ]
  },
  {
   "cell_type": "markdown",
   "metadata": {},
   "source": [
    "##### Cluster P5 are endothelial cells based on DEGs"
   ]
  },
  {
   "cell_type": "code",
   "execution_count": null,
   "metadata": {},
   "outputs": [],
   "source": [
    "peri_markers = ['STC1', 'CD74', 'MCTP1', 'CTSH', 'CLDN5', 'FLT1']\n",
    "sc.pl.umap(adata_phil, color=['philippeos_clusters'] + peri_markers, \n",
    "           cmap=magma, legend_loc='on data', use_raw=False) "
   ]
  },
  {
   "cell_type": "markdown",
   "metadata": {},
   "source": [
    "With that in mind, we are going to select onlt P3 and P4 populations of Philippeos to narrow down the search of fibroblast subpopulations. However, the number of cells is so low that limited resolutive power can be achieved."
   ]
  },
  {
   "cell_type": "code",
   "execution_count": null,
   "metadata": {},
   "outputs": [],
   "source": [
    "adata_phil_fb = adata_phil[adata_phil.obs['philippeos_clusters'].isin(['P3', 'P4']), :].copy()"
   ]
  },
  {
   "cell_type": "code",
   "execution_count": null,
   "metadata": {},
   "outputs": [],
   "source": [
    "sc.pp.filter_genes(adata_phil_fb, min_counts=1)\n",
    "tk.tl.triku(adata_phil_fb, n_procs=1, random_state=seed)\n",
    "sc.pp.pca(adata_phil_fb, random_state=seed)\n",
    "sc.pp.neighbors(adata_phil_fb, random_state=seed, knn=4, metric='cosine')  # 15 would be too much\n",
    "sc.tl.umap(adata_phil_fb, random_state=seed)"
   ]
  },
  {
   "cell_type": "code",
   "execution_count": null,
   "metadata": {},
   "outputs": [],
   "source": [
    "sc.tl.leiden(adata_phil_fb, resolution=0.8)\n",
    "sc.pl.umap(adata_phil_fb, color='leiden')"
   ]
  },
  {
   "cell_type": "code",
   "execution_count": null,
   "metadata": {},
   "outputs": [],
   "source": [
    "sc.pl.umap(adata_phil_fb, color=['philippeos_clusters'] + ['APCDD1', 'COL18A1', 'NKD2', 'WISP2', 'PI16', 'IGFBP6', 'SLPI'], \n",
    "cmap=magma, legend_loc='on data', use_raw=False) "
   ]
  },
  {
   "cell_type": "markdown",
   "metadata": {},
   "source": [
    "### Solé-Boldo et al. 2020"
   ]
  },
  {
   "cell_type": "code",
   "execution_count": null,
   "metadata": {},
   "outputs": [],
   "source": [
    "sole_dir = data_dir + '/Sole-Boldo_2020'"
   ]
  },
  {
   "cell_type": "code",
   "execution_count": null,
   "metadata": {},
   "outputs": [],
   "source": [
    "adata_sole_young = sc.read_loom(sole_dir + '/SB2020.loom')\n",
    "adata_sole_young.var_names_make_unique()"
   ]
  },
  {
   "cell_type": "code",
   "execution_count": null,
   "metadata": {},
   "outputs": [],
   "source": [
    "adata_sole_young.var_names = [dict_rep[i] if i in dict_rep else i for i in adata_sole_young.var_names ]"
   ]
  },
  {
   "cell_type": "code",
   "execution_count": null,
   "metadata": {},
   "outputs": [],
   "source": [
    "adata_sole_young.X = np.array(adata_sole_young.X.todense())"
   ]
  },
  {
   "cell_type": "code",
   "execution_count": null,
   "metadata": {},
   "outputs": [],
   "source": [
    "# Basic QC filtering\n",
    "adata_sole_young.var['mt'] = adata_sole_young.var_names.str.startswith('MT-')  # annotate the group of mitochondrial genes as 'mt'\n",
    "sc.pp.calculate_qc_metrics(adata_sole_young, qc_vars=['mt'], percent_top=None, inplace=True)"
   ]
  },
  {
   "cell_type": "code",
   "execution_count": null,
   "metadata": {},
   "outputs": [],
   "source": [
    "sc.pl.violin(adata_sole_young, ['n_genes_by_counts', 'total_counts', 'pct_counts_mt'],\n",
    "             jitter=0.4, multi_panel=True)\n",
    "\n",
    "sc.pl.scatter(adata_sole_young, x='total_counts', y='pct_counts_mt')\n",
    "sc.pl.scatter(adata_sole_young, x='total_counts', y='n_genes_by_counts')"
   ]
  },
  {
   "cell_type": "code",
   "execution_count": null,
   "metadata": {},
   "outputs": [],
   "source": [
    "adata_sole_young = adata_sole_young[((adata_sole_young.obs.n_genes_by_counts < 2500) & \n",
    "                                    (adata_sole_young.obs.n_genes_by_counts > 200)).values, :]\n",
    "adata_sole_young = adata_sole_young[adata_sole_young.obs.pct_counts_mt < 15, :]"
   ]
  },
  {
   "cell_type": "code",
   "execution_count": null,
   "metadata": {},
   "outputs": [],
   "source": [
    "sc.pp.filter_genes(adata_sole_young, min_counts=1)\n",
    "sc.pp.log1p(adata_sole_young)\n",
    "sc.pp.normalize_total(adata_sole_young)"
   ]
  },
  {
   "cell_type": "code",
   "execution_count": null,
   "metadata": {},
   "outputs": [],
   "source": [
    "tk.tl.triku(adata_sole_young, n_procs=1, random_state=seed)\n",
    "sc.pp.pca(adata_sole_young, random_state=seed)\n",
    "sc.pp.neighbors(adata_sole_young, random_state=seed, metric='cosine')"
   ]
  },
  {
   "cell_type": "code",
   "execution_count": null,
   "metadata": {},
   "outputs": [],
   "source": [
    "sc.tl.umap(adata_sole_young, min_dist=0.7, random_state=seed)\n",
    "sc.tl.leiden(adata_sole_young, resolution=0.8, random_state=seed)\n",
    "sc.pl.umap(adata_sole_young, color=['leiden'], legend_loc='on data')"
   ]
  },
  {
   "cell_type": "code",
   "execution_count": null,
   "metadata": {},
   "outputs": [],
   "source": [
    "# GOOD MARKERS FOR FIBROBLASTS LUM AND PDGFRA\n",
    "sc.pl.umap(adata_sole_young, color=['PDGFRA', 'LUM', 'DCN', 'RGS5', \n",
    "                                    'VWF', 'HLA-DRA', 'KRT5', 'TRAC', 'HBB'], \n",
    "           legend_loc='on data', cmap=magma, ncols=3)"
   ]
  },
  {
   "cell_type": "code",
   "execution_count": null,
   "metadata": {},
   "outputs": [],
   "source": [
    "adata_sole_young_fb = adata_sole_young[adata_sole_young.obs['leiden'].isin(['2', '4', '5', '6', '8', '19'])].copy()\n",
    "adata_sole_young_fb_raw = adata_sole_young_fb.copy()\n",
    "adata_sole_young_fb_scvelo = adata_sole_young_fb.copy()"
   ]
  },
  {
   "cell_type": "code",
   "execution_count": null,
   "metadata": {},
   "outputs": [],
   "source": [
    "sc.pp.filter_genes(adata_sole_young_fb, min_counts=1)\n",
    "tk.tl.triku(adata_sole_young_fb, n_procs=1, random_state=seed)\n",
    "sc.pp.pca(adata_sole_young_fb, random_state=seed, n_comps=30)\n",
    "sc.pp.neighbors(adata_sole_young_fb, random_state=seed, metric='cosine', knn=len(adata_sole_young_fb) ** 0.5 // 2)"
   ]
  },
  {
   "cell_type": "code",
   "execution_count": null,
   "metadata": {},
   "outputs": [],
   "source": [
    "adata_sole_old_fb = adata_sole_old[adata_sole_old.obs['leiden'].isin(['0', '2', '10'])].copy()"
   ]
  },
  {
   "cell_type": "code",
   "execution_count": null,
   "metadata": {},
   "outputs": [],
   "source": [
    "sc.pp.filter_genes(adata_sole_old_fb, min_counts=1)\n",
    "tk.tl.triku(adata_sole_old_fb, n_procs=1, random_state=seed)\n",
    "sc.pp.pca(adata_sole_old_fb, random_state=seed, n_comps=30)\n",
    "sce.pp.bbknn(adata_sole_old_fb, batch_key='id', metric='angular')"
   ]
  },
  {
   "cell_type": "markdown",
   "metadata": {},
   "source": [
    "#### Labelling Solé-Boldo YOUNG clusters\n",
    "\n",
    "In the dataset from Solé-Boldo there is no direct information about the fibroblast subclusters (there is an R object but it fails). To label them, we are going to do a broad clustering with many clusters, and gather them into bigger clusters that share the same patterns as Tabib clusters. Those clusters will not be exactly the clusters from Solé-Boldo, but will be similar enough to extract the correct biological conclusions. \n",
    "\n",
    "To do the assignment, we will select the list of DEGs from the Supplementary Data 3, and apply it either on old and young samples. We will select the first 10 DEGs to do the plotting."
   ]
  },
  {
   "cell_type": "code",
   "execution_count": null,
   "metadata": {},
   "outputs": [],
   "source": [
    "sc.tl.umap(adata_sole_young_fb, min_dist=0.35, random_state=seed)\n",
    "sc.tl.leiden(adata_sole_young_fb, resolution=2, random_state=seed)\n",
    "sc.pl.umap(adata_sole_young_fb, color=['leiden'], legend_loc='on data')"
   ]
  },
  {
   "cell_type": "code",
   "execution_count": null,
   "metadata": {},
   "outputs": [],
   "source": [
    "sc.pl.umap(adata_sole_young_fb, color=['CCL19', 'CXCL12', 'WIF1', 'COMP',\n",
    "                                       'SLPI', 'SFRP2', 'DPP4',\n",
    "                                       'WISP2', 'ANGPTL7', 'COCH', 'POSTN', \n",
    "                                       'APOE', 'TNN', 'ASPN', 'MYOC'], \n",
    "           legend_loc='on data', cmap=magma, use_raw=False, ncols=3)"
   ]
  },
  {
   "cell_type": "code",
   "execution_count": null,
   "metadata": {},
   "outputs": [],
   "source": [
    "SPap = ['APCDD1', 'COMP', 'RGS16', 'ID1', 'HBB', 'RGS2', 'COL18A1', 'DUSP1', 'WIF1', 'NKD2']\n",
    "InfA = ['CXCL3', 'CXCL2', 'CXCL1', 'C11orf96', 'SOD2', 'CCL2', 'TNFAIP6', 'GEM', 'MEDAG', 'IL6']\n",
    "InfB =['CCL19', 'APOE', 'PTGDS', 'APOD', 'SOCS3', 'CXCL12', 'EGR1', 'JUN', 'ABCA8', 'RARRES2']\n",
    "SRet = ['WISP2', 'SLPI', 'CTHRC1', 'FBLN1', 'IGFBP6', 'PCSK1N', 'TSPAN8', 'MFAP5', 'DCN', 'CFD']\n",
    "Mes = ['COCH', 'ASPN', 'POSTN', 'TNN', 'DPEP1', 'COL11A1', 'SFRP1', 'HTRA1', 'MRPS6', 'GPC3']"
   ]
  },
  {
   "cell_type": "code",
   "execution_count": null,
   "metadata": {},
   "outputs": [],
   "source": [
    "print('SPap')\n",
    "sc.pl.umap(adata_sole_young_fb, color=['leiden'] + SPap, cmap=magma, legend_loc='on data', use_raw=False)\n",
    "print('Sret')\n",
    "sc.pl.umap(adata_sole_young_fb, color=['leiden'] + SRet, cmap=magma, legend_loc='on data', use_raw=False)  \n",
    "print('InfA')\n",
    "sc.pl.umap(adata_sole_young_fb, color=['leiden'] + InfA, cmap=magma, legend_loc='on data', use_raw=False) \n",
    "print('InfB')\n",
    "sc.pl.umap(adata_sole_young_fb, color=['leiden'] + InfB, cmap=magma, legend_loc='on data', use_raw=False)                      \n",
    "print('Mes')\n",
    "sc.pl.umap(adata_sole_young_fb, color=['leiden'] + Mes, cmap=magma, legend_loc='on data', use_raw=False)  \n"
   ]
  },
  {
   "cell_type": "code",
   "execution_count": null,
   "metadata": {},
   "outputs": [],
   "source": [
    "sc.tl.rank_genes_groups(adata_sole_young_fb, groupby='leiden', )\n",
    "sc.pl.rank_genes_groups_tracksplot(adata_sole_young_fb, dendrogram=False, use_raw=False)"
   ]
  },
  {
   "cell_type": "code",
   "execution_count": null,
   "metadata": {},
   "outputs": [],
   "source": [
    "dict_reverse_mappings = {'SPap': ['1', '6', '2'], \n",
    "                 'SRet': ['5', '7', '9', '17'], \n",
    "                 'InfA': ['12', '14', '0'], \n",
    "                 'InfB': ['3', '8', '10'], \n",
    "                 'Mes': ['4', '11', '13', '15', '16', '18',], }\n",
    "\n",
    "dict_mappings = {}\n",
    "\n",
    "for key, val in dict_reverse_mappings.items():\n",
    "    for val_i in val:\n",
    "        dict_mappings[val_i] = key"
   ]
  },
  {
   "cell_type": "code",
   "execution_count": null,
   "metadata": {},
   "outputs": [],
   "source": [
    "adata_sole_young_fb.obs['SB_clusters'] = [dict_mappings[i] for i in adata_sole_young_fb.obs['leiden']]\n",
    "sc.pl.umap(adata_sole_young_fb, color=['leiden', 'SB_clusters'], cmap=magma, legend_loc='on data')"
   ]
  },
  {
   "cell_type": "code",
   "execution_count": null,
   "metadata": {},
   "outputs": [],
   "source": [
    "sc.pl.umap(adata_sole_young_fb, color=['leiden', 'C2orf40'], cmap=magma, legend_loc='on data')"
   ]
  },
  {
   "cell_type": "markdown",
   "metadata": {},
   "source": [
    "#### \"Labelling\" Solé-Boldo OLD clusters\n",
    "\n",
    "In this part we are simply going to DR and leiden the communities, and we will later on merge them into the known axes/clusters. **WE HAVE REMOVED THE 3rd DONOR BECAUSE OF BATCH EFFECTS!**"
   ]
  },
  {
   "cell_type": "code",
   "execution_count": null,
   "metadata": {},
   "outputs": [],
   "source": [
    "sc.tl.umap(adata_sole_old_fb, min_dist=0.05, random_state=seed)\n",
    "sc.tl.leiden(adata_sole_old_fb, resolution=1.3, random_state=seed)\n",
    "sc.pl.umap(adata_sole_old_fb, color=['leiden', 'id'], legend_loc='on data')"
   ]
  },
  {
   "cell_type": "code",
   "execution_count": null,
   "metadata": {},
   "outputs": [],
   "source": [
    "sc.pl.umap(adata_sole_young_fb, color=['leiden', 'POSTN', 'COL5A2', 'CALD1', 'DPEP1'], legend_loc='on data', cmap=magma, use_raw=False)"
   ]
  },
  {
   "cell_type": "code",
   "execution_count": null,
   "metadata": {},
   "outputs": [],
   "source": [
    "sc.pl.umap(adata_sole_old_fb, color=['leiden', 'WISP2', 'SLPI', 'APCDD1', 'COL18A1', 'CCL19', 'APOE', \n",
    "                                     'POSTN', 'COL11A1', 'DPEP1'], legend_loc='on data', cmap=magma, use_raw=False)"
   ]
  },
  {
   "cell_type": "code",
   "execution_count": null,
   "metadata": {},
   "outputs": [],
   "source": [
    "sc.tl.rank_genes_groups(adata_sole_old_fb, groupby='leiden', method='wilcoxon')\n",
    "sc.pl.rank_genes_groups_tracksplot(adata_sole_old_fb, dendrogram=False, use_raw=False)"
   ]
  },
  {
   "cell_type": "code",
   "execution_count": null,
   "metadata": {},
   "outputs": [],
   "source": [
    "sc.pl.umap(adata_sole_old_fb, color=['leiden', 'APOE'], legend_loc='on data', cmap=magma, use_raw=False)"
   ]
  },
  {
   "cell_type": "markdown",
   "metadata": {},
   "source": [
    "### Vorstandlechner et al. 2020"
   ]
  },
  {
   "cell_type": "code",
   "execution_count": null,
   "metadata": {},
   "outputs": [],
   "source": [
    "vors_dir = data_dir + '/Vorstandlechner_2020'"
   ]
  },
  {
   "cell_type": "code",
   "execution_count": null,
   "metadata": {},
   "outputs": [],
   "source": [
    "adata_vors = sc.read(vors_dir + '/skin_vorstandlechner.loom', cache=True)"
   ]
  },
  {
   "cell_type": "code",
   "execution_count": null,
   "metadata": {},
   "outputs": [],
   "source": [
    "adata_vors.obsm['tsne']  = adata_vors.obsm['tsne_cell_embeddings'] "
   ]
  },
  {
   "cell_type": "code",
   "execution_count": null,
   "metadata": {},
   "outputs": [],
   "source": [
    "sc.tl.rank_genes_groups(adata_vors, groupby='res_1_2', method='wilcoxon')\n",
    "sc.pl.rank_genes_groups_tracksplot(adata_vors, dendrogram=False, use_raw=False)"
   ]
  },
  {
   "cell_type": "code",
   "execution_count": null,
   "metadata": {},
   "outputs": [],
   "source": [
    "sc.pl.tsne(adata_vors, color=['res_1_2', 'FBLN1', 'PDGFRA', 'LUM', 'DCN', 'COL1A1'], cmap=magma, legend_loc='on data')"
   ]
  },
  {
   "cell_type": "code",
   "execution_count": null,
   "metadata": {},
   "outputs": [],
   "source": [
    "adata_vors_fb = adata_vors[adata_vors.obs['res_1_2'].isin(['0', '5', '6', '11', '12', '14'])]\n",
    "adata_vors_fb_raw = adata_vors_fb.copy()"
   ]
  },
  {
   "cell_type": "code",
   "execution_count": null,
   "metadata": {},
   "outputs": [],
   "source": [
    "sc.pp.filter_genes(adata_vors_fb, min_counts=1)\n",
    "sc.pp.log1p(adata_vors_fb)\n",
    "tk.tl.triku(adata_vors_fb, n_procs=1, random_state=seed)\n",
    "sc.pp.pca(adata_vors_fb, random_state=seed, n_comps=30)\n",
    "sc.pp.neighbors(adata_vors_fb, random_state=seed, knn=len(adata_vors_fb) ** 0.5 // 2, metric='cosine')"
   ]
  },
  {
   "cell_type": "code",
   "execution_count": null,
   "metadata": {},
   "outputs": [],
   "source": [
    "sc.tl.umap(adata_vors_fb, min_dist=0.3, random_state=seed)\n",
    "sc.tl.leiden(adata_vors_fb, resolution=2, random_state=seed)\n",
    "sc.pl.umap(adata_vors_fb, color=['leiden'], legend_loc='on data')"
   ]
  },
  {
   "cell_type": "markdown",
   "metadata": {},
   "source": [
    "#### Labelling Vorstandlechner clusters\n",
    "\n",
    "Since we do not have the original labellings, and most of the clsuters do not have exclusively-expressed genes, we will use some of the most useful markers to map the clusters as originally as possible."
   ]
  },
  {
   "cell_type": "markdown",
   "metadata": {},
   "source": [
    "![](images/FS1.png)"
   ]
  },
  {
   "cell_type": "code",
   "execution_count": null,
   "metadata": {},
   "outputs": [],
   "source": [
    "FB1 = ['SLPI', 'C1QTNF3', 'MFAP5', ]  # 'PI16', 'DCN', 'CTHRC1',  'TSPAN8', 'CD55', 'PCOLCE2', 'SPARC', 'IGFBP6', 'COL1A1', 'COL3A1']\n",
    "FB2 = ['JUN','FOS', 'ADH1B',]  # 'APOE','CXCL12','IGFBP7',,'C7','CCL19','RARRES2','IER2','SOCS3','CD74','IGFBP3']\n",
    "FB3 = ['HSPB3','COL6A5', 'POSTN', 'RGS2',]  # 'GPC3','APOD','APCDD1','F13A1','NKD2','COL18A1', 'TSC22D3','SPRY1','BST2', 'SPARCL1','DDIT4','STMN1','CTGF']\n",
    "FB4 = ['B4GALT1','JUND','HNRNPH1']  # ,'PPP1CB','C1orf56','CTNNB1','SAR1A','PTPRS','TWIST1', 'INSR','C11orf96', 'SET', 'WTAP', 'CRISPLD2']\n",
    "FB5 = ['CCL2',  'DNAJA1', 'IL6', 'H2AFZ', 'GEM', 'CXCL3','CXCL2','SOD2','CXCL1','PLAUR','BIRC3',]\n",
    "FB6 = ['DUSP4', 'PTGS2']  # ,'COMP', 'TNFAIP6', 'NR4A2','CEBPB','TNFAIP3','ARID5A','TGIF1','PTGS2',]"
   ]
  },
  {
   "cell_type": "code",
   "execution_count": null,
   "metadata": {},
   "outputs": [],
   "source": [
    "sc.pl.umap(adata_vors_fb, color=['leiden'] + ['SFRP4', 'APCDD1', 'WIF1', 'WISP2', 'APOE', 'CCL19', 'COCH', 'ANGPTL7', 'TNN', 'APLN'], cmap=magma, legend_loc='on data', use_raw=False)  "
   ]
  },
  {
   "cell_type": "code",
   "execution_count": null,
   "metadata": {},
   "outputs": [],
   "source": [
    "print('FB1')\n",
    "sc.pl.umap(adata_vors_fb, color=['leiden'] + FB1, cmap=magma, legend_loc='on data', use_raw=False)\n",
    "print('FB2')\n",
    "sc.pl.umap(adata_vors_fb, color=['leiden'] + FB2, cmap=magma, legend_loc='on data', use_raw=False)  \n",
    "print('FB3')\n",
    "sc.pl.umap(adata_vors_fb, color=['leiden'] + FB3, cmap=magma, legend_loc='on data', use_raw=False) \n",
    "print('FB4')\n",
    "sc.pl.umap(adata_vors_fb, color=['leiden'] + FB4, cmap=magma, legend_loc='on data', use_raw=False)                      \n",
    "print('FB5')\n",
    "sc.pl.umap(adata_vors_fb, color=['leiden'] + FB5, cmap=magma, legend_loc='on data', use_raw=False)  \n",
    "print('FB6')\n",
    "sc.pl.umap(adata_vors_fb, color=['leiden'] + FB6, cmap=magma, legend_loc='on data', use_raw=False)  "
   ]
  },
  {
   "cell_type": "code",
   "execution_count": null,
   "metadata": {},
   "outputs": [],
   "source": [
    "dict_reverse_mappings = {\n",
    "                 'FB1': ['1', '7', '8', '13', '4'], \n",
    "                 'FB2': ['6', '11'], \n",
    "                 'FB3': ['2', '3', '5', '14', '15', '16'], \n",
    "                 'FB4': ['9', '10'], \n",
    "                 'FB5': ['0', '12'], \n",
    "                 'FB6': ['3']}\n",
    "\n",
    "dict_mappings = {}\n",
    "\n",
    "for key, val in dict_reverse_mappings.items():\n",
    "    for val_i in val:\n",
    "        dict_mappings[val_i] = key"
   ]
  },
  {
   "cell_type": "code",
   "execution_count": null,
   "metadata": {},
   "outputs": [],
   "source": [
    "adata_vors_fb.obs['vors_clusters'] = [dict_mappings[i] for i in adata_vors_fb.obs['leiden']]\n",
    "sc.pl.umap(adata_vors_fb, color=['vors_clusters'], cmap=magma, legend_loc='on data')"
   ]
  },
  {
   "cell_type": "markdown",
   "metadata": {},
   "source": [
    "### He et al. 2020\n",
    "\n",
    "**IMPORTANT: FOR SOME REASON SOME GENE SYMBOLS CHANGE HERE!!!!!!**\n",
    "\n",
    "**WISP2 = CCN5**"
   ]
  },
  {
   "cell_type": "markdown",
   "metadata": {},
   "source": [
    "#### Adata creation and metadata gathering (Control samples)"
   ]
  },
  {
   "cell_type": "code",
   "execution_count": null,
   "metadata": {},
   "outputs": [],
   "source": [
    "adata_he = sc.read_loom(he_dir + '/He2020.loom')\n",
    "adata_he.var_names_make_unique()"
   ]
  },
  {
   "cell_type": "code",
   "execution_count": null,
   "metadata": {},
   "outputs": [],
   "source": [
    "# Replace CCN5 by WISP2 because it is a key gene\n",
    "adata_he.var_names = [dict_rep[i] if i in dict_rep else i for i in adata_he.var_names]"
   ]
  },
  {
   "cell_type": "code",
   "execution_count": null,
   "metadata": {},
   "outputs": [],
   "source": [
    "# Basic QC filtering\n",
    "adata_he.var['mt'] = adata_he.var_names.str.startswith('MT-')  # annotate the group of mitochondrial genes as 'mt'\n",
    "sc.pp.calculate_qc_metrics(adata_he, qc_vars=['mt'], percent_top=None, inplace=True)"
   ]
  },
  {
   "cell_type": "code",
   "execution_count": null,
   "metadata": {},
   "outputs": [],
   "source": [
    "sc.pl.violin(adata_he, ['n_genes_by_counts', 'total_counts', 'pct_counts_mt'],\n",
    "             jitter=0.4, multi_panel=True)\n",
    "\n",
    "sc.pl.scatter(adata_he, x='total_counts', y='pct_counts_mt')\n",
    "sc.pl.scatter(adata_he, x='total_counts', y='n_genes_by_counts')"
   ]
  },
  {
   "cell_type": "code",
   "execution_count": null,
   "metadata": {},
   "outputs": [],
   "source": [
    "adata_he = adata_he[adata_he.obs.n_genes_by_counts < 5000, :]\n",
    "adata_he = adata_he[adata_he.obs.pct_counts_mt < 30, :]"
   ]
  },
  {
   "cell_type": "code",
   "execution_count": null,
   "metadata": {},
   "outputs": [],
   "source": [
    "sc.pp.filter_cells(adata_he, min_genes=250)"
   ]
  },
  {
   "cell_type": "code",
   "execution_count": null,
   "metadata": {},
   "outputs": [],
   "source": [
    "sc.pp.filter_genes(adata_he, min_counts=1)\n",
    "sc.pp.log1p(adata_he)\n",
    "sc.pp.normalize_per_cell(adata_he)\n",
    "tk.tl.triku(adata_he, n_procs=25, random_state=seed)\n",
    "sc.pp.pca(adata_he, random_state=seed, n_comps=30)\n",
    "sc.pp.neighbors(adata_he, random_state=seed, knn=len(adata_he) ** 0.5 // 2, metric='cosine')"
   ]
  },
  {
   "cell_type": "code",
   "execution_count": null,
   "metadata": {},
   "outputs": [],
   "source": [
    "sc.tl.umap(adata_he, min_dist=0.1, random_state=seed)\n",
    "sc.tl.leiden(adata_he, resolution=1, random_state=seed)\n",
    "sc.pl.umap(adata_he, color=['leiden'], legend_loc='on data')"
   ]
  },
  {
   "cell_type": "code",
   "execution_count": null,
   "metadata": {},
   "outputs": [],
   "source": [
    "sc.pl.umap(adata_he, color=['leiden', 'ANGPTL7', 'PDGFRA'], legend_loc='on data', cmap=magma, )"
   ]
  },
  {
   "cell_type": "code",
   "execution_count": null,
   "metadata": {},
   "outputs": [],
   "source": [
    "sc.pl.umap(adata_he, color=['leiden', 'KRT5', 'COL1A1', 'RGS5', 'MLANA', 'VWF', 'S100B', 'NRXN1'], legend_loc='on data', cmap=magma, )"
   ]
  },
  {
   "cell_type": "code",
   "execution_count": null,
   "metadata": {},
   "outputs": [],
   "source": [
    "sc.pl.umap(adata_he, color=['leiden', 'PDGFRA', 'LUM', 'DCN', 'FBLN1', 'COL1A1'], legend_loc='on data', cmap=magma, )"
   ]
  },
  {
   "cell_type": "code",
   "execution_count": null,
   "metadata": {},
   "outputs": [],
   "source": [
    "sc.tl.rank_genes_groups(adata_he, groupby='leiden')\n",
    "sc.pl.rank_genes_groups(adata_he)"
   ]
  },
  {
   "cell_type": "code",
   "execution_count": null,
   "metadata": {},
   "outputs": [],
   "source": [
    "adata_he_fb = adata_he[adata_he.obs['leiden'].isin(['0', '9', '12', '21', '25'])]\n",
    "adata_he_fb_raw = adata_he_fb.copy()\n",
    "adata_he_fb_scvelo = adata_he_fb.copy()"
   ]
  },
  {
   "cell_type": "code",
   "execution_count": null,
   "metadata": {},
   "outputs": [],
   "source": [
    "sc.pp.filter_genes(adata_he_fb, min_counts=1)\n",
    "tk.tl.triku(adata_he_fb, n_procs=1, random_state=seed)\n",
    "sc.pp.pca(adata_he_fb, random_state=seed, n_comps=30)\n",
    "sc.pp.neighbors(adata_he_fb, random_state=seed, knn=len(adata_he_fb) ** 0.5 // 2, metric='cosine')"
   ]
  },
  {
   "cell_type": "code",
   "execution_count": null,
   "metadata": {},
   "outputs": [],
   "source": [
    "sc.tl.umap(adata_he_fb, min_dist=0.1, random_state=seed)\n",
    "sc.tl.leiden(adata_he_fb, resolution=1.5, random_state=seed)\n",
    "sc.pl.umap(adata_he_fb, color=['leiden'], legend_loc='on data')"
   ]
  },
  {
   "cell_type": "markdown",
   "metadata": {},
   "source": [
    "#### Adata creation and metadata gathering (Injury samples)"
   ]
  },
  {
   "cell_type": "code",
   "execution_count": null,
   "metadata": {},
   "outputs": [],
   "source": [
    "adata_he_inj = sc.read_loom(he_dir + '/He2020_inj.loom')\n",
    "adata_he_inj.var_names_make_unique()"
   ]
  },
  {
   "cell_type": "code",
   "execution_count": null,
   "metadata": {},
   "outputs": [],
   "source": [
    "# Basic QC filtering\n",
    "adata_he_inj.var['mt'] = adata_he_inj.var_names.str.startswith('MT-')  # annotate the group of mitochondrial genes as 'mt'\n",
    "sc.pp.calculate_qc_metrics(adata_he_inj, qc_vars=['mt'], percent_top=None, inplace=True)"
   ]
  },
  {
   "cell_type": "code",
   "execution_count": null,
   "metadata": {},
   "outputs": [],
   "source": [
    "sc.pl.violin(adata_he_inj, ['n_genes_by_counts', 'total_counts', 'pct_counts_mt'],\n",
    "             jitter=0.4, multi_panel=True)\n",
    "\n",
    "sc.pl.scatter(adata_he_inj, x='total_counts', y='pct_counts_mt')\n",
    "sc.pl.scatter(adata_he_inj, x='total_counts', y='n_genes_by_counts')"
   ]
  },
  {
   "cell_type": "code",
   "execution_count": null,
   "metadata": {},
   "outputs": [],
   "source": [
    "adata_he_inj = adata_he_inj[adata_he_inj.obs.n_genes_by_counts < 5000, :]\n",
    "adata_he_inj = adata_he_inj[adata_he_inj.obs.pct_counts_mt < 30, :]"
   ]
  },
  {
   "cell_type": "code",
   "execution_count": null,
   "metadata": {},
   "outputs": [],
   "source": [
    "sc.pp.filter_cells(adata_he_inj, min_genes=250)"
   ]
  },
  {
   "cell_type": "code",
   "execution_count": null,
   "metadata": {},
   "outputs": [],
   "source": [
    "sc.pp.filter_genes(adata_he_inj, min_counts=1)\n",
    "sc.pp.log1p(adata_he_inj)\n",
    "sc.pp.normalize_per_cell(adata_he_inj)\n",
    "tk.tl.triku(adata_he_inj, n_procs=1, random_state=seed)\n",
    "sc.pp.pca(adata_he_inj, random_state=seed, n_comps=30)\n",
    "sc.pp.neighbors(adata_he_inj, random_state=seed, knn=len(adata_vors) ** 0.5 // 2, metric='cosine')"
   ]
  },
  {
   "cell_type": "code",
   "execution_count": null,
   "metadata": {},
   "outputs": [],
   "source": [
    "sc.tl.umap(adata_he_inj, min_dist=0.1, random_state=seed)\n",
    "sc.tl.leiden(adata_he_inj, resolution=1, random_state=seed)\n",
    "sc.pl.umap(adata_he_inj, color=['leiden'], legend_loc='on data')"
   ]
  },
  {
   "cell_type": "code",
   "execution_count": null,
   "metadata": {},
   "outputs": [],
   "source": [
    "# Replace CCN5 by WISP2 because it is a key gene\n",
    "adata_he_inj.var_names = [dict_rep[i] if i in dict_rep else i for i in adata_he_inj.var_names]"
   ]
  },
  {
   "cell_type": "code",
   "execution_count": null,
   "metadata": {},
   "outputs": [],
   "source": [
    "sc.pl.umap(adata_he_inj, color=['leiden', 'KRT5', 'COL1A1', 'RGS5', 'MLANA', 'VWF', 'S100B', 'NRXN1'], legend_loc='on data', cmap=magma, )"
   ]
  },
  {
   "cell_type": "code",
   "execution_count": null,
   "metadata": {},
   "outputs": [],
   "source": [
    "sc.pl.umap(adata_he_inj, color=['leiden', 'PDGFRA', 'LUM', 'DCN', 'FBLN1', 'COL1A1'], legend_loc='on data', cmap=magma, )"
   ]
  },
  {
   "cell_type": "code",
   "execution_count": null,
   "metadata": {},
   "outputs": [],
   "source": [
    "sc.tl.rank_genes_groups(adata_he_inj, groupby='leiden')\n",
    "sc.pl.rank_genes_groups(adata_he_inj)"
   ]
  },
  {
   "cell_type": "code",
   "execution_count": null,
   "metadata": {},
   "outputs": [],
   "source": [
    "adata_he_inj_fb = adata_he_inj[adata_he_inj.obs['leiden'].isin(['0', '9', '10', '12', '15'])]"
   ]
  },
  {
   "cell_type": "code",
   "execution_count": null,
   "metadata": {},
   "outputs": [],
   "source": [
    "sc.pp.filter_genes(adata_he_inj_fb, min_counts=1)\n",
    "tk.tl.triku(adata_he_inj_fb, n_procs=1, random_state=seed)\n",
    "sc.pp.pca(adata_he_inj_fb, random_state=seed, n_comps=30)\n",
    "sc.pp.neighbors(adata_he_inj_fb, random_state=seed, knn=len(adata_vors) ** 0.5 // 2, metric='cosine')"
   ]
  },
  {
   "cell_type": "code",
   "execution_count": null,
   "metadata": {},
   "outputs": [],
   "source": [
    "sc.tl.umap(adata_he_inj_fb, min_dist=0.1, random_state=seed)\n",
    "sc.tl.leiden(adata_he_inj_fb, resolution=2, random_state=seed)\n",
    "sc.pl.umap(adata_he_inj_fb, color=['leiden'], legend_loc='on data')"
   ]
  },
  {
   "cell_type": "markdown",
   "metadata": {},
   "source": [
    "### Popescu et al. 2019 (This is not included in the datasets!)\n",
    "\n",
    "This is a LARGE dataset of analysis of skin, liver and kidney, as main organs. They sequence each organ and divide between immune and non-immune populations. In our case, the non-inmune part of skin is not even considered in the paper, so we have a tabula rasa to do any analysis, we do not even need to find any population from the paper, because there are none. "
   ]
  },
  {
   "cell_type": "markdown",
   "metadata": {},
   "source": [
    "#### Raw data and metadata extraction"
   ]
  },
  {
   "cell_type": "code",
   "execution_count": null,
   "metadata": {},
   "outputs": [],
   "source": [
    "popescu_dir = data_dir + '/Popescu_2019'\n",
    "os.makedirs(popescu_dir, exist_ok=True)"
   ]
  },
  {
   "cell_type": "code",
   "execution_count": null,
   "metadata": {},
   "outputs": [],
   "source": [
    "!rm -rf {popescu_dir}"
   ]
  },
  {
   "cell_type": "code",
   "execution_count": null,
   "metadata": {},
   "outputs": [],
   "source": [
    "!wget -P {popescu_dir} https://www.ebi.ac.uk/arrayexpress/files/E-MTAB-7407/E-MTAB-7407.processed.1.zip\n",
    "!wget -P {popescu_dir} https://www.ebi.ac.uk/arrayexpress/files/E-MTAB-7407/E-MTAB-7407.processed.2.zip\n",
    "!wget -P {popescu_dir} https://www.ebi.ac.uk/arrayexpress/files/E-MTAB-7407/E-MTAB-7407.processed.3.zip\n",
    "!wget -P {popescu_dir} https://www.ebi.ac.uk/arrayexpress/files/E-MTAB-7407/E-MTAB-7407.processed.4.zip"
   ]
  },
  {
   "cell_type": "code",
   "execution_count": null,
   "metadata": {},
   "outputs": [],
   "source": [
    "!unzip -o {popescu_dir}/E-MTAB-7407.processed.1.zip -d {popescu_dir} \n",
    "!unzip -o {popescu_dir}/E-MTAB-7407.processed.2.zip -d {popescu_dir}\n",
    "!unzip -o {popescu_dir}/E-MTAB-7407.processed.3.zip -d {popescu_dir} \n",
    "!unzip -o {popescu_dir}/E-MTAB-7407.processed.4.zip -d {popescu_dir} "
   ]
  },
  {
   "cell_type": "markdown",
   "metadata": {},
   "source": [
    "We are going to select samples that belong to skin and that are CD45- (to exclude immune, since fibro populations are CD45-)"
   ]
  },
  {
   "cell_type": "code",
   "execution_count": null,
   "metadata": {},
   "outputs": [],
   "source": [
    "selected_files = ['4834STDY7002880', '4834STDY7038753', 'FCAImmP7241241', 'FCAImmP7316888', 'FCAImmP7316897', 'FCAImmP7352190', 'FCAImmP7352191', \n",
    "                  'FCAImmP7462241']\n",
    "\n",
    "for file in os.listdir(popescu_dir):\n",
    "    exists = False\n",
    "    for f in selected_files:\n",
    "        if f in file:\n",
    "            exists = True\n",
    "    \n",
    "    if not exists:\n",
    "        os.remove(popescu_dir + '/' + file)"
   ]
  },
  {
   "cell_type": "code",
   "execution_count": null,
   "metadata": {},
   "outputs": [],
   "source": [
    "!ls {popescu_dir}"
   ]
  },
  {
   "cell_type": "code",
   "execution_count": null,
   "metadata": {},
   "outputs": [],
   "source": [
    "for file in selected_files:\n",
    "    os.system(f\"tar -zxvf {popescu_dir}/{file}.tar.gz -C {popescu_dir}\")"
   ]
  },
  {
   "cell_type": "markdown",
   "metadata": {},
   "source": [
    "#### Adata creation and metadata gathering"
   ]
  },
  {
   "cell_type": "code",
   "execution_count": null,
   "metadata": {},
   "outputs": [],
   "source": [
    "adata_popescu_4834STDY7002880 = sc.read_10x_mtx(popescu_dir + '/4834STDY7002880/GRCh38')\n",
    "adata_popescu_4834STDY7038753 = sc.read_10x_mtx(popescu_dir + '/4834STDY7038753/GRCh38')\n",
    "adata_popescu_FCAImmP7241241 = sc.read_10x_mtx(popescu_dir + '/FCAImmP7241241/GRCh38')\n",
    "adata_popescu_FCAImmP7316888 = sc.read_10x_mtx(popescu_dir + '/FCAImmP7316888/GRCh38')\n",
    "adata_popescu_FCAImmP7316897 = sc.read_10x_mtx(popescu_dir + '/FCAImmP7316897/GRCh38')\n",
    "adata_popescu_FCAImmP7352190 = sc.read_10x_mtx(popescu_dir + '/FCAImmP7352190/GRCh38')\n",
    "adata_popescu_FCAImmP7352191 = sc.read_10x_mtx(popescu_dir + '/FCAImmP7352191/GRCh38')\n",
    "adata_popescu_FCAImmP7462241 = sc.read_10x_mtx(popescu_dir + '/FCAImmP7462241/GRCh38')"
   ]
  },
  {
   "cell_type": "code",
   "execution_count": null,
   "metadata": {},
   "outputs": [],
   "source": [
    "adata_popescu = sc.AnnData.concatenate(adata_popescu_4834STDY7002880, adata_popescu_4834STDY7038753, adata_popescu_FCAImmP7241241, \n",
    "                                       adata_popescu_FCAImmP7316888, adata_popescu_FCAImmP7316897, adata_popescu_FCAImmP7352190, \n",
    "                                       adata_popescu_FCAImmP7352191, adata_popescu_FCAImmP7462241)"
   ]
  },
  {
   "cell_type": "code",
   "execution_count": null,
   "metadata": {},
   "outputs": [],
   "source": [
    "adata_popescu.raw = adata_popescu"
   ]
  },
  {
   "cell_type": "code",
   "execution_count": null,
   "metadata": {},
   "outputs": [],
   "source": [
    "sc.pp.filter_genes(adata_popescu, min_counts=1)\n",
    "sc.pp.log1p(adata_popescu)\n",
    "tk.tl.triku(adata_popescu, n_procs=1, random_state=seed)\n",
    "sc.pp.pca(adata_popescu, random_state=seed, n_comps=30)\n",
    "sce.pp.bbknn(adata_popescu, metric='angular')"
   ]
  },
  {
   "cell_type": "code",
   "execution_count": null,
   "metadata": {},
   "outputs": [],
   "source": [
    "sc.tl.umap(adata_popescu, min_dist=0.3, random_state=seed)\n",
    "sc.tl.leiden(adata_popescu, resolution=1.5, random_state=seed)\n",
    "sc.pl.umap(adata_popescu, color=['leiden', 'batch'], legend_loc='on data')"
   ]
  },
  {
   "cell_type": "code",
   "execution_count": null,
   "metadata": {},
   "outputs": [],
   "source": [
    "sc.pl.umap(adata_popescu, color=['leiden', 'RGS5', 'MYL9', 'NDUFA4L2', 'NPY', 'CHRNA1', 'S100B', 'MPZ'], legend_loc='on data', cmap=magma, use_raw=False)"
   ]
  },
  {
   "cell_type": "code",
   "execution_count": null,
   "metadata": {},
   "outputs": [],
   "source": [
    "sc.pl.umap(adata_popescu, color=['leiden', 'KRT18', 'KRT5', 'MLANA', 'CLDN5', 'PECAM1'], legend_loc='on data', cmap=magma, use_raw=False)"
   ]
  },
  {
   "cell_type": "code",
   "execution_count": null,
   "metadata": {},
   "outputs": [],
   "source": [
    "sc.pl.umap(adata_popescu, color=['leiden', 'GINS2', 'PCNA', 'MCM3', 'NASP', 'DEK', 'HELLS', 'DUT'], legend_loc='on data', cmap=magma, use_raw=False)"
   ]
  },
  {
   "cell_type": "markdown",
   "metadata": {},
   "source": [
    "We see that clusters in the surroundings (16, 17, 19, 20, 21, 22) barely express LUM or PDGFRA, so they ar not good candidates for being fibroblasts. \n",
    "* 16, 21: Pericytes - MYL9, RGS5, NDUFA4L2\n",
    "* 19 - Neurons (NPY, CHRNA1, CHODL) \n",
    "* 17, 22: Schwann cells (S100B, MPZ) \n",
    "* 20, 21: Keratinocytes (KRT18, KRT5) \n",
    "* 22: Melanocytes (MLANA, TYRP)\n",
    "* 21: Endothelial cells - CLDN5, PECAM1, CDH5 + Keratinocytes\n",
    "\n",
    "Additionally, clusters 3, 11, 12, 18 express genes that are involved in cell cycle:\n",
    "* GINS2 - DNA Replication Complex GINS Protein PSF2\n",
    "* MCM3/5/7 - Minichromosome Maintenance Complex Component: involved in the initiation of eukaryotic genome replication\n",
    "* PCNA - Proliferating Cell Nuclear Antigen: increase the processivity of leading strand synthesis during DNA replication\n",
    "* NASP: encodes a H1 histone binding protein that is involved in transporting histones into the nucleus of dividing cells\n",
    "* DEK: This protein binds to cruciform and superhelical DNA and induces positive supercoils into closed circular DNA\n",
    "* HELLS - Helicase, Lymphoid Specific: DNA strand separation, including replication, repair, recombination, and transcription\n",
    "* DUT: providing a precursor (dUMP) for the synthesis of thymine nucleotides needed for DNA replication.\n",
    "\n",
    "We will remove those clusters from the analysis, because we are focused on populations as similar as the adult populations. Also, cluster 13 is mixed with other fibroblast clusters, so we will include it just in case.\n"
   ]
  },
  {
   "cell_type": "code",
   "execution_count": null,
   "metadata": {
    "scrolled": true
   },
   "outputs": [],
   "source": [
    "sc.tl.rank_genes_groups(adata_popescu, groupby='leiden', method='wilcoxon')\n",
    "sc.pl.rank_genes_groups_tracksplot(adata_popescu, dendrogram=False, n_genes=20, use_raw=False)"
   ]
  },
  {
   "cell_type": "code",
   "execution_count": null,
   "metadata": {},
   "outputs": [],
   "source": [
    "adata_popescu_fb = adata_popescu[adata_popescu.obs['leiden'].isin(['0', '1', '2', '4', '5', '6', '7', '8', '9', '10', '13', '14', '15'])]"
   ]
  },
  {
   "cell_type": "code",
   "execution_count": null,
   "metadata": {},
   "outputs": [],
   "source": [
    "sc.pp.filter_genes(adata_popescu_fb, min_counts=1)\n",
    "sc.pp.pca(adata_popescu_fb, random_state=seed, n_comps=30)\n",
    "sce.pp.bbknn(adata_popescu_fb, metric='angular')\n",
    "tk.tl.triku(adata_popescu_fb, n_procs=1, random_state=seed, use_adata_knn=True)"
   ]
  },
  {
   "cell_type": "code",
   "execution_count": null,
   "metadata": {},
   "outputs": [],
   "source": [
    "sc.tl.umap(adata_popescu_fb, min_dist=0.3, random_state=seed)\n",
    "sc.tl.leiden(adata_popescu_fb, resolution=1.5, random_state=seed)\n",
    "sc.pl.umap(adata_popescu_fb, color=['leiden'], legend_loc='on data')"
   ]
  },
  {
   "cell_type": "markdown",
   "metadata": {},
   "source": [
    "## Getting robust clusters\n",
    "\n",
    "We see that all datasets have similar cell types, but the number of clusters is inconsistent. In this section we are going to do a reclustering of the datasets based on the leiden clustering. To do the reclustering, we will get the DEGs between all small clusters, and we will join two or more clusters if they do not have any distinct DEG. We will repeat the procedure until we find no more clusters without DEGs. We will aim to get between 10 to 15 clusters, although in later steps they might be further down reduced."
   ]
  },
  {
   "cell_type": "markdown",
   "metadata": {},
   "source": [
    "### Tabib et al. 2018"
   ]
  },
  {
   "cell_type": "code",
   "execution_count": null,
   "metadata": {
    "scrolled": true
   },
   "outputs": [],
   "source": [
    "sc.tl.rank_genes_groups(adata_tabib_fb, 'leiden', method='wilcoxon')\n",
    "sc.pl.rank_genes_groups_tracksplot(adata_tabib_fb, dendrogram=False, n_genes=80, use_raw=False)"
   ]
  },
  {
   "cell_type": "code",
   "execution_count": null,
   "metadata": {},
   "outputs": [],
   "source": [
    "sc.tl.rank_genes_groups(adata_tabib_fb, 'leiden', method='wilcoxon')\n",
    "sc.pl.rank_genes_groups_tracksplot(adata_tabib_fb, dendrogram=False, n_genes=15, use_raw=False)"
   ]
  },
  {
   "cell_type": "code",
   "execution_count": null,
   "metadata": {},
   "outputs": [],
   "source": [
    "sc.pl.umap(adata_tabib_fb, color='leiden', legend_loc='on data')"
   ]
  },
  {
   "cell_type": "code",
   "execution_count": null,
   "metadata": {},
   "outputs": [],
   "source": [
    "dict_reverse_mappings = {'T0': ['1', '4'], 'T1': ['3'], 'T2': ['2'], 'T3': ['0', '8', '16'], \n",
    "                         'T4': ['11', '13', '21'], 'T5': ['5', '10'], 'T6': ['7', '17', '14'], 'T7': ['6', '9'], \n",
    "                         'T8': ['12'], 'T9':['15'], 'T10':['18'], 'T11':['19'], 'T12':['20'], 'T13':['22']}\n",
    "\n",
    "dict_mappings = {}\n",
    "\n",
    "for key, val in dict_reverse_mappings.items():\n",
    "    for val_i in val:\n",
    "        dict_mappings[val_i] = key\n",
    "        \n",
    "adata_tabib_fb.obs['robust_clustering_1'] = [dict_mappings[i] for i in adata_tabib_fb.obs['leiden']]\n",
    "sc.pl.umap(adata_tabib_fb, color=['robust_clustering_1'], cmap=magma, legend_loc='on data')"
   ]
  },
  {
   "cell_type": "code",
   "execution_count": null,
   "metadata": {},
   "outputs": [],
   "source": [
    "sc.pl.umap(adata_tabib_fb, color=['robust_clustering_1',  'CCL2', 'GGT5'], cmap=magma, legend_loc='on data', use_raw=False)"
   ]
  },
  {
   "cell_type": "code",
   "execution_count": null,
   "metadata": {},
   "outputs": [],
   "source": [
    "genes = ['GDF10', 'PLA2G2A']\n",
    "sc.pl.umap(adata_tabib_fb, color=['robust_clustering_1'] + genes, cmap=magma, legend_loc='on data', use_raw=False) "
   ]
  },
  {
   "cell_type": "code",
   "execution_count": null,
   "metadata": {},
   "outputs": [],
   "source": [
    "sc.tl.rank_genes_groups(adata_tabib_fb, 'robust_clustering_1', method='wilcoxon')\n",
    "sc.pl.rank_genes_groups(adata_tabib_fb)"
   ]
  },
  {
   "cell_type": "code",
   "execution_count": null,
   "metadata": {
    "scrolled": true
   },
   "outputs": [],
   "source": [
    "sc.tl.rank_genes_groups(adata_tabib_fb, 'robust_clustering_1', method='wilcoxon')\n",
    "sc.pl.rank_genes_groups_tracksplot(adata_tabib_fb, dendrogram=False,  n_genes=60, use_raw=False)"
   ]
  },
  {
   "cell_type": "code",
   "execution_count": null,
   "metadata": {},
   "outputs": [],
   "source": [
    "dict_reverse_mappings = {'A': ['T0', 'T3', 'T6', 'T8', 'T10'], 'B': ['T2', 'T5', 'T7', 'T12'], 'C': ['T1', 'T4', 'T9', 'T11'], 'D': ['T13', 'T12']}\n",
    "\n",
    "dict_mappings = {}\n",
    "\n",
    "for key, val in dict_reverse_mappings.items():\n",
    "    for val_i in val:\n",
    "        dict_mappings[val_i] = key\n",
    "        \n",
    "adata_tabib_fb.obs['axes'] = [dict_mappings[i] for i in adata_tabib_fb.obs['robust_clustering_1']]\n",
    "\n",
    "adata_tabib_fb.uns['axes_colors'] = ['#9a1549', '#00764b', '#002562', '#606060']\n",
    "\n",
    "sc.pl.umap(adata_tabib_fb, color=['axes'], cmap=magma, legend_loc='on data', legend_fontsize=16)"
   ]
  },
  {
   "cell_type": "code",
   "execution_count": null,
   "metadata": {},
   "outputs": [],
   "source": [
    "sc.tl.rank_genes_groups(adata_tabib_fb, 'axes', method='wilcoxon')\n",
    "sc.pl.rank_genes_groups_tracksplot(adata_tabib_fb, dendrogram=False,  n_genes=60, use_raw=False)"
   ]
  },
  {
   "cell_type": "code",
   "execution_count": null,
   "metadata": {},
   "outputs": [],
   "source": [
    "dict_reverse_mappings = {'A1': ['T8', 'T0'], 'A2': ['T3'], 'A3': ['T6'], 'A4': ['T10'], \n",
    "                         'B1': ['T2', 'T5'], 'B2': ['T7'], \n",
    "                         'C1': ['T1'], 'C2': ['T9'], 'C3': ['T4'], 'C4': ['T11'], \n",
    "                         'D1': ['T12'], 'D2': ['T13']}\n",
    "\n",
    "dict_mappings = {}\n",
    "\n",
    "for key, val in dict_reverse_mappings.items():\n",
    "    for val_i in val:\n",
    "        dict_mappings[val_i] = key\n",
    "        \n",
    "adata_tabib_fb.obs['clusters'] = [dict_mappings[i] for i in adata_tabib_fb.obs['robust_clustering_1']]\n",
    "\n",
    "adata_tabib_fb.uns['clusters_colors'] = ['#e14b67', '#d98c58', '#e55e32', '#cd2333', '#009f61', '#54ab4c', \n",
    "                                                    '#008aac', '#006aad', '#2a358c', '#3fb4c1', '#9a9a9a', '#d8d8d8']\n",
    "\n",
    "sc.pl.umap(adata_tabib_fb, color=['clusters'], cmap=magma, legend_loc='on data', legend_fontsize=16)"
   ]
  },
  {
   "cell_type": "code",
   "execution_count": null,
   "metadata": {},
   "outputs": [],
   "source": [
    "sc.tl.rank_genes_groups(adata_tabib_fb, 'clusters', method='wilcoxon')\n",
    "sc.pl.rank_genes_groups_tracksplot(adata_tabib_fb, dendrogram=False,  n_genes=70, use_raw=False)"
   ]
  },
  {
   "cell_type": "markdown",
   "metadata": {},
   "source": [
    "#### Getting DEGs for clusters D1 and D2"
   ]
  },
  {
   "cell_type": "code",
   "execution_count": null,
   "metadata": {},
   "outputs": [],
   "source": [
    "sc.tl.rank_genes_groups(adata_tabib_fb, 'clusters', method='wilcoxon', groups=['D1', 'D2'], reference='rest', n_genes=200)"
   ]
  },
  {
   "cell_type": "code",
   "execution_count": null,
   "metadata": {},
   "outputs": [],
   "source": [
    "sc.pl.umap(adata_tabib_fb, color=['clusters'] + list(adata_tabib_fb.uns['rank_genes_groups']['names']['D1'][:100]), \n",
    "           cmap=magma, legend_loc='on data', use_raw=False) "
   ]
  },
  {
   "cell_type": "code",
   "execution_count": null,
   "metadata": {},
   "outputs": [],
   "source": [
    "sc.pl.umap(adata_tabib_fb, color=['clusters'] + list(adata_tabib_fb.uns['rank_genes_groups']['names']['D1'][100:]), \n",
    "           cmap=magma, legend_loc='on data', use_raw=False) "
   ]
  },
  {
   "cell_type": "code",
   "execution_count": null,
   "metadata": {},
   "outputs": [],
   "source": [
    "sc.pl.umap(adata_tabib_fb, color=['clusters'] + list(adata_tabib_fb.uns['rank_genes_groups']['names']['D2'][100:]), \n",
    "           cmap=magma, legend_loc='on data', use_raw=False) "
   ]
  },
  {
   "cell_type": "code",
   "execution_count": null,
   "metadata": {},
   "outputs": [],
   "source": [
    "sc.pl.umap(adata_tabib_fb, color=['clusters'] + list(adata_tabib_fb.uns['rank_genes_groups']['names']['D2'][:100]), \n",
    "           cmap=magma, legend_loc='on data', use_raw=False) "
   ]
  },
  {
   "cell_type": "markdown",
   "metadata": {},
   "source": [
    "### Philippeos et al. 2018"
   ]
  },
  {
   "cell_type": "code",
   "execution_count": null,
   "metadata": {},
   "outputs": [],
   "source": [
    "sc.pl.umap(adata_phil_fb, color=['leiden', 'MFAP5','ID3', 'POSTN', 'FGF7', 'COL18A1'], cmap=magma, legend_loc='on data', use_raw=False) "
   ]
  },
  {
   "cell_type": "code",
   "execution_count": null,
   "metadata": {
    "scrolled": true
   },
   "outputs": [],
   "source": [
    "sc.tl.rank_genes_groups(adata_phil_fb, 'leiden', method='wilcoxon')\n",
    "sc.pl.rank_genes_groups_tracksplot(adata_phil_fb, dendrogram=False, n_genes=60, use_raw=False)"
   ]
  },
  {
   "cell_type": "markdown",
   "metadata": {},
   "source": [
    "* Clusters 1 and 2 are interesting because they are the common COL18A1 and MFAP5 clusters, which appear in all datasets. \n",
    "* Cluster 0 does not have a clear transcriptomic profile. Based on its DEGs (ID3, MFAP5(lo), PLK2, MEOX2...) it can be the POSTN/ASPN cluster, but I am not sure."
   ]
  },
  {
   "cell_type": "code",
   "execution_count": null,
   "metadata": {},
   "outputs": [],
   "source": [
    "dict_reverse_mappings = {'P0': ['0'], 'P1': ['1'], 'P2': ['2']}\n",
    " \n",
    "dict_mappings = {}\n",
    "\n",
    "for key, val in dict_reverse_mappings.items():\n",
    "    for val_i in val:\n",
    "        dict_mappings[val_i] = key\n",
    "        \n",
    "adata_phil_fb.obs['robust_clustering_1'] = [dict_mappings[i] for i in adata_phil_fb.obs['leiden']]\n",
    "sc.pl.umap(adata_phil_fb, color=['robust_clustering_1'], cmap=magma, legend_loc='on data')"
   ]
  },
  {
   "cell_type": "code",
   "execution_count": null,
   "metadata": {},
   "outputs": [],
   "source": [
    "sc.tl.rank_genes_groups(adata_phil_fb, 'robust_clustering_1', method='wilcoxon')\n",
    "sc.pl.rank_genes_groups_tracksplot(adata_phil_fb, dendrogram=False, n_genes=60, use_raw=False)"
   ]
  },
  {
   "cell_type": "code",
   "execution_count": null,
   "metadata": {},
   "outputs": [],
   "source": [
    "sc.pl.umap(adata_phil_fb, color=['robust_clustering_1', 'ID3', 'CYR61', 'SPARCL1', 'CRABP1', 'FIBIN', 'COCH'], cmap=magma, legend_loc='on data', ncols=5)\n",
    "sc.pl.umap(adata_tabib_fb, color=['robust_clustering_1', 'ID3', 'CYR61', 'SPARCL1'], cmap=magma, legend_loc='on data', ncols=5, use_raw=False)"
   ]
  },
  {
   "cell_type": "code",
   "execution_count": null,
   "metadata": {},
   "outputs": [],
   "source": [
    "fig = sc.pl.umap(adata_phil_fb, color=['robust_clustering_1', \n",
    "                                 'WISP2', 'SLPI', 'PI16', 'SFRP2', 'APCDD1', 'COL18A1', 'RGS3'], \n",
    "           cmap=magma, legend_loc='on data', ncols=4, return_fig=True)\n",
    "\n",
    "plt.tight_layout()\n",
    "plt.savefig('images/philippeos_markers.png', dpi=300)"
   ]
  },
  {
   "cell_type": "markdown",
   "metadata": {},
   "source": [
    "### Solé-Boldo et al. 2020"
   ]
  },
  {
   "cell_type": "code",
   "execution_count": null,
   "metadata": {
    "scrolled": true
   },
   "outputs": [],
   "source": [
    "sc.tl.rank_genes_groups(adata_sole_young_fb, 'leiden', method='wilcoxon')\n",
    "sc.pl.rank_genes_groups_tracksplot(adata_sole_young_fb, dendrogram=False, n_genes=20, use_raw=False)"
   ]
  },
  {
   "cell_type": "code",
   "execution_count": null,
   "metadata": {},
   "outputs": [],
   "source": [
    "dict_reverse_mappings = {'S0': ['5', '7', '9', '17'], \n",
    "                         'S1': ['1', '2', '6'], \n",
    "                         'S2': ['3', '8', '10'], \n",
    "                         'S3': ['0', '12', '14'], 'S4': ['6'], 'S5': ['4', '13', '15'],\n",
    "                         'S6': ['11'], 'S7': ['18'], 'S8': ['16']}\n",
    " \n",
    "dict_mappings = {}\n",
    "\n",
    "for key, val in dict_reverse_mappings.items():\n",
    "    for val_i in val:\n",
    "        dict_mappings[val_i] = key\n",
    "        \n",
    "adata_sole_young_fb.obs['robust_clustering_1'] = [dict_mappings[i] for i in adata_sole_young_fb.obs['leiden']]\n",
    "sc.pl.umap(adata_sole_young_fb, color=['robust_clustering_1'], cmap=magma, legend_loc='on data')"
   ]
  },
  {
   "cell_type": "code",
   "execution_count": null,
   "metadata": {},
   "outputs": [],
   "source": [
    "sc.pl.umap(adata_sole_young_fb, color=['robust_clustering_1', 'APOE', 'C7', 'MEDAG', 'CYGB', 'APOC1', 'CXCL2', 'GPC3'\n",
    "], cmap=magma, legend_loc='on data', use_raw=False) "
   ]
  },
  {
   "cell_type": "code",
   "execution_count": null,
   "metadata": {
    "scrolled": true
   },
   "outputs": [],
   "source": [
    "sc.tl.rank_genes_groups(adata_sole_young_fb, 'robust_clustering_1', method='wilcoxon')\n",
    "sc.pl.rank_genes_groups_tracksplot(adata_sole_young_fb, dendrogram=False, n_genes=70, use_raw=False)"
   ]
  },
  {
   "cell_type": "code",
   "execution_count": null,
   "metadata": {},
   "outputs": [],
   "source": [
    "dict_reverse_mappings = {'A': ['S0', 'S1', 'S4'], \n",
    "                         'B': ['S2', 'S3'], \n",
    "                         'C': ['S5', 'S6', 'S7', 'S8']}\n",
    "\n",
    "dict_mappings = {}\n",
    "\n",
    "for key, val in dict_reverse_mappings.items():\n",
    "    for val_i in val:\n",
    "        dict_mappings[val_i] = key\n",
    "        \n",
    "adata_sole_young_fb.obs['axes'] = [dict_mappings[i] for i in adata_sole_young_fb.obs['robust_clustering_1']]\n",
    "adata_sole_young_fb.uns['axes_colors'] = ['#9a1549', '#00764b', '#002562', '#b21b95']\n",
    "\n",
    "\n",
    "sc.pl.umap(adata_sole_young_fb, color=['axes'], cmap=magma, legend_loc='on data', legend_fontsize=16)"
   ]
  },
  {
   "cell_type": "code",
   "execution_count": null,
   "metadata": {},
   "outputs": [],
   "source": [
    "sc.tl.rank_genes_groups(adata_sole_young_fb, 'axes', method='wilcoxon')\n",
    "sc.pl.rank_genes_groups_tracksplot(adata_sole_young_fb, dendrogram=False,  n_genes=60, use_raw=False)"
   ]
  },
  {
   "cell_type": "code",
   "execution_count": null,
   "metadata": {},
   "outputs": [],
   "source": [
    "dict_reverse_mappings = {'A1': ['S0'], 'A2': ['S1'], 'A3': ['S4'],  \n",
    "                         'B1': ['S3'], 'B2': ['S2'], \n",
    "                         'C1': ['S5'], 'C2': ['S6'], 'C3': ['S7'], 'C4': ['S8'], \n",
    "                         }\n",
    "\n",
    "dict_mappings = {}\n",
    "\n",
    "for key, val in dict_reverse_mappings.items():\n",
    "    for val_i in val:\n",
    "        dict_mappings[val_i] = key\n",
    "        \n",
    "adata_sole_young_fb.obs['clusters'] = [dict_mappings[i] for i in adata_sole_young_fb.obs['robust_clustering_1']]\n",
    "\n",
    "adata_sole_young_fb.uns['clusters_colors'] = ['#e14b67', '#d98c58', '#e55e32', '#009f61', '#54ab4c', \n",
    "                                                    '#008aac', '#006aad', '#2a358c', '#3fb4c1', '#b21b95']\n",
    "\n",
    "sc.pl.umap(adata_sole_young_fb, color=['clusters'], cmap=magma, legend_loc='on data', legend_fontsize=16)"
   ]
  },
  {
   "cell_type": "markdown",
   "metadata": {},
   "source": [
    "### Vorstandlechner et al. 2020"
   ]
  },
  {
   "cell_type": "code",
   "execution_count": null,
   "metadata": {
    "scrolled": true
   },
   "outputs": [],
   "source": [
    "sc.tl.rank_genes_groups(adata_vors_fb, 'leiden', method='wilcoxon')\n",
    "sc.pl.rank_genes_groups_tracksplot(adata_vors_fb, dendrogram=False, n_genes=50, use_raw=False)"
   ]
  },
  {
   "cell_type": "code",
   "execution_count": null,
   "metadata": {},
   "outputs": [],
   "source": [
    "sc.tl.rank_genes_groups(adata_vors_fb, 'leiden', method='wilcoxon')\n",
    "sc.pl.rank_genes_groups_tracksplot(adata_vors_fb, dendrogram=False, n_genes=15, use_raw=False)"
   ]
  },
  {
   "cell_type": "code",
   "execution_count": null,
   "metadata": {},
   "outputs": [],
   "source": [
    "sc.pl.umap(adata_vors_fb, color=['leiden', 'CCL19', 'PLA2G2A'], cmap=magma, legend_loc='on data', use_raw=False) "
   ]
  },
  {
   "cell_type": "code",
   "execution_count": null,
   "metadata": {},
   "outputs": [],
   "source": [
    "sc.pl.umap(adata_vors_fb, color=['leiden'], cmap=magma, legend_loc='on data', use_raw=False) "
   ]
  },
  {
   "cell_type": "code",
   "execution_count": null,
   "metadata": {},
   "outputs": [],
   "source": [
    "dict_reverse_mappings = {'V0': ['1', '4', '7'], 'V1': ['5', '14'], 'V2': ['6'], 'V3': ['0'], \n",
    "                         'V4': ['3', '13'], 'V5': ['12'], 'V6': ['2'], 'V7': ['9', '10'], \n",
    "                         'V8': ['8'], 'V9':['11'], 'V10': ['15'], 'V11': ['16']}\n",
    " \n",
    "dict_mappings = {}\n",
    "\n",
    "for key, val in dict_reverse_mappings.items():\n",
    "    for val_i in val:\n",
    "        dict_mappings[val_i] = key\n",
    "        \n",
    "adata_vors_fb.obs['robust_clustering_1'] = [dict_mappings[i] for i in adata_vors_fb.obs['leiden']]\n",
    "sc.pl.umap(adata_vors_fb, color=['robust_clustering_1'], cmap=magma, legend_loc='on data')"
   ]
  },
  {
   "cell_type": "code",
   "execution_count": null,
   "metadata": {},
   "outputs": [],
   "source": [
    "sc.pl.umap(adata_vors_fb, color=['robust_clustering_1', 'CCL2', 'ITM2A', 'PLA2G2A', 'SOD2'], cmap=magma, legend_loc='on data', legend_fontsize=16)"
   ]
  },
  {
   "cell_type": "code",
   "execution_count": null,
   "metadata": {},
   "outputs": [],
   "source": [
    "sc.pl.umap(adata_vors_fb, color=['robust_clustering_1', 'WIF1', 'PLA2G2A', 'APCDD1'], cmap=magma, legend_loc='on data', use_raw=False) "
   ]
  },
  {
   "cell_type": "code",
   "execution_count": null,
   "metadata": {
    "scrolled": true
   },
   "outputs": [],
   "source": [
    "sc.tl.rank_genes_groups(adata_vors_fb, 'robust_clustering_1', method='wilcoxon')\n",
    "sc.pl.rank_genes_groups_tracksplot(adata_vors_fb, dendrogram=False, n_genes=20, use_raw=False)"
   ]
  },
  {
   "cell_type": "code",
   "execution_count": null,
   "metadata": {},
   "outputs": [],
   "source": [
    "dict_reverse_mappings = {'A': ['V0', 'V1', 'V4', 'V6', 'V8'], 'B': ['V2', 'V3', 'V5', 'V9', 'V10'], 'C': ['V11'], 'F': ['V7']}\n",
    "\n",
    "dict_mappings = {}\n",
    "\n",
    "for key, val in dict_reverse_mappings.items():\n",
    "    for val_i in val:\n",
    "        dict_mappings[val_i] = key\n",
    "        \n",
    "adata_vors_fb.obs['axes'] = [dict_mappings[i] for i in adata_vors_fb.obs['robust_clustering_1']]\n",
    "adata_vors_fb.uns['axes_colors'] = ['#9a1549', '#00764b', '#002562', '#6d6d6d']\n",
    "sc.pl.umap(adata_vors_fb, color=['axes'], cmap=magma, legend_loc='on data', legend_fontsize=16)"
   ]
  },
  {
   "cell_type": "code",
   "execution_count": null,
   "metadata": {},
   "outputs": [],
   "source": [
    "sc.tl.rank_genes_groups(adata_vors_fb, 'axes', method='wilcoxon')\n",
    "sc.pl.rank_genes_groups_tracksplot(adata_vors_fb, dendrogram=False,  n_genes=60, use_raw=False)"
   ]
  },
  {
   "cell_type": "code",
   "execution_count": null,
   "metadata": {},
   "outputs": [],
   "source": [
    "dict_reverse_mappings = {'A1': ['V0'], 'A3': ['V4'], 'A2': ['V1', 'V6'],  'A4': ['V8'],\n",
    "                         'B1': ['V3', 'V5', 'V10'], 'B2': ['V2', 'V9'], \n",
    "                         'C': ['V11'],\n",
    "                         'F': ['V7']}\n",
    "\n",
    "dict_mappings = {}\n",
    "\n",
    "for key, val in dict_reverse_mappings.items():\n",
    "    for val_i in val:\n",
    "        dict_mappings[val_i] = key\n",
    "        \n",
    "adata_vors_fb.obs['clusters'] = [dict_mappings[i] for i in adata_vors_fb.obs['robust_clustering_1']]\n",
    "\n",
    "adata_vors_fb.uns['clusters_colors'] = ['#e14b67', '#d98c58', '#e55e32', '#cd2333', '#009f61', '#54ab4c', \n",
    "                                                    '#002562', '#6d6d6d']\n",
    "\n",
    "sc.pl.umap(adata_vors_fb, color=['clusters'], cmap=magma, legend_loc='on data', legend_fontsize=16)"
   ]
  },
  {
   "cell_type": "markdown",
   "metadata": {},
   "source": [
    "#### Getting DEGs for cluster F"
   ]
  },
  {
   "cell_type": "code",
   "execution_count": null,
   "metadata": {},
   "outputs": [],
   "source": [
    "sc.tl.rank_genes_groups(adata_vors_fb, 'clusters', method='wilcoxon', groups=['F'], reference='rest', n_genes=200)"
   ]
  },
  {
   "cell_type": "code",
   "execution_count": null,
   "metadata": {},
   "outputs": [],
   "source": [
    "sc.pl.umap(adata_vors_fb, color=['clusters'] + list(adata_vors_fb.uns['rank_genes_groups']['names']['F'][:100]), \n",
    "           cmap=magma, legend_loc='on data', use_raw=False) "
   ]
  },
  {
   "cell_type": "markdown",
   "metadata": {},
   "source": [
    "### He et al. 2020"
   ]
  },
  {
   "cell_type": "markdown",
   "metadata": {},
   "source": [
    "#### Colocallization of COL18A1, COL6A5, CCL19"
   ]
  },
  {
   "cell_type": "code",
   "execution_count": null,
   "metadata": {},
   "outputs": [],
   "source": [
    "genes = ['COL18A1', 'COL6A5', 'CCL19']\n",
    "sc.pl.umap(adata_tabib_fb, color=['leiden'] + genes, cmap=magma, legend_loc='on data', use_raw=False) \n",
    "sc.pl.umap(adata_vors_fb, color=['leiden'] + genes, cmap=magma, legend_loc='on data', use_raw=False) \n",
    "sc.pl.umap(adata_sole_young_fb, color=['leiden'] + genes, cmap=magma, legend_loc='on data', use_raw=False) \n",
    "sc.pl.umap(adata_he_fb, color=['leiden'] + genes, cmap=magma, legend_loc='on data', use_raw=False) "
   ]
  },
  {
   "cell_type": "markdown",
   "metadata": {},
   "source": [
    "Interestingly, CCL19 barely colocalizes with COL6A5 in the rest of datasets, but it does in He et al."
   ]
  },
  {
   "cell_type": "code",
   "execution_count": null,
   "metadata": {
    "scrolled": true
   },
   "outputs": [],
   "source": [
    "sc.tl.rank_genes_groups(adata_he_fb, 'leiden', method='wilcoxon')\n",
    "sc.pl.rank_genes_groups_tracksplot(adata_he_fb, dendrogram=False, n_genes=70, use_raw=False)"
   ]
  },
  {
   "cell_type": "code",
   "execution_count": null,
   "metadata": {},
   "outputs": [],
   "source": [
    "sc.pl.umap(adata_he_fb, color=['leiden'] + genes, cmap=magma, legend_loc='on data', use_raw=False) "
   ]
  },
  {
   "cell_type": "code",
   "execution_count": null,
   "metadata": {},
   "outputs": [],
   "source": [
    "sc.pl.umap(adata_he_fb, color=['leiden', 'COL11A1', 'DPEP1', 'STMN1', 'EDNRA'], cmap=magma, legend_loc='on data', use_raw=False, ncols=3) "
   ]
  },
  {
   "cell_type": "code",
   "execution_count": null,
   "metadata": {},
   "outputs": [],
   "source": [
    "sc.pl.umap(adata_he_fb, color=['leiden', 'COCH', 'DPEP1', 'ANGPTL7', 'COL11A1'], cmap=magma, legend_loc='on data', use_raw=False, ncols=3) "
   ]
  },
  {
   "cell_type": "code",
   "execution_count": null,
   "metadata": {},
   "outputs": [],
   "source": [
    "sc.pl.umap(adata_he_fb, color=['leiden', 'ANGPTL7', 'C3', 'ITM2A', 'SFRP2', \n",
    "                               'CCL2', 'CD74', 'CTSH', 'PSME2'], cmap=magma, legend_loc='on data', use_raw=False, ncols=3) "
   ]
  },
  {
   "cell_type": "code",
   "execution_count": null,
   "metadata": {},
   "outputs": [],
   "source": [
    "sc.tl.rank_genes_groups(adata_he_fb, groupby='leiden')\n",
    "sc.pl.rank_genes_groups(adata_he_fb)"
   ]
  },
  {
   "cell_type": "code",
   "execution_count": null,
   "metadata": {},
   "outputs": [],
   "source": [
    "adata_he_fb"
   ]
  },
  {
   "cell_type": "code",
   "execution_count": null,
   "metadata": {},
   "outputs": [],
   "source": [
    "sc.pl.umap(adata_he_fb, color=['leiden'], cmap=magma, legend_loc='on data', use_raw=False, ncols=1)"
   ]
  },
  {
   "cell_type": "code",
   "execution_count": null,
   "metadata": {},
   "outputs": [],
   "source": [
    "dict_reverse_mappings = {'H0': ['1', '7'], 'H1': ['13', '14', '4', '5', '0', '16'], \n",
    "                         'H2': ['8', '9', '11'], 'H3': ['2', '6'], \n",
    "                         'H4': ['3', '10'], 'H5': ['12'], 'H6': ['15'],}\n",
    " \n",
    "dict_mappings = {}\n",
    "\n",
    "for key, val in dict_reverse_mappings.items():\n",
    "    for val_i in val:\n",
    "        dict_mappings[val_i] = key\n",
    "        \n",
    "adata_he_fb.obs['robust_clustering_1'] = [dict_mappings[i] for i in adata_he_fb.obs['leiden']]\n",
    "sc.pl.umap(adata_he_fb, color=['robust_clustering_1'], cmap=magma, legend_loc='on data')"
   ]
  },
  {
   "cell_type": "code",
   "execution_count": null,
   "metadata": {},
   "outputs": [],
   "source": [
    "sc.pl.umap(adata_he_fb, color=['robust_clustering_1', 'AXIN2', 'PTK7'], cmap=magma, legend_loc='on data')"
   ]
  },
  {
   "cell_type": "code",
   "execution_count": null,
   "metadata": {
    "scrolled": true
   },
   "outputs": [],
   "source": [
    "sc.tl.rank_genes_groups(adata_he_fb, 'robust_clustering_1', method='wilcoxon')\n",
    "sc.pl.rank_genes_groups_tracksplot(adata_he_fb, dendrogram=False, n_genes=70, use_raw=False)"
   ]
  },
  {
   "cell_type": "code",
   "execution_count": null,
   "metadata": {},
   "outputs": [],
   "source": [
    "dict_reverse_mappings = {'A': ['H0', 'H1'], 'B': ['H2', 'H3'], 'C': ['H4', 'H6', 'H5']}\n",
    "\n",
    "dict_mappings = {}\n",
    "\n",
    "for key, val in dict_reverse_mappings.items():\n",
    "    for val_i in val:\n",
    "        dict_mappings[val_i] = key\n",
    "        \n",
    "adata_he_fb.obs['axes'] = [dict_mappings[i] for i in adata_he_fb.obs['robust_clustering_1']]\n",
    "adata_he_fb.uns['axes_colors'] = ['#9a1549', '#00764b', '#002562', '#b21b95']\n",
    "\n",
    "sc.pl.umap(adata_he_fb, color=['axes'], cmap=magma, legend_loc='on data', legend_fontsize=16)"
   ]
  },
  {
   "cell_type": "code",
   "execution_count": null,
   "metadata": {},
   "outputs": [],
   "source": [
    "sc.tl.rank_genes_groups(adata_he_fb, 'axes', method='wilcoxon')\n",
    "sc.pl.rank_genes_groups_tracksplot(adata_he_fb, dendrogram=False, n_genes=70, use_raw=False)"
   ]
  },
  {
   "cell_type": "code",
   "execution_count": null,
   "metadata": {},
   "outputs": [],
   "source": [
    "dict_reverse_mappings = {'A': ['H0', 'H1'],\n",
    "                         'B1': ['H3'], 'B2': ['H2'], \n",
    "                         'C1': ['H4'], 'C2': ['H6'], 'C4': ['H5']}\n",
    "\n",
    "dict_mappings = {}\n",
    "\n",
    "for key, val in dict_reverse_mappings.items():\n",
    "    for val_i in val:\n",
    "        dict_mappings[val_i] = key\n",
    "        \n",
    "adata_he_fb.obs['clusters'] = [dict_mappings[i] for i in adata_he_fb.obs['robust_clustering_1']]\n",
    "\n",
    "adata_he_fb.uns['clusters_colors'] = ['#9a1549', '#009f61', '#54ab4c', '#008aac', '#006aad', '#3fb4c1', '#b21b95']\n",
    "\n",
    "sc.pl.umap(adata_he_fb, color=['clusters'], cmap=magma, legend_loc='on data', legend_fontsize=16)"
   ]
  },
  {
   "cell_type": "code",
   "execution_count": null,
   "metadata": {},
   "outputs": [],
   "source": [
    "xx = ['ABCA10', 'ABI3BP', 'APOC1']\n",
    "sc.pl.umap(adata_he_fb, color=['clusters'] + xx, cmap=magma, legend_loc='on data', legend_fontsize=16)\n",
    "sc.pl.umap(adata_tabib_fb, color=['clusters'] + xx, cmap=magma, legend_loc='on data', legend_fontsize=16)"
   ]
  },
  {
   "cell_type": "code",
   "execution_count": null,
   "metadata": {},
   "outputs": [],
   "source": [
    "sc.tl.rank_genes_groups(adata_he_fb, 'clusters', method='wilcoxon')\n",
    "sc.pl.rank_genes_groups_tracksplot(adata_he_fb, dendrogram=False, n_genes=20, use_raw=False)"
   ]
  },
  {
   "cell_type": "markdown",
   "metadata": {},
   "source": [
    "#### Labelling the injured samples\n",
    "\n",
    "Now that we know the markers for each of the populations, we are going to apply this naming convention to the diseased sample."
   ]
  },
  {
   "cell_type": "code",
   "execution_count": null,
   "metadata": {},
   "outputs": [],
   "source": [
    "# A1, A2, A3, A4 markers\n",
    "\n",
    "A_markers = ['SFRP2', 'CTHRC1', 'ELN']\n",
    "A1_markers = ['WISP2', 'PI16', 'SLPI']\n",
    "A2_markers = ['COL18A1', 'COMP', 'NKD2']\n",
    "A3_markers = ['WIF1', 'RGCC', 'CD9']\n",
    "A4_markers = ['IGFBP6', 'SFRP4', 'PCOLCE2']\n",
    "\n",
    "sc.pl.umap(adata_he_inj_fb, color=['leiden'] + A_markers, cmap=magma, legend_loc='on data', use_raw=False, ncols=4) \n",
    "sc.pl.umap(adata_he_inj_fb, color=['leiden'] + A1_markers, cmap=magma, legend_loc='on data', use_raw=False, ncols=4) \n",
    "sc.pl.umap(adata_he_inj_fb, color=['leiden'] + A2_markers, cmap=magma, legend_loc='on data', use_raw=False, ncols=4) \n",
    "sc.pl.umap(adata_he_inj_fb, color=['leiden'] + A3_markers, cmap=magma, legend_loc='on data', use_raw=False, ncols=4) \n",
    "sc.pl.umap(adata_he_inj_fb, color=['leiden'] + A4_markers, cmap=magma, legend_loc='on data', use_raw=False, ncols=4) "
   ]
  },
  {
   "cell_type": "code",
   "execution_count": null,
   "metadata": {},
   "outputs": [],
   "source": [
    "# B markers\n",
    "\n",
    "B_markers = ['APOE', 'IGFBP7', 'C7']\n",
    "B1_markers = ['ITM2A', 'GPC3', 'CCL2']\n",
    "B2_markers = ['CCL19', 'CTSH', 'C3']\n",
    "\n",
    "sc.pl.umap(adata_he_inj_fb, color=['leiden'] + B_markers, cmap=magma, legend_loc='on data', use_raw=False, ncols=4) \n",
    "sc.pl.umap(adata_he_inj_fb, color=['leiden'] + B1_markers, cmap=magma, legend_loc='on data', use_raw=False, ncols=4) \n",
    "sc.pl.umap(adata_he_inj_fb, color=['leiden'] + B2_markers, cmap=magma, legend_loc='on data', use_raw=False, ncols=4) "
   ]
  },
  {
   "cell_type": "code",
   "execution_count": null,
   "metadata": {},
   "outputs": [],
   "source": [
    "# C markers\n",
    "\n",
    "C_markers = ['DKK3', 'TNMD', 'TNN']\n",
    "C1_markers = ['DPEP1', 'COL11A1', 'STMN1']\n",
    "C2_markers = ['COCH', 'HSPA2', 'CRABP1']\n",
    "C3_markers = ['POSTN', 'ASPN', 'GPM6B']\n",
    "C4_markers = ['ANGPTL7', 'APOD', 'TENM2']\n",
    "\n",
    "sc.pl.umap(adata_he_inj_fb, color=['leiden'] + C_markers, cmap=magma, legend_loc='on data', use_raw=False, ncols=4) \n",
    "sc.pl.umap(adata_he_inj_fb, color=['leiden'] + C1_markers, cmap=magma, legend_loc='on data', use_raw=False, ncols=4) \n",
    "sc.pl.umap(adata_he_inj_fb, color=['leiden'] + C2_markers, cmap=magma, legend_loc='on data', use_raw=False, ncols=4) \n",
    "sc.pl.umap(adata_he_inj_fb, color=['leiden'] + C3_markers, cmap=magma, legend_loc='on data', use_raw=False, ncols=4) \n",
    "sc.pl.umap(adata_tabib_fb, color=['leiden'] + C3_markers, cmap=magma, legend_loc='on data', use_raw=False, ncols=4) \n",
    "sc.pl.umap(adata_he_inj_fb, color=['leiden'] + C4_markers, cmap=magma, legend_loc='on data', use_raw=False, ncols=4) "
   ]
  },
  {
   "cell_type": "markdown",
   "metadata": {},
   "source": [
    "The cluster B1 can in reality be subdivided in two groups (based similar to Tabib): the clusters 0/10 are more GPC3/MGST1-like, while clusters 1/2/3/17 are more C7-like"
   ]
  },
  {
   "cell_type": "code",
   "execution_count": null,
   "metadata": {},
   "outputs": [],
   "source": [
    "markers = ['GPC3', 'MGST1', 'C7']\n",
    "sc.pl.umap(adata_he_inj_fb, color=['leiden'] + markers, cmap=magma, legend_loc='on data', use_raw=False, ncols=4) \n",
    "sc.pl.umap(adata_tabib_fb, color=['leiden'] + markers, cmap=magma, legend_loc='on data', use_raw=False, ncols=4) "
   ]
  },
  {
   "cell_type": "code",
   "execution_count": null,
   "metadata": {},
   "outputs": [],
   "source": [
    "dict_reverse_mappings = {'A': ['5', '11', '15', '13', '6', '7', '4', '8', '14'], \n",
    "                         'B': ['0', '10', '1', '2', '3', '17', '9', '12'], 'C': ['16']}\n",
    "\n",
    "dict_mappings = {}\n",
    "\n",
    "for key, val in dict_reverse_mappings.items():\n",
    "    for val_i in val:\n",
    "        dict_mappings[val_i] = key\n",
    "        \n",
    "adata_he_inj_fb.obs['axes'] = [dict_mappings[i] for i in adata_he_inj_fb.obs['leiden']]\n",
    "adata_he_inj_fb.uns['axes_colors'] = ['#9a1549', '#00764b', '#002562']\n",
    "\n",
    "sc.pl.umap(adata_he_inj_fb, color=['axes'], cmap=magma, legend_loc='on data', legend_fontsize=16)\n",
    "\n",
    "\n",
    "\n",
    "\n",
    "dict_reverse_mappings = {'A1': ['6', '7', '13', '15', '5'], 'A2': ['4'], 'A3': ['8', '14'], 'A4': ['11'], \n",
    "                         'B1': ['0', '10', '1', '2', '3', '17'], 'B2': ['9', '12'], \n",
    "                         'C1': [], 'C2': [], 'C3': [], 'C4': ['16']}\n",
    "\n",
    "dict_mappings = {}\n",
    "\n",
    "for key, val in dict_reverse_mappings.items():\n",
    "    for val_i in val:\n",
    "        dict_mappings[val_i] = key\n",
    "        \n",
    "adata_he_inj_fb.obs['clusters'] = [dict_mappings[i] for i in adata_he_inj_fb.obs['leiden']]\n",
    "\n",
    "adata_he_inj_fb.uns['clusters_colors'] = ['#e14b67', '#d98c58', '#e55e32', '#cd2333', '#009f61', '#54ab4c', \n",
    "                                                    '#008aac', '#006aad', '#2a358c', '#3fb4c1']\n",
    "\n",
    "sc.pl.umap(adata_he_inj_fb, color=['clusters'], cmap=magma, legend_loc='on data', legend_fontsize=16)"
   ]
  },
  {
   "cell_type": "code",
   "execution_count": null,
   "metadata": {},
   "outputs": [],
   "source": [
    "sc.pl.umap(adata_he_inj_fb, color=['clusters', 'COL18A1', 'WIF1', 'SLPI', 'SFRP4'], cmap=magma, legend_loc='on data', legend_fontsize=16, ncols=5)\n",
    "sc.pl.umap(adata_he_fb, color=['clusters', 'COL18A1', 'WIF1', 'SLPI', 'SFRP4'], cmap=magma, legend_loc='on data', legend_fontsize=16, ncols=5)"
   ]
  },
  {
   "cell_type": "markdown",
   "metadata": {},
   "source": [
    "# Integration of datasets\n",
    "In this section we are going to integrate the different datasets into one to perform the reclustering and see how our populations are merged. Due to quality of the data He dataset will be included and excluded, to see differences in integration."
   ]
  },
  {
   "cell_type": "code",
   "execution_count": null,
   "metadata": {},
   "outputs": [],
   "source": [
    "for adata, adata_raw in zip([adata_tabib_fb, adata_sole_young_fb, adata_vors_fb, adata_he_fb], \n",
    "                            [adata_tabib_fb_raw, adata_sole_young_fb_raw, adata_vors_fb_raw, adata_he_fb_raw]):\n",
    "    adata_raw.obs['axes'] = adata.obs['axes']\n",
    "    adata_raw.obs['clusters'] = adata.obs['clusters']\n",
    "    adata_raw.obs = adata_raw.obs[['axes', 'clusters']].astype(str)\n",
    "    \n",
    "    # Adata He and SB are already log transformed because they need to be so during the first steps of the \n",
    "    # preprocessing. to keep the same log status we will apply the log transform now and not later.\n",
    "    if 'log1p' not in adata_raw.uns:\n",
    "        sc.pp.log1p(adata_raw)\n"
   ]
  },
  {
   "cell_type": "markdown",
   "metadata": {},
   "source": [
    "We will create a function to evaluate simply the goodness of the batch effect correction using the entropy. The function will plot, for each leiden cluster (the number of cluster may vary, but will be generally low), the proportion of each dataset, and will also calculate the entropy to have a numeric measure of the \"goodness\" of the integration. We will use the normalized entropy, that is, the entropy divided by the maximum entropy (log(n_datasets)), to adjust for the number of datasets in the adata."
   ]
  },
  {
   "cell_type": "code",
   "execution_count": null,
   "metadata": {},
   "outputs": [],
   "source": [
    "def plot_entropy(adata, column='leiden', column_ref='dataset', list_colors = ['#94346e', '#e17c05', '#0F8554', '#1D6996'] * 10):\n",
    "    fig, axs = plt.subplots(1, 2, figsize=(15, 5))\n",
    "    \n",
    "    clusters = sorted(list(set(adata.obs[column])))\n",
    "    n_clusters = len(clusters)\n",
    "    datasets = sorted(list(set(adata.obs[column_ref].values)))\n",
    "    \n",
    "    entropies = []\n",
    "    max_entropy_vec = np.array([len(adata[adata.obs[column_ref] == d]) for d in datasets])/len(adata)\n",
    "    max_entropy = -np.sum(max_entropy_vec * np.log(max_entropy_vec))\n",
    "    print(max_entropy)\n",
    "    \n",
    "    for cluster_idx, cluster in enumerate(clusters):\n",
    "        labels = adata[adata.obs[column] == str(cluster)].obs[column_ref].values\n",
    "        \n",
    "        props = np.zeros(len(datasets))\n",
    "        \n",
    "        for dataset_idx, dataset in enumerate(datasets):\n",
    "            props[dataset_idx] = np.sum(labels == dataset)/len(labels)\n",
    "            \n",
    "            axs[0].bar(cluster_idx, props[dataset_idx], bottom = np.sum(props[:dataset_idx]), \n",
    "                       label=dataset, color=list_colors[dataset_idx])    \n",
    "        \n",
    "        props = props[props > 0]\n",
    "        entropy = -np.sum(props * np.log(props))/max_entropy\n",
    "        entropies.append(entropy)\n",
    "        \n",
    "        axs[1].scatter(cluster, entropy, c='#808080')\n",
    "            \n",
    "    axs[1].set_ylim([0, 1])\n",
    "    axs[1].plot([0, n_clusters], [np.mean(entropies), np.mean(entropies)], c='#007ab7')\n",
    "    \n",
    "    handles, labels = axs[0].get_legend_handles_labels()\n",
    "    axs[0].legend(handles[:len(datasets)], labels[:len(datasets)], bbox_to_anchor=[-0.2, 1])\n",
    "    \n",
    "    for ax in axs:\n",
    "        ax.set_xticks(range(n_clusters))\n",
    "        ax.set_xticklabels(clusters)\n",
    "                      \n",
    "    plt.show()"
   ]
  },
  {
   "cell_type": "markdown",
   "metadata": {},
   "source": [
    "## Adata raw concatenation"
   ]
  },
  {
   "cell_type": "markdown",
   "metadata": {},
   "source": [
    "### With H dataset"
   ]
  },
  {
   "cell_type": "code",
   "execution_count": null,
   "metadata": {},
   "outputs": [],
   "source": [
    "adata_concat_raw = sc.AnnData.concatenate(adata_tabib_fb_raw, adata_sole_young_fb_raw, \n",
    "                                                 adata_vors_fb_raw, adata_he_fb_raw,\n",
    "                                            batch_key='dataset', batch_categories=['T', 'S', 'V', 'H'])\n",
    "sc.pp.filter_genes(adata_concat_raw, min_cells=10)\n",
    "\n",
    "adata_concat_raw.uns['dataset_colors'] = ['#94346e', '#e17c05', '#0F8554', '#1D6996']\n",
    "\n",
    "\n",
    "adata_concat_raw.uns['clusters_colors'] = ['#9a1549','#e14b67', '#d98c58', '#e55e32', '#cd2333', '#009f61', '#54ab4c', \n",
    "            '#002562', '#008aac', '#006aad', '#2a358c', '#3fb4c1', '#9a9a9a', '#d8d8d8', '#6d6d6d']"
   ]
  },
  {
   "cell_type": "code",
   "execution_count": null,
   "metadata": {},
   "outputs": [],
   "source": [
    "adata_concat_raw.obs['logcounts'] = np.log10(adata_concat_raw.X.sum(1))"
   ]
  },
  {
   "cell_type": "code",
   "execution_count": null,
   "metadata": {},
   "outputs": [],
   "source": [
    "sc.pp.normalize_total(adata_concat_raw)"
   ]
  },
  {
   "cell_type": "code",
   "execution_count": null,
   "metadata": {},
   "outputs": [],
   "source": [
    "adata_concat_raw.obs['logcounts_norm'] = np.log10(adata_concat_raw.X.sum(1))"
   ]
  },
  {
   "cell_type": "code",
   "execution_count": null,
   "metadata": {},
   "outputs": [],
   "source": [
    "sc.pp.pca(adata_concat_raw, random_state=seed, n_comps=30)\n",
    "tk.tl.triku(adata_concat_raw, n_procs=1, random_state=seed, use_adata_knn=True)\n",
    "sc.pp.neighbors(adata_concat_raw, random_state=seed, metric='cosine', knn=len(adata_concat_raw) ** 0.5 // 2)"
   ]
  },
  {
   "cell_type": "code",
   "execution_count": null,
   "metadata": {},
   "outputs": [],
   "source": [
    "sc.tl.umap(adata_concat_raw, min_dist=0.03, random_state=seed)\n",
    "sc.tl.leiden(adata_concat_raw, resolution=1, random_state=seed)\n",
    "sc.pl.umap(adata_concat_raw, color=['dataset', 'leiden', 'axes', 'clusters', 'logcounts', 'logcounts_norm'], ncols=2)"
   ]
  },
  {
   "cell_type": "code",
   "execution_count": null,
   "metadata": {},
   "outputs": [],
   "source": [
    "plot_entropy(adata_concat_raw, 'leiden', 'dataset')"
   ]
  },
  {
   "cell_type": "code",
   "execution_count": null,
   "metadata": {},
   "outputs": [],
   "source": [
    "plot_entropy(adata_concat_raw, 'leiden', 'clusters', list_colors = \n",
    "            ['#9a1549','#e14b67', '#d98c58', '#e55e32', '#cd2333', '#009f61', '#54ab4c', \n",
    "            '#002562', '#008aac', '#006aad', '#2a358c', '#3fb4c1', '#9a9a9a', '#d8d8d8', '#6d6d6d'])"
   ]
  },
  {
   "cell_type": "markdown",
   "metadata": {},
   "source": [
    "### Without H dataset"
   ]
  },
  {
   "cell_type": "code",
   "execution_count": null,
   "metadata": {},
   "outputs": [],
   "source": [
    "adata_concat_raw = sc.AnnData.concatenate(adata_tabib_fb_raw, adata_sole_young_fb_raw, \n",
    "                                                 adata_vors_fb_raw, \n",
    "                                            batch_key='dataset', batch_categories=['T', 'S', 'V'])\n",
    "sc.pp.filter_genes(adata_concat_raw, min_cells=10)\n",
    "\n",
    "adata_concat_raw.uns['dataset_colors'] = ['#94346e', '#e17c05', '#0F8554']\n",
    "\n",
    "\n",
    "adata_concat_raw.uns['clusters_colors'] = ['#9a1549','#e14b67', '#d98c58', '#e55e32', '#cd2333', '#009f61', '#54ab4c', \n",
    "            '#002562', '#008aac', '#006aad', '#2a358c', '#3fb4c1', '#9a9a9a', '#d8d8d8', '#6d6d6d']"
   ]
  },
  {
   "cell_type": "code",
   "execution_count": null,
   "metadata": {},
   "outputs": [],
   "source": [
    "adata_concat_raw.obs['logcounts'] = np.log10(adata_concat_raw.X.sum(1))"
   ]
  },
  {
   "cell_type": "code",
   "execution_count": null,
   "metadata": {},
   "outputs": [],
   "source": [
    "sc.pp.normalize_total(adata_concat_raw)"
   ]
  },
  {
   "cell_type": "code",
   "execution_count": null,
   "metadata": {},
   "outputs": [],
   "source": [
    "adata_concat_raw.obs['logcounts_norm'] = np.log10(adata_concat_raw.X.sum(1))"
   ]
  },
  {
   "cell_type": "code",
   "execution_count": null,
   "metadata": {},
   "outputs": [],
   "source": [
    "sc.pp.pca(adata_concat_raw, random_state=seed, n_comps=30)\n",
    "tk.tl.triku(adata_concat_raw, n_procs=1, random_state=seed, use_adata_knn=True)\n",
    "sc.pp.neighbors(adata_concat_raw, random_state=seed, metric='cosine', knn=len(adata_concat_raw) ** 0.5 // 2)"
   ]
  },
  {
   "cell_type": "code",
   "execution_count": null,
   "metadata": {},
   "outputs": [],
   "source": [
    "sc.tl.umap(adata_concat_raw, min_dist=0.03, random_state=seed)\n",
    "sc.tl.leiden(adata_concat_raw, resolution=0.8, random_state=seed)\n",
    "sc.pl.umap(adata_concat_raw, color=['dataset', 'leiden', 'axes', 'clusters', 'logcounts', 'logcounts_norm'], ncols=2)"
   ]
  },
  {
   "cell_type": "code",
   "execution_count": null,
   "metadata": {},
   "outputs": [],
   "source": [
    "plot_entropy(adata_concat_raw, 'leiden', 'dataset')"
   ]
  },
  {
   "cell_type": "code",
   "execution_count": null,
   "metadata": {},
   "outputs": [],
   "source": [
    "plot_entropy(adata_concat_raw, 'leiden', 'clusters', list_colors = \n",
    "            ['#9a1549','#e14b67', '#d98c58', '#e55e32', '#cd2333', '#009f61', '#54ab4c', \n",
    "            '#002562', '#008aac', '#006aad', '#2a358c', '#3fb4c1', '#9a9a9a', '#d8d8d8', '#6d6d6d'])"
   ]
  },
  {
   "cell_type": "markdown",
   "metadata": {},
   "source": [
    "## bbknn"
   ]
  },
  {
   "cell_type": "markdown",
   "metadata": {},
   "source": [
    "### BBKNN on dataset with H dataset"
   ]
  },
  {
   "cell_type": "code",
   "execution_count": null,
   "metadata": {},
   "outputs": [],
   "source": [
    "adata_concat_raw = sc.AnnData.concatenate(adata_tabib_fb_raw, adata_sole_young_fb_raw, \n",
    "                                                 adata_vors_fb_raw, adata_he_fb_raw,\n",
    "                                            batch_key='dataset', batch_categories=['T', 'S', 'V', 'H'])\n",
    "sc.pp.filter_genes(adata_concat_raw, min_cells=10)\n",
    "\n",
    "adata_concat_raw.uns['clusters_colors'] = ['#9a1549','#e14b67', '#d98c58', '#e55e32', '#cd2333', '#009f61', '#54ab4c', \n",
    "            '#002562', '#008aac', '#006aad', '#2a358c', '#3fb4c1', '#9a9a9a', '#d8d8d8', '#6d6d6d']"
   ]
  },
  {
   "cell_type": "code",
   "execution_count": null,
   "metadata": {},
   "outputs": [],
   "source": [
    "sc.pp.normalize_total(adata_concat_raw)"
   ]
  },
  {
   "cell_type": "code",
   "execution_count": null,
   "metadata": {},
   "outputs": [],
   "source": [
    "sc.pp.pca(adata_concat_raw, random_state=seed, n_comps=30)\n",
    "sce.pp.bbknn(adata_concat_raw, approx=False, batch_key='dataset')\n",
    "tk.tl.triku(adata_concat_raw, n_procs=1, random_state=seed, use_adata_knn=True)"
   ]
  },
  {
   "cell_type": "code",
   "execution_count": null,
   "metadata": {},
   "outputs": [],
   "source": [
    "sc.tl.umap(adata_concat_raw, min_dist=0.03, random_state=seed)\n",
    "sc.tl.leiden(adata_concat_raw, resolution=0.8, random_state=seed)\n",
    "sc.pl.umap(adata_concat_raw, color=['dataset', 'leiden', 'axes', 'clusters'], ncols=2)"
   ]
  },
  {
   "cell_type": "code",
   "execution_count": null,
   "metadata": {},
   "outputs": [],
   "source": [
    "plot_entropy(adata_concat_raw, 'leiden', 'dataset')"
   ]
  },
  {
   "cell_type": "code",
   "execution_count": null,
   "metadata": {
    "scrolled": true
   },
   "outputs": [],
   "source": [
    "plot_entropy(adata_concat_raw, 'leiden', 'clusters', list_colors = \n",
    "            ['#9a1549','#e14b67', '#d98c58', '#e55e32', '#cd2333', '#009f61', '#54ab4c', \n",
    "            '#002562', '#008aac', '#006aad', '#2a358c', '#3fb4c1', '#9a9a9a', '#d8d8d8', '#6d6d6d'])"
   ]
  },
  {
   "cell_type": "code",
   "execution_count": null,
   "metadata": {},
   "outputs": [],
   "source": [
    "sc.tl.rank_genes_groups(adata_concat_raw, groupby='leiden', method='wilcoxon')\n",
    "sc.pl.rank_genes_groups_tracksplot(adata_concat_raw, dendrogram=False, n_genes=40)"
   ]
  },
  {
   "cell_type": "markdown",
   "metadata": {},
   "source": [
    "### BBKNN on dataset without H dataset"
   ]
  },
  {
   "cell_type": "code",
   "execution_count": null,
   "metadata": {},
   "outputs": [],
   "source": [
    "adata_concat_not_he_raw = sc.AnnData.concatenate(adata_sole_young_fb_raw, adata_tabib_fb_raw,\n",
    "                                                 adata_vors_fb_raw,\n",
    "                                            batch_key='dataset', batch_categories=['S', 'T', 'V'])\n",
    "sc.pp.filter_genes(adata_concat_not_he_raw, min_cells=10)\n",
    "\n",
    "adata_concat_not_he_raw.uns['dataset_colors'] = ['#94346e', '#e17c05', '#0F8554']\n",
    "adata_concat_not_he_raw.uns['clusters_colors'] = ['#e14b67', '#d98c58', '#e55e32', '#cd2333', '#009f61', '#54ab4c', \n",
    "            '#002562', '#008aac', '#006aad', '#2a358c', '#3fb4c1', '#9a9a9a', '#d8d8d8', '#6d6d6d']"
   ]
  },
  {
   "cell_type": "code",
   "execution_count": null,
   "metadata": {},
   "outputs": [],
   "source": [
    "sc.pp.normalize_total(adata_concat_not_he_raw)"
   ]
  },
  {
   "cell_type": "code",
   "execution_count": null,
   "metadata": {},
   "outputs": [],
   "source": [
    "sc.pp.pca(adata_concat_not_he_raw, random_state=seed, n_comps=30)\n",
    "sce.pp.bbknn(adata_concat_not_he_raw, approx=False, batch_key='dataset')\n",
    "tk.tl.triku(adata_concat_not_he_raw, n_procs=1, random_state=seed, use_adata_knn=True)"
   ]
  },
  {
   "cell_type": "code",
   "execution_count": null,
   "metadata": {},
   "outputs": [],
   "source": [
    "sc.tl.umap(adata_concat_not_he_raw, min_dist=0.03, random_state=seed)\n",
    "sc.tl.leiden(adata_concat_not_he_raw, resolution=0.8, random_state=seed)\n",
    "sc.pl.umap(adata_concat_not_he_raw, color=['dataset', 'leiden', 'axes', 'clusters'], ncols=2)"
   ]
  },
  {
   "cell_type": "code",
   "execution_count": null,
   "metadata": {
    "scrolled": true
   },
   "outputs": [],
   "source": [
    "plot_entropy(adata_concat_not_he_raw, 'leiden', 'dataset')"
   ]
  },
  {
   "cell_type": "code",
   "execution_count": null,
   "metadata": {
    "scrolled": true
   },
   "outputs": [],
   "source": [
    "plot_entropy(adata_concat_not_he_raw, 'leiden', 'clusters', list_colors = \n",
    "            ['#e14b67', '#d98c58', '#e55e32', '#cd2333', '#009f61', '#54ab4c', \n",
    "            '#002562', '#008aac', '#006aad', '#2a358c', '#3fb4c1', '#9a9a9a', '#d8d8d8', '#6d6d6d'])"
   ]
  },
  {
   "cell_type": "markdown",
   "metadata": {},
   "source": [
    "#### DEG and marker analysis "
   ]
  },
  {
   "cell_type": "code",
   "execution_count": null,
   "metadata": {
    "scrolled": true
   },
   "outputs": [],
   "source": [
    "# A AXIS\n",
    "sc.pl.umap(adata_concat_not_he_raw, color=['dataset', 'clusters', 'leiden', \n",
    "                                           'SLPI', 'PI16', 'WISP2', \n",
    "                                           'APCDD1', 'COL18A1', 'COMP', \n",
    "                                           'WIF1', 'RGCC', 'SGCA', \n",
    "                                          ], ncols=3, cmap=magma)"
   ]
  },
  {
   "cell_type": "code",
   "execution_count": null,
   "metadata": {},
   "outputs": [],
   "source": [
    "# B AXIS\n",
    "sc.pl.umap(adata_concat_not_he_raw, color=['dataset', 'clusters', 'leiden', \n",
    "                                           'APOE', 'C7', 'IGFBP7',\n",
    "                                           'CCL2', 'ITM2A', 'SOD2',\n",
    "                                           'CCL19', 'RBP5', 'CTSH'\n",
    "                                          ], ncols=3, cmap=magma)"
   ]
  },
  {
   "cell_type": "code",
   "execution_count": null,
   "metadata": {},
   "outputs": [],
   "source": [
    "# C AXIS\n",
    "sc.pl.umap(adata_concat_not_he_raw, color=['dataset', 'clusters', 'leiden', \n",
    "                                           'COL11A1', 'DPEP1', 'WFDC1', \n",
    "                                           'COCH', 'CRABP1', 'RSPO4', \n",
    "                                            'ANGPTL7', 'TM4SF1', 'APOD', \n",
    "                                          ], ncols=3, cmap=magma)"
   ]
  },
  {
   "cell_type": "code",
   "execution_count": null,
   "metadata": {},
   "outputs": [],
   "source": [
    "sc.tl.rank_genes_groups(adata_concat_not_he_raw, groupby='clusters', method='wilcoxon')\n",
    "sc.pl.rank_genes_groups_tracksplot(adata_concat_not_he_raw, dendrogram=False, n_genes=130)"
   ]
  },
  {
   "cell_type": "code",
   "execution_count": null,
   "metadata": {},
   "outputs": [],
   "source": [
    "genes = ['DPEP1', 'TNMD', 'COL11A1', 'MEF2C', 'WFDC1']\n",
    "\n",
    "sc.pl.umap(adata_tabib_fb, color=['clusters'] + genes, ncols=3, cmap=magma)\n",
    "sc.pl.umap(adata_sole_young_fb, color=['clusters'] + genes, ncols=3, cmap=magma)\n",
    "sc.pl.umap(adata_vors_fb, color=['clusters'] + genes, ncols=3, cmap=magma)"
   ]
  },
  {
   "cell_type": "code",
   "execution_count": null,
   "metadata": {},
   "outputs": [],
   "source": [
    "sc.pl.umap(adata_concat_not_he_raw, color=['clusters', 'leiden', 'dataset'] + genes,\n",
    "           ncols=3, cmap=magma)"
   ]
  },
  {
   "cell_type": "code",
   "execution_count": null,
   "metadata": {},
   "outputs": [],
   "source": [
    "sc.tl.rank_genes_groups(adata_concat_not_he_raw, groupby='leiden', method='wilcoxon')\n",
    "sc.pl.rank_genes_groups_tracksplot(adata_concat_not_he_raw, dendrogram=False, n_genes=150)"
   ]
  },
  {
   "cell_type": "markdown",
   "metadata": {},
   "source": [
    "## Harmony"
   ]
  },
  {
   "cell_type": "markdown",
   "metadata": {},
   "source": [
    "### Harmony on dataset with H dataset"
   ]
  },
  {
   "cell_type": "code",
   "execution_count": null,
   "metadata": {},
   "outputs": [],
   "source": [
    "adata_concat_raw = sc.AnnData.concatenate(adata_he_fb_raw, adata_sole_young_fb_raw, adata_tabib_fb_raw,\n",
    "                                                 adata_vors_fb_raw,\n",
    "                                            batch_key='dataset', batch_categories=['H', 'S', 'T', 'V', ])\n",
    "sc.pp.filter_genes(adata_concat_raw, min_cells=10)\n",
    "\n",
    "adata_concat_raw.uns['dataset_colors'] = ['#94346e', '#e17c05', '#0F8554', '#1D6996']\n",
    "adata_concat_raw.uns['clusters_colors'] = ['#9a1549','#e14b67', '#d98c58', '#e55e32', '#cd2333', '#009f61', '#54ab4c', \n",
    "            '#002562', '#008aac', '#006aad', '#2a358c', '#3fb4c1', '#9a9a9a', '#d8d8d8', '#6d6d6d']"
   ]
  },
  {
   "cell_type": "code",
   "execution_count": null,
   "metadata": {},
   "outputs": [],
   "source": [
    "sc.pp.normalize_total(adata_concat_raw)"
   ]
  },
  {
   "cell_type": "code",
   "execution_count": null,
   "metadata": {},
   "outputs": [],
   "source": [
    "sc.pp.pca(adata_concat_raw, random_state=seed, n_comps=30)\n",
    "sce.pp.harmony_integrate(adata_concat_raw, 'dataset', epsilon_harmony = 1e-7)\n",
    "sc.pp.neighbors(adata_concat_raw, random_state=seed, use_rep='X_pca_harmony', \n",
    "                metric='cosine', knn=len(adata_concat_raw) ** 0.5 // 2)\n",
    "tk.tl.triku(adata_concat_raw, n_procs=1, random_state=seed, use_adata_knn=True)"
   ]
  },
  {
   "cell_type": "code",
   "execution_count": null,
   "metadata": {
    "scrolled": true
   },
   "outputs": [],
   "source": [
    "sc.tl.umap(adata_concat_raw, min_dist=0.05, random_state=seed)\n",
    "sc.tl.leiden(adata_concat_raw, resolution=1, random_state=seed)\n",
    "sc.pl.umap(adata_concat_raw, color=['dataset', 'leiden', 'axes', 'clusters'], ncols=2)"
   ]
  },
  {
   "cell_type": "code",
   "execution_count": null,
   "metadata": {},
   "outputs": [],
   "source": [
    "plot_entropy(adata_concat_raw, 'leiden', 'dataset')"
   ]
  },
  {
   "cell_type": "code",
   "execution_count": null,
   "metadata": {},
   "outputs": [],
   "source": [
    "plot_entropy(adata_concat_raw, 'leiden', 'clusters', list_colors = \n",
    "            ['#9a1549','#e14b67', '#d98c58', '#e55e32', '#cd2333', '#009f61', '#54ab4c', \n",
    "            '#002562', '#008aac', '#006aad', '#2a358c', '#3fb4c1', '#9a9a9a', '#d8d8d8', '#6d6d6d'])"
   ]
  },
  {
   "cell_type": "code",
   "execution_count": null,
   "metadata": {
    "scrolled": true
   },
   "outputs": [],
   "source": [
    "sc.tl.rank_genes_groups(adata_concat_raw, groupby='leiden', method='wilcoxon')\n",
    "sc.pl.rank_genes_groups_tracksplot(adata_concat_raw, dendrogram=False, n_genes=40)"
   ]
  },
  {
   "cell_type": "code",
   "execution_count": null,
   "metadata": {},
   "outputs": [],
   "source": [
    "sc.pl.umap(adata_concat_raw, color=['dataset', 'leiden', 'axes', 'clusters', 'WIF1', 'WISP2', 'COMP', 'SLPI', \n",
    "                                    'APCDD1', 'COL18A1', 'CCL19', 'ITM2A', 'DNAJA1', 'SOD2', 'UAP1'], ncols=2, cmap=magma)"
   ]
  },
  {
   "cell_type": "markdown",
   "metadata": {},
   "source": [
    "### Harmony on dataset without H dataset"
   ]
  },
  {
   "cell_type": "code",
   "execution_count": null,
   "metadata": {},
   "outputs": [],
   "source": [
    "adata_concat_not_he_raw = sc.AnnData.concatenate(adata_sole_young_fb_raw, adata_tabib_fb_raw,\n",
    "                                                 adata_vors_fb_raw,\n",
    "                                            batch_key='dataset', batch_categories=['S', 'T', 'V'])\n",
    "sc.pp.filter_genes(adata_concat_not_he_raw, min_cells=10)\n",
    "\n",
    "adata_concat_not_he_raw.uns['dataset_colors'] = ['#94346e', '#e17c05', '#0F8554']\n",
    "adata_concat_not_he_raw.uns['clusters_colors'] = ['#e14b67', '#d98c58', '#e55e32', '#cd2333', '#009f61', '#54ab4c', \n",
    "            '#002562', '#008aac', '#006aad', '#2a358c', '#3fb4c1', '#9a9a9a', '#d8d8d8', '#6d6d6d']"
   ]
  },
  {
   "cell_type": "code",
   "execution_count": null,
   "metadata": {},
   "outputs": [],
   "source": [
    "sc.pp.normalize_total(adata_concat_not_he_raw)"
   ]
  },
  {
   "cell_type": "code",
   "execution_count": null,
   "metadata": {},
   "outputs": [],
   "source": [
    "sc.pp.pca(adata_concat_not_he_raw, random_state=seed, n_comps=50)\n",
    "sce.pp.harmony_integrate(adata_concat_not_he_raw, 'dataset', epsilon_harmony = 1e-7,)\n",
    "sc.pp.neighbors(adata_concat_not_he_raw, random_state=seed, use_rep='X_pca_harmony', \n",
    "                metric='cosine', knn=len(adata_concat_not_he_raw) ** 0.5 // 2)\n",
    "tk.tl.triku(adata_concat_not_he_raw, n_procs=1, random_state=seed, use_adata_knn=True)"
   ]
  },
  {
   "cell_type": "code",
   "execution_count": null,
   "metadata": {
    "scrolled": true
   },
   "outputs": [],
   "source": [
    "sc.tl.umap(adata_concat_not_he_raw, min_dist=0.15, random_state=seed)\n",
    "sc.tl.leiden(adata_concat_not_he_raw, resolution=0.8, random_state=seed)\n",
    "sc.pl.umap(adata_concat_not_he_raw, color=['dataset', 'leiden', 'axes', 'clusters'], ncols=2)"
   ]
  },
  {
   "cell_type": "code",
   "execution_count": null,
   "metadata": {
    "scrolled": true
   },
   "outputs": [],
   "source": [
    "plot_entropy(adata_concat_not_he_raw, 'leiden', 'dataset')"
   ]
  },
  {
   "cell_type": "code",
   "execution_count": null,
   "metadata": {
    "scrolled": true
   },
   "outputs": [],
   "source": [
    "plot_entropy(adata_concat_not_he_raw, 'leiden', 'clusters', list_colors = \n",
    "            ['#e14b67', '#d98c58', '#e55e32', '#cd2333', '#009f61', '#54ab4c', \n",
    "            '#002562', '#008aac', '#006aad', '#2a358c', '#3fb4c1', '#9a9a9a', '#d8d8d8', '#6d6d6d'])"
   ]
  },
  {
   "cell_type": "code",
   "execution_count": null,
   "metadata": {},
   "outputs": [],
   "source": [
    "sc.tl.rank_genes_groups(adata_concat_not_he_raw, groupby='leiden')\n",
    "sc.pl.rank_genes_groups_tracksplot(adata_concat_not_he_raw, dendrogram=False, n_genes=40)"
   ]
  },
  {
   "cell_type": "code",
   "execution_count": null,
   "metadata": {},
   "outputs": [],
   "source": [
    "sc.pl.umap(adata_concat_not_he_raw, color=['dataset', 'clusters', 'leiden',  \n",
    "                                           'clusters',  'TWIST2', 'SLPI', \n",
    "                                           'COMP', 'COL18A1', 'APCDD1', 'WIF1'], ncols=3, cmap=magma)"
   ]
  },
  {
   "cell_type": "markdown",
   "metadata": {},
   "source": [
    "# Velocity on SB and H datasets\n",
    "\n",
    "In this section we are going to run scVelo on the individual SB and H datasets."
   ]
  },
  {
   "cell_type": "code",
   "execution_count": null,
   "metadata": {},
   "outputs": [],
   "source": [
    "adata_merge_scvelo = sc.AnnData.concatenate(adata_he_fb_scvelo, adata_sole_young_fb_scvelo, \n",
    "                                            batch_key='dataset', batch_categories=['H', 'S'])"
   ]
  },
  {
   "cell_type": "code",
   "execution_count": null,
   "metadata": {},
   "outputs": [],
   "source": [
    "for adata in [adata_sole_young_fb_scvelo, adata_he_fb_scvelo]:\n",
    "    scv.pp.filter_and_normalize(adata, )\n",
    "    scv.pp.neighbors(adata, n_neighbors=int(len(adata) ** 0.5 // 2), metric='cosine')\n",
    "    scv.pp.moments(adata, mode='connectivities')"
   ]
  },
  {
   "cell_type": "code",
   "execution_count": null,
   "metadata": {},
   "outputs": [],
   "source": [
    "for adata in [adata_sole_young_fb_scvelo, adata_he_fb_scvelo]:\n",
    "    scv.tl.recover_dynamics(adata, )\n",
    "    scv.tl.velocity(adata, mode='dynamical', )"
   ]
  },
  {
   "cell_type": "code",
   "execution_count": null,
   "metadata": {},
   "outputs": [],
   "source": [
    "for adata in [adata_sole_young_fb_scvelo, adata_he_fb_scvelo]:\n",
    "    scv.tl.velocity_graph(adata, n_neighbors=int(0.5 * (len(adata) ** 0.5)))\n",
    "    scv.tl.velocity_confidence(adata, )"
   ]
  },
  {
   "cell_type": "markdown",
   "metadata": {},
   "source": [
    "### Plotting embedding in SB dataset"
   ]
  },
  {
   "cell_type": "code",
   "execution_count": null,
   "metadata": {},
   "outputs": [],
   "source": [
    "adata_sole_young_fb_scvelo.obs['clusters'] = adata_sole_young_fb.obs['clusters']\n",
    "\n",
    "adata_sole_young_fb_scvelo.uns['clusters_colors'] = ['#e14b67', '#d98c58', '#e55e32', '#009f61', '#54ab4c', \n",
    "                                                    '#008aac', '#006aad', '#2a358c', '#3fb4c1', '#b21b95']"
   ]
  },
  {
   "cell_type": "code",
   "execution_count": null,
   "metadata": {},
   "outputs": [],
   "source": [
    "scv.tl.umap(adata_sole_young_fb_scvelo, min_dist=0.25)\n",
    "scv.tl.velocity_embedding(adata_sole_young_fb_scvelo, basis='umap')"
   ]
  },
  {
   "cell_type": "code",
   "execution_count": null,
   "metadata": {},
   "outputs": [],
   "source": [
    "scv.pl.velocity_embedding_stream(adata_sole_young_fb_scvelo, \n",
    "                                 color=['velocity_confidence', 'velocity_confidence_transition', 'clusters'], \n",
    "                                ncols=2)\n"
   ]
  },
  {
   "cell_type": "code",
   "execution_count": null,
   "metadata": {},
   "outputs": [],
   "source": [
    "scv.tl.terminal_states(adata_sole_young_fb_scvelo)"
   ]
  },
  {
   "cell_type": "code",
   "execution_count": null,
   "metadata": {},
   "outputs": [],
   "source": [
    "adata_sole_young_fb_scvelo.obs['root_cells_bool'] = \\\n",
    "[True if \\\n",
    " (adata_sole_young_fb_scvelo.obs['clusters'].loc[i] in ['C1', 'B1']) & \\\n",
    " (adata_sole_young_fb_scvelo.obs['root_cells'].loc[i] > 0.35)\n",
    " else False for i in  adata_sole_young_fb_scvelo.obs_names]"
   ]
  },
  {
   "cell_type": "code",
   "execution_count": null,
   "metadata": {},
   "outputs": [],
   "source": [
    "scv.tl.latent_time(adata_sole_young_fb_scvelo)"
   ]
  },
  {
   "cell_type": "code",
   "execution_count": null,
   "metadata": {},
   "outputs": [],
   "source": [
    "scv.pl.velocity_embedding_stream(adata_sole_young_fb_scvelo, \n",
    "                                 color=['velocity_confidence_transition', 'clusters', 'latent_time', \n",
    "                                             'velocity_pseudotime'], \n",
    "                                ncols=2)\n",
    "\n",
    "scv.pl.scatter(adata_sole_young_fb_scvelo, color=['root_cells', 'root_cells_bool'], \n",
    "               color_map='gnuplot', size=80, legend_loc='on data', ncols=2)"
   ]
  },
  {
   "cell_type": "code",
   "execution_count": null,
   "metadata": {},
   "outputs": [],
   "source": [
    "adata_sole_young_fb_scvelo.write_h5ad(sole_dir + '/adata_scvelo_SB_full.h5')"
   ]
  },
  {
   "cell_type": "markdown",
   "metadata": {},
   "source": [
    "#### Subsetting the cells to axes B and C"
   ]
  },
  {
   "cell_type": "code",
   "execution_count": null,
   "metadata": {},
   "outputs": [],
   "source": [
    "adata_sole_young_fb_scvelo_B_C = adata_sole_young_fb_scvelo[\\\n",
    "        adata_sole_young_fb_scvelo.obs['clusters'].isin(['B1', 'B2', 'C1', 'C2', 'C3', 'C4'])].copy()"
   ]
  },
  {
   "cell_type": "code",
   "execution_count": null,
   "metadata": {},
   "outputs": [],
   "source": [
    "scv.pp.neighbors(adata_sole_young_fb_scvelo_B_C, n_neighbors=int(len(adata) ** 0.5 // 2), metric='cosine')\n",
    "scv.pp.moments(adata_sole_young_fb_scvelo_B_C, mode='connectivities')"
   ]
  },
  {
   "cell_type": "code",
   "execution_count": null,
   "metadata": {},
   "outputs": [],
   "source": [
    "scv.tl.recover_dynamics(adata_sole_young_fb_scvelo_B_C, )"
   ]
  },
  {
   "cell_type": "code",
   "execution_count": null,
   "metadata": {},
   "outputs": [],
   "source": [
    "scv.tl.velocity(adata_sole_young_fb_scvelo_B_C, mode='dynamical', )"
   ]
  },
  {
   "cell_type": "code",
   "execution_count": null,
   "metadata": {},
   "outputs": [],
   "source": [
    "scv.tl.velocity_graph(adata_sole_young_fb_scvelo_B_C, n_neighbors=int(0.5 * (len(adata) ** 0.5)))\n",
    "scv.tl.velocity_confidence(adata_sole_young_fb_scvelo_B_C, )"
   ]
  },
  {
   "cell_type": "code",
   "execution_count": null,
   "metadata": {},
   "outputs": [],
   "source": [
    "adata_sole_young_fb_scvelo_B_C.uns['clusters_colors'] = ['#009f61', '#54ab4c', '#008aac', '#006aad', '#2a358c', '#3fb4c1', '#b21b95']"
   ]
  },
  {
   "cell_type": "code",
   "execution_count": null,
   "metadata": {},
   "outputs": [],
   "source": [
    "scv.tl.umap(adata_sole_young_fb_scvelo_B_C, min_dist=0.25)\n",
    "scv.tl.velocity_embedding(adata_sole_young_fb_scvelo_B_C, basis='umap')"
   ]
  },
  {
   "cell_type": "code",
   "execution_count": null,
   "metadata": {},
   "outputs": [],
   "source": [
    "scv.tl.latent_time(adata_sole_young_fb_scvelo_B_C)"
   ]
  },
  {
   "cell_type": "code",
   "execution_count": null,
   "metadata": {},
   "outputs": [],
   "source": [
    "scv.tl.terminal_states(adata_sole_young_fb_scvelo_B_C)"
   ]
  },
  {
   "cell_type": "code",
   "execution_count": null,
   "metadata": {},
   "outputs": [],
   "source": [
    "adata_sole_young_fb_scvelo_B_C.obs['root_cells_bool'] = \\\n",
    "[True if \\\n",
    " (adata_sole_young_fb_scvelo_B_C.obs['clusters'].loc[i] in ['C1', 'B1']) & \\\n",
    " (adata_sole_young_fb_scvelo_B_C.obs['root_cells'].loc[i] > 0.35)\n",
    " else False for i in  adata_sole_young_fb_scvelo_B_C.obs_names]"
   ]
  },
  {
   "cell_type": "code",
   "execution_count": null,
   "metadata": {},
   "outputs": [],
   "source": [
    "scv.pl.velocity_embedding_stream(adata_sole_young_fb_scvelo_B_C, \n",
    "                                 color=['velocity_confidence_transition', 'clusters', 'latent_time', \n",
    "                                             'velocity_pseudotime'], \n",
    "                                ncols=2)\n",
    "\n",
    "scv.pl.scatter(adata_sole_young_fb_scvelo_B_C, color=['root_cells', 'root_cells_bool'], \n",
    "               color_map='gnuplot', size=80, legend_loc='on data', ncols=2)"
   ]
  },
  {
   "cell_type": "code",
   "execution_count": null,
   "metadata": {},
   "outputs": [],
   "source": [
    "sc.tl.rank_genes_groups(adata_sole_young_fb_scvelo_B_C, groupby='root_cells_bool')\n",
    "sc.pl.rank_genes_groups_tracksplot(adata_sole_young_fb_scvelo_B_C, n_genes=50, dendrogram=False)"
   ]
  },
  {
   "cell_type": "code",
   "execution_count": null,
   "metadata": {},
   "outputs": [],
   "source": [
    "sc.tl.rank_genes_groups(adata_sole_young_fb_scvelo, groupby='root_cells_bool')\n",
    "sc.pl.rank_genes_groups_tracksplot(adata_sole_young_fb_scvelo, n_genes=50, dendrogram=False)"
   ]
  },
  {
   "cell_type": "code",
   "execution_count": null,
   "metadata": {},
   "outputs": [],
   "source": [
    "adata_sole_young_fb.obs['root_cells_bool'] = adata_sole_young_fb_scvelo.obs['root_cells_bool']"
   ]
  },
  {
   "cell_type": "code",
   "execution_count": null,
   "metadata": {},
   "outputs": [],
   "source": [
    "list_genes = list(adata_sole_young_fb_scvelo.uns['rank_genes_groups']['names']['True'])[50:100]\n",
    "list_genes = ['IGFBP7', 'CFD', 'APOD', 'CFH', 'GSN', 'ITM2A']\n",
    "\n",
    "sc.pl.umap(adata_sole_young_fb_scvelo, color=['clusters', 'root_cells_bool', 'latent_time', \n",
    "                                             ] + list_genes, legend_loc='on data', \n",
    "           cmap=magma, ncols=3)"
   ]
  },
  {
   "cell_type": "code",
   "execution_count": null,
   "metadata": {},
   "outputs": [],
   "source": [
    "scv.pl.scatter(adata_sole_young_fb_scvelo_B_C, basis=list_genes, ncols=3, frameon=False)"
   ]
  },
  {
   "cell_type": "code",
   "execution_count": null,
   "metadata": {},
   "outputs": [],
   "source": [
    "adata_sole_young_fb_scvelo_B_C.write_h5ad(sole_dir + '/adata_scvelo_SB_B_C.h5')"
   ]
  },
  {
   "cell_type": "markdown",
   "metadata": {},
   "source": [
    "### Plotting embedding in H dataset"
   ]
  },
  {
   "cell_type": "code",
   "execution_count": null,
   "metadata": {},
   "outputs": [],
   "source": [
    "adata_he_fb_scvelo.obs['clusters'] = adata_he_fb.obs['clusters']\n",
    "\n",
    "adata_he_fb_scvelo.uns['clusters_colors'] = ['#9a1549', '#009f61', '#54ab4c', '#008aac', '#006aad', '#3fb4c1', '#b21b95']"
   ]
  },
  {
   "cell_type": "code",
   "execution_count": null,
   "metadata": {},
   "outputs": [],
   "source": [
    "scv.tl.umap(adata_he_fb_scvelo, min_dist=0.3)\n",
    "scv.tl.velocity_embedding(adata_he_fb_scvelo, basis='umap')"
   ]
  },
  {
   "cell_type": "code",
   "execution_count": null,
   "metadata": {},
   "outputs": [],
   "source": [
    "scv.pl.velocity_embedding_stream(adata_he_fb_scvelo, basis='umap',\n",
    "                                 color=['velocity_confidence', 'velocity_confidence_transition', 'clusters'], \n",
    "                                ncols=2)\n"
   ]
  },
  {
   "cell_type": "markdown",
   "metadata": {},
   "source": [
    "### Plotting embedding in merged dataset"
   ]
  },
  {
   "cell_type": "code",
   "execution_count": null,
   "metadata": {},
   "outputs": [],
   "source": [
    "sc.pp.filter_genes(adata_merge_scvelo, min_counts=1)\n",
    "sc.pp.pca(adata_merge_scvelo, random_state=seed, n_comps=30)\n",
    "sce.pp.harmony_integrate(adata_merge_scvelo, 'dataset', epsilon_harmony = 1e-7)\n",
    "sc.pp.neighbors(adata_merge_scvelo, random_state=seed, use_rep='X_pca_harmony', \n",
    "                metric='cosine', knn=len(adata_merge_scvelo) ** 0.5 // 2)\n",
    "tk.tl.triku(adata_merge_scvelo, n_procs=1, random_state=seed, use_adata_knn=True)"
   ]
  },
  {
   "cell_type": "code",
   "execution_count": null,
   "metadata": {},
   "outputs": [],
   "source": [
    "scv.pp.neighbors(adata_merge_scvelo, n_neighbors=int(len(adata) ** 0.5 // 2), \n",
    "                 metric='cosine', use_rep='X_pca_harmony')\n",
    "scv.pp.moments(adata_merge_scvelo, mode='connectivities')\n",
    "scv.tl.recover_dynamics(adata_merge_scvelo, )\n",
    "scv.tl.velocity(adata_merge_scvelo, mode='dynamical', )\n",
    "scv.tl.velocity_graph(adata_merge_scvelo, n_neighbors=int(0.5 * (len(adata) ** 0.5)))\n",
    "scv.tl.velocity_confidence(adata_merge_scvelo, )"
   ]
  },
  {
   "cell_type": "code",
   "execution_count": null,
   "metadata": {},
   "outputs": [],
   "source": [
    "adata_merge_scvelo.obs['clusters'] = ''\n",
    "adata_merge_scvelo.obs['clusters'].loc[[i + '-H' for i in adata_he_fb.obs_names]] = adata_he_fb.obs['clusters'].values\n",
    "adata_merge_scvelo.obs['clusters'].loc[[i + '-S' for i in adata_sole_young_fb.obs_names]] = adata_sole_young_fb.obs['clusters'].values\n",
    "\n",
    "adata_merge_scvelo.uns['clusters_colors'] = ['#9a1549'] + list(adata_sole_young_fb.uns['clusters_colors'])"
   ]
  },
  {
   "cell_type": "code",
   "execution_count": null,
   "metadata": {},
   "outputs": [],
   "source": [
    "scv.tl.umap(adata_merge_scvelo, min_dist=0.3)\n",
    "scv.tl.velocity_embedding(adata_merge_scvelo, basis='umap')"
   ]
  },
  {
   "cell_type": "code",
   "execution_count": null,
   "metadata": {},
   "outputs": [],
   "source": [
    "scv.pl.velocity_embedding_stream(adata_merge_scvelo, basis='umap',\n",
    "                                 color=['velocity_confidence', 'velocity_confidence_transition', 'clusters'], \n",
    "                                ncols=2)\n"
   ]
  },
  {
   "cell_type": "markdown",
   "metadata": {},
   "source": [
    "# Individual dataset figure production"
   ]
  },
  {
   "cell_type": "code",
   "execution_count": null,
   "metadata": {},
   "outputs": [],
   "source": [
    "def create_plot_axis(genes):\n",
    "    names = ['Tabib', 'Solé-Boldo', 'Vorstandlechner', 'He']\n",
    "    fig, axs = plt.subplots(1 + len(genes), 4, figsize=(4*4, (1 + len(genes))*3))\n",
    "    for adata_ix, adata in enumerate([adata_tabib_fb, adata_sole_young_fb, adata_vors_fb, adata_he_fb]):\n",
    "        sc.pl.umap(adata, color=['axes',] , cmap=magma, legend_loc='on data', ax=axs[0][adata_ix], show=False, title=names[adata_ix], \n",
    "                   legend_fontsize=16, legend_fontoutline=3)\n",
    "        \n",
    "        for gene_ix, gene in enumerate(genes):\n",
    "            try:\n",
    "                sc.pl.umap(adata, color=gene , cmap=magma, legend_loc='on data', ax=axs[gene_ix + 1][adata_ix], show=False, use_raw=False)\n",
    "            except:\n",
    "                pass\n",
    "            \n",
    "    plt.tight_layout()\n",
    "    fig.savefig('images/'+'_'.join(genes)+'png', dpi=300)\n",
    "    \n",
    "def create_plot_cluster(genes, clusters=[]):\n",
    "    names = ['Tabib', 'Solé-Boldo', 'Vorstandlechner', 'He']\n",
    "    \n",
    "    fig, axs = plt.subplots(1 + len(genes), 4, figsize=(4*4, (1 + len(genes))*3))\n",
    "    for adata_ix, adata in enumerate([adata_tabib_fb, adata_sole_young_fb, adata_vors_fb, adata_he_fb]):       \n",
    "        sc.pl.umap(adata, color=['clusters',] , cmap=magma, legend_loc='on data', ax=axs[0][adata_ix], show=False, title=names[adata_ix], \n",
    "                  legend_fontsize=12, legend_fontoutline=2)\n",
    "        \n",
    "        for gene_ix, gene in enumerate(genes):\n",
    "            try:\n",
    "                if len(clusters):\n",
    "                    sc.pl.umap(adata, color=gene , cmap=magma, legend_loc='on data', ax=axs[gene_ix + 1][adata_ix], show=False, use_raw=False, \n",
    "                           title = f'{gene} ({clusters[gene_ix]})')\n",
    "                else:\n",
    "                    sc.pl.umap(adata, color=gene , cmap=magma, legend_loc='on data', ax=axs[gene_ix + 1][adata_ix], show=False, use_raw=False, \n",
    "                           title = f'{gene}')\n",
    "            except:\n",
    "                pass\n",
    "            \n",
    "    plt.tight_layout()\n",
    "    fig.savefig('images/'+'_'.join(genes)+'png', dpi=300)\n"
   ]
  },
  {
   "cell_type": "markdown",
   "metadata": {},
   "source": [
    "### Figure 1: Representation of major axes with principal representative genes"
   ]
  },
  {
   "cell_type": "code",
   "execution_count": null,
   "metadata": {},
   "outputs": [],
   "source": [
    "create_plot_axis(['SFRP2', 'APOE', 'SFRP1'])"
   ]
  },
  {
   "cell_type": "markdown",
   "metadata": {},
   "source": [
    "### Figure 2: Representation of markers of axis A populations"
   ]
  },
  {
   "cell_type": "code",
   "execution_count": null,
   "metadata": {},
   "outputs": [],
   "source": [
    "create_plot_cluster(['SLPI', 'COMP', 'WIF1', 'SFRP4'], ['A1', 'A2', 'A3', 'A4'])"
   ]
  },
  {
   "cell_type": "markdown",
   "metadata": {},
   "source": [
    "### Figure 3: Representation of markers of axis B populations"
   ]
  },
  {
   "cell_type": "code",
   "execution_count": null,
   "metadata": {},
   "outputs": [],
   "source": [
    "create_plot_cluster(['ITM2A', 'CCL2', 'CCL19', 'CTSH'], ['B1', 'B1', 'B2', 'B2'])"
   ]
  },
  {
   "cell_type": "markdown",
   "metadata": {},
   "source": [
    "### Figure 4: Representation of markers of axis C populations"
   ]
  },
  {
   "cell_type": "code",
   "execution_count": null,
   "metadata": {},
   "outputs": [],
   "source": [
    "create_plot_cluster(['COL11A1', 'COCH', 'POSTN', 'TM4SF1'], ['C1', 'C2', 'C3', 'C4'])"
   ]
  },
  {
   "cell_type": "markdown",
   "metadata": {},
   "source": [
    "## Supplementary figures"
   ]
  },
  {
   "cell_type": "code",
   "execution_count": null,
   "metadata": {},
   "outputs": [],
   "source": [
    "create_plot_axis(['ELN', 'MMP2', 'QPCT', 'SFRP2'])\n",
    "create_plot_axis(['APOE', 'C7', 'CYGB', 'IGFBP7'])\n",
    "create_plot_axis(['DKK3', 'SFRP1', 'TNMD', 'TNN'])"
   ]
  },
  {
   "cell_type": "code",
   "execution_count": null,
   "metadata": {},
   "outputs": [],
   "source": [
    "create_plot_cluster(['IGFBP6', 'PI16', 'SLPI', 'WISP2'])\n",
    "create_plot_cluster(['ELN', 'RGCC', 'SGCA', 'WIF1'])\n",
    "create_plot_cluster(['APCDD1', 'COL18A1', 'COMP', 'NKD2'])\n",
    "create_plot_cluster(['FBN1', 'PCOLCE2', 'PRG4', 'SFRP4'])"
   ]
  },
  {
   "cell_type": "code",
   "execution_count": null,
   "metadata": {},
   "outputs": [],
   "source": [
    "create_plot_cluster(['CCL2', 'ITM2A',  'SPSB1', 'TNFAIP6'])\n",
    "create_plot_cluster(['CCDC146', 'CCL19', 'CD74', 'TNFSF13B',])"
   ]
  },
  {
   "cell_type": "code",
   "execution_count": null,
   "metadata": {},
   "outputs": [],
   "source": [
    "create_plot_cluster(['COL11A1', 'DPEP1', 'TNMD', 'WFDC1'])\n",
    "create_plot_cluster(['COCH', 'CRABP1', 'FIBIN', 'RSPO4'])\n",
    "create_plot_cluster(['ASPN', 'F2R', 'GPM6B', 'POSTN'])\n",
    "create_plot_cluster(['ANGPTL7', 'APOD', 'C2orf40', 'TM4SF1'])"
   ]
  },
  {
   "cell_type": "code",
   "execution_count": null,
   "metadata": {},
   "outputs": [],
   "source": [
    "create_plot_cluster(['CHRDL1', 'GDF10', 'ITM2A', 'OGN'])\n",
    "create_plot_cluster(['ADAMTS5', 'HSPH1', 'MIR22HG', 'MME'])\n",
    "create_plot_cluster(['EEF1B2', 'FXYD3', 'KRT14'])\n",
    "create_plot_cluster(['B4GALT1', 'CTNNB1', 'HNRNPH1', 'WTAP'])"
   ]
  },
  {
   "cell_type": "code",
   "execution_count": null,
   "metadata": {},
   "outputs": [],
   "source": [
    "create_plot_cluster(['FMO1', 'LSP1'])"
   ]
  },
  {
   "cell_type": "markdown",
   "metadata": {},
   "source": [
    "## Table S1\n",
    "This is the table of the *robust* DEGs of axes in all datasets.\n",
    "We will select DEGs common between datasets, and manually curate them. The last thre cells are the curated list of genes."
   ]
  },
  {
   "cell_type": "code",
   "execution_count": null,
   "metadata": {},
   "outputs": [],
   "source": [
    "def create_table(list_list_genes, list_columns, clus_ax, list_adatas=[adata_tabib_fb, adata_sole_young_fb, adata_vors_fb, adata_he_fb], \n",
    "                 list_adata_letters=['T', 'S', 'V', 'H']):\n",
    "    df_supercolumns = [i for i in list_columns for j in range(len(list_adatas) + 1)]\n",
    "    df_subcolumns = [i for j in range(len(list_columns)) for i in ['DEGs'] + list_adata_letters]\n",
    "    \n",
    "    cols = pd.MultiIndex.from_tuples(list(zip(*[df_supercolumns, df_subcolumns])), names=[clus_ax, 'dataset'])\n",
    "    df = pd.DataFrame(index=range(max([len(i) for i in list_list_genes])), columns=cols)\n",
    "    \n",
    "    for column_idx, column in enumerate(list_columns):\n",
    "        list_genes = list_list_genes[column_idx]\n",
    "        \n",
    "        for gene_idx, gene in enumerate(list_genes):\n",
    "            df[column, 'DEGs'].loc[gene_idx] = gene\n",
    "            \n",
    "            for adata, letter in zip(list_adatas, list_adata_letters):\n",
    "                try:\n",
    "                    gene_loc = np.argwhere(adata.uns['rank_genes_groups']['names'][column] == gene)[0][0]\n",
    "                    pval = adata.uns['rank_genes_groups']['pvals'][column][gene_loc]\n",
    "                    logfold = adata.uns['rank_genes_groups']['logfoldchanges'][column][gene_loc]\n",
    "                    df[column, letter].loc[gene_idx] = f'{pval:.2e} ({logfold:.2f})'\n",
    "                except:\n",
    "                    df[column, letter].loc[gene_idx] = f'-'\n",
    "                \n",
    "                \n",
    "                \n",
    "    return df"
   ]
  },
  {
   "cell_type": "code",
   "execution_count": null,
   "metadata": {},
   "outputs": [],
   "source": [
    "# YOU MUST RUN THIS FIRST!!!!!!\n",
    "sc.tl.rank_genes_groups(adata_tabib_fb, groupby='axes', method='wilcoxon', n_genes=200)\n",
    "sc.tl.rank_genes_groups(adata_sole_young_fb, groupby='axes', method='wilcoxon', n_genes=200)\n",
    "sc.tl.rank_genes_groups(adata_vors_fb, groupby='axes', method='wilcoxon', n_genes=200)\n",
    "sc.tl.rank_genes_groups(adata_he_fb, groupby='axes', method='wilcoxon', n_genes=200)"
   ]
  },
  {
   "cell_type": "code",
   "execution_count": null,
   "metadata": {},
   "outputs": [],
   "source": [
    "list_genes_axis_A = set(adata_tabib_fb.uns['rank_genes_groups']['names']['A'])\n",
    "list_genes_axis_B = set(adata_tabib_fb.uns['rank_genes_groups']['names']['B'])\n",
    "list_genes_axis_C = set(adata_tabib_fb.uns['rank_genes_groups']['names']['C'])\n",
    "\n",
    "for adata in [adata_sole_young_fb, adata_vors_fb]:    \n",
    "    list_genes_axis_A = list_genes_axis_A & set(adata.uns['rank_genes_groups']['names']['A'])\n",
    "    list_genes_axis_B = list_genes_axis_B & set(adata.uns['rank_genes_groups']['names']['B'])\n",
    "    \n",
    "for adata in [adata_sole_young_fb, adata_he_fb]:    \n",
    "    list_genes_axis_C = list_genes_axis_C & set(adata.uns['rank_genes_groups']['names']['C'])"
   ]
  },
  {
   "cell_type": "code",
   "execution_count": null,
   "metadata": {},
   "outputs": [],
   "source": [
    "# AXIS A\n",
    "list_genes_A = ['AEBP1','AQP1','CAPZB','CD9','COL1A1','COL1A2','COL6A1','COL6A2',\n",
    "'CTHRC1','ELN','FBN1','LAMP1','MMP2','NBL1','PAM','QPCT','RGCC','SFRP2','SPARC','THBS2','TSPAN4',]\n",
    "create_plot_axis(list_genes_A)"
   ]
  },
  {
   "cell_type": "code",
   "execution_count": null,
   "metadata": {},
   "outputs": [],
   "source": [
    "# AXIS B\n",
    "list_genes_B = ['APOE','BTG1','C3','C7','CCDC146','CXCL12','CYGB','FGF7',\n",
    "'GEM','GGT5','IGFBP7','IRF1','RARRES2','SOCS3','TMEM176A','TMEM176B','TNFSF13B',]\n",
    "create_plot_axis(list_genes_B)"
   ]
  },
  {
   "cell_type": "code",
   "execution_count": null,
   "metadata": {},
   "outputs": [],
   "source": [
    "# AXIS C\n",
    "list_genes_C = ['CDH11','COL1A1','COL1A2','DKK3','EMID1','GPM6B','INHBA', 'PRSS23', 'SFRP1','SPARCL1','TNMD','TNN',]\n",
    "create_plot_axis(list_genes_C)"
   ]
  },
  {
   "cell_type": "code",
   "execution_count": null,
   "metadata": {},
   "outputs": [],
   "source": [
    "df_axis = create_table([list_genes_A, list_genes_B, list_genes_C], ['A', 'B', 'C'], 'axis')\n",
    "df_axis.to_csv('tables/TableS1.csv', sep=';')"
   ]
  },
  {
   "cell_type": "code",
   "execution_count": null,
   "metadata": {},
   "outputs": [],
   "source": [
    "df_axis"
   ]
  },
  {
   "cell_type": "markdown",
   "metadata": {},
   "source": [
    "## Table S2\n",
    "This is the table of the *robust* DEGs of clusters in axis A in all datasets.\n",
    "We will select DEGs common between datasets, and manually curate them. The last thre cells are the curated list of genes."
   ]
  },
  {
   "cell_type": "code",
   "execution_count": null,
   "metadata": {},
   "outputs": [],
   "source": [
    "sc.tl.rank_genes_groups(adata_tabib_fb, groupby='clusters', method='wilcoxon', n_genes=200)\n",
    "sc.tl.rank_genes_groups(adata_sole_young_fb, groupby='clusters', method='wilcoxon', n_genes=200)\n",
    "sc.tl.rank_genes_groups(adata_vors_fb, groupby='clusters', method='wilcoxon', n_genes=200)\n",
    "sc.tl.rank_genes_groups(adata_he_fb, groupby='clusters', method='wilcoxon', n_genes=200)"
   ]
  },
  {
   "cell_type": "code",
   "execution_count": null,
   "metadata": {},
   "outputs": [],
   "source": [
    "df_tabib = pd.DataFrame(adata_tabib_fb.uns['rank_genes_groups']['names'])\n",
    "df_sole = pd.DataFrame(adata_sole_young_fb.uns['rank_genes_groups']['names'])\n",
    "df_vors = pd.DataFrame(adata_vors_fb.uns['rank_genes_groups']['names'])\n",
    "df_he = pd.DataFrame(adata_he_fb.uns['rank_genes_groups']['names'])"
   ]
  },
  {
   "cell_type": "code",
   "execution_count": null,
   "metadata": {},
   "outputs": [],
   "source": [
    "list_genes_A1 = set(df_tabib['A1'].values)\n",
    "list_genes_A2 = set(df_tabib['A2'].values)\n",
    "list_genes_A3 = set(df_tabib['A3'].values)\n",
    "list_genes_A4 = set(df_tabib['A4'].values)\n",
    "\n",
    "for df in [df_sole, df_vors]:    \n",
    "    list_genes_A1 = list_genes_A1 & set(df['A1'].values)\n",
    "    list_genes_A2 = list_genes_A2 & set(df['A2'].values)\n",
    "    list_genes_A3 = list_genes_A3 & set(df['A3'].values)\n",
    "\n",
    "for df in [df_vors]:\n",
    "    list_genes_A4 = list_genes_A4 & set(df['A4'].values)"
   ]
  },
  {
   "cell_type": "code",
   "execution_count": null,
   "metadata": {},
   "outputs": [],
   "source": [
    "# CLUSTER A1\n",
    "list_genes_A1 = ['ANGPTL5', 'C1QTNF3', 'CD151', 'CD55', 'CD99', 'CPE', 'CTSB', 'CYBRD1', 'DCN', 'FBLN1', 'FGL2', \n",
    "'GPX3', 'GSN', 'IGFBP6', 'LOX', 'MFAP5', 'MGST1', 'MMP2', 'OLFML3', 'PDGFRL', 'PI16', 'PIGT', 'PODN', 'REXO2', 'SCARA5', \n",
    "'SERPINF1', 'SLPI', 'TSPAN8', 'WISP2', 'XG'\n",
    "]\n",
    "create_plot_cluster(list_genes_A1)"
   ]
  },
  {
   "cell_type": "code",
   "execution_count": null,
   "metadata": {},
   "outputs": [],
   "source": [
    "# CLUSTER A2\n",
    "list_genes_A2 = ['APCDD1', 'AXIN2', 'C1orf198', 'CLEC2A', 'COL13A1', 'COL18A1', 'COL23A1', 'COMP', \n",
    "'CTSC', 'CYB26B1', 'EMX2', 'F13A1', 'GNG11', 'GREM2', 'HSPB3', 'ID1', 'LAMC3', 'NKD2', 'NPTX2', 'PTK7', 'RGS2', 'RGS3', 'RSPO1', 'SPRY1', 'STC2', 'TGFBI', ]\n",
    "create_plot_cluster(list_genes_A2)"
   ]
  },
  {
   "cell_type": "code",
   "execution_count": null,
   "metadata": {},
   "outputs": [],
   "source": [
    "# CLUSTER A3\n",
    "list_genes_A3 = ['CD9', 'COL6A1', 'ELN', 'LEPR', 'RGCC', 'SGCA', 'WIF1', ]\n",
    "create_plot_cluster(list_genes_A3)"
   ]
  },
  {
   "cell_type": "code",
   "execution_count": null,
   "metadata": {},
   "outputs": [],
   "source": [
    "# CLUSTER A4\n",
    "list_genes_A4 = ['C1QTNF3','FBN1', 'FSTL1', 'HSD3B7', 'IGFBP6', 'ISLR', 'MFAP5', 'PCOLCE2', 'PRG4', 'PRSS23', 'SFRP4', 'TNXB', ]\n",
    "create_plot_cluster(list_genes_A4)"
   ]
  },
  {
   "cell_type": "code",
   "execution_count": null,
   "metadata": {},
   "outputs": [],
   "source": [
    "df_axis = create_table([list_genes_A1, list_genes_A2, list_genes_A3, list_genes_A4], ['A1', 'A2', 'A3', 'A4'], 'cluster')\n",
    "df_axis.to_csv('tables/TableS2.csv', sep=';')"
   ]
  },
  {
   "cell_type": "markdown",
   "metadata": {},
   "source": [
    "## Table S3\n",
    "This is the table of the *robust* DEGs of clusters in axis B in all datasets.\n",
    "We will select DEGs common between datasets, and manually curate them. The last thre cells are the curated list of genes."
   ]
  },
  {
   "cell_type": "code",
   "execution_count": null,
   "metadata": {},
   "outputs": [],
   "source": [
    "list_genes_B1 = set(df_tabib['B1'].values)\n",
    "list_genes_B2 = set(df_tabib['B2'].values)\n",
    "\n",
    "for df in [df_vors]:    \n",
    "    list_genes_B1 = list_genes_B1 & set(df['B1'].values)\n",
    "    list_genes_B2 = list_genes_B2 & set(df['B2'].values)\n"
   ]
  },
  {
   "cell_type": "code",
   "execution_count": null,
   "metadata": {},
   "outputs": [],
   "source": [
    "create_plot_cluster(['CXCL2', 'CXCL3', 'GEM', 'CXCL1'])"
   ]
  },
  {
   "cell_type": "code",
   "execution_count": null,
   "metadata": {},
   "outputs": [],
   "source": [
    "# CLUSTER B1\n",
    "list_genes_B1 = ['ARL6IP1', 'CCL2', 'CXCL1', 'CXCL2', 'CXCL3', 'DNAJA1', 'ERRFI1', 'GPC3', 'ITM2A', 'MCL1', 'MYC', 'PLA2G2A', 'PLIN2', 'SOD2', 'UAP1', ]\n",
    "create_plot_cluster(list_genes_B1)"
   ]
  },
  {
   "cell_type": "code",
   "execution_count": null,
   "metadata": {},
   "outputs": [],
   "source": [
    "# CLUSTER B2\n",
    "list_genes_B2 = ['BIRC3', 'BTG1', 'C3', 'CCDC146', 'CCL19', 'CD74', 'CTSH', 'IGFBP3', 'OLFM2', 'PSME2', 'TNFSF13B' ]\n",
    "create_plot_cluster(list_genes_B2)"
   ]
  },
  {
   "cell_type": "code",
   "execution_count": null,
   "metadata": {},
   "outputs": [],
   "source": [
    "df_axis = create_table([list_genes_B1, list_genes_B2, ], ['B1', 'B2'], 'cluster')\n",
    "df_axis.to_csv('tables/TableS3.csv', sep=';')"
   ]
  },
  {
   "cell_type": "markdown",
   "metadata": {},
   "source": [
    "## Table S4\n",
    "This is the table of the *robust* DEGs of clusters in axis C in all datasets.\n",
    "We will select DEGs common between datasets, and manually curate them. The last thre cells are the curated list of genes."
   ]
  },
  {
   "cell_type": "code",
   "execution_count": null,
   "metadata": {},
   "outputs": [],
   "source": [
    "list_genes_C1 = set(df_tabib['C1'].values)\n",
    "list_genes_C2 = set(df_tabib['C2'].values)\n",
    "list_genes_C3 = set(df_tabib['C3'].values)\n",
    "list_genes_C4 = set(df_tabib['C4'].values)\n",
    "\n",
    "for df in [df_sole]:    \n",
    "    list_genes_C1 = list_genes_C1 & set(df['C1'].values)\n",
    "    list_genes_C2 = list_genes_C2 & set(df['C2'].values)\n",
    "    list_genes_C4 = list_genes_C4 & set(df['C4'].values)   \n",
    "    list_genes_C3 = list_genes_C3 & set(df['C3'].values)\n"
   ]
  },
  {
   "cell_type": "code",
   "execution_count": null,
   "metadata": {},
   "outputs": [],
   "source": [
    "# CLUSTER C1\n",
    "list_genes_C1 = ['CCND1', 'CDH11', 'COL11A1', 'COL5A2', 'DPEP1', 'EDNRA', 'GPC3', 'LAMC3', 'MEF2C', 'MME', 'POSTN', 'SPARC', 'STMN1', ]\n",
    "create_plot_cluster(list_genes_C1)"
   ]
  },
  {
   "cell_type": "code",
   "execution_count": null,
   "metadata": {},
   "outputs": [],
   "source": [
    "# CLUSTER C2\n",
    "list_genes_C2 = ['ADAMTS6', 'ARHGAP15', 'CADM2', 'CCK', 'CHADL', 'CLEC14A', 'COCH', 'CRABP1', 'DKK2', 'EMID1', \n",
    "'FIBIN', 'FZD1', 'GAP43', 'HSPA2', 'LEPREL1', 'LIPA', 'MEIS2', 'MEOX2', 'MKX', 'NDNF', 'NECAB1', 'OGN', \n",
    "'PCSK1N', 'PLXDC1', 'PPAPDC1B', 'PRRG4', 'RHPN1', 'RSPO4', 'SLC22A16', 'SLITRK6', 'SYTL2',]\n",
    "create_plot_cluster(list_genes_C2)"
   ]
  },
  {
   "cell_type": "code",
   "execution_count": null,
   "metadata": {},
   "outputs": [],
   "source": [
    "# CLUSTER C3\n",
    "list_genes_C3 = ['ASPN', 'BGN', 'C9orf3', 'DIO2', 'DKK2', 'F2R', 'FIBIN', 'GPM6B', 'LRRC15', 'LTBP2', 'MARCKS', 'PLEKHH2', 'PMEPA1', 'POSTN', ]\n",
    "create_plot_cluster(list_genes_C3)"
   ]
  },
  {
   "cell_type": "code",
   "execution_count": null,
   "metadata": {},
   "outputs": [],
   "source": [
    "# CLUSTER C4\n",
    "list_genes_C4 = ['ANGPTL7', 'APOD', 'C2orf40', 'CLDN1', 'CYP1B1', 'EBF2', 'EIF4A3', 'FGFBP2', 'IFI27', \n",
    "'KLK1', 'PODNL1', 'SCN7A', 'SFRP4', 'TAGLN', 'TENM2', 'TM4SF1' ]\n",
    "create_plot_cluster(list_genes_C4)"
   ]
  },
  {
   "cell_type": "code",
   "execution_count": null,
   "metadata": {},
   "outputs": [],
   "source": [
    "df_axis = create_table([list_genes_C1, list_genes_C2, list_genes_C3, list_genes_C4,], ['C1', 'C2', 'C3', 'C4'], 'cluster')\n",
    "df_axis.to_csv('tables/TableS4.csv', sep=';')"
   ]
  },
  {
   "cell_type": "markdown",
   "metadata": {},
   "source": [
    "## Export adatas"
   ]
  },
  {
   "cell_type": "code",
   "execution_count": null,
   "metadata": {},
   "outputs": [],
   "source": [
    "os.makedirs('adatas', exist_ok=True)"
   ]
  },
  {
   "cell_type": "code",
   "execution_count": null,
   "metadata": {},
   "outputs": [],
   "source": [
    "adata_he_fb.write_h5ad('adatas/he_fb.h5ad')\n",
    "adata_phil_fb.write_h5ad('adatas/philippeos_fb.h5ad')\n",
    "adata_tabib_fb.write_h5ad('adatas/tabib_fb.h5ad')\n",
    "adata_vors_fb.write_h5ad('adatas/vorstandlechner_fb.h5ad')\n",
    "adata_sole_young_fb.write_h5ad('adatas/sole_fb.h5ad')"
   ]
  },
  {
   "cell_type": "code",
   "execution_count": null,
   "metadata": {},
   "outputs": [],
   "source": [
    "df = pd.DataFrame(index=['A', 'A1', 'A2', 'A3', 'A4', 'B', 'B1', 'B2', 'C', 'C1', 'C2', 'C3', 'C4', 'Unassigned'], \n",
    "                  columns=['T', 'S', 'V', 'H', 'Consensus (%)'])\n",
    "\n",
    "\n",
    "for dataset, dataset_name in zip([adata_tabib_fb, adata_sole_young_fb, adata_vors_fb, adata_he_fb], \n",
    "                                 ['T', 'S', 'V', 'H']):\n",
    "    for axis in ['A', 'B', 'C']:\n",
    "        num = len(dataset[dataset.obs['axes'] == axis])\n",
    "        den = len(dataset)\n",
    "        \n",
    "        pstr = f'{num}/{den} ({100 * num/den:.1f}%)' if num > 0 else '-'\n",
    "        df.loc[axis, dataset_name] = pstr\n",
    "    \n",
    "    num = len(dataset[~ dataset.obs['axes'].isin(['A', 'B', 'C'])])\n",
    "    pstr = f'{num}/{den} ({100 * num/den:.1f}%)' if num > 0 else '-'\n",
    "    df.loc['Unassigned', dataset_name] = pstr\n",
    "        \n",
    "    for cluster in ['A1', 'A2', 'A3', 'A4', 'B1', 'B2', 'C1', 'C2', 'C3', 'C4']:\n",
    "        num = len(dataset[dataset.obs['clusters'] == cluster])\n",
    "        den = len(dataset[dataset.obs['axes'] == cluster[0]])\n",
    "        \n",
    "        pstr = f'{num}/{den} ({100 * num/den:.1f}%)' if num > 0 else '-'\n",
    "        df.loc[cluster, dataset_name] = pstr\n",
    "        \n",
    "for row in range(len(df)):\n",
    "    vec_str = df[['T', 'S', 'V', 'H']].iloc[row]\n",
    "    \n",
    "    list_nums = []\n",
    "    for i in vec_str:\n",
    "        if not str(i) == '-':\n",
    "            list_nums.append(float(i[-6:-2].replace('(', '')))\n",
    "    \n",
    "    mean = np.mean(list_nums)\n",
    "    std = np.std(list_nums)\n",
    "    \n",
    "    df['Consensus (%)'].iloc[row] = f'{mean:.1f} ± {std:.1f}'"
   ]
  },
  {
   "cell_type": "code",
   "execution_count": null,
   "metadata": {},
   "outputs": [],
   "source": [
    "from IPython.display import display\n",
    "\n",
    "display(df)\n",
    "df.to_csv('tables/Table_percentages.csv', sep=';')"
   ]
  },
  {
   "cell_type": "markdown",
   "metadata": {},
   "source": [
    "# Depicting the proportion of cells with reticular / papillary signatures\n",
    "\n",
    "In this section we will work on depicting which of the clusters/axes belong to populations of reticular/papillary fibroblasts. To do that, we are going to do two types of analysis: plot the individual UMAPs of each of the genes, and the UMAPs of combined genes / datasets.\n",
    "\n",
    "We are going to take the signatures from different datasets, and observe which are the ones that sprout when analysing their expression patterns."
   ]
  },
  {
   "cell_type": "code",
   "execution_count": null,
   "metadata": {},
   "outputs": [],
   "source": [
    "pap_haydont_2020 = ['CADM1', 'EFHD1', 'TOX', 'UCP2']\n",
    "ret_haydont_2020 = ['ACAN', 'COL11A1', 'DIRAS3', 'EMCN', 'FGF9', 'LIMCH1', 'MGST1', 'NPR3', 'SOST', 'SOX11', \n",
    "                    'VCAM1']\n",
    "\n",
    "pap_haydont_2019 = ['APCDD1', 'PLAC8', 'GPR126', 'TFAP2C', 'COLEC12', 'RAB11FIP1', 'VIT', 'COL10A1', \n",
    "                    'ADAMTS5', 'PSMB9', 'ENPP2', 'NFE2L3', 'RARRES2', 'SLC1A3']\n",
    "ret_haydont_2019 = ['ZFPM2', 'APBB1IP', 'RGS4', 'TM4SF1', 'DSP', 'NTN4', 'PTGER3', 'ITGA2', \n",
    "                    'LRRC17', 'CXCL1', 'NCALD', 'CD9', 'NR2F2', 'WISP2', 'KLHL13', 'MSX1', \n",
    "                    'MARVELD2', 'SERPINB7', 'MYO10', 'PHLDB2']\n",
    "\n",
    "\n",
    "pap_nauroy_2017 = ['BST2', 'IL8', 'CXCL1', 'MMP1', 'CTSC', 'PTDGS', 'CCL2', 'TNFRSF19', 'IGDCC4', \n",
    "                   'EFNB2', 'GPR37', 'INHBB', 'TRHDE', 'PLXNC1', 'PLCB4', 'COL18A1', 'PRDM1', 'GFRA1', \n",
    "                   'CCL8', 'IL15', 'TNFSF4', 'MLPH']\n",
    "ret_nauroy_2017 = ['SCRG1', 'COMP', 'DEPTOR', 'A2M', 'MFAP5', 'CRLF1', 'RDH10', 'DOK5', 'SFRP4', 'PPP1R14A', \n",
    "                   'GPC4', 'GATA6', 'ROR1', 'LIMCH1', 'DACT1', 'ELN', 'SLC38A4']\n",
    "\n",
    "pap_janson_2012_A = ['CCRL1', 'NTN1', 'PDPN',]\n",
    "ret_janson_2012_A = ['CDH2', 'CNN1', 'TGM2']\n",
    "\n",
    "pap_janson_2012_B = ['ITM2C', 'STEAP1', 'TNFRSF19']\n",
    "ret_janson_2012_B = ['CNN1', 'MAP1B', 'MGP', 'PPP1R14A', 'TAGLN', 'TGM2', 'TMEM200A']"
   ]
  },
  {
   "cell_type": "markdown",
   "metadata": {},
   "source": [
    "## UMAPs on particular datasets / genes"
   ]
  },
  {
   "cell_type": "markdown",
   "metadata": {},
   "source": [
    "### Haydont 2020"
   ]
  },
  {
   "cell_type": "code",
   "execution_count": null,
   "metadata": {},
   "outputs": [],
   "source": [
    "for adata in [adata_tabib_fb, adata_vors_fb, adata_sole_young_fb]:\n",
    "    genes = sorted(set([i for i in pap_haydont_2020 if i in adata.var_names]))\n",
    "    sc.pl.umap(adata, color=['clusters'] + genes, cmap=magma, legend_loc='on data', ncols=3, use_raw=False)"
   ]
  },
  {
   "cell_type": "code",
   "execution_count": null,
   "metadata": {},
   "outputs": [],
   "source": [
    "for adata in [adata_tabib_fb, adata_vors_fb, adata_sole_young_fb]:\n",
    "    genes = sorted(set([i for i in ret_haydont_2020 if i in adata.var_names]))\n",
    "    sc.pl.umap(adata, color=['clusters'] + genes, cmap=magma, legend_loc='on data', ncols=3, use_raw=False)"
   ]
  },
  {
   "cell_type": "markdown",
   "metadata": {},
   "source": [
    "### Haydont 2019"
   ]
  },
  {
   "cell_type": "code",
   "execution_count": null,
   "metadata": {},
   "outputs": [],
   "source": [
    "for adata in [adata_tabib_fb, adata_vors_fb, adata_sole_young_fb]:\n",
    "    genes = sorted(set([i for i in pap_haydont_2019 if i in adata.var_names]))\n",
    "    sc.pl.umap(adata, color=['clusters'] + genes, cmap=magma, legend_loc='on data', ncols=3, use_raw=False)"
   ]
  },
  {
   "cell_type": "code",
   "execution_count": null,
   "metadata": {
    "scrolled": true
   },
   "outputs": [],
   "source": [
    "for adata in [adata_tabib_fb, adata_vors_fb, adata_sole_young_fb]:\n",
    "    genes = sorted(set([i for i in ret_haydont_2019 if i in adata.var_names]))\n",
    "    sc.pl.umap(adata, color=['clusters'] + genes, cmap=magma, legend_loc='on data', ncols=3, use_raw=False)"
   ]
  },
  {
   "cell_type": "markdown",
   "metadata": {},
   "source": [
    "### Nauroy 2017"
   ]
  },
  {
   "cell_type": "code",
   "execution_count": null,
   "metadata": {},
   "outputs": [],
   "source": [
    "for adata in [adata_tabib_fb, adata_vors_fb, adata_sole_young_fb]:\n",
    "    genes = sorted(set([i for i in pap_nauroy_2017 if i in adata.var_names]))\n",
    "    sc.pl.umap(adata, color=['clusters'] + genes, cmap=magma, legend_loc='on data', ncols=3, use_raw=False)"
   ]
  },
  {
   "cell_type": "code",
   "execution_count": null,
   "metadata": {},
   "outputs": [],
   "source": [
    "for adata in [adata_tabib_fb, adata_vors_fb, adata_sole_young_fb]:\n",
    "    genes = sorted(set([i for i in ret_nauroy_2017 if i in adata.var_names]))\n",
    "    sc.pl.umap(adata, color=['clusters'] + genes, cmap=magma, legend_loc='on data', ncols=3, use_raw=False)"
   ]
  },
  {
   "cell_type": "markdown",
   "metadata": {},
   "source": [
    "### Janson 2012"
   ]
  },
  {
   "cell_type": "code",
   "execution_count": null,
   "metadata": {},
   "outputs": [],
   "source": [
    "for adata in [adata_tabib_fb, adata_vors_fb, adata_sole_young_fb]:\n",
    "    genes = sorted(set([i for i in pap_janson_2012_A + pap_janson_2012_B if i in adata.var_names]))\n",
    "    sc.pl.umap(adata, color=['clusters'] + genes, cmap=magma, legend_loc='on data', ncols=3, use_raw=False)"
   ]
  },
  {
   "cell_type": "code",
   "execution_count": null,
   "metadata": {},
   "outputs": [],
   "source": [
    "for adata in [adata_tabib_fb, adata_vors_fb, adata_sole_young_fb]:\n",
    "    genes = sorted(set([i for i in ret_janson_2012_A + ret_janson_2012_B if i in adata.var_names]))\n",
    "    sc.pl.umap(adata, color=['clusters'] + genes, cmap=magma, legend_loc='on data', ncols=3, use_raw=False)"
   ]
  },
  {
   "cell_type": "markdown",
   "metadata": {},
   "source": [
    "## Plotting gene scores per dataset / all datasets"
   ]
  },
  {
   "cell_type": "code",
   "execution_count": null,
   "metadata": {},
   "outputs": [],
   "source": [
    "for adata in [adata_tabib_fb, adata_vors_fb, adata_sole_young_fb]:\n",
    "    genes = sorted(set([i for i in pap_haydont_2020 if i in adata.var_names]))\n",
    "    sc.tl.score_genes(adata, genes, score_name='pap_haydont_2020')\n",
    "    genes = sorted(set([i for i in ret_haydont_2020 if i in adata.var_names]))\n",
    "    sc.tl.score_genes(adata, genes, score_name='ret_haydont_2020')\n",
    "    \n",
    "    genes = sorted(set([i for i in pap_haydont_2019 if i in adata.var_names]))\n",
    "    sc.tl.score_genes(adata, genes, score_name='pap_haydont_2019')\n",
    "    genes = sorted(set([i for i in ret_haydont_2019 if i in adata.var_names]))\n",
    "    sc.tl.score_genes(adata, genes, score_name='ret_haydont_2019')   \n",
    "    \n",
    "    genes = sorted(set([i for i in pap_nauroy_2017 if i in adata.var_names]))\n",
    "    sc.tl.score_genes(adata, genes, score_name='pap_nauroy_2017')\n",
    "    genes = sorted(set([i for i in ret_nauroy_2017 if i in adata.var_names]))\n",
    "    sc.tl.score_genes(adata, genes, score_name='ret_nauroy_2017')\n",
    "        \n",
    "    genes = sorted(set([i for i in pap_janson_2012_A + pap_janson_2012_B if i in adata.var_names]))\n",
    "    sc.tl.score_genes(adata, genes, score_name='pap_janson_2012')\n",
    "    genes = sorted(set([i for i in ret_janson_2012_A + ret_janson_2012_B if i in adata.var_names]))\n",
    "    sc.tl.score_genes(adata, genes, score_name='ret_janson_2012')\n",
    "    \n",
    "    genes = sorted(set([i for i in pap_haydont_2020 + pap_haydont_2019 + pap_nauroy_2017 + pap_janson_2012_A + pap_janson_2012_B if i in adata.var_names]))\n",
    "    sc.tl.score_genes(adata, genes, score_name='pap_all')    \n",
    "    genes = sorted(set([i for i in ret_haydont_2020 + ret_haydont_2019 + ret_nauroy_2017 + ret_janson_2012_A + ret_janson_2012_B if i in adata.var_names]))\n",
    "    sc.tl.score_genes(adata, genes, score_name='ret_all')"
   ]
  },
  {
   "cell_type": "code",
   "execution_count": null,
   "metadata": {},
   "outputs": [],
   "source": [
    "for adata in [adata_tabib_fb, adata_vors_fb, adata_sole_young_fb]:\n",
    "        sc.pl.umap(adata, color=['clusters', 'pap_haydont_2020', 'ret_haydont_2020'],\n",
    "                   legend_loc='on data', ncols=3, use_raw=False)"
   ]
  },
  {
   "cell_type": "code",
   "execution_count": null,
   "metadata": {},
   "outputs": [],
   "source": [
    "for adata in [adata_tabib_fb, adata_vors_fb, adata_sole_young_fb]:\n",
    "        sc.pl.umap(adata, color=['clusters', 'pap_haydont_2019', 'ret_haydont_2019'],\n",
    "                   legend_loc='on data', ncols=3, use_raw=False)"
   ]
  },
  {
   "cell_type": "code",
   "execution_count": null,
   "metadata": {},
   "outputs": [],
   "source": [
    "for adata in [adata_tabib_fb, adata_vors_fb, adata_sole_young_fb]:\n",
    "        sc.pl.umap(adata, color=['clusters', 'pap_nauroy_2017', 'ret_nauroy_2017'],\n",
    "                   legend_loc='on data', ncols=3, use_raw=False)"
   ]
  },
  {
   "cell_type": "code",
   "execution_count": null,
   "metadata": {},
   "outputs": [],
   "source": [
    "for adata in [adata_tabib_fb, adata_vors_fb, adata_sole_young_fb]:\n",
    "        sc.pl.umap(adata, color=['clusters', 'pap_janson_2012', 'ret_janson_2012'],\n",
    "                   legend_loc='on data', ncols=3, use_raw=False)"
   ]
  },
  {
   "cell_type": "code",
   "execution_count": null,
   "metadata": {},
   "outputs": [],
   "source": [
    "for adata in [adata_tabib_fb, adata_vors_fb, adata_sole_young_fb]:\n",
    "        sc.pl.umap(adata, color=['clusters', 'pap_all', 'ret_all'],\n",
    "                   legend_loc='on data', ncols=3, use_raw=False)"
   ]
  },
  {
   "cell_type": "code",
   "execution_count": null,
   "metadata": {},
   "outputs": [],
   "source": [
    "create_plot_axis(['EMILIN1', 'EMILIN3'])"
   ]
  }
 ],
 "metadata": {
  "kernelspec": {
   "display_name": "Python [conda env:alex-base] *",
   "language": "python",
   "name": "conda-env-alex-base-py"
  },
  "language_info": {
   "codemirror_mode": {
    "name": "ipython",
    "version": 3
   },
   "file_extension": ".py",
   "mimetype": "text/x-python",
   "name": "python",
   "nbconvert_exporter": "python",
   "pygments_lexer": "ipython3",
   "version": "3.8.0"
  },
  "toc": {
   "base_numbering": 1,
   "nav_menu": {},
   "number_sections": true,
   "sideBar": true,
   "skip_h1_title": false,
   "title_cell": "Table of Contents",
   "title_sidebar": "Contents",
   "toc_cell": false,
   "toc_position": {
    "height": "calc(100% - 180px)",
    "left": "10px",
    "top": "150px",
    "width": "384px"
   },
   "toc_section_display": true,
   "toc_window_display": true
  },
  "varInspector": {
   "cols": {
    "lenName": 16,
    "lenType": 16,
    "lenVar": 40
   },
   "kernels_config": {
    "python": {
     "delete_cmd_postfix": "",
     "delete_cmd_prefix": "del ",
     "library": "var_list.py",
     "varRefreshCmd": "print(var_dic_list())"
    },
    "r": {
     "delete_cmd_postfix": ") ",
     "delete_cmd_prefix": "rm(",
     "library": "var_list.r",
     "varRefreshCmd": "cat(var_dic_list()) "
    }
   },
   "types_to_exclude": [
    "module",
    "function",
    "builtin_function_or_method",
    "instance",
    "_Feature"
   ],
   "window_display": false
  }
 },
 "nbformat": 4,
 "nbformat_minor": 4
}

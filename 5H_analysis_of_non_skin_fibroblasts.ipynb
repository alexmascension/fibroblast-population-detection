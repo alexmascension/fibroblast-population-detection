{
 "cells": [
  {
   "cell_type": "markdown",
   "metadata": {},
   "source": [
    "# ANALYSIS OF NON-SKIN FIBROBLAST DATASETS\n",
    "\n",
    "In this analysis we are not going to go deep onto the fibroblast characterization, but more to see the overlap od the distinct populations from human skin with the populations of fibroblasts from other organs. \n",
    "\n",
    "**YOU NEED TO RUN NOTEBOOH 4H FIRST**"
   ]
  },
  {
   "cell_type": "markdown",
   "metadata": {},
   "source": [
    "## imports"
   ]
  },
  {
   "cell_type": "code",
   "execution_count": null,
   "metadata": {
    "tags": []
   },
   "outputs": [],
   "source": [
    "%load_ext autoreload\n",
    "%autoreload 2"
   ]
  },
  {
   "cell_type": "code",
   "execution_count": null,
   "metadata": {
    "tags": []
   },
   "outputs": [],
   "source": [
    "import scanpy as sc\n",
    "import scanpy.external as sce\n",
    "import pandas as pd\n",
    "import numpy as np\n",
    "import os\n",
    "import triku as tk\n",
    "import seaborn as sns\n",
    "import matplotlib.pyplot as plt\n",
    "import matplotlib as mpl\n",
    "from tqdm.notebook import tqdm\n",
    "import scipy.sparse as spr\n",
    "import matplotlib.cm as cm\n",
    "import networkx as nx\n",
    "from matplotlib import pylab"
   ]
  },
  {
   "cell_type": "code",
   "execution_count": null,
   "metadata": {
    "tags": []
   },
   "outputs": [],
   "source": [
    "!pip install cellassign"
   ]
  },
  {
   "cell_type": "code",
   "execution_count": null,
   "metadata": {
    "tags": []
   },
   "outputs": [],
   "source": [
    "# local imports and imports from other notebooks\n",
    "from cellassign import assign_cats\n",
    "from fb_functions import make_gene_scoring_with_expr, plot_score_graph, plot_UMAPS_gene, plot_adata_cluster_properties\n",
    "%store -r seed\n",
    "%store -r magma\n",
    "%store -r data_dir"
   ]
  },
  {
   "cell_type": "code",
   "execution_count": null,
   "metadata": {},
   "outputs": [],
   "source": [
    "%store -r dict_make_gene_scoring_robust\n",
    "%store -r dict_make_gene_scoring_axis_robust"
   ]
  },
  {
   "cell_type": "code",
   "execution_count": null,
   "metadata": {
    "tags": []
   },
   "outputs": [],
   "source": [
    "%store -r plot_params\n",
    "\n",
    "pylab.rcParams.update(plot_params)\n",
    "pd.set_option('display.max_columns', None)\n",
    "pd.options.display.float_format = \"{:,.2f}\".format"
   ]
  },
  {
   "cell_type": "markdown",
   "metadata": {},
   "source": [
    "**IMPORTANT: I am running this analysis in a computer with ~500 GB of RAM. I will load many datasets at once, which might be too much for some computers. I took this decision conciously, to have as much info available at any time as possible. If you cannot run all the analysis at once, you can run it by parts.**"
   ]
  },
  {
   "cell_type": "code",
   "execution_count": null,
   "metadata": {
    "tags": []
   },
   "outputs": [],
   "source": [
    "dict_cats_clusters_robust = {i: np.array(dict_make_gene_scoring_robust[i].index[:30]) for i in dict_make_gene_scoring_robust.keys()}\n",
    "dict_cats_axes_robust = {i: np.array(dict_make_gene_scoring_axis_robust[i].index[:30]) for i in dict_make_gene_scoring_axis_robust.keys()}"
   ]
  },
  {
   "cell_type": "markdown",
   "metadata": {},
   "source": [
    "## Kuppe et al. 2021 [Kidney]"
   ]
  },
  {
   "cell_type": "code",
   "execution_count": null,
   "metadata": {
    "tags": []
   },
   "outputs": [],
   "source": [
    "kuppe_2021_dir = data_dir + '/kuppe_2021'\n",
    "kuppe_2021_kidney_ctrl = sc.read(kuppe_2021_dir + '/kupper_2021_kidney_pdgfrb_ctrl.h5')"
   ]
  },
  {
   "cell_type": "code",
   "execution_count": null,
   "metadata": {
    "tags": []
   },
   "outputs": [],
   "source": [
    "kuppe_2021_kidney_ctrl.var_names"
   ]
  },
  {
   "cell_type": "code",
   "execution_count": null,
   "metadata": {
    "tags": []
   },
   "outputs": [],
   "source": [
    "# Basic QC filtering\n",
    "kuppe_2021_kidney_ctrl.var['mt'] = kuppe_2021_kidney_ctrl.var_names.str.startswith('MT-')  # annotate the group of mitochondrial genes as 'mt'\n",
    "sc.pp.calculate_qc_metrics(kuppe_2021_kidney_ctrl, qc_vars=['mt'], percent_top=None, inplace=True)"
   ]
  },
  {
   "cell_type": "code",
   "execution_count": null,
   "metadata": {
    "tags": []
   },
   "outputs": [],
   "source": [
    "sc.pl.violin(kuppe_2021_kidney_ctrl, ['n_genes_by_counts', 'total_counts', 'pct_counts_mt'],\n",
    "             jitter=0.4, multi_panel=True)\n",
    "\n",
    "sc.pl.scatter(kuppe_2021_kidney_ctrl, x='total_counts', y='pct_counts_mt')\n",
    "sc.pl.scatter(kuppe_2021_kidney_ctrl, x='total_counts', y='n_genes_by_counts')"
   ]
  },
  {
   "cell_type": "code",
   "execution_count": null,
   "metadata": {
    "tags": []
   },
   "outputs": [],
   "source": [
    "fig, ax = plt.subplots(1, 1, figsize=(10, 4))\n",
    "df = pd.DataFrame({'x': kuppe_2021_kidney_ctrl.obs['Internal sample identifier'], 'y': kuppe_2021_kidney_ctrl.obs['log1p_n_genes_by_counts']})\n",
    "sns.violinplot(x='x', y='y', data=df, ax=ax)"
   ]
  },
  {
   "cell_type": "code",
   "execution_count": null,
   "metadata": {
    "tags": []
   },
   "outputs": [],
   "source": [
    "kuppe_2021_kidney_ctrl = kuppe_2021_kidney_ctrl[(((kuppe_2021_kidney_ctrl.obs['Internal sample identifier'] == 'Pb1') & (kuppe_2021_kidney_ctrl.obs.log1p_n_genes_by_counts < 8.2) & \n",
    "                                                (kuppe_2021_kidney_ctrl.obs.log1p_n_genes_by_counts > 7.3)) | \n",
    "                                              ((kuppe_2021_kidney_ctrl.obs['Internal sample identifier'] == 'Pb2') & (kuppe_2021_kidney_ctrl.obs.log1p_n_genes_by_counts < 8.2) & \n",
    "                                                (kuppe_2021_kidney_ctrl.obs.log1p_n_genes_by_counts > 7.3)) | \n",
    "                                              ((kuppe_2021_kidney_ctrl.obs['Internal sample identifier'] == 'Pb4') & (kuppe_2021_kidney_ctrl.obs.log1p_n_genes_by_counts < 8.4) & \n",
    "                                                (kuppe_2021_kidney_ctrl.obs.log1p_n_genes_by_counts > 7.8)) | \n",
    "                                              ((kuppe_2021_kidney_ctrl.obs['Internal sample identifier'] == 'Pb5') & (kuppe_2021_kidney_ctrl.obs.log1p_n_genes_by_counts < 8.6) & \n",
    "                                                (kuppe_2021_kidney_ctrl.obs.log1p_n_genes_by_counts > 8))).values | \n",
    "                                                 ((kuppe_2021_kidney_ctrl.obs['Internal sample identifier'] == 'Pb6') & (kuppe_2021_kidney_ctrl.obs.log1p_n_genes_by_counts < 8.6) & \n",
    "                                                (kuppe_2021_kidney_ctrl.obs.log1p_n_genes_by_counts > 8)) | \n",
    "                                                ((kuppe_2021_kidney_ctrl.obs['Internal sample identifier'] == 'Pb8') & (kuppe_2021_kidney_ctrl.obs.log1p_n_genes_by_counts < 8.2) & \n",
    "                                                (kuppe_2021_kidney_ctrl.obs.log1p_n_genes_by_counts > 7.5)) | \n",
    "                                              ((kuppe_2021_kidney_ctrl.obs['Internal sample identifier'] == 'Pb9') & (kuppe_2021_kidney_ctrl.obs.log1p_n_genes_by_counts < 8.2) & \n",
    "                                                (kuppe_2021_kidney_ctrl.obs.log1p_n_genes_by_counts > 7.5)) , :]\n",
    "kuppe_2021_kidney_ctrl = kuppe_2021_kidney_ctrl[kuppe_2021_kidney_ctrl.obs.pct_counts_mt < 15, :]"
   ]
  },
  {
   "cell_type": "code",
   "execution_count": null,
   "metadata": {
    "tags": []
   },
   "outputs": [],
   "source": [
    "sc.pp.filter_genes(kuppe_2021_kidney_ctrl, min_counts=1)\n",
    "sc.pp.normalize_total(kuppe_2021_kidney_ctrl)\n",
    "sc.pp.log1p(kuppe_2021_kidney_ctrl)"
   ]
  },
  {
   "cell_type": "code",
   "execution_count": null,
   "metadata": {
    "tags": []
   },
   "outputs": [],
   "source": [
    "sc.pp.pca(kuppe_2021_kidney_ctrl, random_state=seed, n_comps=30)\n",
    "sce.pp.harmony_integrate(kuppe_2021_kidney_ctrl, key='Internal sample identifier', max_iter_harmony=50)\n",
    "sc.pp.neighbors(kuppe_2021_kidney_ctrl, use_rep='X_pca_harmony',  n_neighbors=int(0.5 * len(kuppe_2021_kidney_ctrl) ** 0.5 // 2), metric='cosine')\n",
    "tk.tl.triku(kuppe_2021_kidney_ctrl)"
   ]
  },
  {
   "cell_type": "code",
   "execution_count": null,
   "metadata": {
    "tags": []
   },
   "outputs": [],
   "source": [
    "sc.tl.umap(kuppe_2021_kidney_ctrl, min_dist=0.2, random_state=seed)\n",
    "sc.tl.leiden(kuppe_2021_kidney_ctrl, resolution=1, random_state=seed)"
   ]
  },
  {
   "cell_type": "code",
   "execution_count": null,
   "metadata": {
    "tags": []
   },
   "outputs": [],
   "source": [
    "sc.pp.subsample(kuppe_2021_kidney_ctrl, fraction=1, random_state=0, copy=False)\n",
    "sc.pl.umap(kuppe_2021_kidney_ctrl, color=['leiden', 'Internal sample identifier'], legend_loc='on data')"
   ]
  },
  {
   "cell_type": "code",
   "execution_count": null,
   "metadata": {
    "tags": []
   },
   "outputs": [],
   "source": [
    "sc.pl.umap(kuppe_2021_kidney_ctrl, color=['leiden', 'LUM', 'PDGFRA', 'COL1A1', 'DCN', 'RGS5', 'MYH11', 'MLANA', 'PMEL'], legend_loc='on data', cmap=magma, use_raw=False)"
   ]
  },
  {
   "cell_type": "code",
   "execution_count": null,
   "metadata": {
    "tags": []
   },
   "outputs": [],
   "source": [
    "sc.pl.umap(kuppe_2021_kidney_ctrl, color=['leiden', 'Annotation.Level.1', 'Annotation.Level.2', 'Annotation.Level.3'], legend_loc='on data', ncols=2)"
   ]
  },
  {
   "cell_type": "code",
   "execution_count": null,
   "metadata": {
    "tags": []
   },
   "outputs": [],
   "source": [
    "sc.pl.umap(kuppe_2021_kidney_ctrl, color=['leiden', 'COL18A1', 'APCDD1', 'SLPI', 'CCL19'], legend_loc='on data', cmap=magma, use_raw=False)"
   ]
  },
  {
   "cell_type": "code",
   "execution_count": null,
   "metadata": {
    "tags": []
   },
   "outputs": [],
   "source": [
    "kuppe_2021_kidney_ctrl_fb = kuppe_2021_kidney_ctrl[kuppe_2021_kidney_ctrl.obs['Annotation.Level.2'].isin(['Myofibroblasts', 'Fibroblasts'])].copy()"
   ]
  },
  {
   "cell_type": "code",
   "execution_count": null,
   "metadata": {
    "tags": []
   },
   "outputs": [],
   "source": [
    "sc.pp.filter_genes(kuppe_2021_kidney_ctrl_fb, min_counts=1)"
   ]
  },
  {
   "cell_type": "code",
   "execution_count": null,
   "metadata": {
    "tags": []
   },
   "outputs": [],
   "source": [
    "sc.pp.pca(kuppe_2021_kidney_ctrl_fb, random_state=seed, n_comps=50)\n",
    "sce.pp.harmony_integrate(kuppe_2021_kidney_ctrl_fb, key='Internal sample identifier', max_iter_harmony=50)\n",
    "sc.pp.neighbors(kuppe_2021_kidney_ctrl_fb, use_rep='X_pca_harmony',  n_neighbors=int(0.1 * len(kuppe_2021_kidney_ctrl_fb) ** 0.5), metric='cosine')\n",
    "tk.tl.triku(kuppe_2021_kidney_ctrl_fb)"
   ]
  },
  {
   "cell_type": "code",
   "execution_count": null,
   "metadata": {
    "tags": []
   },
   "outputs": [],
   "source": [
    "sc.tl.umap(kuppe_2021_kidney_ctrl_fb, min_dist=0.2, random_state=seed)\n",
    "sc.tl.leiden(kuppe_2021_kidney_ctrl_fb, resolution=1, random_state=seed)"
   ]
  },
  {
   "cell_type": "code",
   "execution_count": null,
   "metadata": {
    "tags": []
   },
   "outputs": [],
   "source": [
    "sc.pl.umap(kuppe_2021_kidney_ctrl_fb, color=['Internal sample identifier', 'Annotation.Level.3', 'leiden'], legend_loc='on data', cmap=magma, use_raw=False, ncols=2)"
   ]
  },
  {
   "cell_type": "code",
   "execution_count": null,
   "metadata": {
    "scrolled": true,
    "tags": []
   },
   "outputs": [],
   "source": [
    "sc.tl.rank_genes_groups(kuppe_2021_kidney_ctrl_fb, groupby='leiden')\n",
    "sc.tl.dendrogram(kuppe_2021_kidney_ctrl_fb, groupby='leiden')\n",
    "sc.pl.rank_genes_groups_tracksplot(kuppe_2021_kidney_ctrl_fb, dendrogram=True, n_genes=35)"
   ]
  },
  {
   "cell_type": "code",
   "execution_count": null,
   "metadata": {
    "tags": []
   },
   "outputs": [],
   "source": [
    "kuppe_2021_kidney_ctrl_fb.uns['cluster_robust_colors'] = [dict_colors[i] if i in dict_colors else '#bcbcbc' for i in sorted(set(kuppe_2021_kidney_ctrl_fb.obs['cluster_robust']))]\n",
    "sc.pl.umap(kuppe_2021_kidney_ctrl_fb, color=['Internal sample identifier', 'leiden', 'axis_robust', 'cluster_robust'], legend_loc='on data', cmap=magma, use_raw=False, ncols=2)"
   ]
  },
  {
   "cell_type": "code",
   "execution_count": null,
   "metadata": {
    "tags": []
   },
   "outputs": [],
   "source": [
    "del kuppe_2021_kidney_ctrl_fb.obs['C3']"
   ]
  },
  {
   "cell_type": "code",
   "execution_count": null,
   "metadata": {
    "scrolled": true,
    "tags": []
   },
   "outputs": [],
   "source": [
    "for key, val in dict_cats_clusters_robust.items():\n",
    "    print(key)\n",
    "    sc.pl.umap(kuppe_2021_kidney_ctrl_fb, color=['cluster_robust'] + [i for i in val if i in kuppe_2021_kidney_ctrl_fb.var_names], legend_loc='on data', cmap=magma, use_raw=False, ncols=4) "
   ]
  },
  {
   "cell_type": "code",
   "execution_count": null,
   "metadata": {
    "tags": []
   },
   "outputs": [],
   "source": [
    "plot_score_graph(kuppe_2021_kidney_ctrl_fb, cluster_column='cluster_robust')"
   ]
  },
  {
   "cell_type": "code",
   "execution_count": null,
   "metadata": {
    "tags": []
   },
   "outputs": [],
   "source": [
    "clear_adata(kuppe_2021_kidney_ctrl_fb)\n",
    "kuppe_2021_kidney_ctrl_fb.write_h5ad(kuppe_2021_dir + '/kuppe_2021_kidney_ctrl_fb_processed.h5')\n",
    "kuppe_2021_kidney_ctrl.write_h5ad(kuppe_2021_dir + '/kuppe_2021_kidney_ctrl.h5')"
   ]
  },
  {
   "cell_type": "code",
   "execution_count": null,
   "metadata": {
    "tags": []
   },
   "outputs": [],
   "source": [
    "liu_2021_ctrl_fb = sc.read(kuppe_2021_dir + '/kuppe_2021_kidney_ctrl_fb_processed.h5')"
   ]
  },
  {
   "cell_type": "code",
   "execution_count": null,
   "metadata": {},
   "outputs": [],
   "source": []
  },
  {
   "cell_type": "markdown",
   "metadata": {},
   "source": [
    "## Travaglini et al. 2020 [Lung]"
   ]
  },
  {
   "cell_type": "code",
   "execution_count": null,
   "metadata": {
    "tags": []
   },
   "outputs": [],
   "source": [
    "travaglini_2020_dir = data_dir + '/travaglini_2020'\n",
    "travaglini_2020_lung_ctrl = sc.read(travaglini_2020_dir + '/travaglini_2020_lung_ctrl.h5')"
   ]
  },
  {
   "cell_type": "code",
   "execution_count": null,
   "metadata": {
    "tags": []
   },
   "outputs": [],
   "source": [
    "# Basic QC filtering\n",
    "travaglini_2020_lung_ctrl.var['mt'] = travaglini_2020_lung_ctrl.var_names.str.startswith('MT-')  # annotate the group of mitochondrial genes as 'mt'\n",
    "sc.pp.calculate_qc_metrics(travaglini_2020_lung_ctrl, qc_vars=['mt'], percent_top=None, inplace=True)"
   ]
  },
  {
   "cell_type": "code",
   "execution_count": null,
   "metadata": {
    "tags": []
   },
   "outputs": [],
   "source": [
    "sc.pl.violin(travaglini_2020_lung_ctrl, ['n_genes_by_counts', 'total_counts', 'pct_counts_mt'],\n",
    "             jitter=0.4, multi_panel=True)\n",
    "\n",
    "sc.pl.scatter(travaglini_2020_lung_ctrl, x='total_counts', y='pct_counts_mt')\n",
    "sc.pl.scatter(travaglini_2020_lung_ctrl, x='total_counts', y='n_genes_by_counts')"
   ]
  },
  {
   "cell_type": "code",
   "execution_count": null,
   "metadata": {
    "tags": []
   },
   "outputs": [],
   "source": [
    "fig, ax = plt.subplots(1, 1, figsize=(10, 4))\n",
    "df = pd.DataFrame({'x': travaglini_2020_lung_ctrl.obs['Internal sample identifier'], 'y': travaglini_2020_lung_ctrl.obs['log1p_n_genes_by_counts']})\n",
    "sns.violinplot(x='x', y='y', data=df, ax=ax)"
   ]
  },
  {
   "cell_type": "code",
   "execution_count": null,
   "metadata": {
    "tags": []
   },
   "outputs": [],
   "source": [
    "travaglini_2020_lung_ctrl = travaglini_2020_lung_ctrl[(((travaglini_2020_lung_ctrl.obs['Internal sample identifier'] == 'P1') & (travaglini_2020_lung_ctrl.obs.log1p_n_genes_by_counts < 8.5) & \n",
    "                                                (travaglini_2020_lung_ctrl.obs.log1p_n_genes_by_counts > 6.8)) | \n",
    "                                              ((travaglini_2020_lung_ctrl.obs['Internal sample identifier'] == 'P2') & (travaglini_2020_lung_ctrl.obs.log1p_n_genes_by_counts < 8.5) & \n",
    "                                                (travaglini_2020_lung_ctrl.obs.log1p_n_genes_by_counts > 6.8)) | \n",
    "                                              ((travaglini_2020_lung_ctrl.obs['Internal sample identifier'] == 'P3') & (travaglini_2020_lung_ctrl.obs.log1p_n_genes_by_counts < 8.5) & \n",
    "                                                (travaglini_2020_lung_ctrl.obs.log1p_n_genes_by_counts > 6.8))) , :]"
   ]
  },
  {
   "cell_type": "code",
   "execution_count": null,
   "metadata": {
    "tags": []
   },
   "outputs": [],
   "source": [
    "sc.pp.filter_genes(travaglini_2020_lung_ctrl, min_counts=1)\n",
    "sc.pp.normalize_total(travaglini_2020_lung_ctrl)\n",
    "sc.pp.log1p(travaglini_2020_lung_ctrl)"
   ]
  },
  {
   "cell_type": "code",
   "execution_count": null,
   "metadata": {
    "tags": []
   },
   "outputs": [],
   "source": [
    "sc.pp.pca(travaglini_2020_lung_ctrl, random_state=seed, n_comps=30)\n",
    "sce.pp.harmony_integrate(travaglini_2020_lung_ctrl, key='Internal sample identifier', max_iter_harmony=50)\n",
    "sc.pp.neighbors(travaglini_2020_lung_ctrl, use_rep='X_pca_harmony',  n_neighbors=int(0.5 * len(travaglini_2020_lung_ctrl) ** 0.5 // 2), metric='cosine')\n",
    "tk.tl.triku(travaglini_2020_lung_ctrl)"
   ]
  },
  {
   "cell_type": "code",
   "execution_count": null,
   "metadata": {
    "tags": []
   },
   "outputs": [],
   "source": [
    "sc.tl.umap(travaglini_2020_lung_ctrl, min_dist=0.2, random_state=seed)\n",
    "sc.tl.leiden(travaglini_2020_lung_ctrl, resolution=1, random_state=seed)"
   ]
  },
  {
   "cell_type": "code",
   "execution_count": null,
   "metadata": {
    "tags": []
   },
   "outputs": [],
   "source": [
    "sc.pp.subsample(travaglini_2020_lung_ctrl, fraction=1, random_state=0, copy=False)\n",
    "sc.pl.umap(travaglini_2020_lung_ctrl, color=['leiden', 'Internal sample identifier'], legend_loc='on data')"
   ]
  },
  {
   "cell_type": "code",
   "execution_count": null,
   "metadata": {
    "tags": []
   },
   "outputs": [],
   "source": [
    "sc.pl.umap(travaglini_2020_lung_ctrl, color=['leiden', 'LUM', 'PDGFRA', 'DCN', 'ELN',\n",
    "                                             'RGS5', 'MYH11', 'NDUFA4L2', \n",
    "                                             'PECAM1', 'CLDN5', 'VWF', \n",
    "                                             'EPCAM', 'PTPRC'], legend_loc='on data', cmap=magma, use_raw=False)"
   ]
  },
  {
   "cell_type": "code",
   "execution_count": null,
   "metadata": {
    "tags": []
   },
   "outputs": [],
   "source": [
    "dict_cats_fb = {'fibro': ['LUM', 'PDGFRA', 'DCN'], \n",
    "                'endo': ['PECAM1', 'CLDN5', 'VWF'],\n",
    "                'peri': ['RGS5', 'MYH11', 'NDUFA4L2'],\n",
    "                'epithelial': ['EPCAM', ], \n",
    "                'immune': ['PTPRC']\n",
    "               }"
   ]
  },
  {
   "cell_type": "code",
   "execution_count": null,
   "metadata": {
    "tags": []
   },
   "outputs": [],
   "source": [
    "assign_cats(travaglini_2020_lung_ctrl, dict_cats=dict_cats_fb, min_score=0.6, quantile_gene_sel=0.999)"
   ]
  },
  {
   "cell_type": "code",
   "execution_count": null,
   "metadata": {
    "tags": []
   },
   "outputs": [],
   "source": [
    "sc.pl.umap(travaglini_2020_lung_ctrl, color=['leiden', 'assigned_cats',], legend_loc='on data', cmap=magma, use_raw=False)"
   ]
  },
  {
   "cell_type": "code",
   "execution_count": null,
   "metadata": {
    "tags": []
   },
   "outputs": [],
   "source": [
    "travaglini_2020_lung_ctrl_fb = travaglini_2020_lung_ctrl[travaglini_2020_lung_ctrl.obs['assigned_cats'].isin(['fibro'])].copy()"
   ]
  },
  {
   "cell_type": "code",
   "execution_count": null,
   "metadata": {
    "tags": []
   },
   "outputs": [],
   "source": [
    "sc.pp.filter_genes(travaglini_2020_lung_ctrl_fb, min_counts=1)"
   ]
  },
  {
   "cell_type": "code",
   "execution_count": null,
   "metadata": {
    "tags": []
   },
   "outputs": [],
   "source": [
    "sc.pp.pca(travaglini_2020_lung_ctrl_fb, random_state=seed, n_comps=50)\n",
    "sce.pp.harmony_integrate(travaglini_2020_lung_ctrl_fb, key='Internal sample identifier', max_iter_harmony=50)\n",
    "sc.pp.neighbors(travaglini_2020_lung_ctrl_fb, use_rep='X_pca_harmony',  n_neighbors=int(0.3 * len(travaglini_2020_lung_ctrl_fb) ** 0.5), metric='cosine')\n",
    "tk.tl.triku(travaglini_2020_lung_ctrl_fb)"
   ]
  },
  {
   "cell_type": "code",
   "execution_count": null,
   "metadata": {
    "tags": []
   },
   "outputs": [],
   "source": [
    "sc.tl.umap(travaglini_2020_lung_ctrl_fb, min_dist=0.2, random_state=seed)\n",
    "sc.tl.leiden(travaglini_2020_lung_ctrl_fb, resolution=1, random_state=seed)"
   ]
  },
  {
   "cell_type": "code",
   "execution_count": null,
   "metadata": {
    "tags": []
   },
   "outputs": [],
   "source": [
    "sc.pl.umap(travaglini_2020_lung_ctrl_fb, color=['Internal sample identifier', 'leiden', \n",
    "                                                'PDGFRA', 'BGN', \n",
    "                                                'SFRP2', 'PDLIM4', 'PDGFRL', 'IGFBP4', \n",
    "                                                'DKK3', 'SPINT2', 'FGFR4', 'GPM6B'], legend_loc='on data', cmap=magma, use_raw=False, ncols=2)"
   ]
  },
  {
   "cell_type": "code",
   "execution_count": null,
   "metadata": {
    "tags": []
   },
   "outputs": [],
   "source": [
    "assign_cats(travaglini_2020_lung_ctrl_fb, dict_cats=dict_cats_clusters_robust, min_score=0.4, quantile_gene_sel=0.6, key_added='cluster_robust', others_name='U', verbose=False)\n",
    "assign_cats(travaglini_2020_lung_ctrl_fb, column_groupby='cluster_robust', dict_cats=dict_cats_axes_robust, min_score=0.4, key_added='axis_robust', \n",
    "            quantile_gene_sel=0.95, intermediate_states=True, diff=0.05, others_name='U', verbose=False)\n",
    "\n",
    "travaglini_2020_lung_ctrl_fb.uns['cluster_robust_colors'] = [dict_colors[i] if i in dict_colors else '#bcbcbc' for i in sorted(set(travaglini_2020_lung_ctrl_fb.obs['cluster_robust']))]\n",
    "sc.pl.umap(travaglini_2020_lung_ctrl_fb, color=['Internal sample identifier', 'leiden', 'axis_robust', 'cluster_robust'], legend_loc='on data', cmap=magma, use_raw=False, ncols=2)"
   ]
  },
  {
   "cell_type": "code",
   "execution_count": null,
   "metadata": {
    "tags": []
   },
   "outputs": [],
   "source": [
    "del travaglini_2020_lung_ctrl_fb.obs['C3']"
   ]
  },
  {
   "cell_type": "code",
   "execution_count": null,
   "metadata": {
    "tags": []
   },
   "outputs": [],
   "source": [
    "for key, val in dict_cats_clusters_robust.items():\n",
    "    print(key)\n",
    "    sc.pl.umap(travaglini_2020_lung_ctrl_fb, color=['cluster_robust'] + [i for i in val if i in travaglini_2020_lung_ctrl_fb.var_names], legend_loc='on data', cmap=magma, use_raw=False, ncols=4) "
   ]
  },
  {
   "cell_type": "code",
   "execution_count": null,
   "metadata": {
    "scrolled": true,
    "tags": []
   },
   "outputs": [],
   "source": [
    "sc.tl.rank_genes_groups(travaglini_2020_lung_ctrl_fb, groupby='leiden')\n",
    "sc.tl.dendrogram(travaglini_2020_lung_ctrl_fb, groupby='leiden')\n",
    "sc.pl.rank_genes_groups_tracksplot(travaglini_2020_lung_ctrl_fb, dendrogram=True, n_genes=35)"
   ]
  },
  {
   "cell_type": "markdown",
   "metadata": {},
   "source": [
    "## Litviňuková et al. 2020 [Heart]"
   ]
  },
  {
   "cell_type": "code",
   "execution_count": null,
   "metadata": {
    "tags": []
   },
   "outputs": [],
   "source": [
    "litvinukova_2020_dir = data_dir + '/litvinukova_2020'\n",
    "litvinukova_2020_heart_ctrl = sc.read(litvinukova_2020_dir + '/litvinukova_2020_heart_ctrl.h5')"
   ]
  },
  {
   "cell_type": "code",
   "execution_count": null,
   "metadata": {
    "tags": []
   },
   "outputs": [],
   "source": [
    "# Basic QC filtering\n",
    "litvinukova_2020_heart_ctrl.var['mt'] = litvinukova_2020_heart_ctrl.var_names.str.startswith('MT-')  # annotate the group of mitochondrial genes as 'mt'\n",
    "sc.pp.calculate_qc_metrics(litvinukova_2020_heart_ctrl, qc_vars=['mt'], percent_top=None, inplace=True)"
   ]
  },
  {
   "cell_type": "code",
   "execution_count": null,
   "metadata": {
    "tags": []
   },
   "outputs": [],
   "source": [
    "sc.pl.violin(litvinukova_2020_heart_ctrl, ['n_genes_by_counts', 'total_counts', 'pct_counts_mt'],\n",
    "             jitter=0.4, multi_panel=True)\n",
    "\n",
    "sc.pl.scatter(litvinukova_2020_heart_ctrl, x='total_counts', y='pct_counts_mt')\n",
    "sc.pl.scatter(litvinukova_2020_heart_ctrl, x='total_counts', y='n_genes_by_counts')"
   ]
  },
  {
   "cell_type": "code",
   "execution_count": null,
   "metadata": {
    "tags": []
   },
   "outputs": [],
   "source": [
    "fig, ax = plt.subplots(1, 1, figsize=(10, 4))\n",
    "df = pd.DataFrame({'x': litvinukova_2020_heart_ctrl.obs['Internal sample identifier'], 'y': litvinukova_2020_heart_ctrl.obs['log1p_n_genes_by_counts']})\n",
    "sns.violinplot(x='x', y='y', data=df, ax=ax)"
   ]
  },
  {
   "cell_type": "code",
   "execution_count": null,
   "metadata": {
    "tags": []
   },
   "outputs": [],
   "source": [
    "litvinukova_2020_heart_ctrl = litvinukova_2020_heart_ctrl[(((litvinukova_2020_heart_ctrl.obs['Internal sample identifier'] == 'D1') & (litvinukova_2020_heart_ctrl.obs.log1p_n_genes_by_counts < 7.1) & \n",
    "                                                (litvinukova_2020_heart_ctrl.obs.log1p_n_genes_by_counts > 6.3)) | \n",
    "                                              ((litvinukova_2020_heart_ctrl.obs['Internal sample identifier'] == 'D3') & (litvinukova_2020_heart_ctrl.obs.log1p_n_genes_by_counts < 7.7) & \n",
    "                                                (litvinukova_2020_heart_ctrl.obs.log1p_n_genes_by_counts > 7)) | \n",
    "                                              ((litvinukova_2020_heart_ctrl.obs['Internal sample identifier'] == 'D4') & (litvinukova_2020_heart_ctrl.obs.log1p_n_genes_by_counts < 7.1) & \n",
    "                                                (litvinukova_2020_heart_ctrl.obs.log1p_n_genes_by_counts > 6.3))) |\n",
    "                                               ((litvinukova_2020_heart_ctrl.obs['Internal sample identifier'] == 'D5') & (litvinukova_2020_heart_ctrl.obs.log1p_n_genes_by_counts < 7.1) & \n",
    "                                                (litvinukova_2020_heart_ctrl.obs.log1p_n_genes_by_counts > 6.3)) |\n",
    "                                               ((litvinukova_2020_heart_ctrl.obs['Internal sample identifier'] == 'D6') & (litvinukova_2020_heart_ctrl.obs.log1p_n_genes_by_counts < 7.7) & \n",
    "                                                (litvinukova_2020_heart_ctrl.obs.log1p_n_genes_by_counts > 7)) |\n",
    "                                               ((litvinukova_2020_heart_ctrl.obs['Internal sample identifier'] == 'D7') & (litvinukova_2020_heart_ctrl.obs.log1p_n_genes_by_counts < 7.7) & \n",
    "                                                (litvinukova_2020_heart_ctrl.obs.log1p_n_genes_by_counts > 7)) |\n",
    "                                               ((litvinukova_2020_heart_ctrl.obs['Internal sample identifier'] == 'D11') & (litvinukova_2020_heart_ctrl.obs.log1p_n_genes_by_counts < 7.7) & \n",
    "                                                (litvinukova_2020_heart_ctrl.obs.log1p_n_genes_by_counts > 7)) , :]"
   ]
  },
  {
   "cell_type": "code",
   "execution_count": null,
   "metadata": {
    "tags": []
   },
   "outputs": [],
   "source": [
    "sc.pp.filter_genes(litvinukova_2020_heart_ctrl, min_counts=1)\n",
    "sc.pp.normalize_total(litvinukova_2020_heart_ctrl)\n",
    "sc.pp.log1p(litvinukova_2020_heart_ctrl)"
   ]
  },
  {
   "cell_type": "code",
   "execution_count": null,
   "metadata": {
    "tags": []
   },
   "outputs": [],
   "source": [
    "sc.pp.pca(litvinukova_2020_heart_ctrl, random_state=seed, n_comps=30)\n",
    "sce.pp.harmony_integrate(litvinukova_2020_heart_ctrl, key='Internal sample identifier', max_iter_harmony=50)\n",
    "sc.pp.neighbors(litvinukova_2020_heart_ctrl, use_rep='X_pca_harmony',  n_neighbors=int(0.5 * len(litvinukova_2020_heart_ctrl) ** 0.5 // 2), metric='cosine')\n",
    "tk.tl.triku(litvinukova_2020_heart_ctrl)"
   ]
  },
  {
   "cell_type": "code",
   "execution_count": null,
   "metadata": {
    "tags": []
   },
   "outputs": [],
   "source": [
    "sc.tl.umap(litvinukova_2020_heart_ctrl, min_dist=0.2, random_state=seed)\n",
    "sc.tl.leiden(litvinukova_2020_heart_ctrl, resolution=1, random_state=seed)"
   ]
  },
  {
   "cell_type": "code",
   "execution_count": null,
   "metadata": {
    "tags": []
   },
   "outputs": [],
   "source": [
    "sc.pp.subsample(litvinukova_2020_heart_ctrl, fraction=1, random_state=0, copy=False)\n",
    "sc.pl.umap(litvinukova_2020_heart_ctrl, color=['leiden', 'Internal sample identifier'], legend_loc='on data')"
   ]
  },
  {
   "cell_type": "code",
   "execution_count": null,
   "metadata": {
    "tags": []
   },
   "outputs": [],
   "source": [
    "sc.pl.umap(litvinukova_2020_heart_ctrl, color=['leiden', 'LUM', 'PDGFRA', 'DCN', 'ELN',\n",
    "                                             'RGS5', 'MYH11', 'NDUFA4L2', \n",
    "                                             'PECAM1', 'CLDN5', 'VWF', \n",
    "                                             'EPCAM', 'PTPRC'], legend_loc='on data', cmap=magma, use_raw=False)"
   ]
  },
  {
   "cell_type": "code",
   "execution_count": null,
   "metadata": {
    "tags": []
   },
   "outputs": [],
   "source": [
    "dict_cats_fb = {'fibro': ['LUM', 'PDGFRA', 'DCN'], \n",
    "                'endo': ['PECAM1', 'CLDN5', 'VWF'],\n",
    "                'peri': ['RGS5', 'MYH11', 'NDUFA4L2'],\n",
    "                'epithelial': ['EPCAM', ], \n",
    "                'immune': ['PTPRC']\n",
    "               }"
   ]
  },
  {
   "cell_type": "code",
   "execution_count": null,
   "metadata": {
    "tags": []
   },
   "outputs": [],
   "source": [
    "assign_cats(litvinukova_2020_heart_ctrl, dict_cats=dict_cats_fb, min_score=0.6, quantile_gene_sel=0.999)"
   ]
  },
  {
   "cell_type": "code",
   "execution_count": null,
   "metadata": {
    "tags": []
   },
   "outputs": [],
   "source": [
    "sc.pl.umap(litvinukova_2020_heart_ctrl, color=['leiden', 'assigned_cats',], legend_loc='on data', cmap=magma, use_raw=False)"
   ]
  },
  {
   "cell_type": "code",
   "execution_count": null,
   "metadata": {
    "tags": []
   },
   "outputs": [],
   "source": [
    "litvinukova_2020_heart_ctrl_fb = litvinukova_2020_heart_ctrl[litvinukova_2020_heart_ctrl.obs['assigned_cats'].isin(['fibro'])].copy()"
   ]
  },
  {
   "cell_type": "code",
   "execution_count": null,
   "metadata": {
    "tags": []
   },
   "outputs": [],
   "source": [
    "sc.pp.filter_genes(litvinukova_2020_heart_ctrl_fb, min_counts=1)"
   ]
  },
  {
   "cell_type": "code",
   "execution_count": null,
   "metadata": {
    "tags": []
   },
   "outputs": [],
   "source": [
    "sc.pp.pca(litvinukova_2020_heart_ctrl_fb, random_state=seed, n_comps=50)\n",
    "sce.pp.harmony_integrate(litvinukova_2020_heart_ctrl_fb, key='Internal sample identifier', max_iter_harmony=50)\n",
    "sc.pp.neighbors(litvinukova_2020_heart_ctrl_fb, use_rep='X_pca_harmony',  n_neighbors=int(0.3 * len(litvinukova_2020_heart_ctrl_fb) ** 0.5), metric='cosine')\n",
    "tk.tl.triku(litvinukova_2020_heart_ctrl_fb)"
   ]
  },
  {
   "cell_type": "code",
   "execution_count": null,
   "metadata": {
    "tags": []
   },
   "outputs": [],
   "source": [
    "sc.tl.umap(litvinukova_2020_heart_ctrl_fb, min_dist=0.6, random_state=seed)\n",
    "sc.tl.leiden(litvinukova_2020_heart_ctrl_fb, resolution=0.5, random_state=seed)"
   ]
  },
  {
   "cell_type": "code",
   "execution_count": null,
   "metadata": {
    "tags": []
   },
   "outputs": [],
   "source": [
    "sc.pl.umap(litvinukova_2020_heart_ctrl_fb, color=['Internal sample identifier', 'leiden', \n",
    "                                               ], legend_loc='on data', cmap=magma, use_raw=False, ncols=2)"
   ]
  },
  {
   "cell_type": "markdown",
   "metadata": {},
   "source": [
    "## Elmentaite et al. 2021 [Instesinal tract]"
   ]
  },
  {
   "cell_type": "code",
   "execution_count": null,
   "metadata": {
    "tags": []
   },
   "outputs": [],
   "source": [
    "elmentaite_2021_dir = data_dir + '/elmentaite_2021'\n",
    "elmentaite_2021_intestine_ctrl = sc.read(elmentaite_2021_dir + '/elmentaite_2021_intestine_ctrl.h5')"
   ]
  },
  {
   "cell_type": "code",
   "execution_count": null,
   "metadata": {
    "tags": []
   },
   "outputs": [],
   "source": [
    "# Basic QC filtering\n",
    "elmentaite_2021_intestine_ctrl.var['mt'] = elmentaite_2021_intestine_ctrl.var_names.str.startswith('MT-')  # annotate the group of mitochondrial genes as 'mt'\n",
    "sc.pp.calculate_qc_metrics(elmentaite_2021_intestine_ctrl, qc_vars=['mt'], percent_top=None, inplace=True)"
   ]
  },
  {
   "cell_type": "code",
   "execution_count": null,
   "metadata": {
    "jupyter": {
     "source_hidden": true
    },
    "tags": []
   },
   "outputs": [],
   "source": [
    "sc.pl.violin(elmentaite_2021_intestine_ctrl, ['n_genes_by_counts', 'total_counts', 'pct_counts_mt'],\n",
    "             jitter=0.4, multi_panel=True)\n",
    "\n",
    "sc.pl.scatter(elmentaite_2021_intestine_ctrl, x='total_counts', y='pct_counts_mt')\n",
    "sc.pl.scatter(elmentaite_2021_intestine_ctrl, x='total_counts', y='n_genes_by_counts')"
   ]
  },
  {
   "cell_type": "code",
   "execution_count": null,
   "metadata": {
    "tags": []
   },
   "outputs": [],
   "source": [
    "fig, ax = plt.subplots(1, 1, figsize=(10, 4))\n",
    "df = pd.DataFrame({'x': elmentaite_2021_intestine_ctrl.obs['Internal sample identifier'], 'y': elmentaite_2021_intestine_ctrl.obs['log1p_n_genes_by_counts']})\n",
    "sns.violinplot(x='x', y='y', data=df, ax=ax)"
   ]
  },
  {
   "cell_type": "code",
   "execution_count": null,
   "metadata": {
    "tags": []
   },
   "outputs": [],
   "source": [
    "elmentaite_2021_intestine_ctrl = elmentaite_2021_intestine_ctrl[((elmentaite_2021_intestine_ctrl.obs.n_genes_by_counts < 3000) & \n",
    "                                                          (elmentaite_2021_intestine_ctrl.obs.n_genes_by_counts > 1000) & \n",
    "                                                          (elmentaite_2021_intestine_ctrl.obs.pct_counts_mt < 8)), :]"
   ]
  },
  {
   "cell_type": "code",
   "execution_count": null,
   "metadata": {
    "tags": []
   },
   "outputs": [],
   "source": [
    "sc.pp.filter_genes(elmentaite_2021_intestine_ctrl, min_counts=1)\n",
    "sc.pp.normalize_total(elmentaite_2021_intestine_ctrl)\n",
    "sc.pp.log1p(elmentaite_2021_intestine_ctrl)"
   ]
  },
  {
   "cell_type": "code",
   "execution_count": null,
   "metadata": {
    "tags": []
   },
   "outputs": [],
   "source": [
    "sc.pp.pca(elmentaite_2021_intestine_ctrl, random_state=seed, n_comps=30)\n",
    "sce.pp.harmony_integrate(elmentaite_2021_intestine_ctrl, key='Internal sample identifier', max_iter_harmony=50)\n",
    "sc.pp.neighbors(elmentaite_2021_intestine_ctrl, use_rep='X_pca_harmony',  n_neighbors=int(0.5 * len(elmentaite_2021_intestine_ctrl) ** 0.5 // 2), metric='cosine')\n",
    "tk.tl.triku(elmentaite_2021_intestine_ctrl)"
   ]
  },
  {
   "cell_type": "code",
   "execution_count": null,
   "metadata": {
    "tags": []
   },
   "outputs": [],
   "source": [
    "sc.tl.umap(elmentaite_2021_intestine_ctrl, min_dist=0.2, random_state=seed)\n",
    "sc.tl.leiden(elmentaite_2021_intestine_ctrl, resolution=1, random_state=seed)"
   ]
  },
  {
   "cell_type": "code",
   "execution_count": null,
   "metadata": {
    "tags": []
   },
   "outputs": [],
   "source": [
    "sc.pp.subsample(elmentaite_2021_intestine_ctrl, fraction=1, random_state=0, copy=False)\n",
    "sc.pl.umap(elmentaite_2021_intestine_ctrl, color=['leiden', 'Internal sample identifier'], legend_loc='on data')"
   ]
  },
  {
   "cell_type": "code",
   "execution_count": null,
   "metadata": {
    "tags": []
   },
   "outputs": [],
   "source": [
    "sc.pl.umap(elmentaite_2021_intestine_ctrl, color=['leiden', 'LUM', 'PDGFRA', 'DCN', 'ELN',\n",
    "                                             'RGS5', 'MYH11', 'NDUFA4L2', \n",
    "                                             'PECAM1', 'CLDN5', 'VWF', \n",
    "                                             'EPCAM', 'PTPRC'], legend_loc='on data', cmap=magma, use_raw=False)"
   ]
  },
  {
   "cell_type": "code",
   "execution_count": null,
   "metadata": {
    "tags": []
   },
   "outputs": [],
   "source": [
    "dict_cats_fb = {'fibro': ['LUM', 'PDGFRA', 'DCN'], \n",
    "                'endo': ['PECAM1', 'CLDN5', 'VWF'],\n",
    "                'peri': ['RGS5', 'MYH11', 'NDUFA4L2'],\n",
    "                'epithelial': ['EPCAM', ], \n",
    "                'immune': ['PTPRC']\n",
    "               }"
   ]
  },
  {
   "cell_type": "code",
   "execution_count": null,
   "metadata": {
    "tags": []
   },
   "outputs": [],
   "source": [
    "assign_cats(elmentaite_2021_intestine_ctrl, dict_cats=dict_cats_fb, min_score=0.6, quantile_gene_sel=0.999)"
   ]
  },
  {
   "cell_type": "code",
   "execution_count": null,
   "metadata": {
    "tags": []
   },
   "outputs": [],
   "source": [
    "sc.pl.umap(elmentaite_2021_intestine_ctrl, color=['leiden', 'assigned_cats',], legend_loc='on data', cmap=magma, use_raw=False)"
   ]
  },
  {
   "cell_type": "code",
   "execution_count": null,
   "metadata": {
    "tags": []
   },
   "outputs": [],
   "source": [
    "elmentaite_2021_intestine_ctrl_fb = elmentaite_2021_intestine_ctrl[elmentaite_2021_intestine_ctrl.obs['assigned_cats'].isin(['fibro'])].copy()"
   ]
  },
  {
   "cell_type": "code",
   "execution_count": null,
   "metadata": {
    "tags": []
   },
   "outputs": [],
   "source": [
    "sc.pp.filter_genes(elmentaite_2021_intestine_ctrl_fb, min_counts=1)"
   ]
  },
  {
   "cell_type": "code",
   "execution_count": null,
   "metadata": {
    "tags": []
   },
   "outputs": [],
   "source": [
    "sc.pp.pca(elmentaite_2021_intestine_ctrl_fb, random_state=seed, n_comps=50)\n",
    "sce.pp.harmony_integrate(elmentaite_2021_intestine_ctrl_fb, key='Internal sample identifier', max_iter_harmony=50)\n",
    "sc.pp.neighbors(elmentaite_2021_intestine_ctrl_fb, use_rep='X_pca_harmony',  n_neighbors=int(0.3 * len(elmentaite_2021_intestine_ctrl_fb) ** 0.5), metric='cosine')\n",
    "tk.tl.triku(elmentaite_2021_intestine_ctrl_fb)"
   ]
  },
  {
   "cell_type": "code",
   "execution_count": null,
   "metadata": {
    "tags": []
   },
   "outputs": [],
   "source": [
    "sc.tl.umap(elmentaite_2021_intestine_ctrl_fb, min_dist=0.6, random_state=seed)\n",
    "sc.tl.leiden(elmentaite_2021_intestine_ctrl_fb, resolution=0.5, random_state=seed)"
   ]
  },
  {
   "cell_type": "code",
   "execution_count": null,
   "metadata": {
    "tags": []
   },
   "outputs": [],
   "source": [
    "sc.pl.umap(elmentaite_2021_intestine_ctrl_fb, color=['Internal sample identifier', 'leiden', \n",
    "                                               ], legend_loc='on data', cmap=magma, use_raw=False, ncols=2)"
   ]
  },
  {
   "cell_type": "code",
   "execution_count": null,
   "metadata": {},
   "outputs": [],
   "source": [
    "sc.pl.umap(elmentaite_2021_intestine_ctrl_fb, color=['Internal sample identifier', 'leiden', \n",
    "                                               ], legend_loc='on data', cmap=magma, use_raw=False, ncols=2)"
   ]
  },
  {
   "cell_type": "code",
   "execution_count": null,
   "metadata": {
    "tags": []
   },
   "outputs": [],
   "source": [
    "assign_cats(elmentaite_2021_intestine_ctrl_fb, dict_cats=dict_cats_clusters_robust, min_score=0.5, quantile_gene_sel=0.95, key_added='cluster_robust', others_name='U')\n",
    "assign_cats(elmentaite_2021_intestine_ctrl_fb, column_groupby='cluster_robust', dict_cats=dict_cats_axes_robust, min_score=0.5, quantile_gene_sel=0.9,  key_added='axis_robust', \n",
    "             intermediate_states=True, diff=0.15, others_name='U')"
   ]
  },
  {
   "cell_type": "code",
   "execution_count": null,
   "metadata": {
    "tags": []
   },
   "outputs": [],
   "source": [
    "sc.pl.umap(elmentaite_2021_intestine_ctrl_fb, color=['Internal sample identifier', 'leiden', 'axis_robust', 'cluster_robust'], legend_loc='on data', cmap=magma, use_raw=False, ncols=2)"
   ]
  },
  {
   "cell_type": "code",
   "execution_count": null,
   "metadata": {
    "tags": []
   },
   "outputs": [],
   "source": [
    "del elmentaite_2021_intestine_ctrl_fb.obs['C3']"
   ]
  },
  {
   "cell_type": "code",
   "execution_count": null,
   "metadata": {
    "tags": []
   },
   "outputs": [],
   "source": [
    "for key, val in dict_cats_clusters_robust.items():\n",
    "    print(key)\n",
    "    sc.pl.umap(elmentaite_2021_intestine_ctrl_fb, color=['cluster_robust'] + [i for i in val if i in elmentaite_2021_intestine_ctrl_fb.var_names], legend_loc='on data', cmap=magma, use_raw=False, ncols=4) "
   ]
  },
  {
   "cell_type": "markdown",
   "metadata": {},
   "source": [
    "## Ramachandran et al. 2019 [Liver]"
   ]
  },
  {
   "cell_type": "code",
   "execution_count": null,
   "metadata": {
    "tags": []
   },
   "outputs": [],
   "source": [
    "ramachandran_2019_dir = data_dir + '/ramachandran_2019'\n",
    "ramachandran_2019_liver_ctrl = sc.read(ramachandran_2019_dir + '/ramachandran_2019_liver_ctrl.h5')"
   ]
  },
  {
   "cell_type": "code",
   "execution_count": null,
   "metadata": {
    "tags": []
   },
   "outputs": [],
   "source": [
    "# Basic QC filtering\n",
    "ramachandran_2019_liver_ctrl.var['mt'] = ramachandran_2019_liver_ctrl.var_names.str.startswith('MT-')  # annotate the group of mitochondrial genes as 'mt'\n",
    "sc.pp.calculate_qc_metrics(ramachandran_2019_liver_ctrl, qc_vars=['mt'], percent_top=None, inplace=True)"
   ]
  },
  {
   "cell_type": "code",
   "execution_count": null,
   "metadata": {
    "tags": []
   },
   "outputs": [],
   "source": [
    "sc.pl.violin(ramachandran_2019_liver_ctrl, ['n_genes_by_counts', 'total_counts', 'pct_counts_mt'],\n",
    "             jitter=0.4, multi_panel=True)\n",
    "\n",
    "sc.pl.scatter(ramachandran_2019_liver_ctrl, x='total_counts', y='pct_counts_mt')\n",
    "sc.pl.scatter(ramachandran_2019_liver_ctrl, x='total_counts', y='n_genes_by_counts')"
   ]
  },
  {
   "cell_type": "code",
   "execution_count": null,
   "metadata": {
    "tags": []
   },
   "outputs": [],
   "source": [
    "fig, ax = plt.subplots(1, 1, figsize=(10, 4))\n",
    "df = pd.DataFrame({'x': ramachandran_2019_liver_ctrl.obs['Internal sample identifier'], 'y': ramachandran_2019_liver_ctrl.obs['log1p_n_genes_by_counts']})\n",
    "sns.violinplot(x='x', y='y', data=df, ax=ax)"
   ]
  },
  {
   "cell_type": "code",
   "execution_count": null,
   "metadata": {
    "tags": []
   },
   "outputs": [],
   "source": [
    "ramachandran_2019_liver_ctrl = ramachandran_2019_liver_ctrl[((ramachandran_2019_liver_ctrl.obs.n_genes_by_counts < 3000) & \n",
    "                                                          (ramachandran_2019_liver_ctrl.obs.n_genes_by_counts > 1000) & \n",
    "                                                          (ramachandran_2019_liver_ctrl.obs.pct_counts_mt < 8)), :]"
   ]
  },
  {
   "cell_type": "code",
   "execution_count": null,
   "metadata": {
    "tags": []
   },
   "outputs": [],
   "source": [
    "sc.pp.filter_genes(ramachandran_2019_liver_ctrl, min_counts=1)\n",
    "sc.pp.normalize_total(ramachandran_2019_liver_ctrl)\n",
    "sc.pp.log1p(ramachandran_2019_liver_ctrl)"
   ]
  },
  {
   "cell_type": "code",
   "execution_count": null,
   "metadata": {
    "tags": []
   },
   "outputs": [],
   "source": [
    "sc.pp.pca(ramachandran_2019_liver_ctrl, random_state=seed, n_comps=30)\n",
    "sce.pp.harmony_integrate(ramachandran_2019_liver_ctrl, key='Internal sample identifier', max_iter_harmony=50)\n",
    "sc.pp.neighbors(ramachandran_2019_liver_ctrl, use_rep='X_pca_harmony',  n_neighbors=int(0.5 * len(ramachandran_2019_liver_ctrl) ** 0.5 // 2), metric='cosine')\n",
    "tk.tl.triku(ramachandran_2019_liver_ctrl)"
   ]
  },
  {
   "cell_type": "code",
   "execution_count": null,
   "metadata": {
    "tags": []
   },
   "outputs": [],
   "source": [
    "sc.tl.umap(ramachandran_2019_liver_ctrl, min_dist=0.2, random_state=seed)\n",
    "sc.tl.leiden(ramachandran_2019_liver_ctrl, resolution=1, random_state=seed)"
   ]
  },
  {
   "cell_type": "code",
   "execution_count": null,
   "metadata": {
    "tags": []
   },
   "outputs": [],
   "source": [
    "sc.pp.subsample(ramachandran_2019_liver_ctrl, fraction=1, random_state=0, copy=False)\n",
    "sc.pl.umap(ramachandran_2019_liver_ctrl, color=['leiden', 'Internal sample identifier'], legend_loc='on data')"
   ]
  },
  {
   "cell_type": "code",
   "execution_count": null,
   "metadata": {
    "tags": []
   },
   "outputs": [],
   "source": [
    "sc.pl.umap(ramachandran_2019_liver_ctrl, color=['leiden', 'LUM', 'PDGFRA', 'DCN', 'ELN',\n",
    "                                             'RGS5', 'MYH11', 'NDUFA4L2', \n",
    "                                             'PECAM1', 'CLDN5', 'VWF', \n",
    "                                             'EPCAM', 'PTPRC'], legend_loc='on data', cmap=magma, use_raw=False)"
   ]
  },
  {
   "cell_type": "code",
   "execution_count": null,
   "metadata": {
    "tags": []
   },
   "outputs": [],
   "source": [
    "dict_cats_fb = {'fibro': ['LUM', 'PDGFRA', 'DCN'], \n",
    "                'endo': ['PECAM1', 'CLDN5', 'VWF'],\n",
    "                'peri': ['RGS5', 'MYH11', 'NDUFA4L2'],\n",
    "                'epithelial': ['EPCAM', ], \n",
    "                'immune': ['PTPRC']\n",
    "               }"
   ]
  },
  {
   "cell_type": "code",
   "execution_count": null,
   "metadata": {
    "tags": []
   },
   "outputs": [],
   "source": [
    "assign_cats(ramachandran_2019_liver_ctrl, dict_cats=dict_cats_fb, min_score=0.6, quantile_gene_sel=0.999)"
   ]
  },
  {
   "cell_type": "code",
   "execution_count": null,
   "metadata": {
    "tags": []
   },
   "outputs": [],
   "source": [
    "sc.pl.umap(ramachandran_2019_liver_ctrl, color=['leiden', 'assigned_cats',], legend_loc='on data', cmap=magma, use_raw=False)"
   ]
  },
  {
   "cell_type": "code",
   "execution_count": null,
   "metadata": {
    "tags": []
   },
   "outputs": [],
   "source": [
    "ramachandran_2019_liver_ctrl_fb = ramachandran_2019_liver_ctrl[ramachandran_2019_liver_ctrl.obs['assigned_cats'].isin(['fibro'])].copy()"
   ]
  },
  {
   "cell_type": "code",
   "execution_count": null,
   "metadata": {
    "tags": []
   },
   "outputs": [],
   "source": [
    "sc.pp.filter_genes(ramachandran_2019_liver_ctrl_fb, min_counts=1)"
   ]
  },
  {
   "cell_type": "code",
   "execution_count": null,
   "metadata": {
    "tags": []
   },
   "outputs": [],
   "source": [
    "sc.pp.pca(ramachandran_2019_liver_ctrl_fb, random_state=seed, n_comps=50)\n",
    "sce.pp.harmony_integrate(ramachandran_2019_liver_ctrl_fb, key='Internal sample identifier', max_iter_harmony=50)\n",
    "sc.pp.neighbors(ramachandran_2019_liver_ctrl_fb, use_rep='X_pca_harmony',  n_neighbors=int(len(ramachandran_2019_liver_ctrl_fb) ** 0.5), metric='cosine')\n",
    "tk.tl.triku(ramachandran_2019_liver_ctrl_fb)"
   ]
  },
  {
   "cell_type": "code",
   "execution_count": null,
   "metadata": {
    "tags": []
   },
   "outputs": [],
   "source": [
    "sc.tl.umap(ramachandran_2019_liver_ctrl_fb, min_dist=0.6, random_state=seed)\n",
    "sc.tl.leiden(ramachandran_2019_liver_ctrl_fb, resolution=0.5, random_state=seed)"
   ]
  },
  {
   "cell_type": "code",
   "execution_count": null,
   "metadata": {
    "tags": []
   },
   "outputs": [],
   "source": [
    "sc.pl.umap(ramachandran_2019_liver_ctrl_fb, color=['Internal sample identifier', 'leiden', \n",
    "                                               ], legend_loc='on data', cmap=magma, use_raw=False, ncols=2)"
   ]
  },
  {
   "cell_type": "code",
   "execution_count": null,
   "metadata": {
    "tags": []
   },
   "outputs": [],
   "source": [
    "sc.pl.umap(ramachandran_2019_liver_ctrl_fb, color=['Internal sample identifier', 'leiden', \n",
    "                                               ], legend_loc='on data', cmap=magma, use_raw=False, ncols=2)"
   ]
  },
  {
   "cell_type": "code",
   "execution_count": null,
   "metadata": {
    "tags": []
   },
   "outputs": [],
   "source": [
    "assign_cats(ramachandran_2019_liver_ctrl_fb, dict_cats=dict_cats_clusters_robust, min_score=0.5, quantile_gene_sel=0.95, key_added='cluster_robust', others_name='U')\n",
    "assign_cats(ramachandran_2019_liver_ctrl_fb, column_groupby='cluster_robust', dict_cats=dict_cats_axes_robust, min_score=0.5, quantile_gene_sel=0.9,  key_added='axis_robust', \n",
    "             intermediate_states=True, diff=0.15, others_name='U')"
   ]
  },
  {
   "cell_type": "code",
   "execution_count": null,
   "metadata": {
    "tags": []
   },
   "outputs": [],
   "source": [
    "sc.pl.umap(ramachandran_2019_liver_ctrl_fb, color=['Internal sample identifier', 'leiden', 'axis_robust', 'cluster_robust'], legend_loc='on data', cmap=magma, use_raw=False, ncols=2)"
   ]
  },
  {
   "cell_type": "code",
   "execution_count": null,
   "metadata": {
    "tags": []
   },
   "outputs": [],
   "source": [
    "del ramachandran_2019_liver_ctrl_fb.obs['C3']"
   ]
  },
  {
   "cell_type": "code",
   "execution_count": null,
   "metadata": {
    "tags": []
   },
   "outputs": [],
   "source": [
    "for key, val in dict_cats_clusters_robust.items():\n",
    "    print(key)\n",
    "    sc.pl.umap(ramachandran_2019_liver_ctrl_fb, color=['cluster_robust'] + [i for i in val if i in ramachandran_2019_liver_ctrl_fb.var_names], legend_loc='on data', cmap=magma, use_raw=False, ncols=4) "
   ]
  }
 ],
 "metadata": {
  "kernelspec": {
   "display_name": "Python [conda env:triku-notebooks]",
   "language": "python",
   "name": "conda-env-triku-notebooks-py"
  },
  "language_info": {
   "codemirror_mode": {
    "name": "ipython",
    "version": 3
   },
   "file_extension": ".py",
   "mimetype": "text/x-python",
   "name": "python",
   "nbconvert_exporter": "python",
   "pygments_lexer": "ipython3",
   "version": "3.8.0"
  },
  "toc": {
   "base_numbering": 1,
   "nav_menu": {},
   "number_sections": true,
   "sideBar": true,
   "skip_h1_title": false,
   "title_cell": "Table of Contents",
   "title_sidebar": "Contents",
   "toc_cell": false,
   "toc_position": {
    "height": "calc(100% - 180px)",
    "left": "10px",
    "top": "150px",
    "width": "384px"
   },
   "toc_section_display": true,
   "toc_window_display": true
  },
  "varInspector": {
   "cols": {
    "lenName": 16,
    "lenType": 16,
    "lenVar": 40
   },
   "kernels_config": {
    "python": {
     "delete_cmd_postfix": "",
     "delete_cmd_prefix": "del ",
     "library": "var_list.py",
     "varRefreshCmd": "print(var_dic_list())"
    },
    "r": {
     "delete_cmd_postfix": ") ",
     "delete_cmd_prefix": "rm(",
     "library": "var_list.r",
     "varRefreshCmd": "cat(var_dic_list()) "
    }
   },
   "types_to_exclude": [
    "module",
    "function",
    "builtin_function_or_method",
    "instance",
    "_Feature"
   ],
   "window_display": false
  }
 },
 "nbformat": 4,
 "nbformat_minor": 4
}

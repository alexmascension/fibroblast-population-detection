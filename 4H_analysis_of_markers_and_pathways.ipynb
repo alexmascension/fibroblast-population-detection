{
 "cells": [
  {
   "cell_type": "markdown",
   "metadata": {},
   "source": [
    "# Obtaining robust cell population markers, and redefining/reassuring the biased cell populations\n",
    "\n",
    "**TO RUN THIS NOTEBOOK YOU HAVE TO RUN 3H NOTEBOOK FULLY!!!**"
   ]
  },
  {
   "cell_type": "markdown",
   "metadata": {},
   "source": [
    "## imports"
   ]
  },
  {
   "cell_type": "code",
   "execution_count": null,
   "metadata": {
    "tags": []
   },
   "outputs": [],
   "source": [
    "%load_ext autoreload\n",
    "%autoreload 2"
   ]
  },
  {
   "cell_type": "code",
   "execution_count": null,
   "metadata": {
    "tags": []
   },
   "outputs": [],
   "source": [
    "import scanpy as sc\n",
    "import scanpy.external as sce\n",
    "import pandas as pd\n",
    "import numpy as np\n",
    "import os\n",
    "import triku as tk\n",
    "import seaborn as sns\n",
    "import matplotlib.pyplot as plt\n",
    "import matplotlib as mpl\n",
    "from tqdm.notebook import tqdm\n",
    "import scipy.sparse as spr\n",
    "import matplotlib.cm as cm\n",
    "import networkx as nx"
   ]
  },
  {
   "cell_type": "code",
   "execution_count": null,
   "metadata": {
    "tags": []
   },
   "outputs": [],
   "source": [
    "!pip install cellassign"
   ]
  },
  {
   "cell_type": "code",
   "execution_count": null,
   "metadata": {
    "tags": []
   },
   "outputs": [],
   "source": [
    "# local imports and imports from other notebooks\n",
    "from cellassign import assign_cats\n",
    "from fb_functions import make_gene_scoring_with_expr, plot_score_graph, plot_UMAPS_gene, plot_adata_cluster_properties\n",
    "%store -r dict_colors\n",
    "%store -r seed\n",
    "%store -r magma\n",
    "%store -r data_dir"
   ]
  },
  {
   "cell_type": "code",
   "execution_count": null,
   "metadata": {
    "tags": []
   },
   "outputs": [],
   "source": [
    "mpl.rcParams['figure.dpi'] = 120\n",
    "pd.options.display.float_format = \"{:,.2f}\".format"
   ]
  },
  {
   "cell_type": "markdown",
   "metadata": {},
   "source": [
    "**IMPORTANT: I am running this analysis in a computer with ~500 GB of RAM. I will load many datasets at once, which might be too much for some computers. I took this decision conciously, to have as much info available at any time as possible. If you cannot run all the analysis at once, you can run it by parts.**"
   ]
  },
  {
   "cell_type": "markdown",
   "metadata": {},
   "source": [
    "## Anndata loading"
   ]
  },
  {
   "cell_type": "code",
   "execution_count": null,
   "metadata": {
    "tags": []
   },
   "outputs": [],
   "source": [
    "ahlers_2022_dir = data_dir + '/ahlers_2022'\n",
    "ahlers_2022_young_fb = sc.read(ahlers_2022_dir + '/ahlers_2022_young_fb_robust.h5')\n",
    "ahlers_2022_young = sc.read(ahlers_2022_dir + '/ahlers_2022_young_processed.h5')"
   ]
  },
  {
   "cell_type": "code",
   "execution_count": null,
   "metadata": {
    "tags": []
   },
   "outputs": [],
   "source": [
    "boothby_2021_dir = data_dir + '/boothby_2021'\n",
    "boothby_2021_ctrl_fb = sc.read(boothby_2021_dir + '/boothby_2021_ctrl_fb_robust.h5')\n",
    "boothby_2021_ctrl = sc.read(boothby_2021_dir + '/boothby_2021_ctrl_processed.h5')"
   ]
  },
  {
   "cell_type": "code",
   "execution_count": null,
   "metadata": {
    "tags": []
   },
   "outputs": [],
   "source": [
    "deng_2021_dir = data_dir + '/deng_2021'\n",
    "deng_2021_scar_fb = sc.read(deng_2021_dir + '/deng_2021_scar_fb_robust.h5')\n",
    "deng_2021_scar = sc.read(deng_2021_dir + '/deng_2021_scar_processed.h5')"
   ]
  },
  {
   "cell_type": "code",
   "execution_count": null,
   "metadata": {
    "tags": []
   },
   "outputs": [],
   "source": [
    "gao_2021_dir = data_dir + '/gao_2021'\n",
    "gao_2021_ctrl_fb = sc.read(gao_2021_dir + '/gao_2021_ctrl_fb_robust.h5')\n",
    "gao_2021_ctrl = sc.read(gao_2021_dir + '/gao_2021_ctrl_processed.h5')"
   ]
  },
  {
   "cell_type": "code",
   "execution_count": null,
   "metadata": {
    "tags": []
   },
   "outputs": [],
   "source": [
    "gaydosik_2020_dir = data_dir + '/gaydosik_2020'\n",
    "gaydosik_2020_ctrl_fb = sc.read(gaydosik_2020_dir + '/gaydosik_2020_ctrl_fb_robust.h5')\n",
    "gaydosik_2020_ctrl = sc.read(gaydosik_2020_dir + '/gaydosik_2020_ctrl_processed.h5')"
   ]
  },
  {
   "cell_type": "code",
   "execution_count": 73,
   "metadata": {
    "execution": {
     "iopub.execute_input": "2022-04-27T10:13:04.540825Z",
     "iopub.status.busy": "2022-04-27T10:13:04.540362Z",
     "iopub.status.idle": "2022-04-27T10:13:05.378620Z",
     "shell.execute_reply": "2022-04-27T10:13:05.377775Z",
     "shell.execute_reply.started": "2022-04-27T10:13:04.540772Z"
    },
    "tags": []
   },
   "outputs": [],
   "source": [
    "gur_2022_dir = data_dir + '/gur_2022'\n",
    "gur_2022_ctrl_fb = sc.read(gur_2022_dir + '/gur_2022_ctrl_fb_robust.h5')\n",
    "gur_2022_ctrl = sc.read(gur_2022_dir + '/gur_2022_ctrl_processed.h5')"
   ]
  },
  {
   "cell_type": "code",
   "execution_count": null,
   "metadata": {},
   "outputs": [],
   "source": [
    "he_2020_dir = data_dir + '/He_2020'\n",
    "he_2020_ctrl_fb = sc.read(he_2020_dir + '/he_2020_ctrl_fb_robust.h5')\n",
    "he_2020_ctrl = sc.read(he_2020_dir + '/he_2020_ctrl_processed.h5')"
   ]
  },
  {
   "cell_type": "code",
   "execution_count": null,
   "metadata": {
    "tags": []
   },
   "outputs": [],
   "source": [
    "hughes_2020_dir = data_dir + '/hughes_2020'\n",
    "hughes_2020_ctrl_fb = sc.read(hughes_2020_dir + '/hughes_2020_ctrl_fb_robust.h5')\n",
    "hughes_2020_ctrl = sc.read(hughes_2020_dir + '/hughes_2020_ctrl_processed.h5')"
   ]
  },
  {
   "cell_type": "code",
   "execution_count": null,
   "metadata": {
    "tags": []
   },
   "outputs": [],
   "source": [
    "kim_2020_dir = data_dir + '/Kim_2020'\n",
    "kim_2020_ctrl_fb = sc.read(kim_2020_dir + '/kim_2020_ctrl_fb_robust.h5')\n",
    "kim_2020_ctrl = sc.read(kim_2020_dir + '/kim_2020_ctrl_processed.h5')"
   ]
  },
  {
   "cell_type": "code",
   "execution_count": null,
   "metadata": {
    "tags": []
   },
   "outputs": [],
   "source": [
    "liu_2021_dir = data_dir + '/liu_2021'\n",
    "liu_2021_ctrl_fb = sc.read(liu_2021_dir + '/liu_2021_ctrl_fb_robust.h5')\n",
    "liu_2021_ctrl = sc.read(liu_2021_dir + '/liu_2021_ctrl_processed.h5')"
   ]
  },
  {
   "cell_type": "code",
   "execution_count": null,
   "metadata": {
    "tags": []
   },
   "outputs": [],
   "source": [
    "mariottoni_2021_dir = data_dir + '/mariottoni_2021'\n",
    "mariottoni_2021_ctrl_fb = sc.read(mariottoni_2021_dir + '/mariottoni_2021_ctrl_fb_robust.h5')\n",
    "mariottoni_2021_ctrl = sc.read(mariottoni_2021_dir + '/mariottoni_2021_ctrl_processed.h5')"
   ]
  },
  {
   "cell_type": "code",
   "execution_count": null,
   "metadata": {
    "tags": []
   },
   "outputs": [],
   "source": [
    "mirizio_2020_dir = data_dir + '/mirizio_2020'\n",
    "mirizio_2020_scl_fb = sc.read(mirizio_2020_dir + '/mirizio_2020_scl_fb_robust.h5')\n",
    "mirizio_2020_scl = sc.read(mirizio_2020_dir + '/mirizio_2020_scl_processed.h5')"
   ]
  },
  {
   "cell_type": "code",
   "execution_count": null,
   "metadata": {
    "tags": []
   },
   "outputs": [],
   "source": [
    "reynolds_2021_dir = data_dir + '/reynolds_2021'\n",
    "reynolds_2021_ctrl_fb = sc.read(reynolds_2021_dir + '/reynolds_2021_ctrl_fb_robust.h5')\n",
    "# Dataset with the rest of cells is not available. It can be used but since the dataset doesn't have good quality, is not fully relevant."
   ]
  },
  {
   "cell_type": "code",
   "execution_count": null,
   "metadata": {
    "tags": []
   },
   "outputs": [],
   "source": [
    "rindler_2021_dir = data_dir + '/rindler_2021'\n",
    "rindler_2021_ctrl_fb = sc.read(rindler_2021_dir + '/rindler_2021_ctrl_fb_robust.h5')\n",
    "rindler_2021_ctrl = sc.read(rindler_2021_dir + '/rindler_2021_ctrl_processed.h5')"
   ]
  },
  {
   "cell_type": "code",
   "execution_count": null,
   "metadata": {
    "tags": []
   },
   "outputs": [],
   "source": [
    "sole_2020_dir = data_dir + '/Sole-Boldo_2020'\n",
    "sole_2020_young_fb = sc.read(sole_2020_dir + '/sole_2020_young_fb_robust.h5')\n",
    "sole_2020_young = sc.read(sole_2020_dir + '/sole_2020_young_processed.h5')"
   ]
  },
  {
   "cell_type": "code",
   "execution_count": null,
   "metadata": {
    "tags": []
   },
   "outputs": [],
   "source": [
    "tabib_2018_dir = data_dir + '/Tabib_2018'\n",
    "tabib_2018_ctrl_fb = sc.read(tabib_2018_dir + '/tabib_2018_ctrl_fb_robust.h5')\n",
    "tabib_2018_ctrl = sc.read(tabib_2018_dir + '/tabib_2018_ctrl_processed.h5')"
   ]
  },
  {
   "cell_type": "code",
   "execution_count": null,
   "metadata": {
    "tags": []
   },
   "outputs": [],
   "source": [
    "tabib_2021_dir = data_dir + '/Tabib_2021'\n",
    "tabib_2021_ctrl_fb = sc.read(tabib_2021_dir + '/tabib_2021_ctrl_fb_robust.h5')\n",
    "tabib_2021_ctrl = sc.read(tabib_2021_dir + '/tabib_2021_ctrl_processed.h5')"
   ]
  },
  {
   "cell_type": "code",
   "execution_count": null,
   "metadata": {
    "tags": []
   },
   "outputs": [],
   "source": [
    "theo_2020_dir = data_dir + '/Theocharidis_2020/'\n",
    "theo_2020_ctrl_dm_fb = sc.read(theo_2020_dir + '/theo_2020_ctrl_dm_fb_robust.h5')\n",
    "theo_2020_ctrl_dm = sc.read(theo_2020_dir + '/theo_2020_ctrl_dm_processed.h5')"
   ]
  },
  {
   "cell_type": "code",
   "execution_count": null,
   "metadata": {
    "tags": []
   },
   "outputs": [],
   "source": [
    "theo_2021_dir = data_dir + '/Theocharidis_2021/'\n",
    "theo_2021_ctrl_fb = sc.read(theo_2021_dir + '/theo_2021_ctrl_fb_robust.h5')\n",
    "theo_2021_ctrl = sc.read(theo_2021_dir + '/theo_2021_ctrl_processed.h5')"
   ]
  },
  {
   "cell_type": "code",
   "execution_count": null,
   "metadata": {
    "tags": []
   },
   "outputs": [],
   "source": [
    "vors_2020_dir = data_dir + '/Vorstandlechner_2020'\n",
    "vors_2020_ctrl_fb = sc.read(vors_2020_dir + '/vors_2020_ctrl_fb_robust.h5')\n",
    "vors_2020_ctrl = sc.read(vors_2020_dir + '/vors_2020_ctrl_processed.h5')"
   ]
  },
  {
   "cell_type": "code",
   "execution_count": null,
   "metadata": {
    "tags": []
   },
   "outputs": [],
   "source": [
    "vors_2021_dir = data_dir + '/Vorstandlechner_2021'\n",
    "vors_2021_ctrl_fb = sc.read(vors_2021_dir + '/vors_2021_ctrl_fb_robust.h5')\n",
    "vors_2021_ctrl = sc.read(vors_2021_dir + '/vors_2021_ctrl_processed.h5')"
   ]
  },
  {
   "cell_type": "code",
   "execution_count": null,
   "metadata": {
    "tags": []
   },
   "outputs": [],
   "source": [
    "xu_2021_dir = data_dir + '/xu_2021'\n",
    "xu_2021_ctrl_fb = sc.read(xu_2021_dir + '/xu_2021_ctrl_fb_robust.h5')\n",
    "xu_2021_ctrl = sc.read(xu_2021_dir + '/xu_2021_ctrl_processed.h5')"
   ]
  },
  {
   "cell_type": "markdown",
   "metadata": {},
   "source": [
    "# Geting the definitive list of genes\n",
    "This is not *really* definitive. We use the produced markers to later on, in the analysis table (not in notebooks) do a selection based on gene function, or pattern of expression. The *final* list is in the variable **genes** below."
   ]
  },
  {
   "cell_type": "code",
   "execution_count": null,
   "metadata": {
    "tags": []
   },
   "outputs": [],
   "source": [
    "%store -r list_all_datasets\n",
    "%store -r list_datasets\n",
    "\n",
    "%store -r list_accepted_clusters\n",
    "%store -r list_accepted_axis\n",
    "%store -r list_names"
   ]
  },
  {
   "cell_type": "code",
   "execution_count": null,
   "metadata": {
    "tags": []
   },
   "outputs": [],
   "source": [
    "list_names"
   ]
  },
  {
   "cell_type": "code",
   "execution_count": null,
   "metadata": {
    "scrolled": true,
    "tags": []
   },
   "outputs": [],
   "source": [
    "dict_make_gene_scoring_robust = make_gene_scoring_with_expr(list_datasets=list_datasets, calculate_DEGs = True, group_name = 'cluster_robust', \n",
    "                                                     value_ref = 'scores', select_method = 'pval', \n",
    "                                                     list_clusters = list_accepted_clusters,\n",
    "                                                     select_thres = 0.05)"
   ]
  },
  {
   "cell_type": "code",
   "execution_count": null,
   "metadata": {
    "tags": []
   },
   "outputs": [],
   "source": [
    "dict_make_gene_scoring_axis_robust = make_gene_scoring_with_expr(list_datasets=list_datasets, calculate_DEGs = True, group_name = 'axis_robust',\n",
    "                                                     value_ref = 'scores', select_method = 'pval', select_thres = 0.05, \n",
    "                                                         list_clusters =list_accepted_axis,)"
   ]
  },
  {
   "cell_type": "code",
   "execution_count": null,
   "metadata": {
    "tags": []
   },
   "outputs": [],
   "source": [
    "%store dict_make_gene_scoring_robust\n",
    "%store dict_make_gene_scoring_axis_robust"
   ]
  },
  {
   "cell_type": "code",
   "execution_count": null,
   "metadata": {
    "tags": []
   },
   "outputs": [],
   "source": [
    "dict_make_gene_scoring_robust['A1'].iloc[:40].sort_index()"
   ]
  },
  {
   "cell_type": "code",
   "execution_count": null,
   "metadata": {
    "tags": []
   },
   "outputs": [],
   "source": [
    "dict_make_gene_scoring_robust['A2'].iloc[:40].sort_index()"
   ]
  },
  {
   "cell_type": "code",
   "execution_count": null,
   "metadata": {
    "tags": []
   },
   "outputs": [],
   "source": [
    "dict_make_gene_scoring_robust['A3'].iloc[:40].sort_index()"
   ]
  },
  {
   "cell_type": "code",
   "execution_count": null,
   "metadata": {
    "tags": []
   },
   "outputs": [],
   "source": [
    "dict_make_gene_scoring_robust['A4'].iloc[:40].sort_index()"
   ]
  },
  {
   "cell_type": "code",
   "execution_count": null,
   "metadata": {
    "tags": []
   },
   "outputs": [],
   "source": [
    "dict_make_gene_scoring_robust['B1'].iloc[:40].sort_index()"
   ]
  },
  {
   "cell_type": "code",
   "execution_count": null,
   "metadata": {
    "tags": []
   },
   "outputs": [],
   "source": [
    "dict_make_gene_scoring_robust['B2'].iloc[:40].sort_index()"
   ]
  },
  {
   "cell_type": "code",
   "execution_count": null,
   "metadata": {
    "tags": []
   },
   "outputs": [],
   "source": [
    "dict_make_gene_scoring_robust['B3'].iloc[:40].sort_index()"
   ]
  },
  {
   "cell_type": "code",
   "execution_count": null,
   "metadata": {
    "tags": []
   },
   "outputs": [],
   "source": [
    "dict_make_gene_scoring_robust['B4'].iloc[:40].sort_index()"
   ]
  },
  {
   "cell_type": "code",
   "execution_count": null,
   "metadata": {
    "tags": []
   },
   "outputs": [],
   "source": [
    "dict_make_gene_scoring_robust['C1'].iloc[:40].sort_index()"
   ]
  },
  {
   "cell_type": "code",
   "execution_count": null,
   "metadata": {
    "tags": []
   },
   "outputs": [],
   "source": [
    "dict_make_gene_scoring_robust['C2'].iloc[:40].sort_index()"
   ]
  },
  {
   "cell_type": "code",
   "execution_count": null,
   "metadata": {
    "tags": []
   },
   "outputs": [],
   "source": [
    "dict_make_gene_scoring_robust['C3'].iloc[:40].sort_index()"
   ]
  },
  {
   "cell_type": "code",
   "execution_count": null,
   "metadata": {
    "tags": []
   },
   "outputs": [],
   "source": [
    "dict_make_gene_scoring_robust['C5'].iloc[:40].sort_index()"
   ]
  },
  {
   "cell_type": "code",
   "execution_count": null,
   "metadata": {
    "tags": []
   },
   "outputs": [],
   "source": [
    "dict_make_gene_scoring_robust['D1'].iloc[:40].sort_index()"
   ]
  },
  {
   "cell_type": "code",
   "execution_count": null,
   "metadata": {
    "tags": []
   },
   "outputs": [],
   "source": [
    "dict_make_gene_scoring_robust['D2'].iloc[:40].sort_index()"
   ]
  },
  {
   "cell_type": "code",
   "execution_count": null,
   "metadata": {
    "tags": []
   },
   "outputs": [],
   "source": [
    "dict_make_gene_scoring_robust['E1'].iloc[:40].sort_index()"
   ]
  },
  {
   "cell_type": "code",
   "execution_count": null,
   "metadata": {
    "tags": []
   },
   "outputs": [],
   "source": [
    "dict_make_gene_scoring_robust['T1'].iloc[:40].sort_index()"
   ]
  },
  {
   "cell_type": "markdown",
   "metadata": {},
   "source": [
    "## Analyse the presence and expression pattern of marker genes (within fibroblast populations)\n",
    "\n",
    "In this section we will plot UMAPs and dot plots of expression patterns of gene markers. This is useful because many gene markers tend to be markers of few clusters based on DE analysis but, in reality, they are also expressed in other clusters which might need to be considered."
   ]
  },
  {
   "cell_type": "code",
   "execution_count": null,
   "metadata": {
    "tags": []
   },
   "outputs": [],
   "source": [
    "def make_dicts_fraction_mean(genes, list_all_datasets, list_accepted_clusters, clusterby='cluster_robust'):\n",
    "    dict_fraction_cells = {gene: pd.DataFrame(np.nan, index=list_names, columns=list_accepted_clusters) for gene in genes}\n",
    "    dict_mean_exp = {gene: pd.DataFrame(np.nan, index=list_names, columns=list_accepted_clusters) for gene in genes}\n",
    "\n",
    "    for adata, name in zip(list_all_datasets, list_names):\n",
    "        genes_sub = [i for i in genes if i in adata.var_names]\n",
    "        for cluster in set(adata.obs[clusterby]):\n",
    "            counts = adata[adata.obs[clusterby] == cluster][:, genes_sub].X.toarray().copy()\n",
    "            counts_frac = (counts > 0).sum(0) / counts.shape[0]\n",
    "            counts[counts == 0] = np.nan\n",
    "            counts_mean_exp = np.nanmean(counts, 0)\n",
    "\n",
    "            for idx, gene in enumerate(genes_sub):\n",
    "                dict_fraction_cells[gene].loc[name, cluster] = counts_frac[idx]\n",
    "                dict_mean_exp[gene].loc[name, cluster] = counts_mean_exp[idx]\n",
    "\n",
    "    for gene in genes:\n",
    "        dict_fraction_cells_mean, dict_fraction_cells_std =  dict_fraction_cells[gene].mean(),  dict_fraction_cells[gene].std()\n",
    "        dict_mean_exp_mean, dict_mean_exp_std =  dict_mean_exp[gene].mean(),  dict_mean_exp[gene].std()\n",
    "\n",
    "        dict_fraction_cells[gene].loc['Mean'] = dict_fraction_cells_mean\n",
    "        dict_fraction_cells[gene].loc['Std'] = dict_fraction_cells_std\n",
    "        dict_mean_exp[gene].loc['Mean'] = dict_mean_exp_mean\n",
    "        dict_mean_exp[gene].loc['Std'] = dict_mean_exp_std\n",
    "\n",
    "        dict_fraction_cells[gene] = dict_fraction_cells[gene][list_accepted_clusters]\n",
    "        dict_mean_exp[gene] = dict_mean_exp[gene][list_accepted_clusters]\n",
    "    \n",
    "    return dict_fraction_cells, dict_mean_exp"
   ]
  },
  {
   "cell_type": "code",
   "execution_count": null,
   "metadata": {
    "tags": []
   },
   "outputs": [],
   "source": [
    "def plot_dotplot_gene(gene, dict_fraction_cells, dict_mean_exp, rotate=False):\n",
    "    dfplot_frac = dict_fraction_cells[gene] ** 0.66\n",
    "    dfplot_exp = dict_mean_exp[gene] \n",
    "    exp_norm_vals = (dfplot_exp.loc['Mean'] - min(dfplot_exp.loc['Mean'])) / (max(dfplot_exp.loc['Mean']) - min(dfplot_exp.loc['Mean']))\n",
    "    fig, ax = plt.subplots(1, 1, figsize=(10, 1))\n",
    "    ax.set_xticks(range(len(dfplot_frac.columns)))\n",
    "    \n",
    "    if rotate:\n",
    "        ax.set_xticklabels(dfplot_frac.columns, rotation=40, ha='right')\n",
    "    else:\n",
    "        ax.set_xticklabels(dfplot_frac.columns)\n",
    "    \n",
    "    ax.set_yticks([0])\n",
    "    ax.set_yticklabels([gene])\n",
    "    ax.set_ylim([-0.1, 0.1])\n",
    "    plt.scatter(range(len(dfplot_frac.columns)), [0] * len(dfplot_frac.columns), s=dfplot_frac.loc['Mean'] * 550, c=[cm.OrRd(i) for i in exp_norm_vals], \n",
    "                linewidths=0.5, edgecolor='#878787', alpha = [max(0, i) for i in 1 - dict_fraction_cells[gene].loc['Std'] ** 0.75])\n",
    "    \n",
    "    plt.plot([-0.3, len(dfplot_frac.columns) - 0.3], [0, 0], c=\"#676767\", linewidth=0.7, alpha=0.3)\n",
    "    plt.plot([-0.3, len(dfplot_frac.columns) - 0.3], [0.025, 0.025], c=\"#676767\", linewidth=0.7, alpha=0.3)\n",
    "    plt.plot([-0.3, len(dfplot_frac.columns) - 0.3], [-0.025, -0.025], c=\"#676767\", linewidth=0.7, alpha=0.3)"
   ]
  },
  {
   "cell_type": "code",
   "execution_count": null,
   "metadata": {
    "tags": []
   },
   "outputs": [],
   "source": [
    "genes = sorted(list(set(['A2M', 'AADAC', 'ABCA10', 'ABCA8', 'ABCA9', 'ABCC9', 'ACAN', 'ACE', 'ACHE', 'ACKR3', 'ACKR4', 'ADAM12', 'ADAMTS18', 'ADAMTS4', \n",
    "                         'ADAMTSL5', 'ADGRE2', 'ADRA2A', 'AEBP1', 'AHRR', 'AKAP6', 'ALDH1A3', 'ALX4', 'ANGPTL5', 'ANGPTL7', 'ANKRD29', 'ANOS1', 'ANTXR2', \n",
    "                         'AOPEP', 'APCDD1', 'APOC1', 'APOD', 'APOE', 'AQP1', 'AQP3', 'ARHGAP15', 'ASPN', 'ATP1A2', 'AXIN2', 'BAMBI', 'BGN', 'BIRC3', 'BMP7', \n",
    "                         'BNC2', 'BTBD11', 'C11orf96', 'C19orf33', 'C1orf198', 'C1QTNF3', 'C2orf40/ECRG4', 'C3', 'C6', 'C7', 'C9orf3', 'CA12', 'CADM2', 'CAV2', \n",
    "                         'CCDC146', 'CCK', 'CCL19', 'CCL2', 'CD200R1', 'CD248', 'CD34', 'CD55', 'CD70', 'CD74', 'CD9', 'CDA', 'CDH11', 'CDKN1A', 'CENPW', \n",
    "                         'CERCAM', 'CES1', 'CFD', 'CFH', 'CFHR1', 'CH25H', 'CHADL', 'CHD1', 'CHN1', 'CHRDL1', 'CLDN1', 'CLEC14A', 'CLEC2A', 'CLEC3B', 'CLSTN3', \n",
    "                         'CNTN4', 'COCH', 'COL11A1', 'COL13A1', 'COL14A1', 'COL15A1', 'COL18A1', 'COL1A2', 'COL21A1', 'COL23A1', 'COL24A1', 'COL28A1', 'COL3A1', \n",
    "                         'COL5A2', 'COL6A1', 'COL6A2', 'COL6A3', 'COL6A5', 'COL8A1', 'COL9A3', 'COL9A3', 'COMP', 'CORIN', 'COX4I2', 'CPE', 'CPNE5', 'CPVL', \n",
    "                         'CRABP1', 'CRIP1', 'CRISPLD1', 'CSRP1', 'CTHRC1', 'CTSH', 'CTSK', 'CX3CL1', 'CXCL1', 'CXCL12', 'CXCL2', 'CXCL3', 'CYBRD1', 'CYGB', \n",
    "                         'CYP1B1', 'CYP26B1', 'CYP7B1', 'CYYR1', 'DBN1', 'DCN', 'DCXR', 'DIO2', 'DNAJA1', 'DOK6', 'DPEP1', 'DPP4', 'DPT', 'DUSP5', 'EBF2', \n",
    "                         'ECM1', 'EDIL3', 'EDNRA', 'EFEMP1', 'EGFLAM', 'EGR1', 'EGR2', 'ELL2', 'ELN', 'EMB', 'EMID1', 'EMP3', 'ENTPD2', 'ERRFI1', 'ETV1', \n",
    "                         'ETV4', 'EVA1A', 'F13A1', 'F2R', 'F2RL2', 'FABP3', 'FAM180B', 'FBLN1', 'FBLN2', 'FBN1', 'FBXO32', 'FGF7', 'FGFBP2', 'FIBIN', 'FMO1', \n",
    "                         'FMO2', 'FMO3', 'FOS', 'FOSL1', 'FOXC2', 'FOXS1', 'FXYD6', 'FZD1', 'GALNT15', 'GCH1', 'GDF10', 'GEM', 'GFRA2', 'GGT5', 'GLRB', 'GNAO1', \n",
    "                         'GPC3', 'GPM6B', 'GPNMB', 'GSN', 'HAPLN1', 'HAS2', 'HHIP', 'HLA-B', 'HLA-F', 'HMGA1', 'HMGCLL1', 'HOPX', 'HPSE2', 'HRH1', 'HSD3B7', \n",
    "                         'HSPB3', 'HTRA1', 'ICAM1', 'ICAM2', 'IER3', 'IGF1', 'IGFBP2', 'IGFBP3', 'IGFBP5', 'IGFBP6', 'IGFBP7', 'IL32', 'IL33', 'IL34', 'IL6', \n",
    "                         'INHBA', 'INMT', 'IRF1', 'IRF8', 'ISYNA1', 'ITGA6', 'ITGB4', 'ITIH5', 'ITM2A', 'JAK3', 'JUNB', 'KCNQ3', 'KDM6B', 'KIAA1217', 'KIF26B', \n",
    "                         'KLF5', 'KLK1', 'KLK4', 'KPNA2', 'KRT17', 'KRT19', 'LEF1', 'LEPR', 'LINC00327', 'LINC01133', 'LMO4', 'LMO7', 'LOX', 'LOXL2', 'LPAR4', \n",
    "                         'LRRC15', 'LRRC17', 'LRRN3', 'LSP1', 'LTBP2', 'MAB21L2', 'MAFF', 'MAGI1', 'MAP2', 'MAP7', 'MARCKSL1', 'MATN4', 'MCTP1', 'MDK', 'MEF2C', \n",
    "                         'MFAP5', 'MGP', 'MGST1', 'MKX', 'MME', 'MMP11', 'MMP16', 'MMP2', 'MRAS', 'MRPS6', 'MSC', 'MXRA5', 'MYO10', 'MYOC', 'NBL1', 'NDNF', \n",
    "                         'NECAB1', 'NFIB', 'NFIL3', 'NFKB1', 'NFKBIA', 'NGFR', 'NKD2', 'NLGN4X', 'NPTX2', 'NR2F2', 'NR4A3', 'NRP2', 'NTM', 'OGN', 'OLFML2A', \n",
    "                         'OSBP2', 'P2RY14', 'P3H2', 'P4HA3', 'PAFAH1B3', 'PALMD', 'PAMR1', 'PCDH19', 'PCOLCE2', 'PCSK1N', 'PCSK9', 'PDGFD', 'PDGFRL', 'PEAR1', \n",
    "                         'PGM2L1', 'PHACTR3', 'PI16', 'PIEZO2', 'PIM3', 'PKP4', 'PLA2G2A', 'PLA2G5', 'PLAUR', 'PLEKHA4', 'PLK2', 'PLPP5', 'PLXDC1', 'PMEPA1', \n",
    "                         'PNRC1', 'PODNL1', 'POSTN', 'PPARG', 'PPDPFL', 'PPIC', 'PPP1R14A', 'PPP1R15A', 'PPP1R15B', 'PRDM8', 'PRG4', 'PRKG2', 'PRSS23', 'PSAT1', \n",
    "                         'PTCH1', 'PTGDS', 'PTGIS', 'PTGS1/COX1', 'PTK7', 'PTN', 'PTPRD', 'PXDNL', 'QPCT', 'RAMP1', 'RANBP3L', 'RARRES2', 'RBFOX1', 'RBP4', \n",
    "                         'RBP5', 'REL', 'RGCC', 'RGS16', 'RHPN1', 'ROBO2', 'RSPO1', 'RSPO3', 'RSPO4', 'RUNX2', 'S100B', 'SBSPON', 'SCARA5', 'SCN4B', 'SCN7A', \n",
    "                         'SCRG1', 'SDC1', 'SDPR/CAVIN2', 'SEMA3B', 'SEMA3C', 'SEMA3E', 'SERPINA5', 'SERPINF1', 'SFRP1', 'SFRP2', 'SFRP4', 'SGCA', 'SGIP1', \n",
    "                         'SH3BGRL3', 'SHISA3', 'SHISAL1', 'SIX1', 'SLC22A16', 'SLC22A3', 'SLC26A7', 'SLC29A1', 'SLC2A1', 'SLC2A3', 'SLC5A3', 'SLC9A3R2', \n",
    "                         'SLCO2B1', 'SLIT2', 'SLITRK6', 'SLPI', 'SNAI2', 'SOCS3', 'SOD2', 'SOSTDC1', 'SOX8', 'SPARC', 'SPARCL1', 'SPON1', 'SPON2', 'SPRY1', \n",
    "                         'SPRY2', 'SPSB1', 'STC1', 'STC2', 'STMN1', 'STMN2', 'SULT1A1', 'SVEP1', 'TAC1', 'TAGLN', 'TBX3', 'TCEAL2', 'TCF7L2', 'TENM2', 'TENM3', \n",
    "                         'TFAP2A', 'TGFBI', 'THBS2', 'THBS4', 'THSD4', 'TIAM1', 'TIMP2', 'TIMP3', 'TM4SF1', 'TMEM150C', 'TMEM176A', 'TMEM52', 'TMTC2', 'TNC', \n",
    "                         'TNFAIP3', 'TNFAIP6', 'TNFRSF19', 'TNFSF13B', 'TNFSF14', 'TNMD', 'TNN', 'TNNC1', 'TNNT3', 'TNXB', 'TPD52', 'TPPP3', 'TRAC', 'TRIL', \n",
    "                         'TRPM3', 'TRPS1', 'TSPAN13', 'TSPAN8', 'TTR', 'TUBB4A', 'TWIST2', 'TXNIP', 'TYMP', 'UACA', 'UAP1', 'UBD', 'UGT3A2', 'VCAM1', 'VIPR2', \n",
    "                         'WFDC1', 'WIF1', 'WISP2 / CCN5', 'WNT10A', 'WNT2', 'WNT5A', 'WTAP', 'XG', 'YWHAH', 'ZC2HC1C', 'ZC3H12A', 'ZFP36'])))"
   ]
  },
  {
   "cell_type": "markdown",
   "metadata": {},
   "source": [
    "To create the dot plot we will use two variables: the percentage of cells expressing the marker in each cluster, and the mean expression value of the expressing-cells in each cluster. To do that, we will create a df for each case and gene, compile the info for each adata and get the mean/std across the adatas. If one gene is not expressed in an adata, or the adata does not have a certain cluster, the value registered is a NaN, not zero. "
   ]
  },
  {
   "cell_type": "code",
   "execution_count": null,
   "metadata": {
    "tags": []
   },
   "outputs": [],
   "source": [
    "plot_UMAPS_gene('cluster_robust', list_datasets=list_all_datasets, list_names=list_names)"
   ]
  },
  {
   "cell_type": "code",
   "execution_count": null,
   "metadata": {
    "tags": []
   },
   "outputs": [],
   "source": [
    "plot_UMAPS_gene('cluster_robust', list_datasets=list_all_datasets, list_names=list_names)"
   ]
  },
  {
   "cell_type": "code",
   "execution_count": null,
   "metadata": {
    "tags": []
   },
   "outputs": [],
   "source": [
    "dict_fraction_cells, dict_mean_exp = make_dicts_fraction_mean(genes, list_all_datasets, list_accepted_clusters, clusterby='cluster_robust')"
   ]
  },
  {
   "cell_type": "markdown",
   "metadata": {},
   "source": [
    "To do the dotplot we do some adjustments. We adjust the fraction of cells beign expressed to $x^{2/3}$ to make it slightly more visual. We also apply a alpha of 1 - std(fraction of cells) to account for markers that are expressed in disparily, so that they are visually not that relevant.\n"
   ]
  },
  {
   "cell_type": "code",
   "execution_count": null,
   "metadata": {
    "tags": []
   },
   "outputs": [],
   "source": [
    "for gene in genes:\n",
    "    print(gene)\n",
    "    plot_dotplot_gene(gene, dict_fraction_cells, dict_mean_exp)\n",
    "    plot_UMAPS_gene(gene, list_datasets=list_all_datasets, list_names=list_names, n_cols=5, n_rows=5)\n",
    "    plt.show()"
   ]
  },
  {
   "cell_type": "markdown",
   "metadata": {},
   "source": [
    "## Analyse the presence and expression pattern of marker genes (within all populations)\n",
    "\n",
    "In this section we will plot UMAPs and dot plots of expression patterns of gene markers. This is useful because many gene markers tend to be markers of few clusters based on DE analysis but, in reality, they are also expressed in other clusters which might need to be considered."
   ]
  },
  {
   "cell_type": "code",
   "execution_count": null,
   "metadata": {
    "tags": []
   },
   "outputs": [],
   "source": [
    "list_accepted_clusters_full = ['fibro', 'fibro - ANGPTL7', 'F', 'melanocyte', 'neuro', 'endo capillary', 'endo venule', 'endo artery', 'lymph', \n",
    "                               'peri - CYCS', 'peri - ZFP36', 'peri - RERGL', 'peri - RGS5', 'krt channel', 'krt spinous', 'krt basal', 'krt gran', \n",
    "                               'muscle', 'T CD4+', 'B cells', 'NK cell', 'APC', 'immune', 'mast cell' ]"
   ]
  },
  {
   "cell_type": "code",
   "execution_count": null,
   "metadata": {
    "tags": []
   },
   "outputs": [],
   "source": [
    "list_all_datasets_full = [ahlers_2022_young, boothby_2021_ctrl, \n",
    "                         deng_2021_scar, gao_2021_ctrl, gaydosik_2020_ctrl, gur_2022_ctrl, \n",
    "                         he_2020_ctrl, hughes_2020_ctrl, kim_2020_ctrl, \n",
    "                         liu_2021_ctrl, mariottoni_2021_ctrl,\n",
    "                         mirizio_2020_scl, rindler_2021_ctrl,\n",
    "                         sole_2020_young, tabib_2021_ctrl,\n",
    "                         theo_2020_ctrl_dm, theo_2021_ctrl,\n",
    "                         vors_2020_ctrl, vors_2021_ctrl, xu_2021_ctrl]\n",
    "\n",
    "list_names_full = [adata.obs['Author'].values[0] + ' ' + str(int(adata.obs['Year'].values[0])) for adata in list_all_datasets_full]"
   ]
  },
  {
   "cell_type": "code",
   "execution_count": null,
   "metadata": {},
   "outputs": [],
   "source": [
    "%store list_all_datasets_full"
   ]
  },
  {
   "cell_type": "code",
   "execution_count": null,
   "metadata": {
    "tags": []
   },
   "outputs": [],
   "source": [
    "plot_UMAPS_gene('assigned_cats', list_datasets=list_all_datasets_full, list_names=list_names_full)"
   ]
  },
  {
   "cell_type": "code",
   "execution_count": null,
   "metadata": {
    "tags": []
   },
   "outputs": [],
   "source": [
    "genes = [ 'CD133', 'PROM1', 'KRT9', 'LGR5', 'MOXD1', 'SGCG', 'SLC47A2', 'APCDD1L', 'SH3BGRL3', 'TPM1', 'YWHAH', 'ARID5B', 'CEBPB', 'APLNR', 'ST8SIA1', 'ATP8B4', 'EBF3', 'EPHX1', 'FGF10', 'HSPB6', 'IGF2', \n",
    "         'NFIB', 'NTRK2', 'PPP1R1A', 'TSHZ2', 'CCDC3', 'RFLNB', 'KCNAB1', 'RASL11B', 'SEMA5A', 'VIT', 'CMKLR1', 'DKK3', 'DUSP6', 'LAMC3', 'SEMA3G', 'TNFRSF21', 'ENTPD1', 'CD36', 'CHI3L1', 'MMP1', 'MMP3', \n",
    "         'IGFBP4', 'COL12A1', 'ACTA2', 'CLU', 'CD44', 'DKK1', 'WNT1', 'WNT10B', 'PDPN', 'NTN1', 'FAP', 'THY1',]"
   ]
  },
  {
   "cell_type": "code",
   "execution_count": null,
   "metadata": {
    "tags": []
   },
   "outputs": [],
   "source": [
    "dict_fraction_cells_full, dict_mean_exp_full = make_dicts_fraction_mean(genes, list_all_datasets_full, list_accepted_clusters_full, clusterby='assigned_cats')"
   ]
  },
  {
   "cell_type": "code",
   "execution_count": null,
   "metadata": {
    "tags": []
   },
   "outputs": [],
   "source": [
    "for gene in genes:\n",
    "    print(gene)\n",
    "    plot_dotplot_gene(gene, dict_fraction_cells_full, dict_mean_exp_full, rotate=True)\n",
    "    plot_UMAPS_gene(gene, list_datasets=list_all_datasets_full, list_names=list_names, n_cols=5, n_rows=5)\n",
    "    plt.show()"
   ]
  }
 ],
 "metadata": {
  "kernelspec": {
   "display_name": "Python [conda env:triku-notebooks]",
   "language": "python",
   "name": "conda-env-triku-notebooks-py"
  },
  "language_info": {
   "codemirror_mode": {
    "name": "ipython",
    "version": 3
   },
   "file_extension": ".py",
   "mimetype": "text/x-python",
   "name": "python",
   "nbconvert_exporter": "python",
   "pygments_lexer": "ipython3",
   "version": "3.8.0"
  },
  "toc": {
   "base_numbering": 1,
   "nav_menu": {},
   "number_sections": true,
   "sideBar": true,
   "skip_h1_title": false,
   "title_cell": "Table of Contents",
   "title_sidebar": "Contents",
   "toc_cell": false,
   "toc_position": {
    "height": "calc(100% - 180px)",
    "left": "10px",
    "top": "150px",
    "width": "384px"
   },
   "toc_section_display": true,
   "toc_window_display": true
  },
  "varInspector": {
   "cols": {
    "lenName": 16,
    "lenType": 16,
    "lenVar": 40
   },
   "kernels_config": {
    "python": {
     "delete_cmd_postfix": "",
     "delete_cmd_prefix": "del ",
     "library": "var_list.py",
     "varRefreshCmd": "print(var_dic_list())"
    },
    "r": {
     "delete_cmd_postfix": ") ",
     "delete_cmd_prefix": "rm(",
     "library": "var_list.r",
     "varRefreshCmd": "cat(var_dic_list()) "
    }
   },
   "types_to_exclude": [
    "module",
    "function",
    "builtin_function_or_method",
    "instance",
    "_Feature"
   ],
   "window_display": false
  }
 },
 "nbformat": 4,
 "nbformat_minor": 4
}

{
 "cells": [
  {
   "cell_type": "markdown",
   "id": "religious-seafood",
   "metadata": {},
   "source": [
    "# Data extraction\n",
    "\n",
    "In this notebook we are going to extract the raw or processed data from all datasets, to later analyze it in different notebooks."
   ]
  },
  {
   "cell_type": "code",
   "execution_count": 1,
   "id": "micro-currency",
   "metadata": {},
   "outputs": [],
   "source": [
    "import matplotlib as mpl\n",
    "import matplotlib.pyplot as plt\n",
    "import mygene\n",
    "import numpy as np\n",
    "import os\n",
    "import pandas as pd\n",
    "import scanpy as sc\n",
    "import scanpy.external as sce\n",
    "from tqdm.notebook import tqdm\n",
    "import triku as tk\n",
    "pd.set_option('display.max_columns', None)"
   ]
  },
  {
   "cell_type": "code",
   "execution_count": 2,
   "id": "dcf67bbb-74b8-45cb-ab50-c7cd84e371c8",
   "metadata": {},
   "outputs": [],
   "source": [
    "from cellassign import assign_cats"
   ]
  },
  {
   "cell_type": "code",
   "execution_count": 3,
   "id": "9d89ffd1-4827-447b-8825-12f53628cd78",
   "metadata": {},
   "outputs": [],
   "source": [
    "# Palettes for UMAP gene expression\n",
    "\n",
    "magma = [plt.get_cmap('magma')(i) for i in np.linspace(0,1, 80)]\n",
    "magma[0] = (0.88, 0.88, 0.88, 1)\n",
    "magma = mpl.colors.LinearSegmentedColormap.from_list(\"\", magma[:65])"
   ]
  },
  {
   "cell_type": "code",
   "execution_count": 4,
   "id": "latin-spoke",
   "metadata": {},
   "outputs": [],
   "source": [
    "data_dir = os.getcwd() + '/data/'"
   ]
  },
  {
   "cell_type": "code",
   "execution_count": 5,
   "id": "outdoor-jewelry",
   "metadata": {},
   "outputs": [],
   "source": [
    "human_gencode_dir = \"/media/seth/SETH_DATA/SETH_Alex/Programs/human_GRCh38_gencode.v31.600\"\n",
    "program_dir = \"/media/seth/SETH_DATA/SETH_Alex/Programs/\""
   ]
  },
  {
   "cell_type": "markdown",
   "id": "9e383877-4dfd-4220-9a28-359a6d213f4d",
   "metadata": {},
   "source": [
    "## Deng et al. 2021 (human)"
   ]
  },
  {
   "cell_type": "code",
   "execution_count": null,
   "id": "0511310e-cb7c-4762-9cd0-124bb234b1e9",
   "metadata": {},
   "outputs": [],
   "source": [
    "!cd {deng_dir} && wget https://ftp.ncbi.nlm.nih.gov/geo/samples/GSM4994nnn/GSM4994382/suppl/GSM4994382_NS1_matrix.tar.gz\n",
    "!cd {deng_dir} && wget https://ftp.ncbi.nlm.nih.gov/geo/samples/GSM4994nnn/GSM4994383/suppl/GSM4994383_NS2_matrix.tar.gz\n",
    "!cd {deng_dir} && wget https://ftp.ncbi.nlm.nih.gov/geo/samples/GSM4994nnn/GSM4994384/suppl/GSM4994384_NS3_matrix.tar.gz"
   ]
  },
  {
   "cell_type": "code",
   "execution_count": null,
   "id": "de28d946-cb39-46eb-b4f7-8aa6f4add0c3",
   "metadata": {},
   "outputs": [],
   "source": [
    "!cd {deng_dir} && wget https://ftp.ncbi.nlm.nih.gov/geo/samples/GSM4994nnn/GSM4994379/suppl/GSM4994379_KL1_matrix.tar.gz\n",
    "!cd {deng_dir} && wget https://ftp.ncbi.nlm.nih.gov/geo/samples/GSM4994nnn/GSM4994380/suppl/GSM4994380_KL2_matrix.tar.gz\n",
    "!cd {deng_dir} && wget https://ftp.ncbi.nlm.nih.gov/geo/samples/GSM4994nnn/GSM4994381/suppl/GSM4994381_KL3_matrix.tar.gz"
   ]
  },
  {
   "cell_type": "code",
   "execution_count": null,
   "id": "246c11c3-7bef-49c3-8c16-e9f7a57cc4d7",
   "metadata": {},
   "outputs": [],
   "source": [
    "!cd {deng_dir} && cat *.tar.gz | tar zxvf - -i"
   ]
  },
  {
   "cell_type": "markdown",
   "id": "ae7c1902-b506-4080-9095-10f4730698b5",
   "metadata": {},
   "source": [
    "## Gao et al. 2021 (human)"
   ]
  },
  {
   "cell_type": "code",
   "execution_count": null,
   "id": "bae78e15-8cd4-4bfc-bb88-65ff7ad4931a",
   "metadata": {},
   "outputs": [],
   "source": [
    "gao_dir = data_dir + '/gao_2021'\n",
    "os.makedirs(gao_dir, exist_ok=True)"
   ]
  },
  {
   "cell_type": "markdown",
   "id": "e729330b-a991-42d3-9f24-e778e6d3469d",
   "metadata": {},
   "source": [
    "### Direct h5ad download"
   ]
  },
  {
   "cell_type": "code",
   "execution_count": null,
   "id": "9279a3ed-86a5-406d-8bff-a1c25295e209",
   "metadata": {
    "scrolled": true,
    "tags": []
   },
   "outputs": [],
   "source": [
    "!aria2c -x 16 https://ftp.ncbi.nlm.nih.gov/geo/series/GSE162nnn/GSE162183/suppl/GSE162183%5FRaw%5Fgene%5Fcounts%5Fmatrix%5FLoomFile%2Eloom%2Egz -d {gao_dir} -o gao_2021.loom.gz"
   ]
  },
  {
   "cell_type": "code",
   "execution_count": null,
   "id": "d34d094e-5b6f-4a7b-bd01-7dd8faf887d9",
   "metadata": {},
   "outputs": [],
   "source": [
    "!gunzip {gao_dir}/gao_2021.loom.gz"
   ]
  },
  {
   "cell_type": "markdown",
   "id": "ab648631-188c-4065-9cf3-346d67f7c64e",
   "metadata": {},
   "source": [
    "## Gaydosik et al. 2020 (human)"
   ]
  },
  {
   "cell_type": "code",
   "execution_count": null,
   "id": "a41999fc-74ec-422d-ac95-6afbcf8b215a",
   "metadata": {},
   "outputs": [],
   "source": [
    "gaydosik_dir = data_dir + '/gaydosik_2020'\n",
    "os.makedirs(gaydosik_dir, exist_ok=True)"
   ]
  },
  {
   "cell_type": "code",
   "execution_count": null,
   "id": "4376ec7c-045e-407a-9d9e-fce2e2853d03",
   "metadata": {
    "scrolled": true
   },
   "outputs": [],
   "source": [
    "!cd {gaydosik_dir} && wget ftp://ftp.ncbi.nlm.nih.gov/geo/samples/GSM3679nnn/GSM3679033/suppl/GSM3679033%5FLabeled%5FSC67%5F050517%5FSK%5FMF2%5FGRCh38raw%2Ecsv%2Egz\n",
    "!cd {gaydosik_dir} && wget ftp://ftp.ncbi.nlm.nih.gov/geo/samples/GSM3679nnn/GSM3679034/suppl/GSM3679034%5FLabeled%5FSC82%5F060617%5FSK%5FMF5%5FGRCh38raw%2Ecsv%2Egz\n",
    "!cd {gaydosik_dir} && wget ftp://ftp.ncbi.nlm.nih.gov/geo/samples/GSM3679nnn/GSM3679035/suppl/GSM3679035%5FSC157dataframe%2Ecsv%2Egz\n",
    "!cd {gaydosik_dir} && wget ftp://ftp.ncbi.nlm.nih.gov/geo/samples/GSM3679nnn/GSM3679036/suppl/GSM3679036%5FSC158dataframe%2Ecsv%2Egz\n",
    "!cd {gaydosik_dir} && wget ftp://ftp.ncbi.nlm.nih.gov/geo/samples/GSM3679nnn/GSM3679037/suppl/GSM3679037%5FSC205dataframe%2Ecsv%2Egz\n",
    "\n",
    "!cd {gaydosik_dir} && wget ftp://ftp.ncbi.nlm.nih.gov/geo/samples/GSM3679nnn/GSM3679038/suppl/GSM3679038%5FLabeled%5FSC50%5F011917%5FSK%5FNOR%5FGRCh38raw%2Ecsv%2Egz\n",
    "!cd {gaydosik_dir} && wget ftp://ftp.ncbi.nlm.nih.gov/geo/samples/GSM3679nnn/GSM3679039/suppl/GSM3679039%5FLabeled%5FSC68%5F051517%5FSK%5FNOR%5FGRCh38raw%2Ecsv%2Egz\n",
    "!cd {gaydosik_dir} && wget ftp://ftp.ncbi.nlm.nih.gov/geo/samples/GSM3679nnn/GSM3679040/suppl/GSM3679040%5FLabeled%5FSC124%5F080317%5FSK%5FNOR%5FGRCh38raw%2Ecsv%2Egz\n",
    "!cd {gaydosik_dir} && wget ftp://ftp.ncbi.nlm.nih.gov/geo/samples/GSM3679nnn/GSM3679041/suppl/GSM3679041%5FLabeled%5FSC125%5F080317%5FSK%5FNOR%5FGRCh38raw%2Ecsv%2Egz"
   ]
  },
  {
   "cell_type": "code",
   "execution_count": null,
   "id": "9ca29dc5-de71-4eba-9419-d9a19cdfe03f",
   "metadata": {},
   "outputs": [],
   "source": [
    "!cd {gaydosik_dir} &&  gunzip *.gz"
   ]
  },
  {
   "cell_type": "code",
   "execution_count": null,
   "id": "a4f384c3-f3e3-4d4f-96bc-6f63d0cc4be6",
   "metadata": {},
   "outputs": [],
   "source": [
    "adata_CTCL2 = sc.read(gaydosik_dir + '/GSM3679033_Labeled_SC67_050517_SK_MF2_GRCh38raw.csv').transpose()\n",
    "adata_CTCL5 = sc.read(gaydosik_dir + '/GSM3679034_Labeled_SC82_060617_SK_MF5_GRCh38raw.csv').transpose()\n",
    "adata_CTCL6 = sc.read(gaydosik_dir + '/GSM3679035_SC157dataframe.csv').transpose()\n",
    "adata_CTCL8 = sc.read(gaydosik_dir + '/GSM3679036_SC158dataframe.csv').transpose()\n",
    "adata_CTCL12 = sc.read(gaydosik_dir + '/GSM3679037_SC205dataframe.csv').transpose()"
   ]
  },
  {
   "cell_type": "code",
   "execution_count": null,
   "id": "e4be092a-c163-48fd-ac83-f72feb53e336",
   "metadata": {},
   "outputs": [],
   "source": [
    "adata_HC1 = sc.read(gaydosik_dir + '/GSM3679038_Labeled_SC50_011917_SK_NOR_GRCh38raw.csv').transpose()\n",
    "adata_HC2 = sc.read(gaydosik_dir + '/GSM3679039_Labeled_SC68_051517_SK_NOR_GRCh38raw.csv').transpose()\n",
    "adata_HC3 = sc.read(gaydosik_dir + '/GSM3679040_Labeled_SC124_080317_SK_NOR_GRCh38raw.csv').transpose()\n",
    "adata_HC4 = sc.read(gaydosik_dir + '/GSM3679041_Labeled_SC125_080317_SK_NOR_GRCh38raw.csv').transpose()"
   ]
  },
  {
   "cell_type": "code",
   "execution_count": null,
   "id": "ec7bfef8-a286-4449-9c5c-3c80ace70d27",
   "metadata": {},
   "outputs": [],
   "source": [
    "adata_CTCL = sc.AnnData.concatenate(adata_CTCL2, adata_CTCL5, adata_CTCL6, \n",
    "                                   adata_CTCL8, adata_CTCL12, batch_key='sample', \n",
    "                                   batch_categories=['CTCL2', 'CTCL5', 'CTCL6',\n",
    "                                                     'CTCL8', 'CTCL12'])\n",
    "adata_HC = sc.AnnData.concatenate(adata_HC1, adata_HC2, adata_HC3, \n",
    "                                   adata_HC4, batch_key='sample', batch_categories=[\n",
    "                                       'HC1', 'HC2', 'HC3', 'HC4'\n",
    "                                   ])"
   ]
  },
  {
   "cell_type": "code",
   "execution_count": null,
   "id": "09fe7c61-64f0-49dd-aeda-f9436715f9cf",
   "metadata": {},
   "outputs": [],
   "source": [
    "adata_CTCL.write_h5ad(gaydosik_dir + '/gaydosik_2020_CTCL.h5ad')\n",
    "adata_HC.write_h5ad(gaydosik_dir + '/gaydosik_2020_HC.h5ad')"
   ]
  },
  {
   "cell_type": "markdown",
   "id": "a2f85538-5afb-4050-9522-79e9f508fe94",
   "metadata": {},
   "source": [
    "## He et al. 2020 (human)"
   ]
  },
  {
   "cell_type": "markdown",
   "id": "650da279-e11b-4ef3-ac9b-097696ef5925",
   "metadata": {},
   "source": [
    "### Raw data and metadata extraction (healthy samples)"
   ]
  },
  {
   "cell_type": "code",
   "execution_count": null,
   "id": "bef957da-71ff-4053-925a-290da80b92ea",
   "metadata": {},
   "outputs": [],
   "source": [
    "he_dir = data_dir + '/He_2020'\n",
    "os.makedirs(he_dir, exist_ok=True)"
   ]
  },
  {
   "cell_type": "code",
   "execution_count": null,
   "id": "eb67505c-427a-4a57-91f1-8db44844ad54",
   "metadata": {},
   "outputs": [],
   "source": [
    "!rm -rf {he_dir}"
   ]
  },
  {
   "cell_type": "code",
   "execution_count": null,
   "id": "42af0693-e2ae-4af6-8eae-3f56b68c2fde",
   "metadata": {},
   "outputs": [],
   "source": [
    "SRA_list = \"\"\"\n",
    "SRR11396171\n",
    "SRR11396175\n",
    "SRR11396162\n",
    "SRR11396164\n",
    "SRR11396166\n",
    "SRR11396167\n",
    "SRR11396168\n",
    "SRR11396170\n",
    "\"\"\"\n",
    "\n",
    "with open(he_dir + '/accession.txt', 'w') as f:\n",
    "    f.write(SRA_list)\n",
    "    \n",
    "df = pd.DataFrame({'name': ['He2020'], 'technology': ['10xv2'] * 8, 'targetnumcells': [5000] * 8})\n",
    "\n",
    "df.to_csv(he_dir + '/metadata.tab', sep='\\t', index=None)"
   ]
  },
  {
   "cell_type": "code",
   "execution_count": null,
   "id": "f0759e57-1679-449c-af3f-758c4f098b2b",
   "metadata": {},
   "outputs": [],
   "source": [
    "!cd {he_dir} && cat accession.txt | parallel -j 8 \"prefetch {}\""
   ]
  },
  {
   "cell_type": "code",
   "execution_count": null,
   "id": "404c935c-7ca8-42d2-972d-a23eb3b14bc2",
   "metadata": {},
   "outputs": [],
   "source": [
    "def adapt_fastq(filename_dir, filename_root, idx):\n",
    "    # Using readline() \n",
    "    filein = open(f'{filename_dir}/{filename_root}.fastq', 'r') \n",
    "    \n",
    "    fileR1 = open(f'{filename_dir}/He2020_L00{idx}_R1_001.fastq', 'w') \n",
    "    fileR2 = open(f'{filename_dir}/He2020_L00{idx}_R2_001.fastq', 'w') \n",
    "    \n",
    "    print(f'{filename_dir}/{filename_root}.fastq', f'{filename_dir}/He2020_L00{idx}_R1_001.fastq')\n",
    "    \n",
    "    count = 0\n",
    "    \n",
    "    while True: \n",
    "        count += 1\n",
    "\n",
    "        # Get next line from file \n",
    "        line = filein.readline() \n",
    "        \n",
    "        if count % 4 in [1, 3]:\n",
    "            fileR1.write(line.replace('\\n', '') + '\\n')\n",
    "            fileR2.write(line.replace('\\n', '') + '\\n')\n",
    "        elif count == 2:\n",
    "            fileR1.write(line.replace('\\n', '')[:26] + '\\n')\n",
    "            fileR2.write(line.replace('\\n', '')[26:] + '\\n')\n",
    "        else:\n",
    "            fileR1.write(line.replace('\\n', '')[:26] + '\\n')\n",
    "            fileR2.write(line.replace('\\n', '')[26:] + '\\n')\n",
    "            \n",
    "\n",
    "        # if line is empty \n",
    "        # end of file is reached \n",
    "        if not line: \n",
    "            break\n",
    "\n",
    "    filein.close() \n",
    "    fileR1.close()\n",
    "    fileR2.close()\n",
    "    \n",
    "    os.system(f'gzip {filename_dir}/{filename_root}.fastq')\n",
    "    os.system(f'gzip {filename_dir}/He2020_L00{idx}_R1_001.fastq')\n",
    "    os.system(f'gzip {filename_dir}/He2020_L00{idx}_R2_001.fastq')"
   ]
  },
  {
   "cell_type": "code",
   "execution_count": null,
   "id": "15f5315e-c5e7-480c-971c-fd997c507e29",
   "metadata": {},
   "outputs": [],
   "source": [
    "adapt_fastq_remote = ray.remote(adapt_fastq)\n",
    "\n",
    "ray.init(ignore_reinit_error=True, num_cpus=2)\n",
    "\n",
    "ret = [adapt_fastq_remote.remote(f'{he_dir}', f'{name}', name_idx+1) for name_idx, name in enumerate(SRA_list.split('\\n')[1:-1])]\n",
    "ray.get(ret)\n",
    "\n",
    "ray.shutdown()"
   ]
  },
  {
   "cell_type": "code",
   "execution_count": null,
   "id": "bf15720c-e35e-4937-9567-36a3b0e0f08c",
   "metadata": {},
   "outputs": [],
   "source": [
    "!cd {he_dir} && loompy fromfq He2020.loom He2020 {human_gencode_dir} metadata.tab \\\n",
    "He2020_L001_R1_001.fastq.gz He2020_L001_R2_001.fastq.gz He2020_L002_R1_001.fastq.gz He2020_L002_R2_001.fastq.gz \\\n",
    "He2020_L003_R1_001.fastq.gz He2020_L003_R2_001.fastq.gz He2020_L004_R1_001.fastq.gz He2020_L004_R2_001.fastq.gz \\\n",
    "He2020_L005_R1_001.fastq.gz He2020_L005_R2_001.fastq.gz He2020_L006_R1_001.fastq.gz He2020_L006_R2_001.fastq.gz \\\n",
    "He2020_L007_R1_001.fastq.gz He2020_L007_R2_001.fastq.gz He2020_L008_R1_001.fastq.gz He2020_L008_R2_001.fastq.gz \\"
   ]
  },
  {
   "cell_type": "markdown",
   "id": "e3ab479d-d8cb-42d6-9d2c-a14e3251678f",
   "metadata": {},
   "source": [
    "### Raw data and metadata extraction (lesional samples)"
   ]
  },
  {
   "cell_type": "code",
   "execution_count": null,
   "id": "69ba93d5-f81e-4615-aeb6-910774e3ea0e",
   "metadata": {},
   "outputs": [],
   "source": [
    "SRA_list = \"\"\"\n",
    "SRR11396159\n",
    "SRR11396160\n",
    "SRR11396163\n",
    "SRR11396165\n",
    "\"\"\"\n",
    "\n",
    "with open(he_dir + '/accession_old.txt', 'w') as f:\n",
    "    f.write(SRA_list)\n",
    "    \n",
    "df = pd.DataFrame({'name': ['He2020_inj'], 'technology': ['10xv2'], 'targetnumcells': [5000]})\n",
    "\n",
    "df.to_csv(he_dir + '/metadata_inj.tab', sep='\\t', index=None)"
   ]
  },
  {
   "cell_type": "code",
   "execution_count": null,
   "id": "78c74de4-2383-4a18-81f5-3c2c16621c00",
   "metadata": {},
   "outputs": [],
   "source": [
    "!cd {he_dir} && cat accession_inj.txt | parallel -j 8 \"prefetch {}\""
   ]
  },
  {
   "cell_type": "code",
   "execution_count": null,
   "id": "869abdc0-67c7-46d8-8976-8b6db4930b08",
   "metadata": {},
   "outputs": [],
   "source": [
    "adapt_fastq_remote = ray.remote(adapt_fastq)\n",
    "\n",
    "ray.init(ignore_reinit_error=True, num_cpus=2)\n",
    "\n",
    "ret = [adapt_fastq_remote.remote(f'{he_dir}', f'{name}', name_idx+10) for name_idx, name in enumerate(SRA_list.split('\\n')[1:-1])]\n",
    "ray.get(ret)\n",
    "\n",
    "ray.shutdown()"
   ]
  },
  {
   "cell_type": "code",
   "execution_count": null,
   "id": "794504ce-38a9-428e-a570-d725a80ce6ab",
   "metadata": {},
   "outputs": [],
   "source": [
    "!cd {he_dir} && loompy fromfq He2020_inj.loom He2020_inj {human_gencode_dir} metadata_old.tab \\\n",
    "He2020_L0010_R1_001.fastq.gz He2020_L0010_R2_001.fastq.gz He2020_L0011_R1_001.fastq.gz He2020_L0011_R2_001.fastq.gz \\\n",
    "He2020_L0013_R1_001.fastq.gz He2020_L0013_R2_001.fastq.gz He2020_L0012_R1_001.fastq.gz He2020_L0012_R2_001.fastq.gz"
   ]
  },
  {
   "cell_type": "markdown",
   "id": "2a4d2d8f-8b62-4138-83a3-70096f24f514",
   "metadata": {},
   "source": [
    "## Hughes et al. 2020 (human)\n",
    "\n",
    "SRA download and processing did not produce correct matrices."
   ]
  },
  {
   "cell_type": "code",
   "execution_count": null,
   "id": "b9ee287c-3c64-41f5-b88f-bf46c4ba6ce9",
   "metadata": {},
   "outputs": [],
   "source": [
    "!cd {hughes_dir} && wget https://storage.googleapis.com/fc-9fe89f6d-a673-4659-8332-0bdcecf88e03/alexandria_structured_metadata.txt?GoogleAccessId=116798894341-compute%40developer.gserviceaccount.com&Expires=1632753650&Signature=nqwIaNbwIJdKkgwebfZSwN69btGHB%2BSzDbhRbstLDwkbFjGs%2BRThwg1Ibicv7aRdjN1KvJt%2F3w6kH1wht7bpS19a5TDEG9O4vycd%2FpKLdReTTvc10tkNlkT%2FVFTkpZhfSb1AXKxWNVSQsNj4oF5L%2FrXZvHU4DVYSfGxKhFbIjccqdWi%2B04k0cuALBrHzaBQllnOw079Rur3L5TvobxizFvIV77ZlQZ2cUI8iOO1UQ7ZB70Gfdb%2Fxr6UVZHCfb%2FEAthgAHDVk%2FrNx%2FuPvmFb5XKwQEvLeoCzMQ80uixU8L4XHKBL1YSLDoaVDeIc6bjEt86%2Fl1e31Aymh0ERxvzEYrQ%3D%3D\n",
    "!cd {hughes_dir} && https://ftp.ncbi.nlm.nih.gov/geo/series/GSE150nnn/GSE150672/suppl/GSE150672%5FSkin%5FExpression%5Fcounts%2Ecsv%2Egz"
   ]
  },
  {
   "cell_type": "code",
   "execution_count": null,
   "id": "397091be-d3d9-4764-badc-cfb1b2aa18f0",
   "metadata": {},
   "outputs": [],
   "source": [
    "hughes_dir = data_dir + '/hughes_2020'"
   ]
  },
  {
   "cell_type": "code",
   "execution_count": null,
   "id": "9151961b-86bf-4e32-b68e-3160b128e44e",
   "metadata": {},
   "outputs": [],
   "source": [
    "adata_hughes = sc.read(hughes_dir + '/GSE150672_Skin_Expression_counts.csv.gz').transpose()\n",
    "adata_hughes.var_names_make_unique()\n",
    "adata_hughes.X = spr.csr.csr_matrix(adata_hughes.X)"
   ]
  },
  {
   "cell_type": "code",
   "execution_count": null,
   "id": "3063b128-df79-48e7-9e5c-5b9bdc1ec9a7",
   "metadata": {},
   "outputs": [],
   "source": [
    "metadata_hughes = pd.read_csv(hughes_dir+'/alexandria_structured_metadata.txt', sep='\\t', index_col=0)\n",
    "metadata_hughes = metadata_hughes.iloc[1:]"
   ]
  },
  {
   "cell_type": "code",
   "execution_count": null,
   "id": "5568a759-b990-4b0b-8a54-b73120270ef6",
   "metadata": {},
   "outputs": [],
   "source": [
    "adata_hughes.obs.loc[metadata_hughes.index, ['donor_id']] = metadata_hughes.loc[:, ['donor_id']]"
   ]
  },
  {
   "cell_type": "code",
   "execution_count": null,
   "id": "4043dc3b-d708-4d4f-9410-5ff47ac20896",
   "metadata": {},
   "outputs": [],
   "source": [
    "adata_hughes.write_h5ad(hughes_dir + '/hughes_2020.h5ad')"
   ]
  },
  {
   "cell_type": "markdown",
   "id": "d9127062-977d-42c3-a992-6ac6d99e634a",
   "metadata": {},
   "source": [
    "## Kim et al. 2020 (human)"
   ]
  },
  {
   "cell_type": "code",
   "execution_count": null,
   "id": "20ce387d-557a-4057-9d07-7789cf725803",
   "metadata": {},
   "outputs": [],
   "source": [
    "kim_dir = data_dir + '/Kim_2020'\n",
    "os.makedirs(kim_dir, exist_ok=True)\n",
    "os.makedirs(kim_dir + '/injury', exist_ok=True)"
   ]
  },
  {
   "cell_type": "code",
   "execution_count": null,
   "id": "9b1ca538-1eab-4840-a70e-71a727150cbf",
   "metadata": {},
   "outputs": [],
   "source": [
    "!cd {kim_dir} && fastq-dump SRR9307706 --gzip --split-files"
   ]
  },
  {
   "cell_type": "code",
   "execution_count": null,
   "id": "e8df39af-4ba6-4f80-837b-6bc5e749c851",
   "metadata": {},
   "outputs": [],
   "source": [
    "!cd {kim_dir} && fastq-dump SRR9307707 --gzip --split-files"
   ]
  },
  {
   "cell_type": "code",
   "execution_count": null,
   "id": "45c1f34d-8ca6-4d20-9000-fcb0fdbeedde",
   "metadata": {},
   "outputs": [],
   "source": [
    "!cd {kim_dir} && fastq-dump SRR9307708 --gzip --split-files"
   ]
  },
  {
   "cell_type": "code",
   "execution_count": null,
   "id": "83f61131-745d-4b0e-9a6d-e831917c93bf",
   "metadata": {},
   "outputs": [],
   "source": [
    "!cd {kim_dir} && fastq-dump SRR9307709 --gzip --split-files"
   ]
  },
  {
   "cell_type": "code",
   "execution_count": null,
   "id": "5309da15-09a7-4ba7-b09b-1ce7469c95fa",
   "metadata": {},
   "outputs": [],
   "source": [
    "!cd {kim_dir} && fastq-dump SRR9307710 --gzip --split-files"
   ]
  },
  {
   "cell_type": "code",
   "execution_count": null,
   "id": "904bf7ad-b885-4042-9e3c-05846e00aadd",
   "metadata": {},
   "outputs": [],
   "source": [
    "!cd {kim_dir} && fastq-dump SRR9307711 --gzip --split-files"
   ]
  },
  {
   "cell_type": "code",
   "execution_count": null,
   "id": "0068ff9c-55e6-4388-9c56-db3a5e53f6f6",
   "metadata": {},
   "outputs": [],
   "source": [
    "!cd {kim_dir}/injury && fastq-dump SRR9307698 --gzip --split-files"
   ]
  },
  {
   "cell_type": "code",
   "execution_count": null,
   "id": "aba5ee15-95db-4190-87b8-864f8031d33a",
   "metadata": {},
   "outputs": [],
   "source": [
    "df = pd.DataFrame({'name': ['Kim_2020_HC1', 'Kim_2020_HC2', 'Kim_2020_HC3', \n",
    "                            'Kim_2020_HC4', 'Kim_2020_HC5', 'Kim_2020_HC6', \n",
    "                            'Kim_2020_inj'], 'technology': ['10xv2'] * 7, \n",
    "                   'targetnumcells': [1000] * 7})\n",
    "df.to_csv(kim_dir + '/metadata.tab', sep='\\t', index=None)"
   ]
  },
  {
   "cell_type": "code",
   "execution_count": null,
   "id": "bdb1e5e6-4df3-4f45-a312-4db4add8f40a",
   "metadata": {},
   "outputs": [],
   "source": [
    "!mv {kim_dir}/injury/SRR9307698_2.fastq.gz {kim_dir}/Kim_2020_inj_L001_R1_001.fastq.gz \n",
    "!mv {kim_dir}/injury/SRR9307698_3.fastq.gz {kim_dir}/Kim_2020_inj_L001_R2_001.fastq.gz \n",
    "\n",
    "!mv {kim_dir}/SRR9307706_2.fastq.gz {kim_dir}/Kim_2020_HC1_L001_R1_001.fastq.gz \n",
    "!mv {kim_dir}/SRR9307706_3.fastq.gz {kim_dir}/Kim_2020_HC1_L001_R2_001.fastq.gz \n",
    "!mv {kim_dir}/SRR9307707_2.fastq.gz {kim_dir}/Kim_2020_HC2_L001_R1_001.fastq.gz \n",
    "!mv {kim_dir}/SRR9307707_3.fastq.gz {kim_dir}/Kim_2020_HC2_L001_R2_001.fastq.gz \n",
    "!mv {kim_dir}/SRR9307708_2.fastq.gz {kim_dir}/Kim_2020_HC3_L001_R1_001.fastq.gz \n",
    "!mv {kim_dir}/SRR9307708_3.fastq.gz {kim_dir}/Kim_2020_HC3_L001_R2_001.fastq.gz \n",
    "!mv {kim_dir}/SRR9307709_2.fastq.gz {kim_dir}/Kim_2020_HC4_L001_R1_001.fastq.gz \n",
    "!mv {kim_dir}/SRR9307709_3.fastq.gz {kim_dir}/Kim_2020_HC4_L001_R2_001.fastq.gz \n",
    "!mv {kim_dir}/SRR9307710_2.fastq.gz {kim_dir}/Kim_2020_HC5_L001_R1_001.fastq.gz \n",
    "!mv {kim_dir}/SRR9307710_3.fastq.gz {kim_dir}/Kim_2020_HC5_L001_R2_001.fastq.gz \n",
    "!mv {kim_dir}/SRR9307711_2.fastq.gz {kim_dir}/Kim_2020_HC6_L001_R1_001.fastq.gz \n",
    "!mv {kim_dir}/SRR9307711_3.fastq.gz {kim_dir}/Kim_2020_HC6_L001_R2_001.fastq.gz "
   ]
  },
  {
   "cell_type": "code",
   "execution_count": null,
   "id": "41891c15-3c25-46fd-a66d-2f22e704eac3",
   "metadata": {},
   "outputs": [],
   "source": [
    "!rm -rf {kim_dir}/*_1.fastq.gz"
   ]
  },
  {
   "cell_type": "code",
   "execution_count": null,
   "id": "abe6e70b-d931-4c66-a6dd-8822c4007cfa",
   "metadata": {},
   "outputs": [],
   "source": [
    "!cd {kim_dir} && loompy fromfq Kim_2020_HC1.loom Kim_2020_HC1 {human_gencode_dir} metadata.tab \\\n",
    "Kim_2020_HC1_L001_R1_001.fastq.gz Kim_2020_HC1_L001_R2_001.fastq.gz "
   ]
  },
  {
   "cell_type": "code",
   "execution_count": null,
   "id": "4ed51f93-da4f-4685-837b-834d2eb68ceb",
   "metadata": {},
   "outputs": [],
   "source": [
    "!cd {kim_dir} && loompy fromfq Kim_2020_HC2.loom Kim_2020_HC2 {human_gencode_dir} metadata.tab \\\n",
    "Kim_2020_HC2_L001_R1_001.fastq.gz Kim_2020_HC2_L001_R2_001.fastq.gz "
   ]
  },
  {
   "cell_type": "code",
   "execution_count": null,
   "id": "3861da4a-33fd-4408-bc6f-f241e0303df3",
   "metadata": {},
   "outputs": [],
   "source": [
    "!cd {kim_dir} && loompy fromfq Kim_2020_HC3.loom Kim_2020_HC3 {human_gencode_dir} metadata.tab \\\n",
    "Kim_2020_HC3_L001_R1_001.fastq.gz Kim_2020_HC3_L001_R2_001.fastq.gz "
   ]
  },
  {
   "cell_type": "code",
   "execution_count": null,
   "id": "9b57cc4c-5995-489c-be67-695aaf52d7fe",
   "metadata": {},
   "outputs": [],
   "source": [
    "!cd {kim_dir} && loompy fromfq Kim_2020_HC4.loom Kim_2020_HC4 {human_gencode_dir} metadata.tab \\\n",
    "Kim_2020_HC4_L001_R1_001.fastq.gz Kim_2020_HC4_L001_R2_001.fastq.gz "
   ]
  },
  {
   "cell_type": "code",
   "execution_count": null,
   "id": "9ccb4ca1-a436-46c7-83d8-5aab15440e11",
   "metadata": {},
   "outputs": [],
   "source": [
    "!cd {kim_dir} && loompy fromfq Kim_2020_HC5.loom Kim_2020_HC5 {human_gencode_dir} metadata.tab \\\n",
    "Kim_2020_HC5_L001_R1_001.fastq.gz Kim_2020_HC5_L001_R2_001.fastq.gz "
   ]
  },
  {
   "cell_type": "code",
   "execution_count": null,
   "id": "b525bfcf-e0cd-4f40-b9b7-0cdb0be95035",
   "metadata": {},
   "outputs": [],
   "source": [
    "!cd {kim_dir} && loompy fromfq Kim_2020_HC6.loom Kim_2020_HC6 {human_gencode_dir} metadata.tab \\\n",
    "Kim_2020_HC6_L001_R1_001.fastq.gz Kim_2020_HC6_L001_R2_001.fastq.gz "
   ]
  },
  {
   "cell_type": "code",
   "execution_count": null,
   "id": "c27073c5-73ad-4398-a3df-3c4ca91d4aa6",
   "metadata": {},
   "outputs": [],
   "source": [
    "!cd {kim_dir} && loompy fromfq Kim_2020_inj.loom Kim_2020_inj {human_gencode_dir} metadata.tab \\\n",
    "Kim_2020_inj_L001_R1_001.fastq.gz Kim_2020_inj_L001_R2_001.fastq.gz"
   ]
  },
  {
   "cell_type": "code",
   "execution_count": null,
   "id": "8f741d62-59b9-405e-80ad-72c523439f04",
   "metadata": {},
   "outputs": [],
   "source": [
    "adata_kim_HC1 = sc.read_loom(kim_dir + '/Kim_2020_HC1.loom')\n",
    "adata_kim_HC1.var_names_make_unique()\n",
    "adata_kim_HC2 = sc.read_loom(kim_dir + '/Kim_2020_HC2.loom')\n",
    "adata_kim_HC2.var_names_make_unique()\n",
    "adata_kim_HC3 = sc.read_loom(kim_dir + '/Kim_2020_HC3.loom')\n",
    "adata_kim_HC3.var_names_make_unique()\n",
    "adata_kim_HC4 = sc.read_loom(kim_dir + '/Kim_2020_HC4.loom')\n",
    "adata_kim_HC4.var_names_make_unique()\n",
    "adata_kim_HC5 = sc.read_loom(kim_dir + '/Kim_2020_HC5.loom')\n",
    "adata_kim_HC5.var_names_make_unique()\n",
    "adata_kim_HC6 = sc.read_loom(kim_dir + '/Kim_2020_HC6.loom')\n",
    "adata_kim_HC6.var_names_make_unique()"
   ]
  },
  {
   "cell_type": "code",
   "execution_count": null,
   "id": "473b2083-f040-449a-bee9-0e0d9fbeec1e",
   "metadata": {},
   "outputs": [],
   "source": [
    "adata_kim = sc.AnnData.concatenate(adata_kim_HC1, adata_kim_HC2, adata_kim_HC3, \n",
    "                                  adata_kim_HC4, adata_kim_HC5, adata_kim_HC6)"
   ]
  },
  {
   "cell_type": "code",
   "execution_count": null,
   "id": "e371bff8-9597-4e78-be6f-aad111989a62",
   "metadata": {},
   "outputs": [],
   "source": [
    "adata_kim.write_h5ad(kim_dir + '/Kim_2020.h5ad')"
   ]
  },
  {
   "cell_type": "markdown",
   "id": "d7cf6a42-4b09-42e5-a1ee-99b43a356049",
   "metadata": {
    "toc-hr-collapsed": true
   },
   "source": [
    "## Kim et al. 2021 (human)"
   ]
  },
  {
   "cell_type": "code",
   "execution_count": null,
   "id": "20661c97-fa53-453a-8b29-4c2f387ccb89",
   "metadata": {},
   "outputs": [],
   "source": [
    "kim_dir = data_dir + '/kim_2021'\n",
    "os.makedirs(kim_dir, exist_ok=True)"
   ]
  },
  {
   "cell_type": "code",
   "execution_count": null,
   "id": "a86ca3fb-01d3-4281-a172-03352097043f",
   "metadata": {},
   "outputs": [],
   "source": [
    "!cd {kim_dir} && wget https://ftp.ncbi.nlm.nih.gov/geo/samples/GSM4816nnn/GSM4816776/suppl/GSM4816776%5FPoly01%5Fbarcodes%2Etsv%2Egz\n",
    "!cd {kim_dir} && wget https://ftp.ncbi.nlm.nih.gov/geo/samples/GSM4816nnn/GSM4816776/suppl/GSM4816776%5FPoly01%5Ffeatures%2Etsv%2Egz\n",
    "!cd {kim_dir} && wget https://ftp.ncbi.nlm.nih.gov/geo/samples/GSM4816nnn/GSM4816776/suppl/GSM4816776%5FPoly01%5Fmatrix%2Emtx%2Egz\n",
    "    \n",
    "!mkdir {kim_dir}/GSM4816776\n",
    "!mv {kim_dir}/GSM4816776_Poly01_barcodes.tsv.gz {kim_dir}/GSM4816776/barcodes.tsv.gz\n",
    "!mv {kim_dir}/GSM4816776_Poly01_features.tsv.gz {kim_dir}/GSM4816776/features.tsv.gz\n",
    "!mv {kim_dir}/GSM4816776_Poly01_matrix.mtx.gz {kim_dir}/GSM4816776/matrix.mtx.gz"
   ]
  },
  {
   "cell_type": "code",
   "execution_count": null,
   "id": "9d15015a-7be6-4526-867a-c3cd10d3c052",
   "metadata": {},
   "outputs": [],
   "source": [
    "!cd {kim_dir} && wget https://ftp.ncbi.nlm.nih.gov/geo/samples/GSM4816nnn/GSM4816777/suppl/GSM4816777%5FPoly02%5Fbarcodes%2Etsv%2Egz\n",
    "!cd {kim_dir} && wget https://ftp.ncbi.nlm.nih.gov/geo/samples/GSM4816nnn/GSM4816777/suppl/GSM4816777%5FPoly02%5Ffeatures%2Etsv%2Egz\n",
    "!cd {kim_dir} && wget https://ftp.ncbi.nlm.nih.gov/geo/samples/GSM4816nnn/GSM4816777/suppl/GSM4816777%5FPoly02%5Fmatrix%2Emtx%2Egz\n",
    "    \n",
    "!mkdir {kim_dir}/GSM4816777\n",
    "!mv {kim_dir}/GSM4816777_Poly02_barcodes.tsv.gz {kim_dir}/GSM4816777/barcodes.tsv.gz\n",
    "!mv {kim_dir}/GSM4816777_Poly02_features.tsv.gz {kim_dir}/GSM4816777/features.tsv.gz\n",
    "!mv {kim_dir}/GSM4816777_Poly02_matrix.mtx.gz {kim_dir}/GSM4816777/matrix.mtx.gz"
   ]
  },
  {
   "cell_type": "code",
   "execution_count": null,
   "id": "ad53bdc7-cdab-4ca4-91fe-64d812fc3b79",
   "metadata": {},
   "outputs": [],
   "source": [
    "!cd {kim_dir} && wget https://ftp.ncbi.nlm.nih.gov/geo/samples/GSM4816nnn/GSM4816778/suppl/GSM4816778%5FPoly03%5Fbarcodes%2Etsv%2Egz\n",
    "!cd {kim_dir} && wget https://ftp.ncbi.nlm.nih.gov/geo/samples/GSM4816nnn/GSM4816778/suppl/GSM4816778%5FPoly03%5Ffeatures%2Etsv%2Egz\n",
    "!cd {kim_dir} && wget https://ftp.ncbi.nlm.nih.gov/geo/samples/GSM4816nnn/GSM4816778/suppl/GSM4816778%5FPoly03%5Fmatrix%2Emtx%2Egz\n",
    "    \n",
    "!mkdir {kim_dir}/GSM4816778\n",
    "!mv {kim_dir}/GSM4816778_Poly03_barcodes.tsv.gz {kim_dir}/GSM4816778/barcodes.tsv.gz\n",
    "!mv {kim_dir}/GSM4816778_Poly03_features.tsv.gz {kim_dir}/GSM4816778/features.tsv.gz\n",
    "!mv {kim_dir}/GSM4816778_Poly03_matrix.mtx.gz {kim_dir}/GSM4816778/matrix.mtx.gz"
   ]
  },
  {
   "cell_type": "code",
   "execution_count": null,
   "id": "356fcd74-e33d-42d3-abbf-4ab18ba42613",
   "metadata": {},
   "outputs": [],
   "source": [
    "!cd {kim_dir} && wget https://ftp.ncbi.nlm.nih.gov/geo/samples/GSM4816nnn/GSM4816779/suppl/GSM4816779%5FPoly04%5Fbarcodes%2Etsv%2Egz\n",
    "!cd {kim_dir} && wget https://ftp.ncbi.nlm.nih.gov/geo/samples/GSM4816nnn/GSM4816779/suppl/GSM4816779%5FPoly04%5Ffeatures%2Etsv%2Egz\n",
    "!cd {kim_dir} && wget https://ftp.ncbi.nlm.nih.gov/geo/samples/GSM4816nnn/GSM4816779/suppl/GSM4816779%5FPoly04%5Fmatrix%2Emtx%2Egz\n",
    "    \n",
    "!mkdir {kim_dir}/GSM4816779\n",
    "!mv {kim_dir}/GSM4816779_Poly04_barcodes.tsv.gz {kim_dir}/GSM4816779/barcodes.tsv.gz\n",
    "!mv {kim_dir}/GSM4816779_Poly04_features.tsv.gz {kim_dir}/GSM4816779/features.tsv.gz\n",
    "!mv {kim_dir}/GSM4816779_Poly04_matrix.mtx.gz {kim_dir}/GSM4816779/matrix.mtx.gz"
   ]
  },
  {
   "cell_type": "code",
   "execution_count": null,
   "id": "96fd5d17-b17c-4a7b-8664-2281c52317dc",
   "metadata": {},
   "outputs": [],
   "source": [
    "adata_kim_GSM4816776 = sc.read_10x_mtx(data_dir + '/kim_2021/GSM4816776')\n",
    "adata_kim_GSM4816777 = sc.read_10x_mtx(data_dir + '/kim_2021/GSM4816777')\n",
    "adata_kim_GSM4816778 = sc.read_10x_mtx(data_dir + '/kim_2021/GSM4816778')\n",
    "adata_kim_GSM4816779 = sc.read_10x_mtx(data_dir + '/kim_2021/GSM4816779')"
   ]
  },
  {
   "cell_type": "code",
   "execution_count": null,
   "id": "28af9b56-4b19-482c-ad9a-ad5cc079be3e",
   "metadata": {},
   "outputs": [],
   "source": [
    "adata_kim = sc.AnnData.concatenate(adata_kim_GSM4816776, adata_kim_GSM4816777, adata_kim_GSM4816778, adata_kim_GSM4816779, batch_key='batch')\n",
    "adata_kim.write_h5ad(kim_dir + '/kim_2021.h5ad')"
   ]
  },
  {
   "cell_type": "code",
   "execution_count": null,
   "id": "2eaac178-4a8a-4a31-8a85-061319fb6eab",
   "metadata": {},
   "outputs": [],
   "source": [
    "adata_kim"
   ]
  },
  {
   "cell_type": "markdown",
   "id": "72e57b43-2d28-4222-960b-952e3103d9ff",
   "metadata": {},
   "source": [
    "## Liu et al. 2020 (human)"
   ]
  },
  {
   "cell_type": "code",
   "execution_count": 11,
   "id": "fff1d5f6-ff1c-4d02-9059-9d49e7df52f0",
   "metadata": {},
   "outputs": [],
   "source": [
    "liu_dir = data_dir + '/liu_2021'\n",
    "os.makedirs(liu_dir, exist_ok=True)"
   ]
  },
  {
   "cell_type": "code",
   "execution_count": 30,
   "id": "74623c0b-4e73-4dd3-8204-7309d943fc52",
   "metadata": {},
   "outputs": [],
   "source": [
    "csv_liu = pd.read_csv(liu_dir + '/liu_2021.csv', index_col = 0).transpose()\n",
    "metadata_liu = pd.read_csv(liu_dir + '/liu_2021_metadata.csv', index_col = 0)\n",
    "metadata_liu.index = [i.replace('-', '.') for i in metadata_liu.index]"
   ]
  },
  {
   "cell_type": "code",
   "execution_count": 31,
   "id": "e5a9f48b-9a9e-415d-b2b5-bc136439f8ab",
   "metadata": {},
   "outputs": [
    {
     "name": "stderr",
     "output_type": "stream",
     "text": [
      "... storing 'orig.ident' as categorical\n",
      "... storing 'Phase' as categorical\n",
      "... storing 'old.ident' as categorical\n",
      "... storing 'seurat_clusters' as categorical\n",
      "... storing 'Group' as categorical\n",
      "... storing 'Patient' as categorical\n"
     ]
    }
   ],
   "source": [
    "adata_liu = sc.AnnData(csv_liu)\n",
    "adata_liu.obs = metadata_liu\n",
    "adata_liu.write_h5ad(liu_dir + '/liu_2021.h5')"
   ]
  },
  {
   "cell_type": "markdown",
   "id": "541521ed-c1aa-4761-a08f-920171f12398",
   "metadata": {},
   "source": [
    "## McCarthy et al. 2020 (human)"
   ]
  },
  {
   "cell_type": "code",
   "execution_count": null,
   "id": "b0232b65-1b94-49ff-aa4c-6e4ee7c16739",
   "metadata": {},
   "outputs": [],
   "source": [
    "mccarthy_dir = data_dir + '/McCarthy_2020'\n",
    "os.makedirs(mccarthy_dir, exist_ok=True)\n",
    "os.makedirs(mccarthy_dir+'/outfiles', exist_ok=True)"
   ]
  },
  {
   "cell_type": "code",
   "execution_count": null,
   "id": "649747d1-5f8e-481a-b8ff-5edf83947dd0",
   "metadata": {},
   "outputs": [],
   "source": [
    "df_meta = pd.read_csv(mccarthy_dir + '/E-MTAB-7167.sdrf.txt', sep='\\t')\n",
    "df_meta = df_meta.drop_duplicates('Comment[ENA_RUN]').set_index('Comment[ENA_RUN]')"
   ]
  },
  {
   "cell_type": "code",
   "execution_count": null,
   "id": "e2d2250b-aa07-4c53-9a84-c4ee9f4442cc",
   "metadata": {},
   "outputs": [],
   "source": [
    "list_ftp = df_meta['Comment[FASTQ_URI]'].values"
   ]
  },
  {
   "cell_type": "code",
   "execution_count": null,
   "id": "87b2c164-ab13-443f-b751-0fd94aca799d",
   "metadata": {},
   "outputs": [],
   "source": [
    "list_ftp_names = [i for i in list_ftp if i.split('/')[-1] not in os.listdir(mccarthy_dir)]"
   ]
  },
  {
   "cell_type": "code",
   "execution_count": null,
   "id": "a5a8b4d2-dcb5-4f38-8bfc-0aa48f9106f4",
   "metadata": {},
   "outputs": [],
   "source": [
    "for i in tqdm(list_ftp_names):\n",
    "    os.system(f'wget -P {mccarthy_dir} {i}')"
   ]
  },
  {
   "cell_type": "raw",
   "id": "aa5d712b-c601-41f5-97b2-883fa1c99d74",
   "metadata": {},
   "source": [
    "# conf.config\n",
    "\n",
    "params {\n",
    "  max_memory = 300.GB\n",
    "  max_cpus = 50\n",
    "  max_time = 240.h\n",
    "}"
   ]
  },
  {
   "cell_type": "code",
   "execution_count": null,
   "id": "e389a91d-90f3-4827-af1d-087fd6c1f3f5",
   "metadata": {},
   "outputs": [],
   "source": [
    "all_ftp_names = list(dict.fromkeys([i.split('/')[-1] for i in list_ftp]))"
   ]
  },
  {
   "cell_type": "code",
   "execution_count": null,
   "id": "802c6ba3-ce4f-46f3-ab99-108830cdc443",
   "metadata": {},
   "outputs": [],
   "source": [
    "all_ftp_roots = list(dict.fromkeys([i.split('_')[0] for i in all_ftp_names if\n",
    "                 (i.split('_')[0] + '_1.fastq.gz' in all_ftp_names) & \n",
    "                 (i.split('_')[0] + '_2.fastq.gz' in all_ftp_names)]))"
   ]
  },
  {
   "cell_type": "code",
   "execution_count": null,
   "id": "ec2a1edd-389f-4d09-af25-5d5ed9488a2b",
   "metadata": {},
   "outputs": [],
   "source": [
    "for i in range(0, len(all_ftp_roots), 20):\n",
    "    i_end = min(i + 20, len(all_ftp_names))\n",
    "    \n",
    "    for root in all_ftp_roots[i:i+20]:\n",
    "        subprocess.run(f'mv {mccarthy_dir}/{root}_1.fastq.gz {mccarthy_dir}/{root}_1_{i//20}.fastq.gz'.split())\n",
    "        subprocess.run(f'mv {mccarthy_dir}/{root}_2.fastq.gz {mccarthy_dir}/{root}_2_{i//20}.fastq.gz'.split())"
   ]
  },
  {
   "cell_type": "code",
   "execution_count": null,
   "id": "ed85035c-1de2-494d-b086-e0aa74962e13",
   "metadata": {},
   "outputs": [],
   "source": [
    "len(all_ftp_roots)"
   ]
  },
  {
   "cell_type": "code",
   "execution_count": null,
   "id": "ca93fe93-049a-41c2-b4ae-ae3fd67b5339",
   "metadata": {},
   "outputs": [],
   "source": [
    "for i in tqdm(range(200)):\n",
    "    i_div = i\n",
    "    \n",
    "    subprocess.run(f\"\"\"nextflow run nf-core/smartseq2 -profile docker --reads {mccarthy_dir}/ERR*_{i_div}_{{1,2}}.fastq.gz --genome GRCh38 -r dev --skip_tracer --skip_bracer -c {mccarthy_dir}/conf.config --outdir {mccarthy_dir}/results --skip_rsem --star_index {data_dir}/STAR_index_gencode --gtf {data_dir}/STAR_idx_gencode/genes.gtf\"\"\".split())\n",
    "    \n",
    "    # Copy all files\n",
    "    output, error = subprocess.Popen(\n",
    "        'find McCarthy_2020/results -wholename *.count.txt'.split(), \n",
    "        stdout=subprocess.PIPE).communicate()\n",
    "    \n",
    "    list_files = output.decode().split('\\n')[:-1]\n",
    "    \n",
    "    for file in list_files:\n",
    "        df = pd.read_csv(data_dir + '/' + file, sep='\\t', skiprows=1).iloc[:, [0, -1]]\n",
    "        df.to_csv(mccarthy_dir+'/outfiles_gencode/'+file.split('/')[-1], index=None, header=None, sep='\\t')\n",
    "    \n",
    "    # Remove directories\n",
    "    subprocess.run(f'rm -rf {data_dir}/work'.split())\n",
    "    subprocess.run(f'rm -rf {mccarthy_dir}/results'.split())"
   ]
  },
  {
   "cell_type": "code",
   "execution_count": null,
   "id": "36d97f6f-9e0a-490f-980d-824009f77e48",
   "metadata": {},
   "outputs": [],
   "source": [
    "df_full = None\n",
    "for file in tqdm(os.listdir(mccarthy_dir+'/outfiles_gencode/')):\n",
    "    df = pd.read_csv(mccarthy_dir+'/outfiles_gencode/'+file, header=None, sep='\\t', index_col=0)\n",
    "    if df_full is None:\n",
    "        df_full = pd.DataFrame(index=df.index)\n",
    "    \n",
    "    df_full[file] = df[1]"
   ]
  },
  {
   "cell_type": "code",
   "execution_count": null,
   "id": "15420357-e287-431f-851c-314f9ff3913a",
   "metadata": {},
   "outputs": [],
   "source": [
    "adata_mccarthy = sc.AnnData(df_full,).transpose()\n",
    "adata_mccarthy.obs_names = [i.replace('.count.txt', '') for i in adata_mccarthy.obs_names]"
   ]
  },
  {
   "cell_type": "code",
   "execution_count": null,
   "id": "3c2727b7-4ccb-445e-9c82-eebf6f80d5bf",
   "metadata": {},
   "outputs": [],
   "source": [
    "sc.pp.filter_genes(adata_mccarthy, min_cells=1)"
   ]
  },
  {
   "cell_type": "code",
   "execution_count": null,
   "id": "9eef4eb6-d031-478b-966a-0f7a03ad2423",
   "metadata": {},
   "outputs": [],
   "source": [
    "adata_mccarthy.write_loom(mccarthy_dir + '/mccarthy_2020.loom')"
   ]
  },
  {
   "cell_type": "markdown",
   "id": "e44afda9-8faa-49f8-a18f-a923b5dbc750",
   "metadata": {},
   "source": [
    "## Mirizio et al. 2020 (human)"
   ]
  },
  {
   "cell_type": "code",
   "execution_count": null,
   "id": "5608d4aa-e41a-4ae4-b0d8-86a39432d1e4",
   "metadata": {},
   "outputs": [],
   "source": [
    "mirizio_dir = data_dir + '/mirizio_2020'\n",
    "os.makedirs(mirizio_dir, exist_ok=True)"
   ]
  },
  {
   "cell_type": "code",
   "execution_count": null,
   "id": "f782b787-acf6-48f0-83fa-21f2d4385350",
   "metadata": {},
   "outputs": [],
   "source": [
    "!cd {mirizio_dir} && parallel-fastq-dump -s SRR12955136 --gzip --split-files -t 8 # Cryo P1 222\n",
    "!cd {mirizio_dir} && parallel-fastq-dump -s SRR12955137 --gzip --split-files -t 8\n",
    "!cd {mirizio_dir} && parallel-fastq-dump -s SRR12955138 --gzip --split-files -t 8\n",
    "!cd {mirizio_dir} && parallel-fastq-dump -s SRR12955139 --gzip --split-files -t 8"
   ]
  },
  {
   "cell_type": "code",
   "execution_count": null,
   "id": "b100b3c3-5a28-4a6c-8de3-cab426aff604",
   "metadata": {},
   "outputs": [],
   "source": [
    "for SRR_idx, SRR in enumerate(['SRR12955136', 'SRR12955137', 'SRR12955138', 'SRR12955139']):\n",
    "    os.rename(f'{mirizio_dir}/{SRR}_2.fastq.gz', f'{mirizio_dir}/Cryo_P1_L00{SRR_idx + 1}_R1_001.fastq.gz')\n",
    "    os.rename(f'{mirizio_dir}/{SRR}_3.fastq.gz', f'{mirizio_dir}/Cryo_P1_L00{SRR_idx + 1}_R2_001.fastq.gz')"
   ]
  },
  {
   "cell_type": "code",
   "execution_count": null,
   "id": "97f55996-7b89-4822-98c2-4ccf630ddfec",
   "metadata": {},
   "outputs": [],
   "source": [
    "!cd {mirizio_dir} && parallel-fastq-dump -s SRR12955140 --gzip --split-files -t 8 # RPMI P1 223\n",
    "!cd {mirizio_dir} && parallel-fastq-dump -s SRR12955141 --gzip --split-files -t 8\n",
    "!cd {mirizio_dir} && parallel-fastq-dump -s SRR12955142 --gzip --split-files -t 8\n",
    "!cd {mirizio_dir} && parallel-fastq-dump -s SRR12955143 --gzip --split-files -t 8"
   ]
  },
  {
   "cell_type": "code",
   "execution_count": null,
   "id": "275b4d33-ed15-4283-8a3e-91ac98c1eab1",
   "metadata": {},
   "outputs": [],
   "source": [
    "for SRR_idx, SRR in enumerate(['SRR12955140', 'SRR12955141', 'SRR12955142', 'SRR12955143']):\n",
    "    os.rename(f'{mirizio_dir}/{SRR}_2.fastq.gz', f'{mirizio_dir}/RPMI_P1_L00{SRR_idx + 1}_R1_001.fastq.gz')\n",
    "    os.rename(f'{mirizio_dir}/{SRR}_3.fastq.gz', f'{mirizio_dir}/RPMI_P1_L00{SRR_idx + 1}_R2_001.fastq.gz')"
   ]
  },
  {
   "cell_type": "code",
   "execution_count": null,
   "id": "967da679-64de-4d70-ab49-890a673df41e",
   "metadata": {},
   "outputs": [],
   "source": [
    "!cd {mirizio_dir} && parallel-fastq-dump -s SRR12955144 --gzip --split-files -t 8 # Cryo P2 267\n",
    "!cd {mirizio_dir} && parallel-fastq-dump -s SRR12955145 --gzip --split-files -t 8\n",
    "!cd {mirizio_dir} && parallel-fastq-dump -s SRR12955146 --gzip --split-files -t 8\n",
    "!cd {mirizio_dir} && parallel-fastq-dump -s SRR12955147 --gzip --split-files -t 8"
   ]
  },
  {
   "cell_type": "code",
   "execution_count": null,
   "id": "85fb5326-bd32-464e-b104-fd15d19f4632",
   "metadata": {},
   "outputs": [],
   "source": [
    "for SRR_idx, SRR in enumerate(['SRR12955144', 'SRR12955145', 'SRR12955146', 'SRR12955147']):\n",
    "    os.rename(f'{mirizio_dir}/{SRR}_2.fastq.gz', f'{mirizio_dir}/untrimmed_Cryo_P2_L00{SRR_idx + 1}_R1_001.fastq.gz')\n",
    "    os.rename(f'{mirizio_dir}/{SRR}_3.fastq.gz', f'{mirizio_dir}/untrimmed_Cryo_P2_L00{SRR_idx + 1}_R2_001.fastq.gz')"
   ]
  },
  {
   "cell_type": "code",
   "execution_count": null,
   "id": "66ae1e2f-5b45-4dc1-8927-1d7731cacd7a",
   "metadata": {},
   "outputs": [],
   "source": [
    "!cd {mirizio_dir} && parallel-fastq-dump -s SRR12955148 --gzip --split-files -t 8 # RPMI P2 268\n",
    "!cd {mirizio_dir} && parallel-fastq-dump -s SRR12955149 --gzip --split-files -t 8\n",
    "!cd {mirizio_dir} && parallel-fastq-dump -s SRR12955150 --gzip --split-files -t 8\n",
    "!cd {mirizio_dir} && parallel-fastq-dump -s SRR12955151 --gzip --split-files -t 8"
   ]
  },
  {
   "cell_type": "code",
   "execution_count": null,
   "id": "12bd17e0-eb85-4dfa-a8ee-e8db7406b80c",
   "metadata": {},
   "outputs": [],
   "source": [
    "for SRR_idx, SRR in enumerate(['SRR12955148', 'SRR12955149', 'SRR12955150', 'SRR12955151']):\n",
    "    os.rename(f'{mirizio_dir}/{SRR}_2.fastq.gz', f'{mirizio_dir}/untrimmed_RPMI_P2_L00{SRR_idx + 1}_R1_001.fastq.gz')\n",
    "    os.rename(f'{mirizio_dir}/{SRR}_3.fastq.gz', f'{mirizio_dir}/untrimmed_RPMI_P2_L00{SRR_idx + 1}_R2_001.fastq.gz')"
   ]
  },
  {
   "cell_type": "code",
   "execution_count": null,
   "id": "e2adf8cf-168c-4992-8315-a44cb843638e",
   "metadata": {},
   "outputs": [],
   "source": [
    "!cd {mirizio_dir} && parallel-fastq-dump -s SRR12955152 --gzip --split-files -t 8 # Cryo P3 272\n",
    "!cd {mirizio_dir} && parallel-fastq-dump -s SRR12955153 --gzip --split-files -t 8\n",
    "!cd {mirizio_dir} && parallel-fastq-dump -s SRR12955154 --gzip --split-files -t 8\n",
    "!cd {mirizio_dir} && parallel-fastq-dump -s SRR12955155 --gzip --split-files -t 8"
   ]
  },
  {
   "cell_type": "code",
   "execution_count": null,
   "id": "2095acce-5939-45ee-bf0d-ebd927200dd1",
   "metadata": {},
   "outputs": [],
   "source": [
    "for SRR_idx, SRR in enumerate(['SRR12955152', 'SRR12955153', 'SRR12955154', 'SRR12955155']):\n",
    "    os.rename(f'{mirizio_dir}/{SRR}_2.fastq.gz', f'{mirizio_dir}/untrimmed_Cryo_P3_L00{SRR_idx + 1}_R1_001.fastq.gz')\n",
    "    os.rename(f'{mirizio_dir}/{SRR}_3.fastq.gz', f'{mirizio_dir}/untrimmed_Cryo_P3_L00{SRR_idx + 1}_R2_001.fastq.gz')"
   ]
  },
  {
   "cell_type": "code",
   "execution_count": null,
   "id": "a3cd7ca5-421a-4b83-93a6-253b3579180a",
   "metadata": {},
   "outputs": [],
   "source": [
    "!cd {mirizio_dir} && parallel-fastq-dump -s SRR12955156 --gzip --split-files -t 8 # RPMI P3 273\n",
    "!cd {mirizio_dir} && parallel-fastq-dump -s SRR12955157 --gzip --split-files -t 8\n",
    "!cd {mirizio_dir} && parallel-fastq-dump -s SRR12955158 --gzip --split-files -t 8\n",
    "!cd {mirizio_dir} && parallel-fastq-dump -s SRR12955159 --gzip --split-files -t 8"
   ]
  },
  {
   "cell_type": "code",
   "execution_count": null,
   "id": "765a46e3-e6ea-4b68-81d8-30a1b94c08ba",
   "metadata": {},
   "outputs": [],
   "source": [
    "for SRR_idx, SRR in enumerate(['SRR12955156', 'SRR12955157', 'SRR12955158', 'SRR12955159']):\n",
    "    os.rename(f'{mirizio_dir}/{SRR}_2.fastq.gz', f'{mirizio_dir}/untrimmed_RPMI_P3_L00{SRR_idx + 1}_R1_001.fastq.gz')\n",
    "    os.rename(f'{mirizio_dir}/{SRR}_3.fastq.gz', f'{mirizio_dir}/untrimmed_RPMI_P3_L00{SRR_idx + 1}_R2_001.fastq.gz')"
   ]
  },
  {
   "cell_type": "code",
   "execution_count": null,
   "id": "9edf2680-78f0-4f73-8951-71d56b5e0069",
   "metadata": {},
   "outputs": [],
   "source": [
    "df = pd.DataFrame({'name': ['Cryo_P1', 'Cryo_P2', 'Cryo_P3',\n",
    "                            'RPMI_P1', 'RPMI_P2', 'RPMI_P3', ], 'technology': ['10xv2'] * 6, \n",
    "                   'targetnumcells': [1000] * 6})\n",
    "df.to_csv(mirizio_dir + '/metadata.tab', sep='\\t', index=None)"
   ]
  },
  {
   "cell_type": "code",
   "execution_count": null,
   "id": "afc655d6-4382-4ab7-be6c-e5d42c9a48ec",
   "metadata": {},
   "outputs": [],
   "source": [
    "!rm -rf {mirizio_dir}/*_1.fastq.gz"
   ]
  },
  {
   "cell_type": "code",
   "execution_count": null,
   "id": "b2aad645-80fc-4637-90bb-ea8382693d27",
   "metadata": {},
   "outputs": [],
   "source": [
    "!cd {kim_dir} && loompy fromfq Kim_2020_HC5.loom Kim_2020_HC5 {human_gencode_dir} metadata.tab \\\n",
    "Kim_2020_HC5_L001_R1_001.fastq.gz Kim_2020_HC5_L001_R2_001.fastq.gz "
   ]
  },
  {
   "cell_type": "code",
   "execution_count": null,
   "id": "5d69e908-4b8d-4008-b87d-418219dc961f",
   "metadata": {},
   "outputs": [],
   "source": [
    "# We will trim the bases to get the first 26 bp in R1 and the first 98 in R2\n",
    "for name in ['Cryo_P2', 'Cryo_P3', 'RPMI_P2', 'RPMI_P3']:\n",
    "    for lane in ['1', '2', '3', '4']:\n",
    "        os.system(f'seqtk trimfq -e 124 {mirizio_dir}/untrimmed_{name}_L00{lane}_R1_001.fastq.gz > {mirizio_dir}/{name}_L00{lane}_R1_001.fastq.gz')\n",
    "        os.system(f'seqtk trimfq -e 52  {mirizio_dir}/untrimmed_{name}_L00{lane}_R2_001.fastq.gz > {mirizio_dir}/{name}_L00{lane}_R2_001.fastq.gz')"
   ]
  },
  {
   "cell_type": "code",
   "execution_count": null,
   "id": "c94bb1d0-dad0-4beb-aa63-f31af39e3e8f",
   "metadata": {},
   "outputs": [],
   "source": [
    "!rm -rf {mirizio_dir}/untrimmed_*.fastq.gz"
   ]
  },
  {
   "cell_type": "code",
   "execution_count": null,
   "id": "051cb328-85ce-49be-b411-50cde33cee3d",
   "metadata": {},
   "outputs": [],
   "source": [
    "!cd {mirizio_dir} && loompy fromfq Cryo_P1.loom Cryo_P1 {human_gencode_dir} metadata.tab \\\n",
    "Cryo_P1_L001_R1_001.fastq.gz Cryo_P1_L001_R2_001.fastq.gz Cryo_P1_L002_R1_001.fastq.gz Cryo_P1_L002_R2_001.fastq.gz Cryo_P1_L003_R1_001.fastq.gz Cryo_P1_L003_R2_001.fastq.gz Cryo_P1_L003_R1_001.fastq.gz Cryo_P1_L003_R2_001.fastq.gz "
   ]
  },
  {
   "cell_type": "code",
   "execution_count": null,
   "id": "4e091622-c67a-4bd8-ac3c-3a0056973d33",
   "metadata": {},
   "outputs": [],
   "source": [
    "!cd {mirizio_dir} && loompy fromfq Cryo_P2.loom Cryo_P2 {human_gencode_dir} metadata.tab \\\n",
    "Cryo_P2_L001_R1_001.fastq.gz Cryo_P2_L001_R2_001.fastq.gz Cryo_P2_L002_R1_001.fastq.gz Cryo_P2_L002_R2_001.fastq.gz Cryo_P2_L003_R1_001.fastq.gz Cryo_P2_L003_R2_001.fastq.gz Cryo_P2_L003_R1_001.fastq.gz Cryo_P2_L003_R2_001.fastq.gz "
   ]
  },
  {
   "cell_type": "code",
   "execution_count": null,
   "id": "63f3c489-4ef9-41e0-b1d4-d4eabcd49fe0",
   "metadata": {},
   "outputs": [],
   "source": [
    "!cd {mirizio_dir} && loompy fromfq Cryo_P3.loom Cryo_P3 {human_gencode_dir} metadata.tab \\\n",
    "Cryo_P3_L001_R1_001.fastq.gz Cryo_P3_L001_R2_001.fastq.gz Cryo_P3_L002_R1_001.fastq.gz Cryo_P3_L002_R2_001.fastq.gz Cryo_P3_L003_R1_001.fastq.gz Cryo_P3_L003_R2_001.fastq.gz Cryo_P3_L003_R1_001.fastq.gz Cryo_P3_L003_R2_001.fastq.gz "
   ]
  },
  {
   "cell_type": "code",
   "execution_count": null,
   "id": "39b5f748-809c-4b3e-a79d-03544626b98d",
   "metadata": {},
   "outputs": [],
   "source": [
    "!cd {mirizio_dir} && loompy fromfq RPMI_P1.loom RPMI_P1 {human_gencode_dir} metadata.tab \\\n",
    "RPMI_P1_L001_R1_001.fastq.gz RPMI_P1_L001_R2_001.fastq.gz RPMI_P1_L002_R1_001.fastq.gz RPMI_P1_L002_R2_001.fastq.gz RPMI_P1_L003_R1_001.fastq.gz RPMI_P1_L003_R2_001.fastq.gz RPMI_P1_L003_R1_001.fastq.gz RPMI_P1_L003_R2_001.fastq.gz "
   ]
  },
  {
   "cell_type": "code",
   "execution_count": null,
   "id": "c7cb0695-bf07-4ac7-b183-3889fa5866f0",
   "metadata": {},
   "outputs": [],
   "source": [
    "!cd {mirizio_dir} && loompy fromfq RPMI_P2.loom RPMI_P2 {human_gencode_dir} metadata.tab \\\n",
    "RPMI_P2_L001_R1_001.fastq.gz RPMI_P2_L001_R2_001.fastq.gz RPMI_P2_L002_R1_001.fastq.gz RPMI_P2_L002_R2_001.fastq.gz RPMI_P2_L003_R1_001.fastq.gz RPMI_P2_L003_R2_001.fastq.gz RPMI_P2_L003_R1_001.fastq.gz RPMI_P2_L003_R2_001.fastq.gz "
   ]
  },
  {
   "cell_type": "code",
   "execution_count": null,
   "id": "93aef74b-8c10-45a2-a2a0-b1fd19f4105c",
   "metadata": {},
   "outputs": [],
   "source": [
    "!cd {mirizio_dir} && loompy fromfq RPMI_P3.loom RPMI_P3 {human_gencode_dir} metadata.tab \\\n",
    "RPMI_P3_L001_R1_001.fastq.gz RPMI_P3_L001_R2_001.fastq.gz RPMI_P3_L002_R1_001.fastq.gz RPMI_P3_L002_R2_001.fastq.gz RPMI_P3_L003_R1_001.fastq.gz RPMI_P3_L003_R2_001.fastq.gz RPMI_P3_L003_R1_001.fastq.gz RPMI_P3_L003_R2_001.fastq.gz "
   ]
  },
  {
   "cell_type": "code",
   "execution_count": null,
   "id": "ec035b13-196d-46ac-8d3c-56f246c98d3e",
   "metadata": {},
   "outputs": [],
   "source": [
    "adata_mirizio_Cryo_P1 = sc.read_loom(mirizio_dir + '/Cryo_P1.loom')\n",
    "adata_mirizio_Cryo_P1.var_names_make_unique()\n",
    "adata_mirizio_Cryo_P2 = sc.read_loom(mirizio_dir + '/Cryo_P2.loom')\n",
    "adata_mirizio_Cryo_P2.var_names_make_unique()\n",
    "adata_mirizio_Cryo_P3 = sc.read_loom(mirizio_dir + '/Cryo_P3.loom')\n",
    "adata_mirizio_Cryo_P3.var_names_make_unique()\n",
    "adata_mirizio_RPMI_P1 = sc.read_loom(mirizio_dir + '/RPMI_P1.loom')\n",
    "adata_mirizio_RPMI_P1.var_names_make_unique()\n",
    "adata_mirizio_RPMI_P2 = sc.read_loom(mirizio_dir + '/RPMI_P2.loom')\n",
    "adata_mirizio_RPMI_P2.var_names_make_unique()\n",
    "adata_mirizio_RPMI_P3 = sc.read_loom(mirizio_dir + '/RPMI_P3.loom')\n",
    "adata_mirizio_RPMI_P3.var_names_make_unique()"
   ]
  },
  {
   "cell_type": "code",
   "execution_count": null,
   "id": "bda86caf-c680-43fe-9a55-1ec30e49f79c",
   "metadata": {},
   "outputs": [],
   "source": [
    "adata_mirizio = sc.AnnData.concatenate(adata_mirizio_Cryo_P1, adata_mirizio_Cryo_P2, adata_mirizio_Cryo_P3, \n",
    "                                   adata_mirizio_RPMI_P1, adata_mirizio_RPMI_P2, adata_mirizio_RPMI_P3, \n",
    "                                   batch_categories=['Cryo_P1', 'Cryo_P2', 'Cryo_P3', \n",
    "                                                     'RPMI_1', 'RPMI_2', 'RPMI_3'])"
   ]
  },
  {
   "cell_type": "code",
   "execution_count": null,
   "id": "386a4b1d-e2d9-473f-9ec7-2db6d0ab2657",
   "metadata": {},
   "outputs": [],
   "source": [
    "adata_mirizio.write_h5ad(mirizio_dir + '/Mirizio_2020.h5ad')"
   ]
  },
  {
   "cell_type": "markdown",
   "id": "explicit-breakdown",
   "metadata": {},
   "source": [
    "## Philippeos et al. 2018 (human)"
   ]
  },
  {
   "cell_type": "code",
   "execution_count": null,
   "id": "activated-appointment",
   "metadata": {},
   "outputs": [],
   "source": [
    "phil_dir = data_dir + '/Philippeos_2018'\n",
    "os.makedirs(phil_dir, exist_ok=True)"
   ]
  },
  {
   "cell_type": "code",
   "execution_count": null,
   "id": "divine-spectacular",
   "metadata": {},
   "outputs": [],
   "source": [
    "!wget -P {phil_dir} https://ftp.ncbi.nlm.nih.gov/geo/series/GSE109nnn/GSE109822/suppl/GSE109822%5FCD3145%2Ecsv%2Egz"
   ]
  },
  {
   "cell_type": "code",
   "execution_count": null,
   "id": "adapted-reference",
   "metadata": {},
   "outputs": [],
   "source": [
    "!wget -P {phil_dir} https://ftp.ncbi.nlm.nih.gov/geo/series/GSE109nnn/GSE109822/suppl/GSE109822%5FCD90%2Ecsv%2Egz"
   ]
  },
  {
   "cell_type": "code",
   "execution_count": null,
   "id": "included-debut",
   "metadata": {},
   "outputs": [],
   "source": [
    "!gunzip {phil_dir}/*.gz -f"
   ]
  },
  {
   "cell_type": "markdown",
   "id": "d8ff333d-f96c-40f4-b0aa-867da45fa24b",
   "metadata": {},
   "source": [
    "## Popescu et al. 2019 (human)"
   ]
  },
  {
   "cell_type": "markdown",
   "id": "db25a15f-98c6-43fa-bf2b-7619770c53a6",
   "metadata": {},
   "source": [
    "### Direct h5ad download"
   ]
  },
  {
   "cell_type": "code",
   "execution_count": null,
   "id": "195608dd-ac07-4094-b94c-2d2370a128da",
   "metadata": {},
   "outputs": [],
   "source": [
    "!aria2c -x 16 https://zenodo.org/record/4536165/files/fetal_submission.h5ad?download=1 -d {popescu_dir} -o popescu_2019.h5ad"
   ]
  },
  {
   "cell_type": "markdown",
   "id": "7574348d-9212-4419-b61f-7cefe50932dd",
   "metadata": {},
   "source": [
    "### FASTQ processing"
   ]
  },
  {
   "cell_type": "code",
   "execution_count": null,
   "id": "134b0117-27ae-4aa3-8fc4-39b062cff1e7",
   "metadata": {},
   "outputs": [],
   "source": [
    "!aria2c -x 16 https://www.ebi.ac.uk/arrayexpress/files/E-MTAB-7407/E-MTAB-7407.sdrf.txt -d {popescu_dir} -o acctable.txt"
   ]
  },
  {
   "cell_type": "code",
   "execution_count": null,
   "id": "686f2a28-0ce8-4aba-8141-e9743c5df7e0",
   "metadata": {},
   "outputs": [],
   "source": [
    "popescu_metadata = pd.read_csv(popescu_dir + '/acctable.txt', sep='\\t')\n",
    "popescu_metadata_skin = popescu_metadata[popescu_metadata['Characteristics[organism part]'] == 'skin'].reset_index(drop=True)"
   ]
  },
  {
   "cell_type": "code",
   "execution_count": null,
   "id": "a4667eef-d818-4d3b-894d-9521d5e1dc64",
   "metadata": {},
   "outputs": [],
   "source": [
    "df = pd.DataFrame({'name': [f\"{i}_{popescu_metadata_skin['Source Name'].values[i]}_{popescu_metadata_skin['Characteristics[individual]'].values[i]}_{popescu_metadata_skin['Characteristics[facs sorting]'].values[i].replace('/', '-').replace(' ', '-')}\" for i in range(len(popescu_metadata_skin))], \n",
    "                   'technology': ['10xv2'] * len(popescu_metadata_skin), \n",
    "                   'targetnumcells': [1000] * len(popescu_metadata_skin)})\n",
    "\n",
    "df.to_csv(popescu_dir + '/metadata.tab', sep='\\t', index=None)"
   ]
  },
  {
   "cell_type": "code",
   "execution_count": null,
   "id": "1bcf423b-bd59-4356-983c-1811ae2e4c27",
   "metadata": {},
   "outputs": [],
   "source": [
    "!cd  {popescu_dir} && cat metadata.tab"
   ]
  },
  {
   "cell_type": "code",
   "execution_count": null,
   "id": "391d8074-f660-4733-b30a-d2519cfd1593",
   "metadata": {},
   "outputs": [],
   "source": [
    "print(len(popescu_metadata_skin))\n",
    "for idx, name, indv, facs, f1, f2 in tqdm(zip(range(len(popescu_metadata_skin)), \n",
    "                                                    popescu_metadata_skin['Source Name'].values, \n",
    "                                    popescu_metadata_skin['Characteristics[individual]'].values, \n",
    "                                    popescu_metadata_skin['Characteristics[facs sorting]'].values,\n",
    "                                    popescu_metadata_skin['Comment[FASTQ_URI]'].values, \n",
    "                                    popescu_metadata_skin['Comment[FASTQ_URI].1'].values)):\n",
    "    \n",
    "    facs = facs.replace('/', '-').replace(' ', '-')\n",
    "    str_file = f'{idx}_{name}_{indv}_{facs}'\n",
    "    \n",
    "    if os.path.exists(f'{popescu_dir}/Popescu_2019_{str_file}.loom'):\n",
    "        print(f'Popescu_2019_{str_file}.loom EXISTS!')\n",
    "    else:\n",
    "        os.system(f'cd {popescu_dir} && aria2c -x 16 --file-allocation=none {f1} -d {popescu_dir} -o {str_file}_S1_L001_R1_001.fastq.gz')\n",
    "        os.system(f'cd {popescu_dir} && aria2c -x 16 --file-allocation=none {f2} -d {popescu_dir} -o {str_file}_S1_L001_R2_001.fastq.gz')\n",
    "\n",
    "        os.system(f'cd {popescu_dir} && loompy fromfq Popescu_2019_{str_file}.loom {str_file} {human_gencode_dir} metadata.tab {str_file}_S1_L001_R1_001.fastq.gz {str_file}_S1_L001_R2_001.fastq.gz ')\n",
    "\n",
    "        os.system(f'rm {popescu_dir}/{str_file}_S1_L001_R1_001.fastq.gz')\n",
    "        os.system(f'rm {popescu_dir}/{str_file}_S1_L001_R2_001.fastq.gz')\n",
    "    "
   ]
  },
  {
   "cell_type": "markdown",
   "id": "56a5685f-ca8c-4a63-8d56-661b4bee7af5",
   "metadata": {},
   "source": [
    "## Reynolds et al. 2020 (human)"
   ]
  },
  {
   "cell_type": "code",
   "execution_count": null,
   "id": "b5660b67-ab7f-497e-9fa9-f348c1f18486",
   "metadata": {},
   "outputs": [],
   "source": [
    "reynolds_dir = data_dir + '/reynolds_2020'\n",
    "os.makedirs(reynolds_dir, exist_ok=True)"
   ]
  },
  {
   "cell_type": "markdown",
   "id": "b119459a-8157-4ee0-8bce-326615197b6b",
   "metadata": {},
   "source": [
    "### Direct h5ad download"
   ]
  },
  {
   "cell_type": "code",
   "execution_count": null,
   "id": "5d5f34fd-b157-4e46-9224-dd3f534fcb54",
   "metadata": {},
   "outputs": [],
   "source": [
    "!aria2c -x 16 https://zenodo.org/record/4536165/files/submission_210120.h5ad?download=1 -d {reynolds_dir} -o reynolds_2020.h5ad"
   ]
  },
  {
   "cell_type": "markdown",
   "id": "d81f897d-ca6e-47c5-ac29-797b49e3bc74",
   "metadata": {},
   "source": [
    "### FASTQ processing"
   ]
  },
  {
   "cell_type": "code",
   "execution_count": null,
   "id": "c62583f7-d1fc-4dde-a9ed-b7633a79bf78",
   "metadata": {},
   "outputs": [],
   "source": [
    "!aria2c -x 16 https://www.ebi.ac.uk/arrayexpress/files/E-MTAB-8142/E-MTAB-8142.sdrf.txt -d {reynolds_dir} -o acctable.txt"
   ]
  },
  {
   "cell_type": "code",
   "execution_count": null,
   "id": "bdeb9319-1962-49f7-bb8c-c06542ecf0c5",
   "metadata": {},
   "outputs": [],
   "source": [
    "reynolds_metadata = pd.read_csv(reynolds_dir + '/acctable.txt', sep='\\t')"
   ]
  },
  {
   "cell_type": "code",
   "execution_count": null,
   "id": "2da8296c-d7ba-4013-a22b-08fe0cc0aa28",
   "metadata": {},
   "outputs": [],
   "source": [
    "reynolds_metadata[reynolds_metadata['Characteristics[FACS sorting]'] == 'fibroblasts']"
   ]
  },
  {
   "cell_type": "code",
   "execution_count": null,
   "id": "c4e47c10-bd3c-43cf-ab8a-89ede21c7eea",
   "metadata": {},
   "outputs": [],
   "source": [
    "reynolds_metadata"
   ]
  },
  {
   "cell_type": "code",
   "execution_count": null,
   "id": "a9af9e52-33e7-40a2-96a1-928c4cd80396",
   "metadata": {},
   "outputs": [],
   "source": [
    "df = pd.DataFrame({'name': [f\"{i}_{reynolds_metadata['Source Name'].values[i]}_{reynolds_metadata['Characteristics[individual]'].values[i]}_{reynolds_metadata['Characteristics[sampling site]'].values[i]}_{reynolds_metadata['Characteristics[FACS sorting]'].values[i].replace('/', '-').replace(' ', '-')}\" for i in range(len(reynolds_metadata))], \n",
    "                   'technology': ['10xv2'] * len(reynolds_metadata), \n",
    "                   'targetnumcells': [1000] * len(reynolds_metadata)})\n",
    "\n",
    "df.to_csv(reynolds_dir + '/metadata.tab', sep='\\t', index=None)"
   ]
  },
  {
   "cell_type": "code",
   "execution_count": null,
   "id": "58e3ecaf-a9cc-4be3-ba19-47a41633ac77",
   "metadata": {
    "scrolled": true
   },
   "outputs": [],
   "source": [
    "print(len(reynolds_metadata))\n",
    "for idx, name, indv, site, facs, f1, f2 in zip(reynolds_metadata_sub.index, \n",
    "                                               reynolds_metadata_sub['Source Name'].values, \n",
    "                                    reynolds_metadata_sub['Characteristics[individual]'].values,\n",
    "                                    reynolds_metadata_sub['Characteristics[sampling site]'].values,\n",
    "                                    reynolds_metadata_sub['Characteristics[FACS sorting]'].values,\n",
    "                                    reynolds_metadata_sub['Comment[FASTQ_URI]'].values, \n",
    "                                    reynolds_metadata_sub['Comment[FASTQ_URI].1'].values):\n",
    "    \n",
    "    facs = facs.replace('/', '-').replace(' ', '-')\n",
    "    str_file = f'{idx}_{name}_{indv}_{site}_{facs}'\n",
    "        \n",
    "    while not os.path.exists(f'{reynolds_dir}/reynolds_2020_{str_file}.loom'):\n",
    "        print(idx, name, indv, site, facs, f1, f2)\n",
    "\n",
    "        os.system(f'cd {reynolds_dir} && aria2c -x 16 --file-allocation=none {f1} -d {reynolds_dir} -o {str_file}_S1_L001_R1_001.fastq.gz')\n",
    "        os.system(f'cd {reynolds_dir} && aria2c -x 16 --file-allocation=none {f2} -d {reynolds_dir} -o {str_file}_S1_L001_R2_001.fastq.gz')\n",
    "\n",
    "        os.system(f'cd {reynolds_dir} && loompy fromfq reynolds_2020_{str_file}.loom {str_file} {human_gencode_dir} metadata.tab {str_file}_S1_L001_R1_001.fastq.gz {str_file}_S1_L001_R2_001.fastq.gz ')\n",
    "    else:\n",
    "        try:\n",
    "            os.system(f'rm {reynolds_dir}/{str_file}_S1_L001_R1_001.fastq.gz')\n",
    "            os.system(f'rm {reynolds_dir}/{str_file}_S1_L001_R2_001.fastq.gz')\n",
    "        except:\n",
    "            print(f'reynolds_2020_{str_file}.loom EXISTS!')\n",
    "    "
   ]
  },
  {
   "cell_type": "markdown",
   "id": "efa3f97b-c0f6-40f4-9f21-85487e8eeacb",
   "metadata": {},
   "source": [
    "## Reynolds et al. 2021 (human)"
   ]
  },
  {
   "cell_type": "code",
   "execution_count": null,
   "id": "709ff1fc-b3bd-4e13-b523-ee2dfc04da8a",
   "metadata": {},
   "outputs": [],
   "source": [
    "# Refer to https://github.com/alexmascension/revisit_reynolds_fb to see to main processing files."
   ]
  },
  {
   "cell_type": "markdown",
   "id": "cross-course",
   "metadata": {},
   "source": [
    "## Solé-Boldo et al. 2020 (human)"
   ]
  },
  {
   "cell_type": "markdown",
   "id": "d713349c-b6cb-4e99-8fc9-349370456041",
   "metadata": {},
   "source": [
    "### Young samples"
   ]
  },
  {
   "cell_type": "code",
   "execution_count": null,
   "id": "olive-aluminum",
   "metadata": {},
   "outputs": [],
   "source": [
    "sole_dir = data_dir + '/Sole-Boldo_2020'\n",
    "os.makedirs(sole_dir, exist_ok=True)"
   ]
  },
  {
   "cell_type": "code",
   "execution_count": null,
   "id": "racial-biology",
   "metadata": {},
   "outputs": [],
   "source": [
    "!cd {sole_dir} && fastq-dump SRR9036396 --gzip --split-files"
   ]
  },
  {
   "cell_type": "code",
   "execution_count": null,
   "id": "greater-wisconsin",
   "metadata": {},
   "outputs": [],
   "source": [
    "!cd {sole_dir} && fastq-dump SRR9036397 --gzip --split-files"
   ]
  },
  {
   "cell_type": "code",
   "execution_count": null,
   "id": "hidden-exclusive",
   "metadata": {},
   "outputs": [],
   "source": [
    "df = pd.DataFrame({'name': ['SB2020'], 'technology': ['10xv2'], 'targetnumcells': [1000]})\n",
    "df.to_csv(sole_dir + '/metadata.tab', sep='\\t', index=None)"
   ]
  },
  {
   "cell_type": "code",
   "execution_count": null,
   "id": "pressing-powell",
   "metadata": {},
   "outputs": [],
   "source": [
    "!mv {sole_dir}/SRR9036396_1.fastq.gz {sole_dir}/SB2020_L001_R1_001.fastq.gz \n",
    "!mv {sole_dir}/SRR9036396_2.fastq.gz {sole_dir}/SB2020_L001_R2_001.fastq.gz \n",
    "!mv {sole_dir}/SRR9036397_1.fastq.gz {sole_dir}/SB2020_L002_R1_001.fastq.gz \n",
    "!mv {sole_dir}/SRR9036397_2.fastq.gz {sole_dir}/SB2020_L002_R2_001.fastq.gz "
   ]
  },
  {
   "cell_type": "code",
   "execution_count": null,
   "id": "czech-directory",
   "metadata": {},
   "outputs": [],
   "source": [
    "!cd {sole_dir} && loompy fromfq SB2020.loom SB2020 {human_gencode_dir} metadata.tab \\\n",
    "SB2020_L002_R1_001.fastq.gz SB2020_L002_R2_001.fastq.gz SB2020_L001_R1_001.fastq.gz SB2020_L001_R2_001.fastq.gz "
   ]
  },
  {
   "cell_type": "markdown",
   "id": "32860e84-d75e-47a0-8f15-39bd6ab43700",
   "metadata": {},
   "source": [
    "### Old samples"
   ]
  },
  {
   "cell_type": "code",
   "execution_count": null,
   "id": "ee74805c-50df-4d89-a34a-dd260ad3026e",
   "metadata": {},
   "outputs": [],
   "source": [
    "!cd {sole_dir} && fastq-dump SRR9036398 --gzip --split-files"
   ]
  },
  {
   "cell_type": "code",
   "execution_count": null,
   "id": "caca9e9f-606a-47ab-8a00-cae2f1f52bb2",
   "metadata": {},
   "outputs": [],
   "source": [
    "!cd {sole_dir} && fastq-dump SRR9036399 --gzip --split-files"
   ]
  },
  {
   "cell_type": "code",
   "execution_count": null,
   "id": "fe538473-85da-443d-9b03-5c41cec5c870",
   "metadata": {},
   "outputs": [],
   "source": [
    "!cd {sole_dir} && fastq-dump SRR9036400 --gzip --split-files"
   ]
  },
  {
   "cell_type": "code",
   "execution_count": null,
   "id": "6eae1a7f-6c5c-4c50-b77c-7643797bd5d7",
   "metadata": {},
   "outputs": [],
   "source": [
    "df = pd.DataFrame({'name': ['SB2020_old'], 'technology': ['10xv2'], 'targetnumcells': [1000]})\n",
    "df.to_csv(sole_dir + '/metadata.tab', sep='\\t', index=None)"
   ]
  },
  {
   "cell_type": "code",
   "execution_count": null,
   "id": "b50718e3-6f43-4c18-b439-226cf73530b9",
   "metadata": {},
   "outputs": [],
   "source": [
    "!mv {sole_dir}/SRR9036398_1.fastq.gz {sole_dir}/SB2020_old_L001_R1_001.fastq.gz \n",
    "!mv {sole_dir}/SRR9036398_2.fastq.gz {sole_dir}/SB2020_old_L001_R2_001.fastq.gz \n",
    "!mv {sole_dir}/SRR9036399_1.fastq.gz {sole_dir}/SB2020_old_L002_R1_001.fastq.gz \n",
    "!mv {sole_dir}/SRR9036399_2.fastq.gz {sole_dir}/SB2020_old_L002_R2_001.fastq.gz \n",
    "!mv {sole_dir}/SRR9036400_1.fastq.gz {sole_dir}/SB2020_old_L003_R1_001.fastq.gz \n",
    "!mv {sole_dir}/SRR9036400_2.fastq.gz {sole_dir}/SB2020_old_L003_R2_001.fastq.gz "
   ]
  },
  {
   "cell_type": "code",
   "execution_count": null,
   "id": "346a2a35-3940-4678-8840-f703f887e3b3",
   "metadata": {},
   "outputs": [],
   "source": [
    "!cd {sole_dir} && loompy fromfq SB2020_old.loom SB2020_old {human_gencode_dir} metadata.tab \\\n",
    "SB2020_old_L002_R1_001.fastq.gz SB2020_old_L002_R2_001.fastq.gz SB2020_old_L001_R1_001.fastq.gz SB2020_old_L001_R2_001.fastq.gz SB2020_old_L003_R1_001.fastq.gz SB202_old_L003_R2_001.fastq.gz "
   ]
  },
  {
   "cell_type": "markdown",
   "id": "dd8db5b1-088d-4783-baa4-fd795653e8cf",
   "metadata": {},
   "source": [
    "## Tabib et al. 2018 (human)"
   ]
  },
  {
   "cell_type": "code",
   "execution_count": null,
   "id": "1ba85b50-541c-4126-823c-cd3ca5576c51",
   "metadata": {},
   "outputs": [],
   "source": [
    "tabib_dir = data_dir + '/Tabib_2018'\n",
    "os.makedirs(tabib_dir, exist_ok=True)"
   ]
  },
  {
   "cell_type": "code",
   "execution_count": null,
   "id": "dded2093-d106-4ba6-a60e-616cfd14754d",
   "metadata": {},
   "outputs": [],
   "source": [
    "!wget -P {tabib_dir} https://dom.pitt.edu/wp-content/uploads/2018/10/Skin_6Control_rawUMI.zip"
   ]
  },
  {
   "cell_type": "code",
   "execution_count": null,
   "id": "3b248aa9-c79d-44d6-9856-cdb7b1334652",
   "metadata": {},
   "outputs": [],
   "source": [
    "!wget -P {tabib_dir} https://dom.pitt.edu/wp-content/uploads/2018/10/Skin_6Control_Metadata.zip"
   ]
  },
  {
   "cell_type": "code",
   "execution_count": null,
   "id": "1533a4f9-bb21-4e42-91b8-7e496d03dc04",
   "metadata": {},
   "outputs": [],
   "source": [
    "!unzip -o {tabib_dir}/Skin_6Control_rawUMI.zip -d {tabib_dir}"
   ]
  },
  {
   "cell_type": "code",
   "execution_count": null,
   "id": "9c0c9064-d570-46bb-8d45-9e6d9b91282b",
   "metadata": {},
   "outputs": [],
   "source": [
    "!unzip -o {tabib_dir}/Skin_6Control_Metadata.zip -d {tabib_dir}"
   ]
  },
  {
   "cell_type": "markdown",
   "id": "bd3432ac-1dc1-4f2d-bbc0-d0e4a599ac26",
   "metadata": {},
   "source": [
    "## Tabula Sapiens Consortium 2021 (human)"
   ]
  },
  {
   "cell_type": "code",
   "execution_count": null,
   "id": "c35b1262-f5aa-4620-8053-63fb171f69bb",
   "metadata": {},
   "outputs": [],
   "source": [
    "tsc_dir = data_dir + '/Tabula_Sapiens_Consortium_2021'\n",
    "os.makedirs(tsc_dir, exist_ok=True)"
   ]
  },
  {
   "cell_type": "code",
   "execution_count": null,
   "id": "5315ea13-b948-42a6-9aca-324a336411dd",
   "metadata": {},
   "outputs": [],
   "source": [
    "!wget -P {tsc_dir} https://figshare.com/ndownloader/files/28846899\n",
    "!unzip 28846899"
   ]
  },
  {
   "cell_type": "markdown",
   "id": "597e6cc2-aae3-4a9a-b929-f21a7b045ee8",
   "metadata": {},
   "source": [
    "## The Human Protein Atlas 2021 (human)\n",
    "\n",
    "The data are extracted from Solé-Boldo (GSE130973)."
   ]
  },
  {
   "cell_type": "markdown",
   "id": "643811ec-cc65-4580-ad92-253cf894221b",
   "metadata": {},
   "source": [
    "## Theocharidis et al. 2020 (human)"
   ]
  },
  {
   "cell_type": "code",
   "execution_count": null,
   "id": "bcf74d50-3300-4a31-89a4-de1ebef5e706",
   "metadata": {},
   "outputs": [],
   "source": [
    "theo_dir = data_dir + '/Theocharidis_2020'\n",
    "os.makedirs(theo_dir, exist_ok=True)"
   ]
  },
  {
   "cell_type": "markdown",
   "id": "effective-moderator",
   "metadata": {},
   "source": [
    "## Vorstandlechner et al. 2020 (human)"
   ]
  },
  {
   "cell_type": "code",
   "execution_count": null,
   "id": "orange-nitrogen",
   "metadata": {},
   "outputs": [],
   "source": [
    "vors_dir = data_dir + '/Vorstandlechner_2020'\n",
    "os.makedirs(sole_dir, exist_ok=True)"
   ]
  },
  {
   "cell_type": "code",
   "execution_count": null,
   "id": "objective-stuff",
   "metadata": {},
   "outputs": [],
   "source": [
    "# The file was obtained by personal request from Vorstandlechner"
   ]
  }
 ],
 "metadata": {
  "kernelspec": {
   "display_name": "Python [conda env:alex-base] *",
   "language": "python",
   "name": "conda-env-alex-base-py"
  },
  "language_info": {
   "codemirror_mode": {
    "name": "ipython",
    "version": 3
   },
   "file_extension": ".py",
   "mimetype": "text/x-python",
   "name": "python",
   "nbconvert_exporter": "python",
   "pygments_lexer": "ipython3",
   "version": "3.8.0"
  }
 },
 "nbformat": 4,
 "nbformat_minor": 5
}

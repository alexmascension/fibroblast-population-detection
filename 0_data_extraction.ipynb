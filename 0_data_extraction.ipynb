{
 "cells": [
  {
   "cell_type": "markdown",
   "id": "religious-seafood",
   "metadata": {},
   "source": [
    "# Data extraction\n",
    "\n",
    "In this notebook we are going to extract the raw or processed data from all datasets, to later analyze it in different notebooks."
   ]
  },
  {
   "cell_type": "code",
   "execution_count": null,
   "id": "micro-currency",
   "metadata": {},
   "outputs": [],
   "source": [
    "import scanpy as sc\n",
    "import os\n",
    "import pandas as pd\n",
    "from tqdm.notebook import tqdm\n",
    "\n",
    "pd.set_option('display.max_columns', None)"
   ]
  },
  {
   "cell_type": "code",
   "execution_count": null,
   "id": "latin-spoke",
   "metadata": {},
   "outputs": [],
   "source": [
    "data_dir = os.getcwd()"
   ]
  },
  {
   "cell_type": "code",
   "execution_count": null,
   "id": "outdoor-jewelry",
   "metadata": {},
   "outputs": [],
   "source": [
    "human_gencode_dir = \"/media/seth/SETH_DATA/SETH_Alex/Programs/human_GRCh38_gencode.v31.600\""
   ]
  },
  {
   "cell_type": "markdown",
   "id": "fancy-viewer",
   "metadata": {},
   "source": [
    "## Tabib et al. 2018"
   ]
  },
  {
   "cell_type": "code",
   "execution_count": null,
   "id": "velvet-adapter",
   "metadata": {},
   "outputs": [],
   "source": [
    "tabib_dir = data_dir + '/Tabib_2018'\n",
    "os.makedirs(tabib_dir, exist_ok=True)"
   ]
  },
  {
   "cell_type": "code",
   "execution_count": null,
   "id": "neither-depression",
   "metadata": {},
   "outputs": [],
   "source": [
    "!wget -P {tabib_dir} https://dom.pitt.edu/wp-content/uploads/2018/10/Skin_6Control_rawUMI.zip"
   ]
  },
  {
   "cell_type": "code",
   "execution_count": null,
   "id": "color-motivation",
   "metadata": {},
   "outputs": [],
   "source": [
    "!wget -P {tabib_dir} https://dom.pitt.edu/wp-content/uploads/2018/10/Skin_6Control_Metadata.zip"
   ]
  },
  {
   "cell_type": "code",
   "execution_count": null,
   "id": "minor-digit",
   "metadata": {},
   "outputs": [],
   "source": [
    "!unzip -o {tabib_dir}/Skin_6Control_rawUMI.zip -d {tabib_dir}"
   ]
  },
  {
   "cell_type": "code",
   "execution_count": null,
   "id": "wooden-macintosh",
   "metadata": {},
   "outputs": [],
   "source": [
    "!unzip -o {tabib_dir}/Skin_6Control_Metadata.zip -d {tabib_dir}"
   ]
  },
  {
   "cell_type": "markdown",
   "id": "explicit-breakdown",
   "metadata": {},
   "source": [
    "## Philippeos et al. 2018"
   ]
  },
  {
   "cell_type": "code",
   "execution_count": null,
   "id": "activated-appointment",
   "metadata": {},
   "outputs": [],
   "source": [
    "phil_dir = data_dir + '/Philippeos_2018'\n",
    "os.makedirs(phil_dir, exist_ok=True)"
   ]
  },
  {
   "cell_type": "code",
   "execution_count": null,
   "id": "divine-spectacular",
   "metadata": {},
   "outputs": [],
   "source": [
    "!wget -P {phil_dir} https://ftp.ncbi.nlm.nih.gov/geo/series/GSE109nnn/GSE109822/suppl/GSE109822%5FCD3145%2Ecsv%2Egz"
   ]
  },
  {
   "cell_type": "code",
   "execution_count": null,
   "id": "adapted-reference",
   "metadata": {},
   "outputs": [],
   "source": [
    "!wget -P {phil_dir} https://ftp.ncbi.nlm.nih.gov/geo/series/GSE109nnn/GSE109822/suppl/GSE109822%5FCD90%2Ecsv%2Egz"
   ]
  },
  {
   "cell_type": "code",
   "execution_count": null,
   "id": "included-debut",
   "metadata": {},
   "outputs": [],
   "source": [
    "!gunzip {phil_dir}/*.gz -f"
   ]
  },
  {
   "cell_type": "markdown",
   "id": "cross-course",
   "metadata": {},
   "source": [
    "## Solé-Boldo et al. 2020"
   ]
  },
  {
   "cell_type": "code",
   "execution_count": null,
   "id": "olive-aluminum",
   "metadata": {},
   "outputs": [],
   "source": [
    "sole_dir = data_dir + '/Sole-Boldo_2020'\n",
    "os.makedirs(sole_dir, exist_ok=True)"
   ]
  },
  {
   "cell_type": "code",
   "execution_count": null,
   "id": "racial-biology",
   "metadata": {},
   "outputs": [],
   "source": [
    "!cd {sole_dir} && fastq-dump SRR9036396 --gzip --split-files"
   ]
  },
  {
   "cell_type": "code",
   "execution_count": null,
   "id": "greater-wisconsin",
   "metadata": {},
   "outputs": [],
   "source": [
    "!cd {sole_dir} && fastq-dump SRR9036397 --gzip --split-files"
   ]
  },
  {
   "cell_type": "code",
   "execution_count": null,
   "id": "hidden-exclusive",
   "metadata": {},
   "outputs": [],
   "source": [
    "df = pd.DataFrame({'name': ['SB2020'], 'technology': ['10xv2'], 'targetnumcells': [1000]})\n",
    "df.to_csv(sole_dir + '/metadata.tab', sep='\\t', index=None)"
   ]
  },
  {
   "cell_type": "code",
   "execution_count": null,
   "id": "pressing-powell",
   "metadata": {},
   "outputs": [],
   "source": [
    "!mv {sole_dir}/SRR9036396_1.fastq.gz {sole_dir}/SB2020_L001_R1_001.fastq.gz \n",
    "!mv {sole_dir}/SRR9036396_2.fastq.gz {sole_dir}/SB2020_L001_R2_001.fastq.gz \n",
    "!mv {sole_dir}/SRR9036397_1.fastq.gz {sole_dir}/SB2020_L002_R1_001.fastq.gz \n",
    "!mv {sole_dir}/SRR9036397_2.fastq.gz {sole_dir}/SB2020_L002_R2_001.fastq.gz "
   ]
  },
  {
   "cell_type": "code",
   "execution_count": null,
   "id": "czech-directory",
   "metadata": {},
   "outputs": [],
   "source": [
    "!cd {sole_dir} && loompy fromfq SB2020.loom SB2020 {human_gencode_dir} metadata.tab \\\n",
    "SB2020_L002_R1_001.fastq.gz SB2020_L002_R2_001.fastq.gz SB2020_L001_R1_001.fastq.gz SB2020_L001_R2_001.fastq.gz "
   ]
  },
  {
   "cell_type": "markdown",
   "id": "effective-moderator",
   "metadata": {},
   "source": [
    "## Vorstandlechner et al. 2020"
   ]
  },
  {
   "cell_type": "code",
   "execution_count": null,
   "id": "orange-nitrogen",
   "metadata": {},
   "outputs": [],
   "source": [
    "vors_dir = data_dir + '/Vorstandlechner_2020'\n",
    "os.makedirs(sole_dir, exist_ok=True)"
   ]
  },
  {
   "cell_type": "code",
   "execution_count": null,
   "id": "objective-stuff",
   "metadata": {},
   "outputs": [],
   "source": [
    "# The file was obtained by personal request from Vorstandlechner"
   ]
  },
  {
   "cell_type": "markdown",
   "id": "framed-bracelet",
   "metadata": {},
   "source": [
    "## He et al. 2020"
   ]
  },
  {
   "cell_type": "markdown",
   "id": "emerging-tobago",
   "metadata": {},
   "source": [
    "### Raw data and metadata extraction (young samples)"
   ]
  },
  {
   "cell_type": "code",
   "execution_count": null,
   "id": "international-terminology",
   "metadata": {},
   "outputs": [],
   "source": [
    "he_dir = data_dir + '/He_2020'\n",
    "os.makedirs(he_dir, exist_ok=True)"
   ]
  },
  {
   "cell_type": "code",
   "execution_count": null,
   "id": "overall-captain",
   "metadata": {},
   "outputs": [],
   "source": [
    "!rm -rf {he_dir}"
   ]
  },
  {
   "cell_type": "code",
   "execution_count": null,
   "id": "architectural-colors",
   "metadata": {},
   "outputs": [],
   "source": [
    "SRA_list = \"\"\"\n",
    "SRR11396171\n",
    "SRR11396175\n",
    "SRR11396162\n",
    "SRR11396164\n",
    "SRR11396166\n",
    "SRR11396167\n",
    "SRR11396168\n",
    "SRR11396170\n",
    "\"\"\"\n",
    "\n",
    "with open(he_dir + '/accession.txt', 'w') as f:\n",
    "    f.write(SRA_list)\n",
    "    \n",
    "df = pd.DataFrame({'name': ['He2020'], 'technology': ['10xv2'] * 8, 'targetnumcells': [5000] * 8})\n",
    "\n",
    "df.to_csv(he_dir + '/metadata.tab', sep='\\t', index=None)"
   ]
  },
  {
   "cell_type": "code",
   "execution_count": null,
   "id": "overall-twins",
   "metadata": {},
   "outputs": [],
   "source": [
    "!cd {he_dir} && cat accession.txt | parallel -j 8 \"prefetch {}\""
   ]
  },
  {
   "cell_type": "code",
   "execution_count": null,
   "id": "arctic-section",
   "metadata": {},
   "outputs": [],
   "source": [
    "def adapt_fastq(filename_dir, filename_root, idx):\n",
    "    # Using readline() \n",
    "    filein = open(f'{filename_dir}/{filename_root}.fastq', 'r') \n",
    "    \n",
    "    fileR1 = open(f'{filename_dir}/He2020_L00{idx}_R1_001.fastq', 'w') \n",
    "    fileR2 = open(f'{filename_dir}/He2020_L00{idx}_R2_001.fastq', 'w') \n",
    "    \n",
    "    print(f'{filename_dir}/{filename_root}.fastq', f'{filename_dir}/He2020_L00{idx}_R1_001.fastq')\n",
    "    \n",
    "    count = 0\n",
    "    \n",
    "    while True: \n",
    "        count += 1\n",
    "\n",
    "        # Get next line from file \n",
    "        line = filein.readline() \n",
    "        \n",
    "        if count % 4 in [1, 3]:\n",
    "            fileR1.write(line.replace('\\n', '') + '\\n')\n",
    "            fileR2.write(line.replace('\\n', '') + '\\n')\n",
    "        elif count == 2:\n",
    "            fileR1.write(line.replace('\\n', '')[:26] + '\\n')\n",
    "            fileR2.write(line.replace('\\n', '')[26:] + '\\n')\n",
    "        else:\n",
    "            fileR1.write(line.replace('\\n', '')[:26] + '\\n')\n",
    "            fileR2.write(line.replace('\\n', '')[26:] + '\\n')\n",
    "            \n",
    "\n",
    "        # if line is empty \n",
    "        # end of file is reached \n",
    "        if not line: \n",
    "            break\n",
    "\n",
    "    filein.close() \n",
    "    fileR1.close()\n",
    "    fileR2.close()\n",
    "    \n",
    "    os.system(f'gzip {filename_dir}/{filename_root}.fastq')\n",
    "    os.system(f'gzip {filename_dir}/He2020_L00{idx}_R1_001.fastq')\n",
    "    os.system(f'gzip {filename_dir}/He2020_L00{idx}_R2_001.fastq')"
   ]
  },
  {
   "cell_type": "code",
   "execution_count": null,
   "id": "enhanced-thesaurus",
   "metadata": {},
   "outputs": [],
   "source": [
    "adapt_fastq_remote = ray.remote(adapt_fastq)\n",
    "\n",
    "ray.init(ignore_reinit_error=True, num_cpus=2)\n",
    "\n",
    "ret = [adapt_fastq_remote.remote(f'{he_dir}', f'{name}', name_idx+1) for name_idx, name in enumerate(SRA_list.split('\\n')[1:-1])]\n",
    "ray.get(ret)\n",
    "\n",
    "ray.shutdown()"
   ]
  },
  {
   "cell_type": "code",
   "execution_count": null,
   "id": "functional-kingston",
   "metadata": {},
   "outputs": [],
   "source": [
    "!cd {he_dir} && loompy fromfq He2020.loom He2020 {human_gencode_dir} metadata.tab \\\n",
    "He2020_L001_R1_001.fastq.gz He2020_L001_R2_001.fastq.gz He2020_L002_R1_001.fastq.gz He2020_L002_R2_001.fastq.gz \\\n",
    "He2020_L003_R1_001.fastq.gz He2020_L003_R2_001.fastq.gz He2020_L004_R1_001.fastq.gz He2020_L004_R2_001.fastq.gz \\\n",
    "He2020_L005_R1_001.fastq.gz He2020_L005_R2_001.fastq.gz He2020_L006_R1_001.fastq.gz He2020_L006_R2_001.fastq.gz \\\n",
    "He2020_L007_R1_001.fastq.gz He2020_L007_R2_001.fastq.gz He2020_L008_R1_001.fastq.gz He2020_L008_R2_001.fastq.gz \\"
   ]
  },
  {
   "cell_type": "markdown",
   "id": "broadband-animal",
   "metadata": {},
   "source": [
    "### Raw data and metadata extraction (old samples)"
   ]
  },
  {
   "cell_type": "code",
   "execution_count": null,
   "id": "subjective-disco",
   "metadata": {},
   "outputs": [],
   "source": [
    "SRA_list = \"\"\"\n",
    "SRR11396159\n",
    "SRR11396160\n",
    "SRR11396163\n",
    "SRR11396165\n",
    "\"\"\"\n",
    "\n",
    "with open(he_dir + '/accession_old.txt', 'w') as f:\n",
    "    f.write(SRA_list)\n",
    "    \n",
    "df = pd.DataFrame({'name': ['He2020_inj'], 'technology': ['10xv2'], 'targetnumcells': [5000]})\n",
    "\n",
    "df.to_csv(he_dir + '/metadata_inj.tab', sep='\\t', index=None)"
   ]
  },
  {
   "cell_type": "code",
   "execution_count": null,
   "id": "insured-dakota",
   "metadata": {},
   "outputs": [],
   "source": [
    "!cd {he_dir} && cat accession_inj.txt | parallel -j 8 \"prefetch {}\""
   ]
  },
  {
   "cell_type": "code",
   "execution_count": null,
   "id": "brown-ottawa",
   "metadata": {},
   "outputs": [],
   "source": [
    "adapt_fastq_remote = ray.remote(adapt_fastq)\n",
    "\n",
    "ray.init(ignore_reinit_error=True, num_cpus=2)\n",
    "\n",
    "ret = [adapt_fastq_remote.remote(f'{he_dir}', f'{name}', name_idx+10) for name_idx, name in enumerate(SRA_list.split('\\n')[1:-1])]\n",
    "ray.get(ret)\n",
    "\n",
    "ray.shutdown()"
   ]
  },
  {
   "cell_type": "code",
   "execution_count": null,
   "id": "healthy-london",
   "metadata": {},
   "outputs": [],
   "source": [
    "!cd {he_dir} && loompy fromfq He2020_inj.loom He2020_inj {human_gencode_dir} metadata_old.tab \\\n",
    "He2020_L0010_R1_001.fastq.gz He2020_L0010_R2_001.fastq.gz He2020_L0011_R1_001.fastq.gz He2020_L0011_R2_001.fastq.gz \\\n",
    "He2020_L0013_R1_001.fastq.gz He2020_L0013_R2_001.fastq.gz He2020_L0012_R1_001.fastq.gz He2020_L0012_R2_001.fastq.gz"
   ]
  },
  {
   "cell_type": "markdown",
   "id": "registered-butterfly",
   "metadata": {},
   "source": [
    "## Kim et al. 2020"
   ]
  },
  {
   "cell_type": "code",
   "execution_count": null,
   "id": "piano-castle",
   "metadata": {},
   "outputs": [],
   "source": [
    "kim_dir = data_dir + '/Kim_2020'\n",
    "os.makedirs(kim_dir, exist_ok=True)\n",
    "os.makedirs(kim_dir + '/injury', exist_ok=True)"
   ]
  },
  {
   "cell_type": "code",
   "execution_count": null,
   "id": "requested-softball",
   "metadata": {},
   "outputs": [],
   "source": [
    "!cd {kim_dir} && fastq-dump SRR9307706 --gzip --split-files"
   ]
  },
  {
   "cell_type": "code",
   "execution_count": null,
   "id": "chubby-frequency",
   "metadata": {},
   "outputs": [],
   "source": [
    "!cd {kim_dir} && fastq-dump SRR9307707 --gzip --split-files"
   ]
  },
  {
   "cell_type": "code",
   "execution_count": null,
   "id": "banned-moment",
   "metadata": {},
   "outputs": [],
   "source": [
    "!cd {kim_dir} && fastq-dump SRR9307708 --gzip --split-files"
   ]
  },
  {
   "cell_type": "code",
   "execution_count": null,
   "id": "legislative-protest",
   "metadata": {},
   "outputs": [],
   "source": [
    "!cd {kim_dir} && fastq-dump SRR9307709 --gzip --split-files"
   ]
  },
  {
   "cell_type": "code",
   "execution_count": null,
   "id": "eight-reducing",
   "metadata": {},
   "outputs": [],
   "source": [
    "!cd {kim_dir} && fastq-dump SRR9307710 --gzip --split-files"
   ]
  },
  {
   "cell_type": "code",
   "execution_count": null,
   "id": "classical-interim",
   "metadata": {},
   "outputs": [],
   "source": [
    "!cd {kim_dir} && fastq-dump SRR9307711 --gzip --split-files"
   ]
  },
  {
   "cell_type": "code",
   "execution_count": null,
   "id": "chicken-fetish",
   "metadata": {},
   "outputs": [],
   "source": [
    "!cd {kim_dir}/injury && fastq-dump SRR9307698 --gzip --split-files"
   ]
  },
  {
   "cell_type": "code",
   "execution_count": null,
   "id": "educational-annotation",
   "metadata": {},
   "outputs": [],
   "source": [
    "df = pd.DataFrame({'name': ['Kim_2020_HC1', 'Kim_2020_HC2', 'Kim_2020_HC3', \n",
    "                            'Kim_2020_HC4', 'Kim_2020_HC5', 'Kim_2020_HC6', \n",
    "                            'Kim_2020_inj'], 'technology': ['10xv2'] * 7, \n",
    "                   'targetnumcells': [1000] * 7})\n",
    "df.to_csv(kim_dir + '/metadata.tab', sep='\\t', index=None)"
   ]
  },
  {
   "cell_type": "code",
   "execution_count": null,
   "id": "informed-wildlife",
   "metadata": {},
   "outputs": [],
   "source": [
    "!mv {kim_dir}/injury/SRR9307698_2.fastq.gz {kim_dir}/Kim_2020_inj_L001_R1_001.fastq.gz \n",
    "!mv {kim_dir}/injury/SRR9307698_3.fastq.gz {kim_dir}/Kim_2020_inj_L001_R2_001.fastq.gz \n",
    "\n",
    "!mv {kim_dir}/SRR9307706_2.fastq.gz {kim_dir}/Kim_2020_HC1_L001_R1_001.fastq.gz \n",
    "!mv {kim_dir}/SRR9307706_3.fastq.gz {kim_dir}/Kim_2020_HC1_L001_R2_001.fastq.gz \n",
    "!mv {kim_dir}/SRR9307707_2.fastq.gz {kim_dir}/Kim_2020_HC2_L001_R1_001.fastq.gz \n",
    "!mv {kim_dir}/SRR9307707_3.fastq.gz {kim_dir}/Kim_2020_HC2_L001_R2_001.fastq.gz \n",
    "!mv {kim_dir}/SRR9307708_2.fastq.gz {kim_dir}/Kim_2020_HC3_L001_R1_001.fastq.gz \n",
    "!mv {kim_dir}/SRR9307708_3.fastq.gz {kim_dir}/Kim_2020_HC3_L001_R2_001.fastq.gz \n",
    "!mv {kim_dir}/SRR9307709_2.fastq.gz {kim_dir}/Kim_2020_HC4_L001_R1_001.fastq.gz \n",
    "!mv {kim_dir}/SRR9307709_3.fastq.gz {kim_dir}/Kim_2020_HC4_L001_R2_001.fastq.gz \n",
    "!mv {kim_dir}/SRR9307710_2.fastq.gz {kim_dir}/Kim_2020_HC5_L001_R1_001.fastq.gz \n",
    "!mv {kim_dir}/SRR9307710_3.fastq.gz {kim_dir}/Kim_2020_HC5_L001_R2_001.fastq.gz \n",
    "!mv {kim_dir}/SRR9307711_2.fastq.gz {kim_dir}/Kim_2020_HC6_L001_R1_001.fastq.gz \n",
    "!mv {kim_dir}/SRR9307711_3.fastq.gz {kim_dir}/Kim_2020_HC6_L001_R2_001.fastq.gz "
   ]
  },
  {
   "cell_type": "code",
   "execution_count": null,
   "id": "local-basin",
   "metadata": {},
   "outputs": [],
   "source": [
    "!rm -rf {kim_dir}/*_1.fastq.gz"
   ]
  },
  {
   "cell_type": "code",
   "execution_count": null,
   "id": "double-summit",
   "metadata": {},
   "outputs": [],
   "source": [
    "!cd {kim_dir} && loompy fromfq Kim_2020_HC1.loom Kim_2020_HC1 /media/seth/SETH_DATA/SETH_Alex/Programs/human_GRCh38_gencode.v31.600 metadata.tab \\\n",
    "Kim_2020_HC1_L001_R1_001.fastq.gz Kim_2020_HC1_L001_R2_001.fastq.gz "
   ]
  },
  {
   "cell_type": "code",
   "execution_count": null,
   "id": "scheduled-promise",
   "metadata": {},
   "outputs": [],
   "source": [
    "!cd {kim_dir} && loompy fromfq Kim_2020_HC2.loom Kim_2020_HC2 /media/seth/SETH_DATA/SETH_Alex/Programs/human_GRCh38_gencode.v31.600 metadata.tab \\\n",
    "Kim_2020_HC2_L001_R1_001.fastq.gz Kim_2020_HC2_L001_R2_001.fastq.gz "
   ]
  },
  {
   "cell_type": "code",
   "execution_count": null,
   "id": "balanced-greek",
   "metadata": {},
   "outputs": [],
   "source": [
    "!cd {kim_dir} && loompy fromfq Kim_2020_HC3.loom Kim_2020_HC3 /media/seth/SETH_DATA/SETH_Alex/Programs/human_GRCh38_gencode.v31.600 metadata.tab \\\n",
    "Kim_2020_HC3_L001_R1_001.fastq.gz Kim_2020_HC3_L001_R2_001.fastq.gz "
   ]
  },
  {
   "cell_type": "code",
   "execution_count": null,
   "id": "revolutionary-checkout",
   "metadata": {},
   "outputs": [],
   "source": [
    "!cd {kim_dir} && loompy fromfq Kim_2020_HC4.loom Kim_2020_HC4 /media/seth/SETH_DATA/SETH_Alex/Programs/human_GRCh38_gencode.v31.600 metadata.tab \\\n",
    "Kim_2020_HC4_L001_R1_001.fastq.gz Kim_2020_HC4_L001_R2_001.fastq.gz "
   ]
  },
  {
   "cell_type": "code",
   "execution_count": null,
   "id": "duplicate-slide",
   "metadata": {},
   "outputs": [],
   "source": [
    "!cd {kim_dir} && loompy fromfq Kim_2020_HC5.loom Kim_2020_HC5 /media/seth/SETH_DATA/SETH_Alex/Programs/human_GRCh38_gencode.v31.600 metadata.tab \\\n",
    "Kim_2020_HC5_L001_R1_001.fastq.gz Kim_2020_HC5_L001_R2_001.fastq.gz "
   ]
  },
  {
   "cell_type": "code",
   "execution_count": null,
   "id": "piano-hepatitis",
   "metadata": {},
   "outputs": [],
   "source": [
    "!cd {kim_dir} && loompy fromfq Kim_2020_HC6.loom Kim_2020_HC6 /media/seth/SETH_DATA/SETH_Alex/Programs/human_GRCh38_gencode.v31.600 metadata.tab \\\n",
    "Kim_2020_HC6_L001_R1_001.fastq.gz Kim_2020_HC6_L001_R2_001.fastq.gz "
   ]
  },
  {
   "cell_type": "code",
   "execution_count": null,
   "id": "empty-chicago",
   "metadata": {},
   "outputs": [],
   "source": [
    "!cd {kim_dir} && loompy fromfq Kim_2020_inj.loom Kim_2020_inj /media/seth/SETH_DATA/SETH_Alex/Programs/human_GRCh38_gencode.v31.600 metadata.tab \\\n",
    "Kim_2020_inj_L001_R1_001.fastq.gz Kim_2020_inj_L001_R2_001.fastq.gz"
   ]
  },
  {
   "cell_type": "code",
   "execution_count": null,
   "id": "beautiful-pizza",
   "metadata": {},
   "outputs": [],
   "source": [
    "adata_kim_HC1 = sc.read_loom(kim_dir + '/Kim_2020_HC1.loom')\n",
    "adata_kim_HC1.var_names_make_unique()\n",
    "adata_kim_HC2 = sc.read_loom(kim_dir + '/Kim_2020_HC2.loom')\n",
    "adata_kim_HC2.var_names_make_unique()\n",
    "adata_kim_HC3 = sc.read_loom(kim_dir + '/Kim_2020_HC3.loom')\n",
    "adata_kim_HC3.var_names_make_unique()\n",
    "adata_kim_HC4 = sc.read_loom(kim_dir + '/Kim_2020_HC4.loom')\n",
    "adata_kim_HC4.var_names_make_unique()\n",
    "adata_kim_HC5 = sc.read_loom(kim_dir + '/Kim_2020_HC5.loom')\n",
    "adata_kim_HC5.var_names_make_unique()\n",
    "adata_kim_HC6 = sc.read_loom(kim_dir + '/Kim_2020_HC6.loom')\n",
    "adata_kim_HC6.var_names_make_unique()"
   ]
  },
  {
   "cell_type": "code",
   "execution_count": null,
   "id": "chronic-ethiopia",
   "metadata": {},
   "outputs": [],
   "source": [
    "adata_kim = sc.AnnData.concatenate(adata_kim_HC1, adata_kim_HC2, adata_kim_HC3, \n",
    "                                  adata_kim_HC4, adata_kim_HC5, adata_kim_HC6)"
   ]
  },
  {
   "cell_type": "code",
   "execution_count": null,
   "id": "hungarian-newark",
   "metadata": {},
   "outputs": [],
   "source": [
    "adata_kim.write_h5ad(kim_dir + '/Kim_2020.h5ad')"
   ]
  },
  {
   "cell_type": "markdown",
   "id": "acoustic-oakland",
   "metadata": {},
   "source": [
    "## Gaydosik et al. 2020"
   ]
  },
  {
   "cell_type": "code",
   "execution_count": null,
   "id": "timely-listing",
   "metadata": {},
   "outputs": [],
   "source": [
    "gaydosik_dir = data_dir + '/gaydosik_2020'\n",
    "os.makedirs(gaydosik_dir, exist_ok=True)"
   ]
  },
  {
   "cell_type": "code",
   "execution_count": null,
   "id": "mysterious-vision",
   "metadata": {
    "scrolled": true
   },
   "outputs": [],
   "source": [
    "!cd {gaydosik_dir} && wget ftp://ftp.ncbi.nlm.nih.gov/geo/samples/GSM3679nnn/GSM3679033/suppl/GSM3679033%5FLabeled%5FSC67%5F050517%5FSK%5FMF2%5FGRCh38raw%2Ecsv%2Egz\n",
    "!cd {gaydosik_dir} && wget ftp://ftp.ncbi.nlm.nih.gov/geo/samples/GSM3679nnn/GSM3679034/suppl/GSM3679034%5FLabeled%5FSC82%5F060617%5FSK%5FMF5%5FGRCh38raw%2Ecsv%2Egz\n",
    "!cd {gaydosik_dir} && wget ftp://ftp.ncbi.nlm.nih.gov/geo/samples/GSM3679nnn/GSM3679035/suppl/GSM3679035%5FSC157dataframe%2Ecsv%2Egz\n",
    "!cd {gaydosik_dir} && wget ftp://ftp.ncbi.nlm.nih.gov/geo/samples/GSM3679nnn/GSM3679036/suppl/GSM3679036%5FSC158dataframe%2Ecsv%2Egz\n",
    "!cd {gaydosik_dir} && wget ftp://ftp.ncbi.nlm.nih.gov/geo/samples/GSM3679nnn/GSM3679037/suppl/GSM3679037%5FSC205dataframe%2Ecsv%2Egz\n",
    "\n",
    "!cd {gaydosik_dir} && wget ftp://ftp.ncbi.nlm.nih.gov/geo/samples/GSM3679nnn/GSM3679038/suppl/GSM3679038%5FLabeled%5FSC50%5F011917%5FSK%5FNOR%5FGRCh38raw%2Ecsv%2Egz\n",
    "!cd {gaydosik_dir} && wget ftp://ftp.ncbi.nlm.nih.gov/geo/samples/GSM3679nnn/GSM3679039/suppl/GSM3679039%5FLabeled%5FSC68%5F051517%5FSK%5FNOR%5FGRCh38raw%2Ecsv%2Egz\n",
    "!cd {gaydosik_dir} && wget ftp://ftp.ncbi.nlm.nih.gov/geo/samples/GSM3679nnn/GSM3679040/suppl/GSM3679040%5FLabeled%5FSC124%5F080317%5FSK%5FNOR%5FGRCh38raw%2Ecsv%2Egz\n",
    "!cd {gaydosik_dir} && wget ftp://ftp.ncbi.nlm.nih.gov/geo/samples/GSM3679nnn/GSM3679041/suppl/GSM3679041%5FLabeled%5FSC125%5F080317%5FSK%5FNOR%5FGRCh38raw%2Ecsv%2Egz"
   ]
  },
  {
   "cell_type": "code",
   "execution_count": null,
   "id": "relative-burning",
   "metadata": {},
   "outputs": [],
   "source": [
    "!cd {gaydosik_dir} &&  gunzip *.gz"
   ]
  },
  {
   "cell_type": "code",
   "execution_count": null,
   "id": "561e1218-d116-4a11-9edd-6fbf816e09f6",
   "metadata": {},
   "outputs": [],
   "source": [
    "adata_CTCL2 = sc.read(gaydosik_dir + '/GSM3679033_Labeled_SC67_050517_SK_MF2_GRCh38raw.csv').transpose()\n",
    "adata_CTCL5 = sc.read(gaydosik_dir + '/GSM3679034_Labeled_SC82_060617_SK_MF5_GRCh38raw.csv').transpose()\n",
    "adata_CTCL6 = sc.read(gaydosik_dir + '/GSM3679035_SC157dataframe.csv').transpose()\n",
    "adata_CTCL8 = sc.read(gaydosik_dir + '/GSM3679036_SC158dataframe.csv').transpose()\n",
    "adata_CTCL12 = sc.read(gaydosik_dir + '/GSM3679037_SC205dataframe.csv').transpose()"
   ]
  },
  {
   "cell_type": "code",
   "execution_count": null,
   "id": "90487141-9483-43bb-8ebc-43629c3452d2",
   "metadata": {},
   "outputs": [],
   "source": [
    "adata_HC1 = sc.read(gaydosik_dir + '/GSM3679038_Labeled_SC50_011917_SK_NOR_GRCh38raw.csv').transpose()\n",
    "adata_HC2 = sc.read(gaydosik_dir + '/GSM3679039_Labeled_SC68_051517_SK_NOR_GRCh38raw.csv').transpose()\n",
    "adata_HC3 = sc.read(gaydosik_dir + '/GSM3679040_Labeled_SC124_080317_SK_NOR_GRCh38raw.csv').transpose()\n",
    "adata_HC4 = sc.read(gaydosik_dir + '/GSM3679041_Labeled_SC125_080317_SK_NOR_GRCh38raw.csv').transpose()"
   ]
  },
  {
   "cell_type": "code",
   "execution_count": null,
   "id": "capable-shakespeare",
   "metadata": {},
   "outputs": [],
   "source": [
    "adata_CTCL = sc.AnnData.concatenate(adata_CTCL2, adata_CTCL5, adata_CTCL6, \n",
    "                                   adata_CTCL8, adata_CTCL12, batch_key='sample', \n",
    "                                   batch_categories=['CTCL2', 'CTCL5', 'CTCL6',\n",
    "                                                     'CTCL8', 'CTCL12'])\n",
    "adata_HC = sc.AnnData.concatenate(adata_HC1, adata_HC2, adata_HC3, \n",
    "                                   adata_HC4, batch_key='sample', batch_categories=[\n",
    "                                       'HC1', 'HC2', 'HC3', 'HC4'\n",
    "                                   ])"
   ]
  },
  {
   "cell_type": "code",
   "execution_count": null,
   "id": "outside-gibraltar",
   "metadata": {},
   "outputs": [],
   "source": [
    "adata_CTCL.write_h5ad(gaydosik_dir + '/gaydosik_2020_CTCL.h5ad')\n",
    "adata_HC.write_h5ad(gaydosik_dir + '/gaydosik_2020_HC.h5ad')"
   ]
  },
  {
   "cell_type": "markdown",
   "id": "253bcc66-723b-4885-8104-22c8b778e1f1",
   "metadata": {},
   "source": [
    "## Reynolds et al. 2020"
   ]
  },
  {
   "cell_type": "code",
   "execution_count": null,
   "id": "11e42bec-a2f4-4482-bd87-8f24fee5c3eb",
   "metadata": {},
   "outputs": [],
   "source": [
    "reynolds_dir = data_dir + '/reynolds_2020'\n",
    "os.makedirs(reynolds_dir, exist_ok=True)"
   ]
  },
  {
   "cell_type": "markdown",
   "id": "c59c1071-79f2-49ca-be64-710179d7ed06",
   "metadata": {},
   "source": [
    "### Direct h5ad download"
   ]
  },
  {
   "cell_type": "code",
   "execution_count": null,
   "id": "f0af112b-6ce9-4b5a-888f-48106aa94034",
   "metadata": {},
   "outputs": [],
   "source": [
    "!aria2c -x 16 https://zenodo.org/record/4536165/files/submission_210120.h5ad?download=1 -d {reynolds_dir} -o reynolds_2020.h5ad"
   ]
  },
  {
   "cell_type": "markdown",
   "id": "eca9ac92-bdf7-41af-82ee-11ce5695c5ec",
   "metadata": {},
   "source": [
    "### FASTQ processing"
   ]
  },
  {
   "cell_type": "code",
   "execution_count": null,
   "id": "379d21ae-fb37-415c-b961-bbaa0cbda7a4",
   "metadata": {},
   "outputs": [],
   "source": [
    "!aria2c -x 16 https://www.ebi.ac.uk/arrayexpress/files/E-MTAB-8142/E-MTAB-8142.sdrf.txt -d {reynolds_dir} -o acctable.txt"
   ]
  },
  {
   "cell_type": "code",
   "execution_count": null,
   "id": "ec20891a-1054-42cd-ab2c-ddc3dea6278a",
   "metadata": {},
   "outputs": [],
   "source": [
    "reynolds_metadata = pd.read_csv(reynolds_dir + '/acctable.txt', sep='\\t')"
   ]
  },
  {
   "cell_type": "code",
   "execution_count": null,
   "id": "61bdcfdb-7b16-4d0d-adc9-61b0cd338892",
   "metadata": {},
   "outputs": [],
   "source": [
    "reynolds_metadata[reynolds_metadata['Characteristics[FACS sorting]'] == 'fibroblasts']"
   ]
  },
  {
   "cell_type": "code",
   "execution_count": null,
   "id": "8ece7e58-291b-42c1-950d-672bdafb3211",
   "metadata": {},
   "outputs": [],
   "source": [
    "reynolds_metadata"
   ]
  },
  {
   "cell_type": "code",
   "execution_count": null,
   "id": "bfac9f17-8a07-4d34-8019-4996e240639d",
   "metadata": {},
   "outputs": [],
   "source": [
    "df = pd.DataFrame({'name': [f\"{i}_{reynolds_metadata['Source Name'].values[i]}_{reynolds_metadata['Characteristics[individual]'].values[i]}_{reynolds_metadata['Characteristics[sampling site]'].values[i]}_{reynolds_metadata['Characteristics[FACS sorting]'].values[i].replace('/', '-').replace(' ', '-')}\" for i in range(len(reynolds_metadata))], \n",
    "                   'technology': ['10xv2'] * len(reynolds_metadata), \n",
    "                   'targetnumcells': [1000] * len(reynolds_metadata)})\n",
    "\n",
    "df.to_csv(reynolds_dir + '/metadata.tab', sep='\\t', index=None)"
   ]
  },
  {
   "cell_type": "code",
   "execution_count": null,
   "id": "9e7edd44-1e27-43fd-bb8b-c95b4bab24b6",
   "metadata": {
    "scrolled": true
   },
   "outputs": [],
   "source": [
    "print(len(reynolds_metadata))\n",
    "for idx, name, indv, site, facs, f1, f2 in zip(reynolds_metadata_sub.index, \n",
    "                                               reynolds_metadata_sub['Source Name'].values, \n",
    "                                    reynolds_metadata_sub['Characteristics[individual]'].values,\n",
    "                                    reynolds_metadata_sub['Characteristics[sampling site]'].values,\n",
    "                                    reynolds_metadata_sub['Characteristics[FACS sorting]'].values,\n",
    "                                    reynolds_metadata_sub['Comment[FASTQ_URI]'].values, \n",
    "                                    reynolds_metadata_sub['Comment[FASTQ_URI].1'].values):\n",
    "    \n",
    "    facs = facs.replace('/', '-').replace(' ', '-')\n",
    "    str_file = f'{idx}_{name}_{indv}_{site}_{facs}'\n",
    "        \n",
    "    while not os.path.exists(f'{reynolds_dir}/reynolds_2020_{str_file}.loom'):\n",
    "        print(idx, name, indv, site, facs, f1, f2)\n",
    "\n",
    "        os.system(f'cd {reynolds_dir} && aria2c -x 16 --file-allocation=none {f1} -d {reynolds_dir} -o {str_file}_S1_L001_R1_001.fastq.gz')\n",
    "        os.system(f'cd {reynolds_dir} && aria2c -x 16 --file-allocation=none {f2} -d {reynolds_dir} -o {str_file}_S1_L001_R2_001.fastq.gz')\n",
    "\n",
    "        os.system(f'cd {reynolds_dir} && loompy fromfq reynolds_2020_{str_file}.loom {str_file} {human_gencode_dir} metadata.tab {str_file}_S1_L001_R1_001.fastq.gz {str_file}_S1_L001_R2_001.fastq.gz ')\n",
    "    else:\n",
    "        try:\n",
    "            os.system(f'rm {reynolds_dir}/{str_file}_S1_L001_R1_001.fastq.gz')\n",
    "            os.system(f'rm {reynolds_dir}/{str_file}_S1_L001_R2_001.fastq.gz')\n",
    "        except:\n",
    "            print(f'reynolds_2020_{str_file}.loom EXISTS!')\n",
    "    "
   ]
  },
  {
   "cell_type": "markdown",
   "id": "6dfabf90-8b37-423a-8519-b0e863a7d8a3",
   "metadata": {},
   "source": [
    "## Popescu et al. 2019"
   ]
  },
  {
   "cell_type": "markdown",
   "id": "reasonable-conversation",
   "metadata": {},
   "source": [
    "### Direct h5ad download"
   ]
  },
  {
   "cell_type": "code",
   "execution_count": null,
   "id": "anonymous-enzyme",
   "metadata": {},
   "outputs": [],
   "source": [
    "!aria2c -x 16 https://zenodo.org/record/4536165/files/fetal_submission.h5ad?download=1 -d {popescu_dir} -o popescu_2019.h5ad"
   ]
  },
  {
   "cell_type": "markdown",
   "id": "worth-brief",
   "metadata": {},
   "source": [
    "### FASTQ processing"
   ]
  },
  {
   "cell_type": "code",
   "execution_count": null,
   "id": "illegal-congress",
   "metadata": {},
   "outputs": [],
   "source": [
    "!aria2c -x 16 https://www.ebi.ac.uk/arrayexpress/files/E-MTAB-7407/E-MTAB-7407.sdrf.txt -d {popescu_dir} -o acctable.txt"
   ]
  },
  {
   "cell_type": "code",
   "execution_count": null,
   "id": "divine-calgary",
   "metadata": {},
   "outputs": [],
   "source": [
    "popescu_metadata = pd.read_csv(popescu_dir + '/acctable.txt', sep='\\t')\n",
    "popescu_metadata_skin = popescu_metadata[popescu_metadata['Characteristics[organism part]'] == 'skin'].reset_index(drop=True)"
   ]
  },
  {
   "cell_type": "code",
   "execution_count": null,
   "id": "controversial-safety",
   "metadata": {},
   "outputs": [],
   "source": [
    "df = pd.DataFrame({'name': [f\"{i}_{popescu_metadata_skin['Source Name'].values[i]}_{popescu_metadata_skin['Characteristics[individual]'].values[i]}_{popescu_metadata_skin['Characteristics[facs sorting]'].values[i].replace('/', '-').replace(' ', '-')}\" for i in range(len(popescu_metadata_skin))], \n",
    "                   'technology': ['10xv2'] * len(popescu_metadata_skin), \n",
    "                   'targetnumcells': [1000] * len(popescu_metadata_skin)})\n",
    "\n",
    "df.to_csv(popescu_dir + '/metadata.tab', sep='\\t', index=None)"
   ]
  },
  {
   "cell_type": "code",
   "execution_count": null,
   "id": "personalized-tobago",
   "metadata": {},
   "outputs": [],
   "source": [
    "!cd  {popescu_dir} && cat metadata.tab"
   ]
  },
  {
   "cell_type": "code",
   "execution_count": null,
   "id": "cathedral-courage",
   "metadata": {},
   "outputs": [],
   "source": [
    "print(len(popescu_metadata_skin))\n",
    "for idx, name, indv, facs, f1, f2 in tqdm(zip(range(len(popescu_metadata_skin)), \n",
    "                                                    popescu_metadata_skin['Source Name'].values, \n",
    "                                    popescu_metadata_skin['Characteristics[individual]'].values, \n",
    "                                    popescu_metadata_skin['Characteristics[facs sorting]'].values,\n",
    "                                    popescu_metadata_skin['Comment[FASTQ_URI]'].values, \n",
    "                                    popescu_metadata_skin['Comment[FASTQ_URI].1'].values)):\n",
    "    \n",
    "    facs = facs.replace('/', '-').replace(' ', '-')\n",
    "    str_file = f'{idx}_{name}_{indv}_{facs}'\n",
    "    \n",
    "    if os.path.exists(f'{popescu_dir}/Popescu_2019_{str_file}.loom'):\n",
    "        print(f'Popescu_2019_{str_file}.loom EXISTS!')\n",
    "    else:\n",
    "        os.system(f'cd {popescu_dir} && aria2c -x 16 --file-allocation=none {f1} -d {popescu_dir} -o {str_file}_S1_L001_R1_001.fastq.gz')\n",
    "        os.system(f'cd {popescu_dir} && aria2c -x 16 --file-allocation=none {f2} -d {popescu_dir} -o {str_file}_S1_L001_R2_001.fastq.gz')\n",
    "\n",
    "        os.system(f'cd {popescu_dir} && loompy fromfq Popescu_2019_{str_file}.loom {str_file} {human_gencode_dir} metadata.tab {str_file}_S1_L001_R1_001.fastq.gz {str_file}_S1_L001_R2_001.fastq.gz ')\n",
    "\n",
    "        os.system(f'rm {popescu_dir}/{str_file}_S1_L001_R1_001.fastq.gz')\n",
    "        os.system(f'rm {popescu_dir}/{str_file}_S1_L001_R2_001.fastq.gz')\n",
    "    "
   ]
  },
  {
   "cell_type": "markdown",
   "id": "third-renewal",
   "metadata": {},
   "source": [
    "## McCarthy et al. 2020"
   ]
  },
  {
   "cell_type": "code",
   "execution_count": null,
   "id": "current-boating",
   "metadata": {},
   "outputs": [],
   "source": [
    "mccarthy_dir = data_dir + '/McCarthy_2020'\n",
    "os.makedirs(mccarthy_dir, exist_ok=True)\n",
    "os.makedirs(mccarthy_dir+'/outfiles', exist_ok=True)"
   ]
  },
  {
   "cell_type": "code",
   "execution_count": null,
   "id": "proud-basics",
   "metadata": {},
   "outputs": [],
   "source": [
    "df_meta = pd.read_csv(mccarthy_dir + '/E-MTAB-7167.sdrf.txt', sep='\\t')\n",
    "df_meta = df_meta.drop_duplicates('Comment[ENA_RUN]').set_index('Comment[ENA_RUN]')"
   ]
  },
  {
   "cell_type": "code",
   "execution_count": null,
   "id": "animated-daughter",
   "metadata": {},
   "outputs": [],
   "source": [
    "list_ftp = df_meta['Comment[FASTQ_URI]'].values"
   ]
  },
  {
   "cell_type": "code",
   "execution_count": null,
   "id": "stone-accessory",
   "metadata": {},
   "outputs": [],
   "source": [
    "list_ftp_names = [i for i in list_ftp if i.split('/')[-1] not in os.listdir(mccarthy_dir)]"
   ]
  },
  {
   "cell_type": "code",
   "execution_count": null,
   "id": "smoking-beaver",
   "metadata": {},
   "outputs": [],
   "source": [
    "for i in tqdm(list_ftp_names):\n",
    "    os.system(f'wget -P {mccarthy_dir} {i}')"
   ]
  },
  {
   "cell_type": "raw",
   "id": "essential-occupation",
   "metadata": {},
   "source": [
    "# conf.config\n",
    "\n",
    "params {\n",
    "  max_memory = 300.GB\n",
    "  max_cpus = 50\n",
    "  max_time = 240.h\n",
    "}"
   ]
  },
  {
   "cell_type": "code",
   "execution_count": null,
   "id": "comprehensive-tuesday",
   "metadata": {},
   "outputs": [],
   "source": [
    "all_ftp_names = list(dict.fromkeys([i.split('/')[-1] for i in list_ftp]))"
   ]
  },
  {
   "cell_type": "code",
   "execution_count": null,
   "id": "nutritional-graphic",
   "metadata": {},
   "outputs": [],
   "source": [
    "all_ftp_roots = list(dict.fromkeys([i.split('_')[0] for i in all_ftp_names if\n",
    "                 (i.split('_')[0] + '_1.fastq.gz' in all_ftp_names) & \n",
    "                 (i.split('_')[0] + '_2.fastq.gz' in all_ftp_names)]))"
   ]
  },
  {
   "cell_type": "code",
   "execution_count": null,
   "id": "armed-toddler",
   "metadata": {},
   "outputs": [],
   "source": [
    "for i in range(0, len(all_ftp_roots), 20):\n",
    "    i_end = min(i + 20, len(all_ftp_names))\n",
    "    \n",
    "    for root in all_ftp_roots[i:i+20]:\n",
    "        subprocess.run(f'mv {mccarthy_dir}/{root}_1.fastq.gz {mccarthy_dir}/{root}_1_{i//20}.fastq.gz'.split())\n",
    "        subprocess.run(f'mv {mccarthy_dir}/{root}_2.fastq.gz {mccarthy_dir}/{root}_2_{i//20}.fastq.gz'.split())"
   ]
  },
  {
   "cell_type": "code",
   "execution_count": null,
   "id": "opposed-advantage",
   "metadata": {},
   "outputs": [],
   "source": [
    "len(all_ftp_roots)"
   ]
  },
  {
   "cell_type": "code",
   "execution_count": null,
   "id": "favorite-manitoba",
   "metadata": {},
   "outputs": [],
   "source": [
    "for i in tqdm(range(200)):\n",
    "    i_div = i\n",
    "    \n",
    "    subprocess.run(f\"\"\"nextflow run nf-core/smartseq2 -profile docker --reads {mccarthy_dir}/ERR*_{i_div}_{{1,2}}.fastq.gz --genome GRCh38 -r dev --skip_tracer --skip_bracer -c {mccarthy_dir}/conf.config --outdir {mccarthy_dir}/results --skip_rsem --star_index {data_dir}/STAR_index_gencode --gtf {data_dir}/STAR_idx_gencode/genes.gtf\"\"\".split())\n",
    "    \n",
    "    # Copy all files\n",
    "    output, error = subprocess.Popen(\n",
    "        'find McCarthy_2020/results -wholename *.count.txt'.split(), \n",
    "        stdout=subprocess.PIPE).communicate()\n",
    "    \n",
    "    list_files = output.decode().split('\\n')[:-1]\n",
    "    \n",
    "    for file in list_files:\n",
    "        df = pd.read_csv(data_dir + '/' + file, sep='\\t', skiprows=1).iloc[:, [0, -1]]\n",
    "        df.to_csv(mccarthy_dir+'/outfiles_gencode/'+file.split('/')[-1], index=None, header=None, sep='\\t')\n",
    "    \n",
    "    # Remove directories\n",
    "    subprocess.run(f'rm -rf {data_dir}/work'.split())\n",
    "    subprocess.run(f'rm -rf {mccarthy_dir}/results'.split())"
   ]
  },
  {
   "cell_type": "code",
   "execution_count": null,
   "id": "surgical-washington",
   "metadata": {},
   "outputs": [],
   "source": [
    "df_full = None\n",
    "for file in tqdm(os.listdir(mccarthy_dir+'/outfiles_gencode/')):\n",
    "    df = pd.read_csv(mccarthy_dir+'/outfiles_gencode/'+file, header=None, sep='\\t', index_col=0)\n",
    "    if df_full is None:\n",
    "        df_full = pd.DataFrame(index=df.index)\n",
    "    \n",
    "    df_full[file] = df[1]"
   ]
  },
  {
   "cell_type": "code",
   "execution_count": null,
   "id": "municipal-listing",
   "metadata": {},
   "outputs": [],
   "source": [
    "adata_mccarthy = sc.AnnData(df_full,).transpose()\n",
    "adata_mccarthy.obs_names = [i.replace('.count.txt', '') for i in adata_mccarthy.obs_names]"
   ]
  },
  {
   "cell_type": "code",
   "execution_count": null,
   "id": "constant-georgia",
   "metadata": {},
   "outputs": [],
   "source": [
    "sc.pp.filter_genes(adata_mccarthy, min_cells=1)"
   ]
  },
  {
   "cell_type": "code",
   "execution_count": null,
   "id": "distributed-jimmy",
   "metadata": {},
   "outputs": [],
   "source": [
    "adata_mccarthy.write_loom(mccarthy_dir + '/mccarthy_2020.loom')"
   ]
  },
  {
   "cell_type": "markdown",
   "id": "b8cfb115-8597-448c-9a5a-63bb59bb75a9",
   "metadata": {},
   "source": [
    "## Gao et al. 2021"
   ]
  },
  {
   "cell_type": "code",
   "execution_count": null,
   "id": "98f483f5-3aa3-4d7a-8fec-ba9456a488e7",
   "metadata": {},
   "outputs": [],
   "source": [
    "gao_dir = data_dir + '/gao_2021'\n",
    "os.makedirs(gao_dir, exist_ok=True)"
   ]
  },
  {
   "cell_type": "markdown",
   "id": "a23fcb19-8fc9-4d22-a21f-1bdd4f1db716",
   "metadata": {},
   "source": [
    "### Direct h5ad download"
   ]
  },
  {
   "cell_type": "code",
   "execution_count": null,
   "id": "751d7a3b-c3cf-4cb6-ae29-eeca7d941a24",
   "metadata": {},
   "outputs": [],
   "source": [
    "!aria2c -x 16 https://ftp.ncbi.nlm.nih.gov/geo/series/GSE162nnn/GSE162183/suppl/GSE162183%5FRaw%5Fgene%5Fcounts%5Fmatrix%5FLoomFile%2Eloom%2Egz -d {gao_dir} -o gao_2021.loom.gz"
   ]
  },
  {
   "cell_type": "code",
   "execution_count": null,
   "id": "e0fe7d4a-5d71-49de-b938-d02228601119",
   "metadata": {},
   "outputs": [],
   "source": [
    "!gunzip {gao_dir}/gao_2021.loom.gz"
   ]
  }
 ],
 "metadata": {
  "kernelspec": {
   "display_name": "Python [conda env:alex-base] *",
   "language": "python",
   "name": "conda-env-alex-base-py"
  },
  "language_info": {
   "codemirror_mode": {
    "name": "ipython",
    "version": 3
   },
   "file_extension": ".py",
   "mimetype": "text/x-python",
   "name": "python",
   "nbconvert_exporter": "python",
   "pygments_lexer": "ipython3",
   "version": "3.8.0"
  }
 },
 "nbformat": 4,
 "nbformat_minor": 5
}

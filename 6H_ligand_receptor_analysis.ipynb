{
 "cells": [
  {
   "cell_type": "markdown",
   "metadata": {},
   "source": [
    "# Ligand receptor analysis\n",
    "\n",
    "In this analysis we are going to use CellPhoneDB (>= v3) to analyse interactions between (1) fibroblas subpopulations and (2) fibroblast subpopulations with the rest of populations. To save time, we are going to do (2) and, then, extract (1) from it. We are goin to run the analysis on each dataset, and then do a general combination of interactions to get a general frame of interactions that occur across datasets.\n",
    "\n",
    "**YOU NEED TO RUN NOTEBOOH 4H FIRST**"
   ]
  },
  {
   "cell_type": "markdown",
   "metadata": {},
   "source": [
    "## imports"
   ]
  },
  {
   "cell_type": "code",
   "execution_count": null,
   "metadata": {
    "tags": []
   },
   "outputs": [],
   "source": [
    "%load_ext autoreload\n",
    "%autoreload 2"
   ]
  },
  {
   "cell_type": "code",
   "execution_count": null,
   "metadata": {
    "tags": []
   },
   "outputs": [],
   "source": [
    "import scanpy as sc\n",
    "import scanpy.external as sce\n",
    "import pandas as pd\n",
    "import numpy as np\n",
    "import os\n",
    "import triku as tk\n",
    "import seaborn as sns\n",
    "import matplotlib.pyplot as plt\n",
    "import matplotlib as mpl\n",
    "from tqdm.notebook import tqdm\n",
    "import scipy.sparse as spr\n",
    "import matplotlib.cm as cm\n",
    "import networkx as nx"
   ]
  },
  {
   "cell_type": "code",
   "execution_count": null,
   "metadata": {
    "tags": []
   },
   "outputs": [],
   "source": [
    "# local imports and imports from other notebooks\n",
    "from cellassign import assign_cats\n",
    "from fb_functions import make_gene_scoring_with_expr, plot_score_graph, plot_UMAPS_gene, plot_adata_cluster_properties\n",
    "%store -r dict_colors\n",
    "%store -r seed\n",
    "%store -r magma\n",
    "%store -r data_dir"
   ]
  },
  {
   "cell_type": "code",
   "execution_count": null,
   "metadata": {
    "tags": []
   },
   "outputs": [],
   "source": [
    "%store -r dict_make_gene_scoring_robust\n",
    "%store -r dict_make_gene_scoring_axis_robust"
   ]
  },
  {
   "cell_type": "code",
   "execution_count": null,
   "metadata": {
    "tags": []
   },
   "outputs": [],
   "source": [
    "mpl.rcParams['figure.dpi'] = 120\n",
    "pd.options.display.float_format = \"{:,.2f}\".format"
   ]
  },
  {
   "cell_type": "code",
   "execution_count": null,
   "metadata": {},
   "outputs": [],
   "source": []
  },
  {
   "cell_type": "code",
   "execution_count": null,
   "metadata": {
    "tags": []
   },
   "outputs": [],
   "source": [
    "def join_fbs_adatas(adata_full, adata_fb):\n",
    "    cell_types = adata_full.obs['assigned_cats'].copy().astype(str)\n",
    "    intersect_idx = np.intersect1d(adata_fb.obs_names, adata_full.obs_names)\n",
    "    cell_types[intersect_idx] = [f'fibro_{i}' for i in adata_fb[intersect_idx].obs['cluster']]\n",
    "    adata_full.obs['full_cell_type'] = cell_types.astype('category')"
   ]
  },
  {
   "cell_type": "markdown",
   "metadata": {},
   "source": [
    "## Anndata loading"
   ]
  },
  {
   "cell_type": "code",
   "execution_count": null,
   "metadata": {
    "tags": []
   },
   "outputs": [],
   "source": [
    "list_adatas_fb, list_adatas_full = [], []"
   ]
  },
  {
   "cell_type": "code",
   "execution_count": null,
   "metadata": {
    "tags": []
   },
   "outputs": [],
   "source": [
    "ahlers_2022_dir = data_dir + '/ahlers_2022'\n",
    "ahlers_2022_young_fb = sc.read(ahlers_2022_dir + '/ahlers_2022_young_fb_robust.h5')\n",
    "ahlers_2022_young = sc.read(ahlers_2022_dir + '/ahlers_2022_young_processed.h5')\n",
    "join_fbs_adatas(ahlers_2022_young, ahlers_2022_young_fb)\n",
    "list_adatas_fb.append(ahlers_2022_young_fb); list_adatas_full.append(ahlers_2022_young)"
   ]
  },
  {
   "cell_type": "code",
   "execution_count": null,
   "metadata": {
    "tags": []
   },
   "outputs": [],
   "source": [
    "boothby_2021_dir = data_dir + '/boothby_2021'\n",
    "boothby_2021_ctrl_fb = sc.read(boothby_2021_dir + '/boothby_2021_ctrl_fb_robust.h5')\n",
    "boothby_2021_ctrl = sc.read(boothby_2021_dir + '/boothby_2021_ctrl_processed.h5')\n",
    "join_fbs_adatas(boothby_2021_ctrl, boothby_2021_ctrl_fb)\n",
    "list_adatas_fb.append(boothby_2021_ctrl_fb); list_adatas_full.append(boothby_2021_ctrl)"
   ]
  },
  {
   "cell_type": "code",
   "execution_count": null,
   "metadata": {
    "tags": []
   },
   "outputs": [],
   "source": [
    "deng_2021_dir = data_dir + '/deng_2021'\n",
    "deng_2021_scar_fb = sc.read(deng_2021_dir + '/deng_2021_scar_fb_robust.h5')\n",
    "deng_2021_scar = sc.read(deng_2021_dir + '/deng_2021_scar_processed.h5')\n",
    "join_fbs_adatas(deng_2021_scar, deng_2021_scar_fb)\n",
    "list_adatas_fb.append(deng_2021_scar_fb); list_adatas_full.append(deng_2021_scar)"
   ]
  },
  {
   "cell_type": "code",
   "execution_count": null,
   "metadata": {
    "tags": []
   },
   "outputs": [],
   "source": [
    "gao_2021_dir = data_dir + '/gao_2021'\n",
    "gao_2021_ctrl_fb = sc.read(gao_2021_dir + '/gao_2021_ctrl_fb_robust.h5')\n",
    "gao_2021_ctrl = sc.read(gao_2021_dir + '/gao_2021_ctrl_processed.h5')\n",
    "join_fbs_adatas(gao_2021_ctrl, gao_2021_ctrl_fb)\n",
    "list_adatas_fb.append(gao_2021_ctrl_fb); list_adatas_full.append(gao_2021_ctrl)"
   ]
  },
  {
   "cell_type": "code",
   "execution_count": null,
   "metadata": {
    "tags": []
   },
   "outputs": [],
   "source": [
    "gaydosik_2020_dir = data_dir + '/gaydosik_2020'\n",
    "gaydosik_2020_ctrl_fb = sc.read(gaydosik_2020_dir + '/gaydosik_2020_ctrl_fb_robust.h5')\n",
    "gaydosik_2020_ctrl = sc.read(gaydosik_2020_dir + '/gaydosik_2020_ctrl_processed.h5')\n",
    "join_fbs_adatas(gaydosik_2020_ctrl, gaydosik_2020_ctrl_fb)\n",
    "list_adatas_fb.append(gaydosik_2020_ctrl_fb); list_adatas_full.append(gaydosik_2020_ctrl)"
   ]
  },
  {
   "cell_type": "code",
   "execution_count": null,
   "metadata": {
    "tags": []
   },
   "outputs": [],
   "source": [
    "gur_2022_dir = data_dir + '/gur_2022'\n",
    "gur_2022_ctrl_fb = sc.read(gur_2022_dir + '/gur_2022_ctrl_fb_robust.h5')\n",
    "gur_2022_ctrl = sc.read(gur_2022_dir + '/gur_2022_ctrl_processed.h5')\n",
    "join_fbs_adatas(gur_2022_ctrl, gur_2022_ctrl_fb)\n",
    "list_adatas_fb.append(gur_2022_ctrl_fb); list_adatas_full.append(gur_2022_ctrl)"
   ]
  },
  {
   "cell_type": "code",
   "execution_count": null,
   "metadata": {
    "tags": []
   },
   "outputs": [],
   "source": [
    "he_2020_dir = data_dir + '/He_2020'\n",
    "he_2020_ctrl_fb = sc.read(he_2020_dir + '/he_2020_ctrl_fb_robust.h5')\n",
    "he_2020_ctrl = sc.read(he_2020_dir + '/he_2020_ctrl_processed.h5')\n",
    "join_fbs_adatas(he_2020_ctrl, he_2020_ctrl_fb)\n",
    "list_adatas_fb.append(he_2020_ctrl_fb); list_adatas_full.append(he_2020_ctrl)"
   ]
  },
  {
   "cell_type": "code",
   "execution_count": null,
   "metadata": {
    "tags": []
   },
   "outputs": [],
   "source": [
    "hughes_2020_dir = data_dir + '/hughes_2020'\n",
    "hughes_2020_ctrl_fb = sc.read(hughes_2020_dir + '/hughes_2020_ctrl_fb_robust.h5')\n",
    "hughes_2020_ctrl = sc.read(hughes_2020_dir + '/hughes_2020_ctrl_processed.h5')\n",
    "join_fbs_adatas(hughes_2020_ctrl, hughes_2020_ctrl_fb)\n",
    "list_adatas_fb.append(hughes_2020_ctrl_fb); list_adatas_full.append(hughes_2020_ctrl)"
   ]
  },
  {
   "cell_type": "code",
   "execution_count": null,
   "metadata": {
    "tags": []
   },
   "outputs": [],
   "source": [
    "kim_2020_dir = data_dir + '/Kim_2020'\n",
    "kim_2020_ctrl_fb = sc.read(kim_2020_dir + '/kim_2020_ctrl_fb_robust.h5')\n",
    "kim_2020_ctrl = sc.read(kim_2020_dir + '/kim_2020_ctrl_processed.h5')\n",
    "join_fbs_adatas(kim_2020_ctrl, kim_2020_ctrl_fb)\n",
    "list_adatas_fb.append(kim_2020_ctrl_fb); list_adatas_full.append(kim_2020_ctrl)"
   ]
  },
  {
   "cell_type": "code",
   "execution_count": null,
   "metadata": {
    "tags": []
   },
   "outputs": [],
   "source": [
    "liu_2021_dir = data_dir + '/liu_2021'\n",
    "liu_2021_ctrl_fb = sc.read(liu_2021_dir + '/liu_2021_ctrl_fb_robust.h5')\n",
    "liu_2021_ctrl = sc.read(liu_2021_dir + '/liu_2021_ctrl_processed.h5')\n",
    "join_fbs_adatas(liu_2021_ctrl, liu_2021_ctrl_fb)\n",
    "list_adatas_fb.append(liu_2021_ctrl_fb); list_adatas_full.append(liu_2021_ctrl)"
   ]
  },
  {
   "cell_type": "code",
   "execution_count": null,
   "metadata": {
    "tags": []
   },
   "outputs": [],
   "source": [
    "mariottoni_2021_dir = data_dir + '/mariottoni_2021'\n",
    "mariottoni_2021_ctrl_fb = sc.read(mariottoni_2021_dir + '/mariottoni_2021_ctrl_fb_robust.h5')\n",
    "mariottoni_2021_ctrl = sc.read(mariottoni_2021_dir + '/mariottoni_2021_ctrl_processed.h5')\n",
    "join_fbs_adatas(mariottoni_2021_ctrl, mariottoni_2021_ctrl_fb)\n",
    "list_adatas_fb.append(mariottoni_2021_ctrl_fb); list_adatas_full.append(mariottoni_2021_ctrl)"
   ]
  },
  {
   "cell_type": "code",
   "execution_count": null,
   "metadata": {
    "tags": []
   },
   "outputs": [],
   "source": [
    "mirizio_2020_dir = data_dir + '/mirizio_2020'\n",
    "mirizio_2020_scl_fb = sc.read(mirizio_2020_dir + '/mirizio_2020_scl_fb_robust.h5')\n",
    "mirizio_2020_scl = sc.read(mirizio_2020_dir + '/mirizio_2020_scl_processed.h5')\n",
    "join_fbs_adatas(mirizio_2020_scl, mirizio_2020_scl_fb)\n",
    "list_adatas_fb.append(mirizio_2020_scl_fb); list_adatas_full.append(mirizio_2020_scl)"
   ]
  },
  {
   "cell_type": "code",
   "execution_count": null,
   "metadata": {
    "tags": []
   },
   "outputs": [],
   "source": [
    "reynolds_2021_dir = data_dir + '/reynolds_2021'\n",
    "reynolds_2021_ctrl_fb = sc.read(reynolds_2021_dir + '/reynolds_2021_ctrl_fb_robust.h5')\n",
    "# Dataset with the rest of cells is not available. It can be used but since the dataset doesn't have good quality, is not fully relevant.\n",
    "reynolds_2021_ctrl_fb.obs['full_cell_type'] = [f'fibro_{i}' for i in reynolds_2021_ctrl_fb.obs['cluster']]\n",
    "reynolds_2021_ctrl_fb.obs['full_cell_type'] = reynolds_2021_ctrl_fb.obs['full_cell_type'].astype('category')\n",
    "list_adatas_fb.append(reynolds_2021_ctrl_fb); list_adatas_full.append(reynolds_2021_ctrl_fb)"
   ]
  },
  {
   "cell_type": "code",
   "execution_count": null,
   "metadata": {
    "tags": []
   },
   "outputs": [],
   "source": [
    "rindler_2021_dir = data_dir + '/rindler_2021'\n",
    "rindler_2021_ctrl_fb = sc.read(rindler_2021_dir + '/rindler_2021_ctrl_fb_robust.h5')\n",
    "rindler_2021_ctrl = sc.read(rindler_2021_dir + '/rindler_2021_ctrl_processed.h5')\n",
    "join_fbs_adatas(rindler_2021_ctrl, rindler_2021_ctrl_fb)\n",
    "list_adatas_fb.append(rindler_2021_ctrl_fb); list_adatas_full.append(rindler_2021_ctrl)"
   ]
  },
  {
   "cell_type": "code",
   "execution_count": null,
   "metadata": {
    "tags": []
   },
   "outputs": [],
   "source": [
    "sole_2020_dir = data_dir + '/Sole-Boldo_2020'\n",
    "sole_2020_young_fb = sc.read(sole_2020_dir + '/sole_2020_young_fb_robust.h5')\n",
    "sole_2020_young = sc.read(sole_2020_dir + '/sole_2020_young_processed.h5')\n",
    "join_fbs_adatas(sole_2020_young, sole_2020_young_fb)\n",
    "list_adatas_fb.append(sole_2020_young_fb); list_adatas_full.append(sole_2020_young)"
   ]
  },
  {
   "cell_type": "code",
   "execution_count": null,
   "metadata": {
    "tags": []
   },
   "outputs": [],
   "source": [
    "tabib_2018_dir = data_dir + '/Tabib_2018'\n",
    "tabib_2018_ctrl_fb = sc.read(tabib_2018_dir + '/tabib_2018_ctrl_fb_robust.h5')\n",
    "tabib_2018_ctrl = sc.read(tabib_2018_dir + '/tabib_2018_ctrl_processed.h5')\n",
    "join_fbs_adatas(tabib_2018_ctrl, tabib_2018_ctrl_fb)\n",
    "list_adatas_fb.append(tabib_2018_ctrl_fb); list_adatas_full.append(tabib_2018_ctrl)"
   ]
  },
  {
   "cell_type": "code",
   "execution_count": null,
   "metadata": {
    "tags": []
   },
   "outputs": [],
   "source": [
    "tabib_2021_dir = data_dir + '/Tabib_2021'\n",
    "tabib_2021_ctrl_fb = sc.read(tabib_2021_dir + '/tabib_2021_ctrl_fb_robust.h5')\n",
    "tabib_2021_ctrl = sc.read(tabib_2021_dir + '/tabib_2021_ctrl_processed.h5')\n",
    "join_fbs_adatas(tabib_2021_ctrl, tabib_2021_ctrl_fb)\n",
    "list_adatas_fb.append(tabib_2021_ctrl_fb); list_adatas_full.append(tabib_2021_ctrl)"
   ]
  },
  {
   "cell_type": "code",
   "execution_count": null,
   "metadata": {
    "tags": []
   },
   "outputs": [],
   "source": [
    "theo_2020_dir = data_dir + '/Theocharidis_2020/'\n",
    "theo_2020_ctrl_dm_fb = sc.read(theo_2020_dir + '/theo_2020_ctrl_dm_fb_robust.h5')\n",
    "theo_2020_ctrl_dm = sc.read(theo_2020_dir + '/theo_2020_ctrl_dm_processed.h5')\n",
    "join_fbs_adatas(theo_2020_ctrl_dm, theo_2020_ctrl_dm_fb)\n",
    "list_adatas_fb.append(theo_2020_ctrl_dm_fb); list_adatas_full.append(theo_2020_ctrl_dm)"
   ]
  },
  {
   "cell_type": "code",
   "execution_count": null,
   "metadata": {
    "tags": []
   },
   "outputs": [],
   "source": [
    "theo_2021_dir = data_dir + '/Theocharidis_2021/'\n",
    "theo_2021_ctrl_fb = sc.read(theo_2021_dir + '/theo_2021_ctrl_fb_robust.h5')\n",
    "theo_2021_ctrl = sc.read(theo_2021_dir + '/theo_2021_ctrl_processed.h5')\n",
    "join_fbs_adatas(theo_2021_ctrl, theo_2021_ctrl_fb)\n",
    "list_adatas_fb.append(theo_2021_ctrl_fb); list_adatas_full.append(theo_2021_ctrl)"
   ]
  },
  {
   "cell_type": "code",
   "execution_count": null,
   "metadata": {
    "tags": []
   },
   "outputs": [],
   "source": [
    "vors_2020_dir = data_dir + '/Vorstandlechner_2020'\n",
    "vors_2020_ctrl_fb = sc.read(vors_2020_dir + '/vors_2020_ctrl_fb_robust.h5')\n",
    "vors_2020_ctrl = sc.read(vors_2020_dir + '/vors_2020_ctrl_processed.h5')\n",
    "join_fbs_adatas(vors_2020_ctrl, vors_2020_ctrl_fb)\n",
    "list_adatas_fb.append(vors_2020_ctrl_fb); list_adatas_full.append(vors_2020_ctrl)"
   ]
  },
  {
   "cell_type": "code",
   "execution_count": null,
   "metadata": {
    "tags": []
   },
   "outputs": [],
   "source": [
    "vors_2021_dir = data_dir + '/Vorstandlechner_2021'\n",
    "vors_2021_ctrl_fb = sc.read(vors_2021_dir + '/vors_2021_ctrl_fb_robust.h5')\n",
    "vors_2021_ctrl = sc.read(vors_2021_dir + '/vors_2021_ctrl_processed.h5')\n",
    "join_fbs_adatas(vors_2021_ctrl, vors_2021_ctrl_fb)\n",
    "list_adatas_fb.append(vors_2021_ctrl_fb); list_adatas_full.append(vors_2021_ctrl)"
   ]
  },
  {
   "cell_type": "code",
   "execution_count": null,
   "metadata": {
    "tags": []
   },
   "outputs": [],
   "source": [
    "xu_2021_dir = data_dir + '/xu_2021'\n",
    "xu_2021_ctrl_fb = sc.read(xu_2021_dir + '/xu_2021_ctrl_fb_robust.h5')\n",
    "xu_2021_ctrl = sc.read(xu_2021_dir + '/xu_2021_ctrl_processed.h5')\n",
    "join_fbs_adatas(xu_2021_ctrl, xu_2021_ctrl_fb)\n",
    "list_adatas_fb.append(xu_2021_ctrl_fb); list_adatas_full.append(xu_2021_ctrl)"
   ]
  },
  {
   "cell_type": "code",
   "execution_count": null,
   "metadata": {
    "tags": []
   },
   "outputs": [],
   "source": [
    "list_names = [str(adata.obs['Author'].iloc[0]) + ' ' + str(int(adata.obs['Year'].iloc[0])) for adata in list_adatas_fb]"
   ]
  },
  {
   "cell_type": "markdown",
   "metadata": {},
   "source": [
    "# Creating a custom db\n",
    "We are going to create a custom database with additional LR interactions from other sources."
   ]
  },
  {
   "cell_type": "markdown",
   "metadata": {},
   "source": [
    "# Running CellPhoneDB on each dataset"
   ]
  },
  {
   "cell_type": "code",
   "execution_count": null,
   "metadata": {
    "tags": []
   },
   "outputs": [],
   "source": [
    "cellphone_dir = f'results/CellPhoneDB/'\n",
    "os.makedirs(cellphone_dir, exist_ok=True)"
   ]
  },
  {
   "cell_type": "code",
   "execution_count": null,
   "metadata": {
    "tags": []
   },
   "outputs": [],
   "source": [
    "for adata, name in zip(list_adatas_full, list_names):\n",
    "    print(name)\n",
    "    adata = ahlers_2022_young\n",
    "    name_str = name.lower().replace(' ', '_')\n",
    "    os.makedirs(cellphone_dir + name_str, exist_ok=True)\n",
    "\n",
    "    df_meta = pd.DataFrame(data={'Cell':list(adata.obs.index), 'cell_type':[ i for i in adata.obs['full_cell_type']]})\n",
    "    df_meta.set_index('Cell', inplace=True)\n",
    "    df_meta.to_csv(f'{cellphone_dir}/{name_str}/meta.tsv', sep = '\\t')\n",
    "    \n",
    "    df_counts = pd.DataFrame(adata.X.toarray()).transpose()\n",
    "    df_counts.index = adata.var_names\n",
    "    df_counts.columns = adata.obs_names\n",
    "\n",
    "    df_counts.to_csv(f'{cellphone_dir}/{name_str}/{name_str}.txt', sep='\\t')\n",
    "    \n",
    "    !cellphonedb method statistical_analysis  \\\n",
    "    {cellphone_dir}/{name_str}/meta.tsv  \\\n",
    "    {cellphone_dir}/{name_str}/{name_str}.txt \\\n",
    "    --threshold 0.1 --threads 40 \\\n",
    "    --output-path={cellphone_dir}{name_str} --counts-data hgnc_symbol"
   ]
  },
  {
   "cell_type": "code",
   "execution_count": null,
   "metadata": {
    "tags": []
   },
   "outputs": [],
   "source": []
  }
 ],
 "metadata": {
  "kernelspec": {
   "display_name": "Python [conda env:triku-notebooks]",
   "language": "python",
   "name": "conda-env-triku-notebooks-py"
  },
  "language_info": {
   "codemirror_mode": {
    "name": "ipython",
    "version": 3
   },
   "file_extension": ".py",
   "mimetype": "text/x-python",
   "name": "python",
   "nbconvert_exporter": "python",
   "pygments_lexer": "ipython3",
   "version": "3.8.0"
  },
  "toc": {
   "base_numbering": 1,
   "nav_menu": {},
   "number_sections": true,
   "sideBar": true,
   "skip_h1_title": false,
   "title_cell": "Table of Contents",
   "title_sidebar": "Contents",
   "toc_cell": false,
   "toc_position": {
    "height": "calc(100% - 180px)",
    "left": "10px",
    "top": "150px",
    "width": "384px"
   },
   "toc_section_display": true,
   "toc_window_display": true
  },
  "varInspector": {
   "cols": {
    "lenName": 16,
    "lenType": 16,
    "lenVar": 40
   },
   "kernels_config": {
    "python": {
     "delete_cmd_postfix": "",
     "delete_cmd_prefix": "del ",
     "library": "var_list.py",
     "varRefreshCmd": "print(var_dic_list())"
    },
    "r": {
     "delete_cmd_postfix": ") ",
     "delete_cmd_prefix": "rm(",
     "library": "var_list.r",
     "varRefreshCmd": "cat(var_dic_list()) "
    }
   },
   "types_to_exclude": [
    "module",
    "function",
    "builtin_function_or_method",
    "instance",
    "_Feature"
   ],
   "window_display": false
  }
 },
 "nbformat": 4,
 "nbformat_minor": 4
}
